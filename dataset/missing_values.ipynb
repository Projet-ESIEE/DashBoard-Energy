{
 "cells": [
  {
   "cell_type": "code",
   "execution_count": 2,
   "id": "initial_id",
   "metadata": {
    "collapsed": true,
    "ExecuteTime": {
     "end_time": "2023-11-05T15:52:26.292574300Z",
     "start_time": "2023-11-05T15:52:25.685821Z"
    }
   },
   "outputs": [],
   "source": [
    "import pandas as pd\n",
    "import os\n",
    "import numpy as np\n",
    "import plotly.express as px\n",
    "import plotly.graph_objects as go\n",
    "from plotly.subplots import make_subplots"
   ]
  },
  {
   "cell_type": "code",
   "execution_count": 3,
   "outputs": [],
   "source": [
    "path_energy = os.path.join(\"energy-cleaned-dataset.csv\")\n",
    "df_energy = pd.read_csv(path_energy)\n",
    "THEME=\"plotly-dark\""
   ],
   "metadata": {
    "collapsed": false,
    "ExecuteTime": {
     "end_time": "2023-11-05T15:52:26.312994300Z",
     "start_time": "2023-11-05T15:52:26.293572700Z"
    }
   },
   "id": "83cf8915285fc569"
  },
  {
   "cell_type": "code",
   "execution_count": 4,
   "outputs": [],
   "source": [
    "def df_energy_query(area_type: str, area_name: str) -> pd.DataFrame:\n",
    "    \"\"\"\n",
    "    The function df_energy_query return a filtered dataframe of df_energy.\n",
    "    It useful because the computation is done only one time.\n",
    "    :param area_type:\n",
    "    :param area_name:\n",
    "    :return: a pandas dataframe which is subpart of the df_energy\n",
    "    \"\"\"\n",
    "    return df_energy.query(f\"{area_type} == '{area_name}'\")"
   ],
   "metadata": {
    "collapsed": false,
    "ExecuteTime": {
     "end_time": "2023-11-05T15:52:26.326269800Z",
     "start_time": "2023-11-05T15:52:26.313996300Z"
    }
   },
   "id": "7ef9cd04c5942f4a"
  },
  {
   "cell_type": "code",
   "execution_count": 30,
   "outputs": [
    {
     "data": {
      "application/vnd.plotly.v1+json": {
       "data": [
        {
         "hovertemplate": "variable=CO2 Emissions (kt by country)<br>Year=%{x}<br>value=%{y}<extra></extra>",
         "legendgroup": "CO2 Emissions (kt by country)",
         "line": {
          "color": "#636efa",
          "dash": "solid"
         },
         "marker": {
          "symbol": "circle"
         },
         "mode": "lines+markers",
         "name": "CO2 Emissions",
         "orientation": "v",
         "showlegend": true,
         "x": [
          2000,
          2001,
          2002,
          2003,
          2004,
          2005,
          2006,
          2007,
          2008,
          2009,
          2010,
          2011,
          2012,
          2013,
          2014,
          2015,
          2016,
          2017,
          2018,
          2019,
          2020
         ],
         "xaxis": "x",
         "y": [
          0.0,
          106.06548299900808,
          121.52804652919629,
          279.8337532056257,
          299.08882562878915,
          288.0365751124752,
          336.5125731243842,
          320.5801686515959,
          268.3292944941017,
          -41.59314457317315,
          128.50546793346604,
          65.22520342304998,
          -67.72861893460075,
          -148.7950417820455,
          -293.39562866017206,
          -331.5575825789898,
          -350.280967615746,
          -293.60204831387955,
          -313.3950159671699,
          -430.0949704554987,
          0.0
         ],
         "yaxis": "y",
         "type": "scatter"
        },
        {
         "hovertemplate": "variable=Electricity from Fossil Fuels (TWh)<br>Year=%{x}<br>value=%{y}<extra></extra>",
         "legendgroup": "Electricity from Fossil Fuels (TWh)",
         "line": {
          "color": "#EF553B",
          "dash": "solid"
         },
         "marker": {
          "symbol": "circle"
         },
         "mode": "lines+markers",
         "name": "Electricity Fossil",
         "orientation": "v",
         "showlegend": true,
         "x": [
          2000,
          2001,
          2002,
          2003,
          2004,
          2005,
          2006,
          2007,
          2008,
          2009,
          2010,
          2011,
          2012,
          2013,
          2014,
          2015,
          2016,
          2017,
          2018,
          2019,
          2020
         ],
         "xaxis": "x",
         "y": [
          0.0,
          362.61957883069795,
          1218.855367531556,
          1487.0565862715926,
          1610.3791008017324,
          1513.1311735482611,
          1757.0679162486806,
          1772.955057557831,
          1437.697050194832,
          3187.725811414025,
          3775.7658896806493,
          2549.735478851079,
          2510.9186428305748,
          1920.8878088293231,
          1667.7408996626245,
          1460.5129580898536,
          1291.6363294315918,
          1307.673287207863,
          1271.112788539212,
          1081.7654872430792,
          669.99311146006
         ],
         "yaxis": "y",
         "type": "scatter"
        },
        {
         "hovertemplate": "variable=Electricity from Nuclear (TWh)<br>Year=%{x}<br>value=%{y}<extra></extra>",
         "legendgroup": "Electricity from Nuclear (TWh)",
         "line": {
          "color": "#00cc96",
          "dash": "solid"
         },
         "marker": {
          "symbol": "circle"
         },
         "mode": "lines+markers",
         "name": "Electricity Nuclear",
         "orientation": "v",
         "showlegend": true,
         "x": [
          2000,
          2001,
          2002,
          2003,
          2004,
          2005,
          2006,
          2007,
          2008,
          2009,
          2010,
          2011,
          2012,
          2013,
          2014,
          2015,
          2016,
          2017,
          2018,
          2019,
          2020
         ],
         "xaxis": "x",
         "y": [
          0.0,
          99.8899988115678,
          168.02626455838046,
          190.49317057205684,
          218.1511108105645,
          164.1207509531244,
          143.44455642707737,
          70.18946786734335,
          146.03507020705092,
          119.28765515052527,
          28.589968734195388,
          54.65450696521194,
          24.907075613664706,
          -14.450387001426792,
          33.635005845151596,
          -57.20700082612455,
          -60.725535856455906,
          -33.756603265954915,
          -43.76412110696907,
          -0.14665327157647567,
          -141.1950922178963
         ],
         "yaxis": "y",
         "type": "scatter"
        },
        {
         "hovertemplate": "variable=Electricity from Renewables (TWh)<br>Year=%{x}<br>value=%{y}<extra></extra>",
         "legendgroup": "Electricity from Renewables (TWh)",
         "line": {
          "color": "#ab63fa",
          "dash": "solid"
         },
         "marker": {
          "symbol": "circle"
         },
         "mode": "lines+markers",
         "name": "Electricity Renewables",
         "orientation": "v",
         "showlegend": true,
         "x": [
          2000,
          2001,
          2002,
          2003,
          2004,
          2005,
          2006,
          2007,
          2008,
          2009,
          2010,
          2011,
          2012,
          2013,
          2014,
          2015,
          2016,
          2017,
          2018,
          2019,
          2020
         ],
         "xaxis": "x",
         "y": [
          0.0,
          125.0186269536616,
          173.1620682341162,
          492.9993125874679,
          1382.4842845671058,
          2616.607300610336,
          3042.0901355547267,
          3326.3315633460907,
          4857.356113971308,
          9165.241268525653,
          15432.27955762288,
          16536.89956959778,
          20294.728916997738,
          19638.75232711809,
          21593.07936351882,
          24222.390828384105,
          25226.65142268053,
          29711.5145495225,
          32238.629027261923,
          35309.321500177284,
          46553.68047506999
         ],
         "yaxis": "y",
         "type": "scatter"
        },
        {
         "hovertemplate": "variable=GDP Growth<br>Year=%{x}<br>value=%{y}<extra></extra>",
         "legendgroup": "GDP Growth",
         "line": {
          "color": "#FFA15A",
          "dash": "solid"
         },
         "marker": {
          "symbol": "circle"
         },
         "mode": "lines+markers",
         "name": "GDP Growth",
         "orientation": "v",
         "showlegend": true,
         "x": [
          2000,
          2001,
          2002,
          2003,
          2004,
          2005,
          2006,
          2007,
          2008,
          2009,
          2010,
          2011,
          2012,
          2013,
          2014,
          2015,
          2016,
          2017,
          2018,
          2019,
          2020
         ],
         "xaxis": "x",
         "y": [
          0.0,
          -1097.1927473626222,
          -1181.414241993621,
          -1123.069296292912,
          159.37015689072535,
          -606.1495997525196,
          330.0248819389816,
          398.721620899223,
          -1781.3213686562947,
          -7280.80389552089,
          -2406.6459021451687,
          -2159.189142015274,
          -3490.4965068059737,
          -2720.3872711833274,
          -2268.0650401412145,
          -1714.987470497519,
          -1543.1581534959842,
          -1018.9193490823183,
          -1144.521829823107,
          -1411.7684689643263,
          -7128.965611497639
         ],
         "yaxis": "y",
         "type": "scatter"
        },
        {
         "hovertemplate": "variable=GDP per Capita<br>Year=%{x}<br>value=%{y}<extra></extra>",
         "legendgroup": "GDP per Capita",
         "line": {
          "color": "#19d3f3",
          "dash": "solid"
         },
         "marker": {
          "symbol": "circle"
         },
         "mode": "lines+markers",
         "name": "GDP per Capita",
         "orientation": "v",
         "showlegend": true,
         "x": [
          2000,
          2001,
          2002,
          2003,
          2004,
          2005,
          2006,
          2007,
          2008,
          2009,
          2010,
          2011,
          2012,
          2013,
          2014,
          2015,
          2016,
          2017,
          2018,
          2019,
          2020
         ],
         "xaxis": "x",
         "y": [
          0.0,
          126.16775166740136,
          536.3036104517748,
          1454.5159874131675,
          2350.048021763392,
          2983.725899900031,
          3722.0293955269617,
          5518.679861739599,
          6894.958703801082,
          5428.282032880644,
          5459.9578995372085,
          6437.41053901326,
          6025.571940396404,
          6649.24102640179,
          6781.534041175557,
          5335.19943807703,
          5542.959358203488,
          6370.479923719882,
          7478.079548277519,
          7611.326312506213,
          7423.228292361486
         ],
         "yaxis": "y",
         "type": "scatter"
        },
        {
         "hovertemplate": "variable=Human Development Index<br>Year=%{x}<br>value=%{y}<extra></extra>",
         "legendgroup": "Human Development Index",
         "line": {
          "color": "#FF6692",
          "dash": "solid"
         },
         "marker": {
          "symbol": "circle"
         },
         "mode": "lines+markers",
         "name": "HDI",
         "orientation": "v",
         "showlegend": true,
         "x": [
          2000,
          2001,
          2002,
          2003,
          2004,
          2005,
          2006,
          2007,
          2008,
          2009,
          2010,
          2011,
          2012,
          2013,
          2014,
          2015,
          2016,
          2017,
          2018,
          2019,
          2020
         ],
         "xaxis": "x",
         "y": [
          0.0,
          31.960312811097438,
          55.545626970792135,
          82.0798906045204,
          110.11323809636893,
          135.48856336162868,
          161.4661238903741,
          190.91468910409526,
          217.01343155121785,
          222.00368583006733,
          244.5130374650287,
          264.097880395344,
          277.42745441315384,
          304.4850493030544,
          320.31913312533766,
          331.7732987651873,
          349.0140828805857,
          364.54012513208966,
          378.5404629199327,
          396.19954247633507,
          369.06970142610965
         ],
         "yaxis": "y",
         "type": "scatter"
        },
        {
         "hovertemplate": "variable=Primary Energy Consumption per Capita (kWh/person)<br>Year=%{x}<br>value=%{y}<extra></extra>",
         "legendgroup": "Primary Energy Consumption per Capita (kWh/person)",
         "line": {
          "color": "#B6E880",
          "dash": "solid"
         },
         "marker": {
          "symbol": "circle"
         },
         "mode": "lines+markers",
         "name": "Primary Energy",
         "orientation": "v",
         "showlegend": true,
         "x": [
          2000,
          2001,
          2002,
          2003,
          2004,
          2005,
          2006,
          2007,
          2008,
          2009,
          2010,
          2011,
          2012,
          2013,
          2014,
          2015,
          2016,
          2017,
          2018,
          2019,
          2020
         ],
         "xaxis": "x",
         "y": [
          0.0,
          78.61912953736247,
          85.75351168744264,
          169.80026867465972,
          257.566348678073,
          247.03156247732284,
          258.24887547580306,
          246.41988611802574,
          278.78670351573936,
          89.64654119291481,
          259.1398982036152,
          126.54674384278925,
          65.67737427943918,
          40.38707182569946,
          -89.60806860718287,
          -80.95479359830617,
          6.1225996348847715,
          78.92860546925084,
          120.80290760954573,
          18.075717821017044,
          -229.5420101144626
         ],
         "yaxis": "y",
         "type": "scatter"
        },
        {
         "hovertemplate": "variable=Renewable Electricity Capacity per Capita<br>Year=%{x}<br>value=%{y}<extra></extra>",
         "legendgroup": "Renewable Electricity Capacity per Capita",
         "line": {
          "color": "#FF97FF",
          "dash": "solid"
         },
         "marker": {
          "symbol": "circle"
         },
         "mode": "lines+markers",
         "name": "Renewable Electricity",
         "orientation": "v",
         "showlegend": true,
         "x": [
          2000,
          2001,
          2002,
          2003,
          2004,
          2005,
          2006,
          2007,
          2008,
          2009,
          2010,
          2011,
          2012,
          2013,
          2014,
          2015,
          2016,
          2017,
          2018,
          2019,
          2020
         ],
         "xaxis": "x",
         "y": [
          0.0,
          0.0,
          0.0,
          0.0,
          0.0,
          0.0,
          0.0,
          0.0,
          0.0,
          0.0,
          0.0,
          0.0,
          0.0,
          0.0,
          0.0,
          0.0,
          0.0,
          0.0,
          0.0,
          0.0,
          0.0
         ],
         "yaxis": "y",
         "type": "scatter"
        }
       ],
       "layout": {
        "template": {
         "data": {
          "histogram2dcontour": [
           {
            "type": "histogram2dcontour",
            "colorbar": {
             "outlinewidth": 0,
             "ticks": ""
            },
            "colorscale": [
             [
              0.0,
              "#0d0887"
             ],
             [
              0.1111111111111111,
              "#46039f"
             ],
             [
              0.2222222222222222,
              "#7201a8"
             ],
             [
              0.3333333333333333,
              "#9c179e"
             ],
             [
              0.4444444444444444,
              "#bd3786"
             ],
             [
              0.5555555555555556,
              "#d8576b"
             ],
             [
              0.6666666666666666,
              "#ed7953"
             ],
             [
              0.7777777777777778,
              "#fb9f3a"
             ],
             [
              0.8888888888888888,
              "#fdca26"
             ],
             [
              1.0,
              "#f0f921"
             ]
            ]
           }
          ],
          "choropleth": [
           {
            "type": "choropleth",
            "colorbar": {
             "outlinewidth": 0,
             "ticks": ""
            }
           }
          ],
          "histogram2d": [
           {
            "type": "histogram2d",
            "colorbar": {
             "outlinewidth": 0,
             "ticks": ""
            },
            "colorscale": [
             [
              0.0,
              "#0d0887"
             ],
             [
              0.1111111111111111,
              "#46039f"
             ],
             [
              0.2222222222222222,
              "#7201a8"
             ],
             [
              0.3333333333333333,
              "#9c179e"
             ],
             [
              0.4444444444444444,
              "#bd3786"
             ],
             [
              0.5555555555555556,
              "#d8576b"
             ],
             [
              0.6666666666666666,
              "#ed7953"
             ],
             [
              0.7777777777777778,
              "#fb9f3a"
             ],
             [
              0.8888888888888888,
              "#fdca26"
             ],
             [
              1.0,
              "#f0f921"
             ]
            ]
           }
          ],
          "heatmap": [
           {
            "type": "heatmap",
            "colorbar": {
             "outlinewidth": 0,
             "ticks": ""
            },
            "colorscale": [
             [
              0.0,
              "#0d0887"
             ],
             [
              0.1111111111111111,
              "#46039f"
             ],
             [
              0.2222222222222222,
              "#7201a8"
             ],
             [
              0.3333333333333333,
              "#9c179e"
             ],
             [
              0.4444444444444444,
              "#bd3786"
             ],
             [
              0.5555555555555556,
              "#d8576b"
             ],
             [
              0.6666666666666666,
              "#ed7953"
             ],
             [
              0.7777777777777778,
              "#fb9f3a"
             ],
             [
              0.8888888888888888,
              "#fdca26"
             ],
             [
              1.0,
              "#f0f921"
             ]
            ]
           }
          ],
          "heatmapgl": [
           {
            "type": "heatmapgl",
            "colorbar": {
             "outlinewidth": 0,
             "ticks": ""
            },
            "colorscale": [
             [
              0.0,
              "#0d0887"
             ],
             [
              0.1111111111111111,
              "#46039f"
             ],
             [
              0.2222222222222222,
              "#7201a8"
             ],
             [
              0.3333333333333333,
              "#9c179e"
             ],
             [
              0.4444444444444444,
              "#bd3786"
             ],
             [
              0.5555555555555556,
              "#d8576b"
             ],
             [
              0.6666666666666666,
              "#ed7953"
             ],
             [
              0.7777777777777778,
              "#fb9f3a"
             ],
             [
              0.8888888888888888,
              "#fdca26"
             ],
             [
              1.0,
              "#f0f921"
             ]
            ]
           }
          ],
          "contourcarpet": [
           {
            "type": "contourcarpet",
            "colorbar": {
             "outlinewidth": 0,
             "ticks": ""
            }
           }
          ],
          "contour": [
           {
            "type": "contour",
            "colorbar": {
             "outlinewidth": 0,
             "ticks": ""
            },
            "colorscale": [
             [
              0.0,
              "#0d0887"
             ],
             [
              0.1111111111111111,
              "#46039f"
             ],
             [
              0.2222222222222222,
              "#7201a8"
             ],
             [
              0.3333333333333333,
              "#9c179e"
             ],
             [
              0.4444444444444444,
              "#bd3786"
             ],
             [
              0.5555555555555556,
              "#d8576b"
             ],
             [
              0.6666666666666666,
              "#ed7953"
             ],
             [
              0.7777777777777778,
              "#fb9f3a"
             ],
             [
              0.8888888888888888,
              "#fdca26"
             ],
             [
              1.0,
              "#f0f921"
             ]
            ]
           }
          ],
          "surface": [
           {
            "type": "surface",
            "colorbar": {
             "outlinewidth": 0,
             "ticks": ""
            },
            "colorscale": [
             [
              0.0,
              "#0d0887"
             ],
             [
              0.1111111111111111,
              "#46039f"
             ],
             [
              0.2222222222222222,
              "#7201a8"
             ],
             [
              0.3333333333333333,
              "#9c179e"
             ],
             [
              0.4444444444444444,
              "#bd3786"
             ],
             [
              0.5555555555555556,
              "#d8576b"
             ],
             [
              0.6666666666666666,
              "#ed7953"
             ],
             [
              0.7777777777777778,
              "#fb9f3a"
             ],
             [
              0.8888888888888888,
              "#fdca26"
             ],
             [
              1.0,
              "#f0f921"
             ]
            ]
           }
          ],
          "mesh3d": [
           {
            "type": "mesh3d",
            "colorbar": {
             "outlinewidth": 0,
             "ticks": ""
            }
           }
          ],
          "scatter": [
           {
            "marker": {
             "line": {
              "color": "#283442"
             }
            },
            "type": "scatter"
           }
          ],
          "parcoords": [
           {
            "type": "parcoords",
            "line": {
             "colorbar": {
              "outlinewidth": 0,
              "ticks": ""
             }
            }
           }
          ],
          "scatterpolargl": [
           {
            "type": "scatterpolargl",
            "marker": {
             "colorbar": {
              "outlinewidth": 0,
              "ticks": ""
             }
            }
           }
          ],
          "bar": [
           {
            "error_x": {
             "color": "#f2f5fa"
            },
            "error_y": {
             "color": "#f2f5fa"
            },
            "marker": {
             "line": {
              "color": "rgb(17,17,17)",
              "width": 0.5
             },
             "pattern": {
              "fillmode": "overlay",
              "size": 10,
              "solidity": 0.2
             }
            },
            "type": "bar"
           }
          ],
          "scattergeo": [
           {
            "type": "scattergeo",
            "marker": {
             "colorbar": {
              "outlinewidth": 0,
              "ticks": ""
             }
            }
           }
          ],
          "scatterpolar": [
           {
            "type": "scatterpolar",
            "marker": {
             "colorbar": {
              "outlinewidth": 0,
              "ticks": ""
             }
            }
           }
          ],
          "histogram": [
           {
            "marker": {
             "pattern": {
              "fillmode": "overlay",
              "size": 10,
              "solidity": 0.2
             }
            },
            "type": "histogram"
           }
          ],
          "scattergl": [
           {
            "marker": {
             "line": {
              "color": "#283442"
             }
            },
            "type": "scattergl"
           }
          ],
          "scatter3d": [
           {
            "type": "scatter3d",
            "line": {
             "colorbar": {
              "outlinewidth": 0,
              "ticks": ""
             }
            },
            "marker": {
             "colorbar": {
              "outlinewidth": 0,
              "ticks": ""
             }
            }
           }
          ],
          "scattermapbox": [
           {
            "type": "scattermapbox",
            "marker": {
             "colorbar": {
              "outlinewidth": 0,
              "ticks": ""
             }
            }
           }
          ],
          "scatterternary": [
           {
            "type": "scatterternary",
            "marker": {
             "colorbar": {
              "outlinewidth": 0,
              "ticks": ""
             }
            }
           }
          ],
          "scattercarpet": [
           {
            "type": "scattercarpet",
            "marker": {
             "colorbar": {
              "outlinewidth": 0,
              "ticks": ""
             }
            }
           }
          ],
          "carpet": [
           {
            "aaxis": {
             "endlinecolor": "#A2B1C6",
             "gridcolor": "#506784",
             "linecolor": "#506784",
             "minorgridcolor": "#506784",
             "startlinecolor": "#A2B1C6"
            },
            "baxis": {
             "endlinecolor": "#A2B1C6",
             "gridcolor": "#506784",
             "linecolor": "#506784",
             "minorgridcolor": "#506784",
             "startlinecolor": "#A2B1C6"
            },
            "type": "carpet"
           }
          ],
          "table": [
           {
            "cells": {
             "fill": {
              "color": "#506784"
             },
             "line": {
              "color": "rgb(17,17,17)"
             }
            },
            "header": {
             "fill": {
              "color": "#2a3f5f"
             },
             "line": {
              "color": "rgb(17,17,17)"
             }
            },
            "type": "table"
           }
          ],
          "barpolar": [
           {
            "marker": {
             "line": {
              "color": "rgb(17,17,17)",
              "width": 0.5
             },
             "pattern": {
              "fillmode": "overlay",
              "size": 10,
              "solidity": 0.2
             }
            },
            "type": "barpolar"
           }
          ],
          "pie": [
           {
            "automargin": true,
            "type": "pie"
           }
          ]
         },
         "layout": {
          "autotypenumbers": "strict",
          "colorway": [
           "#636efa",
           "#EF553B",
           "#00cc96",
           "#ab63fa",
           "#FFA15A",
           "#19d3f3",
           "#FF6692",
           "#B6E880",
           "#FF97FF",
           "#FECB52"
          ],
          "font": {
           "color": "#f2f5fa"
          },
          "hovermode": "closest",
          "hoverlabel": {
           "align": "left"
          },
          "paper_bgcolor": "rgb(17,17,17)",
          "plot_bgcolor": "rgb(17,17,17)",
          "polar": {
           "bgcolor": "rgb(17,17,17)",
           "angularaxis": {
            "gridcolor": "#506784",
            "linecolor": "#506784",
            "ticks": ""
           },
           "radialaxis": {
            "gridcolor": "#506784",
            "linecolor": "#506784",
            "ticks": ""
           }
          },
          "ternary": {
           "bgcolor": "rgb(17,17,17)",
           "aaxis": {
            "gridcolor": "#506784",
            "linecolor": "#506784",
            "ticks": ""
           },
           "baxis": {
            "gridcolor": "#506784",
            "linecolor": "#506784",
            "ticks": ""
           },
           "caxis": {
            "gridcolor": "#506784",
            "linecolor": "#506784",
            "ticks": ""
           }
          },
          "coloraxis": {
           "colorbar": {
            "outlinewidth": 0,
            "ticks": ""
           }
          },
          "colorscale": {
           "sequential": [
            [
             0.0,
             "#0d0887"
            ],
            [
             0.1111111111111111,
             "#46039f"
            ],
            [
             0.2222222222222222,
             "#7201a8"
            ],
            [
             0.3333333333333333,
             "#9c179e"
            ],
            [
             0.4444444444444444,
             "#bd3786"
            ],
            [
             0.5555555555555556,
             "#d8576b"
            ],
            [
             0.6666666666666666,
             "#ed7953"
            ],
            [
             0.7777777777777778,
             "#fb9f3a"
            ],
            [
             0.8888888888888888,
             "#fdca26"
            ],
            [
             1.0,
             "#f0f921"
            ]
           ],
           "sequentialminus": [
            [
             0.0,
             "#0d0887"
            ],
            [
             0.1111111111111111,
             "#46039f"
            ],
            [
             0.2222222222222222,
             "#7201a8"
            ],
            [
             0.3333333333333333,
             "#9c179e"
            ],
            [
             0.4444444444444444,
             "#bd3786"
            ],
            [
             0.5555555555555556,
             "#d8576b"
            ],
            [
             0.6666666666666666,
             "#ed7953"
            ],
            [
             0.7777777777777778,
             "#fb9f3a"
            ],
            [
             0.8888888888888888,
             "#fdca26"
            ],
            [
             1.0,
             "#f0f921"
            ]
           ],
           "diverging": [
            [
             0,
             "#8e0152"
            ],
            [
             0.1,
             "#c51b7d"
            ],
            [
             0.2,
             "#de77ae"
            ],
            [
             0.3,
             "#f1b6da"
            ],
            [
             0.4,
             "#fde0ef"
            ],
            [
             0.5,
             "#f7f7f7"
            ],
            [
             0.6,
             "#e6f5d0"
            ],
            [
             0.7,
             "#b8e186"
            ],
            [
             0.8,
             "#7fbc41"
            ],
            [
             0.9,
             "#4d9221"
            ],
            [
             1,
             "#276419"
            ]
           ]
          },
          "xaxis": {
           "gridcolor": "#283442",
           "linecolor": "#506784",
           "ticks": "",
           "title": {
            "standoff": 15
           },
           "zerolinecolor": "#283442",
           "automargin": true,
           "zerolinewidth": 2
          },
          "yaxis": {
           "gridcolor": "#283442",
           "linecolor": "#506784",
           "ticks": "",
           "title": {
            "standoff": 15
           },
           "zerolinecolor": "#283442",
           "automargin": true,
           "zerolinewidth": 2
          },
          "scene": {
           "xaxis": {
            "backgroundcolor": "rgb(17,17,17)",
            "gridcolor": "#506784",
            "linecolor": "#506784",
            "showbackground": true,
            "ticks": "",
            "zerolinecolor": "#C8D4E3",
            "gridwidth": 2
           },
           "yaxis": {
            "backgroundcolor": "rgb(17,17,17)",
            "gridcolor": "#506784",
            "linecolor": "#506784",
            "showbackground": true,
            "ticks": "",
            "zerolinecolor": "#C8D4E3",
            "gridwidth": 2
           },
           "zaxis": {
            "backgroundcolor": "rgb(17,17,17)",
            "gridcolor": "#506784",
            "linecolor": "#506784",
            "showbackground": true,
            "ticks": "",
            "zerolinecolor": "#C8D4E3",
            "gridwidth": 2
           }
          },
          "shapedefaults": {
           "line": {
            "color": "#f2f5fa"
           }
          },
          "annotationdefaults": {
           "arrowcolor": "#f2f5fa",
           "arrowhead": 0,
           "arrowwidth": 1
          },
          "geo": {
           "bgcolor": "rgb(17,17,17)",
           "landcolor": "rgb(17,17,17)",
           "subunitcolor": "#506784",
           "showland": true,
           "showlakes": true,
           "lakecolor": "rgb(17,17,17)"
          },
          "title": {
           "x": 0.05
          },
          "updatemenudefaults": {
           "bgcolor": "#506784",
           "borderwidth": 0
          },
          "sliderdefaults": {
           "bgcolor": "#C8D4E3",
           "borderwidth": 1,
           "bordercolor": "rgb(17,17,17)",
           "tickwidth": 0
          },
          "mapbox": {
           "style": "dark"
          }
         }
        },
        "xaxis": {
         "anchor": "y",
         "domain": [
          0.0,
          1.0
         ],
         "title": {
          "text": "Year"
         }
        },
        "yaxis": {
         "anchor": "x",
         "domain": [
          0.0,
          1.0
         ],
         "title": {
          "text": "value"
         }
        },
        "legend": {
         "title": {
          "text": "variable"
         },
         "tracegroupgap": 0,
         "orientation": "h",
         "entrywidth": 70,
         "yanchor": "bottom",
         "y": -0.5,
         "xanchor": "right",
         "x": 1
        },
        "title": {
         "text": "Evolution in % with 2000 as reference"
        }
       },
       "config": {
        "plotlyServerURL": "https://plot.ly"
       }
      },
      "text/html": "<div>                            <div id=\"fa69ca34-3242-4b80-995b-818e4355bfc4\" class=\"plotly-graph-div\" style=\"height:525px; width:100%;\"></div>            <script type=\"text/javascript\">                require([\"plotly\"], function(Plotly) {                    window.PLOTLYENV=window.PLOTLYENV || {};                                    if (document.getElementById(\"fa69ca34-3242-4b80-995b-818e4355bfc4\")) {                    Plotly.newPlot(                        \"fa69ca34-3242-4b80-995b-818e4355bfc4\",                        [{\"hovertemplate\":\"variable=CO2 Emissions (kt by country)<br>Year=%{x}<br>value=%{y}<extra></extra>\",\"legendgroup\":\"CO2 Emissions (kt by country)\",\"line\":{\"color\":\"#636efa\",\"dash\":\"solid\"},\"marker\":{\"symbol\":\"circle\"},\"mode\":\"lines+markers\",\"name\":\"CO2 Emissions\",\"orientation\":\"v\",\"showlegend\":true,\"x\":[2000,2001,2002,2003,2004,2005,2006,2007,2008,2009,2010,2011,2012,2013,2014,2015,2016,2017,2018,2019,2020],\"xaxis\":\"x\",\"y\":[0.0,106.06548299900808,121.52804652919629,279.8337532056257,299.08882562878915,288.0365751124752,336.5125731243842,320.5801686515959,268.3292944941017,-41.59314457317315,128.50546793346604,65.22520342304998,-67.72861893460075,-148.7950417820455,-293.39562866017206,-331.5575825789898,-350.280967615746,-293.60204831387955,-313.3950159671699,-430.0949704554987,0.0],\"yaxis\":\"y\",\"type\":\"scatter\"},{\"hovertemplate\":\"variable=Electricity from Fossil Fuels (TWh)<br>Year=%{x}<br>value=%{y}<extra></extra>\",\"legendgroup\":\"Electricity from Fossil Fuels (TWh)\",\"line\":{\"color\":\"#EF553B\",\"dash\":\"solid\"},\"marker\":{\"symbol\":\"circle\"},\"mode\":\"lines+markers\",\"name\":\"Electricity Fossil\",\"orientation\":\"v\",\"showlegend\":true,\"x\":[2000,2001,2002,2003,2004,2005,2006,2007,2008,2009,2010,2011,2012,2013,2014,2015,2016,2017,2018,2019,2020],\"xaxis\":\"x\",\"y\":[0.0,362.61957883069795,1218.855367531556,1487.0565862715926,1610.3791008017324,1513.1311735482611,1757.0679162486806,1772.955057557831,1437.697050194832,3187.725811414025,3775.7658896806493,2549.735478851079,2510.9186428305748,1920.8878088293231,1667.7408996626245,1460.5129580898536,1291.6363294315918,1307.673287207863,1271.112788539212,1081.7654872430792,669.99311146006],\"yaxis\":\"y\",\"type\":\"scatter\"},{\"hovertemplate\":\"variable=Electricity from Nuclear (TWh)<br>Year=%{x}<br>value=%{y}<extra></extra>\",\"legendgroup\":\"Electricity from Nuclear (TWh)\",\"line\":{\"color\":\"#00cc96\",\"dash\":\"solid\"},\"marker\":{\"symbol\":\"circle\"},\"mode\":\"lines+markers\",\"name\":\"Electricity Nuclear\",\"orientation\":\"v\",\"showlegend\":true,\"x\":[2000,2001,2002,2003,2004,2005,2006,2007,2008,2009,2010,2011,2012,2013,2014,2015,2016,2017,2018,2019,2020],\"xaxis\":\"x\",\"y\":[0.0,99.8899988115678,168.02626455838046,190.49317057205684,218.1511108105645,164.1207509531244,143.44455642707737,70.18946786734335,146.03507020705092,119.28765515052527,28.589968734195388,54.65450696521194,24.907075613664706,-14.450387001426792,33.635005845151596,-57.20700082612455,-60.725535856455906,-33.756603265954915,-43.76412110696907,-0.14665327157647567,-141.1950922178963],\"yaxis\":\"y\",\"type\":\"scatter\"},{\"hovertemplate\":\"variable=Electricity from Renewables (TWh)<br>Year=%{x}<br>value=%{y}<extra></extra>\",\"legendgroup\":\"Electricity from Renewables (TWh)\",\"line\":{\"color\":\"#ab63fa\",\"dash\":\"solid\"},\"marker\":{\"symbol\":\"circle\"},\"mode\":\"lines+markers\",\"name\":\"Electricity Renewables\",\"orientation\":\"v\",\"showlegend\":true,\"x\":[2000,2001,2002,2003,2004,2005,2006,2007,2008,2009,2010,2011,2012,2013,2014,2015,2016,2017,2018,2019,2020],\"xaxis\":\"x\",\"y\":[0.0,125.0186269536616,173.1620682341162,492.9993125874679,1382.4842845671058,2616.607300610336,3042.0901355547267,3326.3315633460907,4857.356113971308,9165.241268525653,15432.27955762288,16536.89956959778,20294.728916997738,19638.75232711809,21593.07936351882,24222.390828384105,25226.65142268053,29711.5145495225,32238.629027261923,35309.321500177284,46553.68047506999],\"yaxis\":\"y\",\"type\":\"scatter\"},{\"hovertemplate\":\"variable=GDP Growth<br>Year=%{x}<br>value=%{y}<extra></extra>\",\"legendgroup\":\"GDP Growth\",\"line\":{\"color\":\"#FFA15A\",\"dash\":\"solid\"},\"marker\":{\"symbol\":\"circle\"},\"mode\":\"lines+markers\",\"name\":\"GDP Growth\",\"orientation\":\"v\",\"showlegend\":true,\"x\":[2000,2001,2002,2003,2004,2005,2006,2007,2008,2009,2010,2011,2012,2013,2014,2015,2016,2017,2018,2019,2020],\"xaxis\":\"x\",\"y\":[0.0,-1097.1927473626222,-1181.414241993621,-1123.069296292912,159.37015689072535,-606.1495997525196,330.0248819389816,398.721620899223,-1781.3213686562947,-7280.80389552089,-2406.6459021451687,-2159.189142015274,-3490.4965068059737,-2720.3872711833274,-2268.0650401412145,-1714.987470497519,-1543.1581534959842,-1018.9193490823183,-1144.521829823107,-1411.7684689643263,-7128.965611497639],\"yaxis\":\"y\",\"type\":\"scatter\"},{\"hovertemplate\":\"variable=GDP per Capita<br>Year=%{x}<br>value=%{y}<extra></extra>\",\"legendgroup\":\"GDP per Capita\",\"line\":{\"color\":\"#19d3f3\",\"dash\":\"solid\"},\"marker\":{\"symbol\":\"circle\"},\"mode\":\"lines+markers\",\"name\":\"GDP per Capita\",\"orientation\":\"v\",\"showlegend\":true,\"x\":[2000,2001,2002,2003,2004,2005,2006,2007,2008,2009,2010,2011,2012,2013,2014,2015,2016,2017,2018,2019,2020],\"xaxis\":\"x\",\"y\":[0.0,126.16775166740136,536.3036104517748,1454.5159874131675,2350.048021763392,2983.725899900031,3722.0293955269617,5518.679861739599,6894.958703801082,5428.282032880644,5459.9578995372085,6437.41053901326,6025.571940396404,6649.24102640179,6781.534041175557,5335.19943807703,5542.959358203488,6370.479923719882,7478.079548277519,7611.326312506213,7423.228292361486],\"yaxis\":\"y\",\"type\":\"scatter\"},{\"hovertemplate\":\"variable=Human Development Index<br>Year=%{x}<br>value=%{y}<extra></extra>\",\"legendgroup\":\"Human Development Index\",\"line\":{\"color\":\"#FF6692\",\"dash\":\"solid\"},\"marker\":{\"symbol\":\"circle\"},\"mode\":\"lines+markers\",\"name\":\"HDI\",\"orientation\":\"v\",\"showlegend\":true,\"x\":[2000,2001,2002,2003,2004,2005,2006,2007,2008,2009,2010,2011,2012,2013,2014,2015,2016,2017,2018,2019,2020],\"xaxis\":\"x\",\"y\":[0.0,31.960312811097438,55.545626970792135,82.0798906045204,110.11323809636893,135.48856336162868,161.4661238903741,190.91468910409526,217.01343155121785,222.00368583006733,244.5130374650287,264.097880395344,277.42745441315384,304.4850493030544,320.31913312533766,331.7732987651873,349.0140828805857,364.54012513208966,378.5404629199327,396.19954247633507,369.06970142610965],\"yaxis\":\"y\",\"type\":\"scatter\"},{\"hovertemplate\":\"variable=Primary Energy Consumption per Capita (kWh/person)<br>Year=%{x}<br>value=%{y}<extra></extra>\",\"legendgroup\":\"Primary Energy Consumption per Capita (kWh/person)\",\"line\":{\"color\":\"#B6E880\",\"dash\":\"solid\"},\"marker\":{\"symbol\":\"circle\"},\"mode\":\"lines+markers\",\"name\":\"Primary Energy\",\"orientation\":\"v\",\"showlegend\":true,\"x\":[2000,2001,2002,2003,2004,2005,2006,2007,2008,2009,2010,2011,2012,2013,2014,2015,2016,2017,2018,2019,2020],\"xaxis\":\"x\",\"y\":[0.0,78.61912953736247,85.75351168744264,169.80026867465972,257.566348678073,247.03156247732284,258.24887547580306,246.41988611802574,278.78670351573936,89.64654119291481,259.1398982036152,126.54674384278925,65.67737427943918,40.38707182569946,-89.60806860718287,-80.95479359830617,6.1225996348847715,78.92860546925084,120.80290760954573,18.075717821017044,-229.5420101144626],\"yaxis\":\"y\",\"type\":\"scatter\"},{\"hovertemplate\":\"variable=Renewable Electricity Capacity per Capita<br>Year=%{x}<br>value=%{y}<extra></extra>\",\"legendgroup\":\"Renewable Electricity Capacity per Capita\",\"line\":{\"color\":\"#FF97FF\",\"dash\":\"solid\"},\"marker\":{\"symbol\":\"circle\"},\"mode\":\"lines+markers\",\"name\":\"Renewable Electricity\",\"orientation\":\"v\",\"showlegend\":true,\"x\":[2000,2001,2002,2003,2004,2005,2006,2007,2008,2009,2010,2011,2012,2013,2014,2015,2016,2017,2018,2019,2020],\"xaxis\":\"x\",\"y\":[0.0,0.0,0.0,0.0,0.0,0.0,0.0,0.0,0.0,0.0,0.0,0.0,0.0,0.0,0.0,0.0,0.0,0.0,0.0,0.0,0.0],\"yaxis\":\"y\",\"type\":\"scatter\"}],                        {\"template\":{\"data\":{\"histogram2dcontour\":[{\"type\":\"histogram2dcontour\",\"colorbar\":{\"outlinewidth\":0,\"ticks\":\"\"},\"colorscale\":[[0.0,\"#0d0887\"],[0.1111111111111111,\"#46039f\"],[0.2222222222222222,\"#7201a8\"],[0.3333333333333333,\"#9c179e\"],[0.4444444444444444,\"#bd3786\"],[0.5555555555555556,\"#d8576b\"],[0.6666666666666666,\"#ed7953\"],[0.7777777777777778,\"#fb9f3a\"],[0.8888888888888888,\"#fdca26\"],[1.0,\"#f0f921\"]]}],\"choropleth\":[{\"type\":\"choropleth\",\"colorbar\":{\"outlinewidth\":0,\"ticks\":\"\"}}],\"histogram2d\":[{\"type\":\"histogram2d\",\"colorbar\":{\"outlinewidth\":0,\"ticks\":\"\"},\"colorscale\":[[0.0,\"#0d0887\"],[0.1111111111111111,\"#46039f\"],[0.2222222222222222,\"#7201a8\"],[0.3333333333333333,\"#9c179e\"],[0.4444444444444444,\"#bd3786\"],[0.5555555555555556,\"#d8576b\"],[0.6666666666666666,\"#ed7953\"],[0.7777777777777778,\"#fb9f3a\"],[0.8888888888888888,\"#fdca26\"],[1.0,\"#f0f921\"]]}],\"heatmap\":[{\"type\":\"heatmap\",\"colorbar\":{\"outlinewidth\":0,\"ticks\":\"\"},\"colorscale\":[[0.0,\"#0d0887\"],[0.1111111111111111,\"#46039f\"],[0.2222222222222222,\"#7201a8\"],[0.3333333333333333,\"#9c179e\"],[0.4444444444444444,\"#bd3786\"],[0.5555555555555556,\"#d8576b\"],[0.6666666666666666,\"#ed7953\"],[0.7777777777777778,\"#fb9f3a\"],[0.8888888888888888,\"#fdca26\"],[1.0,\"#f0f921\"]]}],\"heatmapgl\":[{\"type\":\"heatmapgl\",\"colorbar\":{\"outlinewidth\":0,\"ticks\":\"\"},\"colorscale\":[[0.0,\"#0d0887\"],[0.1111111111111111,\"#46039f\"],[0.2222222222222222,\"#7201a8\"],[0.3333333333333333,\"#9c179e\"],[0.4444444444444444,\"#bd3786\"],[0.5555555555555556,\"#d8576b\"],[0.6666666666666666,\"#ed7953\"],[0.7777777777777778,\"#fb9f3a\"],[0.8888888888888888,\"#fdca26\"],[1.0,\"#f0f921\"]]}],\"contourcarpet\":[{\"type\":\"contourcarpet\",\"colorbar\":{\"outlinewidth\":0,\"ticks\":\"\"}}],\"contour\":[{\"type\":\"contour\",\"colorbar\":{\"outlinewidth\":0,\"ticks\":\"\"},\"colorscale\":[[0.0,\"#0d0887\"],[0.1111111111111111,\"#46039f\"],[0.2222222222222222,\"#7201a8\"],[0.3333333333333333,\"#9c179e\"],[0.4444444444444444,\"#bd3786\"],[0.5555555555555556,\"#d8576b\"],[0.6666666666666666,\"#ed7953\"],[0.7777777777777778,\"#fb9f3a\"],[0.8888888888888888,\"#fdca26\"],[1.0,\"#f0f921\"]]}],\"surface\":[{\"type\":\"surface\",\"colorbar\":{\"outlinewidth\":0,\"ticks\":\"\"},\"colorscale\":[[0.0,\"#0d0887\"],[0.1111111111111111,\"#46039f\"],[0.2222222222222222,\"#7201a8\"],[0.3333333333333333,\"#9c179e\"],[0.4444444444444444,\"#bd3786\"],[0.5555555555555556,\"#d8576b\"],[0.6666666666666666,\"#ed7953\"],[0.7777777777777778,\"#fb9f3a\"],[0.8888888888888888,\"#fdca26\"],[1.0,\"#f0f921\"]]}],\"mesh3d\":[{\"type\":\"mesh3d\",\"colorbar\":{\"outlinewidth\":0,\"ticks\":\"\"}}],\"scatter\":[{\"marker\":{\"line\":{\"color\":\"#283442\"}},\"type\":\"scatter\"}],\"parcoords\":[{\"type\":\"parcoords\",\"line\":{\"colorbar\":{\"outlinewidth\":0,\"ticks\":\"\"}}}],\"scatterpolargl\":[{\"type\":\"scatterpolargl\",\"marker\":{\"colorbar\":{\"outlinewidth\":0,\"ticks\":\"\"}}}],\"bar\":[{\"error_x\":{\"color\":\"#f2f5fa\"},\"error_y\":{\"color\":\"#f2f5fa\"},\"marker\":{\"line\":{\"color\":\"rgb(17,17,17)\",\"width\":0.5},\"pattern\":{\"fillmode\":\"overlay\",\"size\":10,\"solidity\":0.2}},\"type\":\"bar\"}],\"scattergeo\":[{\"type\":\"scattergeo\",\"marker\":{\"colorbar\":{\"outlinewidth\":0,\"ticks\":\"\"}}}],\"scatterpolar\":[{\"type\":\"scatterpolar\",\"marker\":{\"colorbar\":{\"outlinewidth\":0,\"ticks\":\"\"}}}],\"histogram\":[{\"marker\":{\"pattern\":{\"fillmode\":\"overlay\",\"size\":10,\"solidity\":0.2}},\"type\":\"histogram\"}],\"scattergl\":[{\"marker\":{\"line\":{\"color\":\"#283442\"}},\"type\":\"scattergl\"}],\"scatter3d\":[{\"type\":\"scatter3d\",\"line\":{\"colorbar\":{\"outlinewidth\":0,\"ticks\":\"\"}},\"marker\":{\"colorbar\":{\"outlinewidth\":0,\"ticks\":\"\"}}}],\"scattermapbox\":[{\"type\":\"scattermapbox\",\"marker\":{\"colorbar\":{\"outlinewidth\":0,\"ticks\":\"\"}}}],\"scatterternary\":[{\"type\":\"scatterternary\",\"marker\":{\"colorbar\":{\"outlinewidth\":0,\"ticks\":\"\"}}}],\"scattercarpet\":[{\"type\":\"scattercarpet\",\"marker\":{\"colorbar\":{\"outlinewidth\":0,\"ticks\":\"\"}}}],\"carpet\":[{\"aaxis\":{\"endlinecolor\":\"#A2B1C6\",\"gridcolor\":\"#506784\",\"linecolor\":\"#506784\",\"minorgridcolor\":\"#506784\",\"startlinecolor\":\"#A2B1C6\"},\"baxis\":{\"endlinecolor\":\"#A2B1C6\",\"gridcolor\":\"#506784\",\"linecolor\":\"#506784\",\"minorgridcolor\":\"#506784\",\"startlinecolor\":\"#A2B1C6\"},\"type\":\"carpet\"}],\"table\":[{\"cells\":{\"fill\":{\"color\":\"#506784\"},\"line\":{\"color\":\"rgb(17,17,17)\"}},\"header\":{\"fill\":{\"color\":\"#2a3f5f\"},\"line\":{\"color\":\"rgb(17,17,17)\"}},\"type\":\"table\"}],\"barpolar\":[{\"marker\":{\"line\":{\"color\":\"rgb(17,17,17)\",\"width\":0.5},\"pattern\":{\"fillmode\":\"overlay\",\"size\":10,\"solidity\":0.2}},\"type\":\"barpolar\"}],\"pie\":[{\"automargin\":true,\"type\":\"pie\"}]},\"layout\":{\"autotypenumbers\":\"strict\",\"colorway\":[\"#636efa\",\"#EF553B\",\"#00cc96\",\"#ab63fa\",\"#FFA15A\",\"#19d3f3\",\"#FF6692\",\"#B6E880\",\"#FF97FF\",\"#FECB52\"],\"font\":{\"color\":\"#f2f5fa\"},\"hovermode\":\"closest\",\"hoverlabel\":{\"align\":\"left\"},\"paper_bgcolor\":\"rgb(17,17,17)\",\"plot_bgcolor\":\"rgb(17,17,17)\",\"polar\":{\"bgcolor\":\"rgb(17,17,17)\",\"angularaxis\":{\"gridcolor\":\"#506784\",\"linecolor\":\"#506784\",\"ticks\":\"\"},\"radialaxis\":{\"gridcolor\":\"#506784\",\"linecolor\":\"#506784\",\"ticks\":\"\"}},\"ternary\":{\"bgcolor\":\"rgb(17,17,17)\",\"aaxis\":{\"gridcolor\":\"#506784\",\"linecolor\":\"#506784\",\"ticks\":\"\"},\"baxis\":{\"gridcolor\":\"#506784\",\"linecolor\":\"#506784\",\"ticks\":\"\"},\"caxis\":{\"gridcolor\":\"#506784\",\"linecolor\":\"#506784\",\"ticks\":\"\"}},\"coloraxis\":{\"colorbar\":{\"outlinewidth\":0,\"ticks\":\"\"}},\"colorscale\":{\"sequential\":[[0.0,\"#0d0887\"],[0.1111111111111111,\"#46039f\"],[0.2222222222222222,\"#7201a8\"],[0.3333333333333333,\"#9c179e\"],[0.4444444444444444,\"#bd3786\"],[0.5555555555555556,\"#d8576b\"],[0.6666666666666666,\"#ed7953\"],[0.7777777777777778,\"#fb9f3a\"],[0.8888888888888888,\"#fdca26\"],[1.0,\"#f0f921\"]],\"sequentialminus\":[[0.0,\"#0d0887\"],[0.1111111111111111,\"#46039f\"],[0.2222222222222222,\"#7201a8\"],[0.3333333333333333,\"#9c179e\"],[0.4444444444444444,\"#bd3786\"],[0.5555555555555556,\"#d8576b\"],[0.6666666666666666,\"#ed7953\"],[0.7777777777777778,\"#fb9f3a\"],[0.8888888888888888,\"#fdca26\"],[1.0,\"#f0f921\"]],\"diverging\":[[0,\"#8e0152\"],[0.1,\"#c51b7d\"],[0.2,\"#de77ae\"],[0.3,\"#f1b6da\"],[0.4,\"#fde0ef\"],[0.5,\"#f7f7f7\"],[0.6,\"#e6f5d0\"],[0.7,\"#b8e186\"],[0.8,\"#7fbc41\"],[0.9,\"#4d9221\"],[1,\"#276419\"]]},\"xaxis\":{\"gridcolor\":\"#283442\",\"linecolor\":\"#506784\",\"ticks\":\"\",\"title\":{\"standoff\":15},\"zerolinecolor\":\"#283442\",\"automargin\":true,\"zerolinewidth\":2},\"yaxis\":{\"gridcolor\":\"#283442\",\"linecolor\":\"#506784\",\"ticks\":\"\",\"title\":{\"standoff\":15},\"zerolinecolor\":\"#283442\",\"automargin\":true,\"zerolinewidth\":2},\"scene\":{\"xaxis\":{\"backgroundcolor\":\"rgb(17,17,17)\",\"gridcolor\":\"#506784\",\"linecolor\":\"#506784\",\"showbackground\":true,\"ticks\":\"\",\"zerolinecolor\":\"#C8D4E3\",\"gridwidth\":2},\"yaxis\":{\"backgroundcolor\":\"rgb(17,17,17)\",\"gridcolor\":\"#506784\",\"linecolor\":\"#506784\",\"showbackground\":true,\"ticks\":\"\",\"zerolinecolor\":\"#C8D4E3\",\"gridwidth\":2},\"zaxis\":{\"backgroundcolor\":\"rgb(17,17,17)\",\"gridcolor\":\"#506784\",\"linecolor\":\"#506784\",\"showbackground\":true,\"ticks\":\"\",\"zerolinecolor\":\"#C8D4E3\",\"gridwidth\":2}},\"shapedefaults\":{\"line\":{\"color\":\"#f2f5fa\"}},\"annotationdefaults\":{\"arrowcolor\":\"#f2f5fa\",\"arrowhead\":0,\"arrowwidth\":1},\"geo\":{\"bgcolor\":\"rgb(17,17,17)\",\"landcolor\":\"rgb(17,17,17)\",\"subunitcolor\":\"#506784\",\"showland\":true,\"showlakes\":true,\"lakecolor\":\"rgb(17,17,17)\"},\"title\":{\"x\":0.05},\"updatemenudefaults\":{\"bgcolor\":\"#506784\",\"borderwidth\":0},\"sliderdefaults\":{\"bgcolor\":\"#C8D4E3\",\"borderwidth\":1,\"bordercolor\":\"rgb(17,17,17)\",\"tickwidth\":0},\"mapbox\":{\"style\":\"dark\"}}},\"xaxis\":{\"anchor\":\"y\",\"domain\":[0.0,1.0],\"title\":{\"text\":\"Year\"}},\"yaxis\":{\"anchor\":\"x\",\"domain\":[0.0,1.0],\"title\":{\"text\":\"value\"}},\"legend\":{\"title\":{\"text\":\"variable\"},\"tracegroupgap\":0,\"orientation\":\"h\",\"entrywidth\":70,\"yanchor\":\"bottom\",\"y\":-0.5,\"xanchor\":\"right\",\"x\":1},\"title\":{\"text\":\"Evolution in % with 2000 as reference\"}},                        {\"responsive\": true}                    ).then(function(){\n                            \nvar gd = document.getElementById('fa69ca34-3242-4b80-995b-818e4355bfc4');\nvar x = new MutationObserver(function (mutations, observer) {{\n        var display = window.getComputedStyle(gd).display;\n        if (!display || display === 'none') {{\n            console.log([gd, 'removed!']);\n            Plotly.purge(gd);\n            observer.disconnect();\n        }}\n}});\n\n// Listen for the removal of the full notebook cells\nvar notebookContainer = gd.closest('#notebook-container');\nif (notebookContainer) {{\n    x.observe(notebookContainer, {childList: true});\n}}\n\n// Listen for the clearing of the current output cell\nvar outputEl = gd.closest('.output');\nif (outputEl) {{\n    x.observe(outputEl, {childList: true});\n}}\n\n                        })                };                });            </script>        </div>"
     },
     "metadata": {},
     "output_type": "display_data"
    }
   ],
   "source": [
    "def graph_lines_percentage(area_type: str, area_name: str) -> go.Figure:\n",
    "    \n",
    "    df_normalized = df_energy_query(area_type, area_name)\n",
    "    df_normalized = df_normalized.replace(0,1)\n",
    "\n",
    "    cols_to_normalize = df_normalized.columns.difference(\n",
    "        ['Country', 'Year', 'Continent', 'Region', 'iso3', 'Access to Electricity (%)', 'Low-Carbon Electricity (%)',\n",
    "         'Renewables (% Equivalent Primary Energy)'])\n",
    "    # Exclure les colonnes non numériques et celle qui sont deja en %\n",
    "\n",
    "    assert df_normalized[cols_to_normalize].apply(lambda s: pd.to_numeric(s, errors='coerce').notnull().all()).sum() != 9, \"<-- All values are not numeric -->\"\n",
    "\n",
    "    # Créez un masque pour exclure les années autres que 2000\n",
    "    mask_2000 = (df_normalized['Year'] == 2000)\n",
    "    df_normalized_2000 = df_normalized[mask_2000][cols_to_normalize].reindex(df_normalized.index, method='pad', fill_value=1)\n",
    "\n",
    "    df_normalized[cols_to_normalize] = ((df_normalized[cols_to_normalize] - df_normalized_2000[\n",
    "        cols_to_normalize]) / df_normalized_2000) * 100\n",
    "\n",
    "    df_line = df_normalized.groupby(\"Year\").sum()\n",
    "\n",
    "    lines = px.line(df_line, x=df_line.index, y=cols_to_normalize,\n",
    "                    markers=True, log_y=False,\n",
    "                    title=\"Evolution in % with 2000 as reference\",\n",
    "                    # template=THEME,\n",
    "                    )\n",
    "\n",
    "    # Change the name of the variable in the légend. The goal is to have a better render and have shortened name\n",
    "    legend_new = {\n",
    "        'CO2 Emissions (kt by country)': 'CO2 Emissions',\n",
    "        'Electricity from Fossil Fuels (TWh)': 'Electricity Fossil',\n",
    "        'Electricity from Nuclear (TWh)': 'Electricity Nuclear',\n",
    "        'Electricity from Renewables (TWh)': 'Electricity Renewables',\n",
    "        'GDP Growth': 'GDP Growth',\n",
    "        'GDP per Capita': 'GDP per Capita',\n",
    "        'Human Development Index': 'HDI',\n",
    "        'Primary Energy Consumption per Capita (kWh/person)': 'Primary Energy',\n",
    "        'Renewable Electricity Capacity per Capita': 'Renewable Electricity'\n",
    "    }\n",
    "\n",
    "    lines.for_each_trace(lambda t: t.update(name=legend_new[t.name]))\n",
    "    # legendgroup = legend_new[t.name],\n",
    "    # hovertemplate = t.hovertemplate.replace(t.name, legend_new[t.name])\n",
    "\n",
    "    lines.update_layout(\n",
    "\n",
    "        legend=dict(\n",
    "            orientation=\"h\",\n",
    "            entrywidth=70,\n",
    "            yanchor=\"bottom\",\n",
    "            y=-0.5,\n",
    "            xanchor=\"right\",\n",
    "            x=1\n",
    "        ),\n",
    "    )\n",
    "    return lines\n",
    "\n",
    "graph_lines_percentage(\"Continent\", \"Europe\")"
   ],
   "metadata": {
    "collapsed": false,
    "ExecuteTime": {
     "end_time": "2023-11-05T16:29:29.929469200Z",
     "start_time": "2023-11-05T16:29:29.879465400Z"
    }
   },
   "id": "38541ec6a0d2c2"
  },
  {
   "cell_type": "code",
   "execution_count": 118,
   "outputs": [
    {
     "data": {
      "application/vnd.plotly.v1+json": {
       "data": [
        {
         "alignmentgroup": "True",
         "bingroup": "x",
         "hovertemplate": "reference=False<br>Year=2000<br>Human Development Index=%{x}<br>count=%{y}<extra></extra>",
         "legendgroup": "False",
         "marker": {
          "color": "#636efa",
          "opacity": 1,
          "pattern": {
           "shape": ""
          }
         },
         "name": "False",
         "offsetgroup": "False",
         "orientation": "v",
         "showlegend": true,
         "texttemplate": "%{value}",
         "x": [
          0.677,
          0.871,
          0.712,
          0.887,
          0.667,
          0.725,
          0.759,
          0.808,
          0.889,
          0.787,
          0.891,
          0.844,
          0.889,
          0.81,
          0.773,
          0.871,
          0.847,
          0.841,
          0.756,
          0.766,
          0.864,
          0.779,
          0.893,
          0.675,
          0.913,
          0.793,
          0.791,
          0.715,
          0.763,
          0.821,
          0.825,
          0.904,
          0.887,
          0.7,
          0.862
         ],
         "xaxis": "x",
         "yaxis": "y",
         "type": "histogram"
        },
        {
         "alignmentgroup": "True",
         "hovertemplate": "reference=False<br>Year=2000<br>Human Development Index=%{x}<extra></extra>",
         "legendgroup": "False",
         "marker": {
          "color": "#636efa"
         },
         "name": "False",
         "notched": true,
         "offsetgroup": "False",
         "showlegend": false,
         "x": [
          0.677,
          0.871,
          0.712,
          0.887,
          0.667,
          0.725,
          0.759,
          0.808,
          0.889,
          0.787,
          0.891,
          0.844,
          0.889,
          0.81,
          0.773,
          0.871,
          0.847,
          0.841,
          0.756,
          0.766,
          0.864,
          0.779,
          0.893,
          0.675,
          0.913,
          0.793,
          0.791,
          0.715,
          0.763,
          0.821,
          0.825,
          0.904,
          0.887,
          0.7,
          0.862
         ],
         "xaxis": "x2",
         "yaxis": "y2",
         "type": "box"
        }
       ],
       "layout": {
        "template": {
         "data": {
          "histogram2dcontour": [
           {
            "type": "histogram2dcontour",
            "colorbar": {
             "outlinewidth": 0,
             "ticks": ""
            },
            "colorscale": [
             [
              0.0,
              "#0d0887"
             ],
             [
              0.1111111111111111,
              "#46039f"
             ],
             [
              0.2222222222222222,
              "#7201a8"
             ],
             [
              0.3333333333333333,
              "#9c179e"
             ],
             [
              0.4444444444444444,
              "#bd3786"
             ],
             [
              0.5555555555555556,
              "#d8576b"
             ],
             [
              0.6666666666666666,
              "#ed7953"
             ],
             [
              0.7777777777777778,
              "#fb9f3a"
             ],
             [
              0.8888888888888888,
              "#fdca26"
             ],
             [
              1.0,
              "#f0f921"
             ]
            ]
           }
          ],
          "choropleth": [
           {
            "type": "choropleth",
            "colorbar": {
             "outlinewidth": 0,
             "ticks": ""
            }
           }
          ],
          "histogram2d": [
           {
            "type": "histogram2d",
            "colorbar": {
             "outlinewidth": 0,
             "ticks": ""
            },
            "colorscale": [
             [
              0.0,
              "#0d0887"
             ],
             [
              0.1111111111111111,
              "#46039f"
             ],
             [
              0.2222222222222222,
              "#7201a8"
             ],
             [
              0.3333333333333333,
              "#9c179e"
             ],
             [
              0.4444444444444444,
              "#bd3786"
             ],
             [
              0.5555555555555556,
              "#d8576b"
             ],
             [
              0.6666666666666666,
              "#ed7953"
             ],
             [
              0.7777777777777778,
              "#fb9f3a"
             ],
             [
              0.8888888888888888,
              "#fdca26"
             ],
             [
              1.0,
              "#f0f921"
             ]
            ]
           }
          ],
          "heatmap": [
           {
            "type": "heatmap",
            "colorbar": {
             "outlinewidth": 0,
             "ticks": ""
            },
            "colorscale": [
             [
              0.0,
              "#0d0887"
             ],
             [
              0.1111111111111111,
              "#46039f"
             ],
             [
              0.2222222222222222,
              "#7201a8"
             ],
             [
              0.3333333333333333,
              "#9c179e"
             ],
             [
              0.4444444444444444,
              "#bd3786"
             ],
             [
              0.5555555555555556,
              "#d8576b"
             ],
             [
              0.6666666666666666,
              "#ed7953"
             ],
             [
              0.7777777777777778,
              "#fb9f3a"
             ],
             [
              0.8888888888888888,
              "#fdca26"
             ],
             [
              1.0,
              "#f0f921"
             ]
            ]
           }
          ],
          "heatmapgl": [
           {
            "type": "heatmapgl",
            "colorbar": {
             "outlinewidth": 0,
             "ticks": ""
            },
            "colorscale": [
             [
              0.0,
              "#0d0887"
             ],
             [
              0.1111111111111111,
              "#46039f"
             ],
             [
              0.2222222222222222,
              "#7201a8"
             ],
             [
              0.3333333333333333,
              "#9c179e"
             ],
             [
              0.4444444444444444,
              "#bd3786"
             ],
             [
              0.5555555555555556,
              "#d8576b"
             ],
             [
              0.6666666666666666,
              "#ed7953"
             ],
             [
              0.7777777777777778,
              "#fb9f3a"
             ],
             [
              0.8888888888888888,
              "#fdca26"
             ],
             [
              1.0,
              "#f0f921"
             ]
            ]
           }
          ],
          "contourcarpet": [
           {
            "type": "contourcarpet",
            "colorbar": {
             "outlinewidth": 0,
             "ticks": ""
            }
           }
          ],
          "contour": [
           {
            "type": "contour",
            "colorbar": {
             "outlinewidth": 0,
             "ticks": ""
            },
            "colorscale": [
             [
              0.0,
              "#0d0887"
             ],
             [
              0.1111111111111111,
              "#46039f"
             ],
             [
              0.2222222222222222,
              "#7201a8"
             ],
             [
              0.3333333333333333,
              "#9c179e"
             ],
             [
              0.4444444444444444,
              "#bd3786"
             ],
             [
              0.5555555555555556,
              "#d8576b"
             ],
             [
              0.6666666666666666,
              "#ed7953"
             ],
             [
              0.7777777777777778,
              "#fb9f3a"
             ],
             [
              0.8888888888888888,
              "#fdca26"
             ],
             [
              1.0,
              "#f0f921"
             ]
            ]
           }
          ],
          "surface": [
           {
            "type": "surface",
            "colorbar": {
             "outlinewidth": 0,
             "ticks": ""
            },
            "colorscale": [
             [
              0.0,
              "#0d0887"
             ],
             [
              0.1111111111111111,
              "#46039f"
             ],
             [
              0.2222222222222222,
              "#7201a8"
             ],
             [
              0.3333333333333333,
              "#9c179e"
             ],
             [
              0.4444444444444444,
              "#bd3786"
             ],
             [
              0.5555555555555556,
              "#d8576b"
             ],
             [
              0.6666666666666666,
              "#ed7953"
             ],
             [
              0.7777777777777778,
              "#fb9f3a"
             ],
             [
              0.8888888888888888,
              "#fdca26"
             ],
             [
              1.0,
              "#f0f921"
             ]
            ]
           }
          ],
          "mesh3d": [
           {
            "type": "mesh3d",
            "colorbar": {
             "outlinewidth": 0,
             "ticks": ""
            }
           }
          ],
          "scatter": [
           {
            "marker": {
             "line": {
              "color": "#283442"
             }
            },
            "type": "scatter"
           }
          ],
          "parcoords": [
           {
            "type": "parcoords",
            "line": {
             "colorbar": {
              "outlinewidth": 0,
              "ticks": ""
             }
            }
           }
          ],
          "scatterpolargl": [
           {
            "type": "scatterpolargl",
            "marker": {
             "colorbar": {
              "outlinewidth": 0,
              "ticks": ""
             }
            }
           }
          ],
          "bar": [
           {
            "error_x": {
             "color": "#f2f5fa"
            },
            "error_y": {
             "color": "#f2f5fa"
            },
            "marker": {
             "line": {
              "color": "rgb(17,17,17)",
              "width": 0.5
             },
             "pattern": {
              "fillmode": "overlay",
              "size": 10,
              "solidity": 0.2
             }
            },
            "type": "bar"
           }
          ],
          "scattergeo": [
           {
            "type": "scattergeo",
            "marker": {
             "colorbar": {
              "outlinewidth": 0,
              "ticks": ""
             }
            }
           }
          ],
          "scatterpolar": [
           {
            "type": "scatterpolar",
            "marker": {
             "colorbar": {
              "outlinewidth": 0,
              "ticks": ""
             }
            }
           }
          ],
          "histogram": [
           {
            "marker": {
             "pattern": {
              "fillmode": "overlay",
              "size": 10,
              "solidity": 0.2
             }
            },
            "type": "histogram"
           }
          ],
          "scattergl": [
           {
            "marker": {
             "line": {
              "color": "#283442"
             }
            },
            "type": "scattergl"
           }
          ],
          "scatter3d": [
           {
            "type": "scatter3d",
            "line": {
             "colorbar": {
              "outlinewidth": 0,
              "ticks": ""
             }
            },
            "marker": {
             "colorbar": {
              "outlinewidth": 0,
              "ticks": ""
             }
            }
           }
          ],
          "scattermapbox": [
           {
            "type": "scattermapbox",
            "marker": {
             "colorbar": {
              "outlinewidth": 0,
              "ticks": ""
             }
            }
           }
          ],
          "scatterternary": [
           {
            "type": "scatterternary",
            "marker": {
             "colorbar": {
              "outlinewidth": 0,
              "ticks": ""
             }
            }
           }
          ],
          "scattercarpet": [
           {
            "type": "scattercarpet",
            "marker": {
             "colorbar": {
              "outlinewidth": 0,
              "ticks": ""
             }
            }
           }
          ],
          "carpet": [
           {
            "aaxis": {
             "endlinecolor": "#A2B1C6",
             "gridcolor": "#506784",
             "linecolor": "#506784",
             "minorgridcolor": "#506784",
             "startlinecolor": "#A2B1C6"
            },
            "baxis": {
             "endlinecolor": "#A2B1C6",
             "gridcolor": "#506784",
             "linecolor": "#506784",
             "minorgridcolor": "#506784",
             "startlinecolor": "#A2B1C6"
            },
            "type": "carpet"
           }
          ],
          "table": [
           {
            "cells": {
             "fill": {
              "color": "#506784"
             },
             "line": {
              "color": "rgb(17,17,17)"
             }
            },
            "header": {
             "fill": {
              "color": "#2a3f5f"
             },
             "line": {
              "color": "rgb(17,17,17)"
             }
            },
            "type": "table"
           }
          ],
          "barpolar": [
           {
            "marker": {
             "line": {
              "color": "rgb(17,17,17)",
              "width": 0.5
             },
             "pattern": {
              "fillmode": "overlay",
              "size": 10,
              "solidity": 0.2
             }
            },
            "type": "barpolar"
           }
          ],
          "pie": [
           {
            "automargin": true,
            "type": "pie"
           }
          ]
         },
         "layout": {
          "autotypenumbers": "strict",
          "colorway": [
           "#636efa",
           "#EF553B",
           "#00cc96",
           "#ab63fa",
           "#FFA15A",
           "#19d3f3",
           "#FF6692",
           "#B6E880",
           "#FF97FF",
           "#FECB52"
          ],
          "font": {
           "color": "#f2f5fa"
          },
          "hovermode": "closest",
          "hoverlabel": {
           "align": "left"
          },
          "paper_bgcolor": "rgb(17,17,17)",
          "plot_bgcolor": "rgb(17,17,17)",
          "polar": {
           "bgcolor": "rgb(17,17,17)",
           "angularaxis": {
            "gridcolor": "#506784",
            "linecolor": "#506784",
            "ticks": ""
           },
           "radialaxis": {
            "gridcolor": "#506784",
            "linecolor": "#506784",
            "ticks": ""
           }
          },
          "ternary": {
           "bgcolor": "rgb(17,17,17)",
           "aaxis": {
            "gridcolor": "#506784",
            "linecolor": "#506784",
            "ticks": ""
           },
           "baxis": {
            "gridcolor": "#506784",
            "linecolor": "#506784",
            "ticks": ""
           },
           "caxis": {
            "gridcolor": "#506784",
            "linecolor": "#506784",
            "ticks": ""
           }
          },
          "coloraxis": {
           "colorbar": {
            "outlinewidth": 0,
            "ticks": ""
           }
          },
          "colorscale": {
           "sequential": [
            [
             0.0,
             "#0d0887"
            ],
            [
             0.1111111111111111,
             "#46039f"
            ],
            [
             0.2222222222222222,
             "#7201a8"
            ],
            [
             0.3333333333333333,
             "#9c179e"
            ],
            [
             0.4444444444444444,
             "#bd3786"
            ],
            [
             0.5555555555555556,
             "#d8576b"
            ],
            [
             0.6666666666666666,
             "#ed7953"
            ],
            [
             0.7777777777777778,
             "#fb9f3a"
            ],
            [
             0.8888888888888888,
             "#fdca26"
            ],
            [
             1.0,
             "#f0f921"
            ]
           ],
           "sequentialminus": [
            [
             0.0,
             "#0d0887"
            ],
            [
             0.1111111111111111,
             "#46039f"
            ],
            [
             0.2222222222222222,
             "#7201a8"
            ],
            [
             0.3333333333333333,
             "#9c179e"
            ],
            [
             0.4444444444444444,
             "#bd3786"
            ],
            [
             0.5555555555555556,
             "#d8576b"
            ],
            [
             0.6666666666666666,
             "#ed7953"
            ],
            [
             0.7777777777777778,
             "#fb9f3a"
            ],
            [
             0.8888888888888888,
             "#fdca26"
            ],
            [
             1.0,
             "#f0f921"
            ]
           ],
           "diverging": [
            [
             0,
             "#8e0152"
            ],
            [
             0.1,
             "#c51b7d"
            ],
            [
             0.2,
             "#de77ae"
            ],
            [
             0.3,
             "#f1b6da"
            ],
            [
             0.4,
             "#fde0ef"
            ],
            [
             0.5,
             "#f7f7f7"
            ],
            [
             0.6,
             "#e6f5d0"
            ],
            [
             0.7,
             "#b8e186"
            ],
            [
             0.8,
             "#7fbc41"
            ],
            [
             0.9,
             "#4d9221"
            ],
            [
             1,
             "#276419"
            ]
           ]
          },
          "xaxis": {
           "gridcolor": "#283442",
           "linecolor": "#506784",
           "ticks": "",
           "title": {
            "standoff": 15
           },
           "zerolinecolor": "#283442",
           "automargin": true,
           "zerolinewidth": 2
          },
          "yaxis": {
           "gridcolor": "#283442",
           "linecolor": "#506784",
           "ticks": "",
           "title": {
            "standoff": 15
           },
           "zerolinecolor": "#283442",
           "automargin": true,
           "zerolinewidth": 2
          },
          "scene": {
           "xaxis": {
            "backgroundcolor": "rgb(17,17,17)",
            "gridcolor": "#506784",
            "linecolor": "#506784",
            "showbackground": true,
            "ticks": "",
            "zerolinecolor": "#C8D4E3",
            "gridwidth": 2
           },
           "yaxis": {
            "backgroundcolor": "rgb(17,17,17)",
            "gridcolor": "#506784",
            "linecolor": "#506784",
            "showbackground": true,
            "ticks": "",
            "zerolinecolor": "#C8D4E3",
            "gridwidth": 2
           },
           "zaxis": {
            "backgroundcolor": "rgb(17,17,17)",
            "gridcolor": "#506784",
            "linecolor": "#506784",
            "showbackground": true,
            "ticks": "",
            "zerolinecolor": "#C8D4E3",
            "gridwidth": 2
           }
          },
          "shapedefaults": {
           "line": {
            "color": "#f2f5fa"
           }
          },
          "annotationdefaults": {
           "arrowcolor": "#f2f5fa",
           "arrowhead": 0,
           "arrowwidth": 1
          },
          "geo": {
           "bgcolor": "rgb(17,17,17)",
           "landcolor": "rgb(17,17,17)",
           "subunitcolor": "#506784",
           "showland": true,
           "showlakes": true,
           "lakecolor": "rgb(17,17,17)"
          },
          "title": {
           "x": 0.05
          },
          "updatemenudefaults": {
           "bgcolor": "#506784",
           "borderwidth": 0
          },
          "sliderdefaults": {
           "bgcolor": "#C8D4E3",
           "borderwidth": 1,
           "bordercolor": "rgb(17,17,17)",
           "tickwidth": 0
          },
          "mapbox": {
           "style": "dark"
          }
         }
        },
        "xaxis": {
         "anchor": "y",
         "domain": [
          0.0,
          1.0
         ],
         "title": {
          "text": "Human Development Index"
         }
        },
        "yaxis": {
         "anchor": "x",
         "domain": [
          0.0,
          0.7326
         ],
         "title": {
          "text": "count"
         }
        },
        "xaxis2": {
         "anchor": "y2",
         "domain": [
          0.0,
          1.0
         ],
         "matches": "x",
         "showticklabels": false,
         "showgrid": true
        },
        "yaxis2": {
         "anchor": "x2",
         "domain": [
          0.7426,
          1.0
         ],
         "matches": "y2",
         "showticklabels": false,
         "showline": false,
         "ticks": "",
         "showgrid": false
        },
        "legend": {
         "title": {
          "text": "reference"
         },
         "tracegroupgap": 0
        },
        "title": {
         "text": "Histogram Human Development Index per year for Europe"
        },
        "barmode": "relative",
        "updatemenus": [
         {
          "buttons": [
           {
            "args": [
             null,
             {
              "frame": {
               "duration": 500,
               "redraw": true
              },
              "mode": "immediate",
              "fromcurrent": true,
              "transition": {
               "duration": 500,
               "easing": "linear"
              }
             }
            ],
            "label": "&#9654;",
            "method": "animate"
           },
           {
            "args": [
             [
              null
             ],
             {
              "frame": {
               "duration": 0,
               "redraw": true
              },
              "mode": "immediate",
              "fromcurrent": true,
              "transition": {
               "duration": 0,
               "easing": "linear"
              }
             }
            ],
            "label": "&#9724;",
            "method": "animate"
           }
          ],
          "direction": "left",
          "pad": {
           "r": 10,
           "t": 70
          },
          "showactive": false,
          "type": "buttons",
          "x": 0.1,
          "xanchor": "right",
          "y": 0,
          "yanchor": "top"
         }
        ],
        "sliders": [
         {
          "active": 0,
          "currentvalue": {
           "prefix": "Year="
          },
          "len": 0.9,
          "pad": {
           "b": 10,
           "t": 60
          },
          "steps": [
           {
            "args": [
             [
              "2000"
             ],
             {
              "frame": {
               "duration": 0,
               "redraw": true
              },
              "mode": "immediate",
              "fromcurrent": true,
              "transition": {
               "duration": 0,
               "easing": "linear"
              }
             }
            ],
            "label": "2000",
            "method": "animate"
           },
           {
            "args": [
             [
              "2001"
             ],
             {
              "frame": {
               "duration": 0,
               "redraw": true
              },
              "mode": "immediate",
              "fromcurrent": true,
              "transition": {
               "duration": 0,
               "easing": "linear"
              }
             }
            ],
            "label": "2001",
            "method": "animate"
           },
           {
            "args": [
             [
              "2002"
             ],
             {
              "frame": {
               "duration": 0,
               "redraw": true
              },
              "mode": "immediate",
              "fromcurrent": true,
              "transition": {
               "duration": 0,
               "easing": "linear"
              }
             }
            ],
            "label": "2002",
            "method": "animate"
           },
           {
            "args": [
             [
              "2003"
             ],
             {
              "frame": {
               "duration": 0,
               "redraw": true
              },
              "mode": "immediate",
              "fromcurrent": true,
              "transition": {
               "duration": 0,
               "easing": "linear"
              }
             }
            ],
            "label": "2003",
            "method": "animate"
           },
           {
            "args": [
             [
              "2004"
             ],
             {
              "frame": {
               "duration": 0,
               "redraw": true
              },
              "mode": "immediate",
              "fromcurrent": true,
              "transition": {
               "duration": 0,
               "easing": "linear"
              }
             }
            ],
            "label": "2004",
            "method": "animate"
           },
           {
            "args": [
             [
              "2005"
             ],
             {
              "frame": {
               "duration": 0,
               "redraw": true
              },
              "mode": "immediate",
              "fromcurrent": true,
              "transition": {
               "duration": 0,
               "easing": "linear"
              }
             }
            ],
            "label": "2005",
            "method": "animate"
           },
           {
            "args": [
             [
              "2006"
             ],
             {
              "frame": {
               "duration": 0,
               "redraw": true
              },
              "mode": "immediate",
              "fromcurrent": true,
              "transition": {
               "duration": 0,
               "easing": "linear"
              }
             }
            ],
            "label": "2006",
            "method": "animate"
           },
           {
            "args": [
             [
              "2007"
             ],
             {
              "frame": {
               "duration": 0,
               "redraw": true
              },
              "mode": "immediate",
              "fromcurrent": true,
              "transition": {
               "duration": 0,
               "easing": "linear"
              }
             }
            ],
            "label": "2007",
            "method": "animate"
           },
           {
            "args": [
             [
              "2008"
             ],
             {
              "frame": {
               "duration": 0,
               "redraw": true
              },
              "mode": "immediate",
              "fromcurrent": true,
              "transition": {
               "duration": 0,
               "easing": "linear"
              }
             }
            ],
            "label": "2008",
            "method": "animate"
           },
           {
            "args": [
             [
              "2009"
             ],
             {
              "frame": {
               "duration": 0,
               "redraw": true
              },
              "mode": "immediate",
              "fromcurrent": true,
              "transition": {
               "duration": 0,
               "easing": "linear"
              }
             }
            ],
            "label": "2009",
            "method": "animate"
           },
           {
            "args": [
             [
              "2010"
             ],
             {
              "frame": {
               "duration": 0,
               "redraw": true
              },
              "mode": "immediate",
              "fromcurrent": true,
              "transition": {
               "duration": 0,
               "easing": "linear"
              }
             }
            ],
            "label": "2010",
            "method": "animate"
           },
           {
            "args": [
             [
              "2011"
             ],
             {
              "frame": {
               "duration": 0,
               "redraw": true
              },
              "mode": "immediate",
              "fromcurrent": true,
              "transition": {
               "duration": 0,
               "easing": "linear"
              }
             }
            ],
            "label": "2011",
            "method": "animate"
           },
           {
            "args": [
             [
              "2012"
             ],
             {
              "frame": {
               "duration": 0,
               "redraw": true
              },
              "mode": "immediate",
              "fromcurrent": true,
              "transition": {
               "duration": 0,
               "easing": "linear"
              }
             }
            ],
            "label": "2012",
            "method": "animate"
           },
           {
            "args": [
             [
              "2013"
             ],
             {
              "frame": {
               "duration": 0,
               "redraw": true
              },
              "mode": "immediate",
              "fromcurrent": true,
              "transition": {
               "duration": 0,
               "easing": "linear"
              }
             }
            ],
            "label": "2013",
            "method": "animate"
           },
           {
            "args": [
             [
              "2014"
             ],
             {
              "frame": {
               "duration": 0,
               "redraw": true
              },
              "mode": "immediate",
              "fromcurrent": true,
              "transition": {
               "duration": 0,
               "easing": "linear"
              }
             }
            ],
            "label": "2014",
            "method": "animate"
           },
           {
            "args": [
             [
              "2015"
             ],
             {
              "frame": {
               "duration": 0,
               "redraw": true
              },
              "mode": "immediate",
              "fromcurrent": true,
              "transition": {
               "duration": 0,
               "easing": "linear"
              }
             }
            ],
            "label": "2015",
            "method": "animate"
           },
           {
            "args": [
             [
              "2016"
             ],
             {
              "frame": {
               "duration": 0,
               "redraw": true
              },
              "mode": "immediate",
              "fromcurrent": true,
              "transition": {
               "duration": 0,
               "easing": "linear"
              }
             }
            ],
            "label": "2016",
            "method": "animate"
           },
           {
            "args": [
             [
              "2017"
             ],
             {
              "frame": {
               "duration": 0,
               "redraw": true
              },
              "mode": "immediate",
              "fromcurrent": true,
              "transition": {
               "duration": 0,
               "easing": "linear"
              }
             }
            ],
            "label": "2017",
            "method": "animate"
           },
           {
            "args": [
             [
              "2018"
             ],
             {
              "frame": {
               "duration": 0,
               "redraw": true
              },
              "mode": "immediate",
              "fromcurrent": true,
              "transition": {
               "duration": 0,
               "easing": "linear"
              }
             }
            ],
            "label": "2018",
            "method": "animate"
           },
           {
            "args": [
             [
              "2019"
             ],
             {
              "frame": {
               "duration": 0,
               "redraw": true
              },
              "mode": "immediate",
              "fromcurrent": true,
              "transition": {
               "duration": 0,
               "easing": "linear"
              }
             }
            ],
            "label": "2019",
            "method": "animate"
           },
           {
            "args": [
             [
              "2020"
             ],
             {
              "frame": {
               "duration": 0,
               "redraw": true
              },
              "mode": "immediate",
              "fromcurrent": true,
              "transition": {
               "duration": 0,
               "easing": "linear"
              }
             }
            ],
            "label": "2020",
            "method": "animate"
           }
          ],
          "x": 0.1,
          "xanchor": "left",
          "y": 0,
          "yanchor": "top"
         }
        ],
        "transition": {
         "duration": 10000
        },
        "showlegend": false
       },
       "frames": [
        {
         "data": [
          {
           "alignmentgroup": "True",
           "bingroup": "x",
           "hovertemplate": "reference=False<br>Year=2000<br>Human Development Index=%{x}<br>count=%{y}<extra></extra>",
           "legendgroup": "False",
           "marker": {
            "color": "#636efa",
            "opacity": 1,
            "pattern": {
             "shape": ""
            }
           },
           "name": "False",
           "offsetgroup": "False",
           "orientation": "v",
           "showlegend": true,
           "texttemplate": "%{value}",
           "x": [
            0.677,
            0.871,
            0.712,
            0.887,
            0.667,
            0.725,
            0.759,
            0.808,
            0.889,
            0.787,
            0.891,
            0.844,
            0.889,
            0.81,
            0.773,
            0.871,
            0.847,
            0.841,
            0.756,
            0.766,
            0.864,
            0.779,
            0.893,
            0.675,
            0.913,
            0.793,
            0.791,
            0.715,
            0.763,
            0.821,
            0.825,
            0.904,
            0.887,
            0.7,
            0.862
           ],
           "xaxis": "x",
           "yaxis": "y",
           "type": "histogram"
          },
          {
           "alignmentgroup": "True",
           "hovertemplate": "reference=False<br>Year=2000<br>Human Development Index=%{x}<extra></extra>",
           "legendgroup": "False",
           "marker": {
            "color": "#636efa"
           },
           "name": "False",
           "notched": true,
           "offsetgroup": "False",
           "showlegend": false,
           "x": [
            0.677,
            0.871,
            0.712,
            0.887,
            0.667,
            0.725,
            0.759,
            0.808,
            0.889,
            0.787,
            0.891,
            0.844,
            0.889,
            0.81,
            0.773,
            0.871,
            0.847,
            0.841,
            0.756,
            0.766,
            0.864,
            0.779,
            0.893,
            0.675,
            0.913,
            0.793,
            0.791,
            0.715,
            0.763,
            0.821,
            0.825,
            0.904,
            0.887,
            0.7,
            0.862
           ],
           "xaxis": "x2",
           "yaxis": "y2",
           "type": "box"
          }
         ],
         "name": "2000"
        },
        {
         "data": [
          {
           "alignmentgroup": "True",
           "bingroup": "x",
           "hovertemplate": "reference=False<br>Year=2001<br>Human Development Index=%{x}<br>count=%{y}<extra></extra>",
           "legendgroup": "False",
           "marker": {
            "color": "#636efa",
            "opacity": 1,
            "pattern": {
             "shape": ""
            }
           },
           "name": "False",
           "offsetgroup": "False",
           "orientation": "v",
           "showlegend": true,
           "texttemplate": "%{value}",
           "x": [
            0.684,
            0.876,
            0.716,
            0.89,
            0.672,
            0.734,
            0.769,
            0.818,
            0.895,
            0.797,
            0.9,
            0.847,
            0.896,
            0.82,
            0.782,
            0.879,
            0.855,
            0.849,
            0.767,
            0.776,
            0.869,
            0.796,
            0.895,
            0.679,
            0.911,
            0.799,
            0.797,
            0.722,
            0.77,
            0.837,
            0.83,
            0.907,
            0.89,
            0.715,
            0.868
           ],
           "xaxis": "x",
           "yaxis": "y",
           "type": "histogram"
          },
          {
           "alignmentgroup": "True",
           "hovertemplate": "reference=False<br>Year=2001<br>Human Development Index=%{x}<extra></extra>",
           "legendgroup": "False",
           "marker": {
            "color": "#636efa"
           },
           "name": "False",
           "notched": true,
           "offsetgroup": "False",
           "showlegend": false,
           "x": [
            0.684,
            0.876,
            0.716,
            0.89,
            0.672,
            0.734,
            0.769,
            0.818,
            0.895,
            0.797,
            0.9,
            0.847,
            0.896,
            0.82,
            0.782,
            0.879,
            0.855,
            0.849,
            0.767,
            0.776,
            0.869,
            0.796,
            0.895,
            0.679,
            0.911,
            0.799,
            0.797,
            0.722,
            0.77,
            0.837,
            0.83,
            0.907,
            0.89,
            0.715,
            0.868
           ],
           "xaxis": "x2",
           "yaxis": "y2",
           "type": "box"
          }
         ],
         "name": "2001"
        },
        {
         "data": [
          {
           "alignmentgroup": "True",
           "bingroup": "x",
           "hovertemplate": "reference=False<br>Year=2002<br>Human Development Index=%{x}<br>count=%{y}<extra></extra>",
           "legendgroup": "False",
           "marker": {
            "color": "#636efa",
            "opacity": 1,
            "pattern": {
             "shape": ""
            }
           },
           "name": "False",
           "offsetgroup": "False",
           "orientation": "v",
           "showlegend": true,
           "texttemplate": "%{value}",
           "x": [
            0.689,
            0.879,
            0.721,
            0.892,
            0.675,
            0.74,
            0.777,
            0.825,
            0.896,
            0.807,
            0.904,
            0.848,
            0.901,
            0.83,
            0.791,
            0.886,
            0.864,
            0.853,
            0.778,
            0.786,
            0.874,
            0.8,
            0.892,
            0.683,
            0.912,
            0.806,
            0.798,
            0.729,
            0.779,
            0.848,
            0.834,
            0.91,
            0.89,
            0.722,
            0.873
           ],
           "xaxis": "x",
           "yaxis": "y",
           "type": "histogram"
          },
          {
           "alignmentgroup": "True",
           "hovertemplate": "reference=False<br>Year=2002<br>Human Development Index=%{x}<extra></extra>",
           "legendgroup": "False",
           "marker": {
            "color": "#636efa"
           },
           "name": "False",
           "notched": true,
           "offsetgroup": "False",
           "showlegend": false,
           "x": [
            0.689,
            0.879,
            0.721,
            0.892,
            0.675,
            0.74,
            0.777,
            0.825,
            0.896,
            0.807,
            0.904,
            0.848,
            0.901,
            0.83,
            0.791,
            0.886,
            0.864,
            0.853,
            0.778,
            0.786,
            0.874,
            0.8,
            0.892,
            0.683,
            0.912,
            0.806,
            0.798,
            0.729,
            0.779,
            0.848,
            0.834,
            0.91,
            0.89,
            0.722,
            0.873
           ],
           "xaxis": "x2",
           "yaxis": "y2",
           "type": "box"
          }
         ],
         "name": "2002"
        },
        {
         "data": [
          {
           "alignmentgroup": "True",
           "bingroup": "x",
           "hovertemplate": "reference=False<br>Year=2003<br>Human Development Index=%{x}<br>count=%{y}<extra></extra>",
           "legendgroup": "False",
           "marker": {
            "color": "#636efa",
            "opacity": 1,
            "pattern": {
             "shape": ""
            }
           },
           "name": "False",
           "offsetgroup": "False",
           "orientation": "v",
           "showlegend": true,
           "texttemplate": "%{value}",
           "x": [
            0.696,
            0.881,
            0.73,
            0.895,
            0.683,
            0.749,
            0.783,
            0.831,
            0.901,
            0.816,
            0.907,
            0.851,
            0.905,
            0.835,
            0.798,
            0.891,
            0.873,
            0.858,
            0.787,
            0.8,
            0.873,
            0.812,
            0.894,
            0.688,
            0.919,
            0.811,
            0.802,
            0.732,
            0.784,
            0.858,
            0.837,
            0.915,
            0.895,
            0.732,
            0.878
           ],
           "xaxis": "x",
           "yaxis": "y",
           "type": "histogram"
          },
          {
           "alignmentgroup": "True",
           "hovertemplate": "reference=False<br>Year=2003<br>Human Development Index=%{x}<extra></extra>",
           "legendgroup": "False",
           "marker": {
            "color": "#636efa"
           },
           "name": "False",
           "notched": true,
           "offsetgroup": "False",
           "showlegend": false,
           "x": [
            0.696,
            0.881,
            0.73,
            0.895,
            0.683,
            0.749,
            0.783,
            0.831,
            0.901,
            0.816,
            0.907,
            0.851,
            0.905,
            0.835,
            0.798,
            0.891,
            0.873,
            0.858,
            0.787,
            0.8,
            0.873,
            0.812,
            0.894,
            0.688,
            0.919,
            0.811,
            0.802,
            0.732,
            0.784,
            0.858,
            0.837,
            0.915,
            0.895,
            0.732,
            0.878
           ],
           "xaxis": "x2",
           "yaxis": "y2",
           "type": "box"
          }
         ],
         "name": "2003"
        },
        {
         "data": [
          {
           "alignmentgroup": "True",
           "bingroup": "x",
           "hovertemplate": "reference=False<br>Year=2004<br>Human Development Index=%{x}<br>count=%{y}<extra></extra>",
           "legendgroup": "False",
           "marker": {
            "color": "#636efa",
            "opacity": 1,
            "pattern": {
             "shape": ""
            }
           },
           "name": "False",
           "offsetgroup": "False",
           "orientation": "v",
           "showlegend": true,
           "texttemplate": "%{value}",
           "x": [
            0.7,
            0.886,
            0.742,
            0.9,
            0.69,
            0.756,
            0.796,
            0.836,
            0.906,
            0.826,
            0.902,
            0.858,
            0.914,
            0.843,
            0.801,
            0.895,
            0.881,
            0.865,
            0.799,
            0.809,
            0.882,
            0.825,
            0.897,
            0.694,
            0.927,
            0.809,
            0.805,
            0.742,
            0.794,
            0.865,
            0.844,
            0.9,
            0.901,
            0.74,
            0.889
           ],
           "xaxis": "x",
           "yaxis": "y",
           "type": "histogram"
          },
          {
           "alignmentgroup": "True",
           "hovertemplate": "reference=False<br>Year=2004<br>Human Development Index=%{x}<extra></extra>",
           "legendgroup": "False",
           "marker": {
            "color": "#636efa"
           },
           "name": "False",
           "notched": true,
           "offsetgroup": "False",
           "showlegend": false,
           "x": [
            0.7,
            0.886,
            0.742,
            0.9,
            0.69,
            0.756,
            0.796,
            0.836,
            0.906,
            0.826,
            0.902,
            0.858,
            0.914,
            0.843,
            0.801,
            0.895,
            0.881,
            0.865,
            0.799,
            0.809,
            0.882,
            0.825,
            0.897,
            0.694,
            0.927,
            0.809,
            0.805,
            0.742,
            0.794,
            0.865,
            0.844,
            0.9,
            0.901,
            0.74,
            0.889
           ],
           "xaxis": "x2",
           "yaxis": "y2",
           "type": "box"
          }
         ],
         "name": "2004"
        },
        {
         "data": [
          {
           "alignmentgroup": "True",
           "bingroup": "x",
           "hovertemplate": "reference=False<br>Year=2005<br>Human Development Index=%{x}<br>count=%{y}<extra></extra>",
           "legendgroup": "False",
           "marker": {
            "color": "#636efa",
            "opacity": 1,
            "pattern": {
             "shape": ""
            }
           },
           "name": "False",
           "offsetgroup": "False",
           "orientation": "v",
           "showlegend": true,
           "texttemplate": "%{value}",
           "x": [
            0.711,
            0.889,
            0.75,
            0.902,
            0.691,
            0.762,
            0.802,
            0.844,
            0.911,
            0.839,
            0.905,
            0.866,
            0.914,
            0.855,
            0.806,
            0.901,
            0.888,
            0.868,
            0.808,
            0.817,
            0.884,
            0.832,
            0.899,
            0.699,
            0.931,
            0.815,
            0.806,
            0.756,
            0.803,
            0.869,
            0.85,
            0.902,
            0.905,
            0.743,
            0.895
           ],
           "xaxis": "x",
           "yaxis": "y",
           "type": "histogram"
          },
          {
           "alignmentgroup": "True",
           "hovertemplate": "reference=False<br>Year=2005<br>Human Development Index=%{x}<extra></extra>",
           "legendgroup": "False",
           "marker": {
            "color": "#636efa"
           },
           "name": "False",
           "notched": true,
           "offsetgroup": "False",
           "showlegend": false,
           "x": [
            0.711,
            0.889,
            0.75,
            0.902,
            0.691,
            0.762,
            0.802,
            0.844,
            0.911,
            0.839,
            0.905,
            0.866,
            0.914,
            0.855,
            0.806,
            0.901,
            0.888,
            0.868,
            0.808,
            0.817,
            0.884,
            0.832,
            0.899,
            0.699,
            0.931,
            0.815,
            0.806,
            0.756,
            0.803,
            0.869,
            0.85,
            0.902,
            0.905,
            0.743,
            0.895
           ],
           "xaxis": "x2",
           "yaxis": "y2",
           "type": "box"
          }
         ],
         "name": "2005"
        },
        {
         "data": [
          {
           "alignmentgroup": "True",
           "bingroup": "x",
           "hovertemplate": "reference=False<br>Year=2006<br>Human Development Index=%{x}<br>count=%{y}<extra></extra>",
           "legendgroup": "False",
           "marker": {
            "color": "#636efa",
            "opacity": 1,
            "pattern": {
             "shape": ""
            }
           },
           "name": "False",
           "offsetgroup": "False",
           "orientation": "v",
           "showlegend": true,
           "texttemplate": "%{value}",
           "x": [
            0.718,
            0.893,
            0.762,
            0.905,
            0.699,
            0.767,
            0.811,
            0.852,
            0.91,
            0.847,
            0.909,
            0.87,
            0.917,
            0.863,
            0.814,
            0.903,
            0.891,
            0.873,
            0.815,
            0.823,
            0.885,
            0.831,
            0.906,
            0.707,
            0.937,
            0.82,
            0.811,
            0.77,
            0.812,
            0.878,
            0.856,
            0.906,
            0.914,
            0.751,
            0.894
           ],
           "xaxis": "x",
           "yaxis": "y",
           "type": "histogram"
          },
          {
           "alignmentgroup": "True",
           "hovertemplate": "reference=False<br>Year=2006<br>Human Development Index=%{x}<extra></extra>",
           "legendgroup": "False",
           "marker": {
            "color": "#636efa"
           },
           "name": "False",
           "notched": true,
           "offsetgroup": "False",
           "showlegend": false,
           "x": [
            0.718,
            0.893,
            0.762,
            0.905,
            0.699,
            0.767,
            0.811,
            0.852,
            0.91,
            0.847,
            0.909,
            0.87,
            0.917,
            0.863,
            0.814,
            0.903,
            0.891,
            0.873,
            0.815,
            0.823,
            0.885,
            0.831,
            0.906,
            0.707,
            0.937,
            0.82,
            0.811,
            0.77,
            0.812,
            0.878,
            0.856,
            0.906,
            0.914,
            0.751,
            0.894
           ],
           "xaxis": "x2",
           "yaxis": "y2",
           "type": "box"
          }
         ],
         "name": "2006"
        },
        {
         "data": [
          {
           "alignmentgroup": "True",
           "bingroup": "x",
           "hovertemplate": "reference=False<br>Year=2007<br>Human Development Index=%{x}<br>count=%{y}<extra></extra>",
           "legendgroup": "False",
           "marker": {
            "color": "#636efa",
            "opacity": 1,
            "pattern": {
             "shape": ""
            }
           },
           "name": "False",
           "offsetgroup": "False",
           "orientation": "v",
           "showlegend": true,
           "texttemplate": "%{value}",
           "x": [
            0.73,
            0.896,
            0.773,
            0.908,
            0.707,
            0.774,
            0.815,
            0.859,
            0.911,
            0.853,
            0.911,
            0.873,
            0.921,
            0.858,
            0.817,
            0.909,
            0.896,
            0.877,
            0.82,
            0.83,
            0.887,
            0.837,
            0.787,
            0.912,
            0.711,
            0.938,
            0.825,
            0.818,
            0.786,
            0.754,
            0.823,
            0.882,
            0.858,
            0.908,
            0.92,
            0.757,
            0.897
           ],
           "xaxis": "x",
           "yaxis": "y",
           "type": "histogram"
          },
          {
           "alignmentgroup": "True",
           "hovertemplate": "reference=False<br>Year=2007<br>Human Development Index=%{x}<extra></extra>",
           "legendgroup": "False",
           "marker": {
            "color": "#636efa"
           },
           "name": "False",
           "notched": true,
           "offsetgroup": "False",
           "showlegend": false,
           "x": [
            0.73,
            0.896,
            0.773,
            0.908,
            0.707,
            0.774,
            0.815,
            0.859,
            0.911,
            0.853,
            0.911,
            0.873,
            0.921,
            0.858,
            0.817,
            0.909,
            0.896,
            0.877,
            0.82,
            0.83,
            0.887,
            0.837,
            0.787,
            0.912,
            0.711,
            0.938,
            0.825,
            0.818,
            0.786,
            0.754,
            0.823,
            0.882,
            0.858,
            0.908,
            0.92,
            0.757,
            0.897
           ],
           "xaxis": "x2",
           "yaxis": "y2",
           "type": "box"
          }
         ],
         "name": "2007"
        },
        {
         "data": [
          {
           "alignmentgroup": "True",
           "bingroup": "x",
           "hovertemplate": "reference=False<br>Year=2008<br>Human Development Index=%{x}<br>count=%{y}<extra></extra>",
           "legendgroup": "False",
           "marker": {
            "color": "#636efa",
            "opacity": 1,
            "pattern": {
             "shape": ""
            }
           },
           "name": "False",
           "offsetgroup": "False",
           "orientation": "v",
           "showlegend": true,
           "texttemplate": "%{value}",
           "x": [
            0.736,
            0.898,
            0.783,
            0.908,
            0.718,
            0.782,
            0.817,
            0.863,
            0.915,
            0.856,
            0.912,
            0.873,
            0.923,
            0.863,
            0.823,
            0.902,
            0.899,
            0.878,
            0.827,
            0.84,
            0.9,
            0.841,
            0.8,
            0.912,
            0.73,
            0.94,
            0.831,
            0.822,
            0.806,
            0.765,
            0.831,
            0.888,
            0.86,
            0.905,
            0.926,
            0.761,
            0.9
           ],
           "xaxis": "x",
           "yaxis": "y",
           "type": "histogram"
          },
          {
           "alignmentgroup": "True",
           "hovertemplate": "reference=False<br>Year=2008<br>Human Development Index=%{x}<extra></extra>",
           "legendgroup": "False",
           "marker": {
            "color": "#636efa"
           },
           "name": "False",
           "notched": true,
           "offsetgroup": "False",
           "showlegend": false,
           "x": [
            0.736,
            0.898,
            0.783,
            0.908,
            0.718,
            0.782,
            0.817,
            0.863,
            0.915,
            0.856,
            0.912,
            0.873,
            0.923,
            0.863,
            0.823,
            0.902,
            0.899,
            0.878,
            0.827,
            0.84,
            0.9,
            0.841,
            0.8,
            0.912,
            0.73,
            0.94,
            0.831,
            0.822,
            0.806,
            0.765,
            0.831,
            0.888,
            0.86,
            0.905,
            0.926,
            0.761,
            0.9
           ],
           "xaxis": "x2",
           "yaxis": "y2",
           "type": "box"
          }
         ],
         "name": "2008"
        },
        {
         "data": [
          {
           "alignmentgroup": "True",
           "bingroup": "x",
           "hovertemplate": "reference=False<br>Year=2009<br>Human Development Index=%{x}<br>count=%{y}<extra></extra>",
           "legendgroup": "False",
           "marker": {
            "color": "#636efa",
            "opacity": 1,
            "pattern": {
             "shape": ""
            }
           },
           "name": "False",
           "offsetgroup": "False",
           "orientation": "v",
           "showlegend": true,
           "texttemplate": "%{value}",
           "x": [
            0.741,
            0.898,
            0.785,
            0.91,
            0.721,
            0.785,
            0.816,
            0.865,
            0.909,
            0.856,
            0.907,
            0.872,
            0.923,
            0.866,
            0.825,
            0.9,
            0.895,
            0.878,
            0.826,
            0.839,
            0.905,
            0.847,
            0.8,
            0.913,
            0.733,
            0.936,
            0.835,
            0.825,
            0.809,
            0.766,
            0.833,
            0.887,
            0.861,
            0.904,
            0.936,
            0.758,
            0.906
           ],
           "xaxis": "x",
           "yaxis": "y",
           "type": "histogram"
          },
          {
           "alignmentgroup": "True",
           "hovertemplate": "reference=False<br>Year=2009<br>Human Development Index=%{x}<extra></extra>",
           "legendgroup": "False",
           "marker": {
            "color": "#636efa"
           },
           "name": "False",
           "notched": true,
           "offsetgroup": "False",
           "showlegend": false,
           "x": [
            0.741,
            0.898,
            0.785,
            0.91,
            0.721,
            0.785,
            0.816,
            0.865,
            0.909,
            0.856,
            0.907,
            0.872,
            0.923,
            0.866,
            0.825,
            0.9,
            0.895,
            0.878,
            0.826,
            0.839,
            0.905,
            0.847,
            0.8,
            0.913,
            0.733,
            0.936,
            0.835,
            0.825,
            0.809,
            0.766,
            0.833,
            0.887,
            0.861,
            0.904,
            0.936,
            0.758,
            0.906
           ],
           "xaxis": "x2",
           "yaxis": "y2",
           "type": "box"
          }
         ],
         "name": "2009"
        },
        {
         "data": [
          {
           "alignmentgroup": "True",
           "bingroup": "x",
           "hovertemplate": "reference=False<br>Year=2010<br>Human Development Index=%{x}<br>count=%{y}<extra></extra>",
           "legendgroup": "False",
           "marker": {
            "color": "#636efa",
            "opacity": 1,
            "pattern": {
             "shape": ""
            }
           },
           "name": "False",
           "offsetgroup": "False",
           "orientation": "v",
           "showlegend": true,
           "texttemplate": "%{value}",
           "x": [
            0.754,
            0.902,
            0.79,
            0.912,
            0.725,
            0.79,
            0.821,
            0.87,
            0.913,
            0.861,
            0.911,
            0.877,
            0.926,
            0.869,
            0.828,
            0.902,
            0.904,
            0.882,
            0.824,
            0.842,
            0.912,
            0.861,
            0.808,
            0.917,
            0.738,
            0.941,
            0.841,
            0.829,
            0.807,
            0.767,
            0.84,
            0.89,
            0.868,
            0.91,
            0.942,
            0.764,
            0.912
           ],
           "xaxis": "x",
           "yaxis": "y",
           "type": "histogram"
          },
          {
           "alignmentgroup": "True",
           "hovertemplate": "reference=False<br>Year=2010<br>Human Development Index=%{x}<extra></extra>",
           "legendgroup": "False",
           "marker": {
            "color": "#636efa"
           },
           "name": "False",
           "notched": true,
           "offsetgroup": "False",
           "showlegend": false,
           "x": [
            0.754,
            0.902,
            0.79,
            0.912,
            0.725,
            0.79,
            0.821,
            0.87,
            0.913,
            0.861,
            0.911,
            0.877,
            0.926,
            0.869,
            0.828,
            0.902,
            0.904,
            0.882,
            0.824,
            0.842,
            0.912,
            0.861,
            0.808,
            0.917,
            0.738,
            0.941,
            0.841,
            0.829,
            0.807,
            0.767,
            0.84,
            0.89,
            0.868,
            0.91,
            0.942,
            0.764,
            0.912
           ],
           "xaxis": "x2",
           "yaxis": "y2",
           "type": "box"
          }
         ],
         "name": "2010"
        },
        {
         "data": [
          {
           "alignmentgroup": "True",
           "bingroup": "x",
           "hovertemplate": "reference=False<br>Year=2011<br>Human Development Index=%{x}<br>count=%{y}<extra></extra>",
           "legendgroup": "False",
           "marker": {
            "color": "#636efa",
            "opacity": 1,
            "pattern": {
             "shape": ""
            }
           },
           "name": "False",
           "offsetgroup": "False",
           "orientation": "v",
           "showlegend": true,
           "texttemplate": "%{value}",
           "x": [
            0.766,
            0.905,
            0.797,
            0.914,
            0.732,
            0.794,
            0.826,
            0.872,
            0.926,
            0.871,
            0.915,
            0.881,
            0.931,
            0.865,
            0.83,
            0.912,
            0.902,
            0.885,
            0.831,
            0.849,
            0.913,
            0.857,
            0.811,
            0.927,
            0.741,
            0.944,
            0.847,
            0.835,
            0.808,
            0.777,
            0.844,
            0.892,
            0.872,
            0.911,
            0.943,
            0.769,
            0.908
           ],
           "xaxis": "x",
           "yaxis": "y",
           "type": "histogram"
          },
          {
           "alignmentgroup": "True",
           "hovertemplate": "reference=False<br>Year=2011<br>Human Development Index=%{x}<extra></extra>",
           "legendgroup": "False",
           "marker": {
            "color": "#636efa"
           },
           "name": "False",
           "notched": true,
           "offsetgroup": "False",
           "showlegend": false,
           "x": [
            0.766,
            0.905,
            0.797,
            0.914,
            0.732,
            0.794,
            0.826,
            0.872,
            0.926,
            0.871,
            0.915,
            0.881,
            0.931,
            0.865,
            0.83,
            0.912,
            0.902,
            0.885,
            0.831,
            0.849,
            0.913,
            0.857,
            0.811,
            0.927,
            0.741,
            0.944,
            0.847,
            0.835,
            0.808,
            0.777,
            0.844,
            0.892,
            0.872,
            0.911,
            0.943,
            0.769,
            0.908
           ],
           "xaxis": "x2",
           "yaxis": "y2",
           "type": "box"
          }
         ],
         "name": "2011"
        },
        {
         "data": [
          {
           "alignmentgroup": "True",
           "bingroup": "x",
           "hovertemplate": "reference=False<br>Year=2012<br>Human Development Index=%{x}<br>count=%{y}<extra></extra>",
           "legendgroup": "False",
           "marker": {
            "color": "#636efa",
            "opacity": 1,
            "pattern": {
             "shape": ""
            }
           },
           "name": "False",
           "offsetgroup": "False",
           "orientation": "v",
           "showlegend": true,
           "texttemplate": "%{value}",
           "x": [
            0.778,
            0.906,
            0.806,
            0.915,
            0.745,
            0.798,
            0.83,
            0.874,
            0.931,
            0.874,
            0.915,
            0.882,
            0.933,
            0.866,
            0.831,
            0.921,
            0.903,
            0.883,
            0.833,
            0.851,
            0.916,
            0.864,
            0.812,
            0.927,
            0.743,
            0.946,
            0.852,
            0.836,
            0.805,
            0.78,
            0.845,
            0.891,
            0.874,
            0.911,
            0.945,
            0.773,
            0.909
           ],
           "xaxis": "x",
           "yaxis": "y",
           "type": "histogram"
          },
          {
           "alignmentgroup": "True",
           "hovertemplate": "reference=False<br>Year=2012<br>Human Development Index=%{x}<extra></extra>",
           "legendgroup": "False",
           "marker": {
            "color": "#636efa"
           },
           "name": "False",
           "notched": true,
           "offsetgroup": "False",
           "showlegend": false,
           "x": [
            0.778,
            0.906,
            0.806,
            0.915,
            0.745,
            0.798,
            0.83,
            0.874,
            0.931,
            0.874,
            0.915,
            0.882,
            0.933,
            0.866,
            0.831,
            0.921,
            0.903,
            0.883,
            0.833,
            0.851,
            0.916,
            0.864,
            0.812,
            0.927,
            0.743,
            0.946,
            0.852,
            0.836,
            0.805,
            0.78,
            0.845,
            0.891,
            0.874,
            0.911,
            0.945,
            0.773,
            0.909
           ],
           "xaxis": "x2",
           "yaxis": "y2",
           "type": "box"
          }
         ],
         "name": "2012"
        },
        {
         "data": [
          {
           "alignmentgroup": "True",
           "bingroup": "x",
           "hovertemplate": "reference=False<br>Year=2013<br>Human Development Index=%{x}<br>count=%{y}<extra></extra>",
           "legendgroup": "False",
           "marker": {
            "color": "#636efa",
            "opacity": 1,
            "pattern": {
             "shape": ""
            }
           },
           "name": "False",
           "offsetgroup": "False",
           "orientation": "v",
           "showlegend": true,
           "texttemplate": "%{value}",
           "x": [
            0.785,
            0.905,
            0.808,
            0.916,
            0.751,
            0.805,
            0.838,
            0.881,
            0.933,
            0.88,
            0.926,
            0.887,
            0.934,
            0.871,
            0.84,
            0.929,
            0.908,
            0.882,
            0.843,
            0.854,
            0.921,
            0.872,
            0.817,
            0.929,
            0.75,
            0.949,
            0.863,
            0.845,
            0.81,
            0.785,
            0.848,
            0.9,
            0.88,
            0.932,
            0.948,
            0.773,
            0.922
           ],
           "xaxis": "x",
           "yaxis": "y",
           "type": "histogram"
          },
          {
           "alignmentgroup": "True",
           "hovertemplate": "reference=False<br>Year=2013<br>Human Development Index=%{x}<extra></extra>",
           "legendgroup": "False",
           "marker": {
            "color": "#636efa"
           },
           "name": "False",
           "notched": true,
           "offsetgroup": "False",
           "showlegend": false,
           "x": [
            0.785,
            0.905,
            0.808,
            0.916,
            0.751,
            0.805,
            0.838,
            0.881,
            0.933,
            0.88,
            0.926,
            0.887,
            0.934,
            0.871,
            0.84,
            0.929,
            0.908,
            0.882,
            0.843,
            0.854,
            0.921,
            0.872,
            0.817,
            0.929,
            0.75,
            0.949,
            0.863,
            0.845,
            0.81,
            0.785,
            0.848,
            0.9,
            0.88,
            0.932,
            0.948,
            0.773,
            0.922
           ],
           "xaxis": "x2",
           "yaxis": "y2",
           "type": "box"
          }
         ],
         "name": "2013"
        },
        {
         "data": [
          {
           "alignmentgroup": "True",
           "bingroup": "x",
           "hovertemplate": "reference=False<br>Year=2014<br>Human Development Index=%{x}<br>count=%{y}<extra></extra>",
           "legendgroup": "False",
           "marker": {
            "color": "#636efa",
            "opacity": 1,
            "pattern": {
             "shape": ""
            }
           },
           "name": "False",
           "offsetgroup": "False",
           "orientation": "v",
           "showlegend": true,
           "texttemplate": "%{value}",
           "x": [
            0.792,
            0.909,
            0.812,
            0.921,
            0.756,
            0.807,
            0.841,
            0.887,
            0.932,
            0.879,
            0.927,
            0.892,
            0.937,
            0.879,
            0.838,
            0.938,
            0.914,
            0.883,
            0.846,
            0.861,
            0.926,
            0.881,
            0.819,
            0.931,
            0.755,
            0.952,
            0.865,
            0.848,
            0.811,
            0.788,
            0.849,
            0.902,
            0.884,
            0.935,
            0.952,
            0.773,
            0.924
           ],
           "xaxis": "x",
           "yaxis": "y",
           "type": "histogram"
          },
          {
           "alignmentgroup": "True",
           "hovertemplate": "reference=False<br>Year=2014<br>Human Development Index=%{x}<extra></extra>",
           "legendgroup": "False",
           "marker": {
            "color": "#636efa"
           },
           "name": "False",
           "notched": true,
           "offsetgroup": "False",
           "showlegend": false,
           "x": [
            0.792,
            0.909,
            0.812,
            0.921,
            0.756,
            0.807,
            0.841,
            0.887,
            0.932,
            0.879,
            0.927,
            0.892,
            0.937,
            0.879,
            0.838,
            0.938,
            0.914,
            0.883,
            0.846,
            0.861,
            0.926,
            0.881,
            0.819,
            0.931,
            0.755,
            0.952,
            0.865,
            0.848,
            0.811,
            0.788,
            0.849,
            0.902,
            0.884,
            0.935,
            0.952,
            0.773,
            0.924
           ],
           "xaxis": "x2",
           "yaxis": "y2",
           "type": "box"
          }
         ],
         "name": "2014"
        },
        {
         "data": [
          {
           "alignmentgroup": "True",
           "bingroup": "x",
           "hovertemplate": "reference=False<br>Year=2015<br>Human Development Index=%{x}<br>count=%{y}<extra></extra>",
           "legendgroup": "False",
           "marker": {
            "color": "#636efa",
            "opacity": 1,
            "pattern": {
             "shape": ""
            }
           },
           "name": "False",
           "offsetgroup": "False",
           "orientation": "v",
           "showlegend": true,
           "texttemplate": "%{value}",
           "x": [
            0.795,
            0.91,
            0.812,
            0.924,
            0.761,
            0.809,
            0.843,
            0.891,
            0.936,
            0.882,
            0.93,
            0.892,
            0.938,
            0.88,
            0.838,
            0.945,
            0.925,
            0.882,
            0.85,
            0.862,
            0.915,
            0.889,
            0.822,
            0.932,
            0.762,
            0.953,
            0.868,
            0.85,
            0.813,
            0.794,
            0.851,
            0.903,
            0.889,
            0.937,
            0.954,
            0.774,
            0.924
           ],
           "xaxis": "x",
           "yaxis": "y",
           "type": "histogram"
          },
          {
           "alignmentgroup": "True",
           "hovertemplate": "reference=False<br>Year=2015<br>Human Development Index=%{x}<extra></extra>",
           "legendgroup": "False",
           "marker": {
            "color": "#636efa"
           },
           "name": "False",
           "notched": true,
           "offsetgroup": "False",
           "showlegend": false,
           "x": [
            0.795,
            0.91,
            0.812,
            0.924,
            0.761,
            0.809,
            0.843,
            0.891,
            0.936,
            0.882,
            0.93,
            0.892,
            0.938,
            0.88,
            0.838,
            0.945,
            0.925,
            0.882,
            0.85,
            0.862,
            0.915,
            0.889,
            0.822,
            0.932,
            0.762,
            0.953,
            0.868,
            0.85,
            0.813,
            0.794,
            0.851,
            0.903,
            0.889,
            0.937,
            0.954,
            0.774,
            0.924
           ],
           "xaxis": "x2",
           "yaxis": "y2",
           "type": "box"
          }
         ],
         "name": "2015"
        },
        {
         "data": [
          {
           "alignmentgroup": "True",
           "bingroup": "x",
           "hovertemplate": "reference=False<br>Year=2016<br>Human Development Index=%{x}<br>count=%{y}<extra></extra>",
           "legendgroup": "False",
           "marker": {
            "color": "#636efa",
            "opacity": 1,
            "pattern": {
             "shape": ""
            }
           },
           "name": "False",
           "offsetgroup": "False",
           "orientation": "v",
           "showlegend": true,
           "texttemplate": "%{value}",
           "x": [
            0.798,
            0.915,
            0.813,
            0.927,
            0.77,
            0.809,
            0.848,
            0.895,
            0.943,
            0.885,
            0.931,
            0.895,
            0.941,
            0.877,
            0.843,
            0.948,
            0.929,
            0.887,
            0.855,
            0.868,
            0.923,
            0.891,
            0.824,
            0.933,
            0.767,
            0.955,
            0.872,
            0.853,
            0.816,
            0.8,
            0.854,
            0.91,
            0.895,
            0.939,
            0.956,
            0.779,
            0.927
           ],
           "xaxis": "x",
           "yaxis": "y",
           "type": "histogram"
          },
          {
           "alignmentgroup": "True",
           "hovertemplate": "reference=False<br>Year=2016<br>Human Development Index=%{x}<extra></extra>",
           "legendgroup": "False",
           "marker": {
            "color": "#636efa"
           },
           "name": "False",
           "notched": true,
           "offsetgroup": "False",
           "showlegend": false,
           "x": [
            0.798,
            0.915,
            0.813,
            0.927,
            0.77,
            0.809,
            0.848,
            0.895,
            0.943,
            0.885,
            0.931,
            0.895,
            0.941,
            0.877,
            0.843,
            0.948,
            0.929,
            0.887,
            0.855,
            0.868,
            0.923,
            0.891,
            0.824,
            0.933,
            0.767,
            0.955,
            0.872,
            0.853,
            0.816,
            0.8,
            0.854,
            0.91,
            0.895,
            0.939,
            0.956,
            0.779,
            0.927
           ],
           "xaxis": "x2",
           "yaxis": "y2",
           "type": "box"
          }
         ],
         "name": "2016"
        },
        {
         "data": [
          {
           "alignmentgroup": "True",
           "bingroup": "x",
           "hovertemplate": "reference=False<br>Year=2017<br>Human Development Index=%{x}<br>count=%{y}<extra></extra>",
           "legendgroup": "False",
           "marker": {
            "color": "#636efa",
            "opacity": 1,
            "pattern": {
             "shape": ""
            }
           },
           "name": "False",
           "offsetgroup": "False",
           "orientation": "v",
           "showlegend": true,
           "texttemplate": "%{value}",
           "x": [
            0.802,
            0.916,
            0.817,
            0.931,
            0.772,
            0.808,
            0.852,
            0.897,
            0.944,
            0.887,
            0.934,
            0.898,
            0.944,
            0.88,
            0.845,
            0.954,
            0.934,
            0.888,
            0.86,
            0.876,
            0.919,
            0.901,
            0.83,
            0.937,
            0.773,
            0.959,
            0.875,
            0.859,
            0.823,
            0.802,
            0.856,
            0.913,
            0.897,
            0.941,
            0.957,
            0.782,
            0.93
           ],
           "xaxis": "x",
           "yaxis": "y",
           "type": "histogram"
          },
          {
           "alignmentgroup": "True",
           "hovertemplate": "reference=False<br>Year=2017<br>Human Development Index=%{x}<extra></extra>",
           "legendgroup": "False",
           "marker": {
            "color": "#636efa"
           },
           "name": "False",
           "notched": true,
           "offsetgroup": "False",
           "showlegend": false,
           "x": [
            0.802,
            0.916,
            0.817,
            0.931,
            0.772,
            0.808,
            0.852,
            0.897,
            0.944,
            0.887,
            0.934,
            0.898,
            0.944,
            0.88,
            0.845,
            0.954,
            0.934,
            0.888,
            0.86,
            0.876,
            0.919,
            0.901,
            0.83,
            0.937,
            0.773,
            0.959,
            0.875,
            0.859,
            0.823,
            0.802,
            0.856,
            0.913,
            0.897,
            0.941,
            0.957,
            0.782,
            0.93
           ],
           "xaxis": "x2",
           "yaxis": "y2",
           "type": "box"
          }
         ],
         "name": "2017"
        },
        {
         "data": [
          {
           "alignmentgroup": "True",
           "bingroup": "x",
           "hovertemplate": "reference=False<br>Year=2018<br>Human Development Index=%{x}<br>count=%{y}<extra></extra>",
           "legendgroup": "False",
           "marker": {
            "color": "#636efa",
            "opacity": 1,
            "pattern": {
             "shape": ""
            }
           },
           "name": "False",
           "offsetgroup": "False",
           "orientation": "v",
           "showlegend": true,
           "texttemplate": "%{value}",
           "x": [
            0.806,
            0.917,
            0.818,
            0.933,
            0.776,
            0.809,
            0.856,
            0.894,
            0.942,
            0.891,
            0.936,
            0.901,
            0.945,
            0.886,
            0.849,
            0.959,
            0.937,
            0.893,
            0.866,
            0.88,
            0.922,
            0.91,
            0.834,
            0.939,
            0.779,
            0.962,
            0.877,
            0.86,
            0.827,
            0.808,
            0.859,
            0.917,
            0.901,
            0.942,
            0.959,
            0.783,
            0.929
           ],
           "xaxis": "x",
           "yaxis": "y",
           "type": "histogram"
          },
          {
           "alignmentgroup": "True",
           "hovertemplate": "reference=False<br>Year=2018<br>Human Development Index=%{x}<extra></extra>",
           "legendgroup": "False",
           "marker": {
            "color": "#636efa"
           },
           "name": "False",
           "notched": true,
           "offsetgroup": "False",
           "showlegend": false,
           "x": [
            0.806,
            0.917,
            0.818,
            0.933,
            0.776,
            0.809,
            0.856,
            0.894,
            0.942,
            0.891,
            0.936,
            0.901,
            0.945,
            0.886,
            0.849,
            0.959,
            0.937,
            0.893,
            0.866,
            0.88,
            0.922,
            0.91,
            0.834,
            0.939,
            0.779,
            0.962,
            0.877,
            0.86,
            0.827,
            0.808,
            0.859,
            0.917,
            0.901,
            0.942,
            0.959,
            0.783,
            0.929
           ],
           "xaxis": "x2",
           "yaxis": "y2",
           "type": "box"
          }
         ],
         "name": "2018"
        },
        {
         "data": [
          {
           "alignmentgroup": "True",
           "bingroup": "x",
           "hovertemplate": "reference=False<br>Year=2019<br>Human Development Index=%{x}<br>count=%{y}<extra></extra>",
           "legendgroup": "False",
           "marker": {
            "color": "#636efa",
            "opacity": 1,
            "pattern": {
             "shape": ""
            }
           },
           "name": "False",
           "offsetgroup": "False",
           "orientation": "v",
           "showlegend": true,
           "texttemplate": "%{value}",
           "x": [
            0.81,
            0.919,
            0.817,
            0.936,
            0.783,
            0.81,
            0.861,
            0.897,
            0.946,
            0.896,
            0.939,
            0.905,
            0.948,
            0.889,
            0.853,
            0.96,
            0.942,
            0.897,
            0.871,
            0.884,
            0.927,
            0.915,
            0.837,
            0.943,
            0.784,
            0.961,
            0.881,
            0.867,
            0.832,
            0.811,
            0.862,
            0.921,
            0.908,
            0.947,
            0.962,
            0.786,
            0.935
           ],
           "xaxis": "x",
           "yaxis": "y",
           "type": "histogram"
          },
          {
           "alignmentgroup": "True",
           "hovertemplate": "reference=False<br>Year=2019<br>Human Development Index=%{x}<extra></extra>",
           "legendgroup": "False",
           "marker": {
            "color": "#636efa"
           },
           "name": "False",
           "notched": true,
           "offsetgroup": "False",
           "showlegend": false,
           "x": [
            0.81,
            0.919,
            0.817,
            0.936,
            0.783,
            0.81,
            0.861,
            0.897,
            0.946,
            0.896,
            0.939,
            0.905,
            0.948,
            0.889,
            0.853,
            0.96,
            0.942,
            0.897,
            0.871,
            0.884,
            0.927,
            0.915,
            0.837,
            0.943,
            0.784,
            0.961,
            0.881,
            0.867,
            0.832,
            0.811,
            0.862,
            0.921,
            0.908,
            0.947,
            0.962,
            0.786,
            0.935
           ],
           "xaxis": "x2",
           "yaxis": "y2",
           "type": "box"
          }
         ],
         "name": "2019"
        },
        {
         "data": [
          {
           "alignmentgroup": "True",
           "bingroup": "x",
           "hovertemplate": "reference=True<br>Year=2020<br>Human Development Index=%{x}<br>count=%{y}<extra></extra>",
           "legendgroup": "True",
           "marker": {
            "color": "#EF553B",
            "opacity": 1,
            "pattern": {
             "shape": "/"
            }
           },
           "name": "True",
           "offsetgroup": "True",
           "orientation": "v",
           "showlegend": true,
           "texttemplate": "%{value}",
           "x": [
            0.794,
            0.913,
            0.807,
            0.928,
            0.781,
            0.802,
            0.855,
            0.892,
            0.947,
            0.892,
            0.938,
            0.898,
            0.944,
            0.886,
            0.849,
            0.957,
            0.943,
            0.889,
            0.871,
            0.879,
            0.924,
            0.911,
            0.826,
            0.939,
            0.774,
            0.959,
            0.876,
            0.863,
            0.824,
            0.804,
            0.857,
            0.913,
            0.899,
            0.942,
            0.956,
            0.775,
            0.924
           ],
           "xaxis": "x",
           "yaxis": "y",
           "type": "histogram"
          },
          {
           "alignmentgroup": "True",
           "hovertemplate": "reference=True<br>Year=2020<br>Human Development Index=%{x}<extra></extra>",
           "legendgroup": "True",
           "marker": {
            "color": "#EF553B"
           },
           "name": "True",
           "notched": true,
           "offsetgroup": "True",
           "showlegend": false,
           "x": [
            0.794,
            0.913,
            0.807,
            0.928,
            0.781,
            0.802,
            0.855,
            0.892,
            0.947,
            0.892,
            0.938,
            0.898,
            0.944,
            0.886,
            0.849,
            0.957,
            0.943,
            0.889,
            0.871,
            0.879,
            0.924,
            0.911,
            0.826,
            0.939,
            0.774,
            0.959,
            0.876,
            0.863,
            0.824,
            0.804,
            0.857,
            0.913,
            0.899,
            0.942,
            0.956,
            0.775,
            0.924
           ],
           "xaxis": "x2",
           "yaxis": "y2",
           "type": "box"
          }
         ],
         "name": "2020"
        }
       ],
       "config": {
        "plotlyServerURL": "https://plot.ly"
       }
      },
      "text/html": "<div>                            <div id=\"f17e1270-b08b-4694-a880-e6980af253f3\" class=\"plotly-graph-div\" style=\"height:525px; width:100%;\"></div>            <script type=\"text/javascript\">                require([\"plotly\"], function(Plotly) {                    window.PLOTLYENV=window.PLOTLYENV || {};                                    if (document.getElementById(\"f17e1270-b08b-4694-a880-e6980af253f3\")) {                    Plotly.newPlot(                        \"f17e1270-b08b-4694-a880-e6980af253f3\",                        [{\"alignmentgroup\":\"True\",\"bingroup\":\"x\",\"hovertemplate\":\"reference=False<br>Year=2000<br>Human Development Index=%{x}<br>count=%{y}<extra></extra>\",\"legendgroup\":\"False\",\"marker\":{\"color\":\"#636efa\",\"opacity\":1,\"pattern\":{\"shape\":\"\"}},\"name\":\"False\",\"offsetgroup\":\"False\",\"orientation\":\"v\",\"showlegend\":true,\"texttemplate\":\"%{value}\",\"x\":[0.677,0.871,0.712,0.887,0.667,0.725,0.759,0.808,0.889,0.787,0.891,0.844,0.889,0.81,0.773,0.871,0.847,0.841,0.756,0.766,0.864,0.779,0.893,0.675,0.913,0.793,0.791,0.715,0.763,0.821,0.825,0.904,0.887,0.7,0.862],\"xaxis\":\"x\",\"yaxis\":\"y\",\"type\":\"histogram\"},{\"alignmentgroup\":\"True\",\"hovertemplate\":\"reference=False<br>Year=2000<br>Human Development Index=%{x}<extra></extra>\",\"legendgroup\":\"False\",\"marker\":{\"color\":\"#636efa\"},\"name\":\"False\",\"notched\":true,\"offsetgroup\":\"False\",\"showlegend\":false,\"x\":[0.677,0.871,0.712,0.887,0.667,0.725,0.759,0.808,0.889,0.787,0.891,0.844,0.889,0.81,0.773,0.871,0.847,0.841,0.756,0.766,0.864,0.779,0.893,0.675,0.913,0.793,0.791,0.715,0.763,0.821,0.825,0.904,0.887,0.7,0.862],\"xaxis\":\"x2\",\"yaxis\":\"y2\",\"type\":\"box\"}],                        {\"template\":{\"data\":{\"histogram2dcontour\":[{\"type\":\"histogram2dcontour\",\"colorbar\":{\"outlinewidth\":0,\"ticks\":\"\"},\"colorscale\":[[0.0,\"#0d0887\"],[0.1111111111111111,\"#46039f\"],[0.2222222222222222,\"#7201a8\"],[0.3333333333333333,\"#9c179e\"],[0.4444444444444444,\"#bd3786\"],[0.5555555555555556,\"#d8576b\"],[0.6666666666666666,\"#ed7953\"],[0.7777777777777778,\"#fb9f3a\"],[0.8888888888888888,\"#fdca26\"],[1.0,\"#f0f921\"]]}],\"choropleth\":[{\"type\":\"choropleth\",\"colorbar\":{\"outlinewidth\":0,\"ticks\":\"\"}}],\"histogram2d\":[{\"type\":\"histogram2d\",\"colorbar\":{\"outlinewidth\":0,\"ticks\":\"\"},\"colorscale\":[[0.0,\"#0d0887\"],[0.1111111111111111,\"#46039f\"],[0.2222222222222222,\"#7201a8\"],[0.3333333333333333,\"#9c179e\"],[0.4444444444444444,\"#bd3786\"],[0.5555555555555556,\"#d8576b\"],[0.6666666666666666,\"#ed7953\"],[0.7777777777777778,\"#fb9f3a\"],[0.8888888888888888,\"#fdca26\"],[1.0,\"#f0f921\"]]}],\"heatmap\":[{\"type\":\"heatmap\",\"colorbar\":{\"outlinewidth\":0,\"ticks\":\"\"},\"colorscale\":[[0.0,\"#0d0887\"],[0.1111111111111111,\"#46039f\"],[0.2222222222222222,\"#7201a8\"],[0.3333333333333333,\"#9c179e\"],[0.4444444444444444,\"#bd3786\"],[0.5555555555555556,\"#d8576b\"],[0.6666666666666666,\"#ed7953\"],[0.7777777777777778,\"#fb9f3a\"],[0.8888888888888888,\"#fdca26\"],[1.0,\"#f0f921\"]]}],\"heatmapgl\":[{\"type\":\"heatmapgl\",\"colorbar\":{\"outlinewidth\":0,\"ticks\":\"\"},\"colorscale\":[[0.0,\"#0d0887\"],[0.1111111111111111,\"#46039f\"],[0.2222222222222222,\"#7201a8\"],[0.3333333333333333,\"#9c179e\"],[0.4444444444444444,\"#bd3786\"],[0.5555555555555556,\"#d8576b\"],[0.6666666666666666,\"#ed7953\"],[0.7777777777777778,\"#fb9f3a\"],[0.8888888888888888,\"#fdca26\"],[1.0,\"#f0f921\"]]}],\"contourcarpet\":[{\"type\":\"contourcarpet\",\"colorbar\":{\"outlinewidth\":0,\"ticks\":\"\"}}],\"contour\":[{\"type\":\"contour\",\"colorbar\":{\"outlinewidth\":0,\"ticks\":\"\"},\"colorscale\":[[0.0,\"#0d0887\"],[0.1111111111111111,\"#46039f\"],[0.2222222222222222,\"#7201a8\"],[0.3333333333333333,\"#9c179e\"],[0.4444444444444444,\"#bd3786\"],[0.5555555555555556,\"#d8576b\"],[0.6666666666666666,\"#ed7953\"],[0.7777777777777778,\"#fb9f3a\"],[0.8888888888888888,\"#fdca26\"],[1.0,\"#f0f921\"]]}],\"surface\":[{\"type\":\"surface\",\"colorbar\":{\"outlinewidth\":0,\"ticks\":\"\"},\"colorscale\":[[0.0,\"#0d0887\"],[0.1111111111111111,\"#46039f\"],[0.2222222222222222,\"#7201a8\"],[0.3333333333333333,\"#9c179e\"],[0.4444444444444444,\"#bd3786\"],[0.5555555555555556,\"#d8576b\"],[0.6666666666666666,\"#ed7953\"],[0.7777777777777778,\"#fb9f3a\"],[0.8888888888888888,\"#fdca26\"],[1.0,\"#f0f921\"]]}],\"mesh3d\":[{\"type\":\"mesh3d\",\"colorbar\":{\"outlinewidth\":0,\"ticks\":\"\"}}],\"scatter\":[{\"marker\":{\"line\":{\"color\":\"#283442\"}},\"type\":\"scatter\"}],\"parcoords\":[{\"type\":\"parcoords\",\"line\":{\"colorbar\":{\"outlinewidth\":0,\"ticks\":\"\"}}}],\"scatterpolargl\":[{\"type\":\"scatterpolargl\",\"marker\":{\"colorbar\":{\"outlinewidth\":0,\"ticks\":\"\"}}}],\"bar\":[{\"error_x\":{\"color\":\"#f2f5fa\"},\"error_y\":{\"color\":\"#f2f5fa\"},\"marker\":{\"line\":{\"color\":\"rgb(17,17,17)\",\"width\":0.5},\"pattern\":{\"fillmode\":\"overlay\",\"size\":10,\"solidity\":0.2}},\"type\":\"bar\"}],\"scattergeo\":[{\"type\":\"scattergeo\",\"marker\":{\"colorbar\":{\"outlinewidth\":0,\"ticks\":\"\"}}}],\"scatterpolar\":[{\"type\":\"scatterpolar\",\"marker\":{\"colorbar\":{\"outlinewidth\":0,\"ticks\":\"\"}}}],\"histogram\":[{\"marker\":{\"pattern\":{\"fillmode\":\"overlay\",\"size\":10,\"solidity\":0.2}},\"type\":\"histogram\"}],\"scattergl\":[{\"marker\":{\"line\":{\"color\":\"#283442\"}},\"type\":\"scattergl\"}],\"scatter3d\":[{\"type\":\"scatter3d\",\"line\":{\"colorbar\":{\"outlinewidth\":0,\"ticks\":\"\"}},\"marker\":{\"colorbar\":{\"outlinewidth\":0,\"ticks\":\"\"}}}],\"scattermapbox\":[{\"type\":\"scattermapbox\",\"marker\":{\"colorbar\":{\"outlinewidth\":0,\"ticks\":\"\"}}}],\"scatterternary\":[{\"type\":\"scatterternary\",\"marker\":{\"colorbar\":{\"outlinewidth\":0,\"ticks\":\"\"}}}],\"scattercarpet\":[{\"type\":\"scattercarpet\",\"marker\":{\"colorbar\":{\"outlinewidth\":0,\"ticks\":\"\"}}}],\"carpet\":[{\"aaxis\":{\"endlinecolor\":\"#A2B1C6\",\"gridcolor\":\"#506784\",\"linecolor\":\"#506784\",\"minorgridcolor\":\"#506784\",\"startlinecolor\":\"#A2B1C6\"},\"baxis\":{\"endlinecolor\":\"#A2B1C6\",\"gridcolor\":\"#506784\",\"linecolor\":\"#506784\",\"minorgridcolor\":\"#506784\",\"startlinecolor\":\"#A2B1C6\"},\"type\":\"carpet\"}],\"table\":[{\"cells\":{\"fill\":{\"color\":\"#506784\"},\"line\":{\"color\":\"rgb(17,17,17)\"}},\"header\":{\"fill\":{\"color\":\"#2a3f5f\"},\"line\":{\"color\":\"rgb(17,17,17)\"}},\"type\":\"table\"}],\"barpolar\":[{\"marker\":{\"line\":{\"color\":\"rgb(17,17,17)\",\"width\":0.5},\"pattern\":{\"fillmode\":\"overlay\",\"size\":10,\"solidity\":0.2}},\"type\":\"barpolar\"}],\"pie\":[{\"automargin\":true,\"type\":\"pie\"}]},\"layout\":{\"autotypenumbers\":\"strict\",\"colorway\":[\"#636efa\",\"#EF553B\",\"#00cc96\",\"#ab63fa\",\"#FFA15A\",\"#19d3f3\",\"#FF6692\",\"#B6E880\",\"#FF97FF\",\"#FECB52\"],\"font\":{\"color\":\"#f2f5fa\"},\"hovermode\":\"closest\",\"hoverlabel\":{\"align\":\"left\"},\"paper_bgcolor\":\"rgb(17,17,17)\",\"plot_bgcolor\":\"rgb(17,17,17)\",\"polar\":{\"bgcolor\":\"rgb(17,17,17)\",\"angularaxis\":{\"gridcolor\":\"#506784\",\"linecolor\":\"#506784\",\"ticks\":\"\"},\"radialaxis\":{\"gridcolor\":\"#506784\",\"linecolor\":\"#506784\",\"ticks\":\"\"}},\"ternary\":{\"bgcolor\":\"rgb(17,17,17)\",\"aaxis\":{\"gridcolor\":\"#506784\",\"linecolor\":\"#506784\",\"ticks\":\"\"},\"baxis\":{\"gridcolor\":\"#506784\",\"linecolor\":\"#506784\",\"ticks\":\"\"},\"caxis\":{\"gridcolor\":\"#506784\",\"linecolor\":\"#506784\",\"ticks\":\"\"}},\"coloraxis\":{\"colorbar\":{\"outlinewidth\":0,\"ticks\":\"\"}},\"colorscale\":{\"sequential\":[[0.0,\"#0d0887\"],[0.1111111111111111,\"#46039f\"],[0.2222222222222222,\"#7201a8\"],[0.3333333333333333,\"#9c179e\"],[0.4444444444444444,\"#bd3786\"],[0.5555555555555556,\"#d8576b\"],[0.6666666666666666,\"#ed7953\"],[0.7777777777777778,\"#fb9f3a\"],[0.8888888888888888,\"#fdca26\"],[1.0,\"#f0f921\"]],\"sequentialminus\":[[0.0,\"#0d0887\"],[0.1111111111111111,\"#46039f\"],[0.2222222222222222,\"#7201a8\"],[0.3333333333333333,\"#9c179e\"],[0.4444444444444444,\"#bd3786\"],[0.5555555555555556,\"#d8576b\"],[0.6666666666666666,\"#ed7953\"],[0.7777777777777778,\"#fb9f3a\"],[0.8888888888888888,\"#fdca26\"],[1.0,\"#f0f921\"]],\"diverging\":[[0,\"#8e0152\"],[0.1,\"#c51b7d\"],[0.2,\"#de77ae\"],[0.3,\"#f1b6da\"],[0.4,\"#fde0ef\"],[0.5,\"#f7f7f7\"],[0.6,\"#e6f5d0\"],[0.7,\"#b8e186\"],[0.8,\"#7fbc41\"],[0.9,\"#4d9221\"],[1,\"#276419\"]]},\"xaxis\":{\"gridcolor\":\"#283442\",\"linecolor\":\"#506784\",\"ticks\":\"\",\"title\":{\"standoff\":15},\"zerolinecolor\":\"#283442\",\"automargin\":true,\"zerolinewidth\":2},\"yaxis\":{\"gridcolor\":\"#283442\",\"linecolor\":\"#506784\",\"ticks\":\"\",\"title\":{\"standoff\":15},\"zerolinecolor\":\"#283442\",\"automargin\":true,\"zerolinewidth\":2},\"scene\":{\"xaxis\":{\"backgroundcolor\":\"rgb(17,17,17)\",\"gridcolor\":\"#506784\",\"linecolor\":\"#506784\",\"showbackground\":true,\"ticks\":\"\",\"zerolinecolor\":\"#C8D4E3\",\"gridwidth\":2},\"yaxis\":{\"backgroundcolor\":\"rgb(17,17,17)\",\"gridcolor\":\"#506784\",\"linecolor\":\"#506784\",\"showbackground\":true,\"ticks\":\"\",\"zerolinecolor\":\"#C8D4E3\",\"gridwidth\":2},\"zaxis\":{\"backgroundcolor\":\"rgb(17,17,17)\",\"gridcolor\":\"#506784\",\"linecolor\":\"#506784\",\"showbackground\":true,\"ticks\":\"\",\"zerolinecolor\":\"#C8D4E3\",\"gridwidth\":2}},\"shapedefaults\":{\"line\":{\"color\":\"#f2f5fa\"}},\"annotationdefaults\":{\"arrowcolor\":\"#f2f5fa\",\"arrowhead\":0,\"arrowwidth\":1},\"geo\":{\"bgcolor\":\"rgb(17,17,17)\",\"landcolor\":\"rgb(17,17,17)\",\"subunitcolor\":\"#506784\",\"showland\":true,\"showlakes\":true,\"lakecolor\":\"rgb(17,17,17)\"},\"title\":{\"x\":0.05},\"updatemenudefaults\":{\"bgcolor\":\"#506784\",\"borderwidth\":0},\"sliderdefaults\":{\"bgcolor\":\"#C8D4E3\",\"borderwidth\":1,\"bordercolor\":\"rgb(17,17,17)\",\"tickwidth\":0},\"mapbox\":{\"style\":\"dark\"}}},\"xaxis\":{\"anchor\":\"y\",\"domain\":[0.0,1.0],\"title\":{\"text\":\"Human Development Index\"}},\"yaxis\":{\"anchor\":\"x\",\"domain\":[0.0,0.7326],\"title\":{\"text\":\"count\"}},\"xaxis2\":{\"anchor\":\"y2\",\"domain\":[0.0,1.0],\"matches\":\"x\",\"showticklabels\":false,\"showgrid\":true},\"yaxis2\":{\"anchor\":\"x2\",\"domain\":[0.7426,1.0],\"matches\":\"y2\",\"showticklabels\":false,\"showline\":false,\"ticks\":\"\",\"showgrid\":false},\"legend\":{\"title\":{\"text\":\"reference\"},\"tracegroupgap\":0},\"title\":{\"text\":\"Histogram Human Development Index per year for Europe\"},\"barmode\":\"relative\",\"updatemenus\":[{\"buttons\":[{\"args\":[null,{\"frame\":{\"duration\":500,\"redraw\":true},\"mode\":\"immediate\",\"fromcurrent\":true,\"transition\":{\"duration\":500,\"easing\":\"linear\"}}],\"label\":\"&#9654;\",\"method\":\"animate\"},{\"args\":[[null],{\"frame\":{\"duration\":0,\"redraw\":true},\"mode\":\"immediate\",\"fromcurrent\":true,\"transition\":{\"duration\":0,\"easing\":\"linear\"}}],\"label\":\"&#9724;\",\"method\":\"animate\"}],\"direction\":\"left\",\"pad\":{\"r\":10,\"t\":70},\"showactive\":false,\"type\":\"buttons\",\"x\":0.1,\"xanchor\":\"right\",\"y\":0,\"yanchor\":\"top\"}],\"sliders\":[{\"active\":0,\"currentvalue\":{\"prefix\":\"Year=\"},\"len\":0.9,\"pad\":{\"b\":10,\"t\":60},\"steps\":[{\"args\":[[\"2000\"],{\"frame\":{\"duration\":0,\"redraw\":true},\"mode\":\"immediate\",\"fromcurrent\":true,\"transition\":{\"duration\":0,\"easing\":\"linear\"}}],\"label\":\"2000\",\"method\":\"animate\"},{\"args\":[[\"2001\"],{\"frame\":{\"duration\":0,\"redraw\":true},\"mode\":\"immediate\",\"fromcurrent\":true,\"transition\":{\"duration\":0,\"easing\":\"linear\"}}],\"label\":\"2001\",\"method\":\"animate\"},{\"args\":[[\"2002\"],{\"frame\":{\"duration\":0,\"redraw\":true},\"mode\":\"immediate\",\"fromcurrent\":true,\"transition\":{\"duration\":0,\"easing\":\"linear\"}}],\"label\":\"2002\",\"method\":\"animate\"},{\"args\":[[\"2003\"],{\"frame\":{\"duration\":0,\"redraw\":true},\"mode\":\"immediate\",\"fromcurrent\":true,\"transition\":{\"duration\":0,\"easing\":\"linear\"}}],\"label\":\"2003\",\"method\":\"animate\"},{\"args\":[[\"2004\"],{\"frame\":{\"duration\":0,\"redraw\":true},\"mode\":\"immediate\",\"fromcurrent\":true,\"transition\":{\"duration\":0,\"easing\":\"linear\"}}],\"label\":\"2004\",\"method\":\"animate\"},{\"args\":[[\"2005\"],{\"frame\":{\"duration\":0,\"redraw\":true},\"mode\":\"immediate\",\"fromcurrent\":true,\"transition\":{\"duration\":0,\"easing\":\"linear\"}}],\"label\":\"2005\",\"method\":\"animate\"},{\"args\":[[\"2006\"],{\"frame\":{\"duration\":0,\"redraw\":true},\"mode\":\"immediate\",\"fromcurrent\":true,\"transition\":{\"duration\":0,\"easing\":\"linear\"}}],\"label\":\"2006\",\"method\":\"animate\"},{\"args\":[[\"2007\"],{\"frame\":{\"duration\":0,\"redraw\":true},\"mode\":\"immediate\",\"fromcurrent\":true,\"transition\":{\"duration\":0,\"easing\":\"linear\"}}],\"label\":\"2007\",\"method\":\"animate\"},{\"args\":[[\"2008\"],{\"frame\":{\"duration\":0,\"redraw\":true},\"mode\":\"immediate\",\"fromcurrent\":true,\"transition\":{\"duration\":0,\"easing\":\"linear\"}}],\"label\":\"2008\",\"method\":\"animate\"},{\"args\":[[\"2009\"],{\"frame\":{\"duration\":0,\"redraw\":true},\"mode\":\"immediate\",\"fromcurrent\":true,\"transition\":{\"duration\":0,\"easing\":\"linear\"}}],\"label\":\"2009\",\"method\":\"animate\"},{\"args\":[[\"2010\"],{\"frame\":{\"duration\":0,\"redraw\":true},\"mode\":\"immediate\",\"fromcurrent\":true,\"transition\":{\"duration\":0,\"easing\":\"linear\"}}],\"label\":\"2010\",\"method\":\"animate\"},{\"args\":[[\"2011\"],{\"frame\":{\"duration\":0,\"redraw\":true},\"mode\":\"immediate\",\"fromcurrent\":true,\"transition\":{\"duration\":0,\"easing\":\"linear\"}}],\"label\":\"2011\",\"method\":\"animate\"},{\"args\":[[\"2012\"],{\"frame\":{\"duration\":0,\"redraw\":true},\"mode\":\"immediate\",\"fromcurrent\":true,\"transition\":{\"duration\":0,\"easing\":\"linear\"}}],\"label\":\"2012\",\"method\":\"animate\"},{\"args\":[[\"2013\"],{\"frame\":{\"duration\":0,\"redraw\":true},\"mode\":\"immediate\",\"fromcurrent\":true,\"transition\":{\"duration\":0,\"easing\":\"linear\"}}],\"label\":\"2013\",\"method\":\"animate\"},{\"args\":[[\"2014\"],{\"frame\":{\"duration\":0,\"redraw\":true},\"mode\":\"immediate\",\"fromcurrent\":true,\"transition\":{\"duration\":0,\"easing\":\"linear\"}}],\"label\":\"2014\",\"method\":\"animate\"},{\"args\":[[\"2015\"],{\"frame\":{\"duration\":0,\"redraw\":true},\"mode\":\"immediate\",\"fromcurrent\":true,\"transition\":{\"duration\":0,\"easing\":\"linear\"}}],\"label\":\"2015\",\"method\":\"animate\"},{\"args\":[[\"2016\"],{\"frame\":{\"duration\":0,\"redraw\":true},\"mode\":\"immediate\",\"fromcurrent\":true,\"transition\":{\"duration\":0,\"easing\":\"linear\"}}],\"label\":\"2016\",\"method\":\"animate\"},{\"args\":[[\"2017\"],{\"frame\":{\"duration\":0,\"redraw\":true},\"mode\":\"immediate\",\"fromcurrent\":true,\"transition\":{\"duration\":0,\"easing\":\"linear\"}}],\"label\":\"2017\",\"method\":\"animate\"},{\"args\":[[\"2018\"],{\"frame\":{\"duration\":0,\"redraw\":true},\"mode\":\"immediate\",\"fromcurrent\":true,\"transition\":{\"duration\":0,\"easing\":\"linear\"}}],\"label\":\"2018\",\"method\":\"animate\"},{\"args\":[[\"2019\"],{\"frame\":{\"duration\":0,\"redraw\":true},\"mode\":\"immediate\",\"fromcurrent\":true,\"transition\":{\"duration\":0,\"easing\":\"linear\"}}],\"label\":\"2019\",\"method\":\"animate\"},{\"args\":[[\"2020\"],{\"frame\":{\"duration\":0,\"redraw\":true},\"mode\":\"immediate\",\"fromcurrent\":true,\"transition\":{\"duration\":0,\"easing\":\"linear\"}}],\"label\":\"2020\",\"method\":\"animate\"}],\"x\":0.1,\"xanchor\":\"left\",\"y\":0,\"yanchor\":\"top\"}],\"transition\":{\"duration\":10000},\"showlegend\":false},                        {\"responsive\": true}                    ).then(function(){\n                            Plotly.addFrames('f17e1270-b08b-4694-a880-e6980af253f3', [{\"data\":[{\"alignmentgroup\":\"True\",\"bingroup\":\"x\",\"hovertemplate\":\"reference=False<br>Year=2000<br>Human Development Index=%{x}<br>count=%{y}<extra></extra>\",\"legendgroup\":\"False\",\"marker\":{\"color\":\"#636efa\",\"opacity\":1,\"pattern\":{\"shape\":\"\"}},\"name\":\"False\",\"offsetgroup\":\"False\",\"orientation\":\"v\",\"showlegend\":true,\"texttemplate\":\"%{value}\",\"x\":[0.677,0.871,0.712,0.887,0.667,0.725,0.759,0.808,0.889,0.787,0.891,0.844,0.889,0.81,0.773,0.871,0.847,0.841,0.756,0.766,0.864,0.779,0.893,0.675,0.913,0.793,0.791,0.715,0.763,0.821,0.825,0.904,0.887,0.7,0.862],\"xaxis\":\"x\",\"yaxis\":\"y\",\"type\":\"histogram\"},{\"alignmentgroup\":\"True\",\"hovertemplate\":\"reference=False<br>Year=2000<br>Human Development Index=%{x}<extra></extra>\",\"legendgroup\":\"False\",\"marker\":{\"color\":\"#636efa\"},\"name\":\"False\",\"notched\":true,\"offsetgroup\":\"False\",\"showlegend\":false,\"x\":[0.677,0.871,0.712,0.887,0.667,0.725,0.759,0.808,0.889,0.787,0.891,0.844,0.889,0.81,0.773,0.871,0.847,0.841,0.756,0.766,0.864,0.779,0.893,0.675,0.913,0.793,0.791,0.715,0.763,0.821,0.825,0.904,0.887,0.7,0.862],\"xaxis\":\"x2\",\"yaxis\":\"y2\",\"type\":\"box\"}],\"name\":\"2000\"},{\"data\":[{\"alignmentgroup\":\"True\",\"bingroup\":\"x\",\"hovertemplate\":\"reference=False<br>Year=2001<br>Human Development Index=%{x}<br>count=%{y}<extra></extra>\",\"legendgroup\":\"False\",\"marker\":{\"color\":\"#636efa\",\"opacity\":1,\"pattern\":{\"shape\":\"\"}},\"name\":\"False\",\"offsetgroup\":\"False\",\"orientation\":\"v\",\"showlegend\":true,\"texttemplate\":\"%{value}\",\"x\":[0.684,0.876,0.716,0.89,0.672,0.734,0.769,0.818,0.895,0.797,0.9,0.847,0.896,0.82,0.782,0.879,0.855,0.849,0.767,0.776,0.869,0.796,0.895,0.679,0.911,0.799,0.797,0.722,0.77,0.837,0.83,0.907,0.89,0.715,0.868],\"xaxis\":\"x\",\"yaxis\":\"y\",\"type\":\"histogram\"},{\"alignmentgroup\":\"True\",\"hovertemplate\":\"reference=False<br>Year=2001<br>Human Development Index=%{x}<extra></extra>\",\"legendgroup\":\"False\",\"marker\":{\"color\":\"#636efa\"},\"name\":\"False\",\"notched\":true,\"offsetgroup\":\"False\",\"showlegend\":false,\"x\":[0.684,0.876,0.716,0.89,0.672,0.734,0.769,0.818,0.895,0.797,0.9,0.847,0.896,0.82,0.782,0.879,0.855,0.849,0.767,0.776,0.869,0.796,0.895,0.679,0.911,0.799,0.797,0.722,0.77,0.837,0.83,0.907,0.89,0.715,0.868],\"xaxis\":\"x2\",\"yaxis\":\"y2\",\"type\":\"box\"}],\"name\":\"2001\"},{\"data\":[{\"alignmentgroup\":\"True\",\"bingroup\":\"x\",\"hovertemplate\":\"reference=False<br>Year=2002<br>Human Development Index=%{x}<br>count=%{y}<extra></extra>\",\"legendgroup\":\"False\",\"marker\":{\"color\":\"#636efa\",\"opacity\":1,\"pattern\":{\"shape\":\"\"}},\"name\":\"False\",\"offsetgroup\":\"False\",\"orientation\":\"v\",\"showlegend\":true,\"texttemplate\":\"%{value}\",\"x\":[0.689,0.879,0.721,0.892,0.675,0.74,0.777,0.825,0.896,0.807,0.904,0.848,0.901,0.83,0.791,0.886,0.864,0.853,0.778,0.786,0.874,0.8,0.892,0.683,0.912,0.806,0.798,0.729,0.779,0.848,0.834,0.91,0.89,0.722,0.873],\"xaxis\":\"x\",\"yaxis\":\"y\",\"type\":\"histogram\"},{\"alignmentgroup\":\"True\",\"hovertemplate\":\"reference=False<br>Year=2002<br>Human Development Index=%{x}<extra></extra>\",\"legendgroup\":\"False\",\"marker\":{\"color\":\"#636efa\"},\"name\":\"False\",\"notched\":true,\"offsetgroup\":\"False\",\"showlegend\":false,\"x\":[0.689,0.879,0.721,0.892,0.675,0.74,0.777,0.825,0.896,0.807,0.904,0.848,0.901,0.83,0.791,0.886,0.864,0.853,0.778,0.786,0.874,0.8,0.892,0.683,0.912,0.806,0.798,0.729,0.779,0.848,0.834,0.91,0.89,0.722,0.873],\"xaxis\":\"x2\",\"yaxis\":\"y2\",\"type\":\"box\"}],\"name\":\"2002\"},{\"data\":[{\"alignmentgroup\":\"True\",\"bingroup\":\"x\",\"hovertemplate\":\"reference=False<br>Year=2003<br>Human Development Index=%{x}<br>count=%{y}<extra></extra>\",\"legendgroup\":\"False\",\"marker\":{\"color\":\"#636efa\",\"opacity\":1,\"pattern\":{\"shape\":\"\"}},\"name\":\"False\",\"offsetgroup\":\"False\",\"orientation\":\"v\",\"showlegend\":true,\"texttemplate\":\"%{value}\",\"x\":[0.696,0.881,0.73,0.895,0.683,0.749,0.783,0.831,0.901,0.816,0.907,0.851,0.905,0.835,0.798,0.891,0.873,0.858,0.787,0.8,0.873,0.812,0.894,0.688,0.919,0.811,0.802,0.732,0.784,0.858,0.837,0.915,0.895,0.732,0.878],\"xaxis\":\"x\",\"yaxis\":\"y\",\"type\":\"histogram\"},{\"alignmentgroup\":\"True\",\"hovertemplate\":\"reference=False<br>Year=2003<br>Human Development Index=%{x}<extra></extra>\",\"legendgroup\":\"False\",\"marker\":{\"color\":\"#636efa\"},\"name\":\"False\",\"notched\":true,\"offsetgroup\":\"False\",\"showlegend\":false,\"x\":[0.696,0.881,0.73,0.895,0.683,0.749,0.783,0.831,0.901,0.816,0.907,0.851,0.905,0.835,0.798,0.891,0.873,0.858,0.787,0.8,0.873,0.812,0.894,0.688,0.919,0.811,0.802,0.732,0.784,0.858,0.837,0.915,0.895,0.732,0.878],\"xaxis\":\"x2\",\"yaxis\":\"y2\",\"type\":\"box\"}],\"name\":\"2003\"},{\"data\":[{\"alignmentgroup\":\"True\",\"bingroup\":\"x\",\"hovertemplate\":\"reference=False<br>Year=2004<br>Human Development Index=%{x}<br>count=%{y}<extra></extra>\",\"legendgroup\":\"False\",\"marker\":{\"color\":\"#636efa\",\"opacity\":1,\"pattern\":{\"shape\":\"\"}},\"name\":\"False\",\"offsetgroup\":\"False\",\"orientation\":\"v\",\"showlegend\":true,\"texttemplate\":\"%{value}\",\"x\":[0.7,0.886,0.742,0.9,0.69,0.756,0.796,0.836,0.906,0.826,0.902,0.858,0.914,0.843,0.801,0.895,0.881,0.865,0.799,0.809,0.882,0.825,0.897,0.694,0.927,0.809,0.805,0.742,0.794,0.865,0.844,0.9,0.901,0.74,0.889],\"xaxis\":\"x\",\"yaxis\":\"y\",\"type\":\"histogram\"},{\"alignmentgroup\":\"True\",\"hovertemplate\":\"reference=False<br>Year=2004<br>Human Development Index=%{x}<extra></extra>\",\"legendgroup\":\"False\",\"marker\":{\"color\":\"#636efa\"},\"name\":\"False\",\"notched\":true,\"offsetgroup\":\"False\",\"showlegend\":false,\"x\":[0.7,0.886,0.742,0.9,0.69,0.756,0.796,0.836,0.906,0.826,0.902,0.858,0.914,0.843,0.801,0.895,0.881,0.865,0.799,0.809,0.882,0.825,0.897,0.694,0.927,0.809,0.805,0.742,0.794,0.865,0.844,0.9,0.901,0.74,0.889],\"xaxis\":\"x2\",\"yaxis\":\"y2\",\"type\":\"box\"}],\"name\":\"2004\"},{\"data\":[{\"alignmentgroup\":\"True\",\"bingroup\":\"x\",\"hovertemplate\":\"reference=False<br>Year=2005<br>Human Development Index=%{x}<br>count=%{y}<extra></extra>\",\"legendgroup\":\"False\",\"marker\":{\"color\":\"#636efa\",\"opacity\":1,\"pattern\":{\"shape\":\"\"}},\"name\":\"False\",\"offsetgroup\":\"False\",\"orientation\":\"v\",\"showlegend\":true,\"texttemplate\":\"%{value}\",\"x\":[0.711,0.889,0.75,0.902,0.691,0.762,0.802,0.844,0.911,0.839,0.905,0.866,0.914,0.855,0.806,0.901,0.888,0.868,0.808,0.817,0.884,0.832,0.899,0.699,0.931,0.815,0.806,0.756,0.803,0.869,0.85,0.902,0.905,0.743,0.895],\"xaxis\":\"x\",\"yaxis\":\"y\",\"type\":\"histogram\"},{\"alignmentgroup\":\"True\",\"hovertemplate\":\"reference=False<br>Year=2005<br>Human Development Index=%{x}<extra></extra>\",\"legendgroup\":\"False\",\"marker\":{\"color\":\"#636efa\"},\"name\":\"False\",\"notched\":true,\"offsetgroup\":\"False\",\"showlegend\":false,\"x\":[0.711,0.889,0.75,0.902,0.691,0.762,0.802,0.844,0.911,0.839,0.905,0.866,0.914,0.855,0.806,0.901,0.888,0.868,0.808,0.817,0.884,0.832,0.899,0.699,0.931,0.815,0.806,0.756,0.803,0.869,0.85,0.902,0.905,0.743,0.895],\"xaxis\":\"x2\",\"yaxis\":\"y2\",\"type\":\"box\"}],\"name\":\"2005\"},{\"data\":[{\"alignmentgroup\":\"True\",\"bingroup\":\"x\",\"hovertemplate\":\"reference=False<br>Year=2006<br>Human Development Index=%{x}<br>count=%{y}<extra></extra>\",\"legendgroup\":\"False\",\"marker\":{\"color\":\"#636efa\",\"opacity\":1,\"pattern\":{\"shape\":\"\"}},\"name\":\"False\",\"offsetgroup\":\"False\",\"orientation\":\"v\",\"showlegend\":true,\"texttemplate\":\"%{value}\",\"x\":[0.718,0.893,0.762,0.905,0.699,0.767,0.811,0.852,0.91,0.847,0.909,0.87,0.917,0.863,0.814,0.903,0.891,0.873,0.815,0.823,0.885,0.831,0.906,0.707,0.937,0.82,0.811,0.77,0.812,0.878,0.856,0.906,0.914,0.751,0.894],\"xaxis\":\"x\",\"yaxis\":\"y\",\"type\":\"histogram\"},{\"alignmentgroup\":\"True\",\"hovertemplate\":\"reference=False<br>Year=2006<br>Human Development Index=%{x}<extra></extra>\",\"legendgroup\":\"False\",\"marker\":{\"color\":\"#636efa\"},\"name\":\"False\",\"notched\":true,\"offsetgroup\":\"False\",\"showlegend\":false,\"x\":[0.718,0.893,0.762,0.905,0.699,0.767,0.811,0.852,0.91,0.847,0.909,0.87,0.917,0.863,0.814,0.903,0.891,0.873,0.815,0.823,0.885,0.831,0.906,0.707,0.937,0.82,0.811,0.77,0.812,0.878,0.856,0.906,0.914,0.751,0.894],\"xaxis\":\"x2\",\"yaxis\":\"y2\",\"type\":\"box\"}],\"name\":\"2006\"},{\"data\":[{\"alignmentgroup\":\"True\",\"bingroup\":\"x\",\"hovertemplate\":\"reference=False<br>Year=2007<br>Human Development Index=%{x}<br>count=%{y}<extra></extra>\",\"legendgroup\":\"False\",\"marker\":{\"color\":\"#636efa\",\"opacity\":1,\"pattern\":{\"shape\":\"\"}},\"name\":\"False\",\"offsetgroup\":\"False\",\"orientation\":\"v\",\"showlegend\":true,\"texttemplate\":\"%{value}\",\"x\":[0.73,0.896,0.773,0.908,0.707,0.774,0.815,0.859,0.911,0.853,0.911,0.873,0.921,0.858,0.817,0.909,0.896,0.877,0.82,0.83,0.887,0.837,0.787,0.912,0.711,0.938,0.825,0.818,0.786,0.754,0.823,0.882,0.858,0.908,0.92,0.757,0.897],\"xaxis\":\"x\",\"yaxis\":\"y\",\"type\":\"histogram\"},{\"alignmentgroup\":\"True\",\"hovertemplate\":\"reference=False<br>Year=2007<br>Human Development Index=%{x}<extra></extra>\",\"legendgroup\":\"False\",\"marker\":{\"color\":\"#636efa\"},\"name\":\"False\",\"notched\":true,\"offsetgroup\":\"False\",\"showlegend\":false,\"x\":[0.73,0.896,0.773,0.908,0.707,0.774,0.815,0.859,0.911,0.853,0.911,0.873,0.921,0.858,0.817,0.909,0.896,0.877,0.82,0.83,0.887,0.837,0.787,0.912,0.711,0.938,0.825,0.818,0.786,0.754,0.823,0.882,0.858,0.908,0.92,0.757,0.897],\"xaxis\":\"x2\",\"yaxis\":\"y2\",\"type\":\"box\"}],\"name\":\"2007\"},{\"data\":[{\"alignmentgroup\":\"True\",\"bingroup\":\"x\",\"hovertemplate\":\"reference=False<br>Year=2008<br>Human Development Index=%{x}<br>count=%{y}<extra></extra>\",\"legendgroup\":\"False\",\"marker\":{\"color\":\"#636efa\",\"opacity\":1,\"pattern\":{\"shape\":\"\"}},\"name\":\"False\",\"offsetgroup\":\"False\",\"orientation\":\"v\",\"showlegend\":true,\"texttemplate\":\"%{value}\",\"x\":[0.736,0.898,0.783,0.908,0.718,0.782,0.817,0.863,0.915,0.856,0.912,0.873,0.923,0.863,0.823,0.902,0.899,0.878,0.827,0.84,0.9,0.841,0.8,0.912,0.73,0.94,0.831,0.822,0.806,0.765,0.831,0.888,0.86,0.905,0.926,0.761,0.9],\"xaxis\":\"x\",\"yaxis\":\"y\",\"type\":\"histogram\"},{\"alignmentgroup\":\"True\",\"hovertemplate\":\"reference=False<br>Year=2008<br>Human Development Index=%{x}<extra></extra>\",\"legendgroup\":\"False\",\"marker\":{\"color\":\"#636efa\"},\"name\":\"False\",\"notched\":true,\"offsetgroup\":\"False\",\"showlegend\":false,\"x\":[0.736,0.898,0.783,0.908,0.718,0.782,0.817,0.863,0.915,0.856,0.912,0.873,0.923,0.863,0.823,0.902,0.899,0.878,0.827,0.84,0.9,0.841,0.8,0.912,0.73,0.94,0.831,0.822,0.806,0.765,0.831,0.888,0.86,0.905,0.926,0.761,0.9],\"xaxis\":\"x2\",\"yaxis\":\"y2\",\"type\":\"box\"}],\"name\":\"2008\"},{\"data\":[{\"alignmentgroup\":\"True\",\"bingroup\":\"x\",\"hovertemplate\":\"reference=False<br>Year=2009<br>Human Development Index=%{x}<br>count=%{y}<extra></extra>\",\"legendgroup\":\"False\",\"marker\":{\"color\":\"#636efa\",\"opacity\":1,\"pattern\":{\"shape\":\"\"}},\"name\":\"False\",\"offsetgroup\":\"False\",\"orientation\":\"v\",\"showlegend\":true,\"texttemplate\":\"%{value}\",\"x\":[0.741,0.898,0.785,0.91,0.721,0.785,0.816,0.865,0.909,0.856,0.907,0.872,0.923,0.866,0.825,0.9,0.895,0.878,0.826,0.839,0.905,0.847,0.8,0.913,0.733,0.936,0.835,0.825,0.809,0.766,0.833,0.887,0.861,0.904,0.936,0.758,0.906],\"xaxis\":\"x\",\"yaxis\":\"y\",\"type\":\"histogram\"},{\"alignmentgroup\":\"True\",\"hovertemplate\":\"reference=False<br>Year=2009<br>Human Development Index=%{x}<extra></extra>\",\"legendgroup\":\"False\",\"marker\":{\"color\":\"#636efa\"},\"name\":\"False\",\"notched\":true,\"offsetgroup\":\"False\",\"showlegend\":false,\"x\":[0.741,0.898,0.785,0.91,0.721,0.785,0.816,0.865,0.909,0.856,0.907,0.872,0.923,0.866,0.825,0.9,0.895,0.878,0.826,0.839,0.905,0.847,0.8,0.913,0.733,0.936,0.835,0.825,0.809,0.766,0.833,0.887,0.861,0.904,0.936,0.758,0.906],\"xaxis\":\"x2\",\"yaxis\":\"y2\",\"type\":\"box\"}],\"name\":\"2009\"},{\"data\":[{\"alignmentgroup\":\"True\",\"bingroup\":\"x\",\"hovertemplate\":\"reference=False<br>Year=2010<br>Human Development Index=%{x}<br>count=%{y}<extra></extra>\",\"legendgroup\":\"False\",\"marker\":{\"color\":\"#636efa\",\"opacity\":1,\"pattern\":{\"shape\":\"\"}},\"name\":\"False\",\"offsetgroup\":\"False\",\"orientation\":\"v\",\"showlegend\":true,\"texttemplate\":\"%{value}\",\"x\":[0.754,0.902,0.79,0.912,0.725,0.79,0.821,0.87,0.913,0.861,0.911,0.877,0.926,0.869,0.828,0.902,0.904,0.882,0.824,0.842,0.912,0.861,0.808,0.917,0.738,0.941,0.841,0.829,0.807,0.767,0.84,0.89,0.868,0.91,0.942,0.764,0.912],\"xaxis\":\"x\",\"yaxis\":\"y\",\"type\":\"histogram\"},{\"alignmentgroup\":\"True\",\"hovertemplate\":\"reference=False<br>Year=2010<br>Human Development Index=%{x}<extra></extra>\",\"legendgroup\":\"False\",\"marker\":{\"color\":\"#636efa\"},\"name\":\"False\",\"notched\":true,\"offsetgroup\":\"False\",\"showlegend\":false,\"x\":[0.754,0.902,0.79,0.912,0.725,0.79,0.821,0.87,0.913,0.861,0.911,0.877,0.926,0.869,0.828,0.902,0.904,0.882,0.824,0.842,0.912,0.861,0.808,0.917,0.738,0.941,0.841,0.829,0.807,0.767,0.84,0.89,0.868,0.91,0.942,0.764,0.912],\"xaxis\":\"x2\",\"yaxis\":\"y2\",\"type\":\"box\"}],\"name\":\"2010\"},{\"data\":[{\"alignmentgroup\":\"True\",\"bingroup\":\"x\",\"hovertemplate\":\"reference=False<br>Year=2011<br>Human Development Index=%{x}<br>count=%{y}<extra></extra>\",\"legendgroup\":\"False\",\"marker\":{\"color\":\"#636efa\",\"opacity\":1,\"pattern\":{\"shape\":\"\"}},\"name\":\"False\",\"offsetgroup\":\"False\",\"orientation\":\"v\",\"showlegend\":true,\"texttemplate\":\"%{value}\",\"x\":[0.766,0.905,0.797,0.914,0.732,0.794,0.826,0.872,0.926,0.871,0.915,0.881,0.931,0.865,0.83,0.912,0.902,0.885,0.831,0.849,0.913,0.857,0.811,0.927,0.741,0.944,0.847,0.835,0.808,0.777,0.844,0.892,0.872,0.911,0.943,0.769,0.908],\"xaxis\":\"x\",\"yaxis\":\"y\",\"type\":\"histogram\"},{\"alignmentgroup\":\"True\",\"hovertemplate\":\"reference=False<br>Year=2011<br>Human Development Index=%{x}<extra></extra>\",\"legendgroup\":\"False\",\"marker\":{\"color\":\"#636efa\"},\"name\":\"False\",\"notched\":true,\"offsetgroup\":\"False\",\"showlegend\":false,\"x\":[0.766,0.905,0.797,0.914,0.732,0.794,0.826,0.872,0.926,0.871,0.915,0.881,0.931,0.865,0.83,0.912,0.902,0.885,0.831,0.849,0.913,0.857,0.811,0.927,0.741,0.944,0.847,0.835,0.808,0.777,0.844,0.892,0.872,0.911,0.943,0.769,0.908],\"xaxis\":\"x2\",\"yaxis\":\"y2\",\"type\":\"box\"}],\"name\":\"2011\"},{\"data\":[{\"alignmentgroup\":\"True\",\"bingroup\":\"x\",\"hovertemplate\":\"reference=False<br>Year=2012<br>Human Development Index=%{x}<br>count=%{y}<extra></extra>\",\"legendgroup\":\"False\",\"marker\":{\"color\":\"#636efa\",\"opacity\":1,\"pattern\":{\"shape\":\"\"}},\"name\":\"False\",\"offsetgroup\":\"False\",\"orientation\":\"v\",\"showlegend\":true,\"texttemplate\":\"%{value}\",\"x\":[0.778,0.906,0.806,0.915,0.745,0.798,0.83,0.874,0.931,0.874,0.915,0.882,0.933,0.866,0.831,0.921,0.903,0.883,0.833,0.851,0.916,0.864,0.812,0.927,0.743,0.946,0.852,0.836,0.805,0.78,0.845,0.891,0.874,0.911,0.945,0.773,0.909],\"xaxis\":\"x\",\"yaxis\":\"y\",\"type\":\"histogram\"},{\"alignmentgroup\":\"True\",\"hovertemplate\":\"reference=False<br>Year=2012<br>Human Development Index=%{x}<extra></extra>\",\"legendgroup\":\"False\",\"marker\":{\"color\":\"#636efa\"},\"name\":\"False\",\"notched\":true,\"offsetgroup\":\"False\",\"showlegend\":false,\"x\":[0.778,0.906,0.806,0.915,0.745,0.798,0.83,0.874,0.931,0.874,0.915,0.882,0.933,0.866,0.831,0.921,0.903,0.883,0.833,0.851,0.916,0.864,0.812,0.927,0.743,0.946,0.852,0.836,0.805,0.78,0.845,0.891,0.874,0.911,0.945,0.773,0.909],\"xaxis\":\"x2\",\"yaxis\":\"y2\",\"type\":\"box\"}],\"name\":\"2012\"},{\"data\":[{\"alignmentgroup\":\"True\",\"bingroup\":\"x\",\"hovertemplate\":\"reference=False<br>Year=2013<br>Human Development Index=%{x}<br>count=%{y}<extra></extra>\",\"legendgroup\":\"False\",\"marker\":{\"color\":\"#636efa\",\"opacity\":1,\"pattern\":{\"shape\":\"\"}},\"name\":\"False\",\"offsetgroup\":\"False\",\"orientation\":\"v\",\"showlegend\":true,\"texttemplate\":\"%{value}\",\"x\":[0.785,0.905,0.808,0.916,0.751,0.805,0.838,0.881,0.933,0.88,0.926,0.887,0.934,0.871,0.84,0.929,0.908,0.882,0.843,0.854,0.921,0.872,0.817,0.929,0.75,0.949,0.863,0.845,0.81,0.785,0.848,0.9,0.88,0.932,0.948,0.773,0.922],\"xaxis\":\"x\",\"yaxis\":\"y\",\"type\":\"histogram\"},{\"alignmentgroup\":\"True\",\"hovertemplate\":\"reference=False<br>Year=2013<br>Human Development Index=%{x}<extra></extra>\",\"legendgroup\":\"False\",\"marker\":{\"color\":\"#636efa\"},\"name\":\"False\",\"notched\":true,\"offsetgroup\":\"False\",\"showlegend\":false,\"x\":[0.785,0.905,0.808,0.916,0.751,0.805,0.838,0.881,0.933,0.88,0.926,0.887,0.934,0.871,0.84,0.929,0.908,0.882,0.843,0.854,0.921,0.872,0.817,0.929,0.75,0.949,0.863,0.845,0.81,0.785,0.848,0.9,0.88,0.932,0.948,0.773,0.922],\"xaxis\":\"x2\",\"yaxis\":\"y2\",\"type\":\"box\"}],\"name\":\"2013\"},{\"data\":[{\"alignmentgroup\":\"True\",\"bingroup\":\"x\",\"hovertemplate\":\"reference=False<br>Year=2014<br>Human Development Index=%{x}<br>count=%{y}<extra></extra>\",\"legendgroup\":\"False\",\"marker\":{\"color\":\"#636efa\",\"opacity\":1,\"pattern\":{\"shape\":\"\"}},\"name\":\"False\",\"offsetgroup\":\"False\",\"orientation\":\"v\",\"showlegend\":true,\"texttemplate\":\"%{value}\",\"x\":[0.792,0.909,0.812,0.921,0.756,0.807,0.841,0.887,0.932,0.879,0.927,0.892,0.937,0.879,0.838,0.938,0.914,0.883,0.846,0.861,0.926,0.881,0.819,0.931,0.755,0.952,0.865,0.848,0.811,0.788,0.849,0.902,0.884,0.935,0.952,0.773,0.924],\"xaxis\":\"x\",\"yaxis\":\"y\",\"type\":\"histogram\"},{\"alignmentgroup\":\"True\",\"hovertemplate\":\"reference=False<br>Year=2014<br>Human Development Index=%{x}<extra></extra>\",\"legendgroup\":\"False\",\"marker\":{\"color\":\"#636efa\"},\"name\":\"False\",\"notched\":true,\"offsetgroup\":\"False\",\"showlegend\":false,\"x\":[0.792,0.909,0.812,0.921,0.756,0.807,0.841,0.887,0.932,0.879,0.927,0.892,0.937,0.879,0.838,0.938,0.914,0.883,0.846,0.861,0.926,0.881,0.819,0.931,0.755,0.952,0.865,0.848,0.811,0.788,0.849,0.902,0.884,0.935,0.952,0.773,0.924],\"xaxis\":\"x2\",\"yaxis\":\"y2\",\"type\":\"box\"}],\"name\":\"2014\"},{\"data\":[{\"alignmentgroup\":\"True\",\"bingroup\":\"x\",\"hovertemplate\":\"reference=False<br>Year=2015<br>Human Development Index=%{x}<br>count=%{y}<extra></extra>\",\"legendgroup\":\"False\",\"marker\":{\"color\":\"#636efa\",\"opacity\":1,\"pattern\":{\"shape\":\"\"}},\"name\":\"False\",\"offsetgroup\":\"False\",\"orientation\":\"v\",\"showlegend\":true,\"texttemplate\":\"%{value}\",\"x\":[0.795,0.91,0.812,0.924,0.761,0.809,0.843,0.891,0.936,0.882,0.93,0.892,0.938,0.88,0.838,0.945,0.925,0.882,0.85,0.862,0.915,0.889,0.822,0.932,0.762,0.953,0.868,0.85,0.813,0.794,0.851,0.903,0.889,0.937,0.954,0.774,0.924],\"xaxis\":\"x\",\"yaxis\":\"y\",\"type\":\"histogram\"},{\"alignmentgroup\":\"True\",\"hovertemplate\":\"reference=False<br>Year=2015<br>Human Development Index=%{x}<extra></extra>\",\"legendgroup\":\"False\",\"marker\":{\"color\":\"#636efa\"},\"name\":\"False\",\"notched\":true,\"offsetgroup\":\"False\",\"showlegend\":false,\"x\":[0.795,0.91,0.812,0.924,0.761,0.809,0.843,0.891,0.936,0.882,0.93,0.892,0.938,0.88,0.838,0.945,0.925,0.882,0.85,0.862,0.915,0.889,0.822,0.932,0.762,0.953,0.868,0.85,0.813,0.794,0.851,0.903,0.889,0.937,0.954,0.774,0.924],\"xaxis\":\"x2\",\"yaxis\":\"y2\",\"type\":\"box\"}],\"name\":\"2015\"},{\"data\":[{\"alignmentgroup\":\"True\",\"bingroup\":\"x\",\"hovertemplate\":\"reference=False<br>Year=2016<br>Human Development Index=%{x}<br>count=%{y}<extra></extra>\",\"legendgroup\":\"False\",\"marker\":{\"color\":\"#636efa\",\"opacity\":1,\"pattern\":{\"shape\":\"\"}},\"name\":\"False\",\"offsetgroup\":\"False\",\"orientation\":\"v\",\"showlegend\":true,\"texttemplate\":\"%{value}\",\"x\":[0.798,0.915,0.813,0.927,0.77,0.809,0.848,0.895,0.943,0.885,0.931,0.895,0.941,0.877,0.843,0.948,0.929,0.887,0.855,0.868,0.923,0.891,0.824,0.933,0.767,0.955,0.872,0.853,0.816,0.8,0.854,0.91,0.895,0.939,0.956,0.779,0.927],\"xaxis\":\"x\",\"yaxis\":\"y\",\"type\":\"histogram\"},{\"alignmentgroup\":\"True\",\"hovertemplate\":\"reference=False<br>Year=2016<br>Human Development Index=%{x}<extra></extra>\",\"legendgroup\":\"False\",\"marker\":{\"color\":\"#636efa\"},\"name\":\"False\",\"notched\":true,\"offsetgroup\":\"False\",\"showlegend\":false,\"x\":[0.798,0.915,0.813,0.927,0.77,0.809,0.848,0.895,0.943,0.885,0.931,0.895,0.941,0.877,0.843,0.948,0.929,0.887,0.855,0.868,0.923,0.891,0.824,0.933,0.767,0.955,0.872,0.853,0.816,0.8,0.854,0.91,0.895,0.939,0.956,0.779,0.927],\"xaxis\":\"x2\",\"yaxis\":\"y2\",\"type\":\"box\"}],\"name\":\"2016\"},{\"data\":[{\"alignmentgroup\":\"True\",\"bingroup\":\"x\",\"hovertemplate\":\"reference=False<br>Year=2017<br>Human Development Index=%{x}<br>count=%{y}<extra></extra>\",\"legendgroup\":\"False\",\"marker\":{\"color\":\"#636efa\",\"opacity\":1,\"pattern\":{\"shape\":\"\"}},\"name\":\"False\",\"offsetgroup\":\"False\",\"orientation\":\"v\",\"showlegend\":true,\"texttemplate\":\"%{value}\",\"x\":[0.802,0.916,0.817,0.931,0.772,0.808,0.852,0.897,0.944,0.887,0.934,0.898,0.944,0.88,0.845,0.954,0.934,0.888,0.86,0.876,0.919,0.901,0.83,0.937,0.773,0.959,0.875,0.859,0.823,0.802,0.856,0.913,0.897,0.941,0.957,0.782,0.93],\"xaxis\":\"x\",\"yaxis\":\"y\",\"type\":\"histogram\"},{\"alignmentgroup\":\"True\",\"hovertemplate\":\"reference=False<br>Year=2017<br>Human Development Index=%{x}<extra></extra>\",\"legendgroup\":\"False\",\"marker\":{\"color\":\"#636efa\"},\"name\":\"False\",\"notched\":true,\"offsetgroup\":\"False\",\"showlegend\":false,\"x\":[0.802,0.916,0.817,0.931,0.772,0.808,0.852,0.897,0.944,0.887,0.934,0.898,0.944,0.88,0.845,0.954,0.934,0.888,0.86,0.876,0.919,0.901,0.83,0.937,0.773,0.959,0.875,0.859,0.823,0.802,0.856,0.913,0.897,0.941,0.957,0.782,0.93],\"xaxis\":\"x2\",\"yaxis\":\"y2\",\"type\":\"box\"}],\"name\":\"2017\"},{\"data\":[{\"alignmentgroup\":\"True\",\"bingroup\":\"x\",\"hovertemplate\":\"reference=False<br>Year=2018<br>Human Development Index=%{x}<br>count=%{y}<extra></extra>\",\"legendgroup\":\"False\",\"marker\":{\"color\":\"#636efa\",\"opacity\":1,\"pattern\":{\"shape\":\"\"}},\"name\":\"False\",\"offsetgroup\":\"False\",\"orientation\":\"v\",\"showlegend\":true,\"texttemplate\":\"%{value}\",\"x\":[0.806,0.917,0.818,0.933,0.776,0.809,0.856,0.894,0.942,0.891,0.936,0.901,0.945,0.886,0.849,0.959,0.937,0.893,0.866,0.88,0.922,0.91,0.834,0.939,0.779,0.962,0.877,0.86,0.827,0.808,0.859,0.917,0.901,0.942,0.959,0.783,0.929],\"xaxis\":\"x\",\"yaxis\":\"y\",\"type\":\"histogram\"},{\"alignmentgroup\":\"True\",\"hovertemplate\":\"reference=False<br>Year=2018<br>Human Development Index=%{x}<extra></extra>\",\"legendgroup\":\"False\",\"marker\":{\"color\":\"#636efa\"},\"name\":\"False\",\"notched\":true,\"offsetgroup\":\"False\",\"showlegend\":false,\"x\":[0.806,0.917,0.818,0.933,0.776,0.809,0.856,0.894,0.942,0.891,0.936,0.901,0.945,0.886,0.849,0.959,0.937,0.893,0.866,0.88,0.922,0.91,0.834,0.939,0.779,0.962,0.877,0.86,0.827,0.808,0.859,0.917,0.901,0.942,0.959,0.783,0.929],\"xaxis\":\"x2\",\"yaxis\":\"y2\",\"type\":\"box\"}],\"name\":\"2018\"},{\"data\":[{\"alignmentgroup\":\"True\",\"bingroup\":\"x\",\"hovertemplate\":\"reference=False<br>Year=2019<br>Human Development Index=%{x}<br>count=%{y}<extra></extra>\",\"legendgroup\":\"False\",\"marker\":{\"color\":\"#636efa\",\"opacity\":1,\"pattern\":{\"shape\":\"\"}},\"name\":\"False\",\"offsetgroup\":\"False\",\"orientation\":\"v\",\"showlegend\":true,\"texttemplate\":\"%{value}\",\"x\":[0.81,0.919,0.817,0.936,0.783,0.81,0.861,0.897,0.946,0.896,0.939,0.905,0.948,0.889,0.853,0.96,0.942,0.897,0.871,0.884,0.927,0.915,0.837,0.943,0.784,0.961,0.881,0.867,0.832,0.811,0.862,0.921,0.908,0.947,0.962,0.786,0.935],\"xaxis\":\"x\",\"yaxis\":\"y\",\"type\":\"histogram\"},{\"alignmentgroup\":\"True\",\"hovertemplate\":\"reference=False<br>Year=2019<br>Human Development Index=%{x}<extra></extra>\",\"legendgroup\":\"False\",\"marker\":{\"color\":\"#636efa\"},\"name\":\"False\",\"notched\":true,\"offsetgroup\":\"False\",\"showlegend\":false,\"x\":[0.81,0.919,0.817,0.936,0.783,0.81,0.861,0.897,0.946,0.896,0.939,0.905,0.948,0.889,0.853,0.96,0.942,0.897,0.871,0.884,0.927,0.915,0.837,0.943,0.784,0.961,0.881,0.867,0.832,0.811,0.862,0.921,0.908,0.947,0.962,0.786,0.935],\"xaxis\":\"x2\",\"yaxis\":\"y2\",\"type\":\"box\"}],\"name\":\"2019\"},{\"data\":[{\"alignmentgroup\":\"True\",\"bingroup\":\"x\",\"hovertemplate\":\"reference=True<br>Year=2020<br>Human Development Index=%{x}<br>count=%{y}<extra></extra>\",\"legendgroup\":\"True\",\"marker\":{\"color\":\"#EF553B\",\"opacity\":1,\"pattern\":{\"shape\":\"/\"}},\"name\":\"True\",\"offsetgroup\":\"True\",\"orientation\":\"v\",\"showlegend\":true,\"texttemplate\":\"%{value}\",\"x\":[0.794,0.913,0.807,0.928,0.781,0.802,0.855,0.892,0.947,0.892,0.938,0.898,0.944,0.886,0.849,0.957,0.943,0.889,0.871,0.879,0.924,0.911,0.826,0.939,0.774,0.959,0.876,0.863,0.824,0.804,0.857,0.913,0.899,0.942,0.956,0.775,0.924],\"xaxis\":\"x\",\"yaxis\":\"y\",\"type\":\"histogram\"},{\"alignmentgroup\":\"True\",\"hovertemplate\":\"reference=True<br>Year=2020<br>Human Development Index=%{x}<extra></extra>\",\"legendgroup\":\"True\",\"marker\":{\"color\":\"#EF553B\"},\"name\":\"True\",\"notched\":true,\"offsetgroup\":\"True\",\"showlegend\":false,\"x\":[0.794,0.913,0.807,0.928,0.781,0.802,0.855,0.892,0.947,0.892,0.938,0.898,0.944,0.886,0.849,0.957,0.943,0.889,0.871,0.879,0.924,0.911,0.826,0.939,0.774,0.959,0.876,0.863,0.824,0.804,0.857,0.913,0.899,0.942,0.956,0.775,0.924],\"xaxis\":\"x2\",\"yaxis\":\"y2\",\"type\":\"box\"}],\"name\":\"2020\"}]);\n                        }).then(function(){\n                            \nvar gd = document.getElementById('f17e1270-b08b-4694-a880-e6980af253f3');\nvar x = new MutationObserver(function (mutations, observer) {{\n        var display = window.getComputedStyle(gd).display;\n        if (!display || display === 'none') {{\n            console.log([gd, 'removed!']);\n            Plotly.purge(gd);\n            observer.disconnect();\n        }}\n}});\n\n// Listen for the removal of the full notebook cells\nvar notebookContainer = gd.closest('#notebook-container');\nif (notebookContainer) {{\n    x.observe(notebookContainer, {childList: true});\n}}\n\n// Listen for the clearing of the current output cell\nvar outputEl = gd.closest('.output');\nif (outputEl) {{\n    x.observe(outputEl, {childList: true});\n}}\n\n                        })                };                });            </script>        </div>"
     },
     "metadata": {},
     "output_type": "display_data"
    }
   ],
   "source": [
    "def graph_histo_hdi(area_type: str, area_name: str, reference_year: int = 2020) -> go.Figure:\n",
    "    \"\"\"\n",
    "    The functino graph_histo_HDI make a histogram with the frequency of HDI for a given area type.\n",
    "    The slider change the year of observation and a marginal distribution as a box plot.\n",
    "    The area name is the current country observed.\n",
    "    :param reference_year: an int in [2000, 2020]\n",
    "    :param area_type: [\"Entity\", \"Continent\", \"Region\", \"iso3\"]\n",
    "    :param area_name: [\"France\", \"Europe\", \"Western Europe\", \"FRA\", ...]\n",
    "    :return: go.Figure.histogram\n",
    "    \"\"\"\n",
    "    df_histo = df_energy_query(area_type, area_name)\n",
    "    df_histo_filtered = df_histo[['Year', 'Country', 'Continent', 'Region', 'Human Development Index']]\n",
    "\n",
    "    # Creation of the feature 'reference' that is a boolean.\n",
    "    reference = pd.DataFrame({'reference': df_histo_filtered['Year'] == reference_year})   # chatGPT  \n",
    "    df_histo_filtered = pd.concat([df_histo_filtered, reference], axis=1)\n",
    "\n",
    "    histo = px.histogram(df_histo_filtered,\n",
    "                         x=\"Human Development Index\",\n",
    "                         marginal=\"box\",  # [\"rug\", \"box\", \"violin\"]\n",
    "                         color='reference',\n",
    "                         title=f\"Histogram Human Development Index per year for {area_name}\",\n",
    "                         pattern_shape='reference',\n",
    "                         opacity=1,\n",
    "                         # template=THEME,\n",
    "                         text_auto=True,\n",
    "                         animation_frame=\"Year\",\n",
    "                         )\n",
    "\n",
    "    histo.update_layout(\n",
    "        showlegend=False,\n",
    "        transition={'duration': 10000}\n",
    "    )\n",
    "    \n",
    "    return histo\n",
    "\n",
    "graph_histo_hdi(\"Continent\", \"Europe\")"
   ],
   "metadata": {
    "collapsed": false,
    "ExecuteTime": {
     "end_time": "2023-11-05T17:28:41.077879900Z",
     "start_time": "2023-11-05T17:28:40.982817500Z"
    }
   },
   "id": "cf2635c25eb940e0"
  },
  {
   "cell_type": "code",
   "execution_count": 92,
   "outputs": [],
   "source": [],
   "metadata": {
    "collapsed": false,
    "ExecuteTime": {
     "end_time": "2023-11-05T17:11:37.839507300Z",
     "start_time": "2023-11-05T17:11:37.832501600Z"
    }
   },
   "id": "b67578d4ee73f723"
  }
 ],
 "metadata": {
  "kernelspec": {
   "display_name": "Python 3",
   "language": "python",
   "name": "python3"
  },
  "language_info": {
   "codemirror_mode": {
    "name": "ipython",
    "version": 2
   },
   "file_extension": ".py",
   "mimetype": "text/x-python",
   "name": "python",
   "nbconvert_exporter": "python",
   "pygments_lexer": "ipython2",
   "version": "2.7.6"
  }
 },
 "nbformat": 4,
 "nbformat_minor": 5
}
