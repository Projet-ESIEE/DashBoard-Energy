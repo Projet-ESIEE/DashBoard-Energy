{
 "cells": [
  {
   "cell_type": "markdown",
   "source": [
    "# Process_data : "
   ],
   "metadata": {
    "collapsed": false
   },
   "id": "d950c57e5c8cfb2b"
  },
  {
   "cell_type": "code",
   "execution_count": 11,
   "id": "initial_id",
   "metadata": {
    "ExecuteTime": {
     "end_time": "2023-10-15T19:55:08.220685300Z",
     "start_time": "2023-10-15T19:55:08.141112500Z"
    }
   },
   "outputs": [],
   "source": [
    "import pandas as pd\n",
    "import os\n",
    "import json"
   ]
  },
  {
   "cell_type": "code",
   "execution_count": 12,
   "outputs": [],
   "source": [
    "path_energy = os.path.join(\"global-data-sustainable-energy.csv\")\n",
    "path_cc = os.path.join(\"countryContinent.csv\")\n",
    "path_hdi = os.path.join(\"human-development-index.csv\")\n",
    "path_wp = os.path.join(\"worldPolygone.geo.json\")"
   ],
   "metadata": {
    "collapsed": false,
    "ExecuteTime": {
     "end_time": "2023-10-15T19:55:08.220685300Z",
     "start_time": "2023-10-15T19:55:08.142088400Z"
    }
   },
   "id": "4f1442322123ee7"
  },
  {
   "cell_type": "markdown",
   "source": [
    "## Lecture et Analyse globale du jeu de donnée"
   ],
   "metadata": {
    "collapsed": false
   },
   "id": "9832284042a82205"
  },
  {
   "cell_type": "code",
   "execution_count": 13,
   "outputs": [
    {
     "name": "stdout",
     "output_type": "stream",
     "text": [
      "<class 'pandas.core.frame.DataFrame'>\n",
      "RangeIndex: 3649 entries, 0 to 3648\n",
      "Data columns (total 21 columns):\n",
      " #   Column                                                            Non-Null Count  Dtype  \n",
      "---  ------                                                            --------------  -----  \n",
      " 0   Entity                                                            3649 non-null   object \n",
      " 1   Year                                                              3649 non-null   int64  \n",
      " 2   Access to electricity (% of population)                           3639 non-null   float64\n",
      " 3   Access to clean fuels for cooking                                 3480 non-null   float64\n",
      " 4   Renewable-electricity-generating-capacity-per-capita              2718 non-null   float64\n",
      " 5   Financial flows to developing countries (US $)                    1560 non-null   float64\n",
      " 6   Renewable energy share in the total final energy consumption (%)  3455 non-null   float64\n",
      " 7   Electricity from fossil fuels (TWh)                               3628 non-null   float64\n",
      " 8   Electricity from nuclear (TWh)                                    3523 non-null   float64\n",
      " 9   Electricity from renewables (TWh)                                 3628 non-null   float64\n",
      " 10  Low-carbon electricity (% electricity)                            3607 non-null   float64\n",
      " 11  Primary energy consumption per capita (kWh/person)                3649 non-null   float64\n",
      " 12  Energy intensity level of primary energy (MJ/$2017 PPP GDP)       3442 non-null   float64\n",
      " 13  Value_co2_emissions_kt_by_country                                 3221 non-null   float64\n",
      " 14  Renewables (% equivalent primary energy)                          1512 non-null   float64\n",
      " 15  gdp_growth                                                        3332 non-null   float64\n",
      " 16  gdp_per_capita                                                    3367 non-null   float64\n",
      " 17  Density\\n(P/Km2)                                                  3648 non-null   object \n",
      " 18  Land Area(Km2)                                                    3648 non-null   float64\n",
      " 19  Latitude                                                          3648 non-null   float64\n",
      " 20  Longitude                                                         3648 non-null   float64\n",
      "dtypes: float64(18), int64(1), object(2)\n",
      "memory usage: 598.8+ KB\n"
     ]
    }
   ],
   "source": [
    "df_energy = pd.read_csv(path_energy)\n",
    "df_energy.info()"
   ],
   "metadata": {
    "collapsed": false,
    "ExecuteTime": {
     "end_time": "2023-10-15T19:55:08.346501500Z",
     "start_time": "2023-10-15T19:55:08.152459100Z"
    }
   },
   "id": "9b56e9de454c36ec"
  },
  {
   "cell_type": "code",
   "execution_count": 14,
   "outputs": [
    {
     "data": {
      "text/plain": "        Entity  Year  Access to electricity (% of population)  \\\n0  Afghanistan  2000                                 1.613591   \n\n   Access to clean fuels for cooking  \\\n0                                6.2   \n\n   Renewable-electricity-generating-capacity-per-capita  \\\n0                                               9.22      \n\n   Financial flows to developing countries (US $)  \\\n0                                         20000.0   \n\n   Renewable energy share in the total final energy consumption (%)  \\\n0                                              44.99                  \n\n   Electricity from fossil fuels (TWh)  Electricity from nuclear (TWh)  \\\n0                                 0.16                             0.0   \n\n   Electricity from renewables (TWh)  ...  \\\n0                               0.31  ...   \n\n   Primary energy consumption per capita (kWh/person)  \\\n0                                          302.59482    \n\n   Energy intensity level of primary energy (MJ/$2017 PPP GDP)  \\\n0                                               1.64             \n\n   Value_co2_emissions_kt_by_country  \\\n0                              760.0   \n\n   Renewables (% equivalent primary energy)  gdp_growth  gdp_per_capita  \\\n0                                       NaN         NaN             NaN   \n\n   Density\\n(P/Km2) Land Area(Km2)  Latitude  Longitude  \n0                60       652230.0  33.93911  67.709953  \n\n[1 rows x 21 columns]",
      "text/html": "<div>\n<style scoped>\n    .dataframe tbody tr th:only-of-type {\n        vertical-align: middle;\n    }\n\n    .dataframe tbody tr th {\n        vertical-align: top;\n    }\n\n    .dataframe thead th {\n        text-align: right;\n    }\n</style>\n<table border=\"1\" class=\"dataframe\">\n  <thead>\n    <tr style=\"text-align: right;\">\n      <th></th>\n      <th>Entity</th>\n      <th>Year</th>\n      <th>Access to electricity (% of population)</th>\n      <th>Access to clean fuels for cooking</th>\n      <th>Renewable-electricity-generating-capacity-per-capita</th>\n      <th>Financial flows to developing countries (US $)</th>\n      <th>Renewable energy share in the total final energy consumption (%)</th>\n      <th>Electricity from fossil fuels (TWh)</th>\n      <th>Electricity from nuclear (TWh)</th>\n      <th>Electricity from renewables (TWh)</th>\n      <th>...</th>\n      <th>Primary energy consumption per capita (kWh/person)</th>\n      <th>Energy intensity level of primary energy (MJ/$2017 PPP GDP)</th>\n      <th>Value_co2_emissions_kt_by_country</th>\n      <th>Renewables (% equivalent primary energy)</th>\n      <th>gdp_growth</th>\n      <th>gdp_per_capita</th>\n      <th>Density\\n(P/Km2)</th>\n      <th>Land Area(Km2)</th>\n      <th>Latitude</th>\n      <th>Longitude</th>\n    </tr>\n  </thead>\n  <tbody>\n    <tr>\n      <th>0</th>\n      <td>Afghanistan</td>\n      <td>2000</td>\n      <td>1.613591</td>\n      <td>6.2</td>\n      <td>9.22</td>\n      <td>20000.0</td>\n      <td>44.99</td>\n      <td>0.16</td>\n      <td>0.0</td>\n      <td>0.31</td>\n      <td>...</td>\n      <td>302.59482</td>\n      <td>1.64</td>\n      <td>760.0</td>\n      <td>NaN</td>\n      <td>NaN</td>\n      <td>NaN</td>\n      <td>60</td>\n      <td>652230.0</td>\n      <td>33.93911</td>\n      <td>67.709953</td>\n    </tr>\n  </tbody>\n</table>\n<p>1 rows × 21 columns</p>\n</div>"
     },
     "execution_count": 14,
     "metadata": {},
     "output_type": "execute_result"
    }
   ],
   "source": [
    "df_energy.head(1)"
   ],
   "metadata": {
    "collapsed": false,
    "ExecuteTime": {
     "end_time": "2023-10-15T19:55:08.393376100Z",
     "start_time": "2023-10-15T19:55:08.176275600Z"
    }
   },
   "id": "78815b1f9b91b29f"
  },
  {
   "cell_type": "code",
   "execution_count": 15,
   "outputs": [
    {
     "data": {
      "text/plain": "              Year  Access to electricity (% of population)  \\\ncount  3649.000000                              3639.000000   \nmean   2010.038367                                78.933702   \nstd       6.054228                                30.275541   \nmin    2000.000000                                 1.252269   \n25%    2005.000000                                59.800890   \n50%    2010.000000                                98.361570   \n75%    2015.000000                               100.000000   \nmax    2020.000000                               100.000000   \n\n       Access to clean fuels for cooking  \\\ncount                        3480.000000   \nmean                           63.255287   \nstd                            39.043658   \nmin                             0.000000   \n25%                            23.175000   \n50%                            83.150000   \n75%                           100.000000   \nmax                           100.000000   \n\n       Renewable-electricity-generating-capacity-per-capita  \\\ncount                                        2718.000000      \nmean                                          113.137498      \nstd                                           244.167256      \nmin                                             0.000000      \n25%                                             3.540000      \n50%                                            32.910000      \n75%                                           112.210000      \nmax                                          3060.190000      \n\n       Financial flows to developing countries (US $)  \\\ncount                                    1.560000e+03   \nmean                                     9.422400e+07   \nstd                                      2.981544e+08   \nmin                                      0.000000e+00   \n25%                                      2.600000e+05   \n50%                                      5.665000e+06   \n75%                                      5.534750e+07   \nmax                                      5.202310e+09   \n\n       Renewable energy share in the total final energy consumption (%)  \\\ncount                                        3455.000000                  \nmean                                           32.638165                  \nstd                                            29.894901                  \nmin                                             0.000000                  \n25%                                             6.515000                  \n50%                                            23.300000                  \n75%                                            55.245000                  \nmax                                            96.040000                  \n\n       Electricity from fossil fuels (TWh)  Electricity from nuclear (TWh)  \\\ncount                          3628.000000                     3523.000000   \nmean                             70.365003                       13.450190   \nstd                             348.051866                       73.006623   \nmin                               0.000000                        0.000000   \n25%                               0.290000                        0.000000   \n50%                               2.970000                        0.000000   \n75%                              26.837500                        0.000000   \nmax                            5184.130000                      809.410000   \n\n       Electricity from renewables (TWh)  \\\ncount                        3628.000000   \nmean                           23.968010   \nstd                           104.431085   \nmin                             0.000000   \n25%                             0.040000   \n50%                             1.470000   \n75%                             9.600000   \nmax                          2184.940000   \n\n       Low-carbon electricity (% electricity)  \\\ncount                             3607.000000   \nmean                                36.801182   \nstd                                 34.314884   \nmin                                  0.000000   \n25%                                  2.877847   \n50%                                 27.865068   \n75%                                 64.403792   \nmax                                100.000010   \n\n       Primary energy consumption per capita (kWh/person)  \\\ncount                                        3649.000000    \nmean                                        25743.981745    \nstd                                         34773.221366    \nmin                                             0.000000    \n25%                                          3116.737300    \n50%                                         13120.570000    \n75%                                         33892.780000    \nmax                                        262585.700000    \n\n       Energy intensity level of primary energy (MJ/$2017 PPP GDP)  \\\ncount                                        3442.000000             \nmean                                            5.307345             \nstd                                             3.532020             \nmin                                             0.110000             \n25%                                             3.170000             \n50%                                             4.300000             \n75%                                             6.027500             \nmax                                            32.570000             \n\n       Value_co2_emissions_kt_by_country  \\\ncount                       3.221000e+03   \nmean                        1.598665e+05   \nstd                         7.736611e+05   \nmin                         1.000000e+01   \n25%                         2.020000e+03   \n50%                         1.050000e+04   \n75%                         6.058000e+04   \nmax                         1.070722e+07   \n\n       Renewables (% equivalent primary energy)   gdp_growth  gdp_per_capita  \\\ncount                               1512.000000  3332.000000     3367.000000   \nmean                                  11.986707     3.441610    13283.774348   \nstd                                   14.994644     5.686720    19709.866716   \nmin                                    0.000000   -62.075920      111.927225   \n25%                                    2.137095     1.383302     1337.813437   \n50%                                    6.290766     3.559855     4578.633208   \n75%                                   16.841638     5.830099    15768.615365   \nmax                                   86.836586   123.139555   123514.196700   \n\n       Land Area(Km2)     Latitude    Longitude  \ncount    3.648000e+03  3648.000000  3648.000000  \nmean     6.332135e+05    18.246388    14.822695  \nstd      1.585519e+06    24.159232    66.348148  \nmin      2.100000e+01   -40.900557  -175.198242  \n25%      2.571300e+04     3.202778   -11.779889  \n50%      1.176000e+05    17.189877    19.145136  \n75%      5.131200e+05    38.969719    46.199616  \nmax      9.984670e+06    64.963051   178.065032  ",
      "text/html": "<div>\n<style scoped>\n    .dataframe tbody tr th:only-of-type {\n        vertical-align: middle;\n    }\n\n    .dataframe tbody tr th {\n        vertical-align: top;\n    }\n\n    .dataframe thead th {\n        text-align: right;\n    }\n</style>\n<table border=\"1\" class=\"dataframe\">\n  <thead>\n    <tr style=\"text-align: right;\">\n      <th></th>\n      <th>Year</th>\n      <th>Access to electricity (% of population)</th>\n      <th>Access to clean fuels for cooking</th>\n      <th>Renewable-electricity-generating-capacity-per-capita</th>\n      <th>Financial flows to developing countries (US $)</th>\n      <th>Renewable energy share in the total final energy consumption (%)</th>\n      <th>Electricity from fossil fuels (TWh)</th>\n      <th>Electricity from nuclear (TWh)</th>\n      <th>Electricity from renewables (TWh)</th>\n      <th>Low-carbon electricity (% electricity)</th>\n      <th>Primary energy consumption per capita (kWh/person)</th>\n      <th>Energy intensity level of primary energy (MJ/$2017 PPP GDP)</th>\n      <th>Value_co2_emissions_kt_by_country</th>\n      <th>Renewables (% equivalent primary energy)</th>\n      <th>gdp_growth</th>\n      <th>gdp_per_capita</th>\n      <th>Land Area(Km2)</th>\n      <th>Latitude</th>\n      <th>Longitude</th>\n    </tr>\n  </thead>\n  <tbody>\n    <tr>\n      <th>count</th>\n      <td>3649.000000</td>\n      <td>3639.000000</td>\n      <td>3480.000000</td>\n      <td>2718.000000</td>\n      <td>1.560000e+03</td>\n      <td>3455.000000</td>\n      <td>3628.000000</td>\n      <td>3523.000000</td>\n      <td>3628.000000</td>\n      <td>3607.000000</td>\n      <td>3649.000000</td>\n      <td>3442.000000</td>\n      <td>3.221000e+03</td>\n      <td>1512.000000</td>\n      <td>3332.000000</td>\n      <td>3367.000000</td>\n      <td>3.648000e+03</td>\n      <td>3648.000000</td>\n      <td>3648.000000</td>\n    </tr>\n    <tr>\n      <th>mean</th>\n      <td>2010.038367</td>\n      <td>78.933702</td>\n      <td>63.255287</td>\n      <td>113.137498</td>\n      <td>9.422400e+07</td>\n      <td>32.638165</td>\n      <td>70.365003</td>\n      <td>13.450190</td>\n      <td>23.968010</td>\n      <td>36.801182</td>\n      <td>25743.981745</td>\n      <td>5.307345</td>\n      <td>1.598665e+05</td>\n      <td>11.986707</td>\n      <td>3.441610</td>\n      <td>13283.774348</td>\n      <td>6.332135e+05</td>\n      <td>18.246388</td>\n      <td>14.822695</td>\n    </tr>\n    <tr>\n      <th>std</th>\n      <td>6.054228</td>\n      <td>30.275541</td>\n      <td>39.043658</td>\n      <td>244.167256</td>\n      <td>2.981544e+08</td>\n      <td>29.894901</td>\n      <td>348.051866</td>\n      <td>73.006623</td>\n      <td>104.431085</td>\n      <td>34.314884</td>\n      <td>34773.221366</td>\n      <td>3.532020</td>\n      <td>7.736611e+05</td>\n      <td>14.994644</td>\n      <td>5.686720</td>\n      <td>19709.866716</td>\n      <td>1.585519e+06</td>\n      <td>24.159232</td>\n      <td>66.348148</td>\n    </tr>\n    <tr>\n      <th>min</th>\n      <td>2000.000000</td>\n      <td>1.252269</td>\n      <td>0.000000</td>\n      <td>0.000000</td>\n      <td>0.000000e+00</td>\n      <td>0.000000</td>\n      <td>0.000000</td>\n      <td>0.000000</td>\n      <td>0.000000</td>\n      <td>0.000000</td>\n      <td>0.000000</td>\n      <td>0.110000</td>\n      <td>1.000000e+01</td>\n      <td>0.000000</td>\n      <td>-62.075920</td>\n      <td>111.927225</td>\n      <td>2.100000e+01</td>\n      <td>-40.900557</td>\n      <td>-175.198242</td>\n    </tr>\n    <tr>\n      <th>25%</th>\n      <td>2005.000000</td>\n      <td>59.800890</td>\n      <td>23.175000</td>\n      <td>3.540000</td>\n      <td>2.600000e+05</td>\n      <td>6.515000</td>\n      <td>0.290000</td>\n      <td>0.000000</td>\n      <td>0.040000</td>\n      <td>2.877847</td>\n      <td>3116.737300</td>\n      <td>3.170000</td>\n      <td>2.020000e+03</td>\n      <td>2.137095</td>\n      <td>1.383302</td>\n      <td>1337.813437</td>\n      <td>2.571300e+04</td>\n      <td>3.202778</td>\n      <td>-11.779889</td>\n    </tr>\n    <tr>\n      <th>50%</th>\n      <td>2010.000000</td>\n      <td>98.361570</td>\n      <td>83.150000</td>\n      <td>32.910000</td>\n      <td>5.665000e+06</td>\n      <td>23.300000</td>\n      <td>2.970000</td>\n      <td>0.000000</td>\n      <td>1.470000</td>\n      <td>27.865068</td>\n      <td>13120.570000</td>\n      <td>4.300000</td>\n      <td>1.050000e+04</td>\n      <td>6.290766</td>\n      <td>3.559855</td>\n      <td>4578.633208</td>\n      <td>1.176000e+05</td>\n      <td>17.189877</td>\n      <td>19.145136</td>\n    </tr>\n    <tr>\n      <th>75%</th>\n      <td>2015.000000</td>\n      <td>100.000000</td>\n      <td>100.000000</td>\n      <td>112.210000</td>\n      <td>5.534750e+07</td>\n      <td>55.245000</td>\n      <td>26.837500</td>\n      <td>0.000000</td>\n      <td>9.600000</td>\n      <td>64.403792</td>\n      <td>33892.780000</td>\n      <td>6.027500</td>\n      <td>6.058000e+04</td>\n      <td>16.841638</td>\n      <td>5.830099</td>\n      <td>15768.615365</td>\n      <td>5.131200e+05</td>\n      <td>38.969719</td>\n      <td>46.199616</td>\n    </tr>\n    <tr>\n      <th>max</th>\n      <td>2020.000000</td>\n      <td>100.000000</td>\n      <td>100.000000</td>\n      <td>3060.190000</td>\n      <td>5.202310e+09</td>\n      <td>96.040000</td>\n      <td>5184.130000</td>\n      <td>809.410000</td>\n      <td>2184.940000</td>\n      <td>100.000010</td>\n      <td>262585.700000</td>\n      <td>32.570000</td>\n      <td>1.070722e+07</td>\n      <td>86.836586</td>\n      <td>123.139555</td>\n      <td>123514.196700</td>\n      <td>9.984670e+06</td>\n      <td>64.963051</td>\n      <td>178.065032</td>\n    </tr>\n  </tbody>\n</table>\n</div>"
     },
     "execution_count": 15,
     "metadata": {},
     "output_type": "execute_result"
    }
   ],
   "source": [
    "df_energy.describe()"
   ],
   "metadata": {
    "collapsed": false,
    "ExecuteTime": {
     "end_time": "2023-10-15T19:55:08.424965Z",
     "start_time": "2023-10-15T19:55:08.204967700Z"
    }
   },
   "id": "1430b3ed9586cfa1"
  },
  {
   "cell_type": "code",
   "execution_count": 16,
   "outputs": [
    {
     "data": {
      "text/plain": "176"
     },
     "execution_count": 16,
     "metadata": {},
     "output_type": "execute_result"
    }
   ],
   "source": [
    "len(df_energy.Entity.unique())"
   ],
   "metadata": {
    "collapsed": false,
    "ExecuteTime": {
     "end_time": "2023-10-15T19:55:08.424965Z",
     "start_time": "2023-10-15T19:55:08.257345100Z"
    }
   },
   "id": "e738b06b101928a5"
  },
  {
   "cell_type": "markdown",
   "id": "41a78ed465a2029e",
   "metadata": {
    "collapsed": false
   },
   "source": [
    "***\n",
    "## Analyse détaillée des données"
   ]
  },
  {
   "cell_type": "code",
   "execution_count": 17,
   "outputs": [
    {
     "data": {
      "text/plain": "Entity                                                                 0\nYear                                                                   0\nAccess to electricity (% of population)                               10\nAccess to clean fuels for cooking                                    169\nRenewable-electricity-generating-capacity-per-capita                 931\nFinancial flows to developing countries (US $)                      2089\nRenewable energy share in the total final energy consumption (%)     194\nElectricity from fossil fuels (TWh)                                   21\nElectricity from nuclear (TWh)                                       126\nElectricity from renewables (TWh)                                     21\nLow-carbon electricity (% electricity)                                42\nPrimary energy consumption per capita (kWh/person)                     0\nEnergy intensity level of primary energy (MJ/$2017 PPP GDP)          207\nValue_co2_emissions_kt_by_country                                    428\nRenewables (% equivalent primary energy)                            2137\ngdp_growth                                                           317\ngdp_per_capita                                                       282\nDensity\\n(P/Km2)                                                       1\nLand Area(Km2)                                                         1\nLatitude                                                               1\nLongitude                                                              1\ndtype: int64"
     },
     "execution_count": 17,
     "metadata": {},
     "output_type": "execute_result"
    }
   ],
   "source": [
    "df_energy.isnull().sum()"
   ],
   "metadata": {
    "collapsed": false,
    "ExecuteTime": {
     "end_time": "2023-10-15T19:55:08.424965Z",
     "start_time": "2023-10-15T19:55:08.267552700Z"
    }
   },
   "id": "2de86b9973f5ffdb"
  },
  {
   "cell_type": "code",
   "execution_count": 18,
   "outputs": [
    {
     "data": {
      "text/plain": "6978"
     },
     "execution_count": 18,
     "metadata": {},
     "output_type": "execute_result"
    }
   ],
   "source": [
    "df_energy.isnull().sum().sum()"
   ],
   "metadata": {
    "collapsed": false,
    "ExecuteTime": {
     "end_time": "2023-10-15T19:55:08.424965Z",
     "start_time": "2023-10-15T19:55:08.278044800Z"
    }
   },
   "id": "90c782f98e77682c"
  },
  {
   "cell_type": "markdown",
   "source": [
    "Aucune donnée éssentiel ne manque (le pays ou une année). \n",
    "Pour les autres, on cherche à connaitre le type de données manquantes que nous avons : \n",
    "- MCAR : \n",
    "- MAR : \n",
    "- MNAR :\n",
    "\n",
    "En fonction, nous allons pouvoir adapter la gestion des données manquantes. "
   ],
   "metadata": {
    "collapsed": false
   },
   "id": "7eb24019dbf797bf"
  },
  {
   "cell_type": "markdown",
   "id": "7aa8b3d586104153",
   "metadata": {
    "collapsed": false
   },
   "source": [
    "On cherche des valeurs aberrantes"
   ]
  },
  {
   "cell_type": "code",
   "execution_count": 19,
   "outputs": [],
   "source": [
    "from plotly.subplots import make_subplots\n",
    "import plotly.graph_objects as go"
   ],
   "metadata": {
    "collapsed": false,
    "ExecuteTime": {
     "end_time": "2023-10-15T19:55:08.424965Z",
     "start_time": "2023-10-15T19:55:08.286910600Z"
    }
   },
   "id": "14d556fc14feb9a2"
  },
  {
   "cell_type": "code",
   "execution_count": 20,
   "outputs": [],
   "source": [
    "col = df_energy.columns.tolist()\n",
    "col.remove('Year')\n",
    "col.remove('Entity')"
   ],
   "metadata": {
    "collapsed": false,
    "ExecuteTime": {
     "end_time": "2023-10-15T19:55:08.424965Z",
     "start_time": "2023-10-15T19:55:08.299833200Z"
    }
   },
   "id": "6334c54d631a67ca"
  },
  {
   "cell_type": "code",
   "execution_count": null,
   "outputs": [
    {
     "name": "stdout",
     "output_type": "stream",
     "text": [
      "['Electricity from fossil fuels (TWh)', 'Electricity from nuclear (TWh)', 'Electricity from renewables (TWh)', 'Low-carbon electricity (% electricity)']\n"
     ]
    }
   ],
   "source": [
    "# permet de sélectionner le nombre de colones à afficher\n",
    "cols = col[5:9]\n",
    "print(cols)\n",
    "\n",
    "fig = make_subplots(rows=1, cols=len(cols))\n",
    "for i, var in enumerate(cols):\n",
    "    fig.add_trace(\n",
    "        go.Box(y=df_energy[var],\n",
    "        name=var),\n",
    "        row=1, \n",
    "        col=i+1,\n",
    "        \n",
    "            )\n",
    "fig.update_layout(showlegend=False)\n",
    "fig.update_traces(boxpoints='outliers', jitter=.3)"
   ],
   "metadata": {
    "collapsed": false,
    "is_executing": true,
    "ExecuteTime": {
     "start_time": "2023-10-15T19:55:08.306383900Z"
    }
   },
   "id": "cf120634e4c3953b"
  },
  {
   "cell_type": "markdown",
   "source": [
    "Certaines données paraissent comme aillant beaucoup d'outliers, cependant on peut supposer que certaines ne le sont pas "
   ],
   "metadata": {
    "collapsed": false
   },
   "id": "eaff8ba97828e671"
  },
  {
   "cell_type": "markdown",
   "source": [
    "# Les autres dataset: \n"
   ],
   "metadata": {
    "collapsed": false
   },
   "id": "9594767087f64938"
  },
  {
   "cell_type": "markdown",
   "source": [
    "### Pays et continents"
   ],
   "metadata": {
    "collapsed": false
   },
   "id": "81c45120ca68420"
  },
  {
   "cell_type": "code",
   "execution_count": null,
   "outputs": [],
   "source": [
    "df_cc = pd.read_csv(path_cc)"
   ],
   "metadata": {
    "collapsed": false,
    "is_executing": true
   },
   "id": "72c5d0ad51b26bae"
  },
  {
   "cell_type": "code",
   "execution_count": null,
   "outputs": [],
   "source": [
    "df_cc = df_cc[['country', 'continent', 'sub_region']]\n",
    "df_cc.head()"
   ],
   "metadata": {
    "collapsed": false,
    "is_executing": true
   },
   "id": "26b5a5a07dbd33ca"
  },
  {
   "cell_type": "code",
   "execution_count": null,
   "outputs": [],
   "source": [
    "df_cc.isna().sum()"
   ],
   "metadata": {
    "collapsed": false,
    "is_executing": true
   },
   "id": "e378595dd52c21dc"
  },
  {
   "cell_type": "code",
   "execution_count": null,
   "outputs": [],
   "source": [
    "df_cc[df_cc['continent'].isna() == True]"
   ],
   "metadata": {
    "collapsed": false,
    "is_executing": true
   },
   "id": "3f78f6e971934d68"
  },
  {
   "cell_type": "markdown",
   "source": [
    "### IDH (indice de developpement humain)"
   ],
   "metadata": {
    "collapsed": false
   },
   "id": "65e67924de22bb53"
  },
  {
   "cell_type": "code",
   "execution_count": null,
   "outputs": [],
   "source": [
    "df_hdi = pd.read_csv(path_hdi)\n",
    "df_hdi = df_hdi[['Entity', 'Year', 'Human Development Index']]\n",
    "df_hdi.rename(columns={'Human Development Index': 'HDI'})\n",
    "df_hdi = df_hdi.query(\"Year > 1999 & Year < 2021\")\n",
    "df_hdi.tail(4)"
   ],
   "metadata": {
    "collapsed": false,
    "is_executing": true
   },
   "id": "83bf42a92cd095e8"
  },
  {
   "cell_type": "markdown",
   "source": [
    "# GeoJSON : \n",
    "Le geo.json permet d'utiliser Mapbox de plotly. \n",
    "Le fichier contient des formes géométriques pour dessiner le contour des frontières."
   ],
   "metadata": {
    "collapsed": false
   },
   "id": "30997a090dc7d7a"
  },
  {
   "cell_type": "code",
   "execution_count": null,
   "outputs": [],
   "source": [
    "with open(path_wp, encoding='utf-8') as json_file:\n",
    "    json_wp = json.load(json_file)\n",
    "    print(type(json_wp))"
   ],
   "metadata": {
    "collapsed": false,
    "is_executing": true
   },
   "id": "44bfb2c539f60f6a"
  },
  {
   "cell_type": "code",
   "execution_count": null,
   "outputs": [],
   "source": [
    "json_wp.keys()"
   ],
   "metadata": {
    "collapsed": false,
    "is_executing": true
   },
   "id": "861d34897955e15"
  },
  {
   "cell_type": "code",
   "execution_count": null,
   "outputs": [],
   "source": [
    "for feature in json_wp['features'] : \n",
    "    for i, k in enumerate(feature.keys()):\n",
    "        print(feature[k])\n",
    "        print(i)\n",
    "        print()\n",
    "        \n",
    "    break"
   ],
   "metadata": {
    "collapsed": false,
    "is_executing": true
   },
   "id": "5e637b1db195987b"
  },
  {
   "cell_type": "code",
   "execution_count": null,
   "outputs": [],
   "source": [
    "i = 0\n",
    "for feature in json_wp['features']: \n",
    "    i+=1\n",
    "    \n",
    "print(i)"
   ],
   "metadata": {
    "collapsed": false,
    "is_executing": true
   },
   "id": "f7e70039263c5939"
  }
 ],
 "metadata": {
  "kernelspec": {
   "display_name": "Python 3",
   "language": "python",
   "name": "python3"
  },
  "language_info": {
   "codemirror_mode": {
    "name": "ipython",
    "version": 3
   },
   "file_extension": ".py",
   "mimetype": "text/x-python",
   "name": "python",
   "nbconvert_exporter": "python",
   "pygments_lexer": "ipython3",
   "version": "3.9.13"
  }
 },
 "nbformat": 4,
 "nbformat_minor": 5
}
