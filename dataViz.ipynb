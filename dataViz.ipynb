{
 "cells": [
  {
   "cell_type": "code",
   "execution_count": 10,
   "id": "initial_id",
   "metadata": {
    "collapsed": true,
    "ExecuteTime": {
     "end_time": "2023-10-25T17:35:54.543811400Z",
     "start_time": "2023-10-25T17:35:54.348800800Z"
    }
   },
   "outputs": [],
   "source": [
    "import pandas as pd\n",
    "import geopandas as gpd\n",
    "import os\n",
    "import seaborn as sn\n",
    "import numpy as np\n",
    "import plotly.express as px\n",
    "import plotly.graph_objects as go\n",
    "from plotly.subplots import make_subplots\n"
   ]
  },
  {
   "cell_type": "code",
   "execution_count": 11,
   "id": "6fcd51f6c05da5f1",
   "metadata": {
    "collapsed": false,
    "ExecuteTime": {
     "end_time": "2023-10-25T17:35:54.644972Z",
     "start_time": "2023-10-25T17:35:54.384815500Z"
    }
   },
   "outputs": [],
   "source": [
    "path_energy = os.path.join(\"dataset\", \"energy-cleaned-dataset.csv\")\n",
    "path_geodata = os.path.join(\"dataset\", \"world-administrative-boundaries.geojson\")\n",
    "categorical_columns = [\"Country\",\"Continent\",\"Region\",\"iso3\"]"
   ]
  },
  {
   "cell_type": "code",
   "execution_count": 12,
   "outputs": [],
   "source": [
    "df_energy = pd.read_csv(path_energy)\n",
    "THEME = \"plotly_dark\""
   ],
   "metadata": {
    "collapsed": false,
    "ExecuteTime": {
     "end_time": "2023-10-25T17:35:54.678951Z",
     "start_time": "2023-10-25T17:35:54.390084400Z"
    }
   },
   "id": "6bf9effc5fe78057"
  },
  {
   "cell_type": "code",
   "execution_count": 13,
   "outputs": [
    {
     "data": {
      "text/plain": "          Country  Year  Access to Electricity (%)  \\\n0     Afghanistan  2000                   1.613591   \n1     Afghanistan  2001                   4.074574   \n2     Afghanistan  2002                   9.409158   \n3     Afghanistan  2003                  14.738506   \n4     Afghanistan  2004                  20.064968   \n...           ...   ...                        ...   \n3644     Zimbabwe  2016                  42.561730   \n3645     Zimbabwe  2017                  44.178635   \n3646     Zimbabwe  2018                  45.572647   \n3647     Zimbabwe  2019                  46.781475   \n3648     Zimbabwe  2020                  52.747670   \n\n      Renewable Electricity Capacity per Capita  \\\n0                                          9.22   \n1                                          8.86   \n2                                          8.47   \n3                                          8.09   \n4                                          7.75   \n...                                         ...   \n3644                                      62.88   \n3645                                      62.33   \n3646                                      82.53   \n3647                                      81.40   \n3648                                      80.61   \n\n      Electricity from Fossil Fuels (TWh)  Electricity from Nuclear (TWh)  \\\n0                                    0.16                             0.0   \n1                                    0.09                             0.0   \n2                                    0.13                             0.0   \n3                                    0.31                             0.0   \n4                                    0.33                             0.0   \n...                                   ...                             ...   \n3644                                 3.50                             0.0   \n3645                                 3.05                             0.0   \n3646                                 3.73                             0.0   \n3647                                 3.66                             0.0   \n3648                                 3.40                             0.0   \n\n      Electricity from Renewables (TWh)  Low-Carbon Electricity (%)  \\\n0                                  0.31                   65.957440   \n1                                  0.50                   84.745766   \n2                                  0.56                   81.159424   \n3                                  0.63                   67.021280   \n4                                  0.56                   62.921350   \n...                                 ...                         ...   \n3644                               3.32                   48.680350   \n3645                               4.30                   58.503407   \n3646                               5.46                   59.412407   \n3647                               4.58                   55.582527   \n3648                               4.19                   55.204216   \n\n      Primary Energy Consumption per Capita (kWh/person)  \\\n0                                             302.59482    \n1                                             236.89185    \n2                                             210.86215    \n3                                             229.96822    \n4                                             204.23125    \n...                                                 ...    \n3644                                         3227.68020    \n3645                                         3068.01150    \n3646                                         3441.98580    \n3647                                         3003.65530    \n3648                                         2680.13180    \n\n      CO2 Emissions (kt by country)  Renewables (% Equivalent Primary Energy)  \\\n0                        760.000000                                       NaN   \n1                        730.000000                                       NaN   \n2                       1029.999971                                       NaN   \n3                       1220.000029                                       NaN   \n4                       1029.999971                                       NaN   \n...                             ...                                       ...   \n3644                   11020.000460                                       NaN   \n3645                   10340.000150                                       NaN   \n3646                   12380.000110                                       NaN   \n3647                   11760.000230                                       NaN   \n3648                            NaN                                       NaN   \n\n      GDP Growth  GDP per Capita Continent          Region iso3  \\\n0            NaN             NaN      Asia   Southern Asia  AFG   \n1            NaN             NaN      Asia   Southern Asia  AFG   \n2            NaN      179.426579      Asia   Southern Asia  AFG   \n3       8.832278      190.683814      Asia   Southern Asia  AFG   \n4       1.414118      211.382074      Asia   Southern Asia  AFG   \n...          ...             ...       ...             ...  ...   \n3644    0.755869     1464.588957    Africa  Eastern Africa  ZWE   \n3645    4.709492     1235.189032    Africa  Eastern Africa  ZWE   \n3646    4.824211     1254.642265    Africa  Eastern Africa  ZWE   \n3647   -6.144236     1316.740657    Africa  Eastern Africa  ZWE   \n3648   -6.248748     1214.509820    Africa  Eastern Africa  ZWE   \n\n      Human Development Index  \n0                       0.335  \n1                       0.337  \n2                       0.362  \n3                       0.376  \n4                       0.392  \n...                       ...  \n3644                    0.588  \n3645                    0.594  \n3646                    0.602  \n3647                    0.601  \n3648                    0.600  \n\n[3649 rows x 17 columns]",
      "text/html": "<div>\n<style scoped>\n    .dataframe tbody tr th:only-of-type {\n        vertical-align: middle;\n    }\n\n    .dataframe tbody tr th {\n        vertical-align: top;\n    }\n\n    .dataframe thead th {\n        text-align: right;\n    }\n</style>\n<table border=\"1\" class=\"dataframe\">\n  <thead>\n    <tr style=\"text-align: right;\">\n      <th></th>\n      <th>Country</th>\n      <th>Year</th>\n      <th>Access to Electricity (%)</th>\n      <th>Renewable Electricity Capacity per Capita</th>\n      <th>Electricity from Fossil Fuels (TWh)</th>\n      <th>Electricity from Nuclear (TWh)</th>\n      <th>Electricity from Renewables (TWh)</th>\n      <th>Low-Carbon Electricity (%)</th>\n      <th>Primary Energy Consumption per Capita (kWh/person)</th>\n      <th>CO2 Emissions (kt by country)</th>\n      <th>Renewables (% Equivalent Primary Energy)</th>\n      <th>GDP Growth</th>\n      <th>GDP per Capita</th>\n      <th>Continent</th>\n      <th>Region</th>\n      <th>iso3</th>\n      <th>Human Development Index</th>\n    </tr>\n  </thead>\n  <tbody>\n    <tr>\n      <th>0</th>\n      <td>Afghanistan</td>\n      <td>2000</td>\n      <td>1.613591</td>\n      <td>9.22</td>\n      <td>0.16</td>\n      <td>0.0</td>\n      <td>0.31</td>\n      <td>65.957440</td>\n      <td>302.59482</td>\n      <td>760.000000</td>\n      <td>NaN</td>\n      <td>NaN</td>\n      <td>NaN</td>\n      <td>Asia</td>\n      <td>Southern Asia</td>\n      <td>AFG</td>\n      <td>0.335</td>\n    </tr>\n    <tr>\n      <th>1</th>\n      <td>Afghanistan</td>\n      <td>2001</td>\n      <td>4.074574</td>\n      <td>8.86</td>\n      <td>0.09</td>\n      <td>0.0</td>\n      <td>0.50</td>\n      <td>84.745766</td>\n      <td>236.89185</td>\n      <td>730.000000</td>\n      <td>NaN</td>\n      <td>NaN</td>\n      <td>NaN</td>\n      <td>Asia</td>\n      <td>Southern Asia</td>\n      <td>AFG</td>\n      <td>0.337</td>\n    </tr>\n    <tr>\n      <th>2</th>\n      <td>Afghanistan</td>\n      <td>2002</td>\n      <td>9.409158</td>\n      <td>8.47</td>\n      <td>0.13</td>\n      <td>0.0</td>\n      <td>0.56</td>\n      <td>81.159424</td>\n      <td>210.86215</td>\n      <td>1029.999971</td>\n      <td>NaN</td>\n      <td>NaN</td>\n      <td>179.426579</td>\n      <td>Asia</td>\n      <td>Southern Asia</td>\n      <td>AFG</td>\n      <td>0.362</td>\n    </tr>\n    <tr>\n      <th>3</th>\n      <td>Afghanistan</td>\n      <td>2003</td>\n      <td>14.738506</td>\n      <td>8.09</td>\n      <td>0.31</td>\n      <td>0.0</td>\n      <td>0.63</td>\n      <td>67.021280</td>\n      <td>229.96822</td>\n      <td>1220.000029</td>\n      <td>NaN</td>\n      <td>8.832278</td>\n      <td>190.683814</td>\n      <td>Asia</td>\n      <td>Southern Asia</td>\n      <td>AFG</td>\n      <td>0.376</td>\n    </tr>\n    <tr>\n      <th>4</th>\n      <td>Afghanistan</td>\n      <td>2004</td>\n      <td>20.064968</td>\n      <td>7.75</td>\n      <td>0.33</td>\n      <td>0.0</td>\n      <td>0.56</td>\n      <td>62.921350</td>\n      <td>204.23125</td>\n      <td>1029.999971</td>\n      <td>NaN</td>\n      <td>1.414118</td>\n      <td>211.382074</td>\n      <td>Asia</td>\n      <td>Southern Asia</td>\n      <td>AFG</td>\n      <td>0.392</td>\n    </tr>\n    <tr>\n      <th>...</th>\n      <td>...</td>\n      <td>...</td>\n      <td>...</td>\n      <td>...</td>\n      <td>...</td>\n      <td>...</td>\n      <td>...</td>\n      <td>...</td>\n      <td>...</td>\n      <td>...</td>\n      <td>...</td>\n      <td>...</td>\n      <td>...</td>\n      <td>...</td>\n      <td>...</td>\n      <td>...</td>\n      <td>...</td>\n    </tr>\n    <tr>\n      <th>3644</th>\n      <td>Zimbabwe</td>\n      <td>2016</td>\n      <td>42.561730</td>\n      <td>62.88</td>\n      <td>3.50</td>\n      <td>0.0</td>\n      <td>3.32</td>\n      <td>48.680350</td>\n      <td>3227.68020</td>\n      <td>11020.000460</td>\n      <td>NaN</td>\n      <td>0.755869</td>\n      <td>1464.588957</td>\n      <td>Africa</td>\n      <td>Eastern Africa</td>\n      <td>ZWE</td>\n      <td>0.588</td>\n    </tr>\n    <tr>\n      <th>3645</th>\n      <td>Zimbabwe</td>\n      <td>2017</td>\n      <td>44.178635</td>\n      <td>62.33</td>\n      <td>3.05</td>\n      <td>0.0</td>\n      <td>4.30</td>\n      <td>58.503407</td>\n      <td>3068.01150</td>\n      <td>10340.000150</td>\n      <td>NaN</td>\n      <td>4.709492</td>\n      <td>1235.189032</td>\n      <td>Africa</td>\n      <td>Eastern Africa</td>\n      <td>ZWE</td>\n      <td>0.594</td>\n    </tr>\n    <tr>\n      <th>3646</th>\n      <td>Zimbabwe</td>\n      <td>2018</td>\n      <td>45.572647</td>\n      <td>82.53</td>\n      <td>3.73</td>\n      <td>0.0</td>\n      <td>5.46</td>\n      <td>59.412407</td>\n      <td>3441.98580</td>\n      <td>12380.000110</td>\n      <td>NaN</td>\n      <td>4.824211</td>\n      <td>1254.642265</td>\n      <td>Africa</td>\n      <td>Eastern Africa</td>\n      <td>ZWE</td>\n      <td>0.602</td>\n    </tr>\n    <tr>\n      <th>3647</th>\n      <td>Zimbabwe</td>\n      <td>2019</td>\n      <td>46.781475</td>\n      <td>81.40</td>\n      <td>3.66</td>\n      <td>0.0</td>\n      <td>4.58</td>\n      <td>55.582527</td>\n      <td>3003.65530</td>\n      <td>11760.000230</td>\n      <td>NaN</td>\n      <td>-6.144236</td>\n      <td>1316.740657</td>\n      <td>Africa</td>\n      <td>Eastern Africa</td>\n      <td>ZWE</td>\n      <td>0.601</td>\n    </tr>\n    <tr>\n      <th>3648</th>\n      <td>Zimbabwe</td>\n      <td>2020</td>\n      <td>52.747670</td>\n      <td>80.61</td>\n      <td>3.40</td>\n      <td>0.0</td>\n      <td>4.19</td>\n      <td>55.204216</td>\n      <td>2680.13180</td>\n      <td>NaN</td>\n      <td>NaN</td>\n      <td>-6.248748</td>\n      <td>1214.509820</td>\n      <td>Africa</td>\n      <td>Eastern Africa</td>\n      <td>ZWE</td>\n      <td>0.600</td>\n    </tr>\n  </tbody>\n</table>\n<p>3649 rows × 17 columns</p>\n</div>"
     },
     "execution_count": 13,
     "metadata": {},
     "output_type": "execute_result"
    }
   ],
   "source": [
    "df_energy"
   ],
   "metadata": {
    "collapsed": false,
    "ExecuteTime": {
     "end_time": "2023-10-25T17:35:54.768593Z",
     "start_time": "2023-10-25T17:35:54.406294700Z"
    }
   },
   "id": "839abad6769e75a2"
  },
  {
   "cell_type": "code",
   "execution_count": 14,
   "outputs": [],
   "source": [
    "def bar_graph(df_energy : pd.DataFrame = df_energy) -> go.Figure :\n",
    "    \"\"\"\n",
    "    \n",
    "    :param df_energy: \n",
    "    :return: \n",
    "    \"\"\"\n",
    "    serie_na = df_energy.isnull().sum().sort_values(ascending=False)\n",
    "    serie_na.rename('Null Values', inplace=True)\n",
    "    \n",
    "    fig_null_data = go.Figure(go.Bar(\n",
    "        x = serie_na.index,\n",
    "        y = serie_na,\n",
    "        text = serie_na,\n",
    "        textposition = 'auto'\n",
    "    ))\n",
    "    \n",
    "    fig_null_data.update_layout(\n",
    "        title = 'Null Values Count',\n",
    "        xaxis_tickfont_size = 12,\n",
    "        template = THEME,\n",
    "    )\n",
    "    \n",
    "    return fig_null_data"
   ],
   "metadata": {
    "collapsed": false,
    "ExecuteTime": {
     "end_time": "2023-10-25T17:35:54.800389300Z",
     "start_time": "2023-10-25T17:35:54.444201300Z"
    }
   },
   "id": "4d9ab7d2162fbb5"
  },
  {
   "cell_type": "code",
   "execution_count": 15,
   "outputs": [
    {
     "data": {
      "application/vnd.plotly.v1+json": {
       "data": [
        {
         "hovertemplate": "Years=%{x}<br>Missing values count=%{y}<extra></extra>",
         "legendgroup": "",
         "line": {
          "color": "#636efa",
          "dash": "solid"
         },
         "marker": {
          "symbol": "circle"
         },
         "mode": "lines+markers",
         "name": "",
         "orientation": "v",
         "showlegend": false,
         "x": [
          2000,
          2001,
          2002,
          2003,
          2004,
          2005,
          2006,
          2007,
          2008,
          2009,
          2010,
          2011,
          2012,
          2013,
          2014,
          2015,
          2016,
          2017,
          2018,
          2019,
          2020
         ],
         "xaxis": "x",
         "y": [
          226,
          218,
          213,
          211,
          210,
          204,
          203,
          204,
          204,
          204,
          202,
          202,
          204,
          204,
          202,
          202,
          204,
          208,
          209,
          210,
          372
         ],
         "yaxis": "y",
         "type": "scatter"
        }
       ],
       "layout": {
        "template": {
         "data": {
          "histogram2dcontour": [
           {
            "type": "histogram2dcontour",
            "colorbar": {
             "outlinewidth": 0,
             "ticks": ""
            },
            "colorscale": [
             [
              0.0,
              "#0d0887"
             ],
             [
              0.1111111111111111,
              "#46039f"
             ],
             [
              0.2222222222222222,
              "#7201a8"
             ],
             [
              0.3333333333333333,
              "#9c179e"
             ],
             [
              0.4444444444444444,
              "#bd3786"
             ],
             [
              0.5555555555555556,
              "#d8576b"
             ],
             [
              0.6666666666666666,
              "#ed7953"
             ],
             [
              0.7777777777777778,
              "#fb9f3a"
             ],
             [
              0.8888888888888888,
              "#fdca26"
             ],
             [
              1.0,
              "#f0f921"
             ]
            ]
           }
          ],
          "choropleth": [
           {
            "type": "choropleth",
            "colorbar": {
             "outlinewidth": 0,
             "ticks": ""
            }
           }
          ],
          "histogram2d": [
           {
            "type": "histogram2d",
            "colorbar": {
             "outlinewidth": 0,
             "ticks": ""
            },
            "colorscale": [
             [
              0.0,
              "#0d0887"
             ],
             [
              0.1111111111111111,
              "#46039f"
             ],
             [
              0.2222222222222222,
              "#7201a8"
             ],
             [
              0.3333333333333333,
              "#9c179e"
             ],
             [
              0.4444444444444444,
              "#bd3786"
             ],
             [
              0.5555555555555556,
              "#d8576b"
             ],
             [
              0.6666666666666666,
              "#ed7953"
             ],
             [
              0.7777777777777778,
              "#fb9f3a"
             ],
             [
              0.8888888888888888,
              "#fdca26"
             ],
             [
              1.0,
              "#f0f921"
             ]
            ]
           }
          ],
          "heatmap": [
           {
            "type": "heatmap",
            "colorbar": {
             "outlinewidth": 0,
             "ticks": ""
            },
            "colorscale": [
             [
              0.0,
              "#0d0887"
             ],
             [
              0.1111111111111111,
              "#46039f"
             ],
             [
              0.2222222222222222,
              "#7201a8"
             ],
             [
              0.3333333333333333,
              "#9c179e"
             ],
             [
              0.4444444444444444,
              "#bd3786"
             ],
             [
              0.5555555555555556,
              "#d8576b"
             ],
             [
              0.6666666666666666,
              "#ed7953"
             ],
             [
              0.7777777777777778,
              "#fb9f3a"
             ],
             [
              0.8888888888888888,
              "#fdca26"
             ],
             [
              1.0,
              "#f0f921"
             ]
            ]
           }
          ],
          "heatmapgl": [
           {
            "type": "heatmapgl",
            "colorbar": {
             "outlinewidth": 0,
             "ticks": ""
            },
            "colorscale": [
             [
              0.0,
              "#0d0887"
             ],
             [
              0.1111111111111111,
              "#46039f"
             ],
             [
              0.2222222222222222,
              "#7201a8"
             ],
             [
              0.3333333333333333,
              "#9c179e"
             ],
             [
              0.4444444444444444,
              "#bd3786"
             ],
             [
              0.5555555555555556,
              "#d8576b"
             ],
             [
              0.6666666666666666,
              "#ed7953"
             ],
             [
              0.7777777777777778,
              "#fb9f3a"
             ],
             [
              0.8888888888888888,
              "#fdca26"
             ],
             [
              1.0,
              "#f0f921"
             ]
            ]
           }
          ],
          "contourcarpet": [
           {
            "type": "contourcarpet",
            "colorbar": {
             "outlinewidth": 0,
             "ticks": ""
            }
           }
          ],
          "contour": [
           {
            "type": "contour",
            "colorbar": {
             "outlinewidth": 0,
             "ticks": ""
            },
            "colorscale": [
             [
              0.0,
              "#0d0887"
             ],
             [
              0.1111111111111111,
              "#46039f"
             ],
             [
              0.2222222222222222,
              "#7201a8"
             ],
             [
              0.3333333333333333,
              "#9c179e"
             ],
             [
              0.4444444444444444,
              "#bd3786"
             ],
             [
              0.5555555555555556,
              "#d8576b"
             ],
             [
              0.6666666666666666,
              "#ed7953"
             ],
             [
              0.7777777777777778,
              "#fb9f3a"
             ],
             [
              0.8888888888888888,
              "#fdca26"
             ],
             [
              1.0,
              "#f0f921"
             ]
            ]
           }
          ],
          "surface": [
           {
            "type": "surface",
            "colorbar": {
             "outlinewidth": 0,
             "ticks": ""
            },
            "colorscale": [
             [
              0.0,
              "#0d0887"
             ],
             [
              0.1111111111111111,
              "#46039f"
             ],
             [
              0.2222222222222222,
              "#7201a8"
             ],
             [
              0.3333333333333333,
              "#9c179e"
             ],
             [
              0.4444444444444444,
              "#bd3786"
             ],
             [
              0.5555555555555556,
              "#d8576b"
             ],
             [
              0.6666666666666666,
              "#ed7953"
             ],
             [
              0.7777777777777778,
              "#fb9f3a"
             ],
             [
              0.8888888888888888,
              "#fdca26"
             ],
             [
              1.0,
              "#f0f921"
             ]
            ]
           }
          ],
          "mesh3d": [
           {
            "type": "mesh3d",
            "colorbar": {
             "outlinewidth": 0,
             "ticks": ""
            }
           }
          ],
          "scatter": [
           {
            "marker": {
             "line": {
              "color": "#283442"
             }
            },
            "type": "scatter"
           }
          ],
          "parcoords": [
           {
            "type": "parcoords",
            "line": {
             "colorbar": {
              "outlinewidth": 0,
              "ticks": ""
             }
            }
           }
          ],
          "scatterpolargl": [
           {
            "type": "scatterpolargl",
            "marker": {
             "colorbar": {
              "outlinewidth": 0,
              "ticks": ""
             }
            }
           }
          ],
          "bar": [
           {
            "error_x": {
             "color": "#f2f5fa"
            },
            "error_y": {
             "color": "#f2f5fa"
            },
            "marker": {
             "line": {
              "color": "rgb(17,17,17)",
              "width": 0.5
             },
             "pattern": {
              "fillmode": "overlay",
              "size": 10,
              "solidity": 0.2
             }
            },
            "type": "bar"
           }
          ],
          "scattergeo": [
           {
            "type": "scattergeo",
            "marker": {
             "colorbar": {
              "outlinewidth": 0,
              "ticks": ""
             }
            }
           }
          ],
          "scatterpolar": [
           {
            "type": "scatterpolar",
            "marker": {
             "colorbar": {
              "outlinewidth": 0,
              "ticks": ""
             }
            }
           }
          ],
          "histogram": [
           {
            "marker": {
             "pattern": {
              "fillmode": "overlay",
              "size": 10,
              "solidity": 0.2
             }
            },
            "type": "histogram"
           }
          ],
          "scattergl": [
           {
            "marker": {
             "line": {
              "color": "#283442"
             }
            },
            "type": "scattergl"
           }
          ],
          "scatter3d": [
           {
            "type": "scatter3d",
            "line": {
             "colorbar": {
              "outlinewidth": 0,
              "ticks": ""
             }
            },
            "marker": {
             "colorbar": {
              "outlinewidth": 0,
              "ticks": ""
             }
            }
           }
          ],
          "scattermapbox": [
           {
            "type": "scattermapbox",
            "marker": {
             "colorbar": {
              "outlinewidth": 0,
              "ticks": ""
             }
            }
           }
          ],
          "scatterternary": [
           {
            "type": "scatterternary",
            "marker": {
             "colorbar": {
              "outlinewidth": 0,
              "ticks": ""
             }
            }
           }
          ],
          "scattercarpet": [
           {
            "type": "scattercarpet",
            "marker": {
             "colorbar": {
              "outlinewidth": 0,
              "ticks": ""
             }
            }
           }
          ],
          "carpet": [
           {
            "aaxis": {
             "endlinecolor": "#A2B1C6",
             "gridcolor": "#506784",
             "linecolor": "#506784",
             "minorgridcolor": "#506784",
             "startlinecolor": "#A2B1C6"
            },
            "baxis": {
             "endlinecolor": "#A2B1C6",
             "gridcolor": "#506784",
             "linecolor": "#506784",
             "minorgridcolor": "#506784",
             "startlinecolor": "#A2B1C6"
            },
            "type": "carpet"
           }
          ],
          "table": [
           {
            "cells": {
             "fill": {
              "color": "#506784"
             },
             "line": {
              "color": "rgb(17,17,17)"
             }
            },
            "header": {
             "fill": {
              "color": "#2a3f5f"
             },
             "line": {
              "color": "rgb(17,17,17)"
             }
            },
            "type": "table"
           }
          ],
          "barpolar": [
           {
            "marker": {
             "line": {
              "color": "rgb(17,17,17)",
              "width": 0.5
             },
             "pattern": {
              "fillmode": "overlay",
              "size": 10,
              "solidity": 0.2
             }
            },
            "type": "barpolar"
           }
          ],
          "pie": [
           {
            "automargin": true,
            "type": "pie"
           }
          ]
         },
         "layout": {
          "autotypenumbers": "strict",
          "colorway": [
           "#636efa",
           "#EF553B",
           "#00cc96",
           "#ab63fa",
           "#FFA15A",
           "#19d3f3",
           "#FF6692",
           "#B6E880",
           "#FF97FF",
           "#FECB52"
          ],
          "font": {
           "color": "#f2f5fa"
          },
          "hovermode": "closest",
          "hoverlabel": {
           "align": "left"
          },
          "paper_bgcolor": "rgb(17,17,17)",
          "plot_bgcolor": "rgb(17,17,17)",
          "polar": {
           "bgcolor": "rgb(17,17,17)",
           "angularaxis": {
            "gridcolor": "#506784",
            "linecolor": "#506784",
            "ticks": ""
           },
           "radialaxis": {
            "gridcolor": "#506784",
            "linecolor": "#506784",
            "ticks": ""
           }
          },
          "ternary": {
           "bgcolor": "rgb(17,17,17)",
           "aaxis": {
            "gridcolor": "#506784",
            "linecolor": "#506784",
            "ticks": ""
           },
           "baxis": {
            "gridcolor": "#506784",
            "linecolor": "#506784",
            "ticks": ""
           },
           "caxis": {
            "gridcolor": "#506784",
            "linecolor": "#506784",
            "ticks": ""
           }
          },
          "coloraxis": {
           "colorbar": {
            "outlinewidth": 0,
            "ticks": ""
           }
          },
          "colorscale": {
           "sequential": [
            [
             0.0,
             "#0d0887"
            ],
            [
             0.1111111111111111,
             "#46039f"
            ],
            [
             0.2222222222222222,
             "#7201a8"
            ],
            [
             0.3333333333333333,
             "#9c179e"
            ],
            [
             0.4444444444444444,
             "#bd3786"
            ],
            [
             0.5555555555555556,
             "#d8576b"
            ],
            [
             0.6666666666666666,
             "#ed7953"
            ],
            [
             0.7777777777777778,
             "#fb9f3a"
            ],
            [
             0.8888888888888888,
             "#fdca26"
            ],
            [
             1.0,
             "#f0f921"
            ]
           ],
           "sequentialminus": [
            [
             0.0,
             "#0d0887"
            ],
            [
             0.1111111111111111,
             "#46039f"
            ],
            [
             0.2222222222222222,
             "#7201a8"
            ],
            [
             0.3333333333333333,
             "#9c179e"
            ],
            [
             0.4444444444444444,
             "#bd3786"
            ],
            [
             0.5555555555555556,
             "#d8576b"
            ],
            [
             0.6666666666666666,
             "#ed7953"
            ],
            [
             0.7777777777777778,
             "#fb9f3a"
            ],
            [
             0.8888888888888888,
             "#fdca26"
            ],
            [
             1.0,
             "#f0f921"
            ]
           ],
           "diverging": [
            [
             0,
             "#8e0152"
            ],
            [
             0.1,
             "#c51b7d"
            ],
            [
             0.2,
             "#de77ae"
            ],
            [
             0.3,
             "#f1b6da"
            ],
            [
             0.4,
             "#fde0ef"
            ],
            [
             0.5,
             "#f7f7f7"
            ],
            [
             0.6,
             "#e6f5d0"
            ],
            [
             0.7,
             "#b8e186"
            ],
            [
             0.8,
             "#7fbc41"
            ],
            [
             0.9,
             "#4d9221"
            ],
            [
             1,
             "#276419"
            ]
           ]
          },
          "xaxis": {
           "gridcolor": "#283442",
           "linecolor": "#506784",
           "ticks": "",
           "title": {
            "standoff": 15
           },
           "zerolinecolor": "#283442",
           "automargin": true,
           "zerolinewidth": 2
          },
          "yaxis": {
           "gridcolor": "#283442",
           "linecolor": "#506784",
           "ticks": "",
           "title": {
            "standoff": 15
           },
           "zerolinecolor": "#283442",
           "automargin": true,
           "zerolinewidth": 2
          },
          "scene": {
           "xaxis": {
            "backgroundcolor": "rgb(17,17,17)",
            "gridcolor": "#506784",
            "linecolor": "#506784",
            "showbackground": true,
            "ticks": "",
            "zerolinecolor": "#C8D4E3",
            "gridwidth": 2
           },
           "yaxis": {
            "backgroundcolor": "rgb(17,17,17)",
            "gridcolor": "#506784",
            "linecolor": "#506784",
            "showbackground": true,
            "ticks": "",
            "zerolinecolor": "#C8D4E3",
            "gridwidth": 2
           },
           "zaxis": {
            "backgroundcolor": "rgb(17,17,17)",
            "gridcolor": "#506784",
            "linecolor": "#506784",
            "showbackground": true,
            "ticks": "",
            "zerolinecolor": "#C8D4E3",
            "gridwidth": 2
           }
          },
          "shapedefaults": {
           "line": {
            "color": "#f2f5fa"
           }
          },
          "annotationdefaults": {
           "arrowcolor": "#f2f5fa",
           "arrowhead": 0,
           "arrowwidth": 1
          },
          "geo": {
           "bgcolor": "rgb(17,17,17)",
           "landcolor": "rgb(17,17,17)",
           "subunitcolor": "#506784",
           "showland": true,
           "showlakes": true,
           "lakecolor": "rgb(17,17,17)"
          },
          "title": {
           "x": 0.05
          },
          "updatemenudefaults": {
           "bgcolor": "#506784",
           "borderwidth": 0
          },
          "sliderdefaults": {
           "bgcolor": "#C8D4E3",
           "borderwidth": 1,
           "bordercolor": "rgb(17,17,17)",
           "tickwidth": 0
          },
          "mapbox": {
           "style": "dark"
          }
         }
        },
        "xaxis": {
         "anchor": "y",
         "domain": [
          0.0,
          1.0
         ],
         "title": {
          "text": "Years"
         }
        },
        "yaxis": {
         "anchor": "x",
         "domain": [
          0.0,
          1.0
         ],
         "title": {
          "text": "Missing values count"
         },
         "range": [
          0,
          400
         ]
        },
        "legend": {
         "tracegroupgap": 0
        },
        "title": {
         "text": "Evolution of missing values over time"
        }
       },
       "config": {
        "plotlyServerURL": "https://plot.ly"
       }
      },
      "text/html": "<div>                            <div id=\"aaf8ac1f-7d7d-488a-a15e-3ba749aaa50e\" class=\"plotly-graph-div\" style=\"height:525px; width:100%;\"></div>            <script type=\"text/javascript\">                require([\"plotly\"], function(Plotly) {                    window.PLOTLYENV=window.PLOTLYENV || {};                                    if (document.getElementById(\"aaf8ac1f-7d7d-488a-a15e-3ba749aaa50e\")) {                    Plotly.newPlot(                        \"aaf8ac1f-7d7d-488a-a15e-3ba749aaa50e\",                        [{\"hovertemplate\":\"Years=%{x}<br>Missing values count=%{y}<extra></extra>\",\"legendgroup\":\"\",\"line\":{\"color\":\"#636efa\",\"dash\":\"solid\"},\"marker\":{\"symbol\":\"circle\"},\"mode\":\"lines+markers\",\"name\":\"\",\"orientation\":\"v\",\"showlegend\":false,\"x\":[2000,2001,2002,2003,2004,2005,2006,2007,2008,2009,2010,2011,2012,2013,2014,2015,2016,2017,2018,2019,2020],\"xaxis\":\"x\",\"y\":[226,218,213,211,210,204,203,204,204,204,202,202,204,204,202,202,204,208,209,210,372],\"yaxis\":\"y\",\"type\":\"scatter\"}],                        {\"template\":{\"data\":{\"histogram2dcontour\":[{\"type\":\"histogram2dcontour\",\"colorbar\":{\"outlinewidth\":0,\"ticks\":\"\"},\"colorscale\":[[0.0,\"#0d0887\"],[0.1111111111111111,\"#46039f\"],[0.2222222222222222,\"#7201a8\"],[0.3333333333333333,\"#9c179e\"],[0.4444444444444444,\"#bd3786\"],[0.5555555555555556,\"#d8576b\"],[0.6666666666666666,\"#ed7953\"],[0.7777777777777778,\"#fb9f3a\"],[0.8888888888888888,\"#fdca26\"],[1.0,\"#f0f921\"]]}],\"choropleth\":[{\"type\":\"choropleth\",\"colorbar\":{\"outlinewidth\":0,\"ticks\":\"\"}}],\"histogram2d\":[{\"type\":\"histogram2d\",\"colorbar\":{\"outlinewidth\":0,\"ticks\":\"\"},\"colorscale\":[[0.0,\"#0d0887\"],[0.1111111111111111,\"#46039f\"],[0.2222222222222222,\"#7201a8\"],[0.3333333333333333,\"#9c179e\"],[0.4444444444444444,\"#bd3786\"],[0.5555555555555556,\"#d8576b\"],[0.6666666666666666,\"#ed7953\"],[0.7777777777777778,\"#fb9f3a\"],[0.8888888888888888,\"#fdca26\"],[1.0,\"#f0f921\"]]}],\"heatmap\":[{\"type\":\"heatmap\",\"colorbar\":{\"outlinewidth\":0,\"ticks\":\"\"},\"colorscale\":[[0.0,\"#0d0887\"],[0.1111111111111111,\"#46039f\"],[0.2222222222222222,\"#7201a8\"],[0.3333333333333333,\"#9c179e\"],[0.4444444444444444,\"#bd3786\"],[0.5555555555555556,\"#d8576b\"],[0.6666666666666666,\"#ed7953\"],[0.7777777777777778,\"#fb9f3a\"],[0.8888888888888888,\"#fdca26\"],[1.0,\"#f0f921\"]]}],\"heatmapgl\":[{\"type\":\"heatmapgl\",\"colorbar\":{\"outlinewidth\":0,\"ticks\":\"\"},\"colorscale\":[[0.0,\"#0d0887\"],[0.1111111111111111,\"#46039f\"],[0.2222222222222222,\"#7201a8\"],[0.3333333333333333,\"#9c179e\"],[0.4444444444444444,\"#bd3786\"],[0.5555555555555556,\"#d8576b\"],[0.6666666666666666,\"#ed7953\"],[0.7777777777777778,\"#fb9f3a\"],[0.8888888888888888,\"#fdca26\"],[1.0,\"#f0f921\"]]}],\"contourcarpet\":[{\"type\":\"contourcarpet\",\"colorbar\":{\"outlinewidth\":0,\"ticks\":\"\"}}],\"contour\":[{\"type\":\"contour\",\"colorbar\":{\"outlinewidth\":0,\"ticks\":\"\"},\"colorscale\":[[0.0,\"#0d0887\"],[0.1111111111111111,\"#46039f\"],[0.2222222222222222,\"#7201a8\"],[0.3333333333333333,\"#9c179e\"],[0.4444444444444444,\"#bd3786\"],[0.5555555555555556,\"#d8576b\"],[0.6666666666666666,\"#ed7953\"],[0.7777777777777778,\"#fb9f3a\"],[0.8888888888888888,\"#fdca26\"],[1.0,\"#f0f921\"]]}],\"surface\":[{\"type\":\"surface\",\"colorbar\":{\"outlinewidth\":0,\"ticks\":\"\"},\"colorscale\":[[0.0,\"#0d0887\"],[0.1111111111111111,\"#46039f\"],[0.2222222222222222,\"#7201a8\"],[0.3333333333333333,\"#9c179e\"],[0.4444444444444444,\"#bd3786\"],[0.5555555555555556,\"#d8576b\"],[0.6666666666666666,\"#ed7953\"],[0.7777777777777778,\"#fb9f3a\"],[0.8888888888888888,\"#fdca26\"],[1.0,\"#f0f921\"]]}],\"mesh3d\":[{\"type\":\"mesh3d\",\"colorbar\":{\"outlinewidth\":0,\"ticks\":\"\"}}],\"scatter\":[{\"marker\":{\"line\":{\"color\":\"#283442\"}},\"type\":\"scatter\"}],\"parcoords\":[{\"type\":\"parcoords\",\"line\":{\"colorbar\":{\"outlinewidth\":0,\"ticks\":\"\"}}}],\"scatterpolargl\":[{\"type\":\"scatterpolargl\",\"marker\":{\"colorbar\":{\"outlinewidth\":0,\"ticks\":\"\"}}}],\"bar\":[{\"error_x\":{\"color\":\"#f2f5fa\"},\"error_y\":{\"color\":\"#f2f5fa\"},\"marker\":{\"line\":{\"color\":\"rgb(17,17,17)\",\"width\":0.5},\"pattern\":{\"fillmode\":\"overlay\",\"size\":10,\"solidity\":0.2}},\"type\":\"bar\"}],\"scattergeo\":[{\"type\":\"scattergeo\",\"marker\":{\"colorbar\":{\"outlinewidth\":0,\"ticks\":\"\"}}}],\"scatterpolar\":[{\"type\":\"scatterpolar\",\"marker\":{\"colorbar\":{\"outlinewidth\":0,\"ticks\":\"\"}}}],\"histogram\":[{\"marker\":{\"pattern\":{\"fillmode\":\"overlay\",\"size\":10,\"solidity\":0.2}},\"type\":\"histogram\"}],\"scattergl\":[{\"marker\":{\"line\":{\"color\":\"#283442\"}},\"type\":\"scattergl\"}],\"scatter3d\":[{\"type\":\"scatter3d\",\"line\":{\"colorbar\":{\"outlinewidth\":0,\"ticks\":\"\"}},\"marker\":{\"colorbar\":{\"outlinewidth\":0,\"ticks\":\"\"}}}],\"scattermapbox\":[{\"type\":\"scattermapbox\",\"marker\":{\"colorbar\":{\"outlinewidth\":0,\"ticks\":\"\"}}}],\"scatterternary\":[{\"type\":\"scatterternary\",\"marker\":{\"colorbar\":{\"outlinewidth\":0,\"ticks\":\"\"}}}],\"scattercarpet\":[{\"type\":\"scattercarpet\",\"marker\":{\"colorbar\":{\"outlinewidth\":0,\"ticks\":\"\"}}}],\"carpet\":[{\"aaxis\":{\"endlinecolor\":\"#A2B1C6\",\"gridcolor\":\"#506784\",\"linecolor\":\"#506784\",\"minorgridcolor\":\"#506784\",\"startlinecolor\":\"#A2B1C6\"},\"baxis\":{\"endlinecolor\":\"#A2B1C6\",\"gridcolor\":\"#506784\",\"linecolor\":\"#506784\",\"minorgridcolor\":\"#506784\",\"startlinecolor\":\"#A2B1C6\"},\"type\":\"carpet\"}],\"table\":[{\"cells\":{\"fill\":{\"color\":\"#506784\"},\"line\":{\"color\":\"rgb(17,17,17)\"}},\"header\":{\"fill\":{\"color\":\"#2a3f5f\"},\"line\":{\"color\":\"rgb(17,17,17)\"}},\"type\":\"table\"}],\"barpolar\":[{\"marker\":{\"line\":{\"color\":\"rgb(17,17,17)\",\"width\":0.5},\"pattern\":{\"fillmode\":\"overlay\",\"size\":10,\"solidity\":0.2}},\"type\":\"barpolar\"}],\"pie\":[{\"automargin\":true,\"type\":\"pie\"}]},\"layout\":{\"autotypenumbers\":\"strict\",\"colorway\":[\"#636efa\",\"#EF553B\",\"#00cc96\",\"#ab63fa\",\"#FFA15A\",\"#19d3f3\",\"#FF6692\",\"#B6E880\",\"#FF97FF\",\"#FECB52\"],\"font\":{\"color\":\"#f2f5fa\"},\"hovermode\":\"closest\",\"hoverlabel\":{\"align\":\"left\"},\"paper_bgcolor\":\"rgb(17,17,17)\",\"plot_bgcolor\":\"rgb(17,17,17)\",\"polar\":{\"bgcolor\":\"rgb(17,17,17)\",\"angularaxis\":{\"gridcolor\":\"#506784\",\"linecolor\":\"#506784\",\"ticks\":\"\"},\"radialaxis\":{\"gridcolor\":\"#506784\",\"linecolor\":\"#506784\",\"ticks\":\"\"}},\"ternary\":{\"bgcolor\":\"rgb(17,17,17)\",\"aaxis\":{\"gridcolor\":\"#506784\",\"linecolor\":\"#506784\",\"ticks\":\"\"},\"baxis\":{\"gridcolor\":\"#506784\",\"linecolor\":\"#506784\",\"ticks\":\"\"},\"caxis\":{\"gridcolor\":\"#506784\",\"linecolor\":\"#506784\",\"ticks\":\"\"}},\"coloraxis\":{\"colorbar\":{\"outlinewidth\":0,\"ticks\":\"\"}},\"colorscale\":{\"sequential\":[[0.0,\"#0d0887\"],[0.1111111111111111,\"#46039f\"],[0.2222222222222222,\"#7201a8\"],[0.3333333333333333,\"#9c179e\"],[0.4444444444444444,\"#bd3786\"],[0.5555555555555556,\"#d8576b\"],[0.6666666666666666,\"#ed7953\"],[0.7777777777777778,\"#fb9f3a\"],[0.8888888888888888,\"#fdca26\"],[1.0,\"#f0f921\"]],\"sequentialminus\":[[0.0,\"#0d0887\"],[0.1111111111111111,\"#46039f\"],[0.2222222222222222,\"#7201a8\"],[0.3333333333333333,\"#9c179e\"],[0.4444444444444444,\"#bd3786\"],[0.5555555555555556,\"#d8576b\"],[0.6666666666666666,\"#ed7953\"],[0.7777777777777778,\"#fb9f3a\"],[0.8888888888888888,\"#fdca26\"],[1.0,\"#f0f921\"]],\"diverging\":[[0,\"#8e0152\"],[0.1,\"#c51b7d\"],[0.2,\"#de77ae\"],[0.3,\"#f1b6da\"],[0.4,\"#fde0ef\"],[0.5,\"#f7f7f7\"],[0.6,\"#e6f5d0\"],[0.7,\"#b8e186\"],[0.8,\"#7fbc41\"],[0.9,\"#4d9221\"],[1,\"#276419\"]]},\"xaxis\":{\"gridcolor\":\"#283442\",\"linecolor\":\"#506784\",\"ticks\":\"\",\"title\":{\"standoff\":15},\"zerolinecolor\":\"#283442\",\"automargin\":true,\"zerolinewidth\":2},\"yaxis\":{\"gridcolor\":\"#283442\",\"linecolor\":\"#506784\",\"ticks\":\"\",\"title\":{\"standoff\":15},\"zerolinecolor\":\"#283442\",\"automargin\":true,\"zerolinewidth\":2},\"scene\":{\"xaxis\":{\"backgroundcolor\":\"rgb(17,17,17)\",\"gridcolor\":\"#506784\",\"linecolor\":\"#506784\",\"showbackground\":true,\"ticks\":\"\",\"zerolinecolor\":\"#C8D4E3\",\"gridwidth\":2},\"yaxis\":{\"backgroundcolor\":\"rgb(17,17,17)\",\"gridcolor\":\"#506784\",\"linecolor\":\"#506784\",\"showbackground\":true,\"ticks\":\"\",\"zerolinecolor\":\"#C8D4E3\",\"gridwidth\":2},\"zaxis\":{\"backgroundcolor\":\"rgb(17,17,17)\",\"gridcolor\":\"#506784\",\"linecolor\":\"#506784\",\"showbackground\":true,\"ticks\":\"\",\"zerolinecolor\":\"#C8D4E3\",\"gridwidth\":2}},\"shapedefaults\":{\"line\":{\"color\":\"#f2f5fa\"}},\"annotationdefaults\":{\"arrowcolor\":\"#f2f5fa\",\"arrowhead\":0,\"arrowwidth\":1},\"geo\":{\"bgcolor\":\"rgb(17,17,17)\",\"landcolor\":\"rgb(17,17,17)\",\"subunitcolor\":\"#506784\",\"showland\":true,\"showlakes\":true,\"lakecolor\":\"rgb(17,17,17)\"},\"title\":{\"x\":0.05},\"updatemenudefaults\":{\"bgcolor\":\"#506784\",\"borderwidth\":0},\"sliderdefaults\":{\"bgcolor\":\"#C8D4E3\",\"borderwidth\":1,\"bordercolor\":\"rgb(17,17,17)\",\"tickwidth\":0},\"mapbox\":{\"style\":\"dark\"}}},\"xaxis\":{\"anchor\":\"y\",\"domain\":[0.0,1.0],\"title\":{\"text\":\"Years\"}},\"yaxis\":{\"anchor\":\"x\",\"domain\":[0.0,1.0],\"title\":{\"text\":\"Missing values count\"},\"range\":[0,400]},\"legend\":{\"tracegroupgap\":0},\"title\":{\"text\":\"Evolution of missing values over time\"}},                        {\"responsive\": true}                    ).then(function(){\n                            \nvar gd = document.getElementById('aaf8ac1f-7d7d-488a-a15e-3ba749aaa50e');\nvar x = new MutationObserver(function (mutations, observer) {{\n        var display = window.getComputedStyle(gd).display;\n        if (!display || display === 'none') {{\n            console.log([gd, 'removed!']);\n            Plotly.purge(gd);\n            observer.disconnect();\n        }}\n}});\n\n// Listen for the removal of the full notebook cells\nvar notebookContainer = gd.closest('#notebook-container');\nif (notebookContainer) {{\n    x.observe(notebookContainer, {childList: true});\n}}\n\n// Listen for the clearing of the current output cell\nvar outputEl = gd.closest('.output');\nif (outputEl) {{\n    x.observe(outputEl, {childList: true});\n}}\n\n                        })                };                });            </script>        </div>"
     },
     "metadata": {},
     "output_type": "display_data"
    }
   ],
   "source": [
    "def line_plot_missing_values(df_energy : pd.DataFrame = df_energy) -> go.Figure:\n",
    "    \"\"\"\n",
    "    The line_plot_missing_values function plot the number of na by years\n",
    "    :param df_energy: \n",
    "    :return: \n",
    "    \"\"\"   \n",
    "    missing_values_by_year = df_energy.groupby(\"Year\").apply(lambda x: x.isna().sum().sum())\n",
    "    \n",
    "    # Create a line chart\n",
    "    fig_na = px.line(\n",
    "        x=missing_values_by_year.index,\n",
    "        y=missing_values_by_year,\n",
    "        template=THEME,  # Assuming THEME is defined elsewhere\n",
    "        labels={\"x\": \"Years\", \"y\": \"Missing values count\"},\n",
    "        range_y=[0, 400],\n",
    "        markers=True,\n",
    "        title=\"Evolution of missing values over time\",\n",
    "    )\n",
    "    \n",
    "    return fig_na\n",
    "\n",
    "line_plot_missing_values()"
   ],
   "metadata": {
    "collapsed": false,
    "ExecuteTime": {
     "end_time": "2023-10-25T17:35:54.875037Z",
     "start_time": "2023-10-25T17:35:54.448250800Z"
    }
   },
   "id": "ffd91389e764c999"
  },
  {
   "cell_type": "code",
   "execution_count": 16,
   "outputs": [
    {
     "name": "stderr",
     "output_type": "stream",
     "text": [
      "C:\\Users\\antoi\\AppData\\Local\\Temp\\ipykernel_19040\\576862381.py:20: SettingWithCopyWarning:\n",
      "\n",
      "\n",
      "A value is trying to be set on a copy of a slice from a DataFrame.\n",
      "Try using .loc[row_indexer,col_indexer] = value instead\n",
      "\n",
      "See the caveats in the documentation: https://pandas.pydata.org/pandas-docs/stable/user_guide/indexing.html#returning-a-view-versus-a-copy\n",
      "\n"
     ]
    },
    {
     "data": {
      "application/vnd.plotly.v1+json": {
       "data": [
        {
         "alignmentgroup": "True",
         "bingroup": "x",
         "hovertemplate": "reference=False<br>Human Development Index=%{x}<br>count=%{y}<extra></extra>",
         "legendgroup": "False",
         "marker": {
          "color": "#636efa",
          "opacity": 1,
          "pattern": {
           "shape": ""
          }
         },
         "name": "False",
         "offsetgroup": "False",
         "orientation": "v",
         "showlegend": true,
         "texttemplate": "%{value}",
         "x": [
          0.677,
          0.871,
          0.712,
          0.887,
          0.667,
          0.725,
          0.759,
          0.808,
          0.889,
          0.787,
          0.891,
          0.844,
          0.889,
          0.81,
          0.773,
          0.871,
          0.847,
          0.841,
          0.756,
          0.766,
          0.864,
          0.779,
          0.893,
          0.675,
          0.913,
          0.793,
          0.791,
          0.715,
          0.763,
          0.821,
          0.825,
          0.904,
          0.887,
          0.7,
          0.862
         ],
         "xaxis": "x",
         "yaxis": "y",
         "type": "histogram"
        },
        {
         "alignmentgroup": "True",
         "hovertemplate": "reference=False<br>Human Development Index=%{x}<extra></extra>",
         "legendgroup": "False",
         "marker": {
          "color": "#636efa"
         },
         "name": "False",
         "notched": true,
         "offsetgroup": "False",
         "showlegend": false,
         "x": [
          0.677,
          0.871,
          0.712,
          0.887,
          0.667,
          0.725,
          0.759,
          0.808,
          0.889,
          0.787,
          0.891,
          0.844,
          0.889,
          0.81,
          0.773,
          0.871,
          0.847,
          0.841,
          0.756,
          0.766,
          0.864,
          0.779,
          0.893,
          0.675,
          0.913,
          0.793,
          0.791,
          0.715,
          0.763,
          0.821,
          0.825,
          0.904,
          0.887,
          0.7,
          0.862
         ],
         "xaxis": "x2",
         "yaxis": "y2",
         "type": "box"
        },
        {
         "alignmentgroup": "True",
         "bingroup": "x",
         "hovertemplate": "reference=True<br>Human Development Index=%{x}<br>count=%{y}<extra></extra>",
         "legendgroup": "True",
         "marker": {
          "color": "#EF553B",
          "opacity": 1,
          "pattern": {
           "shape": "/"
          }
         },
         "name": "True",
         "offsetgroup": "True",
         "orientation": "v",
         "showlegend": true,
         "texttemplate": "%{value}",
         "x": [
          0.795,
          0.91,
          0.812,
          0.924,
          0.761,
          0.809,
          0.843,
          0.891,
          0.936,
          0.882,
          0.93,
          0.892,
          0.938,
          0.88,
          0.838,
          0.945,
          0.925,
          0.882,
          0.85,
          0.862,
          0.915,
          0.889,
          0.822,
          0.932,
          0.762,
          0.953,
          0.868,
          0.85,
          0.813,
          0.794,
          0.851,
          0.903,
          0.889,
          0.937,
          0.954,
          0.774,
          0.924
         ],
         "xaxis": "x",
         "yaxis": "y",
         "type": "histogram"
        },
        {
         "alignmentgroup": "True",
         "hovertemplate": "reference=True<br>Human Development Index=%{x}<extra></extra>",
         "legendgroup": "True",
         "marker": {
          "color": "#EF553B"
         },
         "name": "True",
         "notched": true,
         "offsetgroup": "True",
         "showlegend": false,
         "x": [
          0.795,
          0.91,
          0.812,
          0.924,
          0.761,
          0.809,
          0.843,
          0.891,
          0.936,
          0.882,
          0.93,
          0.892,
          0.938,
          0.88,
          0.838,
          0.945,
          0.925,
          0.882,
          0.85,
          0.862,
          0.915,
          0.889,
          0.822,
          0.932,
          0.762,
          0.953,
          0.868,
          0.85,
          0.813,
          0.794,
          0.851,
          0.903,
          0.889,
          0.937,
          0.954,
          0.774,
          0.924
         ],
         "xaxis": "x2",
         "yaxis": "y2",
         "type": "box"
        }
       ],
       "layout": {
        "template": {
         "data": {
          "histogram2dcontour": [
           {
            "type": "histogram2dcontour",
            "colorbar": {
             "outlinewidth": 0,
             "ticks": ""
            },
            "colorscale": [
             [
              0.0,
              "#0d0887"
             ],
             [
              0.1111111111111111,
              "#46039f"
             ],
             [
              0.2222222222222222,
              "#7201a8"
             ],
             [
              0.3333333333333333,
              "#9c179e"
             ],
             [
              0.4444444444444444,
              "#bd3786"
             ],
             [
              0.5555555555555556,
              "#d8576b"
             ],
             [
              0.6666666666666666,
              "#ed7953"
             ],
             [
              0.7777777777777778,
              "#fb9f3a"
             ],
             [
              0.8888888888888888,
              "#fdca26"
             ],
             [
              1.0,
              "#f0f921"
             ]
            ]
           }
          ],
          "choropleth": [
           {
            "type": "choropleth",
            "colorbar": {
             "outlinewidth": 0,
             "ticks": ""
            }
           }
          ],
          "histogram2d": [
           {
            "type": "histogram2d",
            "colorbar": {
             "outlinewidth": 0,
             "ticks": ""
            },
            "colorscale": [
             [
              0.0,
              "#0d0887"
             ],
             [
              0.1111111111111111,
              "#46039f"
             ],
             [
              0.2222222222222222,
              "#7201a8"
             ],
             [
              0.3333333333333333,
              "#9c179e"
             ],
             [
              0.4444444444444444,
              "#bd3786"
             ],
             [
              0.5555555555555556,
              "#d8576b"
             ],
             [
              0.6666666666666666,
              "#ed7953"
             ],
             [
              0.7777777777777778,
              "#fb9f3a"
             ],
             [
              0.8888888888888888,
              "#fdca26"
             ],
             [
              1.0,
              "#f0f921"
             ]
            ]
           }
          ],
          "heatmap": [
           {
            "type": "heatmap",
            "colorbar": {
             "outlinewidth": 0,
             "ticks": ""
            },
            "colorscale": [
             [
              0.0,
              "#0d0887"
             ],
             [
              0.1111111111111111,
              "#46039f"
             ],
             [
              0.2222222222222222,
              "#7201a8"
             ],
             [
              0.3333333333333333,
              "#9c179e"
             ],
             [
              0.4444444444444444,
              "#bd3786"
             ],
             [
              0.5555555555555556,
              "#d8576b"
             ],
             [
              0.6666666666666666,
              "#ed7953"
             ],
             [
              0.7777777777777778,
              "#fb9f3a"
             ],
             [
              0.8888888888888888,
              "#fdca26"
             ],
             [
              1.0,
              "#f0f921"
             ]
            ]
           }
          ],
          "heatmapgl": [
           {
            "type": "heatmapgl",
            "colorbar": {
             "outlinewidth": 0,
             "ticks": ""
            },
            "colorscale": [
             [
              0.0,
              "#0d0887"
             ],
             [
              0.1111111111111111,
              "#46039f"
             ],
             [
              0.2222222222222222,
              "#7201a8"
             ],
             [
              0.3333333333333333,
              "#9c179e"
             ],
             [
              0.4444444444444444,
              "#bd3786"
             ],
             [
              0.5555555555555556,
              "#d8576b"
             ],
             [
              0.6666666666666666,
              "#ed7953"
             ],
             [
              0.7777777777777778,
              "#fb9f3a"
             ],
             [
              0.8888888888888888,
              "#fdca26"
             ],
             [
              1.0,
              "#f0f921"
             ]
            ]
           }
          ],
          "contourcarpet": [
           {
            "type": "contourcarpet",
            "colorbar": {
             "outlinewidth": 0,
             "ticks": ""
            }
           }
          ],
          "contour": [
           {
            "type": "contour",
            "colorbar": {
             "outlinewidth": 0,
             "ticks": ""
            },
            "colorscale": [
             [
              0.0,
              "#0d0887"
             ],
             [
              0.1111111111111111,
              "#46039f"
             ],
             [
              0.2222222222222222,
              "#7201a8"
             ],
             [
              0.3333333333333333,
              "#9c179e"
             ],
             [
              0.4444444444444444,
              "#bd3786"
             ],
             [
              0.5555555555555556,
              "#d8576b"
             ],
             [
              0.6666666666666666,
              "#ed7953"
             ],
             [
              0.7777777777777778,
              "#fb9f3a"
             ],
             [
              0.8888888888888888,
              "#fdca26"
             ],
             [
              1.0,
              "#f0f921"
             ]
            ]
           }
          ],
          "surface": [
           {
            "type": "surface",
            "colorbar": {
             "outlinewidth": 0,
             "ticks": ""
            },
            "colorscale": [
             [
              0.0,
              "#0d0887"
             ],
             [
              0.1111111111111111,
              "#46039f"
             ],
             [
              0.2222222222222222,
              "#7201a8"
             ],
             [
              0.3333333333333333,
              "#9c179e"
             ],
             [
              0.4444444444444444,
              "#bd3786"
             ],
             [
              0.5555555555555556,
              "#d8576b"
             ],
             [
              0.6666666666666666,
              "#ed7953"
             ],
             [
              0.7777777777777778,
              "#fb9f3a"
             ],
             [
              0.8888888888888888,
              "#fdca26"
             ],
             [
              1.0,
              "#f0f921"
             ]
            ]
           }
          ],
          "mesh3d": [
           {
            "type": "mesh3d",
            "colorbar": {
             "outlinewidth": 0,
             "ticks": ""
            }
           }
          ],
          "scatter": [
           {
            "marker": {
             "line": {
              "color": "#283442"
             }
            },
            "type": "scatter"
           }
          ],
          "parcoords": [
           {
            "type": "parcoords",
            "line": {
             "colorbar": {
              "outlinewidth": 0,
              "ticks": ""
             }
            }
           }
          ],
          "scatterpolargl": [
           {
            "type": "scatterpolargl",
            "marker": {
             "colorbar": {
              "outlinewidth": 0,
              "ticks": ""
             }
            }
           }
          ],
          "bar": [
           {
            "error_x": {
             "color": "#f2f5fa"
            },
            "error_y": {
             "color": "#f2f5fa"
            },
            "marker": {
             "line": {
              "color": "rgb(17,17,17)",
              "width": 0.5
             },
             "pattern": {
              "fillmode": "overlay",
              "size": 10,
              "solidity": 0.2
             }
            },
            "type": "bar"
           }
          ],
          "scattergeo": [
           {
            "type": "scattergeo",
            "marker": {
             "colorbar": {
              "outlinewidth": 0,
              "ticks": ""
             }
            }
           }
          ],
          "scatterpolar": [
           {
            "type": "scatterpolar",
            "marker": {
             "colorbar": {
              "outlinewidth": 0,
              "ticks": ""
             }
            }
           }
          ],
          "histogram": [
           {
            "marker": {
             "pattern": {
              "fillmode": "overlay",
              "size": 10,
              "solidity": 0.2
             }
            },
            "type": "histogram"
           }
          ],
          "scattergl": [
           {
            "marker": {
             "line": {
              "color": "#283442"
             }
            },
            "type": "scattergl"
           }
          ],
          "scatter3d": [
           {
            "type": "scatter3d",
            "line": {
             "colorbar": {
              "outlinewidth": 0,
              "ticks": ""
             }
            },
            "marker": {
             "colorbar": {
              "outlinewidth": 0,
              "ticks": ""
             }
            }
           }
          ],
          "scattermapbox": [
           {
            "type": "scattermapbox",
            "marker": {
             "colorbar": {
              "outlinewidth": 0,
              "ticks": ""
             }
            }
           }
          ],
          "scatterternary": [
           {
            "type": "scatterternary",
            "marker": {
             "colorbar": {
              "outlinewidth": 0,
              "ticks": ""
             }
            }
           }
          ],
          "scattercarpet": [
           {
            "type": "scattercarpet",
            "marker": {
             "colorbar": {
              "outlinewidth": 0,
              "ticks": ""
             }
            }
           }
          ],
          "carpet": [
           {
            "aaxis": {
             "endlinecolor": "#A2B1C6",
             "gridcolor": "#506784",
             "linecolor": "#506784",
             "minorgridcolor": "#506784",
             "startlinecolor": "#A2B1C6"
            },
            "baxis": {
             "endlinecolor": "#A2B1C6",
             "gridcolor": "#506784",
             "linecolor": "#506784",
             "minorgridcolor": "#506784",
             "startlinecolor": "#A2B1C6"
            },
            "type": "carpet"
           }
          ],
          "table": [
           {
            "cells": {
             "fill": {
              "color": "#506784"
             },
             "line": {
              "color": "rgb(17,17,17)"
             }
            },
            "header": {
             "fill": {
              "color": "#2a3f5f"
             },
             "line": {
              "color": "rgb(17,17,17)"
             }
            },
            "type": "table"
           }
          ],
          "barpolar": [
           {
            "marker": {
             "line": {
              "color": "rgb(17,17,17)",
              "width": 0.5
             },
             "pattern": {
              "fillmode": "overlay",
              "size": 10,
              "solidity": 0.2
             }
            },
            "type": "barpolar"
           }
          ],
          "pie": [
           {
            "automargin": true,
            "type": "pie"
           }
          ]
         },
         "layout": {
          "autotypenumbers": "strict",
          "colorway": [
           "#636efa",
           "#EF553B",
           "#00cc96",
           "#ab63fa",
           "#FFA15A",
           "#19d3f3",
           "#FF6692",
           "#B6E880",
           "#FF97FF",
           "#FECB52"
          ],
          "font": {
           "color": "#f2f5fa"
          },
          "hovermode": "closest",
          "hoverlabel": {
           "align": "left"
          },
          "paper_bgcolor": "rgb(17,17,17)",
          "plot_bgcolor": "rgb(17,17,17)",
          "polar": {
           "bgcolor": "rgb(17,17,17)",
           "angularaxis": {
            "gridcolor": "#506784",
            "linecolor": "#506784",
            "ticks": ""
           },
           "radialaxis": {
            "gridcolor": "#506784",
            "linecolor": "#506784",
            "ticks": ""
           }
          },
          "ternary": {
           "bgcolor": "rgb(17,17,17)",
           "aaxis": {
            "gridcolor": "#506784",
            "linecolor": "#506784",
            "ticks": ""
           },
           "baxis": {
            "gridcolor": "#506784",
            "linecolor": "#506784",
            "ticks": ""
           },
           "caxis": {
            "gridcolor": "#506784",
            "linecolor": "#506784",
            "ticks": ""
           }
          },
          "coloraxis": {
           "colorbar": {
            "outlinewidth": 0,
            "ticks": ""
           }
          },
          "colorscale": {
           "sequential": [
            [
             0.0,
             "#0d0887"
            ],
            [
             0.1111111111111111,
             "#46039f"
            ],
            [
             0.2222222222222222,
             "#7201a8"
            ],
            [
             0.3333333333333333,
             "#9c179e"
            ],
            [
             0.4444444444444444,
             "#bd3786"
            ],
            [
             0.5555555555555556,
             "#d8576b"
            ],
            [
             0.6666666666666666,
             "#ed7953"
            ],
            [
             0.7777777777777778,
             "#fb9f3a"
            ],
            [
             0.8888888888888888,
             "#fdca26"
            ],
            [
             1.0,
             "#f0f921"
            ]
           ],
           "sequentialminus": [
            [
             0.0,
             "#0d0887"
            ],
            [
             0.1111111111111111,
             "#46039f"
            ],
            [
             0.2222222222222222,
             "#7201a8"
            ],
            [
             0.3333333333333333,
             "#9c179e"
            ],
            [
             0.4444444444444444,
             "#bd3786"
            ],
            [
             0.5555555555555556,
             "#d8576b"
            ],
            [
             0.6666666666666666,
             "#ed7953"
            ],
            [
             0.7777777777777778,
             "#fb9f3a"
            ],
            [
             0.8888888888888888,
             "#fdca26"
            ],
            [
             1.0,
             "#f0f921"
            ]
           ],
           "diverging": [
            [
             0,
             "#8e0152"
            ],
            [
             0.1,
             "#c51b7d"
            ],
            [
             0.2,
             "#de77ae"
            ],
            [
             0.3,
             "#f1b6da"
            ],
            [
             0.4,
             "#fde0ef"
            ],
            [
             0.5,
             "#f7f7f7"
            ],
            [
             0.6,
             "#e6f5d0"
            ],
            [
             0.7,
             "#b8e186"
            ],
            [
             0.8,
             "#7fbc41"
            ],
            [
             0.9,
             "#4d9221"
            ],
            [
             1,
             "#276419"
            ]
           ]
          },
          "xaxis": {
           "gridcolor": "#283442",
           "linecolor": "#506784",
           "ticks": "",
           "title": {
            "standoff": 15
           },
           "zerolinecolor": "#283442",
           "automargin": true,
           "zerolinewidth": 2
          },
          "yaxis": {
           "gridcolor": "#283442",
           "linecolor": "#506784",
           "ticks": "",
           "title": {
            "standoff": 15
           },
           "zerolinecolor": "#283442",
           "automargin": true,
           "zerolinewidth": 2
          },
          "scene": {
           "xaxis": {
            "backgroundcolor": "rgb(17,17,17)",
            "gridcolor": "#506784",
            "linecolor": "#506784",
            "showbackground": true,
            "ticks": "",
            "zerolinecolor": "#C8D4E3",
            "gridwidth": 2
           },
           "yaxis": {
            "backgroundcolor": "rgb(17,17,17)",
            "gridcolor": "#506784",
            "linecolor": "#506784",
            "showbackground": true,
            "ticks": "",
            "zerolinecolor": "#C8D4E3",
            "gridwidth": 2
           },
           "zaxis": {
            "backgroundcolor": "rgb(17,17,17)",
            "gridcolor": "#506784",
            "linecolor": "#506784",
            "showbackground": true,
            "ticks": "",
            "zerolinecolor": "#C8D4E3",
            "gridwidth": 2
           }
          },
          "shapedefaults": {
           "line": {
            "color": "#f2f5fa"
           }
          },
          "annotationdefaults": {
           "arrowcolor": "#f2f5fa",
           "arrowhead": 0,
           "arrowwidth": 1
          },
          "geo": {
           "bgcolor": "rgb(17,17,17)",
           "landcolor": "rgb(17,17,17)",
           "subunitcolor": "#506784",
           "showland": true,
           "showlakes": true,
           "lakecolor": "rgb(17,17,17)"
          },
          "title": {
           "x": 0.05
          },
          "updatemenudefaults": {
           "bgcolor": "#506784",
           "borderwidth": 0
          },
          "sliderdefaults": {
           "bgcolor": "#C8D4E3",
           "borderwidth": 1,
           "bordercolor": "rgb(17,17,17)",
           "tickwidth": 0
          },
          "mapbox": {
           "style": "dark"
          }
         }
        },
        "xaxis": {
         "anchor": "y",
         "domain": [
          0.0,
          1.0
         ],
         "title": {
          "text": "Human Development Index"
         }
        },
        "yaxis": {
         "anchor": "x",
         "domain": [
          0.0,
          0.7326
         ],
         "title": {
          "text": "count"
         }
        },
        "xaxis2": {
         "anchor": "y2",
         "domain": [
          0.0,
          1.0
         ],
         "matches": "x",
         "showticklabels": false,
         "showgrid": true
        },
        "yaxis2": {
         "anchor": "x2",
         "domain": [
          0.7426,
          1.0
         ],
         "matches": "y2",
         "showticklabels": false,
         "showline": false,
         "ticks": "",
         "showgrid": false
        },
        "legend": {
         "title": {
          "text": "reference"
         },
         "tracegroupgap": 0
        },
        "title": {
         "text": "Histogram Human Development Index per year with 2020 as reference"
        },
        "barmode": "relative"
       },
       "config": {
        "plotlyServerURL": "https://plot.ly"
       }
      },
      "text/html": "<div>                            <div id=\"fd4ac4a7-caec-40be-a0eb-81c7482c563a\" class=\"plotly-graph-div\" style=\"height:525px; width:100%;\"></div>            <script type=\"text/javascript\">                require([\"plotly\"], function(Plotly) {                    window.PLOTLYENV=window.PLOTLYENV || {};                                    if (document.getElementById(\"fd4ac4a7-caec-40be-a0eb-81c7482c563a\")) {                    Plotly.newPlot(                        \"fd4ac4a7-caec-40be-a0eb-81c7482c563a\",                        [{\"alignmentgroup\":\"True\",\"bingroup\":\"x\",\"hovertemplate\":\"reference=False<br>Human Development Index=%{x}<br>count=%{y}<extra></extra>\",\"legendgroup\":\"False\",\"marker\":{\"color\":\"#636efa\",\"opacity\":1,\"pattern\":{\"shape\":\"\"}},\"name\":\"False\",\"offsetgroup\":\"False\",\"orientation\":\"v\",\"showlegend\":true,\"texttemplate\":\"%{value}\",\"x\":[0.677,0.871,0.712,0.887,0.667,0.725,0.759,0.808,0.889,0.787,0.891,0.844,0.889,0.81,0.773,0.871,0.847,0.841,0.756,0.766,0.864,0.779,0.893,0.675,0.913,0.793,0.791,0.715,0.763,0.821,0.825,0.904,0.887,0.7,0.862],\"xaxis\":\"x\",\"yaxis\":\"y\",\"type\":\"histogram\"},{\"alignmentgroup\":\"True\",\"hovertemplate\":\"reference=False<br>Human Development Index=%{x}<extra></extra>\",\"legendgroup\":\"False\",\"marker\":{\"color\":\"#636efa\"},\"name\":\"False\",\"notched\":true,\"offsetgroup\":\"False\",\"showlegend\":false,\"x\":[0.677,0.871,0.712,0.887,0.667,0.725,0.759,0.808,0.889,0.787,0.891,0.844,0.889,0.81,0.773,0.871,0.847,0.841,0.756,0.766,0.864,0.779,0.893,0.675,0.913,0.793,0.791,0.715,0.763,0.821,0.825,0.904,0.887,0.7,0.862],\"xaxis\":\"x2\",\"yaxis\":\"y2\",\"type\":\"box\"},{\"alignmentgroup\":\"True\",\"bingroup\":\"x\",\"hovertemplate\":\"reference=True<br>Human Development Index=%{x}<br>count=%{y}<extra></extra>\",\"legendgroup\":\"True\",\"marker\":{\"color\":\"#EF553B\",\"opacity\":1,\"pattern\":{\"shape\":\"/\"}},\"name\":\"True\",\"offsetgroup\":\"True\",\"orientation\":\"v\",\"showlegend\":true,\"texttemplate\":\"%{value}\",\"x\":[0.795,0.91,0.812,0.924,0.761,0.809,0.843,0.891,0.936,0.882,0.93,0.892,0.938,0.88,0.838,0.945,0.925,0.882,0.85,0.862,0.915,0.889,0.822,0.932,0.762,0.953,0.868,0.85,0.813,0.794,0.851,0.903,0.889,0.937,0.954,0.774,0.924],\"xaxis\":\"x\",\"yaxis\":\"y\",\"type\":\"histogram\"},{\"alignmentgroup\":\"True\",\"hovertemplate\":\"reference=True<br>Human Development Index=%{x}<extra></extra>\",\"legendgroup\":\"True\",\"marker\":{\"color\":\"#EF553B\"},\"name\":\"True\",\"notched\":true,\"offsetgroup\":\"True\",\"showlegend\":false,\"x\":[0.795,0.91,0.812,0.924,0.761,0.809,0.843,0.891,0.936,0.882,0.93,0.892,0.938,0.88,0.838,0.945,0.925,0.882,0.85,0.862,0.915,0.889,0.822,0.932,0.762,0.953,0.868,0.85,0.813,0.794,0.851,0.903,0.889,0.937,0.954,0.774,0.924],\"xaxis\":\"x2\",\"yaxis\":\"y2\",\"type\":\"box\"}],                        {\"template\":{\"data\":{\"histogram2dcontour\":[{\"type\":\"histogram2dcontour\",\"colorbar\":{\"outlinewidth\":0,\"ticks\":\"\"},\"colorscale\":[[0.0,\"#0d0887\"],[0.1111111111111111,\"#46039f\"],[0.2222222222222222,\"#7201a8\"],[0.3333333333333333,\"#9c179e\"],[0.4444444444444444,\"#bd3786\"],[0.5555555555555556,\"#d8576b\"],[0.6666666666666666,\"#ed7953\"],[0.7777777777777778,\"#fb9f3a\"],[0.8888888888888888,\"#fdca26\"],[1.0,\"#f0f921\"]]}],\"choropleth\":[{\"type\":\"choropleth\",\"colorbar\":{\"outlinewidth\":0,\"ticks\":\"\"}}],\"histogram2d\":[{\"type\":\"histogram2d\",\"colorbar\":{\"outlinewidth\":0,\"ticks\":\"\"},\"colorscale\":[[0.0,\"#0d0887\"],[0.1111111111111111,\"#46039f\"],[0.2222222222222222,\"#7201a8\"],[0.3333333333333333,\"#9c179e\"],[0.4444444444444444,\"#bd3786\"],[0.5555555555555556,\"#d8576b\"],[0.6666666666666666,\"#ed7953\"],[0.7777777777777778,\"#fb9f3a\"],[0.8888888888888888,\"#fdca26\"],[1.0,\"#f0f921\"]]}],\"heatmap\":[{\"type\":\"heatmap\",\"colorbar\":{\"outlinewidth\":0,\"ticks\":\"\"},\"colorscale\":[[0.0,\"#0d0887\"],[0.1111111111111111,\"#46039f\"],[0.2222222222222222,\"#7201a8\"],[0.3333333333333333,\"#9c179e\"],[0.4444444444444444,\"#bd3786\"],[0.5555555555555556,\"#d8576b\"],[0.6666666666666666,\"#ed7953\"],[0.7777777777777778,\"#fb9f3a\"],[0.8888888888888888,\"#fdca26\"],[1.0,\"#f0f921\"]]}],\"heatmapgl\":[{\"type\":\"heatmapgl\",\"colorbar\":{\"outlinewidth\":0,\"ticks\":\"\"},\"colorscale\":[[0.0,\"#0d0887\"],[0.1111111111111111,\"#46039f\"],[0.2222222222222222,\"#7201a8\"],[0.3333333333333333,\"#9c179e\"],[0.4444444444444444,\"#bd3786\"],[0.5555555555555556,\"#d8576b\"],[0.6666666666666666,\"#ed7953\"],[0.7777777777777778,\"#fb9f3a\"],[0.8888888888888888,\"#fdca26\"],[1.0,\"#f0f921\"]]}],\"contourcarpet\":[{\"type\":\"contourcarpet\",\"colorbar\":{\"outlinewidth\":0,\"ticks\":\"\"}}],\"contour\":[{\"type\":\"contour\",\"colorbar\":{\"outlinewidth\":0,\"ticks\":\"\"},\"colorscale\":[[0.0,\"#0d0887\"],[0.1111111111111111,\"#46039f\"],[0.2222222222222222,\"#7201a8\"],[0.3333333333333333,\"#9c179e\"],[0.4444444444444444,\"#bd3786\"],[0.5555555555555556,\"#d8576b\"],[0.6666666666666666,\"#ed7953\"],[0.7777777777777778,\"#fb9f3a\"],[0.8888888888888888,\"#fdca26\"],[1.0,\"#f0f921\"]]}],\"surface\":[{\"type\":\"surface\",\"colorbar\":{\"outlinewidth\":0,\"ticks\":\"\"},\"colorscale\":[[0.0,\"#0d0887\"],[0.1111111111111111,\"#46039f\"],[0.2222222222222222,\"#7201a8\"],[0.3333333333333333,\"#9c179e\"],[0.4444444444444444,\"#bd3786\"],[0.5555555555555556,\"#d8576b\"],[0.6666666666666666,\"#ed7953\"],[0.7777777777777778,\"#fb9f3a\"],[0.8888888888888888,\"#fdca26\"],[1.0,\"#f0f921\"]]}],\"mesh3d\":[{\"type\":\"mesh3d\",\"colorbar\":{\"outlinewidth\":0,\"ticks\":\"\"}}],\"scatter\":[{\"marker\":{\"line\":{\"color\":\"#283442\"}},\"type\":\"scatter\"}],\"parcoords\":[{\"type\":\"parcoords\",\"line\":{\"colorbar\":{\"outlinewidth\":0,\"ticks\":\"\"}}}],\"scatterpolargl\":[{\"type\":\"scatterpolargl\",\"marker\":{\"colorbar\":{\"outlinewidth\":0,\"ticks\":\"\"}}}],\"bar\":[{\"error_x\":{\"color\":\"#f2f5fa\"},\"error_y\":{\"color\":\"#f2f5fa\"},\"marker\":{\"line\":{\"color\":\"rgb(17,17,17)\",\"width\":0.5},\"pattern\":{\"fillmode\":\"overlay\",\"size\":10,\"solidity\":0.2}},\"type\":\"bar\"}],\"scattergeo\":[{\"type\":\"scattergeo\",\"marker\":{\"colorbar\":{\"outlinewidth\":0,\"ticks\":\"\"}}}],\"scatterpolar\":[{\"type\":\"scatterpolar\",\"marker\":{\"colorbar\":{\"outlinewidth\":0,\"ticks\":\"\"}}}],\"histogram\":[{\"marker\":{\"pattern\":{\"fillmode\":\"overlay\",\"size\":10,\"solidity\":0.2}},\"type\":\"histogram\"}],\"scattergl\":[{\"marker\":{\"line\":{\"color\":\"#283442\"}},\"type\":\"scattergl\"}],\"scatter3d\":[{\"type\":\"scatter3d\",\"line\":{\"colorbar\":{\"outlinewidth\":0,\"ticks\":\"\"}},\"marker\":{\"colorbar\":{\"outlinewidth\":0,\"ticks\":\"\"}}}],\"scattermapbox\":[{\"type\":\"scattermapbox\",\"marker\":{\"colorbar\":{\"outlinewidth\":0,\"ticks\":\"\"}}}],\"scatterternary\":[{\"type\":\"scatterternary\",\"marker\":{\"colorbar\":{\"outlinewidth\":0,\"ticks\":\"\"}}}],\"scattercarpet\":[{\"type\":\"scattercarpet\",\"marker\":{\"colorbar\":{\"outlinewidth\":0,\"ticks\":\"\"}}}],\"carpet\":[{\"aaxis\":{\"endlinecolor\":\"#A2B1C6\",\"gridcolor\":\"#506784\",\"linecolor\":\"#506784\",\"minorgridcolor\":\"#506784\",\"startlinecolor\":\"#A2B1C6\"},\"baxis\":{\"endlinecolor\":\"#A2B1C6\",\"gridcolor\":\"#506784\",\"linecolor\":\"#506784\",\"minorgridcolor\":\"#506784\",\"startlinecolor\":\"#A2B1C6\"},\"type\":\"carpet\"}],\"table\":[{\"cells\":{\"fill\":{\"color\":\"#506784\"},\"line\":{\"color\":\"rgb(17,17,17)\"}},\"header\":{\"fill\":{\"color\":\"#2a3f5f\"},\"line\":{\"color\":\"rgb(17,17,17)\"}},\"type\":\"table\"}],\"barpolar\":[{\"marker\":{\"line\":{\"color\":\"rgb(17,17,17)\",\"width\":0.5},\"pattern\":{\"fillmode\":\"overlay\",\"size\":10,\"solidity\":0.2}},\"type\":\"barpolar\"}],\"pie\":[{\"automargin\":true,\"type\":\"pie\"}]},\"layout\":{\"autotypenumbers\":\"strict\",\"colorway\":[\"#636efa\",\"#EF553B\",\"#00cc96\",\"#ab63fa\",\"#FFA15A\",\"#19d3f3\",\"#FF6692\",\"#B6E880\",\"#FF97FF\",\"#FECB52\"],\"font\":{\"color\":\"#f2f5fa\"},\"hovermode\":\"closest\",\"hoverlabel\":{\"align\":\"left\"},\"paper_bgcolor\":\"rgb(17,17,17)\",\"plot_bgcolor\":\"rgb(17,17,17)\",\"polar\":{\"bgcolor\":\"rgb(17,17,17)\",\"angularaxis\":{\"gridcolor\":\"#506784\",\"linecolor\":\"#506784\",\"ticks\":\"\"},\"radialaxis\":{\"gridcolor\":\"#506784\",\"linecolor\":\"#506784\",\"ticks\":\"\"}},\"ternary\":{\"bgcolor\":\"rgb(17,17,17)\",\"aaxis\":{\"gridcolor\":\"#506784\",\"linecolor\":\"#506784\",\"ticks\":\"\"},\"baxis\":{\"gridcolor\":\"#506784\",\"linecolor\":\"#506784\",\"ticks\":\"\"},\"caxis\":{\"gridcolor\":\"#506784\",\"linecolor\":\"#506784\",\"ticks\":\"\"}},\"coloraxis\":{\"colorbar\":{\"outlinewidth\":0,\"ticks\":\"\"}},\"colorscale\":{\"sequential\":[[0.0,\"#0d0887\"],[0.1111111111111111,\"#46039f\"],[0.2222222222222222,\"#7201a8\"],[0.3333333333333333,\"#9c179e\"],[0.4444444444444444,\"#bd3786\"],[0.5555555555555556,\"#d8576b\"],[0.6666666666666666,\"#ed7953\"],[0.7777777777777778,\"#fb9f3a\"],[0.8888888888888888,\"#fdca26\"],[1.0,\"#f0f921\"]],\"sequentialminus\":[[0.0,\"#0d0887\"],[0.1111111111111111,\"#46039f\"],[0.2222222222222222,\"#7201a8\"],[0.3333333333333333,\"#9c179e\"],[0.4444444444444444,\"#bd3786\"],[0.5555555555555556,\"#d8576b\"],[0.6666666666666666,\"#ed7953\"],[0.7777777777777778,\"#fb9f3a\"],[0.8888888888888888,\"#fdca26\"],[1.0,\"#f0f921\"]],\"diverging\":[[0,\"#8e0152\"],[0.1,\"#c51b7d\"],[0.2,\"#de77ae\"],[0.3,\"#f1b6da\"],[0.4,\"#fde0ef\"],[0.5,\"#f7f7f7\"],[0.6,\"#e6f5d0\"],[0.7,\"#b8e186\"],[0.8,\"#7fbc41\"],[0.9,\"#4d9221\"],[1,\"#276419\"]]},\"xaxis\":{\"gridcolor\":\"#283442\",\"linecolor\":\"#506784\",\"ticks\":\"\",\"title\":{\"standoff\":15},\"zerolinecolor\":\"#283442\",\"automargin\":true,\"zerolinewidth\":2},\"yaxis\":{\"gridcolor\":\"#283442\",\"linecolor\":\"#506784\",\"ticks\":\"\",\"title\":{\"standoff\":15},\"zerolinecolor\":\"#283442\",\"automargin\":true,\"zerolinewidth\":2},\"scene\":{\"xaxis\":{\"backgroundcolor\":\"rgb(17,17,17)\",\"gridcolor\":\"#506784\",\"linecolor\":\"#506784\",\"showbackground\":true,\"ticks\":\"\",\"zerolinecolor\":\"#C8D4E3\",\"gridwidth\":2},\"yaxis\":{\"backgroundcolor\":\"rgb(17,17,17)\",\"gridcolor\":\"#506784\",\"linecolor\":\"#506784\",\"showbackground\":true,\"ticks\":\"\",\"zerolinecolor\":\"#C8D4E3\",\"gridwidth\":2},\"zaxis\":{\"backgroundcolor\":\"rgb(17,17,17)\",\"gridcolor\":\"#506784\",\"linecolor\":\"#506784\",\"showbackground\":true,\"ticks\":\"\",\"zerolinecolor\":\"#C8D4E3\",\"gridwidth\":2}},\"shapedefaults\":{\"line\":{\"color\":\"#f2f5fa\"}},\"annotationdefaults\":{\"arrowcolor\":\"#f2f5fa\",\"arrowhead\":0,\"arrowwidth\":1},\"geo\":{\"bgcolor\":\"rgb(17,17,17)\",\"landcolor\":\"rgb(17,17,17)\",\"subunitcolor\":\"#506784\",\"showland\":true,\"showlakes\":true,\"lakecolor\":\"rgb(17,17,17)\"},\"title\":{\"x\":0.05},\"updatemenudefaults\":{\"bgcolor\":\"#506784\",\"borderwidth\":0},\"sliderdefaults\":{\"bgcolor\":\"#C8D4E3\",\"borderwidth\":1,\"bordercolor\":\"rgb(17,17,17)\",\"tickwidth\":0},\"mapbox\":{\"style\":\"dark\"}}},\"xaxis\":{\"anchor\":\"y\",\"domain\":[0.0,1.0],\"title\":{\"text\":\"Human Development Index\"}},\"yaxis\":{\"anchor\":\"x\",\"domain\":[0.0,0.7326],\"title\":{\"text\":\"count\"}},\"xaxis2\":{\"anchor\":\"y2\",\"domain\":[0.0,1.0],\"matches\":\"x\",\"showticklabels\":false,\"showgrid\":true},\"yaxis2\":{\"anchor\":\"x2\",\"domain\":[0.7426,1.0],\"matches\":\"y2\",\"showticklabels\":false,\"showline\":false,\"ticks\":\"\",\"showgrid\":false},\"legend\":{\"title\":{\"text\":\"reference\"},\"tracegroupgap\":0},\"title\":{\"text\":\"Histogram Human Development Index per year with 2020 as reference\"},\"barmode\":\"relative\"},                        {\"responsive\": true}                    ).then(function(){\n                            \nvar gd = document.getElementById('fd4ac4a7-caec-40be-a0eb-81c7482c563a');\nvar x = new MutationObserver(function (mutations, observer) {{\n        var display = window.getComputedStyle(gd).display;\n        if (!display || display === 'none') {{\n            console.log([gd, 'removed!']);\n            Plotly.purge(gd);\n            observer.disconnect();\n        }}\n}});\n\n// Listen for the removal of the full notebook cells\nvar notebookContainer = gd.closest('#notebook-container');\nif (notebookContainer) {{\n    x.observe(notebookContainer, {childList: true});\n}}\n\n// Listen for the clearing of the current output cell\nvar outputEl = gd.closest('.output');\nif (outputEl) {{\n    x.observe(outputEl, {childList: true});\n}}\n\n                        })                };                });            </script>        </div>"
     },
     "metadata": {},
     "output_type": "display_data"
    },
    {
     "name": "stdout",
     "output_type": "stream",
     "text": [
      "La somme des True = 37 et la somme des False = 35 \n"
     ]
    },
    {
     "data": {
      "text/plain": "      Year         Country Continent           Region  \\\n21    2000         Albania    Europe  Southern Europe   \n36    2015         Albania    Europe  Southern Europe   \n189   2000         Austria    Europe   Western Europe   \n204   2015         Austria    Europe   Western Europe   \n315   2000         Belarus    Europe   Eastern Europe   \n...    ...             ...       ...              ...   \n3223  2015     Switzerland    Europe   Western Europe   \n3439  2000         Ukraine    Europe   Eastern Europe   \n3454  2015         Ukraine    Europe   Eastern Europe   \n3481  2000  United Kingdom    Europe  Northern Europe   \n3496  2015  United Kingdom    Europe  Northern Europe   \n\n      Human Development Index  reference  \n21                      0.677      False  \n36                      0.795       True  \n189                     0.871      False  \n204                     0.910       True  \n315                     0.712      False  \n...                       ...        ...  \n3223                    0.954       True  \n3439                    0.700      False  \n3454                    0.774       True  \n3481                    0.862      False  \n3496                    0.924       True  \n\n[72 rows x 6 columns]",
      "text/html": "<div>\n<style scoped>\n    .dataframe tbody tr th:only-of-type {\n        vertical-align: middle;\n    }\n\n    .dataframe tbody tr th {\n        vertical-align: top;\n    }\n\n    .dataframe thead th {\n        text-align: right;\n    }\n</style>\n<table border=\"1\" class=\"dataframe\">\n  <thead>\n    <tr style=\"text-align: right;\">\n      <th></th>\n      <th>Year</th>\n      <th>Country</th>\n      <th>Continent</th>\n      <th>Region</th>\n      <th>Human Development Index</th>\n      <th>reference</th>\n    </tr>\n  </thead>\n  <tbody>\n    <tr>\n      <th>21</th>\n      <td>2000</td>\n      <td>Albania</td>\n      <td>Europe</td>\n      <td>Southern Europe</td>\n      <td>0.677</td>\n      <td>False</td>\n    </tr>\n    <tr>\n      <th>36</th>\n      <td>2015</td>\n      <td>Albania</td>\n      <td>Europe</td>\n      <td>Southern Europe</td>\n      <td>0.795</td>\n      <td>True</td>\n    </tr>\n    <tr>\n      <th>189</th>\n      <td>2000</td>\n      <td>Austria</td>\n      <td>Europe</td>\n      <td>Western Europe</td>\n      <td>0.871</td>\n      <td>False</td>\n    </tr>\n    <tr>\n      <th>204</th>\n      <td>2015</td>\n      <td>Austria</td>\n      <td>Europe</td>\n      <td>Western Europe</td>\n      <td>0.910</td>\n      <td>True</td>\n    </tr>\n    <tr>\n      <th>315</th>\n      <td>2000</td>\n      <td>Belarus</td>\n      <td>Europe</td>\n      <td>Eastern Europe</td>\n      <td>0.712</td>\n      <td>False</td>\n    </tr>\n    <tr>\n      <th>...</th>\n      <td>...</td>\n      <td>...</td>\n      <td>...</td>\n      <td>...</td>\n      <td>...</td>\n      <td>...</td>\n    </tr>\n    <tr>\n      <th>3223</th>\n      <td>2015</td>\n      <td>Switzerland</td>\n      <td>Europe</td>\n      <td>Western Europe</td>\n      <td>0.954</td>\n      <td>True</td>\n    </tr>\n    <tr>\n      <th>3439</th>\n      <td>2000</td>\n      <td>Ukraine</td>\n      <td>Europe</td>\n      <td>Eastern Europe</td>\n      <td>0.700</td>\n      <td>False</td>\n    </tr>\n    <tr>\n      <th>3454</th>\n      <td>2015</td>\n      <td>Ukraine</td>\n      <td>Europe</td>\n      <td>Eastern Europe</td>\n      <td>0.774</td>\n      <td>True</td>\n    </tr>\n    <tr>\n      <th>3481</th>\n      <td>2000</td>\n      <td>United Kingdom</td>\n      <td>Europe</td>\n      <td>Northern Europe</td>\n      <td>0.862</td>\n      <td>False</td>\n    </tr>\n    <tr>\n      <th>3496</th>\n      <td>2015</td>\n      <td>United Kingdom</td>\n      <td>Europe</td>\n      <td>Northern Europe</td>\n      <td>0.924</td>\n      <td>True</td>\n    </tr>\n  </tbody>\n</table>\n<p>72 rows × 6 columns</p>\n</div>"
     },
     "execution_count": 16,
     "metadata": {},
     "output_type": "execute_result"
    }
   ],
   "source": [
    "def histo_HDI(df_histo : pd.DataFrame = df_energy, area_type : str = \"Continent\", area_name : str = \"Europe\", year : int = 2000, reference_name : str = \"France\", reference_year : int = 2015) -> go.Figure :\n",
    "    \"\"\"\n",
    "    histo_HDI make a histogram with the frequency of HDI for a given area type. The slider change the year of observation. The area name is the current country observed.\n",
    "    :param reference_year: \n",
    "    :param reference_name: \n",
    "    :param df_histo: \n",
    "    :param area_type: \n",
    "    :param area_name: \n",
    "    :param year: \n",
    "    :return: \n",
    "    \"\"\"\n",
    "        \n",
    "    # Selection feature needed\n",
    "    df_histo = pd.DataFrame(data=df_histo, columns=['Year', 'Country', 'Continent', 'Region', 'Human Development Index'])\n",
    "    \n",
    "    # Filtering by the area_name and the year + the reference year for this same are_name\n",
    "    df_histo_filtered = df_histo.query(f\"({area_type} == '{area_name}') and (Year == {year} or Year == {reference_year})\")\n",
    "\n",
    "    # Creation of the feature 'reference' that is a boolean.\n",
    "    df_histo_filtered['reference'] = df_histo_filtered['Year'] == reference_year\n",
    "    \n",
    "\n",
    "    # assert (df_histo_filtered['reference'] == True).sum() == (df_histo_filtered['reference'] == False).sum(), \"<-- Some data are missing -->\"\n",
    "    \n",
    "    fig = px.histogram(df_histo_filtered, \n",
    "                       x=\"Human Development Index\", \n",
    "                       marginal=\"box\",  #[\"rug\", \"box\", \"violin\"]\n",
    "                       color=\"reference\",   \n",
    "                       title='Histogram Human Development Index per year with 2020 as reference',\n",
    "                       pattern_shape=\"reference\",\n",
    "                       opacity=1,\n",
    "                       template=THEME,\n",
    "                       text_auto=True,\n",
    "                       ) \n",
    "    fig.show()\n",
    "    \n",
    "    print(f\"La somme des True = {(df_histo_filtered['reference'] == True).sum()} et la somme des False = {(df_histo_filtered['reference'] == False).sum()} \")\n",
    "\n",
    "    return df_histo_filtered\n",
    "\n",
    "histo_HDI()"
   ],
   "metadata": {
    "collapsed": false,
    "ExecuteTime": {
     "end_time": "2023-10-25T17:35:54.882889700Z",
     "start_time": "2023-10-25T17:35:54.530642800Z"
    }
   },
   "id": "c42787f2c320f4b1"
  },
  {
   "cell_type": "code",
   "execution_count": 17,
   "outputs": [
    {
     "name": "stderr",
     "output_type": "stream",
     "text": [
      "C:\\Users\\antoi\\AppData\\Local\\Temp\\ipykernel_19040\\2336144923.py:21: SettingWithCopyWarning:\n",
      "\n",
      "\n",
      "A value is trying to be set on a copy of a slice from a DataFrame.\n",
      "Try using .loc[row_indexer,col_indexer] = value instead\n",
      "\n",
      "See the caveats in the documentation: https://pandas.pydata.org/pandas-docs/stable/user_guide/indexing.html#returning-a-view-versus-a-copy\n",
      "\n"
     ]
    },
    {
     "data": {
      "application/vnd.plotly.v1+json": {
       "data": [
        {
         "alignmentgroup": "True",
         "bingroup": "x",
         "hovertemplate": "reference=False<br>Year=2000<br>Human Development Index=%{x}<br>count=%{y}<extra></extra>",
         "legendgroup": "False",
         "marker": {
          "color": "#636efa",
          "opacity": 1,
          "pattern": {
           "shape": ""
          }
         },
         "name": "False",
         "offsetgroup": "False",
         "orientation": "v",
         "showlegend": true,
         "texttemplate": "%{value}",
         "x": [
          0.677,
          0.871,
          0.712,
          0.887,
          0.667,
          0.725,
          0.759,
          0.808,
          0.889,
          0.787,
          0.891,
          0.844,
          0.889,
          0.81,
          0.773,
          0.871,
          0.847,
          0.841,
          0.756,
          0.766,
          0.864,
          0.779,
          0.893,
          0.675,
          0.913,
          0.793,
          0.791,
          0.715,
          0.763,
          0.821,
          0.825,
          0.904,
          0.887,
          0.7,
          0.862
         ],
         "xaxis": "x",
         "yaxis": "y",
         "type": "histogram"
        },
        {
         "alignmentgroup": "True",
         "hovertemplate": "reference=False<br>Year=2000<br>Human Development Index=%{x}<extra></extra>",
         "legendgroup": "False",
         "marker": {
          "color": "#636efa"
         },
         "name": "False",
         "notched": true,
         "offsetgroup": "False",
         "showlegend": false,
         "x": [
          0.677,
          0.871,
          0.712,
          0.887,
          0.667,
          0.725,
          0.759,
          0.808,
          0.889,
          0.787,
          0.891,
          0.844,
          0.889,
          0.81,
          0.773,
          0.871,
          0.847,
          0.841,
          0.756,
          0.766,
          0.864,
          0.779,
          0.893,
          0.675,
          0.913,
          0.793,
          0.791,
          0.715,
          0.763,
          0.821,
          0.825,
          0.904,
          0.887,
          0.7,
          0.862
         ],
         "xaxis": "x2",
         "yaxis": "y2",
         "type": "box"
        }
       ],
       "layout": {
        "template": {
         "data": {
          "histogram2dcontour": [
           {
            "type": "histogram2dcontour",
            "colorbar": {
             "outlinewidth": 0,
             "ticks": ""
            },
            "colorscale": [
             [
              0.0,
              "#0d0887"
             ],
             [
              0.1111111111111111,
              "#46039f"
             ],
             [
              0.2222222222222222,
              "#7201a8"
             ],
             [
              0.3333333333333333,
              "#9c179e"
             ],
             [
              0.4444444444444444,
              "#bd3786"
             ],
             [
              0.5555555555555556,
              "#d8576b"
             ],
             [
              0.6666666666666666,
              "#ed7953"
             ],
             [
              0.7777777777777778,
              "#fb9f3a"
             ],
             [
              0.8888888888888888,
              "#fdca26"
             ],
             [
              1.0,
              "#f0f921"
             ]
            ]
           }
          ],
          "choropleth": [
           {
            "type": "choropleth",
            "colorbar": {
             "outlinewidth": 0,
             "ticks": ""
            }
           }
          ],
          "histogram2d": [
           {
            "type": "histogram2d",
            "colorbar": {
             "outlinewidth": 0,
             "ticks": ""
            },
            "colorscale": [
             [
              0.0,
              "#0d0887"
             ],
             [
              0.1111111111111111,
              "#46039f"
             ],
             [
              0.2222222222222222,
              "#7201a8"
             ],
             [
              0.3333333333333333,
              "#9c179e"
             ],
             [
              0.4444444444444444,
              "#bd3786"
             ],
             [
              0.5555555555555556,
              "#d8576b"
             ],
             [
              0.6666666666666666,
              "#ed7953"
             ],
             [
              0.7777777777777778,
              "#fb9f3a"
             ],
             [
              0.8888888888888888,
              "#fdca26"
             ],
             [
              1.0,
              "#f0f921"
             ]
            ]
           }
          ],
          "heatmap": [
           {
            "type": "heatmap",
            "colorbar": {
             "outlinewidth": 0,
             "ticks": ""
            },
            "colorscale": [
             [
              0.0,
              "#0d0887"
             ],
             [
              0.1111111111111111,
              "#46039f"
             ],
             [
              0.2222222222222222,
              "#7201a8"
             ],
             [
              0.3333333333333333,
              "#9c179e"
             ],
             [
              0.4444444444444444,
              "#bd3786"
             ],
             [
              0.5555555555555556,
              "#d8576b"
             ],
             [
              0.6666666666666666,
              "#ed7953"
             ],
             [
              0.7777777777777778,
              "#fb9f3a"
             ],
             [
              0.8888888888888888,
              "#fdca26"
             ],
             [
              1.0,
              "#f0f921"
             ]
            ]
           }
          ],
          "heatmapgl": [
           {
            "type": "heatmapgl",
            "colorbar": {
             "outlinewidth": 0,
             "ticks": ""
            },
            "colorscale": [
             [
              0.0,
              "#0d0887"
             ],
             [
              0.1111111111111111,
              "#46039f"
             ],
             [
              0.2222222222222222,
              "#7201a8"
             ],
             [
              0.3333333333333333,
              "#9c179e"
             ],
             [
              0.4444444444444444,
              "#bd3786"
             ],
             [
              0.5555555555555556,
              "#d8576b"
             ],
             [
              0.6666666666666666,
              "#ed7953"
             ],
             [
              0.7777777777777778,
              "#fb9f3a"
             ],
             [
              0.8888888888888888,
              "#fdca26"
             ],
             [
              1.0,
              "#f0f921"
             ]
            ]
           }
          ],
          "contourcarpet": [
           {
            "type": "contourcarpet",
            "colorbar": {
             "outlinewidth": 0,
             "ticks": ""
            }
           }
          ],
          "contour": [
           {
            "type": "contour",
            "colorbar": {
             "outlinewidth": 0,
             "ticks": ""
            },
            "colorscale": [
             [
              0.0,
              "#0d0887"
             ],
             [
              0.1111111111111111,
              "#46039f"
             ],
             [
              0.2222222222222222,
              "#7201a8"
             ],
             [
              0.3333333333333333,
              "#9c179e"
             ],
             [
              0.4444444444444444,
              "#bd3786"
             ],
             [
              0.5555555555555556,
              "#d8576b"
             ],
             [
              0.6666666666666666,
              "#ed7953"
             ],
             [
              0.7777777777777778,
              "#fb9f3a"
             ],
             [
              0.8888888888888888,
              "#fdca26"
             ],
             [
              1.0,
              "#f0f921"
             ]
            ]
           }
          ],
          "surface": [
           {
            "type": "surface",
            "colorbar": {
             "outlinewidth": 0,
             "ticks": ""
            },
            "colorscale": [
             [
              0.0,
              "#0d0887"
             ],
             [
              0.1111111111111111,
              "#46039f"
             ],
             [
              0.2222222222222222,
              "#7201a8"
             ],
             [
              0.3333333333333333,
              "#9c179e"
             ],
             [
              0.4444444444444444,
              "#bd3786"
             ],
             [
              0.5555555555555556,
              "#d8576b"
             ],
             [
              0.6666666666666666,
              "#ed7953"
             ],
             [
              0.7777777777777778,
              "#fb9f3a"
             ],
             [
              0.8888888888888888,
              "#fdca26"
             ],
             [
              1.0,
              "#f0f921"
             ]
            ]
           }
          ],
          "mesh3d": [
           {
            "type": "mesh3d",
            "colorbar": {
             "outlinewidth": 0,
             "ticks": ""
            }
           }
          ],
          "scatter": [
           {
            "marker": {
             "line": {
              "color": "#283442"
             }
            },
            "type": "scatter"
           }
          ],
          "parcoords": [
           {
            "type": "parcoords",
            "line": {
             "colorbar": {
              "outlinewidth": 0,
              "ticks": ""
             }
            }
           }
          ],
          "scatterpolargl": [
           {
            "type": "scatterpolargl",
            "marker": {
             "colorbar": {
              "outlinewidth": 0,
              "ticks": ""
             }
            }
           }
          ],
          "bar": [
           {
            "error_x": {
             "color": "#f2f5fa"
            },
            "error_y": {
             "color": "#f2f5fa"
            },
            "marker": {
             "line": {
              "color": "rgb(17,17,17)",
              "width": 0.5
             },
             "pattern": {
              "fillmode": "overlay",
              "size": 10,
              "solidity": 0.2
             }
            },
            "type": "bar"
           }
          ],
          "scattergeo": [
           {
            "type": "scattergeo",
            "marker": {
             "colorbar": {
              "outlinewidth": 0,
              "ticks": ""
             }
            }
           }
          ],
          "scatterpolar": [
           {
            "type": "scatterpolar",
            "marker": {
             "colorbar": {
              "outlinewidth": 0,
              "ticks": ""
             }
            }
           }
          ],
          "histogram": [
           {
            "marker": {
             "pattern": {
              "fillmode": "overlay",
              "size": 10,
              "solidity": 0.2
             }
            },
            "type": "histogram"
           }
          ],
          "scattergl": [
           {
            "marker": {
             "line": {
              "color": "#283442"
             }
            },
            "type": "scattergl"
           }
          ],
          "scatter3d": [
           {
            "type": "scatter3d",
            "line": {
             "colorbar": {
              "outlinewidth": 0,
              "ticks": ""
             }
            },
            "marker": {
             "colorbar": {
              "outlinewidth": 0,
              "ticks": ""
             }
            }
           }
          ],
          "scattermapbox": [
           {
            "type": "scattermapbox",
            "marker": {
             "colorbar": {
              "outlinewidth": 0,
              "ticks": ""
             }
            }
           }
          ],
          "scatterternary": [
           {
            "type": "scatterternary",
            "marker": {
             "colorbar": {
              "outlinewidth": 0,
              "ticks": ""
             }
            }
           }
          ],
          "scattercarpet": [
           {
            "type": "scattercarpet",
            "marker": {
             "colorbar": {
              "outlinewidth": 0,
              "ticks": ""
             }
            }
           }
          ],
          "carpet": [
           {
            "aaxis": {
             "endlinecolor": "#A2B1C6",
             "gridcolor": "#506784",
             "linecolor": "#506784",
             "minorgridcolor": "#506784",
             "startlinecolor": "#A2B1C6"
            },
            "baxis": {
             "endlinecolor": "#A2B1C6",
             "gridcolor": "#506784",
             "linecolor": "#506784",
             "minorgridcolor": "#506784",
             "startlinecolor": "#A2B1C6"
            },
            "type": "carpet"
           }
          ],
          "table": [
           {
            "cells": {
             "fill": {
              "color": "#506784"
             },
             "line": {
              "color": "rgb(17,17,17)"
             }
            },
            "header": {
             "fill": {
              "color": "#2a3f5f"
             },
             "line": {
              "color": "rgb(17,17,17)"
             }
            },
            "type": "table"
           }
          ],
          "barpolar": [
           {
            "marker": {
             "line": {
              "color": "rgb(17,17,17)",
              "width": 0.5
             },
             "pattern": {
              "fillmode": "overlay",
              "size": 10,
              "solidity": 0.2
             }
            },
            "type": "barpolar"
           }
          ],
          "pie": [
           {
            "automargin": true,
            "type": "pie"
           }
          ]
         },
         "layout": {
          "autotypenumbers": "strict",
          "colorway": [
           "#636efa",
           "#EF553B",
           "#00cc96",
           "#ab63fa",
           "#FFA15A",
           "#19d3f3",
           "#FF6692",
           "#B6E880",
           "#FF97FF",
           "#FECB52"
          ],
          "font": {
           "color": "#f2f5fa"
          },
          "hovermode": "closest",
          "hoverlabel": {
           "align": "left"
          },
          "paper_bgcolor": "rgb(17,17,17)",
          "plot_bgcolor": "rgb(17,17,17)",
          "polar": {
           "bgcolor": "rgb(17,17,17)",
           "angularaxis": {
            "gridcolor": "#506784",
            "linecolor": "#506784",
            "ticks": ""
           },
           "radialaxis": {
            "gridcolor": "#506784",
            "linecolor": "#506784",
            "ticks": ""
           }
          },
          "ternary": {
           "bgcolor": "rgb(17,17,17)",
           "aaxis": {
            "gridcolor": "#506784",
            "linecolor": "#506784",
            "ticks": ""
           },
           "baxis": {
            "gridcolor": "#506784",
            "linecolor": "#506784",
            "ticks": ""
           },
           "caxis": {
            "gridcolor": "#506784",
            "linecolor": "#506784",
            "ticks": ""
           }
          },
          "coloraxis": {
           "colorbar": {
            "outlinewidth": 0,
            "ticks": ""
           }
          },
          "colorscale": {
           "sequential": [
            [
             0.0,
             "#0d0887"
            ],
            [
             0.1111111111111111,
             "#46039f"
            ],
            [
             0.2222222222222222,
             "#7201a8"
            ],
            [
             0.3333333333333333,
             "#9c179e"
            ],
            [
             0.4444444444444444,
             "#bd3786"
            ],
            [
             0.5555555555555556,
             "#d8576b"
            ],
            [
             0.6666666666666666,
             "#ed7953"
            ],
            [
             0.7777777777777778,
             "#fb9f3a"
            ],
            [
             0.8888888888888888,
             "#fdca26"
            ],
            [
             1.0,
             "#f0f921"
            ]
           ],
           "sequentialminus": [
            [
             0.0,
             "#0d0887"
            ],
            [
             0.1111111111111111,
             "#46039f"
            ],
            [
             0.2222222222222222,
             "#7201a8"
            ],
            [
             0.3333333333333333,
             "#9c179e"
            ],
            [
             0.4444444444444444,
             "#bd3786"
            ],
            [
             0.5555555555555556,
             "#d8576b"
            ],
            [
             0.6666666666666666,
             "#ed7953"
            ],
            [
             0.7777777777777778,
             "#fb9f3a"
            ],
            [
             0.8888888888888888,
             "#fdca26"
            ],
            [
             1.0,
             "#f0f921"
            ]
           ],
           "diverging": [
            [
             0,
             "#8e0152"
            ],
            [
             0.1,
             "#c51b7d"
            ],
            [
             0.2,
             "#de77ae"
            ],
            [
             0.3,
             "#f1b6da"
            ],
            [
             0.4,
             "#fde0ef"
            ],
            [
             0.5,
             "#f7f7f7"
            ],
            [
             0.6,
             "#e6f5d0"
            ],
            [
             0.7,
             "#b8e186"
            ],
            [
             0.8,
             "#7fbc41"
            ],
            [
             0.9,
             "#4d9221"
            ],
            [
             1,
             "#276419"
            ]
           ]
          },
          "xaxis": {
           "gridcolor": "#283442",
           "linecolor": "#506784",
           "ticks": "",
           "title": {
            "standoff": 15
           },
           "zerolinecolor": "#283442",
           "automargin": true,
           "zerolinewidth": 2
          },
          "yaxis": {
           "gridcolor": "#283442",
           "linecolor": "#506784",
           "ticks": "",
           "title": {
            "standoff": 15
           },
           "zerolinecolor": "#283442",
           "automargin": true,
           "zerolinewidth": 2
          },
          "scene": {
           "xaxis": {
            "backgroundcolor": "rgb(17,17,17)",
            "gridcolor": "#506784",
            "linecolor": "#506784",
            "showbackground": true,
            "ticks": "",
            "zerolinecolor": "#C8D4E3",
            "gridwidth": 2
           },
           "yaxis": {
            "backgroundcolor": "rgb(17,17,17)",
            "gridcolor": "#506784",
            "linecolor": "#506784",
            "showbackground": true,
            "ticks": "",
            "zerolinecolor": "#C8D4E3",
            "gridwidth": 2
           },
           "zaxis": {
            "backgroundcolor": "rgb(17,17,17)",
            "gridcolor": "#506784",
            "linecolor": "#506784",
            "showbackground": true,
            "ticks": "",
            "zerolinecolor": "#C8D4E3",
            "gridwidth": 2
           }
          },
          "shapedefaults": {
           "line": {
            "color": "#f2f5fa"
           }
          },
          "annotationdefaults": {
           "arrowcolor": "#f2f5fa",
           "arrowhead": 0,
           "arrowwidth": 1
          },
          "geo": {
           "bgcolor": "rgb(17,17,17)",
           "landcolor": "rgb(17,17,17)",
           "subunitcolor": "#506784",
           "showland": true,
           "showlakes": true,
           "lakecolor": "rgb(17,17,17)"
          },
          "title": {
           "x": 0.05
          },
          "updatemenudefaults": {
           "bgcolor": "#506784",
           "borderwidth": 0
          },
          "sliderdefaults": {
           "bgcolor": "#C8D4E3",
           "borderwidth": 1,
           "bordercolor": "rgb(17,17,17)",
           "tickwidth": 0
          },
          "mapbox": {
           "style": "dark"
          }
         }
        },
        "xaxis": {
         "anchor": "y",
         "domain": [
          0.0,
          1.0
         ],
         "title": {
          "text": "Human Development Index"
         }
        },
        "yaxis": {
         "anchor": "x",
         "domain": [
          0.0,
          0.7326
         ],
         "title": {
          "text": "count"
         }
        },
        "xaxis2": {
         "anchor": "y2",
         "domain": [
          0.0,
          1.0
         ],
         "matches": "x",
         "showticklabels": false,
         "showgrid": true
        },
        "yaxis2": {
         "anchor": "x2",
         "domain": [
          0.7426,
          1.0
         ],
         "matches": "y2",
         "showticklabels": false,
         "showline": false,
         "ticks": "",
         "showgrid": false
        },
        "legend": {
         "title": {
          "text": "reference"
         },
         "tracegroupgap": 0
        },
        "title": {
         "text": "Histogram Human Development Index per year with 2020 as reference"
        },
        "barmode": "relative",
        "updatemenus": [
         {
          "buttons": [
           {
            "args": [
             null,
             {
              "frame": {
               "duration": 500,
               "redraw": true
              },
              "mode": "immediate",
              "fromcurrent": true,
              "transition": {
               "duration": 500,
               "easing": "linear"
              }
             }
            ],
            "label": "&#9654;",
            "method": "animate"
           },
           {
            "args": [
             [
              null
             ],
             {
              "frame": {
               "duration": 0,
               "redraw": true
              },
              "mode": "immediate",
              "fromcurrent": true,
              "transition": {
               "duration": 0,
               "easing": "linear"
              }
             }
            ],
            "label": "&#9724;",
            "method": "animate"
           }
          ],
          "direction": "left",
          "pad": {
           "r": 10,
           "t": 70
          },
          "showactive": false,
          "type": "buttons",
          "x": 0.1,
          "xanchor": "right",
          "y": 0,
          "yanchor": "top"
         }
        ],
        "sliders": [
         {
          "active": 0,
          "currentvalue": {
           "prefix": "Year="
          },
          "len": 0.9,
          "pad": {
           "b": 10,
           "t": 60
          },
          "steps": [
           {
            "args": [
             [
              "2000"
             ],
             {
              "frame": {
               "duration": 0,
               "redraw": true
              },
              "mode": "immediate",
              "fromcurrent": true,
              "transition": {
               "duration": 0,
               "easing": "linear"
              }
             }
            ],
            "label": "2000",
            "method": "animate"
           },
           {
            "args": [
             [
              "2001"
             ],
             {
              "frame": {
               "duration": 0,
               "redraw": true
              },
              "mode": "immediate",
              "fromcurrent": true,
              "transition": {
               "duration": 0,
               "easing": "linear"
              }
             }
            ],
            "label": "2001",
            "method": "animate"
           },
           {
            "args": [
             [
              "2002"
             ],
             {
              "frame": {
               "duration": 0,
               "redraw": true
              },
              "mode": "immediate",
              "fromcurrent": true,
              "transition": {
               "duration": 0,
               "easing": "linear"
              }
             }
            ],
            "label": "2002",
            "method": "animate"
           },
           {
            "args": [
             [
              "2003"
             ],
             {
              "frame": {
               "duration": 0,
               "redraw": true
              },
              "mode": "immediate",
              "fromcurrent": true,
              "transition": {
               "duration": 0,
               "easing": "linear"
              }
             }
            ],
            "label": "2003",
            "method": "animate"
           },
           {
            "args": [
             [
              "2004"
             ],
             {
              "frame": {
               "duration": 0,
               "redraw": true
              },
              "mode": "immediate",
              "fromcurrent": true,
              "transition": {
               "duration": 0,
               "easing": "linear"
              }
             }
            ],
            "label": "2004",
            "method": "animate"
           },
           {
            "args": [
             [
              "2005"
             ],
             {
              "frame": {
               "duration": 0,
               "redraw": true
              },
              "mode": "immediate",
              "fromcurrent": true,
              "transition": {
               "duration": 0,
               "easing": "linear"
              }
             }
            ],
            "label": "2005",
            "method": "animate"
           },
           {
            "args": [
             [
              "2006"
             ],
             {
              "frame": {
               "duration": 0,
               "redraw": true
              },
              "mode": "immediate",
              "fromcurrent": true,
              "transition": {
               "duration": 0,
               "easing": "linear"
              }
             }
            ],
            "label": "2006",
            "method": "animate"
           },
           {
            "args": [
             [
              "2007"
             ],
             {
              "frame": {
               "duration": 0,
               "redraw": true
              },
              "mode": "immediate",
              "fromcurrent": true,
              "transition": {
               "duration": 0,
               "easing": "linear"
              }
             }
            ],
            "label": "2007",
            "method": "animate"
           },
           {
            "args": [
             [
              "2008"
             ],
             {
              "frame": {
               "duration": 0,
               "redraw": true
              },
              "mode": "immediate",
              "fromcurrent": true,
              "transition": {
               "duration": 0,
               "easing": "linear"
              }
             }
            ],
            "label": "2008",
            "method": "animate"
           },
           {
            "args": [
             [
              "2009"
             ],
             {
              "frame": {
               "duration": 0,
               "redraw": true
              },
              "mode": "immediate",
              "fromcurrent": true,
              "transition": {
               "duration": 0,
               "easing": "linear"
              }
             }
            ],
            "label": "2009",
            "method": "animate"
           },
           {
            "args": [
             [
              "2010"
             ],
             {
              "frame": {
               "duration": 0,
               "redraw": true
              },
              "mode": "immediate",
              "fromcurrent": true,
              "transition": {
               "duration": 0,
               "easing": "linear"
              }
             }
            ],
            "label": "2010",
            "method": "animate"
           },
           {
            "args": [
             [
              "2011"
             ],
             {
              "frame": {
               "duration": 0,
               "redraw": true
              },
              "mode": "immediate",
              "fromcurrent": true,
              "transition": {
               "duration": 0,
               "easing": "linear"
              }
             }
            ],
            "label": "2011",
            "method": "animate"
           },
           {
            "args": [
             [
              "2012"
             ],
             {
              "frame": {
               "duration": 0,
               "redraw": true
              },
              "mode": "immediate",
              "fromcurrent": true,
              "transition": {
               "duration": 0,
               "easing": "linear"
              }
             }
            ],
            "label": "2012",
            "method": "animate"
           },
           {
            "args": [
             [
              "2013"
             ],
             {
              "frame": {
               "duration": 0,
               "redraw": true
              },
              "mode": "immediate",
              "fromcurrent": true,
              "transition": {
               "duration": 0,
               "easing": "linear"
              }
             }
            ],
            "label": "2013",
            "method": "animate"
           },
           {
            "args": [
             [
              "2014"
             ],
             {
              "frame": {
               "duration": 0,
               "redraw": true
              },
              "mode": "immediate",
              "fromcurrent": true,
              "transition": {
               "duration": 0,
               "easing": "linear"
              }
             }
            ],
            "label": "2014",
            "method": "animate"
           },
           {
            "args": [
             [
              "2015"
             ],
             {
              "frame": {
               "duration": 0,
               "redraw": true
              },
              "mode": "immediate",
              "fromcurrent": true,
              "transition": {
               "duration": 0,
               "easing": "linear"
              }
             }
            ],
            "label": "2015",
            "method": "animate"
           },
           {
            "args": [
             [
              "2016"
             ],
             {
              "frame": {
               "duration": 0,
               "redraw": true
              },
              "mode": "immediate",
              "fromcurrent": true,
              "transition": {
               "duration": 0,
               "easing": "linear"
              }
             }
            ],
            "label": "2016",
            "method": "animate"
           },
           {
            "args": [
             [
              "2017"
             ],
             {
              "frame": {
               "duration": 0,
               "redraw": true
              },
              "mode": "immediate",
              "fromcurrent": true,
              "transition": {
               "duration": 0,
               "easing": "linear"
              }
             }
            ],
            "label": "2017",
            "method": "animate"
           },
           {
            "args": [
             [
              "2018"
             ],
             {
              "frame": {
               "duration": 0,
               "redraw": true
              },
              "mode": "immediate",
              "fromcurrent": true,
              "transition": {
               "duration": 0,
               "easing": "linear"
              }
             }
            ],
            "label": "2018",
            "method": "animate"
           },
           {
            "args": [
             [
              "2019"
             ],
             {
              "frame": {
               "duration": 0,
               "redraw": true
              },
              "mode": "immediate",
              "fromcurrent": true,
              "transition": {
               "duration": 0,
               "easing": "linear"
              }
             }
            ],
            "label": "2019",
            "method": "animate"
           },
           {
            "args": [
             [
              "2020"
             ],
             {
              "frame": {
               "duration": 0,
               "redraw": true
              },
              "mode": "immediate",
              "fromcurrent": true,
              "transition": {
               "duration": 0,
               "easing": "linear"
              }
             }
            ],
            "label": "2020",
            "method": "animate"
           }
          ],
          "x": 0.1,
          "xanchor": "left",
          "y": 0,
          "yanchor": "top"
         }
        ]
       },
       "frames": [
        {
         "data": [
          {
           "alignmentgroup": "True",
           "bingroup": "x",
           "hovertemplate": "reference=False<br>Year=2000<br>Human Development Index=%{x}<br>count=%{y}<extra></extra>",
           "legendgroup": "False",
           "marker": {
            "color": "#636efa",
            "opacity": 1,
            "pattern": {
             "shape": ""
            }
           },
           "name": "False",
           "offsetgroup": "False",
           "orientation": "v",
           "showlegend": true,
           "texttemplate": "%{value}",
           "x": [
            0.677,
            0.871,
            0.712,
            0.887,
            0.667,
            0.725,
            0.759,
            0.808,
            0.889,
            0.787,
            0.891,
            0.844,
            0.889,
            0.81,
            0.773,
            0.871,
            0.847,
            0.841,
            0.756,
            0.766,
            0.864,
            0.779,
            0.893,
            0.675,
            0.913,
            0.793,
            0.791,
            0.715,
            0.763,
            0.821,
            0.825,
            0.904,
            0.887,
            0.7,
            0.862
           ],
           "xaxis": "x",
           "yaxis": "y",
           "type": "histogram"
          },
          {
           "alignmentgroup": "True",
           "hovertemplate": "reference=False<br>Year=2000<br>Human Development Index=%{x}<extra></extra>",
           "legendgroup": "False",
           "marker": {
            "color": "#636efa"
           },
           "name": "False",
           "notched": true,
           "offsetgroup": "False",
           "showlegend": false,
           "x": [
            0.677,
            0.871,
            0.712,
            0.887,
            0.667,
            0.725,
            0.759,
            0.808,
            0.889,
            0.787,
            0.891,
            0.844,
            0.889,
            0.81,
            0.773,
            0.871,
            0.847,
            0.841,
            0.756,
            0.766,
            0.864,
            0.779,
            0.893,
            0.675,
            0.913,
            0.793,
            0.791,
            0.715,
            0.763,
            0.821,
            0.825,
            0.904,
            0.887,
            0.7,
            0.862
           ],
           "xaxis": "x2",
           "yaxis": "y2",
           "type": "box"
          }
         ],
         "name": "2000"
        },
        {
         "data": [
          {
           "alignmentgroup": "True",
           "bingroup": "x",
           "hovertemplate": "reference=False<br>Year=2001<br>Human Development Index=%{x}<br>count=%{y}<extra></extra>",
           "legendgroup": "False",
           "marker": {
            "color": "#636efa",
            "opacity": 1,
            "pattern": {
             "shape": ""
            }
           },
           "name": "False",
           "offsetgroup": "False",
           "orientation": "v",
           "showlegend": true,
           "texttemplate": "%{value}",
           "x": [
            0.684,
            0.876,
            0.716,
            0.89,
            0.672,
            0.734,
            0.769,
            0.818,
            0.895,
            0.797,
            0.9,
            0.847,
            0.896,
            0.82,
            0.782,
            0.879,
            0.855,
            0.849,
            0.767,
            0.776,
            0.869,
            0.796,
            0.895,
            0.679,
            0.911,
            0.799,
            0.797,
            0.722,
            0.77,
            0.837,
            0.83,
            0.907,
            0.89,
            0.715,
            0.868
           ],
           "xaxis": "x",
           "yaxis": "y",
           "type": "histogram"
          },
          {
           "alignmentgroup": "True",
           "hovertemplate": "reference=False<br>Year=2001<br>Human Development Index=%{x}<extra></extra>",
           "legendgroup": "False",
           "marker": {
            "color": "#636efa"
           },
           "name": "False",
           "notched": true,
           "offsetgroup": "False",
           "showlegend": false,
           "x": [
            0.684,
            0.876,
            0.716,
            0.89,
            0.672,
            0.734,
            0.769,
            0.818,
            0.895,
            0.797,
            0.9,
            0.847,
            0.896,
            0.82,
            0.782,
            0.879,
            0.855,
            0.849,
            0.767,
            0.776,
            0.869,
            0.796,
            0.895,
            0.679,
            0.911,
            0.799,
            0.797,
            0.722,
            0.77,
            0.837,
            0.83,
            0.907,
            0.89,
            0.715,
            0.868
           ],
           "xaxis": "x2",
           "yaxis": "y2",
           "type": "box"
          }
         ],
         "name": "2001"
        },
        {
         "data": [
          {
           "alignmentgroup": "True",
           "bingroup": "x",
           "hovertemplate": "reference=False<br>Year=2002<br>Human Development Index=%{x}<br>count=%{y}<extra></extra>",
           "legendgroup": "False",
           "marker": {
            "color": "#636efa",
            "opacity": 1,
            "pattern": {
             "shape": ""
            }
           },
           "name": "False",
           "offsetgroup": "False",
           "orientation": "v",
           "showlegend": true,
           "texttemplate": "%{value}",
           "x": [
            0.689,
            0.879,
            0.721,
            0.892,
            0.675,
            0.74,
            0.777,
            0.825,
            0.896,
            0.807,
            0.904,
            0.848,
            0.901,
            0.83,
            0.791,
            0.886,
            0.864,
            0.853,
            0.778,
            0.786,
            0.874,
            0.8,
            0.892,
            0.683,
            0.912,
            0.806,
            0.798,
            0.729,
            0.779,
            0.848,
            0.834,
            0.91,
            0.89,
            0.722,
            0.873
           ],
           "xaxis": "x",
           "yaxis": "y",
           "type": "histogram"
          },
          {
           "alignmentgroup": "True",
           "hovertemplate": "reference=False<br>Year=2002<br>Human Development Index=%{x}<extra></extra>",
           "legendgroup": "False",
           "marker": {
            "color": "#636efa"
           },
           "name": "False",
           "notched": true,
           "offsetgroup": "False",
           "showlegend": false,
           "x": [
            0.689,
            0.879,
            0.721,
            0.892,
            0.675,
            0.74,
            0.777,
            0.825,
            0.896,
            0.807,
            0.904,
            0.848,
            0.901,
            0.83,
            0.791,
            0.886,
            0.864,
            0.853,
            0.778,
            0.786,
            0.874,
            0.8,
            0.892,
            0.683,
            0.912,
            0.806,
            0.798,
            0.729,
            0.779,
            0.848,
            0.834,
            0.91,
            0.89,
            0.722,
            0.873
           ],
           "xaxis": "x2",
           "yaxis": "y2",
           "type": "box"
          }
         ],
         "name": "2002"
        },
        {
         "data": [
          {
           "alignmentgroup": "True",
           "bingroup": "x",
           "hovertemplate": "reference=False<br>Year=2003<br>Human Development Index=%{x}<br>count=%{y}<extra></extra>",
           "legendgroup": "False",
           "marker": {
            "color": "#636efa",
            "opacity": 1,
            "pattern": {
             "shape": ""
            }
           },
           "name": "False",
           "offsetgroup": "False",
           "orientation": "v",
           "showlegend": true,
           "texttemplate": "%{value}",
           "x": [
            0.696,
            0.881,
            0.73,
            0.895,
            0.683,
            0.749,
            0.783,
            0.831,
            0.901,
            0.816,
            0.907,
            0.851,
            0.905,
            0.835,
            0.798,
            0.891,
            0.873,
            0.858,
            0.787,
            0.8,
            0.873,
            0.812,
            0.894,
            0.688,
            0.919,
            0.811,
            0.802,
            0.732,
            0.784,
            0.858,
            0.837,
            0.915,
            0.895,
            0.732,
            0.878
           ],
           "xaxis": "x",
           "yaxis": "y",
           "type": "histogram"
          },
          {
           "alignmentgroup": "True",
           "hovertemplate": "reference=False<br>Year=2003<br>Human Development Index=%{x}<extra></extra>",
           "legendgroup": "False",
           "marker": {
            "color": "#636efa"
           },
           "name": "False",
           "notched": true,
           "offsetgroup": "False",
           "showlegend": false,
           "x": [
            0.696,
            0.881,
            0.73,
            0.895,
            0.683,
            0.749,
            0.783,
            0.831,
            0.901,
            0.816,
            0.907,
            0.851,
            0.905,
            0.835,
            0.798,
            0.891,
            0.873,
            0.858,
            0.787,
            0.8,
            0.873,
            0.812,
            0.894,
            0.688,
            0.919,
            0.811,
            0.802,
            0.732,
            0.784,
            0.858,
            0.837,
            0.915,
            0.895,
            0.732,
            0.878
           ],
           "xaxis": "x2",
           "yaxis": "y2",
           "type": "box"
          }
         ],
         "name": "2003"
        },
        {
         "data": [
          {
           "alignmentgroup": "True",
           "bingroup": "x",
           "hovertemplate": "reference=False<br>Year=2004<br>Human Development Index=%{x}<br>count=%{y}<extra></extra>",
           "legendgroup": "False",
           "marker": {
            "color": "#636efa",
            "opacity": 1,
            "pattern": {
             "shape": ""
            }
           },
           "name": "False",
           "offsetgroup": "False",
           "orientation": "v",
           "showlegend": true,
           "texttemplate": "%{value}",
           "x": [
            0.7,
            0.886,
            0.742,
            0.9,
            0.69,
            0.756,
            0.796,
            0.836,
            0.906,
            0.826,
            0.902,
            0.858,
            0.914,
            0.843,
            0.801,
            0.895,
            0.881,
            0.865,
            0.799,
            0.809,
            0.882,
            0.825,
            0.897,
            0.694,
            0.927,
            0.809,
            0.805,
            0.742,
            0.794,
            0.865,
            0.844,
            0.9,
            0.901,
            0.74,
            0.889
           ],
           "xaxis": "x",
           "yaxis": "y",
           "type": "histogram"
          },
          {
           "alignmentgroup": "True",
           "hovertemplate": "reference=False<br>Year=2004<br>Human Development Index=%{x}<extra></extra>",
           "legendgroup": "False",
           "marker": {
            "color": "#636efa"
           },
           "name": "False",
           "notched": true,
           "offsetgroup": "False",
           "showlegend": false,
           "x": [
            0.7,
            0.886,
            0.742,
            0.9,
            0.69,
            0.756,
            0.796,
            0.836,
            0.906,
            0.826,
            0.902,
            0.858,
            0.914,
            0.843,
            0.801,
            0.895,
            0.881,
            0.865,
            0.799,
            0.809,
            0.882,
            0.825,
            0.897,
            0.694,
            0.927,
            0.809,
            0.805,
            0.742,
            0.794,
            0.865,
            0.844,
            0.9,
            0.901,
            0.74,
            0.889
           ],
           "xaxis": "x2",
           "yaxis": "y2",
           "type": "box"
          }
         ],
         "name": "2004"
        },
        {
         "data": [
          {
           "alignmentgroup": "True",
           "bingroup": "x",
           "hovertemplate": "reference=False<br>Year=2005<br>Human Development Index=%{x}<br>count=%{y}<extra></extra>",
           "legendgroup": "False",
           "marker": {
            "color": "#636efa",
            "opacity": 1,
            "pattern": {
             "shape": ""
            }
           },
           "name": "False",
           "offsetgroup": "False",
           "orientation": "v",
           "showlegend": true,
           "texttemplate": "%{value}",
           "x": [
            0.711,
            0.889,
            0.75,
            0.902,
            0.691,
            0.762,
            0.802,
            0.844,
            0.911,
            0.839,
            0.905,
            0.866,
            0.914,
            0.855,
            0.806,
            0.901,
            0.888,
            0.868,
            0.808,
            0.817,
            0.884,
            0.832,
            0.899,
            0.699,
            0.931,
            0.815,
            0.806,
            0.756,
            0.803,
            0.869,
            0.85,
            0.902,
            0.905,
            0.743,
            0.895
           ],
           "xaxis": "x",
           "yaxis": "y",
           "type": "histogram"
          },
          {
           "alignmentgroup": "True",
           "hovertemplate": "reference=False<br>Year=2005<br>Human Development Index=%{x}<extra></extra>",
           "legendgroup": "False",
           "marker": {
            "color": "#636efa"
           },
           "name": "False",
           "notched": true,
           "offsetgroup": "False",
           "showlegend": false,
           "x": [
            0.711,
            0.889,
            0.75,
            0.902,
            0.691,
            0.762,
            0.802,
            0.844,
            0.911,
            0.839,
            0.905,
            0.866,
            0.914,
            0.855,
            0.806,
            0.901,
            0.888,
            0.868,
            0.808,
            0.817,
            0.884,
            0.832,
            0.899,
            0.699,
            0.931,
            0.815,
            0.806,
            0.756,
            0.803,
            0.869,
            0.85,
            0.902,
            0.905,
            0.743,
            0.895
           ],
           "xaxis": "x2",
           "yaxis": "y2",
           "type": "box"
          }
         ],
         "name": "2005"
        },
        {
         "data": [
          {
           "alignmentgroup": "True",
           "bingroup": "x",
           "hovertemplate": "reference=False<br>Year=2006<br>Human Development Index=%{x}<br>count=%{y}<extra></extra>",
           "legendgroup": "False",
           "marker": {
            "color": "#636efa",
            "opacity": 1,
            "pattern": {
             "shape": ""
            }
           },
           "name": "False",
           "offsetgroup": "False",
           "orientation": "v",
           "showlegend": true,
           "texttemplate": "%{value}",
           "x": [
            0.718,
            0.893,
            0.762,
            0.905,
            0.699,
            0.767,
            0.811,
            0.852,
            0.91,
            0.847,
            0.909,
            0.87,
            0.917,
            0.863,
            0.814,
            0.903,
            0.891,
            0.873,
            0.815,
            0.823,
            0.885,
            0.831,
            0.906,
            0.707,
            0.937,
            0.82,
            0.811,
            0.77,
            0.812,
            0.878,
            0.856,
            0.906,
            0.914,
            0.751,
            0.894
           ],
           "xaxis": "x",
           "yaxis": "y",
           "type": "histogram"
          },
          {
           "alignmentgroup": "True",
           "hovertemplate": "reference=False<br>Year=2006<br>Human Development Index=%{x}<extra></extra>",
           "legendgroup": "False",
           "marker": {
            "color": "#636efa"
           },
           "name": "False",
           "notched": true,
           "offsetgroup": "False",
           "showlegend": false,
           "x": [
            0.718,
            0.893,
            0.762,
            0.905,
            0.699,
            0.767,
            0.811,
            0.852,
            0.91,
            0.847,
            0.909,
            0.87,
            0.917,
            0.863,
            0.814,
            0.903,
            0.891,
            0.873,
            0.815,
            0.823,
            0.885,
            0.831,
            0.906,
            0.707,
            0.937,
            0.82,
            0.811,
            0.77,
            0.812,
            0.878,
            0.856,
            0.906,
            0.914,
            0.751,
            0.894
           ],
           "xaxis": "x2",
           "yaxis": "y2",
           "type": "box"
          }
         ],
         "name": "2006"
        },
        {
         "data": [
          {
           "alignmentgroup": "True",
           "bingroup": "x",
           "hovertemplate": "reference=False<br>Year=2007<br>Human Development Index=%{x}<br>count=%{y}<extra></extra>",
           "legendgroup": "False",
           "marker": {
            "color": "#636efa",
            "opacity": 1,
            "pattern": {
             "shape": ""
            }
           },
           "name": "False",
           "offsetgroup": "False",
           "orientation": "v",
           "showlegend": true,
           "texttemplate": "%{value}",
           "x": [
            0.73,
            0.896,
            0.773,
            0.908,
            0.707,
            0.774,
            0.815,
            0.859,
            0.911,
            0.853,
            0.911,
            0.873,
            0.921,
            0.858,
            0.817,
            0.909,
            0.896,
            0.877,
            0.82,
            0.83,
            0.887,
            0.837,
            0.787,
            0.912,
            0.711,
            0.938,
            0.825,
            0.818,
            0.786,
            0.754,
            0.823,
            0.882,
            0.858,
            0.908,
            0.92,
            0.757,
            0.897
           ],
           "xaxis": "x",
           "yaxis": "y",
           "type": "histogram"
          },
          {
           "alignmentgroup": "True",
           "hovertemplate": "reference=False<br>Year=2007<br>Human Development Index=%{x}<extra></extra>",
           "legendgroup": "False",
           "marker": {
            "color": "#636efa"
           },
           "name": "False",
           "notched": true,
           "offsetgroup": "False",
           "showlegend": false,
           "x": [
            0.73,
            0.896,
            0.773,
            0.908,
            0.707,
            0.774,
            0.815,
            0.859,
            0.911,
            0.853,
            0.911,
            0.873,
            0.921,
            0.858,
            0.817,
            0.909,
            0.896,
            0.877,
            0.82,
            0.83,
            0.887,
            0.837,
            0.787,
            0.912,
            0.711,
            0.938,
            0.825,
            0.818,
            0.786,
            0.754,
            0.823,
            0.882,
            0.858,
            0.908,
            0.92,
            0.757,
            0.897
           ],
           "xaxis": "x2",
           "yaxis": "y2",
           "type": "box"
          }
         ],
         "name": "2007"
        },
        {
         "data": [
          {
           "alignmentgroup": "True",
           "bingroup": "x",
           "hovertemplate": "reference=False<br>Year=2008<br>Human Development Index=%{x}<br>count=%{y}<extra></extra>",
           "legendgroup": "False",
           "marker": {
            "color": "#636efa",
            "opacity": 1,
            "pattern": {
             "shape": ""
            }
           },
           "name": "False",
           "offsetgroup": "False",
           "orientation": "v",
           "showlegend": true,
           "texttemplate": "%{value}",
           "x": [
            0.736,
            0.898,
            0.783,
            0.908,
            0.718,
            0.782,
            0.817,
            0.863,
            0.915,
            0.856,
            0.912,
            0.873,
            0.923,
            0.863,
            0.823,
            0.902,
            0.899,
            0.878,
            0.827,
            0.84,
            0.9,
            0.841,
            0.8,
            0.912,
            0.73,
            0.94,
            0.831,
            0.822,
            0.806,
            0.765,
            0.831,
            0.888,
            0.86,
            0.905,
            0.926,
            0.761,
            0.9
           ],
           "xaxis": "x",
           "yaxis": "y",
           "type": "histogram"
          },
          {
           "alignmentgroup": "True",
           "hovertemplate": "reference=False<br>Year=2008<br>Human Development Index=%{x}<extra></extra>",
           "legendgroup": "False",
           "marker": {
            "color": "#636efa"
           },
           "name": "False",
           "notched": true,
           "offsetgroup": "False",
           "showlegend": false,
           "x": [
            0.736,
            0.898,
            0.783,
            0.908,
            0.718,
            0.782,
            0.817,
            0.863,
            0.915,
            0.856,
            0.912,
            0.873,
            0.923,
            0.863,
            0.823,
            0.902,
            0.899,
            0.878,
            0.827,
            0.84,
            0.9,
            0.841,
            0.8,
            0.912,
            0.73,
            0.94,
            0.831,
            0.822,
            0.806,
            0.765,
            0.831,
            0.888,
            0.86,
            0.905,
            0.926,
            0.761,
            0.9
           ],
           "xaxis": "x2",
           "yaxis": "y2",
           "type": "box"
          }
         ],
         "name": "2008"
        },
        {
         "data": [
          {
           "alignmentgroup": "True",
           "bingroup": "x",
           "hovertemplate": "reference=False<br>Year=2009<br>Human Development Index=%{x}<br>count=%{y}<extra></extra>",
           "legendgroup": "False",
           "marker": {
            "color": "#636efa",
            "opacity": 1,
            "pattern": {
             "shape": ""
            }
           },
           "name": "False",
           "offsetgroup": "False",
           "orientation": "v",
           "showlegend": true,
           "texttemplate": "%{value}",
           "x": [
            0.741,
            0.898,
            0.785,
            0.91,
            0.721,
            0.785,
            0.816,
            0.865,
            0.909,
            0.856,
            0.907,
            0.872,
            0.923,
            0.866,
            0.825,
            0.9,
            0.895,
            0.878,
            0.826,
            0.839,
            0.905,
            0.847,
            0.8,
            0.913,
            0.733,
            0.936,
            0.835,
            0.825,
            0.809,
            0.766,
            0.833,
            0.887,
            0.861,
            0.904,
            0.936,
            0.758,
            0.906
           ],
           "xaxis": "x",
           "yaxis": "y",
           "type": "histogram"
          },
          {
           "alignmentgroup": "True",
           "hovertemplate": "reference=False<br>Year=2009<br>Human Development Index=%{x}<extra></extra>",
           "legendgroup": "False",
           "marker": {
            "color": "#636efa"
           },
           "name": "False",
           "notched": true,
           "offsetgroup": "False",
           "showlegend": false,
           "x": [
            0.741,
            0.898,
            0.785,
            0.91,
            0.721,
            0.785,
            0.816,
            0.865,
            0.909,
            0.856,
            0.907,
            0.872,
            0.923,
            0.866,
            0.825,
            0.9,
            0.895,
            0.878,
            0.826,
            0.839,
            0.905,
            0.847,
            0.8,
            0.913,
            0.733,
            0.936,
            0.835,
            0.825,
            0.809,
            0.766,
            0.833,
            0.887,
            0.861,
            0.904,
            0.936,
            0.758,
            0.906
           ],
           "xaxis": "x2",
           "yaxis": "y2",
           "type": "box"
          }
         ],
         "name": "2009"
        },
        {
         "data": [
          {
           "alignmentgroup": "True",
           "bingroup": "x",
           "hovertemplate": "reference=False<br>Year=2010<br>Human Development Index=%{x}<br>count=%{y}<extra></extra>",
           "legendgroup": "False",
           "marker": {
            "color": "#636efa",
            "opacity": 1,
            "pattern": {
             "shape": ""
            }
           },
           "name": "False",
           "offsetgroup": "False",
           "orientation": "v",
           "showlegend": true,
           "texttemplate": "%{value}",
           "x": [
            0.754,
            0.902,
            0.79,
            0.912,
            0.725,
            0.79,
            0.821,
            0.87,
            0.913,
            0.861,
            0.911,
            0.877,
            0.926,
            0.869,
            0.828,
            0.902,
            0.904,
            0.882,
            0.824,
            0.842,
            0.912,
            0.861,
            0.808,
            0.917,
            0.738,
            0.941,
            0.841,
            0.829,
            0.807,
            0.767,
            0.84,
            0.89,
            0.868,
            0.91,
            0.942,
            0.764,
            0.912
           ],
           "xaxis": "x",
           "yaxis": "y",
           "type": "histogram"
          },
          {
           "alignmentgroup": "True",
           "hovertemplate": "reference=False<br>Year=2010<br>Human Development Index=%{x}<extra></extra>",
           "legendgroup": "False",
           "marker": {
            "color": "#636efa"
           },
           "name": "False",
           "notched": true,
           "offsetgroup": "False",
           "showlegend": false,
           "x": [
            0.754,
            0.902,
            0.79,
            0.912,
            0.725,
            0.79,
            0.821,
            0.87,
            0.913,
            0.861,
            0.911,
            0.877,
            0.926,
            0.869,
            0.828,
            0.902,
            0.904,
            0.882,
            0.824,
            0.842,
            0.912,
            0.861,
            0.808,
            0.917,
            0.738,
            0.941,
            0.841,
            0.829,
            0.807,
            0.767,
            0.84,
            0.89,
            0.868,
            0.91,
            0.942,
            0.764,
            0.912
           ],
           "xaxis": "x2",
           "yaxis": "y2",
           "type": "box"
          }
         ],
         "name": "2010"
        },
        {
         "data": [
          {
           "alignmentgroup": "True",
           "bingroup": "x",
           "hovertemplate": "reference=False<br>Year=2011<br>Human Development Index=%{x}<br>count=%{y}<extra></extra>",
           "legendgroup": "False",
           "marker": {
            "color": "#636efa",
            "opacity": 1,
            "pattern": {
             "shape": ""
            }
           },
           "name": "False",
           "offsetgroup": "False",
           "orientation": "v",
           "showlegend": true,
           "texttemplate": "%{value}",
           "x": [
            0.766,
            0.905,
            0.797,
            0.914,
            0.732,
            0.794,
            0.826,
            0.872,
            0.926,
            0.871,
            0.915,
            0.881,
            0.931,
            0.865,
            0.83,
            0.912,
            0.902,
            0.885,
            0.831,
            0.849,
            0.913,
            0.857,
            0.811,
            0.927,
            0.741,
            0.944,
            0.847,
            0.835,
            0.808,
            0.777,
            0.844,
            0.892,
            0.872,
            0.911,
            0.943,
            0.769,
            0.908
           ],
           "xaxis": "x",
           "yaxis": "y",
           "type": "histogram"
          },
          {
           "alignmentgroup": "True",
           "hovertemplate": "reference=False<br>Year=2011<br>Human Development Index=%{x}<extra></extra>",
           "legendgroup": "False",
           "marker": {
            "color": "#636efa"
           },
           "name": "False",
           "notched": true,
           "offsetgroup": "False",
           "showlegend": false,
           "x": [
            0.766,
            0.905,
            0.797,
            0.914,
            0.732,
            0.794,
            0.826,
            0.872,
            0.926,
            0.871,
            0.915,
            0.881,
            0.931,
            0.865,
            0.83,
            0.912,
            0.902,
            0.885,
            0.831,
            0.849,
            0.913,
            0.857,
            0.811,
            0.927,
            0.741,
            0.944,
            0.847,
            0.835,
            0.808,
            0.777,
            0.844,
            0.892,
            0.872,
            0.911,
            0.943,
            0.769,
            0.908
           ],
           "xaxis": "x2",
           "yaxis": "y2",
           "type": "box"
          }
         ],
         "name": "2011"
        },
        {
         "data": [
          {
           "alignmentgroup": "True",
           "bingroup": "x",
           "hovertemplate": "reference=False<br>Year=2012<br>Human Development Index=%{x}<br>count=%{y}<extra></extra>",
           "legendgroup": "False",
           "marker": {
            "color": "#636efa",
            "opacity": 1,
            "pattern": {
             "shape": ""
            }
           },
           "name": "False",
           "offsetgroup": "False",
           "orientation": "v",
           "showlegend": true,
           "texttemplate": "%{value}",
           "x": [
            0.778,
            0.906,
            0.806,
            0.915,
            0.745,
            0.798,
            0.83,
            0.874,
            0.931,
            0.874,
            0.915,
            0.882,
            0.933,
            0.866,
            0.831,
            0.921,
            0.903,
            0.883,
            0.833,
            0.851,
            0.916,
            0.864,
            0.812,
            0.927,
            0.743,
            0.946,
            0.852,
            0.836,
            0.805,
            0.78,
            0.845,
            0.891,
            0.874,
            0.911,
            0.945,
            0.773,
            0.909
           ],
           "xaxis": "x",
           "yaxis": "y",
           "type": "histogram"
          },
          {
           "alignmentgroup": "True",
           "hovertemplate": "reference=False<br>Year=2012<br>Human Development Index=%{x}<extra></extra>",
           "legendgroup": "False",
           "marker": {
            "color": "#636efa"
           },
           "name": "False",
           "notched": true,
           "offsetgroup": "False",
           "showlegend": false,
           "x": [
            0.778,
            0.906,
            0.806,
            0.915,
            0.745,
            0.798,
            0.83,
            0.874,
            0.931,
            0.874,
            0.915,
            0.882,
            0.933,
            0.866,
            0.831,
            0.921,
            0.903,
            0.883,
            0.833,
            0.851,
            0.916,
            0.864,
            0.812,
            0.927,
            0.743,
            0.946,
            0.852,
            0.836,
            0.805,
            0.78,
            0.845,
            0.891,
            0.874,
            0.911,
            0.945,
            0.773,
            0.909
           ],
           "xaxis": "x2",
           "yaxis": "y2",
           "type": "box"
          }
         ],
         "name": "2012"
        },
        {
         "data": [
          {
           "alignmentgroup": "True",
           "bingroup": "x",
           "hovertemplate": "reference=False<br>Year=2013<br>Human Development Index=%{x}<br>count=%{y}<extra></extra>",
           "legendgroup": "False",
           "marker": {
            "color": "#636efa",
            "opacity": 1,
            "pattern": {
             "shape": ""
            }
           },
           "name": "False",
           "offsetgroup": "False",
           "orientation": "v",
           "showlegend": true,
           "texttemplate": "%{value}",
           "x": [
            0.785,
            0.905,
            0.808,
            0.916,
            0.751,
            0.805,
            0.838,
            0.881,
            0.933,
            0.88,
            0.926,
            0.887,
            0.934,
            0.871,
            0.84,
            0.929,
            0.908,
            0.882,
            0.843,
            0.854,
            0.921,
            0.872,
            0.817,
            0.929,
            0.75,
            0.949,
            0.863,
            0.845,
            0.81,
            0.785,
            0.848,
            0.9,
            0.88,
            0.932,
            0.948,
            0.773,
            0.922
           ],
           "xaxis": "x",
           "yaxis": "y",
           "type": "histogram"
          },
          {
           "alignmentgroup": "True",
           "hovertemplate": "reference=False<br>Year=2013<br>Human Development Index=%{x}<extra></extra>",
           "legendgroup": "False",
           "marker": {
            "color": "#636efa"
           },
           "name": "False",
           "notched": true,
           "offsetgroup": "False",
           "showlegend": false,
           "x": [
            0.785,
            0.905,
            0.808,
            0.916,
            0.751,
            0.805,
            0.838,
            0.881,
            0.933,
            0.88,
            0.926,
            0.887,
            0.934,
            0.871,
            0.84,
            0.929,
            0.908,
            0.882,
            0.843,
            0.854,
            0.921,
            0.872,
            0.817,
            0.929,
            0.75,
            0.949,
            0.863,
            0.845,
            0.81,
            0.785,
            0.848,
            0.9,
            0.88,
            0.932,
            0.948,
            0.773,
            0.922
           ],
           "xaxis": "x2",
           "yaxis": "y2",
           "type": "box"
          }
         ],
         "name": "2013"
        },
        {
         "data": [
          {
           "alignmentgroup": "True",
           "bingroup": "x",
           "hovertemplate": "reference=False<br>Year=2014<br>Human Development Index=%{x}<br>count=%{y}<extra></extra>",
           "legendgroup": "False",
           "marker": {
            "color": "#636efa",
            "opacity": 1,
            "pattern": {
             "shape": ""
            }
           },
           "name": "False",
           "offsetgroup": "False",
           "orientation": "v",
           "showlegend": true,
           "texttemplate": "%{value}",
           "x": [
            0.792,
            0.909,
            0.812,
            0.921,
            0.756,
            0.807,
            0.841,
            0.887,
            0.932,
            0.879,
            0.927,
            0.892,
            0.937,
            0.879,
            0.838,
            0.938,
            0.914,
            0.883,
            0.846,
            0.861,
            0.926,
            0.881,
            0.819,
            0.931,
            0.755,
            0.952,
            0.865,
            0.848,
            0.811,
            0.788,
            0.849,
            0.902,
            0.884,
            0.935,
            0.952,
            0.773,
            0.924
           ],
           "xaxis": "x",
           "yaxis": "y",
           "type": "histogram"
          },
          {
           "alignmentgroup": "True",
           "hovertemplate": "reference=False<br>Year=2014<br>Human Development Index=%{x}<extra></extra>",
           "legendgroup": "False",
           "marker": {
            "color": "#636efa"
           },
           "name": "False",
           "notched": true,
           "offsetgroup": "False",
           "showlegend": false,
           "x": [
            0.792,
            0.909,
            0.812,
            0.921,
            0.756,
            0.807,
            0.841,
            0.887,
            0.932,
            0.879,
            0.927,
            0.892,
            0.937,
            0.879,
            0.838,
            0.938,
            0.914,
            0.883,
            0.846,
            0.861,
            0.926,
            0.881,
            0.819,
            0.931,
            0.755,
            0.952,
            0.865,
            0.848,
            0.811,
            0.788,
            0.849,
            0.902,
            0.884,
            0.935,
            0.952,
            0.773,
            0.924
           ],
           "xaxis": "x2",
           "yaxis": "y2",
           "type": "box"
          }
         ],
         "name": "2014"
        },
        {
         "data": [
          {
           "alignmentgroup": "True",
           "bingroup": "x",
           "hovertemplate": "reference=True<br>Year=2015<br>Human Development Index=%{x}<br>count=%{y}<extra></extra>",
           "legendgroup": "True",
           "marker": {
            "color": "#EF553B",
            "opacity": 1,
            "pattern": {
             "shape": "/"
            }
           },
           "name": "True",
           "offsetgroup": "True",
           "orientation": "v",
           "showlegend": true,
           "texttemplate": "%{value}",
           "x": [
            0.795,
            0.91,
            0.812,
            0.924,
            0.761,
            0.809,
            0.843,
            0.891,
            0.936,
            0.882,
            0.93,
            0.892,
            0.938,
            0.88,
            0.838,
            0.945,
            0.925,
            0.882,
            0.85,
            0.862,
            0.915,
            0.889,
            0.822,
            0.932,
            0.762,
            0.953,
            0.868,
            0.85,
            0.813,
            0.794,
            0.851,
            0.903,
            0.889,
            0.937,
            0.954,
            0.774,
            0.924
           ],
           "xaxis": "x",
           "yaxis": "y",
           "type": "histogram"
          },
          {
           "alignmentgroup": "True",
           "hovertemplate": "reference=True<br>Year=2015<br>Human Development Index=%{x}<extra></extra>",
           "legendgroup": "True",
           "marker": {
            "color": "#EF553B"
           },
           "name": "True",
           "notched": true,
           "offsetgroup": "True",
           "showlegend": false,
           "x": [
            0.795,
            0.91,
            0.812,
            0.924,
            0.761,
            0.809,
            0.843,
            0.891,
            0.936,
            0.882,
            0.93,
            0.892,
            0.938,
            0.88,
            0.838,
            0.945,
            0.925,
            0.882,
            0.85,
            0.862,
            0.915,
            0.889,
            0.822,
            0.932,
            0.762,
            0.953,
            0.868,
            0.85,
            0.813,
            0.794,
            0.851,
            0.903,
            0.889,
            0.937,
            0.954,
            0.774,
            0.924
           ],
           "xaxis": "x2",
           "yaxis": "y2",
           "type": "box"
          }
         ],
         "name": "2015"
        },
        {
         "data": [
          {
           "alignmentgroup": "True",
           "bingroup": "x",
           "hovertemplate": "reference=False<br>Year=2016<br>Human Development Index=%{x}<br>count=%{y}<extra></extra>",
           "legendgroup": "False",
           "marker": {
            "color": "#636efa",
            "opacity": 1,
            "pattern": {
             "shape": ""
            }
           },
           "name": "False",
           "offsetgroup": "False",
           "orientation": "v",
           "showlegend": true,
           "texttemplate": "%{value}",
           "x": [
            0.798,
            0.915,
            0.813,
            0.927,
            0.77,
            0.809,
            0.848,
            0.895,
            0.943,
            0.885,
            0.931,
            0.895,
            0.941,
            0.877,
            0.843,
            0.948,
            0.929,
            0.887,
            0.855,
            0.868,
            0.923,
            0.891,
            0.824,
            0.933,
            0.767,
            0.955,
            0.872,
            0.853,
            0.816,
            0.8,
            0.854,
            0.91,
            0.895,
            0.939,
            0.956,
            0.779,
            0.927
           ],
           "xaxis": "x",
           "yaxis": "y",
           "type": "histogram"
          },
          {
           "alignmentgroup": "True",
           "hovertemplate": "reference=False<br>Year=2016<br>Human Development Index=%{x}<extra></extra>",
           "legendgroup": "False",
           "marker": {
            "color": "#636efa"
           },
           "name": "False",
           "notched": true,
           "offsetgroup": "False",
           "showlegend": false,
           "x": [
            0.798,
            0.915,
            0.813,
            0.927,
            0.77,
            0.809,
            0.848,
            0.895,
            0.943,
            0.885,
            0.931,
            0.895,
            0.941,
            0.877,
            0.843,
            0.948,
            0.929,
            0.887,
            0.855,
            0.868,
            0.923,
            0.891,
            0.824,
            0.933,
            0.767,
            0.955,
            0.872,
            0.853,
            0.816,
            0.8,
            0.854,
            0.91,
            0.895,
            0.939,
            0.956,
            0.779,
            0.927
           ],
           "xaxis": "x2",
           "yaxis": "y2",
           "type": "box"
          }
         ],
         "name": "2016"
        },
        {
         "data": [
          {
           "alignmentgroup": "True",
           "bingroup": "x",
           "hovertemplate": "reference=False<br>Year=2017<br>Human Development Index=%{x}<br>count=%{y}<extra></extra>",
           "legendgroup": "False",
           "marker": {
            "color": "#636efa",
            "opacity": 1,
            "pattern": {
             "shape": ""
            }
           },
           "name": "False",
           "offsetgroup": "False",
           "orientation": "v",
           "showlegend": true,
           "texttemplate": "%{value}",
           "x": [
            0.802,
            0.916,
            0.817,
            0.931,
            0.772,
            0.808,
            0.852,
            0.897,
            0.944,
            0.887,
            0.934,
            0.898,
            0.944,
            0.88,
            0.845,
            0.954,
            0.934,
            0.888,
            0.86,
            0.876,
            0.919,
            0.901,
            0.83,
            0.937,
            0.773,
            0.959,
            0.875,
            0.859,
            0.823,
            0.802,
            0.856,
            0.913,
            0.897,
            0.941,
            0.957,
            0.782,
            0.93
           ],
           "xaxis": "x",
           "yaxis": "y",
           "type": "histogram"
          },
          {
           "alignmentgroup": "True",
           "hovertemplate": "reference=False<br>Year=2017<br>Human Development Index=%{x}<extra></extra>",
           "legendgroup": "False",
           "marker": {
            "color": "#636efa"
           },
           "name": "False",
           "notched": true,
           "offsetgroup": "False",
           "showlegend": false,
           "x": [
            0.802,
            0.916,
            0.817,
            0.931,
            0.772,
            0.808,
            0.852,
            0.897,
            0.944,
            0.887,
            0.934,
            0.898,
            0.944,
            0.88,
            0.845,
            0.954,
            0.934,
            0.888,
            0.86,
            0.876,
            0.919,
            0.901,
            0.83,
            0.937,
            0.773,
            0.959,
            0.875,
            0.859,
            0.823,
            0.802,
            0.856,
            0.913,
            0.897,
            0.941,
            0.957,
            0.782,
            0.93
           ],
           "xaxis": "x2",
           "yaxis": "y2",
           "type": "box"
          }
         ],
         "name": "2017"
        },
        {
         "data": [
          {
           "alignmentgroup": "True",
           "bingroup": "x",
           "hovertemplate": "reference=False<br>Year=2018<br>Human Development Index=%{x}<br>count=%{y}<extra></extra>",
           "legendgroup": "False",
           "marker": {
            "color": "#636efa",
            "opacity": 1,
            "pattern": {
             "shape": ""
            }
           },
           "name": "False",
           "offsetgroup": "False",
           "orientation": "v",
           "showlegend": true,
           "texttemplate": "%{value}",
           "x": [
            0.806,
            0.917,
            0.818,
            0.933,
            0.776,
            0.809,
            0.856,
            0.894,
            0.942,
            0.891,
            0.936,
            0.901,
            0.945,
            0.886,
            0.849,
            0.959,
            0.937,
            0.893,
            0.866,
            0.88,
            0.922,
            0.91,
            0.834,
            0.939,
            0.779,
            0.962,
            0.877,
            0.86,
            0.827,
            0.808,
            0.859,
            0.917,
            0.901,
            0.942,
            0.959,
            0.783,
            0.929
           ],
           "xaxis": "x",
           "yaxis": "y",
           "type": "histogram"
          },
          {
           "alignmentgroup": "True",
           "hovertemplate": "reference=False<br>Year=2018<br>Human Development Index=%{x}<extra></extra>",
           "legendgroup": "False",
           "marker": {
            "color": "#636efa"
           },
           "name": "False",
           "notched": true,
           "offsetgroup": "False",
           "showlegend": false,
           "x": [
            0.806,
            0.917,
            0.818,
            0.933,
            0.776,
            0.809,
            0.856,
            0.894,
            0.942,
            0.891,
            0.936,
            0.901,
            0.945,
            0.886,
            0.849,
            0.959,
            0.937,
            0.893,
            0.866,
            0.88,
            0.922,
            0.91,
            0.834,
            0.939,
            0.779,
            0.962,
            0.877,
            0.86,
            0.827,
            0.808,
            0.859,
            0.917,
            0.901,
            0.942,
            0.959,
            0.783,
            0.929
           ],
           "xaxis": "x2",
           "yaxis": "y2",
           "type": "box"
          }
         ],
         "name": "2018"
        },
        {
         "data": [
          {
           "alignmentgroup": "True",
           "bingroup": "x",
           "hovertemplate": "reference=False<br>Year=2019<br>Human Development Index=%{x}<br>count=%{y}<extra></extra>",
           "legendgroup": "False",
           "marker": {
            "color": "#636efa",
            "opacity": 1,
            "pattern": {
             "shape": ""
            }
           },
           "name": "False",
           "offsetgroup": "False",
           "orientation": "v",
           "showlegend": true,
           "texttemplate": "%{value}",
           "x": [
            0.81,
            0.919,
            0.817,
            0.936,
            0.783,
            0.81,
            0.861,
            0.897,
            0.946,
            0.896,
            0.939,
            0.905,
            0.948,
            0.889,
            0.853,
            0.96,
            0.942,
            0.897,
            0.871,
            0.884,
            0.927,
            0.915,
            0.837,
            0.943,
            0.784,
            0.961,
            0.881,
            0.867,
            0.832,
            0.811,
            0.862,
            0.921,
            0.908,
            0.947,
            0.962,
            0.786,
            0.935
           ],
           "xaxis": "x",
           "yaxis": "y",
           "type": "histogram"
          },
          {
           "alignmentgroup": "True",
           "hovertemplate": "reference=False<br>Year=2019<br>Human Development Index=%{x}<extra></extra>",
           "legendgroup": "False",
           "marker": {
            "color": "#636efa"
           },
           "name": "False",
           "notched": true,
           "offsetgroup": "False",
           "showlegend": false,
           "x": [
            0.81,
            0.919,
            0.817,
            0.936,
            0.783,
            0.81,
            0.861,
            0.897,
            0.946,
            0.896,
            0.939,
            0.905,
            0.948,
            0.889,
            0.853,
            0.96,
            0.942,
            0.897,
            0.871,
            0.884,
            0.927,
            0.915,
            0.837,
            0.943,
            0.784,
            0.961,
            0.881,
            0.867,
            0.832,
            0.811,
            0.862,
            0.921,
            0.908,
            0.947,
            0.962,
            0.786,
            0.935
           ],
           "xaxis": "x2",
           "yaxis": "y2",
           "type": "box"
          }
         ],
         "name": "2019"
        },
        {
         "data": [
          {
           "alignmentgroup": "True",
           "bingroup": "x",
           "hovertemplate": "reference=False<br>Year=2020<br>Human Development Index=%{x}<br>count=%{y}<extra></extra>",
           "legendgroup": "False",
           "marker": {
            "color": "#636efa",
            "opacity": 1,
            "pattern": {
             "shape": ""
            }
           },
           "name": "False",
           "offsetgroup": "False",
           "orientation": "v",
           "showlegend": true,
           "texttemplate": "%{value}",
           "x": [
            0.794,
            0.913,
            0.807,
            0.928,
            0.781,
            0.802,
            0.855,
            0.892,
            0.947,
            0.892,
            0.938,
            0.898,
            0.944,
            0.886,
            0.849,
            0.957,
            0.943,
            0.889,
            0.871,
            0.879,
            0.924,
            0.911,
            0.826,
            0.939,
            0.774,
            0.959,
            0.876,
            0.863,
            0.824,
            0.804,
            0.857,
            0.913,
            0.899,
            0.942,
            0.956,
            0.775,
            0.924
           ],
           "xaxis": "x",
           "yaxis": "y",
           "type": "histogram"
          },
          {
           "alignmentgroup": "True",
           "hovertemplate": "reference=False<br>Year=2020<br>Human Development Index=%{x}<extra></extra>",
           "legendgroup": "False",
           "marker": {
            "color": "#636efa"
           },
           "name": "False",
           "notched": true,
           "offsetgroup": "False",
           "showlegend": false,
           "x": [
            0.794,
            0.913,
            0.807,
            0.928,
            0.781,
            0.802,
            0.855,
            0.892,
            0.947,
            0.892,
            0.938,
            0.898,
            0.944,
            0.886,
            0.849,
            0.957,
            0.943,
            0.889,
            0.871,
            0.879,
            0.924,
            0.911,
            0.826,
            0.939,
            0.774,
            0.959,
            0.876,
            0.863,
            0.824,
            0.804,
            0.857,
            0.913,
            0.899,
            0.942,
            0.956,
            0.775,
            0.924
           ],
           "xaxis": "x2",
           "yaxis": "y2",
           "type": "box"
          }
         ],
         "name": "2020"
        }
       ],
       "config": {
        "plotlyServerURL": "https://plot.ly"
       }
      },
      "text/html": "<div>                            <div id=\"65fdc84b-cd8d-44da-a1ca-cc611d0c0d5d\" class=\"plotly-graph-div\" style=\"height:525px; width:100%;\"></div>            <script type=\"text/javascript\">                require([\"plotly\"], function(Plotly) {                    window.PLOTLYENV=window.PLOTLYENV || {};                                    if (document.getElementById(\"65fdc84b-cd8d-44da-a1ca-cc611d0c0d5d\")) {                    Plotly.newPlot(                        \"65fdc84b-cd8d-44da-a1ca-cc611d0c0d5d\",                        [{\"alignmentgroup\":\"True\",\"bingroup\":\"x\",\"hovertemplate\":\"reference=False<br>Year=2000<br>Human Development Index=%{x}<br>count=%{y}<extra></extra>\",\"legendgroup\":\"False\",\"marker\":{\"color\":\"#636efa\",\"opacity\":1,\"pattern\":{\"shape\":\"\"}},\"name\":\"False\",\"offsetgroup\":\"False\",\"orientation\":\"v\",\"showlegend\":true,\"texttemplate\":\"%{value}\",\"x\":[0.677,0.871,0.712,0.887,0.667,0.725,0.759,0.808,0.889,0.787,0.891,0.844,0.889,0.81,0.773,0.871,0.847,0.841,0.756,0.766,0.864,0.779,0.893,0.675,0.913,0.793,0.791,0.715,0.763,0.821,0.825,0.904,0.887,0.7,0.862],\"xaxis\":\"x\",\"yaxis\":\"y\",\"type\":\"histogram\"},{\"alignmentgroup\":\"True\",\"hovertemplate\":\"reference=False<br>Year=2000<br>Human Development Index=%{x}<extra></extra>\",\"legendgroup\":\"False\",\"marker\":{\"color\":\"#636efa\"},\"name\":\"False\",\"notched\":true,\"offsetgroup\":\"False\",\"showlegend\":false,\"x\":[0.677,0.871,0.712,0.887,0.667,0.725,0.759,0.808,0.889,0.787,0.891,0.844,0.889,0.81,0.773,0.871,0.847,0.841,0.756,0.766,0.864,0.779,0.893,0.675,0.913,0.793,0.791,0.715,0.763,0.821,0.825,0.904,0.887,0.7,0.862],\"xaxis\":\"x2\",\"yaxis\":\"y2\",\"type\":\"box\"}],                        {\"template\":{\"data\":{\"histogram2dcontour\":[{\"type\":\"histogram2dcontour\",\"colorbar\":{\"outlinewidth\":0,\"ticks\":\"\"},\"colorscale\":[[0.0,\"#0d0887\"],[0.1111111111111111,\"#46039f\"],[0.2222222222222222,\"#7201a8\"],[0.3333333333333333,\"#9c179e\"],[0.4444444444444444,\"#bd3786\"],[0.5555555555555556,\"#d8576b\"],[0.6666666666666666,\"#ed7953\"],[0.7777777777777778,\"#fb9f3a\"],[0.8888888888888888,\"#fdca26\"],[1.0,\"#f0f921\"]]}],\"choropleth\":[{\"type\":\"choropleth\",\"colorbar\":{\"outlinewidth\":0,\"ticks\":\"\"}}],\"histogram2d\":[{\"type\":\"histogram2d\",\"colorbar\":{\"outlinewidth\":0,\"ticks\":\"\"},\"colorscale\":[[0.0,\"#0d0887\"],[0.1111111111111111,\"#46039f\"],[0.2222222222222222,\"#7201a8\"],[0.3333333333333333,\"#9c179e\"],[0.4444444444444444,\"#bd3786\"],[0.5555555555555556,\"#d8576b\"],[0.6666666666666666,\"#ed7953\"],[0.7777777777777778,\"#fb9f3a\"],[0.8888888888888888,\"#fdca26\"],[1.0,\"#f0f921\"]]}],\"heatmap\":[{\"type\":\"heatmap\",\"colorbar\":{\"outlinewidth\":0,\"ticks\":\"\"},\"colorscale\":[[0.0,\"#0d0887\"],[0.1111111111111111,\"#46039f\"],[0.2222222222222222,\"#7201a8\"],[0.3333333333333333,\"#9c179e\"],[0.4444444444444444,\"#bd3786\"],[0.5555555555555556,\"#d8576b\"],[0.6666666666666666,\"#ed7953\"],[0.7777777777777778,\"#fb9f3a\"],[0.8888888888888888,\"#fdca26\"],[1.0,\"#f0f921\"]]}],\"heatmapgl\":[{\"type\":\"heatmapgl\",\"colorbar\":{\"outlinewidth\":0,\"ticks\":\"\"},\"colorscale\":[[0.0,\"#0d0887\"],[0.1111111111111111,\"#46039f\"],[0.2222222222222222,\"#7201a8\"],[0.3333333333333333,\"#9c179e\"],[0.4444444444444444,\"#bd3786\"],[0.5555555555555556,\"#d8576b\"],[0.6666666666666666,\"#ed7953\"],[0.7777777777777778,\"#fb9f3a\"],[0.8888888888888888,\"#fdca26\"],[1.0,\"#f0f921\"]]}],\"contourcarpet\":[{\"type\":\"contourcarpet\",\"colorbar\":{\"outlinewidth\":0,\"ticks\":\"\"}}],\"contour\":[{\"type\":\"contour\",\"colorbar\":{\"outlinewidth\":0,\"ticks\":\"\"},\"colorscale\":[[0.0,\"#0d0887\"],[0.1111111111111111,\"#46039f\"],[0.2222222222222222,\"#7201a8\"],[0.3333333333333333,\"#9c179e\"],[0.4444444444444444,\"#bd3786\"],[0.5555555555555556,\"#d8576b\"],[0.6666666666666666,\"#ed7953\"],[0.7777777777777778,\"#fb9f3a\"],[0.8888888888888888,\"#fdca26\"],[1.0,\"#f0f921\"]]}],\"surface\":[{\"type\":\"surface\",\"colorbar\":{\"outlinewidth\":0,\"ticks\":\"\"},\"colorscale\":[[0.0,\"#0d0887\"],[0.1111111111111111,\"#46039f\"],[0.2222222222222222,\"#7201a8\"],[0.3333333333333333,\"#9c179e\"],[0.4444444444444444,\"#bd3786\"],[0.5555555555555556,\"#d8576b\"],[0.6666666666666666,\"#ed7953\"],[0.7777777777777778,\"#fb9f3a\"],[0.8888888888888888,\"#fdca26\"],[1.0,\"#f0f921\"]]}],\"mesh3d\":[{\"type\":\"mesh3d\",\"colorbar\":{\"outlinewidth\":0,\"ticks\":\"\"}}],\"scatter\":[{\"marker\":{\"line\":{\"color\":\"#283442\"}},\"type\":\"scatter\"}],\"parcoords\":[{\"type\":\"parcoords\",\"line\":{\"colorbar\":{\"outlinewidth\":0,\"ticks\":\"\"}}}],\"scatterpolargl\":[{\"type\":\"scatterpolargl\",\"marker\":{\"colorbar\":{\"outlinewidth\":0,\"ticks\":\"\"}}}],\"bar\":[{\"error_x\":{\"color\":\"#f2f5fa\"},\"error_y\":{\"color\":\"#f2f5fa\"},\"marker\":{\"line\":{\"color\":\"rgb(17,17,17)\",\"width\":0.5},\"pattern\":{\"fillmode\":\"overlay\",\"size\":10,\"solidity\":0.2}},\"type\":\"bar\"}],\"scattergeo\":[{\"type\":\"scattergeo\",\"marker\":{\"colorbar\":{\"outlinewidth\":0,\"ticks\":\"\"}}}],\"scatterpolar\":[{\"type\":\"scatterpolar\",\"marker\":{\"colorbar\":{\"outlinewidth\":0,\"ticks\":\"\"}}}],\"histogram\":[{\"marker\":{\"pattern\":{\"fillmode\":\"overlay\",\"size\":10,\"solidity\":0.2}},\"type\":\"histogram\"}],\"scattergl\":[{\"marker\":{\"line\":{\"color\":\"#283442\"}},\"type\":\"scattergl\"}],\"scatter3d\":[{\"type\":\"scatter3d\",\"line\":{\"colorbar\":{\"outlinewidth\":0,\"ticks\":\"\"}},\"marker\":{\"colorbar\":{\"outlinewidth\":0,\"ticks\":\"\"}}}],\"scattermapbox\":[{\"type\":\"scattermapbox\",\"marker\":{\"colorbar\":{\"outlinewidth\":0,\"ticks\":\"\"}}}],\"scatterternary\":[{\"type\":\"scatterternary\",\"marker\":{\"colorbar\":{\"outlinewidth\":0,\"ticks\":\"\"}}}],\"scattercarpet\":[{\"type\":\"scattercarpet\",\"marker\":{\"colorbar\":{\"outlinewidth\":0,\"ticks\":\"\"}}}],\"carpet\":[{\"aaxis\":{\"endlinecolor\":\"#A2B1C6\",\"gridcolor\":\"#506784\",\"linecolor\":\"#506784\",\"minorgridcolor\":\"#506784\",\"startlinecolor\":\"#A2B1C6\"},\"baxis\":{\"endlinecolor\":\"#A2B1C6\",\"gridcolor\":\"#506784\",\"linecolor\":\"#506784\",\"minorgridcolor\":\"#506784\",\"startlinecolor\":\"#A2B1C6\"},\"type\":\"carpet\"}],\"table\":[{\"cells\":{\"fill\":{\"color\":\"#506784\"},\"line\":{\"color\":\"rgb(17,17,17)\"}},\"header\":{\"fill\":{\"color\":\"#2a3f5f\"},\"line\":{\"color\":\"rgb(17,17,17)\"}},\"type\":\"table\"}],\"barpolar\":[{\"marker\":{\"line\":{\"color\":\"rgb(17,17,17)\",\"width\":0.5},\"pattern\":{\"fillmode\":\"overlay\",\"size\":10,\"solidity\":0.2}},\"type\":\"barpolar\"}],\"pie\":[{\"automargin\":true,\"type\":\"pie\"}]},\"layout\":{\"autotypenumbers\":\"strict\",\"colorway\":[\"#636efa\",\"#EF553B\",\"#00cc96\",\"#ab63fa\",\"#FFA15A\",\"#19d3f3\",\"#FF6692\",\"#B6E880\",\"#FF97FF\",\"#FECB52\"],\"font\":{\"color\":\"#f2f5fa\"},\"hovermode\":\"closest\",\"hoverlabel\":{\"align\":\"left\"},\"paper_bgcolor\":\"rgb(17,17,17)\",\"plot_bgcolor\":\"rgb(17,17,17)\",\"polar\":{\"bgcolor\":\"rgb(17,17,17)\",\"angularaxis\":{\"gridcolor\":\"#506784\",\"linecolor\":\"#506784\",\"ticks\":\"\"},\"radialaxis\":{\"gridcolor\":\"#506784\",\"linecolor\":\"#506784\",\"ticks\":\"\"}},\"ternary\":{\"bgcolor\":\"rgb(17,17,17)\",\"aaxis\":{\"gridcolor\":\"#506784\",\"linecolor\":\"#506784\",\"ticks\":\"\"},\"baxis\":{\"gridcolor\":\"#506784\",\"linecolor\":\"#506784\",\"ticks\":\"\"},\"caxis\":{\"gridcolor\":\"#506784\",\"linecolor\":\"#506784\",\"ticks\":\"\"}},\"coloraxis\":{\"colorbar\":{\"outlinewidth\":0,\"ticks\":\"\"}},\"colorscale\":{\"sequential\":[[0.0,\"#0d0887\"],[0.1111111111111111,\"#46039f\"],[0.2222222222222222,\"#7201a8\"],[0.3333333333333333,\"#9c179e\"],[0.4444444444444444,\"#bd3786\"],[0.5555555555555556,\"#d8576b\"],[0.6666666666666666,\"#ed7953\"],[0.7777777777777778,\"#fb9f3a\"],[0.8888888888888888,\"#fdca26\"],[1.0,\"#f0f921\"]],\"sequentialminus\":[[0.0,\"#0d0887\"],[0.1111111111111111,\"#46039f\"],[0.2222222222222222,\"#7201a8\"],[0.3333333333333333,\"#9c179e\"],[0.4444444444444444,\"#bd3786\"],[0.5555555555555556,\"#d8576b\"],[0.6666666666666666,\"#ed7953\"],[0.7777777777777778,\"#fb9f3a\"],[0.8888888888888888,\"#fdca26\"],[1.0,\"#f0f921\"]],\"diverging\":[[0,\"#8e0152\"],[0.1,\"#c51b7d\"],[0.2,\"#de77ae\"],[0.3,\"#f1b6da\"],[0.4,\"#fde0ef\"],[0.5,\"#f7f7f7\"],[0.6,\"#e6f5d0\"],[0.7,\"#b8e186\"],[0.8,\"#7fbc41\"],[0.9,\"#4d9221\"],[1,\"#276419\"]]},\"xaxis\":{\"gridcolor\":\"#283442\",\"linecolor\":\"#506784\",\"ticks\":\"\",\"title\":{\"standoff\":15},\"zerolinecolor\":\"#283442\",\"automargin\":true,\"zerolinewidth\":2},\"yaxis\":{\"gridcolor\":\"#283442\",\"linecolor\":\"#506784\",\"ticks\":\"\",\"title\":{\"standoff\":15},\"zerolinecolor\":\"#283442\",\"automargin\":true,\"zerolinewidth\":2},\"scene\":{\"xaxis\":{\"backgroundcolor\":\"rgb(17,17,17)\",\"gridcolor\":\"#506784\",\"linecolor\":\"#506784\",\"showbackground\":true,\"ticks\":\"\",\"zerolinecolor\":\"#C8D4E3\",\"gridwidth\":2},\"yaxis\":{\"backgroundcolor\":\"rgb(17,17,17)\",\"gridcolor\":\"#506784\",\"linecolor\":\"#506784\",\"showbackground\":true,\"ticks\":\"\",\"zerolinecolor\":\"#C8D4E3\",\"gridwidth\":2},\"zaxis\":{\"backgroundcolor\":\"rgb(17,17,17)\",\"gridcolor\":\"#506784\",\"linecolor\":\"#506784\",\"showbackground\":true,\"ticks\":\"\",\"zerolinecolor\":\"#C8D4E3\",\"gridwidth\":2}},\"shapedefaults\":{\"line\":{\"color\":\"#f2f5fa\"}},\"annotationdefaults\":{\"arrowcolor\":\"#f2f5fa\",\"arrowhead\":0,\"arrowwidth\":1},\"geo\":{\"bgcolor\":\"rgb(17,17,17)\",\"landcolor\":\"rgb(17,17,17)\",\"subunitcolor\":\"#506784\",\"showland\":true,\"showlakes\":true,\"lakecolor\":\"rgb(17,17,17)\"},\"title\":{\"x\":0.05},\"updatemenudefaults\":{\"bgcolor\":\"#506784\",\"borderwidth\":0},\"sliderdefaults\":{\"bgcolor\":\"#C8D4E3\",\"borderwidth\":1,\"bordercolor\":\"rgb(17,17,17)\",\"tickwidth\":0},\"mapbox\":{\"style\":\"dark\"}}},\"xaxis\":{\"anchor\":\"y\",\"domain\":[0.0,1.0],\"title\":{\"text\":\"Human Development Index\"}},\"yaxis\":{\"anchor\":\"x\",\"domain\":[0.0,0.7326],\"title\":{\"text\":\"count\"}},\"xaxis2\":{\"anchor\":\"y2\",\"domain\":[0.0,1.0],\"matches\":\"x\",\"showticklabels\":false,\"showgrid\":true},\"yaxis2\":{\"anchor\":\"x2\",\"domain\":[0.7426,1.0],\"matches\":\"y2\",\"showticklabels\":false,\"showline\":false,\"ticks\":\"\",\"showgrid\":false},\"legend\":{\"title\":{\"text\":\"reference\"},\"tracegroupgap\":0},\"title\":{\"text\":\"Histogram Human Development Index per year with 2020 as reference\"},\"barmode\":\"relative\",\"updatemenus\":[{\"buttons\":[{\"args\":[null,{\"frame\":{\"duration\":500,\"redraw\":true},\"mode\":\"immediate\",\"fromcurrent\":true,\"transition\":{\"duration\":500,\"easing\":\"linear\"}}],\"label\":\"&#9654;\",\"method\":\"animate\"},{\"args\":[[null],{\"frame\":{\"duration\":0,\"redraw\":true},\"mode\":\"immediate\",\"fromcurrent\":true,\"transition\":{\"duration\":0,\"easing\":\"linear\"}}],\"label\":\"&#9724;\",\"method\":\"animate\"}],\"direction\":\"left\",\"pad\":{\"r\":10,\"t\":70},\"showactive\":false,\"type\":\"buttons\",\"x\":0.1,\"xanchor\":\"right\",\"y\":0,\"yanchor\":\"top\"}],\"sliders\":[{\"active\":0,\"currentvalue\":{\"prefix\":\"Year=\"},\"len\":0.9,\"pad\":{\"b\":10,\"t\":60},\"steps\":[{\"args\":[[\"2000\"],{\"frame\":{\"duration\":0,\"redraw\":true},\"mode\":\"immediate\",\"fromcurrent\":true,\"transition\":{\"duration\":0,\"easing\":\"linear\"}}],\"label\":\"2000\",\"method\":\"animate\"},{\"args\":[[\"2001\"],{\"frame\":{\"duration\":0,\"redraw\":true},\"mode\":\"immediate\",\"fromcurrent\":true,\"transition\":{\"duration\":0,\"easing\":\"linear\"}}],\"label\":\"2001\",\"method\":\"animate\"},{\"args\":[[\"2002\"],{\"frame\":{\"duration\":0,\"redraw\":true},\"mode\":\"immediate\",\"fromcurrent\":true,\"transition\":{\"duration\":0,\"easing\":\"linear\"}}],\"label\":\"2002\",\"method\":\"animate\"},{\"args\":[[\"2003\"],{\"frame\":{\"duration\":0,\"redraw\":true},\"mode\":\"immediate\",\"fromcurrent\":true,\"transition\":{\"duration\":0,\"easing\":\"linear\"}}],\"label\":\"2003\",\"method\":\"animate\"},{\"args\":[[\"2004\"],{\"frame\":{\"duration\":0,\"redraw\":true},\"mode\":\"immediate\",\"fromcurrent\":true,\"transition\":{\"duration\":0,\"easing\":\"linear\"}}],\"label\":\"2004\",\"method\":\"animate\"},{\"args\":[[\"2005\"],{\"frame\":{\"duration\":0,\"redraw\":true},\"mode\":\"immediate\",\"fromcurrent\":true,\"transition\":{\"duration\":0,\"easing\":\"linear\"}}],\"label\":\"2005\",\"method\":\"animate\"},{\"args\":[[\"2006\"],{\"frame\":{\"duration\":0,\"redraw\":true},\"mode\":\"immediate\",\"fromcurrent\":true,\"transition\":{\"duration\":0,\"easing\":\"linear\"}}],\"label\":\"2006\",\"method\":\"animate\"},{\"args\":[[\"2007\"],{\"frame\":{\"duration\":0,\"redraw\":true},\"mode\":\"immediate\",\"fromcurrent\":true,\"transition\":{\"duration\":0,\"easing\":\"linear\"}}],\"label\":\"2007\",\"method\":\"animate\"},{\"args\":[[\"2008\"],{\"frame\":{\"duration\":0,\"redraw\":true},\"mode\":\"immediate\",\"fromcurrent\":true,\"transition\":{\"duration\":0,\"easing\":\"linear\"}}],\"label\":\"2008\",\"method\":\"animate\"},{\"args\":[[\"2009\"],{\"frame\":{\"duration\":0,\"redraw\":true},\"mode\":\"immediate\",\"fromcurrent\":true,\"transition\":{\"duration\":0,\"easing\":\"linear\"}}],\"label\":\"2009\",\"method\":\"animate\"},{\"args\":[[\"2010\"],{\"frame\":{\"duration\":0,\"redraw\":true},\"mode\":\"immediate\",\"fromcurrent\":true,\"transition\":{\"duration\":0,\"easing\":\"linear\"}}],\"label\":\"2010\",\"method\":\"animate\"},{\"args\":[[\"2011\"],{\"frame\":{\"duration\":0,\"redraw\":true},\"mode\":\"immediate\",\"fromcurrent\":true,\"transition\":{\"duration\":0,\"easing\":\"linear\"}}],\"label\":\"2011\",\"method\":\"animate\"},{\"args\":[[\"2012\"],{\"frame\":{\"duration\":0,\"redraw\":true},\"mode\":\"immediate\",\"fromcurrent\":true,\"transition\":{\"duration\":0,\"easing\":\"linear\"}}],\"label\":\"2012\",\"method\":\"animate\"},{\"args\":[[\"2013\"],{\"frame\":{\"duration\":0,\"redraw\":true},\"mode\":\"immediate\",\"fromcurrent\":true,\"transition\":{\"duration\":0,\"easing\":\"linear\"}}],\"label\":\"2013\",\"method\":\"animate\"},{\"args\":[[\"2014\"],{\"frame\":{\"duration\":0,\"redraw\":true},\"mode\":\"immediate\",\"fromcurrent\":true,\"transition\":{\"duration\":0,\"easing\":\"linear\"}}],\"label\":\"2014\",\"method\":\"animate\"},{\"args\":[[\"2015\"],{\"frame\":{\"duration\":0,\"redraw\":true},\"mode\":\"immediate\",\"fromcurrent\":true,\"transition\":{\"duration\":0,\"easing\":\"linear\"}}],\"label\":\"2015\",\"method\":\"animate\"},{\"args\":[[\"2016\"],{\"frame\":{\"duration\":0,\"redraw\":true},\"mode\":\"immediate\",\"fromcurrent\":true,\"transition\":{\"duration\":0,\"easing\":\"linear\"}}],\"label\":\"2016\",\"method\":\"animate\"},{\"args\":[[\"2017\"],{\"frame\":{\"duration\":0,\"redraw\":true},\"mode\":\"immediate\",\"fromcurrent\":true,\"transition\":{\"duration\":0,\"easing\":\"linear\"}}],\"label\":\"2017\",\"method\":\"animate\"},{\"args\":[[\"2018\"],{\"frame\":{\"duration\":0,\"redraw\":true},\"mode\":\"immediate\",\"fromcurrent\":true,\"transition\":{\"duration\":0,\"easing\":\"linear\"}}],\"label\":\"2018\",\"method\":\"animate\"},{\"args\":[[\"2019\"],{\"frame\":{\"duration\":0,\"redraw\":true},\"mode\":\"immediate\",\"fromcurrent\":true,\"transition\":{\"duration\":0,\"easing\":\"linear\"}}],\"label\":\"2019\",\"method\":\"animate\"},{\"args\":[[\"2020\"],{\"frame\":{\"duration\":0,\"redraw\":true},\"mode\":\"immediate\",\"fromcurrent\":true,\"transition\":{\"duration\":0,\"easing\":\"linear\"}}],\"label\":\"2020\",\"method\":\"animate\"}],\"x\":0.1,\"xanchor\":\"left\",\"y\":0,\"yanchor\":\"top\"}]},                        {\"responsive\": true}                    ).then(function(){\n                            Plotly.addFrames('65fdc84b-cd8d-44da-a1ca-cc611d0c0d5d', [{\"data\":[{\"alignmentgroup\":\"True\",\"bingroup\":\"x\",\"hovertemplate\":\"reference=False<br>Year=2000<br>Human Development Index=%{x}<br>count=%{y}<extra></extra>\",\"legendgroup\":\"False\",\"marker\":{\"color\":\"#636efa\",\"opacity\":1,\"pattern\":{\"shape\":\"\"}},\"name\":\"False\",\"offsetgroup\":\"False\",\"orientation\":\"v\",\"showlegend\":true,\"texttemplate\":\"%{value}\",\"x\":[0.677,0.871,0.712,0.887,0.667,0.725,0.759,0.808,0.889,0.787,0.891,0.844,0.889,0.81,0.773,0.871,0.847,0.841,0.756,0.766,0.864,0.779,0.893,0.675,0.913,0.793,0.791,0.715,0.763,0.821,0.825,0.904,0.887,0.7,0.862],\"xaxis\":\"x\",\"yaxis\":\"y\",\"type\":\"histogram\"},{\"alignmentgroup\":\"True\",\"hovertemplate\":\"reference=False<br>Year=2000<br>Human Development Index=%{x}<extra></extra>\",\"legendgroup\":\"False\",\"marker\":{\"color\":\"#636efa\"},\"name\":\"False\",\"notched\":true,\"offsetgroup\":\"False\",\"showlegend\":false,\"x\":[0.677,0.871,0.712,0.887,0.667,0.725,0.759,0.808,0.889,0.787,0.891,0.844,0.889,0.81,0.773,0.871,0.847,0.841,0.756,0.766,0.864,0.779,0.893,0.675,0.913,0.793,0.791,0.715,0.763,0.821,0.825,0.904,0.887,0.7,0.862],\"xaxis\":\"x2\",\"yaxis\":\"y2\",\"type\":\"box\"}],\"name\":\"2000\"},{\"data\":[{\"alignmentgroup\":\"True\",\"bingroup\":\"x\",\"hovertemplate\":\"reference=False<br>Year=2001<br>Human Development Index=%{x}<br>count=%{y}<extra></extra>\",\"legendgroup\":\"False\",\"marker\":{\"color\":\"#636efa\",\"opacity\":1,\"pattern\":{\"shape\":\"\"}},\"name\":\"False\",\"offsetgroup\":\"False\",\"orientation\":\"v\",\"showlegend\":true,\"texttemplate\":\"%{value}\",\"x\":[0.684,0.876,0.716,0.89,0.672,0.734,0.769,0.818,0.895,0.797,0.9,0.847,0.896,0.82,0.782,0.879,0.855,0.849,0.767,0.776,0.869,0.796,0.895,0.679,0.911,0.799,0.797,0.722,0.77,0.837,0.83,0.907,0.89,0.715,0.868],\"xaxis\":\"x\",\"yaxis\":\"y\",\"type\":\"histogram\"},{\"alignmentgroup\":\"True\",\"hovertemplate\":\"reference=False<br>Year=2001<br>Human Development Index=%{x}<extra></extra>\",\"legendgroup\":\"False\",\"marker\":{\"color\":\"#636efa\"},\"name\":\"False\",\"notched\":true,\"offsetgroup\":\"False\",\"showlegend\":false,\"x\":[0.684,0.876,0.716,0.89,0.672,0.734,0.769,0.818,0.895,0.797,0.9,0.847,0.896,0.82,0.782,0.879,0.855,0.849,0.767,0.776,0.869,0.796,0.895,0.679,0.911,0.799,0.797,0.722,0.77,0.837,0.83,0.907,0.89,0.715,0.868],\"xaxis\":\"x2\",\"yaxis\":\"y2\",\"type\":\"box\"}],\"name\":\"2001\"},{\"data\":[{\"alignmentgroup\":\"True\",\"bingroup\":\"x\",\"hovertemplate\":\"reference=False<br>Year=2002<br>Human Development Index=%{x}<br>count=%{y}<extra></extra>\",\"legendgroup\":\"False\",\"marker\":{\"color\":\"#636efa\",\"opacity\":1,\"pattern\":{\"shape\":\"\"}},\"name\":\"False\",\"offsetgroup\":\"False\",\"orientation\":\"v\",\"showlegend\":true,\"texttemplate\":\"%{value}\",\"x\":[0.689,0.879,0.721,0.892,0.675,0.74,0.777,0.825,0.896,0.807,0.904,0.848,0.901,0.83,0.791,0.886,0.864,0.853,0.778,0.786,0.874,0.8,0.892,0.683,0.912,0.806,0.798,0.729,0.779,0.848,0.834,0.91,0.89,0.722,0.873],\"xaxis\":\"x\",\"yaxis\":\"y\",\"type\":\"histogram\"},{\"alignmentgroup\":\"True\",\"hovertemplate\":\"reference=False<br>Year=2002<br>Human Development Index=%{x}<extra></extra>\",\"legendgroup\":\"False\",\"marker\":{\"color\":\"#636efa\"},\"name\":\"False\",\"notched\":true,\"offsetgroup\":\"False\",\"showlegend\":false,\"x\":[0.689,0.879,0.721,0.892,0.675,0.74,0.777,0.825,0.896,0.807,0.904,0.848,0.901,0.83,0.791,0.886,0.864,0.853,0.778,0.786,0.874,0.8,0.892,0.683,0.912,0.806,0.798,0.729,0.779,0.848,0.834,0.91,0.89,0.722,0.873],\"xaxis\":\"x2\",\"yaxis\":\"y2\",\"type\":\"box\"}],\"name\":\"2002\"},{\"data\":[{\"alignmentgroup\":\"True\",\"bingroup\":\"x\",\"hovertemplate\":\"reference=False<br>Year=2003<br>Human Development Index=%{x}<br>count=%{y}<extra></extra>\",\"legendgroup\":\"False\",\"marker\":{\"color\":\"#636efa\",\"opacity\":1,\"pattern\":{\"shape\":\"\"}},\"name\":\"False\",\"offsetgroup\":\"False\",\"orientation\":\"v\",\"showlegend\":true,\"texttemplate\":\"%{value}\",\"x\":[0.696,0.881,0.73,0.895,0.683,0.749,0.783,0.831,0.901,0.816,0.907,0.851,0.905,0.835,0.798,0.891,0.873,0.858,0.787,0.8,0.873,0.812,0.894,0.688,0.919,0.811,0.802,0.732,0.784,0.858,0.837,0.915,0.895,0.732,0.878],\"xaxis\":\"x\",\"yaxis\":\"y\",\"type\":\"histogram\"},{\"alignmentgroup\":\"True\",\"hovertemplate\":\"reference=False<br>Year=2003<br>Human Development Index=%{x}<extra></extra>\",\"legendgroup\":\"False\",\"marker\":{\"color\":\"#636efa\"},\"name\":\"False\",\"notched\":true,\"offsetgroup\":\"False\",\"showlegend\":false,\"x\":[0.696,0.881,0.73,0.895,0.683,0.749,0.783,0.831,0.901,0.816,0.907,0.851,0.905,0.835,0.798,0.891,0.873,0.858,0.787,0.8,0.873,0.812,0.894,0.688,0.919,0.811,0.802,0.732,0.784,0.858,0.837,0.915,0.895,0.732,0.878],\"xaxis\":\"x2\",\"yaxis\":\"y2\",\"type\":\"box\"}],\"name\":\"2003\"},{\"data\":[{\"alignmentgroup\":\"True\",\"bingroup\":\"x\",\"hovertemplate\":\"reference=False<br>Year=2004<br>Human Development Index=%{x}<br>count=%{y}<extra></extra>\",\"legendgroup\":\"False\",\"marker\":{\"color\":\"#636efa\",\"opacity\":1,\"pattern\":{\"shape\":\"\"}},\"name\":\"False\",\"offsetgroup\":\"False\",\"orientation\":\"v\",\"showlegend\":true,\"texttemplate\":\"%{value}\",\"x\":[0.7,0.886,0.742,0.9,0.69,0.756,0.796,0.836,0.906,0.826,0.902,0.858,0.914,0.843,0.801,0.895,0.881,0.865,0.799,0.809,0.882,0.825,0.897,0.694,0.927,0.809,0.805,0.742,0.794,0.865,0.844,0.9,0.901,0.74,0.889],\"xaxis\":\"x\",\"yaxis\":\"y\",\"type\":\"histogram\"},{\"alignmentgroup\":\"True\",\"hovertemplate\":\"reference=False<br>Year=2004<br>Human Development Index=%{x}<extra></extra>\",\"legendgroup\":\"False\",\"marker\":{\"color\":\"#636efa\"},\"name\":\"False\",\"notched\":true,\"offsetgroup\":\"False\",\"showlegend\":false,\"x\":[0.7,0.886,0.742,0.9,0.69,0.756,0.796,0.836,0.906,0.826,0.902,0.858,0.914,0.843,0.801,0.895,0.881,0.865,0.799,0.809,0.882,0.825,0.897,0.694,0.927,0.809,0.805,0.742,0.794,0.865,0.844,0.9,0.901,0.74,0.889],\"xaxis\":\"x2\",\"yaxis\":\"y2\",\"type\":\"box\"}],\"name\":\"2004\"},{\"data\":[{\"alignmentgroup\":\"True\",\"bingroup\":\"x\",\"hovertemplate\":\"reference=False<br>Year=2005<br>Human Development Index=%{x}<br>count=%{y}<extra></extra>\",\"legendgroup\":\"False\",\"marker\":{\"color\":\"#636efa\",\"opacity\":1,\"pattern\":{\"shape\":\"\"}},\"name\":\"False\",\"offsetgroup\":\"False\",\"orientation\":\"v\",\"showlegend\":true,\"texttemplate\":\"%{value}\",\"x\":[0.711,0.889,0.75,0.902,0.691,0.762,0.802,0.844,0.911,0.839,0.905,0.866,0.914,0.855,0.806,0.901,0.888,0.868,0.808,0.817,0.884,0.832,0.899,0.699,0.931,0.815,0.806,0.756,0.803,0.869,0.85,0.902,0.905,0.743,0.895],\"xaxis\":\"x\",\"yaxis\":\"y\",\"type\":\"histogram\"},{\"alignmentgroup\":\"True\",\"hovertemplate\":\"reference=False<br>Year=2005<br>Human Development Index=%{x}<extra></extra>\",\"legendgroup\":\"False\",\"marker\":{\"color\":\"#636efa\"},\"name\":\"False\",\"notched\":true,\"offsetgroup\":\"False\",\"showlegend\":false,\"x\":[0.711,0.889,0.75,0.902,0.691,0.762,0.802,0.844,0.911,0.839,0.905,0.866,0.914,0.855,0.806,0.901,0.888,0.868,0.808,0.817,0.884,0.832,0.899,0.699,0.931,0.815,0.806,0.756,0.803,0.869,0.85,0.902,0.905,0.743,0.895],\"xaxis\":\"x2\",\"yaxis\":\"y2\",\"type\":\"box\"}],\"name\":\"2005\"},{\"data\":[{\"alignmentgroup\":\"True\",\"bingroup\":\"x\",\"hovertemplate\":\"reference=False<br>Year=2006<br>Human Development Index=%{x}<br>count=%{y}<extra></extra>\",\"legendgroup\":\"False\",\"marker\":{\"color\":\"#636efa\",\"opacity\":1,\"pattern\":{\"shape\":\"\"}},\"name\":\"False\",\"offsetgroup\":\"False\",\"orientation\":\"v\",\"showlegend\":true,\"texttemplate\":\"%{value}\",\"x\":[0.718,0.893,0.762,0.905,0.699,0.767,0.811,0.852,0.91,0.847,0.909,0.87,0.917,0.863,0.814,0.903,0.891,0.873,0.815,0.823,0.885,0.831,0.906,0.707,0.937,0.82,0.811,0.77,0.812,0.878,0.856,0.906,0.914,0.751,0.894],\"xaxis\":\"x\",\"yaxis\":\"y\",\"type\":\"histogram\"},{\"alignmentgroup\":\"True\",\"hovertemplate\":\"reference=False<br>Year=2006<br>Human Development Index=%{x}<extra></extra>\",\"legendgroup\":\"False\",\"marker\":{\"color\":\"#636efa\"},\"name\":\"False\",\"notched\":true,\"offsetgroup\":\"False\",\"showlegend\":false,\"x\":[0.718,0.893,0.762,0.905,0.699,0.767,0.811,0.852,0.91,0.847,0.909,0.87,0.917,0.863,0.814,0.903,0.891,0.873,0.815,0.823,0.885,0.831,0.906,0.707,0.937,0.82,0.811,0.77,0.812,0.878,0.856,0.906,0.914,0.751,0.894],\"xaxis\":\"x2\",\"yaxis\":\"y2\",\"type\":\"box\"}],\"name\":\"2006\"},{\"data\":[{\"alignmentgroup\":\"True\",\"bingroup\":\"x\",\"hovertemplate\":\"reference=False<br>Year=2007<br>Human Development Index=%{x}<br>count=%{y}<extra></extra>\",\"legendgroup\":\"False\",\"marker\":{\"color\":\"#636efa\",\"opacity\":1,\"pattern\":{\"shape\":\"\"}},\"name\":\"False\",\"offsetgroup\":\"False\",\"orientation\":\"v\",\"showlegend\":true,\"texttemplate\":\"%{value}\",\"x\":[0.73,0.896,0.773,0.908,0.707,0.774,0.815,0.859,0.911,0.853,0.911,0.873,0.921,0.858,0.817,0.909,0.896,0.877,0.82,0.83,0.887,0.837,0.787,0.912,0.711,0.938,0.825,0.818,0.786,0.754,0.823,0.882,0.858,0.908,0.92,0.757,0.897],\"xaxis\":\"x\",\"yaxis\":\"y\",\"type\":\"histogram\"},{\"alignmentgroup\":\"True\",\"hovertemplate\":\"reference=False<br>Year=2007<br>Human Development Index=%{x}<extra></extra>\",\"legendgroup\":\"False\",\"marker\":{\"color\":\"#636efa\"},\"name\":\"False\",\"notched\":true,\"offsetgroup\":\"False\",\"showlegend\":false,\"x\":[0.73,0.896,0.773,0.908,0.707,0.774,0.815,0.859,0.911,0.853,0.911,0.873,0.921,0.858,0.817,0.909,0.896,0.877,0.82,0.83,0.887,0.837,0.787,0.912,0.711,0.938,0.825,0.818,0.786,0.754,0.823,0.882,0.858,0.908,0.92,0.757,0.897],\"xaxis\":\"x2\",\"yaxis\":\"y2\",\"type\":\"box\"}],\"name\":\"2007\"},{\"data\":[{\"alignmentgroup\":\"True\",\"bingroup\":\"x\",\"hovertemplate\":\"reference=False<br>Year=2008<br>Human Development Index=%{x}<br>count=%{y}<extra></extra>\",\"legendgroup\":\"False\",\"marker\":{\"color\":\"#636efa\",\"opacity\":1,\"pattern\":{\"shape\":\"\"}},\"name\":\"False\",\"offsetgroup\":\"False\",\"orientation\":\"v\",\"showlegend\":true,\"texttemplate\":\"%{value}\",\"x\":[0.736,0.898,0.783,0.908,0.718,0.782,0.817,0.863,0.915,0.856,0.912,0.873,0.923,0.863,0.823,0.902,0.899,0.878,0.827,0.84,0.9,0.841,0.8,0.912,0.73,0.94,0.831,0.822,0.806,0.765,0.831,0.888,0.86,0.905,0.926,0.761,0.9],\"xaxis\":\"x\",\"yaxis\":\"y\",\"type\":\"histogram\"},{\"alignmentgroup\":\"True\",\"hovertemplate\":\"reference=False<br>Year=2008<br>Human Development Index=%{x}<extra></extra>\",\"legendgroup\":\"False\",\"marker\":{\"color\":\"#636efa\"},\"name\":\"False\",\"notched\":true,\"offsetgroup\":\"False\",\"showlegend\":false,\"x\":[0.736,0.898,0.783,0.908,0.718,0.782,0.817,0.863,0.915,0.856,0.912,0.873,0.923,0.863,0.823,0.902,0.899,0.878,0.827,0.84,0.9,0.841,0.8,0.912,0.73,0.94,0.831,0.822,0.806,0.765,0.831,0.888,0.86,0.905,0.926,0.761,0.9],\"xaxis\":\"x2\",\"yaxis\":\"y2\",\"type\":\"box\"}],\"name\":\"2008\"},{\"data\":[{\"alignmentgroup\":\"True\",\"bingroup\":\"x\",\"hovertemplate\":\"reference=False<br>Year=2009<br>Human Development Index=%{x}<br>count=%{y}<extra></extra>\",\"legendgroup\":\"False\",\"marker\":{\"color\":\"#636efa\",\"opacity\":1,\"pattern\":{\"shape\":\"\"}},\"name\":\"False\",\"offsetgroup\":\"False\",\"orientation\":\"v\",\"showlegend\":true,\"texttemplate\":\"%{value}\",\"x\":[0.741,0.898,0.785,0.91,0.721,0.785,0.816,0.865,0.909,0.856,0.907,0.872,0.923,0.866,0.825,0.9,0.895,0.878,0.826,0.839,0.905,0.847,0.8,0.913,0.733,0.936,0.835,0.825,0.809,0.766,0.833,0.887,0.861,0.904,0.936,0.758,0.906],\"xaxis\":\"x\",\"yaxis\":\"y\",\"type\":\"histogram\"},{\"alignmentgroup\":\"True\",\"hovertemplate\":\"reference=False<br>Year=2009<br>Human Development Index=%{x}<extra></extra>\",\"legendgroup\":\"False\",\"marker\":{\"color\":\"#636efa\"},\"name\":\"False\",\"notched\":true,\"offsetgroup\":\"False\",\"showlegend\":false,\"x\":[0.741,0.898,0.785,0.91,0.721,0.785,0.816,0.865,0.909,0.856,0.907,0.872,0.923,0.866,0.825,0.9,0.895,0.878,0.826,0.839,0.905,0.847,0.8,0.913,0.733,0.936,0.835,0.825,0.809,0.766,0.833,0.887,0.861,0.904,0.936,0.758,0.906],\"xaxis\":\"x2\",\"yaxis\":\"y2\",\"type\":\"box\"}],\"name\":\"2009\"},{\"data\":[{\"alignmentgroup\":\"True\",\"bingroup\":\"x\",\"hovertemplate\":\"reference=False<br>Year=2010<br>Human Development Index=%{x}<br>count=%{y}<extra></extra>\",\"legendgroup\":\"False\",\"marker\":{\"color\":\"#636efa\",\"opacity\":1,\"pattern\":{\"shape\":\"\"}},\"name\":\"False\",\"offsetgroup\":\"False\",\"orientation\":\"v\",\"showlegend\":true,\"texttemplate\":\"%{value}\",\"x\":[0.754,0.902,0.79,0.912,0.725,0.79,0.821,0.87,0.913,0.861,0.911,0.877,0.926,0.869,0.828,0.902,0.904,0.882,0.824,0.842,0.912,0.861,0.808,0.917,0.738,0.941,0.841,0.829,0.807,0.767,0.84,0.89,0.868,0.91,0.942,0.764,0.912],\"xaxis\":\"x\",\"yaxis\":\"y\",\"type\":\"histogram\"},{\"alignmentgroup\":\"True\",\"hovertemplate\":\"reference=False<br>Year=2010<br>Human Development Index=%{x}<extra></extra>\",\"legendgroup\":\"False\",\"marker\":{\"color\":\"#636efa\"},\"name\":\"False\",\"notched\":true,\"offsetgroup\":\"False\",\"showlegend\":false,\"x\":[0.754,0.902,0.79,0.912,0.725,0.79,0.821,0.87,0.913,0.861,0.911,0.877,0.926,0.869,0.828,0.902,0.904,0.882,0.824,0.842,0.912,0.861,0.808,0.917,0.738,0.941,0.841,0.829,0.807,0.767,0.84,0.89,0.868,0.91,0.942,0.764,0.912],\"xaxis\":\"x2\",\"yaxis\":\"y2\",\"type\":\"box\"}],\"name\":\"2010\"},{\"data\":[{\"alignmentgroup\":\"True\",\"bingroup\":\"x\",\"hovertemplate\":\"reference=False<br>Year=2011<br>Human Development Index=%{x}<br>count=%{y}<extra></extra>\",\"legendgroup\":\"False\",\"marker\":{\"color\":\"#636efa\",\"opacity\":1,\"pattern\":{\"shape\":\"\"}},\"name\":\"False\",\"offsetgroup\":\"False\",\"orientation\":\"v\",\"showlegend\":true,\"texttemplate\":\"%{value}\",\"x\":[0.766,0.905,0.797,0.914,0.732,0.794,0.826,0.872,0.926,0.871,0.915,0.881,0.931,0.865,0.83,0.912,0.902,0.885,0.831,0.849,0.913,0.857,0.811,0.927,0.741,0.944,0.847,0.835,0.808,0.777,0.844,0.892,0.872,0.911,0.943,0.769,0.908],\"xaxis\":\"x\",\"yaxis\":\"y\",\"type\":\"histogram\"},{\"alignmentgroup\":\"True\",\"hovertemplate\":\"reference=False<br>Year=2011<br>Human Development Index=%{x}<extra></extra>\",\"legendgroup\":\"False\",\"marker\":{\"color\":\"#636efa\"},\"name\":\"False\",\"notched\":true,\"offsetgroup\":\"False\",\"showlegend\":false,\"x\":[0.766,0.905,0.797,0.914,0.732,0.794,0.826,0.872,0.926,0.871,0.915,0.881,0.931,0.865,0.83,0.912,0.902,0.885,0.831,0.849,0.913,0.857,0.811,0.927,0.741,0.944,0.847,0.835,0.808,0.777,0.844,0.892,0.872,0.911,0.943,0.769,0.908],\"xaxis\":\"x2\",\"yaxis\":\"y2\",\"type\":\"box\"}],\"name\":\"2011\"},{\"data\":[{\"alignmentgroup\":\"True\",\"bingroup\":\"x\",\"hovertemplate\":\"reference=False<br>Year=2012<br>Human Development Index=%{x}<br>count=%{y}<extra></extra>\",\"legendgroup\":\"False\",\"marker\":{\"color\":\"#636efa\",\"opacity\":1,\"pattern\":{\"shape\":\"\"}},\"name\":\"False\",\"offsetgroup\":\"False\",\"orientation\":\"v\",\"showlegend\":true,\"texttemplate\":\"%{value}\",\"x\":[0.778,0.906,0.806,0.915,0.745,0.798,0.83,0.874,0.931,0.874,0.915,0.882,0.933,0.866,0.831,0.921,0.903,0.883,0.833,0.851,0.916,0.864,0.812,0.927,0.743,0.946,0.852,0.836,0.805,0.78,0.845,0.891,0.874,0.911,0.945,0.773,0.909],\"xaxis\":\"x\",\"yaxis\":\"y\",\"type\":\"histogram\"},{\"alignmentgroup\":\"True\",\"hovertemplate\":\"reference=False<br>Year=2012<br>Human Development Index=%{x}<extra></extra>\",\"legendgroup\":\"False\",\"marker\":{\"color\":\"#636efa\"},\"name\":\"False\",\"notched\":true,\"offsetgroup\":\"False\",\"showlegend\":false,\"x\":[0.778,0.906,0.806,0.915,0.745,0.798,0.83,0.874,0.931,0.874,0.915,0.882,0.933,0.866,0.831,0.921,0.903,0.883,0.833,0.851,0.916,0.864,0.812,0.927,0.743,0.946,0.852,0.836,0.805,0.78,0.845,0.891,0.874,0.911,0.945,0.773,0.909],\"xaxis\":\"x2\",\"yaxis\":\"y2\",\"type\":\"box\"}],\"name\":\"2012\"},{\"data\":[{\"alignmentgroup\":\"True\",\"bingroup\":\"x\",\"hovertemplate\":\"reference=False<br>Year=2013<br>Human Development Index=%{x}<br>count=%{y}<extra></extra>\",\"legendgroup\":\"False\",\"marker\":{\"color\":\"#636efa\",\"opacity\":1,\"pattern\":{\"shape\":\"\"}},\"name\":\"False\",\"offsetgroup\":\"False\",\"orientation\":\"v\",\"showlegend\":true,\"texttemplate\":\"%{value}\",\"x\":[0.785,0.905,0.808,0.916,0.751,0.805,0.838,0.881,0.933,0.88,0.926,0.887,0.934,0.871,0.84,0.929,0.908,0.882,0.843,0.854,0.921,0.872,0.817,0.929,0.75,0.949,0.863,0.845,0.81,0.785,0.848,0.9,0.88,0.932,0.948,0.773,0.922],\"xaxis\":\"x\",\"yaxis\":\"y\",\"type\":\"histogram\"},{\"alignmentgroup\":\"True\",\"hovertemplate\":\"reference=False<br>Year=2013<br>Human Development Index=%{x}<extra></extra>\",\"legendgroup\":\"False\",\"marker\":{\"color\":\"#636efa\"},\"name\":\"False\",\"notched\":true,\"offsetgroup\":\"False\",\"showlegend\":false,\"x\":[0.785,0.905,0.808,0.916,0.751,0.805,0.838,0.881,0.933,0.88,0.926,0.887,0.934,0.871,0.84,0.929,0.908,0.882,0.843,0.854,0.921,0.872,0.817,0.929,0.75,0.949,0.863,0.845,0.81,0.785,0.848,0.9,0.88,0.932,0.948,0.773,0.922],\"xaxis\":\"x2\",\"yaxis\":\"y2\",\"type\":\"box\"}],\"name\":\"2013\"},{\"data\":[{\"alignmentgroup\":\"True\",\"bingroup\":\"x\",\"hovertemplate\":\"reference=False<br>Year=2014<br>Human Development Index=%{x}<br>count=%{y}<extra></extra>\",\"legendgroup\":\"False\",\"marker\":{\"color\":\"#636efa\",\"opacity\":1,\"pattern\":{\"shape\":\"\"}},\"name\":\"False\",\"offsetgroup\":\"False\",\"orientation\":\"v\",\"showlegend\":true,\"texttemplate\":\"%{value}\",\"x\":[0.792,0.909,0.812,0.921,0.756,0.807,0.841,0.887,0.932,0.879,0.927,0.892,0.937,0.879,0.838,0.938,0.914,0.883,0.846,0.861,0.926,0.881,0.819,0.931,0.755,0.952,0.865,0.848,0.811,0.788,0.849,0.902,0.884,0.935,0.952,0.773,0.924],\"xaxis\":\"x\",\"yaxis\":\"y\",\"type\":\"histogram\"},{\"alignmentgroup\":\"True\",\"hovertemplate\":\"reference=False<br>Year=2014<br>Human Development Index=%{x}<extra></extra>\",\"legendgroup\":\"False\",\"marker\":{\"color\":\"#636efa\"},\"name\":\"False\",\"notched\":true,\"offsetgroup\":\"False\",\"showlegend\":false,\"x\":[0.792,0.909,0.812,0.921,0.756,0.807,0.841,0.887,0.932,0.879,0.927,0.892,0.937,0.879,0.838,0.938,0.914,0.883,0.846,0.861,0.926,0.881,0.819,0.931,0.755,0.952,0.865,0.848,0.811,0.788,0.849,0.902,0.884,0.935,0.952,0.773,0.924],\"xaxis\":\"x2\",\"yaxis\":\"y2\",\"type\":\"box\"}],\"name\":\"2014\"},{\"data\":[{\"alignmentgroup\":\"True\",\"bingroup\":\"x\",\"hovertemplate\":\"reference=True<br>Year=2015<br>Human Development Index=%{x}<br>count=%{y}<extra></extra>\",\"legendgroup\":\"True\",\"marker\":{\"color\":\"#EF553B\",\"opacity\":1,\"pattern\":{\"shape\":\"/\"}},\"name\":\"True\",\"offsetgroup\":\"True\",\"orientation\":\"v\",\"showlegend\":true,\"texttemplate\":\"%{value}\",\"x\":[0.795,0.91,0.812,0.924,0.761,0.809,0.843,0.891,0.936,0.882,0.93,0.892,0.938,0.88,0.838,0.945,0.925,0.882,0.85,0.862,0.915,0.889,0.822,0.932,0.762,0.953,0.868,0.85,0.813,0.794,0.851,0.903,0.889,0.937,0.954,0.774,0.924],\"xaxis\":\"x\",\"yaxis\":\"y\",\"type\":\"histogram\"},{\"alignmentgroup\":\"True\",\"hovertemplate\":\"reference=True<br>Year=2015<br>Human Development Index=%{x}<extra></extra>\",\"legendgroup\":\"True\",\"marker\":{\"color\":\"#EF553B\"},\"name\":\"True\",\"notched\":true,\"offsetgroup\":\"True\",\"showlegend\":false,\"x\":[0.795,0.91,0.812,0.924,0.761,0.809,0.843,0.891,0.936,0.882,0.93,0.892,0.938,0.88,0.838,0.945,0.925,0.882,0.85,0.862,0.915,0.889,0.822,0.932,0.762,0.953,0.868,0.85,0.813,0.794,0.851,0.903,0.889,0.937,0.954,0.774,0.924],\"xaxis\":\"x2\",\"yaxis\":\"y2\",\"type\":\"box\"}],\"name\":\"2015\"},{\"data\":[{\"alignmentgroup\":\"True\",\"bingroup\":\"x\",\"hovertemplate\":\"reference=False<br>Year=2016<br>Human Development Index=%{x}<br>count=%{y}<extra></extra>\",\"legendgroup\":\"False\",\"marker\":{\"color\":\"#636efa\",\"opacity\":1,\"pattern\":{\"shape\":\"\"}},\"name\":\"False\",\"offsetgroup\":\"False\",\"orientation\":\"v\",\"showlegend\":true,\"texttemplate\":\"%{value}\",\"x\":[0.798,0.915,0.813,0.927,0.77,0.809,0.848,0.895,0.943,0.885,0.931,0.895,0.941,0.877,0.843,0.948,0.929,0.887,0.855,0.868,0.923,0.891,0.824,0.933,0.767,0.955,0.872,0.853,0.816,0.8,0.854,0.91,0.895,0.939,0.956,0.779,0.927],\"xaxis\":\"x\",\"yaxis\":\"y\",\"type\":\"histogram\"},{\"alignmentgroup\":\"True\",\"hovertemplate\":\"reference=False<br>Year=2016<br>Human Development Index=%{x}<extra></extra>\",\"legendgroup\":\"False\",\"marker\":{\"color\":\"#636efa\"},\"name\":\"False\",\"notched\":true,\"offsetgroup\":\"False\",\"showlegend\":false,\"x\":[0.798,0.915,0.813,0.927,0.77,0.809,0.848,0.895,0.943,0.885,0.931,0.895,0.941,0.877,0.843,0.948,0.929,0.887,0.855,0.868,0.923,0.891,0.824,0.933,0.767,0.955,0.872,0.853,0.816,0.8,0.854,0.91,0.895,0.939,0.956,0.779,0.927],\"xaxis\":\"x2\",\"yaxis\":\"y2\",\"type\":\"box\"}],\"name\":\"2016\"},{\"data\":[{\"alignmentgroup\":\"True\",\"bingroup\":\"x\",\"hovertemplate\":\"reference=False<br>Year=2017<br>Human Development Index=%{x}<br>count=%{y}<extra></extra>\",\"legendgroup\":\"False\",\"marker\":{\"color\":\"#636efa\",\"opacity\":1,\"pattern\":{\"shape\":\"\"}},\"name\":\"False\",\"offsetgroup\":\"False\",\"orientation\":\"v\",\"showlegend\":true,\"texttemplate\":\"%{value}\",\"x\":[0.802,0.916,0.817,0.931,0.772,0.808,0.852,0.897,0.944,0.887,0.934,0.898,0.944,0.88,0.845,0.954,0.934,0.888,0.86,0.876,0.919,0.901,0.83,0.937,0.773,0.959,0.875,0.859,0.823,0.802,0.856,0.913,0.897,0.941,0.957,0.782,0.93],\"xaxis\":\"x\",\"yaxis\":\"y\",\"type\":\"histogram\"},{\"alignmentgroup\":\"True\",\"hovertemplate\":\"reference=False<br>Year=2017<br>Human Development Index=%{x}<extra></extra>\",\"legendgroup\":\"False\",\"marker\":{\"color\":\"#636efa\"},\"name\":\"False\",\"notched\":true,\"offsetgroup\":\"False\",\"showlegend\":false,\"x\":[0.802,0.916,0.817,0.931,0.772,0.808,0.852,0.897,0.944,0.887,0.934,0.898,0.944,0.88,0.845,0.954,0.934,0.888,0.86,0.876,0.919,0.901,0.83,0.937,0.773,0.959,0.875,0.859,0.823,0.802,0.856,0.913,0.897,0.941,0.957,0.782,0.93],\"xaxis\":\"x2\",\"yaxis\":\"y2\",\"type\":\"box\"}],\"name\":\"2017\"},{\"data\":[{\"alignmentgroup\":\"True\",\"bingroup\":\"x\",\"hovertemplate\":\"reference=False<br>Year=2018<br>Human Development Index=%{x}<br>count=%{y}<extra></extra>\",\"legendgroup\":\"False\",\"marker\":{\"color\":\"#636efa\",\"opacity\":1,\"pattern\":{\"shape\":\"\"}},\"name\":\"False\",\"offsetgroup\":\"False\",\"orientation\":\"v\",\"showlegend\":true,\"texttemplate\":\"%{value}\",\"x\":[0.806,0.917,0.818,0.933,0.776,0.809,0.856,0.894,0.942,0.891,0.936,0.901,0.945,0.886,0.849,0.959,0.937,0.893,0.866,0.88,0.922,0.91,0.834,0.939,0.779,0.962,0.877,0.86,0.827,0.808,0.859,0.917,0.901,0.942,0.959,0.783,0.929],\"xaxis\":\"x\",\"yaxis\":\"y\",\"type\":\"histogram\"},{\"alignmentgroup\":\"True\",\"hovertemplate\":\"reference=False<br>Year=2018<br>Human Development Index=%{x}<extra></extra>\",\"legendgroup\":\"False\",\"marker\":{\"color\":\"#636efa\"},\"name\":\"False\",\"notched\":true,\"offsetgroup\":\"False\",\"showlegend\":false,\"x\":[0.806,0.917,0.818,0.933,0.776,0.809,0.856,0.894,0.942,0.891,0.936,0.901,0.945,0.886,0.849,0.959,0.937,0.893,0.866,0.88,0.922,0.91,0.834,0.939,0.779,0.962,0.877,0.86,0.827,0.808,0.859,0.917,0.901,0.942,0.959,0.783,0.929],\"xaxis\":\"x2\",\"yaxis\":\"y2\",\"type\":\"box\"}],\"name\":\"2018\"},{\"data\":[{\"alignmentgroup\":\"True\",\"bingroup\":\"x\",\"hovertemplate\":\"reference=False<br>Year=2019<br>Human Development Index=%{x}<br>count=%{y}<extra></extra>\",\"legendgroup\":\"False\",\"marker\":{\"color\":\"#636efa\",\"opacity\":1,\"pattern\":{\"shape\":\"\"}},\"name\":\"False\",\"offsetgroup\":\"False\",\"orientation\":\"v\",\"showlegend\":true,\"texttemplate\":\"%{value}\",\"x\":[0.81,0.919,0.817,0.936,0.783,0.81,0.861,0.897,0.946,0.896,0.939,0.905,0.948,0.889,0.853,0.96,0.942,0.897,0.871,0.884,0.927,0.915,0.837,0.943,0.784,0.961,0.881,0.867,0.832,0.811,0.862,0.921,0.908,0.947,0.962,0.786,0.935],\"xaxis\":\"x\",\"yaxis\":\"y\",\"type\":\"histogram\"},{\"alignmentgroup\":\"True\",\"hovertemplate\":\"reference=False<br>Year=2019<br>Human Development Index=%{x}<extra></extra>\",\"legendgroup\":\"False\",\"marker\":{\"color\":\"#636efa\"},\"name\":\"False\",\"notched\":true,\"offsetgroup\":\"False\",\"showlegend\":false,\"x\":[0.81,0.919,0.817,0.936,0.783,0.81,0.861,0.897,0.946,0.896,0.939,0.905,0.948,0.889,0.853,0.96,0.942,0.897,0.871,0.884,0.927,0.915,0.837,0.943,0.784,0.961,0.881,0.867,0.832,0.811,0.862,0.921,0.908,0.947,0.962,0.786,0.935],\"xaxis\":\"x2\",\"yaxis\":\"y2\",\"type\":\"box\"}],\"name\":\"2019\"},{\"data\":[{\"alignmentgroup\":\"True\",\"bingroup\":\"x\",\"hovertemplate\":\"reference=False<br>Year=2020<br>Human Development Index=%{x}<br>count=%{y}<extra></extra>\",\"legendgroup\":\"False\",\"marker\":{\"color\":\"#636efa\",\"opacity\":1,\"pattern\":{\"shape\":\"\"}},\"name\":\"False\",\"offsetgroup\":\"False\",\"orientation\":\"v\",\"showlegend\":true,\"texttemplate\":\"%{value}\",\"x\":[0.794,0.913,0.807,0.928,0.781,0.802,0.855,0.892,0.947,0.892,0.938,0.898,0.944,0.886,0.849,0.957,0.943,0.889,0.871,0.879,0.924,0.911,0.826,0.939,0.774,0.959,0.876,0.863,0.824,0.804,0.857,0.913,0.899,0.942,0.956,0.775,0.924],\"xaxis\":\"x\",\"yaxis\":\"y\",\"type\":\"histogram\"},{\"alignmentgroup\":\"True\",\"hovertemplate\":\"reference=False<br>Year=2020<br>Human Development Index=%{x}<extra></extra>\",\"legendgroup\":\"False\",\"marker\":{\"color\":\"#636efa\"},\"name\":\"False\",\"notched\":true,\"offsetgroup\":\"False\",\"showlegend\":false,\"x\":[0.794,0.913,0.807,0.928,0.781,0.802,0.855,0.892,0.947,0.892,0.938,0.898,0.944,0.886,0.849,0.957,0.943,0.889,0.871,0.879,0.924,0.911,0.826,0.939,0.774,0.959,0.876,0.863,0.824,0.804,0.857,0.913,0.899,0.942,0.956,0.775,0.924],\"xaxis\":\"x2\",\"yaxis\":\"y2\",\"type\":\"box\"}],\"name\":\"2020\"}]);\n                        }).then(function(){\n                            \nvar gd = document.getElementById('65fdc84b-cd8d-44da-a1ca-cc611d0c0d5d');\nvar x = new MutationObserver(function (mutations, observer) {{\n        var display = window.getComputedStyle(gd).display;\n        if (!display || display === 'none') {{\n            console.log([gd, 'removed!']);\n            Plotly.purge(gd);\n            observer.disconnect();\n        }}\n}});\n\n// Listen for the removal of the full notebook cells\nvar notebookContainer = gd.closest('#notebook-container');\nif (notebookContainer) {{\n    x.observe(notebookContainer, {childList: true});\n}}\n\n// Listen for the clearing of the current output cell\nvar outputEl = gd.closest('.output');\nif (outputEl) {{\n    x.observe(outputEl, {childList: true});\n}}\n\n                        })                };                });            </script>        </div>"
     },
     "metadata": {},
     "output_type": "display_data"
    },
    {
     "name": "stdout",
     "output_type": "stream",
     "text": [
      "La somme des True = 37 et la somme des False = 726 \n"
     ]
    },
    {
     "data": {
      "text/plain": "      Year         Country Continent           Region  \\\n21    2000         Albania    Europe  Southern Europe   \n22    2001         Albania    Europe  Southern Europe   \n23    2002         Albania    Europe  Southern Europe   \n24    2003         Albania    Europe  Southern Europe   \n25    2004         Albania    Europe  Southern Europe   \n...    ...             ...       ...              ...   \n3497  2016  United Kingdom    Europe  Northern Europe   \n3498  2017  United Kingdom    Europe  Northern Europe   \n3499  2018  United Kingdom    Europe  Northern Europe   \n3500  2019  United Kingdom    Europe  Northern Europe   \n3501  2020  United Kingdom    Europe  Northern Europe   \n\n      Human Development Index  reference  \n21                      0.677      False  \n22                      0.684      False  \n23                      0.689      False  \n24                      0.696      False  \n25                      0.700      False  \n...                       ...        ...  \n3497                    0.927      False  \n3498                    0.930      False  \n3499                    0.929      False  \n3500                    0.935      False  \n3501                    0.924      False  \n\n[763 rows x 6 columns]",
      "text/html": "<div>\n<style scoped>\n    .dataframe tbody tr th:only-of-type {\n        vertical-align: middle;\n    }\n\n    .dataframe tbody tr th {\n        vertical-align: top;\n    }\n\n    .dataframe thead th {\n        text-align: right;\n    }\n</style>\n<table border=\"1\" class=\"dataframe\">\n  <thead>\n    <tr style=\"text-align: right;\">\n      <th></th>\n      <th>Year</th>\n      <th>Country</th>\n      <th>Continent</th>\n      <th>Region</th>\n      <th>Human Development Index</th>\n      <th>reference</th>\n    </tr>\n  </thead>\n  <tbody>\n    <tr>\n      <th>21</th>\n      <td>2000</td>\n      <td>Albania</td>\n      <td>Europe</td>\n      <td>Southern Europe</td>\n      <td>0.677</td>\n      <td>False</td>\n    </tr>\n    <tr>\n      <th>22</th>\n      <td>2001</td>\n      <td>Albania</td>\n      <td>Europe</td>\n      <td>Southern Europe</td>\n      <td>0.684</td>\n      <td>False</td>\n    </tr>\n    <tr>\n      <th>23</th>\n      <td>2002</td>\n      <td>Albania</td>\n      <td>Europe</td>\n      <td>Southern Europe</td>\n      <td>0.689</td>\n      <td>False</td>\n    </tr>\n    <tr>\n      <th>24</th>\n      <td>2003</td>\n      <td>Albania</td>\n      <td>Europe</td>\n      <td>Southern Europe</td>\n      <td>0.696</td>\n      <td>False</td>\n    </tr>\n    <tr>\n      <th>25</th>\n      <td>2004</td>\n      <td>Albania</td>\n      <td>Europe</td>\n      <td>Southern Europe</td>\n      <td>0.700</td>\n      <td>False</td>\n    </tr>\n    <tr>\n      <th>...</th>\n      <td>...</td>\n      <td>...</td>\n      <td>...</td>\n      <td>...</td>\n      <td>...</td>\n      <td>...</td>\n    </tr>\n    <tr>\n      <th>3497</th>\n      <td>2016</td>\n      <td>United Kingdom</td>\n      <td>Europe</td>\n      <td>Northern Europe</td>\n      <td>0.927</td>\n      <td>False</td>\n    </tr>\n    <tr>\n      <th>3498</th>\n      <td>2017</td>\n      <td>United Kingdom</td>\n      <td>Europe</td>\n      <td>Northern Europe</td>\n      <td>0.930</td>\n      <td>False</td>\n    </tr>\n    <tr>\n      <th>3499</th>\n      <td>2018</td>\n      <td>United Kingdom</td>\n      <td>Europe</td>\n      <td>Northern Europe</td>\n      <td>0.929</td>\n      <td>False</td>\n    </tr>\n    <tr>\n      <th>3500</th>\n      <td>2019</td>\n      <td>United Kingdom</td>\n      <td>Europe</td>\n      <td>Northern Europe</td>\n      <td>0.935</td>\n      <td>False</td>\n    </tr>\n    <tr>\n      <th>3501</th>\n      <td>2020</td>\n      <td>United Kingdom</td>\n      <td>Europe</td>\n      <td>Northern Europe</td>\n      <td>0.924</td>\n      <td>False</td>\n    </tr>\n  </tbody>\n</table>\n<p>763 rows × 6 columns</p>\n</div>"
     },
     "execution_count": 17,
     "metadata": {},
     "output_type": "execute_result"
    }
   ],
   "source": [
    "def histo_HDI(df_histo : pd.DataFrame = df_energy, area_type : str = \"Continent\", \n",
    "              area_name : str = \"Europe\", reference_year : int = 2015) -> go.Figure :\n",
    "    \"\"\"\n",
    "    histo_HDI make a histogram with the frequency of HDI for a given area type. The slider change the year of observation. The area name is the current country observed.\n",
    "    :param reference_year: \n",
    "    :param reference_name: \n",
    "    :param df_histo: \n",
    "    :param area_type: \n",
    "    :param area_name: \n",
    "    :param year: \n",
    "    :return: \n",
    "    \"\"\"\n",
    "        \n",
    "    # Selection feature needed\n",
    "    df_histo = pd.DataFrame(data=df_histo, columns=['Year', 'Country', 'Continent', 'Region', 'Human Development Index'])\n",
    "    \n",
    "    # Filtering by the area_name and the year + the reference year for this same are_name\n",
    "    df_histo_filtered = df_histo.query(f\"({area_type} == '{area_name}')\")\n",
    "\n",
    "    # Creation of the feature 'reference' that is a boolean.\n",
    "    df_histo_filtered['reference'] = df_histo_filtered['Year'] == reference_year\n",
    "    \n",
    "\n",
    "    # assert (df_histo_filtered['reference'] == True).sum() == (df_histo_filtered['reference'] == False).sum(), \"<-- Some data are missing -->\"\n",
    "    \n",
    "    fig = px.histogram(df_histo_filtered, \n",
    "                       x=\"Human Development Index\", \n",
    "                       marginal=\"box\",  #[\"rug\", \"box\", \"violin\"]\n",
    "                       color=\"reference\",   \n",
    "                       title='Histogram Human Development Index per year with 2020 as reference',\n",
    "                       pattern_shape=\"reference\",\n",
    "                       opacity=1,\n",
    "                       template=THEME,\n",
    "                       text_auto=True,\n",
    "                       animation_frame=\"Year\"\n",
    "                       ) \n",
    "    fig.show()\n",
    "    \n",
    "    print(f\"La somme des True = {(df_histo_filtered['reference'] == True).sum()} et la somme des False = {(df_histo_filtered['reference'] == False).sum()} \")\n",
    "\n",
    "    return df_histo_filtered\n",
    "\n",
    "histo_HDI()"
   ],
   "metadata": {
    "collapsed": false,
    "ExecuteTime": {
     "end_time": "2023-10-25T17:35:55.080083600Z",
     "start_time": "2023-10-25T17:35:54.648512Z"
    }
   },
   "id": "bd2f2cf6db3aae70"
  },
  {
   "cell_type": "code",
   "execution_count": 18,
   "outputs": [
    {
     "data": {
      "application/vnd.plotly.v1+json": {
       "data": [
        {
         "domain": {
          "x": [
           0.0,
           1.0
          ],
          "y": [
           0.0,
           1.0
          ]
         },
         "hovertemplate": "label=%{label}<br>value=%{value}<extra></extra>",
         "labels": [
          "No data",
          "Incomplete data",
          "Valide data"
         ],
         "legendgroup": "",
         "name": "",
         "showlegend": true,
         "values": [
          100,
          4,
          72
         ],
         "type": "pie"
        }
       ],
       "layout": {
        "template": {
         "data": {
          "histogram2dcontour": [
           {
            "type": "histogram2dcontour",
            "colorbar": {
             "outlinewidth": 0,
             "ticks": ""
            },
            "colorscale": [
             [
              0.0,
              "#0d0887"
             ],
             [
              0.1111111111111111,
              "#46039f"
             ],
             [
              0.2222222222222222,
              "#7201a8"
             ],
             [
              0.3333333333333333,
              "#9c179e"
             ],
             [
              0.4444444444444444,
              "#bd3786"
             ],
             [
              0.5555555555555556,
              "#d8576b"
             ],
             [
              0.6666666666666666,
              "#ed7953"
             ],
             [
              0.7777777777777778,
              "#fb9f3a"
             ],
             [
              0.8888888888888888,
              "#fdca26"
             ],
             [
              1.0,
              "#f0f921"
             ]
            ]
           }
          ],
          "choropleth": [
           {
            "type": "choropleth",
            "colorbar": {
             "outlinewidth": 0,
             "ticks": ""
            }
           }
          ],
          "histogram2d": [
           {
            "type": "histogram2d",
            "colorbar": {
             "outlinewidth": 0,
             "ticks": ""
            },
            "colorscale": [
             [
              0.0,
              "#0d0887"
             ],
             [
              0.1111111111111111,
              "#46039f"
             ],
             [
              0.2222222222222222,
              "#7201a8"
             ],
             [
              0.3333333333333333,
              "#9c179e"
             ],
             [
              0.4444444444444444,
              "#bd3786"
             ],
             [
              0.5555555555555556,
              "#d8576b"
             ],
             [
              0.6666666666666666,
              "#ed7953"
             ],
             [
              0.7777777777777778,
              "#fb9f3a"
             ],
             [
              0.8888888888888888,
              "#fdca26"
             ],
             [
              1.0,
              "#f0f921"
             ]
            ]
           }
          ],
          "heatmap": [
           {
            "type": "heatmap",
            "colorbar": {
             "outlinewidth": 0,
             "ticks": ""
            },
            "colorscale": [
             [
              0.0,
              "#0d0887"
             ],
             [
              0.1111111111111111,
              "#46039f"
             ],
             [
              0.2222222222222222,
              "#7201a8"
             ],
             [
              0.3333333333333333,
              "#9c179e"
             ],
             [
              0.4444444444444444,
              "#bd3786"
             ],
             [
              0.5555555555555556,
              "#d8576b"
             ],
             [
              0.6666666666666666,
              "#ed7953"
             ],
             [
              0.7777777777777778,
              "#fb9f3a"
             ],
             [
              0.8888888888888888,
              "#fdca26"
             ],
             [
              1.0,
              "#f0f921"
             ]
            ]
           }
          ],
          "heatmapgl": [
           {
            "type": "heatmapgl",
            "colorbar": {
             "outlinewidth": 0,
             "ticks": ""
            },
            "colorscale": [
             [
              0.0,
              "#0d0887"
             ],
             [
              0.1111111111111111,
              "#46039f"
             ],
             [
              0.2222222222222222,
              "#7201a8"
             ],
             [
              0.3333333333333333,
              "#9c179e"
             ],
             [
              0.4444444444444444,
              "#bd3786"
             ],
             [
              0.5555555555555556,
              "#d8576b"
             ],
             [
              0.6666666666666666,
              "#ed7953"
             ],
             [
              0.7777777777777778,
              "#fb9f3a"
             ],
             [
              0.8888888888888888,
              "#fdca26"
             ],
             [
              1.0,
              "#f0f921"
             ]
            ]
           }
          ],
          "contourcarpet": [
           {
            "type": "contourcarpet",
            "colorbar": {
             "outlinewidth": 0,
             "ticks": ""
            }
           }
          ],
          "contour": [
           {
            "type": "contour",
            "colorbar": {
             "outlinewidth": 0,
             "ticks": ""
            },
            "colorscale": [
             [
              0.0,
              "#0d0887"
             ],
             [
              0.1111111111111111,
              "#46039f"
             ],
             [
              0.2222222222222222,
              "#7201a8"
             ],
             [
              0.3333333333333333,
              "#9c179e"
             ],
             [
              0.4444444444444444,
              "#bd3786"
             ],
             [
              0.5555555555555556,
              "#d8576b"
             ],
             [
              0.6666666666666666,
              "#ed7953"
             ],
             [
              0.7777777777777778,
              "#fb9f3a"
             ],
             [
              0.8888888888888888,
              "#fdca26"
             ],
             [
              1.0,
              "#f0f921"
             ]
            ]
           }
          ],
          "surface": [
           {
            "type": "surface",
            "colorbar": {
             "outlinewidth": 0,
             "ticks": ""
            },
            "colorscale": [
             [
              0.0,
              "#0d0887"
             ],
             [
              0.1111111111111111,
              "#46039f"
             ],
             [
              0.2222222222222222,
              "#7201a8"
             ],
             [
              0.3333333333333333,
              "#9c179e"
             ],
             [
              0.4444444444444444,
              "#bd3786"
             ],
             [
              0.5555555555555556,
              "#d8576b"
             ],
             [
              0.6666666666666666,
              "#ed7953"
             ],
             [
              0.7777777777777778,
              "#fb9f3a"
             ],
             [
              0.8888888888888888,
              "#fdca26"
             ],
             [
              1.0,
              "#f0f921"
             ]
            ]
           }
          ],
          "mesh3d": [
           {
            "type": "mesh3d",
            "colorbar": {
             "outlinewidth": 0,
             "ticks": ""
            }
           }
          ],
          "scatter": [
           {
            "marker": {
             "line": {
              "color": "#283442"
             }
            },
            "type": "scatter"
           }
          ],
          "parcoords": [
           {
            "type": "parcoords",
            "line": {
             "colorbar": {
              "outlinewidth": 0,
              "ticks": ""
             }
            }
           }
          ],
          "scatterpolargl": [
           {
            "type": "scatterpolargl",
            "marker": {
             "colorbar": {
              "outlinewidth": 0,
              "ticks": ""
             }
            }
           }
          ],
          "bar": [
           {
            "error_x": {
             "color": "#f2f5fa"
            },
            "error_y": {
             "color": "#f2f5fa"
            },
            "marker": {
             "line": {
              "color": "rgb(17,17,17)",
              "width": 0.5
             },
             "pattern": {
              "fillmode": "overlay",
              "size": 10,
              "solidity": 0.2
             }
            },
            "type": "bar"
           }
          ],
          "scattergeo": [
           {
            "type": "scattergeo",
            "marker": {
             "colorbar": {
              "outlinewidth": 0,
              "ticks": ""
             }
            }
           }
          ],
          "scatterpolar": [
           {
            "type": "scatterpolar",
            "marker": {
             "colorbar": {
              "outlinewidth": 0,
              "ticks": ""
             }
            }
           }
          ],
          "histogram": [
           {
            "marker": {
             "pattern": {
              "fillmode": "overlay",
              "size": 10,
              "solidity": 0.2
             }
            },
            "type": "histogram"
           }
          ],
          "scattergl": [
           {
            "marker": {
             "line": {
              "color": "#283442"
             }
            },
            "type": "scattergl"
           }
          ],
          "scatter3d": [
           {
            "type": "scatter3d",
            "line": {
             "colorbar": {
              "outlinewidth": 0,
              "ticks": ""
             }
            },
            "marker": {
             "colorbar": {
              "outlinewidth": 0,
              "ticks": ""
             }
            }
           }
          ],
          "scattermapbox": [
           {
            "type": "scattermapbox",
            "marker": {
             "colorbar": {
              "outlinewidth": 0,
              "ticks": ""
             }
            }
           }
          ],
          "scatterternary": [
           {
            "type": "scatterternary",
            "marker": {
             "colorbar": {
              "outlinewidth": 0,
              "ticks": ""
             }
            }
           }
          ],
          "scattercarpet": [
           {
            "type": "scattercarpet",
            "marker": {
             "colorbar": {
              "outlinewidth": 0,
              "ticks": ""
             }
            }
           }
          ],
          "carpet": [
           {
            "aaxis": {
             "endlinecolor": "#A2B1C6",
             "gridcolor": "#506784",
             "linecolor": "#506784",
             "minorgridcolor": "#506784",
             "startlinecolor": "#A2B1C6"
            },
            "baxis": {
             "endlinecolor": "#A2B1C6",
             "gridcolor": "#506784",
             "linecolor": "#506784",
             "minorgridcolor": "#506784",
             "startlinecolor": "#A2B1C6"
            },
            "type": "carpet"
           }
          ],
          "table": [
           {
            "cells": {
             "fill": {
              "color": "#506784"
             },
             "line": {
              "color": "rgb(17,17,17)"
             }
            },
            "header": {
             "fill": {
              "color": "#2a3f5f"
             },
             "line": {
              "color": "rgb(17,17,17)"
             }
            },
            "type": "table"
           }
          ],
          "barpolar": [
           {
            "marker": {
             "line": {
              "color": "rgb(17,17,17)",
              "width": 0.5
             },
             "pattern": {
              "fillmode": "overlay",
              "size": 10,
              "solidity": 0.2
             }
            },
            "type": "barpolar"
           }
          ],
          "pie": [
           {
            "automargin": true,
            "type": "pie"
           }
          ]
         },
         "layout": {
          "autotypenumbers": "strict",
          "colorway": [
           "#636efa",
           "#EF553B",
           "#00cc96",
           "#ab63fa",
           "#FFA15A",
           "#19d3f3",
           "#FF6692",
           "#B6E880",
           "#FF97FF",
           "#FECB52"
          ],
          "font": {
           "color": "#f2f5fa"
          },
          "hovermode": "closest",
          "hoverlabel": {
           "align": "left"
          },
          "paper_bgcolor": "rgb(17,17,17)",
          "plot_bgcolor": "rgb(17,17,17)",
          "polar": {
           "bgcolor": "rgb(17,17,17)",
           "angularaxis": {
            "gridcolor": "#506784",
            "linecolor": "#506784",
            "ticks": ""
           },
           "radialaxis": {
            "gridcolor": "#506784",
            "linecolor": "#506784",
            "ticks": ""
           }
          },
          "ternary": {
           "bgcolor": "rgb(17,17,17)",
           "aaxis": {
            "gridcolor": "#506784",
            "linecolor": "#506784",
            "ticks": ""
           },
           "baxis": {
            "gridcolor": "#506784",
            "linecolor": "#506784",
            "ticks": ""
           },
           "caxis": {
            "gridcolor": "#506784",
            "linecolor": "#506784",
            "ticks": ""
           }
          },
          "coloraxis": {
           "colorbar": {
            "outlinewidth": 0,
            "ticks": ""
           }
          },
          "colorscale": {
           "sequential": [
            [
             0.0,
             "#0d0887"
            ],
            [
             0.1111111111111111,
             "#46039f"
            ],
            [
             0.2222222222222222,
             "#7201a8"
            ],
            [
             0.3333333333333333,
             "#9c179e"
            ],
            [
             0.4444444444444444,
             "#bd3786"
            ],
            [
             0.5555555555555556,
             "#d8576b"
            ],
            [
             0.6666666666666666,
             "#ed7953"
            ],
            [
             0.7777777777777778,
             "#fb9f3a"
            ],
            [
             0.8888888888888888,
             "#fdca26"
            ],
            [
             1.0,
             "#f0f921"
            ]
           ],
           "sequentialminus": [
            [
             0.0,
             "#0d0887"
            ],
            [
             0.1111111111111111,
             "#46039f"
            ],
            [
             0.2222222222222222,
             "#7201a8"
            ],
            [
             0.3333333333333333,
             "#9c179e"
            ],
            [
             0.4444444444444444,
             "#bd3786"
            ],
            [
             0.5555555555555556,
             "#d8576b"
            ],
            [
             0.6666666666666666,
             "#ed7953"
            ],
            [
             0.7777777777777778,
             "#fb9f3a"
            ],
            [
             0.8888888888888888,
             "#fdca26"
            ],
            [
             1.0,
             "#f0f921"
            ]
           ],
           "diverging": [
            [
             0,
             "#8e0152"
            ],
            [
             0.1,
             "#c51b7d"
            ],
            [
             0.2,
             "#de77ae"
            ],
            [
             0.3,
             "#f1b6da"
            ],
            [
             0.4,
             "#fde0ef"
            ],
            [
             0.5,
             "#f7f7f7"
            ],
            [
             0.6,
             "#e6f5d0"
            ],
            [
             0.7,
             "#b8e186"
            ],
            [
             0.8,
             "#7fbc41"
            ],
            [
             0.9,
             "#4d9221"
            ],
            [
             1,
             "#276419"
            ]
           ]
          },
          "xaxis": {
           "gridcolor": "#283442",
           "linecolor": "#506784",
           "ticks": "",
           "title": {
            "standoff": 15
           },
           "zerolinecolor": "#283442",
           "automargin": true,
           "zerolinewidth": 2
          },
          "yaxis": {
           "gridcolor": "#283442",
           "linecolor": "#506784",
           "ticks": "",
           "title": {
            "standoff": 15
           },
           "zerolinecolor": "#283442",
           "automargin": true,
           "zerolinewidth": 2
          },
          "scene": {
           "xaxis": {
            "backgroundcolor": "rgb(17,17,17)",
            "gridcolor": "#506784",
            "linecolor": "#506784",
            "showbackground": true,
            "ticks": "",
            "zerolinecolor": "#C8D4E3",
            "gridwidth": 2
           },
           "yaxis": {
            "backgroundcolor": "rgb(17,17,17)",
            "gridcolor": "#506784",
            "linecolor": "#506784",
            "showbackground": true,
            "ticks": "",
            "zerolinecolor": "#C8D4E3",
            "gridwidth": 2
           },
           "zaxis": {
            "backgroundcolor": "rgb(17,17,17)",
            "gridcolor": "#506784",
            "linecolor": "#506784",
            "showbackground": true,
            "ticks": "",
            "zerolinecolor": "#C8D4E3",
            "gridwidth": 2
           }
          },
          "shapedefaults": {
           "line": {
            "color": "#f2f5fa"
           }
          },
          "annotationdefaults": {
           "arrowcolor": "#f2f5fa",
           "arrowhead": 0,
           "arrowwidth": 1
          },
          "geo": {
           "bgcolor": "rgb(17,17,17)",
           "landcolor": "rgb(17,17,17)",
           "subunitcolor": "#506784",
           "showland": true,
           "showlakes": true,
           "lakecolor": "rgb(17,17,17)"
          },
          "title": {
           "x": 0.05
          },
          "updatemenudefaults": {
           "bgcolor": "#506784",
           "borderwidth": 0
          },
          "sliderdefaults": {
           "bgcolor": "#C8D4E3",
           "borderwidth": 1,
           "bordercolor": "rgb(17,17,17)",
           "tickwidth": 0
          },
          "mapbox": {
           "style": "dark"
          }
         }
        },
        "legend": {
         "tracegroupgap": 0
        },
        "title": {
         "text": "Renewables (% Equivalent Primary Energy)"
        }
       },
       "config": {
        "plotlyServerURL": "https://plot.ly"
       }
      },
      "text/html": "<div>                            <div id=\"68ba9421-5b40-4247-b453-5ac339ff3803\" class=\"plotly-graph-div\" style=\"height:525px; width:100%;\"></div>            <script type=\"text/javascript\">                require([\"plotly\"], function(Plotly) {                    window.PLOTLYENV=window.PLOTLYENV || {};                                    if (document.getElementById(\"68ba9421-5b40-4247-b453-5ac339ff3803\")) {                    Plotly.newPlot(                        \"68ba9421-5b40-4247-b453-5ac339ff3803\",                        [{\"domain\":{\"x\":[0.0,1.0],\"y\":[0.0,1.0]},\"hovertemplate\":\"label=%{label}<br>value=%{value}<extra></extra>\",\"labels\":[\"No data\",\"Incomplete data\",\"Valide data\"],\"legendgroup\":\"\",\"name\":\"\",\"showlegend\":true,\"values\":[100,4,72],\"type\":\"pie\"}],                        {\"template\":{\"data\":{\"histogram2dcontour\":[{\"type\":\"histogram2dcontour\",\"colorbar\":{\"outlinewidth\":0,\"ticks\":\"\"},\"colorscale\":[[0.0,\"#0d0887\"],[0.1111111111111111,\"#46039f\"],[0.2222222222222222,\"#7201a8\"],[0.3333333333333333,\"#9c179e\"],[0.4444444444444444,\"#bd3786\"],[0.5555555555555556,\"#d8576b\"],[0.6666666666666666,\"#ed7953\"],[0.7777777777777778,\"#fb9f3a\"],[0.8888888888888888,\"#fdca26\"],[1.0,\"#f0f921\"]]}],\"choropleth\":[{\"type\":\"choropleth\",\"colorbar\":{\"outlinewidth\":0,\"ticks\":\"\"}}],\"histogram2d\":[{\"type\":\"histogram2d\",\"colorbar\":{\"outlinewidth\":0,\"ticks\":\"\"},\"colorscale\":[[0.0,\"#0d0887\"],[0.1111111111111111,\"#46039f\"],[0.2222222222222222,\"#7201a8\"],[0.3333333333333333,\"#9c179e\"],[0.4444444444444444,\"#bd3786\"],[0.5555555555555556,\"#d8576b\"],[0.6666666666666666,\"#ed7953\"],[0.7777777777777778,\"#fb9f3a\"],[0.8888888888888888,\"#fdca26\"],[1.0,\"#f0f921\"]]}],\"heatmap\":[{\"type\":\"heatmap\",\"colorbar\":{\"outlinewidth\":0,\"ticks\":\"\"},\"colorscale\":[[0.0,\"#0d0887\"],[0.1111111111111111,\"#46039f\"],[0.2222222222222222,\"#7201a8\"],[0.3333333333333333,\"#9c179e\"],[0.4444444444444444,\"#bd3786\"],[0.5555555555555556,\"#d8576b\"],[0.6666666666666666,\"#ed7953\"],[0.7777777777777778,\"#fb9f3a\"],[0.8888888888888888,\"#fdca26\"],[1.0,\"#f0f921\"]]}],\"heatmapgl\":[{\"type\":\"heatmapgl\",\"colorbar\":{\"outlinewidth\":0,\"ticks\":\"\"},\"colorscale\":[[0.0,\"#0d0887\"],[0.1111111111111111,\"#46039f\"],[0.2222222222222222,\"#7201a8\"],[0.3333333333333333,\"#9c179e\"],[0.4444444444444444,\"#bd3786\"],[0.5555555555555556,\"#d8576b\"],[0.6666666666666666,\"#ed7953\"],[0.7777777777777778,\"#fb9f3a\"],[0.8888888888888888,\"#fdca26\"],[1.0,\"#f0f921\"]]}],\"contourcarpet\":[{\"type\":\"contourcarpet\",\"colorbar\":{\"outlinewidth\":0,\"ticks\":\"\"}}],\"contour\":[{\"type\":\"contour\",\"colorbar\":{\"outlinewidth\":0,\"ticks\":\"\"},\"colorscale\":[[0.0,\"#0d0887\"],[0.1111111111111111,\"#46039f\"],[0.2222222222222222,\"#7201a8\"],[0.3333333333333333,\"#9c179e\"],[0.4444444444444444,\"#bd3786\"],[0.5555555555555556,\"#d8576b\"],[0.6666666666666666,\"#ed7953\"],[0.7777777777777778,\"#fb9f3a\"],[0.8888888888888888,\"#fdca26\"],[1.0,\"#f0f921\"]]}],\"surface\":[{\"type\":\"surface\",\"colorbar\":{\"outlinewidth\":0,\"ticks\":\"\"},\"colorscale\":[[0.0,\"#0d0887\"],[0.1111111111111111,\"#46039f\"],[0.2222222222222222,\"#7201a8\"],[0.3333333333333333,\"#9c179e\"],[0.4444444444444444,\"#bd3786\"],[0.5555555555555556,\"#d8576b\"],[0.6666666666666666,\"#ed7953\"],[0.7777777777777778,\"#fb9f3a\"],[0.8888888888888888,\"#fdca26\"],[1.0,\"#f0f921\"]]}],\"mesh3d\":[{\"type\":\"mesh3d\",\"colorbar\":{\"outlinewidth\":0,\"ticks\":\"\"}}],\"scatter\":[{\"marker\":{\"line\":{\"color\":\"#283442\"}},\"type\":\"scatter\"}],\"parcoords\":[{\"type\":\"parcoords\",\"line\":{\"colorbar\":{\"outlinewidth\":0,\"ticks\":\"\"}}}],\"scatterpolargl\":[{\"type\":\"scatterpolargl\",\"marker\":{\"colorbar\":{\"outlinewidth\":0,\"ticks\":\"\"}}}],\"bar\":[{\"error_x\":{\"color\":\"#f2f5fa\"},\"error_y\":{\"color\":\"#f2f5fa\"},\"marker\":{\"line\":{\"color\":\"rgb(17,17,17)\",\"width\":0.5},\"pattern\":{\"fillmode\":\"overlay\",\"size\":10,\"solidity\":0.2}},\"type\":\"bar\"}],\"scattergeo\":[{\"type\":\"scattergeo\",\"marker\":{\"colorbar\":{\"outlinewidth\":0,\"ticks\":\"\"}}}],\"scatterpolar\":[{\"type\":\"scatterpolar\",\"marker\":{\"colorbar\":{\"outlinewidth\":0,\"ticks\":\"\"}}}],\"histogram\":[{\"marker\":{\"pattern\":{\"fillmode\":\"overlay\",\"size\":10,\"solidity\":0.2}},\"type\":\"histogram\"}],\"scattergl\":[{\"marker\":{\"line\":{\"color\":\"#283442\"}},\"type\":\"scattergl\"}],\"scatter3d\":[{\"type\":\"scatter3d\",\"line\":{\"colorbar\":{\"outlinewidth\":0,\"ticks\":\"\"}},\"marker\":{\"colorbar\":{\"outlinewidth\":0,\"ticks\":\"\"}}}],\"scattermapbox\":[{\"type\":\"scattermapbox\",\"marker\":{\"colorbar\":{\"outlinewidth\":0,\"ticks\":\"\"}}}],\"scatterternary\":[{\"type\":\"scatterternary\",\"marker\":{\"colorbar\":{\"outlinewidth\":0,\"ticks\":\"\"}}}],\"scattercarpet\":[{\"type\":\"scattercarpet\",\"marker\":{\"colorbar\":{\"outlinewidth\":0,\"ticks\":\"\"}}}],\"carpet\":[{\"aaxis\":{\"endlinecolor\":\"#A2B1C6\",\"gridcolor\":\"#506784\",\"linecolor\":\"#506784\",\"minorgridcolor\":\"#506784\",\"startlinecolor\":\"#A2B1C6\"},\"baxis\":{\"endlinecolor\":\"#A2B1C6\",\"gridcolor\":\"#506784\",\"linecolor\":\"#506784\",\"minorgridcolor\":\"#506784\",\"startlinecolor\":\"#A2B1C6\"},\"type\":\"carpet\"}],\"table\":[{\"cells\":{\"fill\":{\"color\":\"#506784\"},\"line\":{\"color\":\"rgb(17,17,17)\"}},\"header\":{\"fill\":{\"color\":\"#2a3f5f\"},\"line\":{\"color\":\"rgb(17,17,17)\"}},\"type\":\"table\"}],\"barpolar\":[{\"marker\":{\"line\":{\"color\":\"rgb(17,17,17)\",\"width\":0.5},\"pattern\":{\"fillmode\":\"overlay\",\"size\":10,\"solidity\":0.2}},\"type\":\"barpolar\"}],\"pie\":[{\"automargin\":true,\"type\":\"pie\"}]},\"layout\":{\"autotypenumbers\":\"strict\",\"colorway\":[\"#636efa\",\"#EF553B\",\"#00cc96\",\"#ab63fa\",\"#FFA15A\",\"#19d3f3\",\"#FF6692\",\"#B6E880\",\"#FF97FF\",\"#FECB52\"],\"font\":{\"color\":\"#f2f5fa\"},\"hovermode\":\"closest\",\"hoverlabel\":{\"align\":\"left\"},\"paper_bgcolor\":\"rgb(17,17,17)\",\"plot_bgcolor\":\"rgb(17,17,17)\",\"polar\":{\"bgcolor\":\"rgb(17,17,17)\",\"angularaxis\":{\"gridcolor\":\"#506784\",\"linecolor\":\"#506784\",\"ticks\":\"\"},\"radialaxis\":{\"gridcolor\":\"#506784\",\"linecolor\":\"#506784\",\"ticks\":\"\"}},\"ternary\":{\"bgcolor\":\"rgb(17,17,17)\",\"aaxis\":{\"gridcolor\":\"#506784\",\"linecolor\":\"#506784\",\"ticks\":\"\"},\"baxis\":{\"gridcolor\":\"#506784\",\"linecolor\":\"#506784\",\"ticks\":\"\"},\"caxis\":{\"gridcolor\":\"#506784\",\"linecolor\":\"#506784\",\"ticks\":\"\"}},\"coloraxis\":{\"colorbar\":{\"outlinewidth\":0,\"ticks\":\"\"}},\"colorscale\":{\"sequential\":[[0.0,\"#0d0887\"],[0.1111111111111111,\"#46039f\"],[0.2222222222222222,\"#7201a8\"],[0.3333333333333333,\"#9c179e\"],[0.4444444444444444,\"#bd3786\"],[0.5555555555555556,\"#d8576b\"],[0.6666666666666666,\"#ed7953\"],[0.7777777777777778,\"#fb9f3a\"],[0.8888888888888888,\"#fdca26\"],[1.0,\"#f0f921\"]],\"sequentialminus\":[[0.0,\"#0d0887\"],[0.1111111111111111,\"#46039f\"],[0.2222222222222222,\"#7201a8\"],[0.3333333333333333,\"#9c179e\"],[0.4444444444444444,\"#bd3786\"],[0.5555555555555556,\"#d8576b\"],[0.6666666666666666,\"#ed7953\"],[0.7777777777777778,\"#fb9f3a\"],[0.8888888888888888,\"#fdca26\"],[1.0,\"#f0f921\"]],\"diverging\":[[0,\"#8e0152\"],[0.1,\"#c51b7d\"],[0.2,\"#de77ae\"],[0.3,\"#f1b6da\"],[0.4,\"#fde0ef\"],[0.5,\"#f7f7f7\"],[0.6,\"#e6f5d0\"],[0.7,\"#b8e186\"],[0.8,\"#7fbc41\"],[0.9,\"#4d9221\"],[1,\"#276419\"]]},\"xaxis\":{\"gridcolor\":\"#283442\",\"linecolor\":\"#506784\",\"ticks\":\"\",\"title\":{\"standoff\":15},\"zerolinecolor\":\"#283442\",\"automargin\":true,\"zerolinewidth\":2},\"yaxis\":{\"gridcolor\":\"#283442\",\"linecolor\":\"#506784\",\"ticks\":\"\",\"title\":{\"standoff\":15},\"zerolinecolor\":\"#283442\",\"automargin\":true,\"zerolinewidth\":2},\"scene\":{\"xaxis\":{\"backgroundcolor\":\"rgb(17,17,17)\",\"gridcolor\":\"#506784\",\"linecolor\":\"#506784\",\"showbackground\":true,\"ticks\":\"\",\"zerolinecolor\":\"#C8D4E3\",\"gridwidth\":2},\"yaxis\":{\"backgroundcolor\":\"rgb(17,17,17)\",\"gridcolor\":\"#506784\",\"linecolor\":\"#506784\",\"showbackground\":true,\"ticks\":\"\",\"zerolinecolor\":\"#C8D4E3\",\"gridwidth\":2},\"zaxis\":{\"backgroundcolor\":\"rgb(17,17,17)\",\"gridcolor\":\"#506784\",\"linecolor\":\"#506784\",\"showbackground\":true,\"ticks\":\"\",\"zerolinecolor\":\"#C8D4E3\",\"gridwidth\":2}},\"shapedefaults\":{\"line\":{\"color\":\"#f2f5fa\"}},\"annotationdefaults\":{\"arrowcolor\":\"#f2f5fa\",\"arrowhead\":0,\"arrowwidth\":1},\"geo\":{\"bgcolor\":\"rgb(17,17,17)\",\"landcolor\":\"rgb(17,17,17)\",\"subunitcolor\":\"#506784\",\"showland\":true,\"showlakes\":true,\"lakecolor\":\"rgb(17,17,17)\"},\"title\":{\"x\":0.05},\"updatemenudefaults\":{\"bgcolor\":\"#506784\",\"borderwidth\":0},\"sliderdefaults\":{\"bgcolor\":\"#C8D4E3\",\"borderwidth\":1,\"bordercolor\":\"rgb(17,17,17)\",\"tickwidth\":0},\"mapbox\":{\"style\":\"dark\"}}},\"legend\":{\"tracegroupgap\":0},\"title\":{\"text\":\"Renewables (% Equivalent Primary Energy)\"}},                        {\"responsive\": true}                    ).then(function(){\n                            \nvar gd = document.getElementById('68ba9421-5b40-4247-b453-5ac339ff3803');\nvar x = new MutationObserver(function (mutations, observer) {{\n        var display = window.getComputedStyle(gd).display;\n        if (!display || display === 'none') {{\n            console.log([gd, 'removed!']);\n            Plotly.purge(gd);\n            observer.disconnect();\n        }}\n}});\n\n// Listen for the removal of the full notebook cells\nvar notebookContainer = gd.closest('#notebook-container');\nif (notebookContainer) {{\n    x.observe(notebookContainer, {childList: true});\n}}\n\n// Listen for the clearing of the current output cell\nvar outputEl = gd.closest('.output');\nif (outputEl) {{\n    x.observe(outputEl, {childList: true});\n}}\n\n                        })                };                });            </script>        </div>"
     },
     "metadata": {},
     "output_type": "display_data"
    }
   ],
   "source": [
    "def getNaNumber(variable):\n",
    "    names = df_energy[\"Country\"].unique()\n",
    "    value = np.array([df_energy[df_energy[\"Country\"]==country][variable].isna().sum() for country in names])\n",
    "    no_data = value[(value == 21)].__len__()\n",
    "    valide_data = value[(value == 0)].__len__()\n",
    "    incomplete_data = names.__len__() - valide_data - no_data\n",
    "    return no_data, incomplete_data, valide_data\n",
    "\n",
    "values = [[],[],[],[]]\n",
    "for variable in df_energy.keys():\n",
    "    nd, id, vd = getNaNumber(variable)\n",
    "    values[0].append(variable)\n",
    "    values[1].append(nd)\n",
    "    values[2].append(id)\n",
    "    values[3].append(vd)\n",
    "\n",
    "# print(values)\n",
    "\n",
    "dic = { key : value for key, value in zip([\"Variable\",\"No data\", \"Incomplete data\", \"Valide data\"], values) }\n",
    "\n",
    "df_na = pd.DataFrame(dic)\n",
    "# print(df_na)\n",
    "\n",
    "df_na.sort_values(\"No data\", ascending=False, inplace=True)\n",
    "# print(df_na)\n",
    "\n",
    "for i, ligne in df_na[0:1].iterrows():\n",
    "    fig = px.pie(ligne,\n",
    "                names=ligne.index[1:],\n",
    "                values=ligne.values[1:],\n",
    "                title=ligne[\"Variable\"],\n",
    "                template=THEME,\n",
    "                # color_discrete_sequence=[\"green\",\"orange\",\"red\"],\n",
    "                color_discrete_map={\"No data\":\"rgb(255,0,0)\", \"Incomplete data\": \"orange\", \"Valide data\": \"green\"},\n",
    "                )\n",
    "    fig.show()"
   ],
   "metadata": {
    "collapsed": false,
    "ExecuteTime": {
     "end_time": "2023-10-25T17:35:57.084165900Z",
     "start_time": "2023-10-25T17:35:54.880062300Z"
    }
   },
   "id": "1604a30c45bd2c70"
  },
  {
   "cell_type": "markdown",
   "source": [
    "### Heatmap of missing values : \n",
    "The goal is to make a subplot of a Heatmap which indicate the number of nan for a given region or country and the number for a easier reading. \n",
    "\n",
    "We creat the needed dataset for the heatmap \n",
    "* on a country\n",
    "* with only the required values (all except the 'Year' and the 'Country') present on other axis.\n",
    "\n",
    "\n",
    "We make the  subplot graph thanks to : \n",
    "1. [mixed sub-plot](https://plotly.com/python/mixed-subplots/) documentation\n",
    "2. [specs of subplot](https://plotly.com/python/subplots/#subplots-types) documentation"
   ],
   "metadata": {
    "collapsed": false
   },
   "id": "d8b0dd6107e575ec"
  },
  {
   "cell_type": "code",
   "execution_count": 19,
   "outputs": [
    {
     "name": "stdout",
     "output_type": "stream",
     "text": [
      "NB_OF_NAN 673, NB_OF_NAN_GLOBAL 4516, NB_MEAN_NAN_PER_AREATYPE 903.2\n"
     ]
    },
    {
     "data": {
      "application/vnd.plotly.v1+json": {
       "data": [
        {
         "colorbar": {
          "title": {
           "side": "top",
           "text": "nombre"
          }
         },
         "colorscale": [
          [
           0.0,
           "#440154"
          ],
          [
           0.1111111111111111,
           "#482878"
          ],
          [
           0.2222222222222222,
           "#3e4989"
          ],
          [
           0.3333333333333333,
           "#31688e"
          ],
          [
           0.4444444444444444,
           "#26828e"
          ],
          [
           0.5555555555555556,
           "#1f9e89"
          ],
          [
           0.6666666666666666,
           "#35b779"
          ],
          [
           0.7777777777777778,
           "#6ece58"
          ],
          [
           0.8888888888888888,
           "#b5de2b"
          ],
          [
           1.0,
           "#fde725"
          ]
         ],
         "x": [
          2000,
          2001,
          2002,
          2003,
          2004,
          2005,
          2006,
          2007,
          2008,
          2009,
          2010,
          2011,
          2012,
          2013,
          2014,
          2015,
          2016,
          2017,
          2018,
          2019,
          2020
         ],
         "y": [
          "Access to Electricity (%)",
          "Renewable Electricity Capacity per Capita",
          "Electricity from Fossil Fuels (TWh)",
          "Electricity from Nuclear (TWh)",
          "Electricity from Renewables (TWh)",
          "Low-Carbon Electricity (%)",
          "Primary Energy Consumption per Capita (kWh/person)",
          "CO2 Emissions (kt by country)",
          "Renewables (% Equivalent Primary Energy)",
          "GDP Growth",
          "GDP per Capita",
          "Human Development Index"
         ],
         "z": [
          [
           0,
           0,
           0,
           0,
           0,
           0,
           0,
           0,
           0,
           0,
           0,
           0,
           0,
           0,
           0,
           0,
           0,
           0,
           0,
           0,
           0
          ],
          [
           3,
           3,
           3,
           3,
           3,
           3,
           3,
           3,
           3,
           3,
           3,
           3,
           3,
           3,
           3,
           3,
           3,
           3,
           3,
           3,
           3
          ],
          [
           0,
           0,
           0,
           0,
           0,
           0,
           0,
           0,
           0,
           0,
           0,
           0,
           0,
           0,
           0,
           0,
           0,
           0,
           0,
           0,
           0
          ],
          [
           4,
           4,
           4,
           4,
           4,
           4,
           4,
           4,
           4,
           4,
           4,
           4,
           4,
           4,
           4,
           4,
           4,
           4,
           4,
           4,
           4
          ],
          [
           0,
           0,
           0,
           0,
           0,
           0,
           0,
           0,
           0,
           0,
           0,
           0,
           0,
           0,
           0,
           0,
           0,
           0,
           0,
           0,
           0
          ],
          [
           0,
           0,
           0,
           0,
           0,
           0,
           0,
           0,
           0,
           0,
           0,
           0,
           0,
           0,
           0,
           0,
           0,
           0,
           0,
           0,
           0
          ],
          [
           0,
           0,
           0,
           0,
           0,
           0,
           0,
           0,
           0,
           0,
           0,
           0,
           0,
           0,
           0,
           0,
           0,
           0,
           0,
           0,
           0
          ],
          [
           3,
           3,
           3,
           3,
           3,
           3,
           3,
           3,
           3,
           3,
           3,
           3,
           3,
           3,
           3,
           3,
           3,
           3,
           3,
           3,
           39
          ],
          [
           15,
           15,
           15,
           15,
           15,
           15,
           15,
           15,
           15,
           15,
           15,
           15,
           15,
           15,
           15,
           15,
           15,
           15,
           15,
           15,
           15
          ],
          [
           4,
           3,
           3,
           2,
           2,
           2,
           2,
           2,
           2,
           2,
           2,
           2,
           2,
           2,
           2,
           2,
           2,
           2,
           2,
           2,
           3
          ],
          [
           3,
           3,
           2,
           2,
           2,
           2,
           2,
           2,
           2,
           2,
           2,
           2,
           2,
           2,
           2,
           2,
           2,
           2,
           2,
           2,
           3
          ],
          [
           3,
           3,
           3,
           3,
           3,
           1,
           1,
           1,
           1,
           1,
           0,
           0,
           0,
           0,
           0,
           0,
           0,
           0,
           0,
           0,
           0
          ]
         ],
         "type": "heatmap",
         "xaxis": "x",
         "yaxis": "y"
        },
        {
         "delta": {
          "reference": 903,
          "relative": true,
          "suffix": "%",
          "valueformat": ".2f"
         },
         "mode": "number+delta",
         "title": {
          "text": "NN of nan for Asia<br><span style='font-size:0.8em;color:gray'>compare to the mean of Continent</span>"
         },
         "value": 673,
         "type": "indicator",
         "domain": {
          "x": [
           0.8363636363636363,
           1.0
          ],
          "y": [
           0.0,
           1.0
          ]
         }
        }
       ],
       "layout": {
        "template": {
         "data": {
          "histogram2dcontour": [
           {
            "type": "histogram2dcontour",
            "colorbar": {
             "outlinewidth": 0,
             "ticks": ""
            },
            "colorscale": [
             [
              0.0,
              "#0d0887"
             ],
             [
              0.1111111111111111,
              "#46039f"
             ],
             [
              0.2222222222222222,
              "#7201a8"
             ],
             [
              0.3333333333333333,
              "#9c179e"
             ],
             [
              0.4444444444444444,
              "#bd3786"
             ],
             [
              0.5555555555555556,
              "#d8576b"
             ],
             [
              0.6666666666666666,
              "#ed7953"
             ],
             [
              0.7777777777777778,
              "#fb9f3a"
             ],
             [
              0.8888888888888888,
              "#fdca26"
             ],
             [
              1.0,
              "#f0f921"
             ]
            ]
           }
          ],
          "choropleth": [
           {
            "type": "choropleth",
            "colorbar": {
             "outlinewidth": 0,
             "ticks": ""
            }
           }
          ],
          "histogram2d": [
           {
            "type": "histogram2d",
            "colorbar": {
             "outlinewidth": 0,
             "ticks": ""
            },
            "colorscale": [
             [
              0.0,
              "#0d0887"
             ],
             [
              0.1111111111111111,
              "#46039f"
             ],
             [
              0.2222222222222222,
              "#7201a8"
             ],
             [
              0.3333333333333333,
              "#9c179e"
             ],
             [
              0.4444444444444444,
              "#bd3786"
             ],
             [
              0.5555555555555556,
              "#d8576b"
             ],
             [
              0.6666666666666666,
              "#ed7953"
             ],
             [
              0.7777777777777778,
              "#fb9f3a"
             ],
             [
              0.8888888888888888,
              "#fdca26"
             ],
             [
              1.0,
              "#f0f921"
             ]
            ]
           }
          ],
          "heatmap": [
           {
            "type": "heatmap",
            "colorbar": {
             "outlinewidth": 0,
             "ticks": ""
            },
            "colorscale": [
             [
              0.0,
              "#0d0887"
             ],
             [
              0.1111111111111111,
              "#46039f"
             ],
             [
              0.2222222222222222,
              "#7201a8"
             ],
             [
              0.3333333333333333,
              "#9c179e"
             ],
             [
              0.4444444444444444,
              "#bd3786"
             ],
             [
              0.5555555555555556,
              "#d8576b"
             ],
             [
              0.6666666666666666,
              "#ed7953"
             ],
             [
              0.7777777777777778,
              "#fb9f3a"
             ],
             [
              0.8888888888888888,
              "#fdca26"
             ],
             [
              1.0,
              "#f0f921"
             ]
            ]
           }
          ],
          "heatmapgl": [
           {
            "type": "heatmapgl",
            "colorbar": {
             "outlinewidth": 0,
             "ticks": ""
            },
            "colorscale": [
             [
              0.0,
              "#0d0887"
             ],
             [
              0.1111111111111111,
              "#46039f"
             ],
             [
              0.2222222222222222,
              "#7201a8"
             ],
             [
              0.3333333333333333,
              "#9c179e"
             ],
             [
              0.4444444444444444,
              "#bd3786"
             ],
             [
              0.5555555555555556,
              "#d8576b"
             ],
             [
              0.6666666666666666,
              "#ed7953"
             ],
             [
              0.7777777777777778,
              "#fb9f3a"
             ],
             [
              0.8888888888888888,
              "#fdca26"
             ],
             [
              1.0,
              "#f0f921"
             ]
            ]
           }
          ],
          "contourcarpet": [
           {
            "type": "contourcarpet",
            "colorbar": {
             "outlinewidth": 0,
             "ticks": ""
            }
           }
          ],
          "contour": [
           {
            "type": "contour",
            "colorbar": {
             "outlinewidth": 0,
             "ticks": ""
            },
            "colorscale": [
             [
              0.0,
              "#0d0887"
             ],
             [
              0.1111111111111111,
              "#46039f"
             ],
             [
              0.2222222222222222,
              "#7201a8"
             ],
             [
              0.3333333333333333,
              "#9c179e"
             ],
             [
              0.4444444444444444,
              "#bd3786"
             ],
             [
              0.5555555555555556,
              "#d8576b"
             ],
             [
              0.6666666666666666,
              "#ed7953"
             ],
             [
              0.7777777777777778,
              "#fb9f3a"
             ],
             [
              0.8888888888888888,
              "#fdca26"
             ],
             [
              1.0,
              "#f0f921"
             ]
            ]
           }
          ],
          "surface": [
           {
            "type": "surface",
            "colorbar": {
             "outlinewidth": 0,
             "ticks": ""
            },
            "colorscale": [
             [
              0.0,
              "#0d0887"
             ],
             [
              0.1111111111111111,
              "#46039f"
             ],
             [
              0.2222222222222222,
              "#7201a8"
             ],
             [
              0.3333333333333333,
              "#9c179e"
             ],
             [
              0.4444444444444444,
              "#bd3786"
             ],
             [
              0.5555555555555556,
              "#d8576b"
             ],
             [
              0.6666666666666666,
              "#ed7953"
             ],
             [
              0.7777777777777778,
              "#fb9f3a"
             ],
             [
              0.8888888888888888,
              "#fdca26"
             ],
             [
              1.0,
              "#f0f921"
             ]
            ]
           }
          ],
          "mesh3d": [
           {
            "type": "mesh3d",
            "colorbar": {
             "outlinewidth": 0,
             "ticks": ""
            }
           }
          ],
          "scatter": [
           {
            "marker": {
             "line": {
              "color": "#283442"
             }
            },
            "type": "scatter"
           }
          ],
          "parcoords": [
           {
            "type": "parcoords",
            "line": {
             "colorbar": {
              "outlinewidth": 0,
              "ticks": ""
             }
            }
           }
          ],
          "scatterpolargl": [
           {
            "type": "scatterpolargl",
            "marker": {
             "colorbar": {
              "outlinewidth": 0,
              "ticks": ""
             }
            }
           }
          ],
          "bar": [
           {
            "error_x": {
             "color": "#f2f5fa"
            },
            "error_y": {
             "color": "#f2f5fa"
            },
            "marker": {
             "line": {
              "color": "rgb(17,17,17)",
              "width": 0.5
             },
             "pattern": {
              "fillmode": "overlay",
              "size": 10,
              "solidity": 0.2
             }
            },
            "type": "bar"
           }
          ],
          "scattergeo": [
           {
            "type": "scattergeo",
            "marker": {
             "colorbar": {
              "outlinewidth": 0,
              "ticks": ""
             }
            }
           }
          ],
          "scatterpolar": [
           {
            "type": "scatterpolar",
            "marker": {
             "colorbar": {
              "outlinewidth": 0,
              "ticks": ""
             }
            }
           }
          ],
          "histogram": [
           {
            "marker": {
             "pattern": {
              "fillmode": "overlay",
              "size": 10,
              "solidity": 0.2
             }
            },
            "type": "histogram"
           }
          ],
          "scattergl": [
           {
            "marker": {
             "line": {
              "color": "#283442"
             }
            },
            "type": "scattergl"
           }
          ],
          "scatter3d": [
           {
            "type": "scatter3d",
            "line": {
             "colorbar": {
              "outlinewidth": 0,
              "ticks": ""
             }
            },
            "marker": {
             "colorbar": {
              "outlinewidth": 0,
              "ticks": ""
             }
            }
           }
          ],
          "scattermapbox": [
           {
            "type": "scattermapbox",
            "marker": {
             "colorbar": {
              "outlinewidth": 0,
              "ticks": ""
             }
            }
           }
          ],
          "scatterternary": [
           {
            "type": "scatterternary",
            "marker": {
             "colorbar": {
              "outlinewidth": 0,
              "ticks": ""
             }
            }
           }
          ],
          "scattercarpet": [
           {
            "type": "scattercarpet",
            "marker": {
             "colorbar": {
              "outlinewidth": 0,
              "ticks": ""
             }
            }
           }
          ],
          "carpet": [
           {
            "aaxis": {
             "endlinecolor": "#A2B1C6",
             "gridcolor": "#506784",
             "linecolor": "#506784",
             "minorgridcolor": "#506784",
             "startlinecolor": "#A2B1C6"
            },
            "baxis": {
             "endlinecolor": "#A2B1C6",
             "gridcolor": "#506784",
             "linecolor": "#506784",
             "minorgridcolor": "#506784",
             "startlinecolor": "#A2B1C6"
            },
            "type": "carpet"
           }
          ],
          "table": [
           {
            "cells": {
             "fill": {
              "color": "#506784"
             },
             "line": {
              "color": "rgb(17,17,17)"
             }
            },
            "header": {
             "fill": {
              "color": "#2a3f5f"
             },
             "line": {
              "color": "rgb(17,17,17)"
             }
            },
            "type": "table"
           }
          ],
          "barpolar": [
           {
            "marker": {
             "line": {
              "color": "rgb(17,17,17)",
              "width": 0.5
             },
             "pattern": {
              "fillmode": "overlay",
              "size": 10,
              "solidity": 0.2
             }
            },
            "type": "barpolar"
           }
          ],
          "pie": [
           {
            "automargin": true,
            "type": "pie"
           }
          ]
         },
         "layout": {
          "autotypenumbers": "strict",
          "colorway": [
           "#636efa",
           "#EF553B",
           "#00cc96",
           "#ab63fa",
           "#FFA15A",
           "#19d3f3",
           "#FF6692",
           "#B6E880",
           "#FF97FF",
           "#FECB52"
          ],
          "font": {
           "color": "#f2f5fa"
          },
          "hovermode": "closest",
          "hoverlabel": {
           "align": "left"
          },
          "paper_bgcolor": "rgb(17,17,17)",
          "plot_bgcolor": "rgb(17,17,17)",
          "polar": {
           "bgcolor": "rgb(17,17,17)",
           "angularaxis": {
            "gridcolor": "#506784",
            "linecolor": "#506784",
            "ticks": ""
           },
           "radialaxis": {
            "gridcolor": "#506784",
            "linecolor": "#506784",
            "ticks": ""
           }
          },
          "ternary": {
           "bgcolor": "rgb(17,17,17)",
           "aaxis": {
            "gridcolor": "#506784",
            "linecolor": "#506784",
            "ticks": ""
           },
           "baxis": {
            "gridcolor": "#506784",
            "linecolor": "#506784",
            "ticks": ""
           },
           "caxis": {
            "gridcolor": "#506784",
            "linecolor": "#506784",
            "ticks": ""
           }
          },
          "coloraxis": {
           "colorbar": {
            "outlinewidth": 0,
            "ticks": ""
           }
          },
          "colorscale": {
           "sequential": [
            [
             0.0,
             "#0d0887"
            ],
            [
             0.1111111111111111,
             "#46039f"
            ],
            [
             0.2222222222222222,
             "#7201a8"
            ],
            [
             0.3333333333333333,
             "#9c179e"
            ],
            [
             0.4444444444444444,
             "#bd3786"
            ],
            [
             0.5555555555555556,
             "#d8576b"
            ],
            [
             0.6666666666666666,
             "#ed7953"
            ],
            [
             0.7777777777777778,
             "#fb9f3a"
            ],
            [
             0.8888888888888888,
             "#fdca26"
            ],
            [
             1.0,
             "#f0f921"
            ]
           ],
           "sequentialminus": [
            [
             0.0,
             "#0d0887"
            ],
            [
             0.1111111111111111,
             "#46039f"
            ],
            [
             0.2222222222222222,
             "#7201a8"
            ],
            [
             0.3333333333333333,
             "#9c179e"
            ],
            [
             0.4444444444444444,
             "#bd3786"
            ],
            [
             0.5555555555555556,
             "#d8576b"
            ],
            [
             0.6666666666666666,
             "#ed7953"
            ],
            [
             0.7777777777777778,
             "#fb9f3a"
            ],
            [
             0.8888888888888888,
             "#fdca26"
            ],
            [
             1.0,
             "#f0f921"
            ]
           ],
           "diverging": [
            [
             0,
             "#8e0152"
            ],
            [
             0.1,
             "#c51b7d"
            ],
            [
             0.2,
             "#de77ae"
            ],
            [
             0.3,
             "#f1b6da"
            ],
            [
             0.4,
             "#fde0ef"
            ],
            [
             0.5,
             "#f7f7f7"
            ],
            [
             0.6,
             "#e6f5d0"
            ],
            [
             0.7,
             "#b8e186"
            ],
            [
             0.8,
             "#7fbc41"
            ],
            [
             0.9,
             "#4d9221"
            ],
            [
             1,
             "#276419"
            ]
           ]
          },
          "xaxis": {
           "gridcolor": "#283442",
           "linecolor": "#506784",
           "ticks": "",
           "title": {
            "standoff": 15
           },
           "zerolinecolor": "#283442",
           "automargin": true,
           "zerolinewidth": 2
          },
          "yaxis": {
           "gridcolor": "#283442",
           "linecolor": "#506784",
           "ticks": "",
           "title": {
            "standoff": 15
           },
           "zerolinecolor": "#283442",
           "automargin": true,
           "zerolinewidth": 2
          },
          "scene": {
           "xaxis": {
            "backgroundcolor": "rgb(17,17,17)",
            "gridcolor": "#506784",
            "linecolor": "#506784",
            "showbackground": true,
            "ticks": "",
            "zerolinecolor": "#C8D4E3",
            "gridwidth": 2
           },
           "yaxis": {
            "backgroundcolor": "rgb(17,17,17)",
            "gridcolor": "#506784",
            "linecolor": "#506784",
            "showbackground": true,
            "ticks": "",
            "zerolinecolor": "#C8D4E3",
            "gridwidth": 2
           },
           "zaxis": {
            "backgroundcolor": "rgb(17,17,17)",
            "gridcolor": "#506784",
            "linecolor": "#506784",
            "showbackground": true,
            "ticks": "",
            "zerolinecolor": "#C8D4E3",
            "gridwidth": 2
           }
          },
          "shapedefaults": {
           "line": {
            "color": "#f2f5fa"
           }
          },
          "annotationdefaults": {
           "arrowcolor": "#f2f5fa",
           "arrowhead": 0,
           "arrowwidth": 1
          },
          "geo": {
           "bgcolor": "rgb(17,17,17)",
           "landcolor": "rgb(17,17,17)",
           "subunitcolor": "#506784",
           "showland": true,
           "showlakes": true,
           "lakecolor": "rgb(17,17,17)"
          },
          "title": {
           "x": 0.05
          },
          "updatemenudefaults": {
           "bgcolor": "#506784",
           "borderwidth": 0
          },
          "sliderdefaults": {
           "bgcolor": "#C8D4E3",
           "borderwidth": 1,
           "bordercolor": "rgb(17,17,17)",
           "tickwidth": 0
          },
          "mapbox": {
           "style": "dark"
          }
         }
        },
        "xaxis": {
         "anchor": "y",
         "domain": [
          0.0,
          0.7363636363636363
         ]
        },
        "yaxis": {
         "anchor": "x",
         "domain": [
          0.0,
          1.0
         ]
        },
        "annotations": [
         {
          "font": {
           "size": 16
          },
          "showarrow": false,
          "text": "Heatmap des valeurs manquantes par année et par variable",
          "x": 0.36818181818181817,
          "xanchor": "center",
          "xref": "paper",
          "y": 1.0,
          "yanchor": "bottom",
          "yref": "paper"
         }
        ],
        "title": {
         "font": {
          "size": 24
         },
         "text": "Observation of missing values for : Asia",
         "x": 0.5
        },
        "font": {
         "family": "Arial",
         "size": 12
        },
        "height": 900
       },
       "config": {
        "plotlyServerURL": "https://plot.ly"
       }
      },
      "text/html": "<div>                            <div id=\"bb81c854-1253-4796-bcf8-a5df07e272b6\" class=\"plotly-graph-div\" style=\"height:900px; width:100%;\"></div>            <script type=\"text/javascript\">                require([\"plotly\"], function(Plotly) {                    window.PLOTLYENV=window.PLOTLYENV || {};                                    if (document.getElementById(\"bb81c854-1253-4796-bcf8-a5df07e272b6\")) {                    Plotly.newPlot(                        \"bb81c854-1253-4796-bcf8-a5df07e272b6\",                        [{\"colorbar\":{\"title\":{\"side\":\"top\",\"text\":\"nombre\"}},\"colorscale\":[[0.0,\"#440154\"],[0.1111111111111111,\"#482878\"],[0.2222222222222222,\"#3e4989\"],[0.3333333333333333,\"#31688e\"],[0.4444444444444444,\"#26828e\"],[0.5555555555555556,\"#1f9e89\"],[0.6666666666666666,\"#35b779\"],[0.7777777777777778,\"#6ece58\"],[0.8888888888888888,\"#b5de2b\"],[1.0,\"#fde725\"]],\"x\":[2000,2001,2002,2003,2004,2005,2006,2007,2008,2009,2010,2011,2012,2013,2014,2015,2016,2017,2018,2019,2020],\"y\":[\"Access to Electricity (%)\",\"Renewable Electricity Capacity per Capita\",\"Electricity from Fossil Fuels (TWh)\",\"Electricity from Nuclear (TWh)\",\"Electricity from Renewables (TWh)\",\"Low-Carbon Electricity (%)\",\"Primary Energy Consumption per Capita (kWh/person)\",\"CO2 Emissions (kt by country)\",\"Renewables (% Equivalent Primary Energy)\",\"GDP Growth\",\"GDP per Capita\",\"Human Development Index\"],\"z\":[[0,0,0,0,0,0,0,0,0,0,0,0,0,0,0,0,0,0,0,0,0],[3,3,3,3,3,3,3,3,3,3,3,3,3,3,3,3,3,3,3,3,3],[0,0,0,0,0,0,0,0,0,0,0,0,0,0,0,0,0,0,0,0,0],[4,4,4,4,4,4,4,4,4,4,4,4,4,4,4,4,4,4,4,4,4],[0,0,0,0,0,0,0,0,0,0,0,0,0,0,0,0,0,0,0,0,0],[0,0,0,0,0,0,0,0,0,0,0,0,0,0,0,0,0,0,0,0,0],[0,0,0,0,0,0,0,0,0,0,0,0,0,0,0,0,0,0,0,0,0],[3,3,3,3,3,3,3,3,3,3,3,3,3,3,3,3,3,3,3,3,39],[15,15,15,15,15,15,15,15,15,15,15,15,15,15,15,15,15,15,15,15,15],[4,3,3,2,2,2,2,2,2,2,2,2,2,2,2,2,2,2,2,2,3],[3,3,2,2,2,2,2,2,2,2,2,2,2,2,2,2,2,2,2,2,3],[3,3,3,3,3,1,1,1,1,1,0,0,0,0,0,0,0,0,0,0,0]],\"type\":\"heatmap\",\"xaxis\":\"x\",\"yaxis\":\"y\"},{\"delta\":{\"reference\":903,\"relative\":true,\"suffix\":\"%\",\"valueformat\":\".2f\"},\"mode\":\"number+delta\",\"title\":{\"text\":\"NN of nan for Asia<br><span style='font-size:0.8em;color:gray'>compare to the mean of Continent</span>\"},\"value\":673,\"type\":\"indicator\",\"domain\":{\"x\":[0.8363636363636363,1.0],\"y\":[0.0,1.0]}}],                        {\"template\":{\"data\":{\"histogram2dcontour\":[{\"type\":\"histogram2dcontour\",\"colorbar\":{\"outlinewidth\":0,\"ticks\":\"\"},\"colorscale\":[[0.0,\"#0d0887\"],[0.1111111111111111,\"#46039f\"],[0.2222222222222222,\"#7201a8\"],[0.3333333333333333,\"#9c179e\"],[0.4444444444444444,\"#bd3786\"],[0.5555555555555556,\"#d8576b\"],[0.6666666666666666,\"#ed7953\"],[0.7777777777777778,\"#fb9f3a\"],[0.8888888888888888,\"#fdca26\"],[1.0,\"#f0f921\"]]}],\"choropleth\":[{\"type\":\"choropleth\",\"colorbar\":{\"outlinewidth\":0,\"ticks\":\"\"}}],\"histogram2d\":[{\"type\":\"histogram2d\",\"colorbar\":{\"outlinewidth\":0,\"ticks\":\"\"},\"colorscale\":[[0.0,\"#0d0887\"],[0.1111111111111111,\"#46039f\"],[0.2222222222222222,\"#7201a8\"],[0.3333333333333333,\"#9c179e\"],[0.4444444444444444,\"#bd3786\"],[0.5555555555555556,\"#d8576b\"],[0.6666666666666666,\"#ed7953\"],[0.7777777777777778,\"#fb9f3a\"],[0.8888888888888888,\"#fdca26\"],[1.0,\"#f0f921\"]]}],\"heatmap\":[{\"type\":\"heatmap\",\"colorbar\":{\"outlinewidth\":0,\"ticks\":\"\"},\"colorscale\":[[0.0,\"#0d0887\"],[0.1111111111111111,\"#46039f\"],[0.2222222222222222,\"#7201a8\"],[0.3333333333333333,\"#9c179e\"],[0.4444444444444444,\"#bd3786\"],[0.5555555555555556,\"#d8576b\"],[0.6666666666666666,\"#ed7953\"],[0.7777777777777778,\"#fb9f3a\"],[0.8888888888888888,\"#fdca26\"],[1.0,\"#f0f921\"]]}],\"heatmapgl\":[{\"type\":\"heatmapgl\",\"colorbar\":{\"outlinewidth\":0,\"ticks\":\"\"},\"colorscale\":[[0.0,\"#0d0887\"],[0.1111111111111111,\"#46039f\"],[0.2222222222222222,\"#7201a8\"],[0.3333333333333333,\"#9c179e\"],[0.4444444444444444,\"#bd3786\"],[0.5555555555555556,\"#d8576b\"],[0.6666666666666666,\"#ed7953\"],[0.7777777777777778,\"#fb9f3a\"],[0.8888888888888888,\"#fdca26\"],[1.0,\"#f0f921\"]]}],\"contourcarpet\":[{\"type\":\"contourcarpet\",\"colorbar\":{\"outlinewidth\":0,\"ticks\":\"\"}}],\"contour\":[{\"type\":\"contour\",\"colorbar\":{\"outlinewidth\":0,\"ticks\":\"\"},\"colorscale\":[[0.0,\"#0d0887\"],[0.1111111111111111,\"#46039f\"],[0.2222222222222222,\"#7201a8\"],[0.3333333333333333,\"#9c179e\"],[0.4444444444444444,\"#bd3786\"],[0.5555555555555556,\"#d8576b\"],[0.6666666666666666,\"#ed7953\"],[0.7777777777777778,\"#fb9f3a\"],[0.8888888888888888,\"#fdca26\"],[1.0,\"#f0f921\"]]}],\"surface\":[{\"type\":\"surface\",\"colorbar\":{\"outlinewidth\":0,\"ticks\":\"\"},\"colorscale\":[[0.0,\"#0d0887\"],[0.1111111111111111,\"#46039f\"],[0.2222222222222222,\"#7201a8\"],[0.3333333333333333,\"#9c179e\"],[0.4444444444444444,\"#bd3786\"],[0.5555555555555556,\"#d8576b\"],[0.6666666666666666,\"#ed7953\"],[0.7777777777777778,\"#fb9f3a\"],[0.8888888888888888,\"#fdca26\"],[1.0,\"#f0f921\"]]}],\"mesh3d\":[{\"type\":\"mesh3d\",\"colorbar\":{\"outlinewidth\":0,\"ticks\":\"\"}}],\"scatter\":[{\"marker\":{\"line\":{\"color\":\"#283442\"}},\"type\":\"scatter\"}],\"parcoords\":[{\"type\":\"parcoords\",\"line\":{\"colorbar\":{\"outlinewidth\":0,\"ticks\":\"\"}}}],\"scatterpolargl\":[{\"type\":\"scatterpolargl\",\"marker\":{\"colorbar\":{\"outlinewidth\":0,\"ticks\":\"\"}}}],\"bar\":[{\"error_x\":{\"color\":\"#f2f5fa\"},\"error_y\":{\"color\":\"#f2f5fa\"},\"marker\":{\"line\":{\"color\":\"rgb(17,17,17)\",\"width\":0.5},\"pattern\":{\"fillmode\":\"overlay\",\"size\":10,\"solidity\":0.2}},\"type\":\"bar\"}],\"scattergeo\":[{\"type\":\"scattergeo\",\"marker\":{\"colorbar\":{\"outlinewidth\":0,\"ticks\":\"\"}}}],\"scatterpolar\":[{\"type\":\"scatterpolar\",\"marker\":{\"colorbar\":{\"outlinewidth\":0,\"ticks\":\"\"}}}],\"histogram\":[{\"marker\":{\"pattern\":{\"fillmode\":\"overlay\",\"size\":10,\"solidity\":0.2}},\"type\":\"histogram\"}],\"scattergl\":[{\"marker\":{\"line\":{\"color\":\"#283442\"}},\"type\":\"scattergl\"}],\"scatter3d\":[{\"type\":\"scatter3d\",\"line\":{\"colorbar\":{\"outlinewidth\":0,\"ticks\":\"\"}},\"marker\":{\"colorbar\":{\"outlinewidth\":0,\"ticks\":\"\"}}}],\"scattermapbox\":[{\"type\":\"scattermapbox\",\"marker\":{\"colorbar\":{\"outlinewidth\":0,\"ticks\":\"\"}}}],\"scatterternary\":[{\"type\":\"scatterternary\",\"marker\":{\"colorbar\":{\"outlinewidth\":0,\"ticks\":\"\"}}}],\"scattercarpet\":[{\"type\":\"scattercarpet\",\"marker\":{\"colorbar\":{\"outlinewidth\":0,\"ticks\":\"\"}}}],\"carpet\":[{\"aaxis\":{\"endlinecolor\":\"#A2B1C6\",\"gridcolor\":\"#506784\",\"linecolor\":\"#506784\",\"minorgridcolor\":\"#506784\",\"startlinecolor\":\"#A2B1C6\"},\"baxis\":{\"endlinecolor\":\"#A2B1C6\",\"gridcolor\":\"#506784\",\"linecolor\":\"#506784\",\"minorgridcolor\":\"#506784\",\"startlinecolor\":\"#A2B1C6\"},\"type\":\"carpet\"}],\"table\":[{\"cells\":{\"fill\":{\"color\":\"#506784\"},\"line\":{\"color\":\"rgb(17,17,17)\"}},\"header\":{\"fill\":{\"color\":\"#2a3f5f\"},\"line\":{\"color\":\"rgb(17,17,17)\"}},\"type\":\"table\"}],\"barpolar\":[{\"marker\":{\"line\":{\"color\":\"rgb(17,17,17)\",\"width\":0.5},\"pattern\":{\"fillmode\":\"overlay\",\"size\":10,\"solidity\":0.2}},\"type\":\"barpolar\"}],\"pie\":[{\"automargin\":true,\"type\":\"pie\"}]},\"layout\":{\"autotypenumbers\":\"strict\",\"colorway\":[\"#636efa\",\"#EF553B\",\"#00cc96\",\"#ab63fa\",\"#FFA15A\",\"#19d3f3\",\"#FF6692\",\"#B6E880\",\"#FF97FF\",\"#FECB52\"],\"font\":{\"color\":\"#f2f5fa\"},\"hovermode\":\"closest\",\"hoverlabel\":{\"align\":\"left\"},\"paper_bgcolor\":\"rgb(17,17,17)\",\"plot_bgcolor\":\"rgb(17,17,17)\",\"polar\":{\"bgcolor\":\"rgb(17,17,17)\",\"angularaxis\":{\"gridcolor\":\"#506784\",\"linecolor\":\"#506784\",\"ticks\":\"\"},\"radialaxis\":{\"gridcolor\":\"#506784\",\"linecolor\":\"#506784\",\"ticks\":\"\"}},\"ternary\":{\"bgcolor\":\"rgb(17,17,17)\",\"aaxis\":{\"gridcolor\":\"#506784\",\"linecolor\":\"#506784\",\"ticks\":\"\"},\"baxis\":{\"gridcolor\":\"#506784\",\"linecolor\":\"#506784\",\"ticks\":\"\"},\"caxis\":{\"gridcolor\":\"#506784\",\"linecolor\":\"#506784\",\"ticks\":\"\"}},\"coloraxis\":{\"colorbar\":{\"outlinewidth\":0,\"ticks\":\"\"}},\"colorscale\":{\"sequential\":[[0.0,\"#0d0887\"],[0.1111111111111111,\"#46039f\"],[0.2222222222222222,\"#7201a8\"],[0.3333333333333333,\"#9c179e\"],[0.4444444444444444,\"#bd3786\"],[0.5555555555555556,\"#d8576b\"],[0.6666666666666666,\"#ed7953\"],[0.7777777777777778,\"#fb9f3a\"],[0.8888888888888888,\"#fdca26\"],[1.0,\"#f0f921\"]],\"sequentialminus\":[[0.0,\"#0d0887\"],[0.1111111111111111,\"#46039f\"],[0.2222222222222222,\"#7201a8\"],[0.3333333333333333,\"#9c179e\"],[0.4444444444444444,\"#bd3786\"],[0.5555555555555556,\"#d8576b\"],[0.6666666666666666,\"#ed7953\"],[0.7777777777777778,\"#fb9f3a\"],[0.8888888888888888,\"#fdca26\"],[1.0,\"#f0f921\"]],\"diverging\":[[0,\"#8e0152\"],[0.1,\"#c51b7d\"],[0.2,\"#de77ae\"],[0.3,\"#f1b6da\"],[0.4,\"#fde0ef\"],[0.5,\"#f7f7f7\"],[0.6,\"#e6f5d0\"],[0.7,\"#b8e186\"],[0.8,\"#7fbc41\"],[0.9,\"#4d9221\"],[1,\"#276419\"]]},\"xaxis\":{\"gridcolor\":\"#283442\",\"linecolor\":\"#506784\",\"ticks\":\"\",\"title\":{\"standoff\":15},\"zerolinecolor\":\"#283442\",\"automargin\":true,\"zerolinewidth\":2},\"yaxis\":{\"gridcolor\":\"#283442\",\"linecolor\":\"#506784\",\"ticks\":\"\",\"title\":{\"standoff\":15},\"zerolinecolor\":\"#283442\",\"automargin\":true,\"zerolinewidth\":2},\"scene\":{\"xaxis\":{\"backgroundcolor\":\"rgb(17,17,17)\",\"gridcolor\":\"#506784\",\"linecolor\":\"#506784\",\"showbackground\":true,\"ticks\":\"\",\"zerolinecolor\":\"#C8D4E3\",\"gridwidth\":2},\"yaxis\":{\"backgroundcolor\":\"rgb(17,17,17)\",\"gridcolor\":\"#506784\",\"linecolor\":\"#506784\",\"showbackground\":true,\"ticks\":\"\",\"zerolinecolor\":\"#C8D4E3\",\"gridwidth\":2},\"zaxis\":{\"backgroundcolor\":\"rgb(17,17,17)\",\"gridcolor\":\"#506784\",\"linecolor\":\"#506784\",\"showbackground\":true,\"ticks\":\"\",\"zerolinecolor\":\"#C8D4E3\",\"gridwidth\":2}},\"shapedefaults\":{\"line\":{\"color\":\"#f2f5fa\"}},\"annotationdefaults\":{\"arrowcolor\":\"#f2f5fa\",\"arrowhead\":0,\"arrowwidth\":1},\"geo\":{\"bgcolor\":\"rgb(17,17,17)\",\"landcolor\":\"rgb(17,17,17)\",\"subunitcolor\":\"#506784\",\"showland\":true,\"showlakes\":true,\"lakecolor\":\"rgb(17,17,17)\"},\"title\":{\"x\":0.05},\"updatemenudefaults\":{\"bgcolor\":\"#506784\",\"borderwidth\":0},\"sliderdefaults\":{\"bgcolor\":\"#C8D4E3\",\"borderwidth\":1,\"bordercolor\":\"rgb(17,17,17)\",\"tickwidth\":0},\"mapbox\":{\"style\":\"dark\"}}},\"xaxis\":{\"anchor\":\"y\",\"domain\":[0.0,0.7363636363636363]},\"yaxis\":{\"anchor\":\"x\",\"domain\":[0.0,1.0]},\"annotations\":[{\"font\":{\"size\":16},\"showarrow\":false,\"text\":\"Heatmap des valeurs manquantes par ann\\u00e9e et par variable\",\"x\":0.36818181818181817,\"xanchor\":\"center\",\"xref\":\"paper\",\"y\":1.0,\"yanchor\":\"bottom\",\"yref\":\"paper\"}],\"title\":{\"font\":{\"size\":24},\"text\":\"Observation of missing values for : Asia\",\"x\":0.5},\"font\":{\"family\":\"Arial\",\"size\":12},\"height\":900},                        {\"responsive\": true}                    ).then(function(){\n                            \nvar gd = document.getElementById('bb81c854-1253-4796-bcf8-a5df07e272b6');\nvar x = new MutationObserver(function (mutations, observer) {{\n        var display = window.getComputedStyle(gd).display;\n        if (!display || display === 'none') {{\n            console.log([gd, 'removed!']);\n            Plotly.purge(gd);\n            observer.disconnect();\n        }}\n}});\n\n// Listen for the removal of the full notebook cells\nvar notebookContainer = gd.closest('#notebook-container');\nif (notebookContainer) {{\n    x.observe(notebookContainer, {childList: true});\n}}\n\n// Listen for the clearing of the current output cell\nvar outputEl = gd.closest('.output');\nif (outputEl) {{\n    x.observe(outputEl, {childList: true});\n}}\n\n                        })                };                });            </script>        </div>"
     },
     "metadata": {},
     "output_type": "display_data"
    },
    {
     "data": {
      "text/plain": "Year                                                2000  2001  2002  2003  \\\nAccess to Electricity (%)                              0     0     0     0   \nRenewable Electricity Capacity per Capita              3     3     3     3   \nElectricity from Fossil Fuels (TWh)                    0     0     0     0   \nElectricity from Nuclear (TWh)                         4     4     4     4   \nElectricity from Renewables (TWh)                      0     0     0     0   \nLow-Carbon Electricity (%)                             0     0     0     0   \nPrimary Energy Consumption per Capita (kWh/person)     0     0     0     0   \nCO2 Emissions (kt by country)                          3     3     3     3   \nRenewables (% Equivalent Primary Energy)              15    15    15    15   \nGDP Growth                                             4     3     3     2   \nGDP per Capita                                         3     3     2     2   \nHuman Development Index                                3     3     3     3   \n\nYear                                                2004  2005  2006  2007  \\\nAccess to Electricity (%)                              0     0     0     0   \nRenewable Electricity Capacity per Capita              3     3     3     3   \nElectricity from Fossil Fuels (TWh)                    0     0     0     0   \nElectricity from Nuclear (TWh)                         4     4     4     4   \nElectricity from Renewables (TWh)                      0     0     0     0   \nLow-Carbon Electricity (%)                             0     0     0     0   \nPrimary Energy Consumption per Capita (kWh/person)     0     0     0     0   \nCO2 Emissions (kt by country)                          3     3     3     3   \nRenewables (% Equivalent Primary Energy)              15    15    15    15   \nGDP Growth                                             2     2     2     2   \nGDP per Capita                                         2     2     2     2   \nHuman Development Index                                3     1     1     1   \n\nYear                                                2008  2009  ...  2011  \\\nAccess to Electricity (%)                              0     0  ...     0   \nRenewable Electricity Capacity per Capita              3     3  ...     3   \nElectricity from Fossil Fuels (TWh)                    0     0  ...     0   \nElectricity from Nuclear (TWh)                         4     4  ...     4   \nElectricity from Renewables (TWh)                      0     0  ...     0   \nLow-Carbon Electricity (%)                             0     0  ...     0   \nPrimary Energy Consumption per Capita (kWh/person)     0     0  ...     0   \nCO2 Emissions (kt by country)                          3     3  ...     3   \nRenewables (% Equivalent Primary Energy)              15    15  ...    15   \nGDP Growth                                             2     2  ...     2   \nGDP per Capita                                         2     2  ...     2   \nHuman Development Index                                1     1  ...     0   \n\nYear                                                2012  2013  2014  2015  \\\nAccess to Electricity (%)                              0     0     0     0   \nRenewable Electricity Capacity per Capita              3     3     3     3   \nElectricity from Fossil Fuels (TWh)                    0     0     0     0   \nElectricity from Nuclear (TWh)                         4     4     4     4   \nElectricity from Renewables (TWh)                      0     0     0     0   \nLow-Carbon Electricity (%)                             0     0     0     0   \nPrimary Energy Consumption per Capita (kWh/person)     0     0     0     0   \nCO2 Emissions (kt by country)                          3     3     3     3   \nRenewables (% Equivalent Primary Energy)              15    15    15    15   \nGDP Growth                                             2     2     2     2   \nGDP per Capita                                         2     2     2     2   \nHuman Development Index                                0     0     0     0   \n\nYear                                                2016  2017  2018  2019  \\\nAccess to Electricity (%)                              0     0     0     0   \nRenewable Electricity Capacity per Capita              3     3     3     3   \nElectricity from Fossil Fuels (TWh)                    0     0     0     0   \nElectricity from Nuclear (TWh)                         4     4     4     4   \nElectricity from Renewables (TWh)                      0     0     0     0   \nLow-Carbon Electricity (%)                             0     0     0     0   \nPrimary Energy Consumption per Capita (kWh/person)     0     0     0     0   \nCO2 Emissions (kt by country)                          3     3     3     3   \nRenewables (% Equivalent Primary Energy)              15    15    15    15   \nGDP Growth                                             2     2     2     2   \nGDP per Capita                                         2     2     2     2   \nHuman Development Index                                0     0     0     0   \n\nYear                                                2020  \nAccess to Electricity (%)                              0  \nRenewable Electricity Capacity per Capita              3  \nElectricity from Fossil Fuels (TWh)                    0  \nElectricity from Nuclear (TWh)                         4  \nElectricity from Renewables (TWh)                      0  \nLow-Carbon Electricity (%)                             0  \nPrimary Energy Consumption per Capita (kWh/person)     0  \nCO2 Emissions (kt by country)                         39  \nRenewables (% Equivalent Primary Energy)              15  \nGDP Growth                                             3  \nGDP per Capita                                         3  \nHuman Development Index                                0  \n\n[12 rows x 21 columns]",
      "text/html": "<div>\n<style scoped>\n    .dataframe tbody tr th:only-of-type {\n        vertical-align: middle;\n    }\n\n    .dataframe tbody tr th {\n        vertical-align: top;\n    }\n\n    .dataframe thead th {\n        text-align: right;\n    }\n</style>\n<table border=\"1\" class=\"dataframe\">\n  <thead>\n    <tr style=\"text-align: right;\">\n      <th>Year</th>\n      <th>2000</th>\n      <th>2001</th>\n      <th>2002</th>\n      <th>2003</th>\n      <th>2004</th>\n      <th>2005</th>\n      <th>2006</th>\n      <th>2007</th>\n      <th>2008</th>\n      <th>2009</th>\n      <th>...</th>\n      <th>2011</th>\n      <th>2012</th>\n      <th>2013</th>\n      <th>2014</th>\n      <th>2015</th>\n      <th>2016</th>\n      <th>2017</th>\n      <th>2018</th>\n      <th>2019</th>\n      <th>2020</th>\n    </tr>\n  </thead>\n  <tbody>\n    <tr>\n      <th>Access to Electricity (%)</th>\n      <td>0</td>\n      <td>0</td>\n      <td>0</td>\n      <td>0</td>\n      <td>0</td>\n      <td>0</td>\n      <td>0</td>\n      <td>0</td>\n      <td>0</td>\n      <td>0</td>\n      <td>...</td>\n      <td>0</td>\n      <td>0</td>\n      <td>0</td>\n      <td>0</td>\n      <td>0</td>\n      <td>0</td>\n      <td>0</td>\n      <td>0</td>\n      <td>0</td>\n      <td>0</td>\n    </tr>\n    <tr>\n      <th>Renewable Electricity Capacity per Capita</th>\n      <td>3</td>\n      <td>3</td>\n      <td>3</td>\n      <td>3</td>\n      <td>3</td>\n      <td>3</td>\n      <td>3</td>\n      <td>3</td>\n      <td>3</td>\n      <td>3</td>\n      <td>...</td>\n      <td>3</td>\n      <td>3</td>\n      <td>3</td>\n      <td>3</td>\n      <td>3</td>\n      <td>3</td>\n      <td>3</td>\n      <td>3</td>\n      <td>3</td>\n      <td>3</td>\n    </tr>\n    <tr>\n      <th>Electricity from Fossil Fuels (TWh)</th>\n      <td>0</td>\n      <td>0</td>\n      <td>0</td>\n      <td>0</td>\n      <td>0</td>\n      <td>0</td>\n      <td>0</td>\n      <td>0</td>\n      <td>0</td>\n      <td>0</td>\n      <td>...</td>\n      <td>0</td>\n      <td>0</td>\n      <td>0</td>\n      <td>0</td>\n      <td>0</td>\n      <td>0</td>\n      <td>0</td>\n      <td>0</td>\n      <td>0</td>\n      <td>0</td>\n    </tr>\n    <tr>\n      <th>Electricity from Nuclear (TWh)</th>\n      <td>4</td>\n      <td>4</td>\n      <td>4</td>\n      <td>4</td>\n      <td>4</td>\n      <td>4</td>\n      <td>4</td>\n      <td>4</td>\n      <td>4</td>\n      <td>4</td>\n      <td>...</td>\n      <td>4</td>\n      <td>4</td>\n      <td>4</td>\n      <td>4</td>\n      <td>4</td>\n      <td>4</td>\n      <td>4</td>\n      <td>4</td>\n      <td>4</td>\n      <td>4</td>\n    </tr>\n    <tr>\n      <th>Electricity from Renewables (TWh)</th>\n      <td>0</td>\n      <td>0</td>\n      <td>0</td>\n      <td>0</td>\n      <td>0</td>\n      <td>0</td>\n      <td>0</td>\n      <td>0</td>\n      <td>0</td>\n      <td>0</td>\n      <td>...</td>\n      <td>0</td>\n      <td>0</td>\n      <td>0</td>\n      <td>0</td>\n      <td>0</td>\n      <td>0</td>\n      <td>0</td>\n      <td>0</td>\n      <td>0</td>\n      <td>0</td>\n    </tr>\n    <tr>\n      <th>Low-Carbon Electricity (%)</th>\n      <td>0</td>\n      <td>0</td>\n      <td>0</td>\n      <td>0</td>\n      <td>0</td>\n      <td>0</td>\n      <td>0</td>\n      <td>0</td>\n      <td>0</td>\n      <td>0</td>\n      <td>...</td>\n      <td>0</td>\n      <td>0</td>\n      <td>0</td>\n      <td>0</td>\n      <td>0</td>\n      <td>0</td>\n      <td>0</td>\n      <td>0</td>\n      <td>0</td>\n      <td>0</td>\n    </tr>\n    <tr>\n      <th>Primary Energy Consumption per Capita (kWh/person)</th>\n      <td>0</td>\n      <td>0</td>\n      <td>0</td>\n      <td>0</td>\n      <td>0</td>\n      <td>0</td>\n      <td>0</td>\n      <td>0</td>\n      <td>0</td>\n      <td>0</td>\n      <td>...</td>\n      <td>0</td>\n      <td>0</td>\n      <td>0</td>\n      <td>0</td>\n      <td>0</td>\n      <td>0</td>\n      <td>0</td>\n      <td>0</td>\n      <td>0</td>\n      <td>0</td>\n    </tr>\n    <tr>\n      <th>CO2 Emissions (kt by country)</th>\n      <td>3</td>\n      <td>3</td>\n      <td>3</td>\n      <td>3</td>\n      <td>3</td>\n      <td>3</td>\n      <td>3</td>\n      <td>3</td>\n      <td>3</td>\n      <td>3</td>\n      <td>...</td>\n      <td>3</td>\n      <td>3</td>\n      <td>3</td>\n      <td>3</td>\n      <td>3</td>\n      <td>3</td>\n      <td>3</td>\n      <td>3</td>\n      <td>3</td>\n      <td>39</td>\n    </tr>\n    <tr>\n      <th>Renewables (% Equivalent Primary Energy)</th>\n      <td>15</td>\n      <td>15</td>\n      <td>15</td>\n      <td>15</td>\n      <td>15</td>\n      <td>15</td>\n      <td>15</td>\n      <td>15</td>\n      <td>15</td>\n      <td>15</td>\n      <td>...</td>\n      <td>15</td>\n      <td>15</td>\n      <td>15</td>\n      <td>15</td>\n      <td>15</td>\n      <td>15</td>\n      <td>15</td>\n      <td>15</td>\n      <td>15</td>\n      <td>15</td>\n    </tr>\n    <tr>\n      <th>GDP Growth</th>\n      <td>4</td>\n      <td>3</td>\n      <td>3</td>\n      <td>2</td>\n      <td>2</td>\n      <td>2</td>\n      <td>2</td>\n      <td>2</td>\n      <td>2</td>\n      <td>2</td>\n      <td>...</td>\n      <td>2</td>\n      <td>2</td>\n      <td>2</td>\n      <td>2</td>\n      <td>2</td>\n      <td>2</td>\n      <td>2</td>\n      <td>2</td>\n      <td>2</td>\n      <td>3</td>\n    </tr>\n    <tr>\n      <th>GDP per Capita</th>\n      <td>3</td>\n      <td>3</td>\n      <td>2</td>\n      <td>2</td>\n      <td>2</td>\n      <td>2</td>\n      <td>2</td>\n      <td>2</td>\n      <td>2</td>\n      <td>2</td>\n      <td>...</td>\n      <td>2</td>\n      <td>2</td>\n      <td>2</td>\n      <td>2</td>\n      <td>2</td>\n      <td>2</td>\n      <td>2</td>\n      <td>2</td>\n      <td>2</td>\n      <td>3</td>\n    </tr>\n    <tr>\n      <th>Human Development Index</th>\n      <td>3</td>\n      <td>3</td>\n      <td>3</td>\n      <td>3</td>\n      <td>3</td>\n      <td>1</td>\n      <td>1</td>\n      <td>1</td>\n      <td>1</td>\n      <td>1</td>\n      <td>...</td>\n      <td>0</td>\n      <td>0</td>\n      <td>0</td>\n      <td>0</td>\n      <td>0</td>\n      <td>0</td>\n      <td>0</td>\n      <td>0</td>\n      <td>0</td>\n      <td>0</td>\n    </tr>\n  </tbody>\n</table>\n<p>12 rows × 21 columns</p>\n</div>"
     },
     "execution_count": 19,
     "metadata": {},
     "output_type": "execute_result"
    }
   ],
   "source": [
    "def heatmap(df_heatmap : pd.DataFrame  = df_energy, area_type : str = \"Continent\", area_name : str = \"Asia\") -> go.Figure :\n",
    "    \"\"\"\n",
    "    This function creat a complexe multi-figure within a heatmap of missing values for the given area_name for all features and an indicator trace.\n",
    "    :param df_heatmap: The data frame to analyse\n",
    "    :param area_type: [\"Country\", \"Continent\", \"Region\", \"iso3\"]\n",
    "    :param area_name: [\"France\", \"Europe\", \"Western Europe\", \"FRA\", ...]\n",
    "    :return: a figure object of the plotly lib (heatmap + indicator)\n",
    "    \"\"\"\n",
    "    \n",
    "    ###############\n",
    "    ## Computation\n",
    "    ###############\n",
    "    # The set of var to observe except the one used on other axis\n",
    "    col = df_energy.columns.tolist()\n",
    "    for x in ['Year', 'Country', 'Continent', 'Region', 'iso3'] : col.remove(x)\n",
    "\n",
    "    df_heat= df_heatmap.query(f\"{area_type} == '{area_name}'\")[col]   # make the df with for the given area_name\n",
    "    df_heat_na = df_heat.isna()\n",
    "    df_heat_na.replace({True: 1, False: 0}, inplace=True)      # We change the True to 1 because plotly can not interpret them\n",
    "     \n",
    "    # compute the values for the indicator\n",
    "    NB_OF_NAN = df_heat_na.sum().sum()\n",
    "    NB_OF_NAN_GLOBAL = df_energy.isna().sum().sum()\n",
    "    NB_MEAN_NAN = (NB_OF_NAN_GLOBAL/len(df_heatmap[area_type].unique()))   # compare the nb of nan for the given area_name to the mean of nan of other area_type\n",
    "    \n",
    "    print(\"NB_OF_NAN {}, NB_OF_NAN_GLOBAL {}, NB_MEAN_NAN_PER_AREATYPE {}\".format(NB_OF_NAN, NB_OF_NAN_GLOBAL, NB_MEAN_NAN ))\n",
    "\n",
    "    df_heat_na['Year'] = df_heatmap['Year']  # add the year column to the df\n",
    "    transposed_df = df_heat_na.groupby('Year').sum().T\n",
    "    \n",
    "    # testing after the upper calculation to be sure that the nb of missing val and shape is plausible\n",
    "    assert transposed_df.sum().sum() == df_energy.query(f\"{area_type} == '{area_name}'\").isna().sum().sum(), \"<-- The sum of nan is not the same -->\"\n",
    "    assert transposed_df.shape[0] == len(col), \"<-- The number of columns is not the same -->\"\n",
    "    assert transposed_df.shape[1] == len(df_energy['Year'].unique().tolist()), \"<-- The number of rows is not the same -->\"\n",
    "    \n",
    "    ###############\n",
    "    ## The subplot\n",
    "    ###############\n",
    "    heatmap = make_subplots(\n",
    "        rows=1, cols=2,     # 2 col bcs 2 graph\n",
    "        column_widths=[0.9, 0.2],\n",
    "        specs=[[{\"type\": \"xy\"}, {\"type\": \"domain\"}]],   \n",
    "        subplot_titles=(\"Heatmap des valeurs manquantes par année et par variable\", \"\")\n",
    "    )\n",
    "    \n",
    "    ##### The heatmap\n",
    "    heatmap.add_trace(\n",
    "        go.Heatmap(\n",
    "            z=transposed_df,\n",
    "            x=df_energy['Year'].unique().tolist(),\n",
    "            y=col,\n",
    "            \n",
    "            # Styling\n",
    "            colorscale='Viridis', \n",
    "            colorbar=dict(\n",
    "                title=\"nombre\",\n",
    "                titleside=\"top\"\n",
    "            )\n",
    "        ),\n",
    "        # placement of the graph in 1st position\n",
    "        row=1, col=1\n",
    "    )\n",
    "    \n",
    "    ###### The indicator \n",
    "    heatmap.add_trace(\n",
    "        go.Indicator(\n",
    "            mode = \"number+delta\",  # 'delta' mean the % btw the value and a ref\n",
    "            value = NB_OF_NAN,      # nb of nan for the current country looked\n",
    "            delta = {'reference': int(NB_MEAN_NAN), 'relative' : True, 'valueformat' : '.2f', \"suffix\": \"%\"},\n",
    "            # styling\n",
    "            title = {\"text\": f\"NN of nan for {area_name}<br>\"\n",
    "                             \"<span style='font-size:0.8em;color:gray'>\"\n",
    "                             f\"compare to the mean of {area_type}</span>\"\n",
    "            }\n",
    "        ),\n",
    "        # placement of the graph in 2nd position\n",
    "        row=1, col=2\n",
    "    )\n",
    "    \n",
    "\n",
    "    ##### styling \n",
    "    heatmap.update_layout(\n",
    "        template=THEME,  # just a default theme\n",
    "        title_text=\"Observation of missing values for : {}\".format(area_name),\n",
    "        title_font_size=24,  # Increase title font size\n",
    "        title_x=0.5,  # Center the title\n",
    "        height=900,  # Set the height of the figure in pixels\n",
    "        # width=1000,  # Set the width of the figure in pixels\n",
    "        font=dict(family='Arial', size=12),  # Customize font family and size for the whole figure\n",
    "        #margin=dict(t=80, l=50, r=50, b=50),  # Add margin for better layout spacing\n",
    "    )\n",
    "    \n",
    "    heatmap.show()\n",
    "    \n",
    "    return transposed_df\n",
    "\n",
    "heatmap()"
   ],
   "metadata": {
    "collapsed": false,
    "ExecuteTime": {
     "end_time": "2023-10-25T17:35:57.327953900Z",
     "start_time": "2023-10-25T17:35:57.078111Z"
    }
   },
   "id": "f702f0d8c045f76b"
  },
  {
   "cell_type": "markdown",
   "source": [
    " ### Heatmap of Correlation :"
   ],
   "metadata": {
    "collapsed": false
   },
   "id": "59e8645f3ac5fbfb"
  },
  {
   "cell_type": "code",
   "execution_count": 20,
   "outputs": [
    {
     "data": {
      "text/plain": "       Country  Year  Access to Electricity (%)  \\\n0  Afghanistan  2000                   1.613591   \n1  Afghanistan  2001                   4.074574   \n2  Afghanistan  2002                   9.409158   \n3  Afghanistan  2003                  14.738506   \n4  Afghanistan  2004                  20.064968   \n\n   Renewable Electricity Capacity per Capita  \\\n0                                       9.22   \n1                                       8.86   \n2                                       8.47   \n3                                       8.09   \n4                                       7.75   \n\n   Electricity from Fossil Fuels (TWh)  Electricity from Nuclear (TWh)  \\\n0                                 0.16                             0.0   \n1                                 0.09                             0.0   \n2                                 0.13                             0.0   \n3                                 0.31                             0.0   \n4                                 0.33                             0.0   \n\n   Electricity from Renewables (TWh)  Low-Carbon Electricity (%)  \\\n0                               0.31                   65.957440   \n1                               0.50                   84.745766   \n2                               0.56                   81.159424   \n3                               0.63                   67.021280   \n4                               0.56                   62.921350   \n\n   Primary Energy Consumption per Capita (kWh/person)  \\\n0                                          302.59482    \n1                                          236.89185    \n2                                          210.86215    \n3                                          229.96822    \n4                                          204.23125    \n\n   CO2 Emissions (kt by country)  Renewables (% Equivalent Primary Energy)  \\\n0                     760.000000                                       NaN   \n1                     730.000000                                       NaN   \n2                    1029.999971                                       NaN   \n3                    1220.000029                                       NaN   \n4                    1029.999971                                       NaN   \n\n   GDP Growth  GDP per Capita Continent         Region iso3  \\\n0         NaN             NaN      Asia  Southern Asia  AFG   \n1         NaN             NaN      Asia  Southern Asia  AFG   \n2         NaN      179.426579      Asia  Southern Asia  AFG   \n3    8.832278      190.683814      Asia  Southern Asia  AFG   \n4    1.414118      211.382074      Asia  Southern Asia  AFG   \n\n   Human Development Index  \n0                    0.335  \n1                    0.337  \n2                    0.362  \n3                    0.376  \n4                    0.392  ",
      "text/html": "<div>\n<style scoped>\n    .dataframe tbody tr th:only-of-type {\n        vertical-align: middle;\n    }\n\n    .dataframe tbody tr th {\n        vertical-align: top;\n    }\n\n    .dataframe thead th {\n        text-align: right;\n    }\n</style>\n<table border=\"1\" class=\"dataframe\">\n  <thead>\n    <tr style=\"text-align: right;\">\n      <th></th>\n      <th>Country</th>\n      <th>Year</th>\n      <th>Access to Electricity (%)</th>\n      <th>Renewable Electricity Capacity per Capita</th>\n      <th>Electricity from Fossil Fuels (TWh)</th>\n      <th>Electricity from Nuclear (TWh)</th>\n      <th>Electricity from Renewables (TWh)</th>\n      <th>Low-Carbon Electricity (%)</th>\n      <th>Primary Energy Consumption per Capita (kWh/person)</th>\n      <th>CO2 Emissions (kt by country)</th>\n      <th>Renewables (% Equivalent Primary Energy)</th>\n      <th>GDP Growth</th>\n      <th>GDP per Capita</th>\n      <th>Continent</th>\n      <th>Region</th>\n      <th>iso3</th>\n      <th>Human Development Index</th>\n    </tr>\n  </thead>\n  <tbody>\n    <tr>\n      <th>0</th>\n      <td>Afghanistan</td>\n      <td>2000</td>\n      <td>1.613591</td>\n      <td>9.22</td>\n      <td>0.16</td>\n      <td>0.0</td>\n      <td>0.31</td>\n      <td>65.957440</td>\n      <td>302.59482</td>\n      <td>760.000000</td>\n      <td>NaN</td>\n      <td>NaN</td>\n      <td>NaN</td>\n      <td>Asia</td>\n      <td>Southern Asia</td>\n      <td>AFG</td>\n      <td>0.335</td>\n    </tr>\n    <tr>\n      <th>1</th>\n      <td>Afghanistan</td>\n      <td>2001</td>\n      <td>4.074574</td>\n      <td>8.86</td>\n      <td>0.09</td>\n      <td>0.0</td>\n      <td>0.50</td>\n      <td>84.745766</td>\n      <td>236.89185</td>\n      <td>730.000000</td>\n      <td>NaN</td>\n      <td>NaN</td>\n      <td>NaN</td>\n      <td>Asia</td>\n      <td>Southern Asia</td>\n      <td>AFG</td>\n      <td>0.337</td>\n    </tr>\n    <tr>\n      <th>2</th>\n      <td>Afghanistan</td>\n      <td>2002</td>\n      <td>9.409158</td>\n      <td>8.47</td>\n      <td>0.13</td>\n      <td>0.0</td>\n      <td>0.56</td>\n      <td>81.159424</td>\n      <td>210.86215</td>\n      <td>1029.999971</td>\n      <td>NaN</td>\n      <td>NaN</td>\n      <td>179.426579</td>\n      <td>Asia</td>\n      <td>Southern Asia</td>\n      <td>AFG</td>\n      <td>0.362</td>\n    </tr>\n    <tr>\n      <th>3</th>\n      <td>Afghanistan</td>\n      <td>2003</td>\n      <td>14.738506</td>\n      <td>8.09</td>\n      <td>0.31</td>\n      <td>0.0</td>\n      <td>0.63</td>\n      <td>67.021280</td>\n      <td>229.96822</td>\n      <td>1220.000029</td>\n      <td>NaN</td>\n      <td>8.832278</td>\n      <td>190.683814</td>\n      <td>Asia</td>\n      <td>Southern Asia</td>\n      <td>AFG</td>\n      <td>0.376</td>\n    </tr>\n    <tr>\n      <th>4</th>\n      <td>Afghanistan</td>\n      <td>2004</td>\n      <td>20.064968</td>\n      <td>7.75</td>\n      <td>0.33</td>\n      <td>0.0</td>\n      <td>0.56</td>\n      <td>62.921350</td>\n      <td>204.23125</td>\n      <td>1029.999971</td>\n      <td>NaN</td>\n      <td>1.414118</td>\n      <td>211.382074</td>\n      <td>Asia</td>\n      <td>Southern Asia</td>\n      <td>AFG</td>\n      <td>0.392</td>\n    </tr>\n  </tbody>\n</table>\n</div>"
     },
     "execution_count": 20,
     "metadata": {},
     "output_type": "execute_result"
    }
   ],
   "source": [
    "df_energy.head()"
   ],
   "metadata": {
    "collapsed": false,
    "ExecuteTime": {
     "end_time": "2023-10-25T17:35:57.339007800Z",
     "start_time": "2023-10-25T17:35:57.255288900Z"
    }
   },
   "id": "4285da089d621235"
  },
  {
   "cell_type": "code",
   "execution_count": 21,
   "id": "76492aa6234ab077",
   "metadata": {
    "collapsed": false,
    "ExecuteTime": {
     "end_time": "2023-10-25T17:35:58.365057200Z",
     "start_time": "2023-10-25T17:35:57.287888500Z"
    }
   },
   "outputs": [
    {
     "data": {
      "text/plain": "<Axes: >"
     },
     "execution_count": 21,
     "metadata": {},
     "output_type": "execute_result"
    },
    {
     "data": {
      "text/plain": "<Figure size 640x480 with 2 Axes>",
      "image/png": "[encoded data removed]"
     },
     "metadata": {},
     "output_type": "display_data"
    }
   ],
   "source": [
    "\n",
    "cor = df_energy.drop(columns=categorical_columns).corr()\n",
    "sn.heatmap(cor)"
   ]
  },
  {
   "cell_type": "markdown",
   "source": [
    "### Easy map with go.Choropleth()"
   ],
   "metadata": {
    "collapsed": false
   },
   "id": "ca1615e0a50ca7eb"
  },
  {
   "cell_type": "code",
   "execution_count": 22,
   "outputs": [
    {
     "data": {
      "application/vnd.plotly.v1+json": {
       "data": [
        {
         "colorbar": {
          "title": {
           "text": "Human Development Index"
          }
         },
         "colorscale": [
          [
           0.0,
           "#440154"
          ],
          [
           0.1111111111111111,
           "#482878"
          ],
          [
           0.2222222222222222,
           "#3e4989"
          ],
          [
           0.3333333333333333,
           "#31688e"
          ],
          [
           0.4444444444444444,
           "#26828e"
          ],
          [
           0.5555555555555556,
           "#1f9e89"
          ],
          [
           0.6666666666666666,
           "#35b779"
          ],
          [
           0.7777777777777778,
           "#6ece58"
          ],
          [
           0.8888888888888888,
           "#b5de2b"
          ],
          [
           1.0,
           "#fde725"
          ]
         ],
         "locationmode": "country names",
         "locations": [
          "Afghanistan",
          "Albania",
          "Algeria",
          "Angola",
          "Antigua and Barbuda",
          "Argentina",
          "Armenia",
          "Aruba",
          "Australia",
          "Austria",
          "Azerbaijan",
          "Bahamas",
          "Bahrain",
          "Bangladesh",
          "Barbados",
          "Belarus",
          "Belgium",
          "Belize",
          "Benin",
          "Bermuda",
          "Bhutan",
          "Bosnia and Herzegovina",
          "Botswana",
          "Brazil",
          "Bulgaria",
          "Burkina Faso",
          "Burundi",
          "Cambodia",
          "Cameroon",
          "Canada",
          "Cayman Islands",
          "Central African Republic",
          "Chad",
          "Chile",
          "China",
          "Colombia",
          "Comoros",
          "Congo",
          "Costa Rica",
          "Croatia",
          "Cuba",
          "Cyprus",
          "Czechia",
          "Denmark",
          "Djibouti",
          "Dominica",
          "Dominican Republic",
          "Ecuador",
          "Egypt",
          "El Salvador",
          "Equatorial Guinea",
          "Eritrea",
          "Estonia",
          "Eswatini",
          "Ethiopia",
          "Fiji",
          "Finland",
          "France",
          "Gabon",
          "Gambia",
          "Georgia",
          "Germany",
          "Ghana",
          "Greece",
          "Grenada",
          "Guatemala",
          "Guinea",
          "Guinea-Bissau",
          "Guyana",
          "Haiti",
          "Honduras",
          "Hungary",
          "Iceland",
          "India",
          "Indonesia",
          "Iraq",
          "Ireland",
          "Israel",
          "Italy",
          "Jamaica",
          "Japan",
          "Jordan",
          "Kazakhstan",
          "Kenya",
          "Kiribati",
          "Kuwait",
          "Kyrgyzstan",
          "Latvia",
          "Lebanon",
          "Lesotho",
          "Liberia",
          "Libya",
          "Lithuania",
          "Luxembourg",
          "Madagascar",
          "Malawi",
          "Malaysia",
          "Maldives",
          "Mali",
          "Malta",
          "Mauritania",
          "Mauritius",
          "Mexico",
          "Mongolia",
          "Montenegro",
          "Morocco",
          "Mozambique",
          "Myanmar",
          "Namibia",
          "Nauru",
          "Nepal",
          "Netherlands",
          "New Caledonia",
          "New Zealand",
          "Nicaragua",
          "Niger",
          "Nigeria",
          "North Macedonia",
          "Norway",
          "Oman",
          "Pakistan",
          "Panama",
          "Papua New Guinea",
          "Paraguay",
          "Peru",
          "Philippines",
          "Poland",
          "Portugal",
          "Puerto Rico",
          "Qatar",
          "Romania",
          "Rwanda",
          "Saint Kitts and Nevis",
          "Saint Lucia",
          "Saint Vincent and the Grenadines",
          "Samoa",
          "Sao Tome and Principe",
          "Saudi Arabia",
          "Senegal",
          "Serbia",
          "Seychelles",
          "Sierra Leone",
          "Singapore",
          "Slovakia",
          "Slovenia",
          "Solomon Islands",
          "Somalia",
          "South Africa",
          "Spain",
          "Sri Lanka",
          "Sudan",
          "Suriname",
          "Sweden",
          "Switzerland",
          "Tajikistan",
          "Thailand",
          "Togo",
          "Tonga",
          "Trinidad and Tobago",
          "Tunisia",
          "Turkey",
          "Turkmenistan",
          "Tuvalu",
          "Uganda",
          "Ukraine",
          "United Arab Emirates",
          "United Kingdom",
          "United States",
          "Uruguay",
          "Uzbekistan",
          "Vanuatu",
          "Yemen",
          "Zambia",
          "Zimbabwe"
         ],
         "z": [
          0.466,
          0.778,
          0.729,
          0.541,
          0.787,
          0.843,
          0.755,
          null,
          0.93,
          0.906,
          0.734,
          0.815,
          0.817,
          0.572,
          0.787,
          0.806,
          0.915,
          0.713,
          0.509,
          null,
          0.598,
          0.745,
          0.674,
          0.732,
          0.798,
          0.395,
          0.416,
          0.555,
          0.533,
          0.921,
          null,
          0.388,
          0.381,
          0.824,
          0.709,
          0.734,
          0.533,
          0.575,
          0.786,
          0.83,
          0.773,
          0.86,
          0.874,
          0.931,
          0.478,
          0.706,
          0.718,
          0.751,
          0.688,
          0.664,
          0.592,
          0.486,
          0.874,
          0.531,
          0.43,
          0.721,
          0.915,
          0.882,
          0.679,
          0.467,
          0.773,
          0.933,
          0.592,
          0.866,
          0.784,
          0.616,
          0.425,
          0.456,
          0.669,
          0.517,
          0.599,
          0.831,
          0.921,
          0.598,
          0.678,
          0.66,
          0.903,
          0.898,
          0.883,
          0.713,
          0.905,
          0.721,
          0.783,
          0.552,
          0.594,
          0.826,
          0.675,
          0.833,
          0.762,
          0.486,
          0.47,
          0.726,
          0.851,
          0.916,
          0.496,
          0.47,
          0.78,
          0.709,
          0.407,
          0.864,
          0.523,
          0.775,
          0.76,
          0.718,
          0.812,
          0.624,
          0.413,
          0.531,
          0.601,
          null,
          0.561,
          0.927,
          null,
          0.924,
          0.629,
          0.354,
          0.499,
          0.743,
          0.946,
          0.802,
          0.513,
          0.785,
          0.513,
          0.702,
          0.742,
          0.685,
          0.852,
          0.836,
          null,
          0.829,
          0.805,
          0.506,
          0.766,
          0.734,
          0.737,
          0.709,
          0.562,
          0.837,
          0.49,
          0.78,
          0.786,
          0.447,
          0.92,
          0.845,
          0.891,
          0.554,
          null,
          0.696,
          0.874,
          0.751,
          0.493,
          0.731,
          0.911,
          0.945,
          0.643,
          0.746,
          0.491,
          0.723,
          0.8,
          0.724,
          0.769,
          0.727,
          0.624,
          0.504,
          0.773,
          0.846,
          0.909,
          0.916,
          0.798,
          0.687,
          0.59,
          0.512,
          0.548,
          0.557
         ],
         "zmax": 0.962,
         "zmin": 0.262,
         "type": "choropleth"
        }
       ],
       "layout": {
        "template": {
         "data": {
          "histogram2dcontour": [
           {
            "type": "histogram2dcontour",
            "colorbar": {
             "outlinewidth": 0,
             "ticks": ""
            },
            "colorscale": [
             [
              0.0,
              "#0d0887"
             ],
             [
              0.1111111111111111,
              "#46039f"
             ],
             [
              0.2222222222222222,
              "#7201a8"
             ],
             [
              0.3333333333333333,
              "#9c179e"
             ],
             [
              0.4444444444444444,
              "#bd3786"
             ],
             [
              0.5555555555555556,
              "#d8576b"
             ],
             [
              0.6666666666666666,
              "#ed7953"
             ],
             [
              0.7777777777777778,
              "#fb9f3a"
             ],
             [
              0.8888888888888888,
              "#fdca26"
             ],
             [
              1.0,
              "#f0f921"
             ]
            ]
           }
          ],
          "choropleth": [
           {
            "type": "choropleth",
            "colorbar": {
             "outlinewidth": 0,
             "ticks": ""
            }
           }
          ],
          "histogram2d": [
           {
            "type": "histogram2d",
            "colorbar": {
             "outlinewidth": 0,
             "ticks": ""
            },
            "colorscale": [
             [
              0.0,
              "#0d0887"
             ],
             [
              0.1111111111111111,
              "#46039f"
             ],
             [
              0.2222222222222222,
              "#7201a8"
             ],
             [
              0.3333333333333333,
              "#9c179e"
             ],
             [
              0.4444444444444444,
              "#bd3786"
             ],
             [
              0.5555555555555556,
              "#d8576b"
             ],
             [
              0.6666666666666666,
              "#ed7953"
             ],
             [
              0.7777777777777778,
              "#fb9f3a"
             ],
             [
              0.8888888888888888,
              "#fdca26"
             ],
             [
              1.0,
              "#f0f921"
             ]
            ]
           }
          ],
          "heatmap": [
           {
            "type": "heatmap",
            "colorbar": {
             "outlinewidth": 0,
             "ticks": ""
            },
            "colorscale": [
             [
              0.0,
              "#0d0887"
             ],
             [
              0.1111111111111111,
              "#46039f"
             ],
             [
              0.2222222222222222,
              "#7201a8"
             ],
             [
              0.3333333333333333,
              "#9c179e"
             ],
             [
              0.4444444444444444,
              "#bd3786"
             ],
             [
              0.5555555555555556,
              "#d8576b"
             ],
             [
              0.6666666666666666,
              "#ed7953"
             ],
             [
              0.7777777777777778,
              "#fb9f3a"
             ],
             [
              0.8888888888888888,
              "#fdca26"
             ],
             [
              1.0,
              "#f0f921"
             ]
            ]
           }
          ],
          "heatmapgl": [
           {
            "type": "heatmapgl",
            "colorbar": {
             "outlinewidth": 0,
             "ticks": ""
            },
            "colorscale": [
             [
              0.0,
              "#0d0887"
             ],
             [
              0.1111111111111111,
              "#46039f"
             ],
             [
              0.2222222222222222,
              "#7201a8"
             ],
             [
              0.3333333333333333,
              "#9c179e"
             ],
             [
              0.4444444444444444,
              "#bd3786"
             ],
             [
              0.5555555555555556,
              "#d8576b"
             ],
             [
              0.6666666666666666,
              "#ed7953"
             ],
             [
              0.7777777777777778,
              "#fb9f3a"
             ],
             [
              0.8888888888888888,
              "#fdca26"
             ],
             [
              1.0,
              "#f0f921"
             ]
            ]
           }
          ],
          "contourcarpet": [
           {
            "type": "contourcarpet",
            "colorbar": {
             "outlinewidth": 0,
             "ticks": ""
            }
           }
          ],
          "contour": [
           {
            "type": "contour",
            "colorbar": {
             "outlinewidth": 0,
             "ticks": ""
            },
            "colorscale": [
             [
              0.0,
              "#0d0887"
             ],
             [
              0.1111111111111111,
              "#46039f"
             ],
             [
              0.2222222222222222,
              "#7201a8"
             ],
             [
              0.3333333333333333,
              "#9c179e"
             ],
             [
              0.4444444444444444,
              "#bd3786"
             ],
             [
              0.5555555555555556,
              "#d8576b"
             ],
             [
              0.6666666666666666,
              "#ed7953"
             ],
             [
              0.7777777777777778,
              "#fb9f3a"
             ],
             [
              0.8888888888888888,
              "#fdca26"
             ],
             [
              1.0,
              "#f0f921"
             ]
            ]
           }
          ],
          "surface": [
           {
            "type": "surface",
            "colorbar": {
             "outlinewidth": 0,
             "ticks": ""
            },
            "colorscale": [
             [
              0.0,
              "#0d0887"
             ],
             [
              0.1111111111111111,
              "#46039f"
             ],
             [
              0.2222222222222222,
              "#7201a8"
             ],
             [
              0.3333333333333333,
              "#9c179e"
             ],
             [
              0.4444444444444444,
              "#bd3786"
             ],
             [
              0.5555555555555556,
              "#d8576b"
             ],
             [
              0.6666666666666666,
              "#ed7953"
             ],
             [
              0.7777777777777778,
              "#fb9f3a"
             ],
             [
              0.8888888888888888,
              "#fdca26"
             ],
             [
              1.0,
              "#f0f921"
             ]
            ]
           }
          ],
          "mesh3d": [
           {
            "type": "mesh3d",
            "colorbar": {
             "outlinewidth": 0,
             "ticks": ""
            }
           }
          ],
          "scatter": [
           {
            "marker": {
             "line": {
              "color": "#283442"
             }
            },
            "type": "scatter"
           }
          ],
          "parcoords": [
           {
            "type": "parcoords",
            "line": {
             "colorbar": {
              "outlinewidth": 0,
              "ticks": ""
             }
            }
           }
          ],
          "scatterpolargl": [
           {
            "type": "scatterpolargl",
            "marker": {
             "colorbar": {
              "outlinewidth": 0,
              "ticks": ""
             }
            }
           }
          ],
          "bar": [
           {
            "error_x": {
             "color": "#f2f5fa"
            },
            "error_y": {
             "color": "#f2f5fa"
            },
            "marker": {
             "line": {
              "color": "rgb(17,17,17)",
              "width": 0.5
             },
             "pattern": {
              "fillmode": "overlay",
              "size": 10,
              "solidity": 0.2
             }
            },
            "type": "bar"
           }
          ],
          "scattergeo": [
           {
            "type": "scattergeo",
            "marker": {
             "colorbar": {
              "outlinewidth": 0,
              "ticks": ""
             }
            }
           }
          ],
          "scatterpolar": [
           {
            "type": "scatterpolar",
            "marker": {
             "colorbar": {
              "outlinewidth": 0,
              "ticks": ""
             }
            }
           }
          ],
          "histogram": [
           {
            "marker": {
             "pattern": {
              "fillmode": "overlay",
              "size": 10,
              "solidity": 0.2
             }
            },
            "type": "histogram"
           }
          ],
          "scattergl": [
           {
            "marker": {
             "line": {
              "color": "#283442"
             }
            },
            "type": "scattergl"
           }
          ],
          "scatter3d": [
           {
            "type": "scatter3d",
            "line": {
             "colorbar": {
              "outlinewidth": 0,
              "ticks": ""
             }
            },
            "marker": {
             "colorbar": {
              "outlinewidth": 0,
              "ticks": ""
             }
            }
           }
          ],
          "scattermapbox": [
           {
            "type": "scattermapbox",
            "marker": {
             "colorbar": {
              "outlinewidth": 0,
              "ticks": ""
             }
            }
           }
          ],
          "scatterternary": [
           {
            "type": "scatterternary",
            "marker": {
             "colorbar": {
              "outlinewidth": 0,
              "ticks": ""
             }
            }
           }
          ],
          "scattercarpet": [
           {
            "type": "scattercarpet",
            "marker": {
             "colorbar": {
              "outlinewidth": 0,
              "ticks": ""
             }
            }
           }
          ],
          "carpet": [
           {
            "aaxis": {
             "endlinecolor": "#A2B1C6",
             "gridcolor": "#506784",
             "linecolor": "#506784",
             "minorgridcolor": "#506784",
             "startlinecolor": "#A2B1C6"
            },
            "baxis": {
             "endlinecolor": "#A2B1C6",
             "gridcolor": "#506784",
             "linecolor": "#506784",
             "minorgridcolor": "#506784",
             "startlinecolor": "#A2B1C6"
            },
            "type": "carpet"
           }
          ],
          "table": [
           {
            "cells": {
             "fill": {
              "color": "#506784"
             },
             "line": {
              "color": "rgb(17,17,17)"
             }
            },
            "header": {
             "fill": {
              "color": "#2a3f5f"
             },
             "line": {
              "color": "rgb(17,17,17)"
             }
            },
            "type": "table"
           }
          ],
          "barpolar": [
           {
            "marker": {
             "line": {
              "color": "rgb(17,17,17)",
              "width": 0.5
             },
             "pattern": {
              "fillmode": "overlay",
              "size": 10,
              "solidity": 0.2
             }
            },
            "type": "barpolar"
           }
          ],
          "pie": [
           {
            "automargin": true,
            "type": "pie"
           }
          ]
         },
         "layout": {
          "autotypenumbers": "strict",
          "colorway": [
           "#636efa",
           "#EF553B",
           "#00cc96",
           "#ab63fa",
           "#FFA15A",
           "#19d3f3",
           "#FF6692",
           "#B6E880",
           "#FF97FF",
           "#FECB52"
          ],
          "font": {
           "color": "#f2f5fa"
          },
          "hovermode": "closest",
          "hoverlabel": {
           "align": "left"
          },
          "paper_bgcolor": "rgb(17,17,17)",
          "plot_bgcolor": "rgb(17,17,17)",
          "polar": {
           "bgcolor": "rgb(17,17,17)",
           "angularaxis": {
            "gridcolor": "#506784",
            "linecolor": "#506784",
            "ticks": ""
           },
           "radialaxis": {
            "gridcolor": "#506784",
            "linecolor": "#506784",
            "ticks": ""
           }
          },
          "ternary": {
           "bgcolor": "rgb(17,17,17)",
           "aaxis": {
            "gridcolor": "#506784",
            "linecolor": "#506784",
            "ticks": ""
           },
           "baxis": {
            "gridcolor": "#506784",
            "linecolor": "#506784",
            "ticks": ""
           },
           "caxis": {
            "gridcolor": "#506784",
            "linecolor": "#506784",
            "ticks": ""
           }
          },
          "coloraxis": {
           "colorbar": {
            "outlinewidth": 0,
            "ticks": ""
           }
          },
          "colorscale": {
           "sequential": [
            [
             0.0,
             "#0d0887"
            ],
            [
             0.1111111111111111,
             "#46039f"
            ],
            [
             0.2222222222222222,
             "#7201a8"
            ],
            [
             0.3333333333333333,
             "#9c179e"
            ],
            [
             0.4444444444444444,
             "#bd3786"
            ],
            [
             0.5555555555555556,
             "#d8576b"
            ],
            [
             0.6666666666666666,
             "#ed7953"
            ],
            [
             0.7777777777777778,
             "#fb9f3a"
            ],
            [
             0.8888888888888888,
             "#fdca26"
            ],
            [
             1.0,
             "#f0f921"
            ]
           ],
           "sequentialminus": [
            [
             0.0,
             "#0d0887"
            ],
            [
             0.1111111111111111,
             "#46039f"
            ],
            [
             0.2222222222222222,
             "#7201a8"
            ],
            [
             0.3333333333333333,
             "#9c179e"
            ],
            [
             0.4444444444444444,
             "#bd3786"
            ],
            [
             0.5555555555555556,
             "#d8576b"
            ],
            [
             0.6666666666666666,
             "#ed7953"
            ],
            [
             0.7777777777777778,
             "#fb9f3a"
            ],
            [
             0.8888888888888888,
             "#fdca26"
            ],
            [
             1.0,
             "#f0f921"
            ]
           ],
           "diverging": [
            [
             0,
             "#8e0152"
            ],
            [
             0.1,
             "#c51b7d"
            ],
            [
             0.2,
             "#de77ae"
            ],
            [
             0.3,
             "#f1b6da"
            ],
            [
             0.4,
             "#fde0ef"
            ],
            [
             0.5,
             "#f7f7f7"
            ],
            [
             0.6,
             "#e6f5d0"
            ],
            [
             0.7,
             "#b8e186"
            ],
            [
             0.8,
             "#7fbc41"
            ],
            [
             0.9,
             "#4d9221"
            ],
            [
             1,
             "#276419"
            ]
           ]
          },
          "xaxis": {
           "gridcolor": "#283442",
           "linecolor": "#506784",
           "ticks": "",
           "title": {
            "standoff": 15
           },
           "zerolinecolor": "#283442",
           "automargin": true,
           "zerolinewidth": 2
          },
          "yaxis": {
           "gridcolor": "#283442",
           "linecolor": "#506784",
           "ticks": "",
           "title": {
            "standoff": 15
           },
           "zerolinecolor": "#283442",
           "automargin": true,
           "zerolinewidth": 2
          },
          "scene": {
           "xaxis": {
            "backgroundcolor": "rgb(17,17,17)",
            "gridcolor": "#506784",
            "linecolor": "#506784",
            "showbackground": true,
            "ticks": "",
            "zerolinecolor": "#C8D4E3",
            "gridwidth": 2
           },
           "yaxis": {
            "backgroundcolor": "rgb(17,17,17)",
            "gridcolor": "#506784",
            "linecolor": "#506784",
            "showbackground": true,
            "ticks": "",
            "zerolinecolor": "#C8D4E3",
            "gridwidth": 2
           },
           "zaxis": {
            "backgroundcolor": "rgb(17,17,17)",
            "gridcolor": "#506784",
            "linecolor": "#506784",
            "showbackground": true,
            "ticks": "",
            "zerolinecolor": "#C8D4E3",
            "gridwidth": 2
           }
          },
          "shapedefaults": {
           "line": {
            "color": "#f2f5fa"
           }
          },
          "annotationdefaults": {
           "arrowcolor": "#f2f5fa",
           "arrowhead": 0,
           "arrowwidth": 1
          },
          "geo": {
           "bgcolor": "rgb(17,17,17)",
           "landcolor": "rgb(17,17,17)",
           "subunitcolor": "#506784",
           "showland": true,
           "showlakes": true,
           "lakecolor": "rgb(17,17,17)"
          },
          "title": {
           "x": 0.05
          },
          "updatemenudefaults": {
           "bgcolor": "#506784",
           "borderwidth": 0
          },
          "sliderdefaults": {
           "bgcolor": "#C8D4E3",
           "borderwidth": 1,
           "bordercolor": "rgb(17,17,17)",
           "tickwidth": 0
          },
          "mapbox": {
           "style": "dark"
          }
         }
        },
        "title": {
         "font": {
          "size": 24
         },
         "text": "Human Development Index Map with slider",
         "x": 0.5
        },
        "font": {
         "family": "Arial",
         "size": 12
        },
        "margin": {
         "t": 80,
         "l": 50,
         "r": 50,
         "b": 50
        },
        "height": 800,
        "width": 1000
       },
       "config": {
        "plotlyServerURL": "https://plot.ly"
       }
      },
      "text/html": "<div>                            <div id=\"0c1c61ab-a01a-49a4-abb2-6d1f4a6f821d\" class=\"plotly-graph-div\" style=\"height:800px; width:1000px;\"></div>            <script type=\"text/javascript\">                require([\"plotly\"], function(Plotly) {                    window.PLOTLYENV=window.PLOTLYENV || {};                                    if (document.getElementById(\"0c1c61ab-a01a-49a4-abb2-6d1f4a6f821d\")) {                    Plotly.newPlot(                        \"0c1c61ab-a01a-49a4-abb2-6d1f4a6f821d\",                        [{\"colorbar\":{\"title\":{\"text\":\"Human Development Index\"}},\"colorscale\":[[0.0,\"#440154\"],[0.1111111111111111,\"#482878\"],[0.2222222222222222,\"#3e4989\"],[0.3333333333333333,\"#31688e\"],[0.4444444444444444,\"#26828e\"],[0.5555555555555556,\"#1f9e89\"],[0.6666666666666666,\"#35b779\"],[0.7777777777777778,\"#6ece58\"],[0.8888888888888888,\"#b5de2b\"],[1.0,\"#fde725\"]],\"locationmode\":\"country names\",\"locations\":[\"Afghanistan\",\"Albania\",\"Algeria\",\"Angola\",\"Antigua and Barbuda\",\"Argentina\",\"Armenia\",\"Aruba\",\"Australia\",\"Austria\",\"Azerbaijan\",\"Bahamas\",\"Bahrain\",\"Bangladesh\",\"Barbados\",\"Belarus\",\"Belgium\",\"Belize\",\"Benin\",\"Bermuda\",\"Bhutan\",\"Bosnia and Herzegovina\",\"Botswana\",\"Brazil\",\"Bulgaria\",\"Burkina Faso\",\"Burundi\",\"Cambodia\",\"Cameroon\",\"Canada\",\"Cayman Islands\",\"Central African Republic\",\"Chad\",\"Chile\",\"China\",\"Colombia\",\"Comoros\",\"Congo\",\"Costa Rica\",\"Croatia\",\"Cuba\",\"Cyprus\",\"Czechia\",\"Denmark\",\"Djibouti\",\"Dominica\",\"Dominican Republic\",\"Ecuador\",\"Egypt\",\"El Salvador\",\"Equatorial Guinea\",\"Eritrea\",\"Estonia\",\"Eswatini\",\"Ethiopia\",\"Fiji\",\"Finland\",\"France\",\"Gabon\",\"Gambia\",\"Georgia\",\"Germany\",\"Ghana\",\"Greece\",\"Grenada\",\"Guatemala\",\"Guinea\",\"Guinea-Bissau\",\"Guyana\",\"Haiti\",\"Honduras\",\"Hungary\",\"Iceland\",\"India\",\"Indonesia\",\"Iraq\",\"Ireland\",\"Israel\",\"Italy\",\"Jamaica\",\"Japan\",\"Jordan\",\"Kazakhstan\",\"Kenya\",\"Kiribati\",\"Kuwait\",\"Kyrgyzstan\",\"Latvia\",\"Lebanon\",\"Lesotho\",\"Liberia\",\"Libya\",\"Lithuania\",\"Luxembourg\",\"Madagascar\",\"Malawi\",\"Malaysia\",\"Maldives\",\"Mali\",\"Malta\",\"Mauritania\",\"Mauritius\",\"Mexico\",\"Mongolia\",\"Montenegro\",\"Morocco\",\"Mozambique\",\"Myanmar\",\"Namibia\",\"Nauru\",\"Nepal\",\"Netherlands\",\"New Caledonia\",\"New Zealand\",\"Nicaragua\",\"Niger\",\"Nigeria\",\"North Macedonia\",\"Norway\",\"Oman\",\"Pakistan\",\"Panama\",\"Papua New Guinea\",\"Paraguay\",\"Peru\",\"Philippines\",\"Poland\",\"Portugal\",\"Puerto Rico\",\"Qatar\",\"Romania\",\"Rwanda\",\"Saint Kitts and Nevis\",\"Saint Lucia\",\"Saint Vincent and the Grenadines\",\"Samoa\",\"Sao Tome and Principe\",\"Saudi Arabia\",\"Senegal\",\"Serbia\",\"Seychelles\",\"Sierra Leone\",\"Singapore\",\"Slovakia\",\"Slovenia\",\"Solomon Islands\",\"Somalia\",\"South Africa\",\"Spain\",\"Sri Lanka\",\"Sudan\",\"Suriname\",\"Sweden\",\"Switzerland\",\"Tajikistan\",\"Thailand\",\"Togo\",\"Tonga\",\"Trinidad and Tobago\",\"Tunisia\",\"Turkey\",\"Turkmenistan\",\"Tuvalu\",\"Uganda\",\"Ukraine\",\"United Arab Emirates\",\"United Kingdom\",\"United States\",\"Uruguay\",\"Uzbekistan\",\"Vanuatu\",\"Yemen\",\"Zambia\",\"Zimbabwe\"],\"z\":[0.466,0.778,0.729,0.541,0.787,0.843,0.755,null,0.93,0.906,0.734,0.815,0.817,0.572,0.787,0.806,0.915,0.713,0.509,null,0.598,0.745,0.674,0.732,0.798,0.395,0.416,0.555,0.533,0.921,null,0.388,0.381,0.824,0.709,0.734,0.533,0.575,0.786,0.83,0.773,0.86,0.874,0.931,0.478,0.706,0.718,0.751,0.688,0.664,0.592,0.486,0.874,0.531,0.43,0.721,0.915,0.882,0.679,0.467,0.773,0.933,0.592,0.866,0.784,0.616,0.425,0.456,0.669,0.517,0.599,0.831,0.921,0.598,0.678,0.66,0.903,0.898,0.883,0.713,0.905,0.721,0.783,0.552,0.594,0.826,0.675,0.833,0.762,0.486,0.47,0.726,0.851,0.916,0.496,0.47,0.78,0.709,0.407,0.864,0.523,0.775,0.76,0.718,0.812,0.624,0.413,0.531,0.601,null,0.561,0.927,null,0.924,0.629,0.354,0.499,0.743,0.946,0.802,0.513,0.785,0.513,0.702,0.742,0.685,0.852,0.836,null,0.829,0.805,0.506,0.766,0.734,0.737,0.709,0.562,0.837,0.49,0.78,0.786,0.447,0.92,0.845,0.891,0.554,null,0.696,0.874,0.751,0.493,0.731,0.911,0.945,0.643,0.746,0.491,0.723,0.8,0.724,0.769,0.727,0.624,0.504,0.773,0.846,0.909,0.916,0.798,0.687,0.59,0.512,0.548,0.557],\"zmax\":0.962,\"zmin\":0.262,\"type\":\"choropleth\"}],                        {\"template\":{\"data\":{\"histogram2dcontour\":[{\"type\":\"histogram2dcontour\",\"colorbar\":{\"outlinewidth\":0,\"ticks\":\"\"},\"colorscale\":[[0.0,\"#0d0887\"],[0.1111111111111111,\"#46039f\"],[0.2222222222222222,\"#7201a8\"],[0.3333333333333333,\"#9c179e\"],[0.4444444444444444,\"#bd3786\"],[0.5555555555555556,\"#d8576b\"],[0.6666666666666666,\"#ed7953\"],[0.7777777777777778,\"#fb9f3a\"],[0.8888888888888888,\"#fdca26\"],[1.0,\"#f0f921\"]]}],\"choropleth\":[{\"type\":\"choropleth\",\"colorbar\":{\"outlinewidth\":0,\"ticks\":\"\"}}],\"histogram2d\":[{\"type\":\"histogram2d\",\"colorbar\":{\"outlinewidth\":0,\"ticks\":\"\"},\"colorscale\":[[0.0,\"#0d0887\"],[0.1111111111111111,\"#46039f\"],[0.2222222222222222,\"#7201a8\"],[0.3333333333333333,\"#9c179e\"],[0.4444444444444444,\"#bd3786\"],[0.5555555555555556,\"#d8576b\"],[0.6666666666666666,\"#ed7953\"],[0.7777777777777778,\"#fb9f3a\"],[0.8888888888888888,\"#fdca26\"],[1.0,\"#f0f921\"]]}],\"heatmap\":[{\"type\":\"heatmap\",\"colorbar\":{\"outlinewidth\":0,\"ticks\":\"\"},\"colorscale\":[[0.0,\"#0d0887\"],[0.1111111111111111,\"#46039f\"],[0.2222222222222222,\"#7201a8\"],[0.3333333333333333,\"#9c179e\"],[0.4444444444444444,\"#bd3786\"],[0.5555555555555556,\"#d8576b\"],[0.6666666666666666,\"#ed7953\"],[0.7777777777777778,\"#fb9f3a\"],[0.8888888888888888,\"#fdca26\"],[1.0,\"#f0f921\"]]}],\"heatmapgl\":[{\"type\":\"heatmapgl\",\"colorbar\":{\"outlinewidth\":0,\"ticks\":\"\"},\"colorscale\":[[0.0,\"#0d0887\"],[0.1111111111111111,\"#46039f\"],[0.2222222222222222,\"#7201a8\"],[0.3333333333333333,\"#9c179e\"],[0.4444444444444444,\"#bd3786\"],[0.5555555555555556,\"#d8576b\"],[0.6666666666666666,\"#ed7953\"],[0.7777777777777778,\"#fb9f3a\"],[0.8888888888888888,\"#fdca26\"],[1.0,\"#f0f921\"]]}],\"contourcarpet\":[{\"type\":\"contourcarpet\",\"colorbar\":{\"outlinewidth\":0,\"ticks\":\"\"}}],\"contour\":[{\"type\":\"contour\",\"colorbar\":{\"outlinewidth\":0,\"ticks\":\"\"},\"colorscale\":[[0.0,\"#0d0887\"],[0.1111111111111111,\"#46039f\"],[0.2222222222222222,\"#7201a8\"],[0.3333333333333333,\"#9c179e\"],[0.4444444444444444,\"#bd3786\"],[0.5555555555555556,\"#d8576b\"],[0.6666666666666666,\"#ed7953\"],[0.7777777777777778,\"#fb9f3a\"],[0.8888888888888888,\"#fdca26\"],[1.0,\"#f0f921\"]]}],\"surface\":[{\"type\":\"surface\",\"colorbar\":{\"outlinewidth\":0,\"ticks\":\"\"},\"colorscale\":[[0.0,\"#0d0887\"],[0.1111111111111111,\"#46039f\"],[0.2222222222222222,\"#7201a8\"],[0.3333333333333333,\"#9c179e\"],[0.4444444444444444,\"#bd3786\"],[0.5555555555555556,\"#d8576b\"],[0.6666666666666666,\"#ed7953\"],[0.7777777777777778,\"#fb9f3a\"],[0.8888888888888888,\"#fdca26\"],[1.0,\"#f0f921\"]]}],\"mesh3d\":[{\"type\":\"mesh3d\",\"colorbar\":{\"outlinewidth\":0,\"ticks\":\"\"}}],\"scatter\":[{\"marker\":{\"line\":{\"color\":\"#283442\"}},\"type\":\"scatter\"}],\"parcoords\":[{\"type\":\"parcoords\",\"line\":{\"colorbar\":{\"outlinewidth\":0,\"ticks\":\"\"}}}],\"scatterpolargl\":[{\"type\":\"scatterpolargl\",\"marker\":{\"colorbar\":{\"outlinewidth\":0,\"ticks\":\"\"}}}],\"bar\":[{\"error_x\":{\"color\":\"#f2f5fa\"},\"error_y\":{\"color\":\"#f2f5fa\"},\"marker\":{\"line\":{\"color\":\"rgb(17,17,17)\",\"width\":0.5},\"pattern\":{\"fillmode\":\"overlay\",\"size\":10,\"solidity\":0.2}},\"type\":\"bar\"}],\"scattergeo\":[{\"type\":\"scattergeo\",\"marker\":{\"colorbar\":{\"outlinewidth\":0,\"ticks\":\"\"}}}],\"scatterpolar\":[{\"type\":\"scatterpolar\",\"marker\":{\"colorbar\":{\"outlinewidth\":0,\"ticks\":\"\"}}}],\"histogram\":[{\"marker\":{\"pattern\":{\"fillmode\":\"overlay\",\"size\":10,\"solidity\":0.2}},\"type\":\"histogram\"}],\"scattergl\":[{\"marker\":{\"line\":{\"color\":\"#283442\"}},\"type\":\"scattergl\"}],\"scatter3d\":[{\"type\":\"scatter3d\",\"line\":{\"colorbar\":{\"outlinewidth\":0,\"ticks\":\"\"}},\"marker\":{\"colorbar\":{\"outlinewidth\":0,\"ticks\":\"\"}}}],\"scattermapbox\":[{\"type\":\"scattermapbox\",\"marker\":{\"colorbar\":{\"outlinewidth\":0,\"ticks\":\"\"}}}],\"scatterternary\":[{\"type\":\"scatterternary\",\"marker\":{\"colorbar\":{\"outlinewidth\":0,\"ticks\":\"\"}}}],\"scattercarpet\":[{\"type\":\"scattercarpet\",\"marker\":{\"colorbar\":{\"outlinewidth\":0,\"ticks\":\"\"}}}],\"carpet\":[{\"aaxis\":{\"endlinecolor\":\"#A2B1C6\",\"gridcolor\":\"#506784\",\"linecolor\":\"#506784\",\"minorgridcolor\":\"#506784\",\"startlinecolor\":\"#A2B1C6\"},\"baxis\":{\"endlinecolor\":\"#A2B1C6\",\"gridcolor\":\"#506784\",\"linecolor\":\"#506784\",\"minorgridcolor\":\"#506784\",\"startlinecolor\":\"#A2B1C6\"},\"type\":\"carpet\"}],\"table\":[{\"cells\":{\"fill\":{\"color\":\"#506784\"},\"line\":{\"color\":\"rgb(17,17,17)\"}},\"header\":{\"fill\":{\"color\":\"#2a3f5f\"},\"line\":{\"color\":\"rgb(17,17,17)\"}},\"type\":\"table\"}],\"barpolar\":[{\"marker\":{\"line\":{\"color\":\"rgb(17,17,17)\",\"width\":0.5},\"pattern\":{\"fillmode\":\"overlay\",\"size\":10,\"solidity\":0.2}},\"type\":\"barpolar\"}],\"pie\":[{\"automargin\":true,\"type\":\"pie\"}]},\"layout\":{\"autotypenumbers\":\"strict\",\"colorway\":[\"#636efa\",\"#EF553B\",\"#00cc96\",\"#ab63fa\",\"#FFA15A\",\"#19d3f3\",\"#FF6692\",\"#B6E880\",\"#FF97FF\",\"#FECB52\"],\"font\":{\"color\":\"#f2f5fa\"},\"hovermode\":\"closest\",\"hoverlabel\":{\"align\":\"left\"},\"paper_bgcolor\":\"rgb(17,17,17)\",\"plot_bgcolor\":\"rgb(17,17,17)\",\"polar\":{\"bgcolor\":\"rgb(17,17,17)\",\"angularaxis\":{\"gridcolor\":\"#506784\",\"linecolor\":\"#506784\",\"ticks\":\"\"},\"radialaxis\":{\"gridcolor\":\"#506784\",\"linecolor\":\"#506784\",\"ticks\":\"\"}},\"ternary\":{\"bgcolor\":\"rgb(17,17,17)\",\"aaxis\":{\"gridcolor\":\"#506784\",\"linecolor\":\"#506784\",\"ticks\":\"\"},\"baxis\":{\"gridcolor\":\"#506784\",\"linecolor\":\"#506784\",\"ticks\":\"\"},\"caxis\":{\"gridcolor\":\"#506784\",\"linecolor\":\"#506784\",\"ticks\":\"\"}},\"coloraxis\":{\"colorbar\":{\"outlinewidth\":0,\"ticks\":\"\"}},\"colorscale\":{\"sequential\":[[0.0,\"#0d0887\"],[0.1111111111111111,\"#46039f\"],[0.2222222222222222,\"#7201a8\"],[0.3333333333333333,\"#9c179e\"],[0.4444444444444444,\"#bd3786\"],[0.5555555555555556,\"#d8576b\"],[0.6666666666666666,\"#ed7953\"],[0.7777777777777778,\"#fb9f3a\"],[0.8888888888888888,\"#fdca26\"],[1.0,\"#f0f921\"]],\"sequentialminus\":[[0.0,\"#0d0887\"],[0.1111111111111111,\"#46039f\"],[0.2222222222222222,\"#7201a8\"],[0.3333333333333333,\"#9c179e\"],[0.4444444444444444,\"#bd3786\"],[0.5555555555555556,\"#d8576b\"],[0.6666666666666666,\"#ed7953\"],[0.7777777777777778,\"#fb9f3a\"],[0.8888888888888888,\"#fdca26\"],[1.0,\"#f0f921\"]],\"diverging\":[[0,\"#8e0152\"],[0.1,\"#c51b7d\"],[0.2,\"#de77ae\"],[0.3,\"#f1b6da\"],[0.4,\"#fde0ef\"],[0.5,\"#f7f7f7\"],[0.6,\"#e6f5d0\"],[0.7,\"#b8e186\"],[0.8,\"#7fbc41\"],[0.9,\"#4d9221\"],[1,\"#276419\"]]},\"xaxis\":{\"gridcolor\":\"#283442\",\"linecolor\":\"#506784\",\"ticks\":\"\",\"title\":{\"standoff\":15},\"zerolinecolor\":\"#283442\",\"automargin\":true,\"zerolinewidth\":2},\"yaxis\":{\"gridcolor\":\"#283442\",\"linecolor\":\"#506784\",\"ticks\":\"\",\"title\":{\"standoff\":15},\"zerolinecolor\":\"#283442\",\"automargin\":true,\"zerolinewidth\":2},\"scene\":{\"xaxis\":{\"backgroundcolor\":\"rgb(17,17,17)\",\"gridcolor\":\"#506784\",\"linecolor\":\"#506784\",\"showbackground\":true,\"ticks\":\"\",\"zerolinecolor\":\"#C8D4E3\",\"gridwidth\":2},\"yaxis\":{\"backgroundcolor\":\"rgb(17,17,17)\",\"gridcolor\":\"#506784\",\"linecolor\":\"#506784\",\"showbackground\":true,\"ticks\":\"\",\"zerolinecolor\":\"#C8D4E3\",\"gridwidth\":2},\"zaxis\":{\"backgroundcolor\":\"rgb(17,17,17)\",\"gridcolor\":\"#506784\",\"linecolor\":\"#506784\",\"showbackground\":true,\"ticks\":\"\",\"zerolinecolor\":\"#C8D4E3\",\"gridwidth\":2}},\"shapedefaults\":{\"line\":{\"color\":\"#f2f5fa\"}},\"annotationdefaults\":{\"arrowcolor\":\"#f2f5fa\",\"arrowhead\":0,\"arrowwidth\":1},\"geo\":{\"bgcolor\":\"rgb(17,17,17)\",\"landcolor\":\"rgb(17,17,17)\",\"subunitcolor\":\"#506784\",\"showland\":true,\"showlakes\":true,\"lakecolor\":\"rgb(17,17,17)\"},\"title\":{\"x\":0.05},\"updatemenudefaults\":{\"bgcolor\":\"#506784\",\"borderwidth\":0},\"sliderdefaults\":{\"bgcolor\":\"#C8D4E3\",\"borderwidth\":1,\"bordercolor\":\"rgb(17,17,17)\",\"tickwidth\":0},\"mapbox\":{\"style\":\"dark\"}}},\"title\":{\"font\":{\"size\":24},\"text\":\"Human Development Index Map with slider\",\"x\":0.5},\"font\":{\"family\":\"Arial\",\"size\":12},\"margin\":{\"t\":80,\"l\":50,\"r\":50,\"b\":50},\"height\":800,\"width\":1000},                        {\"responsive\": true}                    ).then(function(){\n                            \nvar gd = document.getElementById('0c1c61ab-a01a-49a4-abb2-6d1f4a6f821d');\nvar x = new MutationObserver(function (mutations, observer) {{\n        var display = window.getComputedStyle(gd).display;\n        if (!display || display === 'none') {{\n            console.log([gd, 'removed!']);\n            Plotly.purge(gd);\n            observer.disconnect();\n        }}\n}});\n\n// Listen for the removal of the full notebook cells\nvar notebookContainer = gd.closest('#notebook-container');\nif (notebookContainer) {{\n    x.observe(notebookContainer, {childList: true});\n}}\n\n// Listen for the clearing of the current output cell\nvar outputEl = gd.closest('.output');\nif (outputEl) {{\n    x.observe(outputEl, {childList: true});\n}}\n\n                        })                };                });            </script>        </div>"
     },
     "metadata": {},
     "output_type": "display_data"
    }
   ],
   "source": [
    "year = 2012\n",
    "column_name = \"Human Development Index\"\n",
    "\n",
    "fig = go.Figure()\n",
    "\n",
    "filtered_df = df_energy[df_energy['Year'] == year]\n",
    "\n",
    "\n",
    "trace = go.Choropleth(\n",
    "            locations=filtered_df['Country'],\n",
    "            z=filtered_df[column_name],\n",
    "            locationmode='country names',\n",
    "            colorscale='viridis',  # Use a different color scale for better contrast\n",
    "            colorbar=dict(title=column_name),\n",
    "            zmin=df_energy[column_name].min(),\n",
    "            zmax=df_energy[column_name].max(),\n",
    ")\n",
    "\n",
    "fig.add_trace(trace)\n",
    "\n",
    "fig.update_layout(\n",
    "    title_text=f'{column_name} Map with slider',  # Set the initial title\n",
    "    title_font_size=24,  # Increase title font size\n",
    "    title_x=0.5,  # Center the title\n",
    "    height=800,  # Set the height of the figure in pixels\n",
    "    width=1000,  # Set the width of the figure in pixels\n",
    "    font=dict(family='Arial', size=12),  # Customize font family and size for the whole figure\n",
    "    margin=dict(t=80, l=50, r=50, b=50),  # Add margin for better layout spacing\n",
    "    # Change the template to 'plotly_dark'\n",
    ")\n",
    "\n",
    "\n",
    "fig.show()"
   ],
   "metadata": {
    "collapsed": false,
    "ExecuteTime": {
     "end_time": "2023-10-25T17:35:58.710199400Z",
     "start_time": "2023-10-25T17:35:58.371853700Z"
    }
   },
   "id": "c2b2c9182b6c46c4"
  },
  {
   "cell_type": "code",
   "execution_count": 23,
   "outputs": [],
   "source": [
    "geodata = gpd.read_file(path_geodata)"
   ],
   "metadata": {
    "collapsed": false,
    "ExecuteTime": {
     "end_time": "2023-10-25T17:36:01.585061400Z",
     "start_time": "2023-10-25T17:35:58.434952300Z"
    }
   },
   "id": "b11ee2245c676533"
  },
  {
   "cell_type": "code",
   "execution_count": 24,
   "outputs": [
    {
     "data": {
      "text/plain": "'\\nfig = px.choropleth(df_energy, geojson=geodata, locations=\\'iso3\\',\\n                    locationmode=\"ISO-3\",\\n                    color=\\'Human Development Index\\',\\n                    color_continuous_scale=\"Viridis\",\\n                    # range_color=(0, 1),\\n                    animation_frame = \"Year\"\\n                    )\\nfig.update_layout(margin={\"r\":0,\"t\":0,\"l\":0,\"b\":0})\\nfig.show()\\n'"
     },
     "execution_count": 24,
     "metadata": {},
     "output_type": "execute_result"
    }
   ],
   "source": [
    "\"\"\"\n",
    "fig = px.choropleth(df_energy, geojson=geodata, locations='iso3',\n",
    "                    locationmode=\"ISO-3\",\n",
    "                    color='Human Development Index',\n",
    "                    color_continuous_scale=\"Viridis\",\n",
    "                    # range_color=(0, 1),\n",
    "                    animation_frame = \"Year\"\n",
    "                    )\n",
    "fig.update_layout(margin={\"r\":0,\"t\":0,\"l\":0,\"b\":0})\n",
    "fig.show()\n",
    "\"\"\""
   ],
   "metadata": {
    "collapsed": false,
    "ExecuteTime": {
     "end_time": "2023-10-25T17:36:01.615495300Z",
     "start_time": "2023-10-25T17:36:01.588091Z"
    }
   },
   "id": "3c4f2c9d02aeb084"
  },
  {
   "cell_type": "code",
   "execution_count": 26,
   "outputs": [
    {
     "data": {
      "text/plain": "'\\nfig = px.histogram(\\n    data_frame=df_energy,\\n    x=\"Year\",\\n    y=\"Electricity from fossil fuels (TWh)\",\\n    color=\"Continent\",\\n    template=THEME,\\n    barmode=\"group\",\\n\\n)\\n\\nfig.show()\\n'"
     },
     "execution_count": 26,
     "metadata": {},
     "output_type": "execute_result"
    }
   ],
   "source": [
    "\"\"\"\n",
    "fig = px.histogram(\n",
    "    data_frame=df_energy,\n",
    "    x=\"Year\",\n",
    "    y=\"Electricity from fossil fuels (TWh)\",\n",
    "    color=\"Continent\",\n",
    "    template=THEME,\n",
    "    barmode=\"group\",\n",
    "\n",
    ")\n",
    "\n",
    "fig.show()\n",
    "\"\"\""
   ],
   "metadata": {
    "collapsed": false,
    "ExecuteTime": {
     "end_time": "2023-10-25T17:37:02.885169400Z",
     "start_time": "2023-10-25T17:37:02.829277900Z"
    }
   },
   "id": "9476f2dcb4b89e70"
  },
  {
   "cell_type": "code",
   "execution_count": 27,
   "outputs": [
    {
     "ename": "ValueError",
     "evalue": "Value of 'y' is not the name of a column in 'data_frame'. Expected one of ['Country', 'Year', 'Access to Electricity (%)', 'Renewable Electricity Capacity per Capita', 'Electricity from Fossil Fuels (TWh)', 'Electricity from Nuclear (TWh)', 'Electricity from Renewables (TWh)', 'Low-Carbon Electricity (%)', 'Primary Energy Consumption per Capita (kWh/person)', 'CO2 Emissions (kt by country)', 'Renewables (% Equivalent Primary Energy)', 'GDP Growth', 'GDP per Capita', 'Continent', 'Region', 'iso3', 'Human Development Index'] but received: Electricity from fossil fuels (TWh)",
     "output_type": "error",
     "traceback": [
      "\u001B[1;31m---------------------------------------------------------------------------\u001B[0m",
      "\u001B[1;31mValueError\u001B[0m                                Traceback (most recent call last)",
      "Cell \u001B[1;32mIn[27], line 3\u001B[0m\n\u001B[0;32m      1\u001B[0m fig \u001B[38;5;241m=\u001B[39m make_subplots(rows\u001B[38;5;241m=\u001B[39m\u001B[38;5;241m3\u001B[39m, cols\u001B[38;5;241m=\u001B[39m\u001B[38;5;241m1\u001B[39m, subplot_titles\u001B[38;5;241m=\u001B[39m[\u001B[38;5;124m\"\u001B[39m\u001B[38;5;124mFossil fuels\u001B[39m\u001B[38;5;124m\"\u001B[39m,\u001B[38;5;124m\"\u001B[39m\u001B[38;5;124mNuclear\u001B[39m\u001B[38;5;124m\"\u001B[39m,\u001B[38;5;124m\"\u001B[39m\u001B[38;5;124mRenewable\u001B[39m\u001B[38;5;124m\"\u001B[39m], shared_xaxes\u001B[38;5;241m=\u001B[39m\u001B[38;5;28;01mTrue\u001B[39;00m, vertical_spacing\u001B[38;5;241m=\u001B[39m\u001B[38;5;241m0.1\u001B[39m)\n\u001B[1;32m----> 3\u001B[0m trace1 \u001B[38;5;241m=\u001B[39m \u001B[43mpx\u001B[49m\u001B[38;5;241;43m.\u001B[39;49m\u001B[43mhistogram\u001B[49m\u001B[43m(\u001B[49m\n\u001B[0;32m      4\u001B[0m \u001B[43m    \u001B[49m\u001B[43mdata_frame\u001B[49m\u001B[38;5;241;43m=\u001B[39;49m\u001B[43mdf_energy\u001B[49m\u001B[43m,\u001B[49m\n\u001B[0;32m      5\u001B[0m \u001B[43m    \u001B[49m\u001B[43mx\u001B[49m\u001B[38;5;241;43m=\u001B[39;49m\u001B[38;5;124;43m\"\u001B[39;49m\u001B[38;5;124;43mYear\u001B[39;49m\u001B[38;5;124;43m\"\u001B[39;49m\u001B[43m,\u001B[49m\n\u001B[0;32m      6\u001B[0m \u001B[43m    \u001B[49m\u001B[43my\u001B[49m\u001B[38;5;241;43m=\u001B[39;49m\u001B[38;5;124;43m\"\u001B[39;49m\u001B[38;5;124;43mElectricity from fossil fuels (TWh)\u001B[39;49m\u001B[38;5;124;43m\"\u001B[39;49m\u001B[43m,\u001B[49m\n\u001B[0;32m      7\u001B[0m \u001B[43m    \u001B[49m\u001B[38;5;66;43;03m# color=\"Continent\",\u001B[39;49;00m\n\u001B[0;32m      8\u001B[0m \u001B[43m    \u001B[49m\u001B[43mtemplate\u001B[49m\u001B[38;5;241;43m=\u001B[39;49m\u001B[43mTHEME\u001B[49m\u001B[43m,\u001B[49m\n\u001B[0;32m      9\u001B[0m \u001B[43m    \u001B[49m\u001B[43mcolor_discrete_sequence\u001B[49m\u001B[38;5;241;43m=\u001B[39;49m\u001B[43m[\u001B[49m\u001B[38;5;124;43m\"\u001B[39;49m\u001B[38;5;124;43mred\u001B[39;49m\u001B[38;5;124;43m\"\u001B[39;49m\u001B[43m]\u001B[49m\u001B[43m,\u001B[49m\n\u001B[0;32m     10\u001B[0m \u001B[43m    \u001B[49m\u001B[43mopacity\u001B[49m\u001B[38;5;241;43m=\u001B[39;49m\u001B[38;5;241;43m0.7\u001B[39;49m\u001B[43m,\u001B[49m\n\u001B[0;32m     11\u001B[0m \u001B[43m)\u001B[49m\n\u001B[0;32m     13\u001B[0m trace2 \u001B[38;5;241m=\u001B[39m px\u001B[38;5;241m.\u001B[39mhistogram(\n\u001B[0;32m     14\u001B[0m     data_frame\u001B[38;5;241m=\u001B[39mdf_energy,\n\u001B[0;32m     15\u001B[0m     x\u001B[38;5;241m=\u001B[39m\u001B[38;5;124m\"\u001B[39m\u001B[38;5;124mYear\u001B[39m\u001B[38;5;124m\"\u001B[39m,\n\u001B[1;32m   (...)\u001B[0m\n\u001B[0;32m     20\u001B[0m     template\u001B[38;5;241m=\u001B[39mTHEME,\n\u001B[0;32m     21\u001B[0m )\n\u001B[0;32m     23\u001B[0m trace3 \u001B[38;5;241m=\u001B[39m px\u001B[38;5;241m.\u001B[39mhistogram(\n\u001B[0;32m     24\u001B[0m     data_frame\u001B[38;5;241m=\u001B[39mdf_energy,\n\u001B[0;32m     25\u001B[0m     x\u001B[38;5;241m=\u001B[39m\u001B[38;5;124m\"\u001B[39m\u001B[38;5;124mYear\u001B[39m\u001B[38;5;124m\"\u001B[39m,\n\u001B[1;32m   (...)\u001B[0m\n\u001B[0;32m     31\u001B[0m     template\u001B[38;5;241m=\u001B[39mTHEME,\n\u001B[0;32m     32\u001B[0m )\n",
      "File \u001B[1;32m~\\AppData\\Local\\Programs\\Python\\Python311\\Lib\\site-packages\\plotly\\express\\_chart_types.py:480\u001B[0m, in \u001B[0;36mhistogram\u001B[1;34m(data_frame, x, y, color, pattern_shape, facet_row, facet_col, facet_col_wrap, facet_row_spacing, facet_col_spacing, hover_name, hover_data, animation_frame, animation_group, category_orders, labels, color_discrete_sequence, color_discrete_map, pattern_shape_sequence, pattern_shape_map, marginal, opacity, orientation, barmode, barnorm, histnorm, log_x, log_y, range_x, range_y, histfunc, cumulative, nbins, text_auto, title, template, width, height)\u001B[0m\n\u001B[0;32m    434\u001B[0m \u001B[38;5;28;01mdef\u001B[39;00m \u001B[38;5;21mhistogram\u001B[39m(\n\u001B[0;32m    435\u001B[0m     data_frame\u001B[38;5;241m=\u001B[39m\u001B[38;5;28;01mNone\u001B[39;00m,\n\u001B[0;32m    436\u001B[0m     x\u001B[38;5;241m=\u001B[39m\u001B[38;5;28;01mNone\u001B[39;00m,\n\u001B[1;32m   (...)\u001B[0m\n\u001B[0;32m    472\u001B[0m     height\u001B[38;5;241m=\u001B[39m\u001B[38;5;28;01mNone\u001B[39;00m,\n\u001B[0;32m    473\u001B[0m ) \u001B[38;5;241m-\u001B[39m\u001B[38;5;241m>\u001B[39m go\u001B[38;5;241m.\u001B[39mFigure:\n\u001B[0;32m    474\u001B[0m \u001B[38;5;250m    \u001B[39m\u001B[38;5;124;03m\"\"\"\u001B[39;00m\n\u001B[0;32m    475\u001B[0m \u001B[38;5;124;03m    In a histogram, rows of `data_frame` are grouped together into a\u001B[39;00m\n\u001B[0;32m    476\u001B[0m \u001B[38;5;124;03m    rectangular mark to visualize the 1D distribution of an aggregate\u001B[39;00m\n\u001B[0;32m    477\u001B[0m \u001B[38;5;124;03m    function `histfunc` (e.g. the count or sum) of the value `y` (or `x` if\u001B[39;00m\n\u001B[0;32m    478\u001B[0m \u001B[38;5;124;03m    `orientation` is `'h'`).\u001B[39;00m\n\u001B[0;32m    479\u001B[0m \u001B[38;5;124;03m    \"\"\"\u001B[39;00m\n\u001B[1;32m--> 480\u001B[0m     \u001B[38;5;28;01mreturn\u001B[39;00m \u001B[43mmake_figure\u001B[49m\u001B[43m(\u001B[49m\n\u001B[0;32m    481\u001B[0m \u001B[43m        \u001B[49m\u001B[43margs\u001B[49m\u001B[38;5;241;43m=\u001B[39;49m\u001B[38;5;28;43mlocals\u001B[39;49m\u001B[43m(\u001B[49m\u001B[43m)\u001B[49m\u001B[43m,\u001B[49m\n\u001B[0;32m    482\u001B[0m \u001B[43m        \u001B[49m\u001B[43mconstructor\u001B[49m\u001B[38;5;241;43m=\u001B[39;49m\u001B[43mgo\u001B[49m\u001B[38;5;241;43m.\u001B[39;49m\u001B[43mHistogram\u001B[49m\u001B[43m,\u001B[49m\n\u001B[0;32m    483\u001B[0m \u001B[43m        \u001B[49m\u001B[43mtrace_patch\u001B[49m\u001B[38;5;241;43m=\u001B[39;49m\u001B[38;5;28;43mdict\u001B[39;49m\u001B[43m(\u001B[49m\n\u001B[0;32m    484\u001B[0m \u001B[43m            \u001B[49m\u001B[43mhistnorm\u001B[49m\u001B[38;5;241;43m=\u001B[39;49m\u001B[43mhistnorm\u001B[49m\u001B[43m,\u001B[49m\n\u001B[0;32m    485\u001B[0m \u001B[43m            \u001B[49m\u001B[43mhistfunc\u001B[49m\u001B[38;5;241;43m=\u001B[39;49m\u001B[43mhistfunc\u001B[49m\u001B[43m,\u001B[49m\n\u001B[0;32m    486\u001B[0m \u001B[43m            \u001B[49m\u001B[43mcumulative\u001B[49m\u001B[38;5;241;43m=\u001B[39;49m\u001B[38;5;28;43mdict\u001B[39;49m\u001B[43m(\u001B[49m\u001B[43menabled\u001B[49m\u001B[38;5;241;43m=\u001B[39;49m\u001B[43mcumulative\u001B[49m\u001B[43m)\u001B[49m\u001B[43m,\u001B[49m\n\u001B[0;32m    487\u001B[0m \u001B[43m        \u001B[49m\u001B[43m)\u001B[49m\u001B[43m,\u001B[49m\n\u001B[0;32m    488\u001B[0m \u001B[43m        \u001B[49m\u001B[43mlayout_patch\u001B[49m\u001B[38;5;241;43m=\u001B[39;49m\u001B[38;5;28;43mdict\u001B[39;49m\u001B[43m(\u001B[49m\u001B[43mbarmode\u001B[49m\u001B[38;5;241;43m=\u001B[39;49m\u001B[43mbarmode\u001B[49m\u001B[43m,\u001B[49m\u001B[43m \u001B[49m\u001B[43mbarnorm\u001B[49m\u001B[38;5;241;43m=\u001B[39;49m\u001B[43mbarnorm\u001B[49m\u001B[43m)\u001B[49m\u001B[43m,\u001B[49m\n\u001B[0;32m    489\u001B[0m \u001B[43m    \u001B[49m\u001B[43m)\u001B[49m\n",
      "File \u001B[1;32m~\\AppData\\Local\\Programs\\Python\\Python311\\Lib\\site-packages\\plotly\\express\\_core.py:1991\u001B[0m, in \u001B[0;36mmake_figure\u001B[1;34m(args, constructor, trace_patch, layout_patch)\u001B[0m\n\u001B[0;32m   1988\u001B[0m layout_patch \u001B[38;5;241m=\u001B[39m layout_patch \u001B[38;5;129;01mor\u001B[39;00m {}\n\u001B[0;32m   1989\u001B[0m apply_default_cascade(args)\n\u001B[1;32m-> 1991\u001B[0m args \u001B[38;5;241m=\u001B[39m \u001B[43mbuild_dataframe\u001B[49m\u001B[43m(\u001B[49m\u001B[43margs\u001B[49m\u001B[43m,\u001B[49m\u001B[43m \u001B[49m\u001B[43mconstructor\u001B[49m\u001B[43m)\u001B[49m\n\u001B[0;32m   1992\u001B[0m \u001B[38;5;28;01mif\u001B[39;00m constructor \u001B[38;5;129;01min\u001B[39;00m [go\u001B[38;5;241m.\u001B[39mTreemap, go\u001B[38;5;241m.\u001B[39mSunburst, go\u001B[38;5;241m.\u001B[39mIcicle] \u001B[38;5;129;01mand\u001B[39;00m args[\u001B[38;5;124m\"\u001B[39m\u001B[38;5;124mpath\u001B[39m\u001B[38;5;124m\"\u001B[39m] \u001B[38;5;129;01mis\u001B[39;00m \u001B[38;5;129;01mnot\u001B[39;00m \u001B[38;5;28;01mNone\u001B[39;00m:\n\u001B[0;32m   1993\u001B[0m     args \u001B[38;5;241m=\u001B[39m process_dataframe_hierarchy(args)\n",
      "File \u001B[1;32m~\\AppData\\Local\\Programs\\Python\\Python311\\Lib\\site-packages\\plotly\\express\\_core.py:1406\u001B[0m, in \u001B[0;36mbuild_dataframe\u001B[1;34m(args, constructor)\u001B[0m\n\u001B[0;32m   1403\u001B[0m     args[\u001B[38;5;124m\"\u001B[39m\u001B[38;5;124mcolor\u001B[39m\u001B[38;5;124m\"\u001B[39m] \u001B[38;5;241m=\u001B[39m \u001B[38;5;28;01mNone\u001B[39;00m\n\u001B[0;32m   1404\u001B[0m \u001B[38;5;66;03m# now that things have been prepped, we do the systematic rewriting of `args`\u001B[39;00m\n\u001B[1;32m-> 1406\u001B[0m df_output, wide_id_vars \u001B[38;5;241m=\u001B[39m \u001B[43mprocess_args_into_dataframe\u001B[49m\u001B[43m(\u001B[49m\n\u001B[0;32m   1407\u001B[0m \u001B[43m    \u001B[49m\u001B[43margs\u001B[49m\u001B[43m,\u001B[49m\u001B[43m \u001B[49m\u001B[43mwide_mode\u001B[49m\u001B[43m,\u001B[49m\u001B[43m \u001B[49m\u001B[43mvar_name\u001B[49m\u001B[43m,\u001B[49m\u001B[43m \u001B[49m\u001B[43mvalue_name\u001B[49m\n\u001B[0;32m   1408\u001B[0m \u001B[43m\u001B[49m\u001B[43m)\u001B[49m\n\u001B[0;32m   1410\u001B[0m \u001B[38;5;66;03m# now that `df_output` exists and `args` contains only references, we complete\u001B[39;00m\n\u001B[0;32m   1411\u001B[0m \u001B[38;5;66;03m# the special-case and wide-mode handling by further rewriting args and/or mutating\u001B[39;00m\n\u001B[0;32m   1412\u001B[0m \u001B[38;5;66;03m# df_output\u001B[39;00m\n\u001B[0;32m   1414\u001B[0m count_name \u001B[38;5;241m=\u001B[39m _escape_col_name(df_output, \u001B[38;5;124m\"\u001B[39m\u001B[38;5;124mcount\u001B[39m\u001B[38;5;124m\"\u001B[39m, [var_name, value_name])\n",
      "File \u001B[1;32m~\\AppData\\Local\\Programs\\Python\\Python311\\Lib\\site-packages\\plotly\\express\\_core.py:1208\u001B[0m, in \u001B[0;36mprocess_args_into_dataframe\u001B[1;34m(args, wide_mode, var_name, value_name)\u001B[0m\n\u001B[0;32m   1206\u001B[0m         \u001B[38;5;28;01mif\u001B[39;00m argument \u001B[38;5;241m==\u001B[39m \u001B[38;5;124m\"\u001B[39m\u001B[38;5;124mindex\u001B[39m\u001B[38;5;124m\"\u001B[39m:\n\u001B[0;32m   1207\u001B[0m             err_msg \u001B[38;5;241m+\u001B[39m\u001B[38;5;241m=\u001B[39m \u001B[38;5;124m\"\u001B[39m\u001B[38;5;130;01m\\n\u001B[39;00m\u001B[38;5;124m To use the index, pass it in directly as `df.index`.\u001B[39m\u001B[38;5;124m\"\u001B[39m\n\u001B[1;32m-> 1208\u001B[0m         \u001B[38;5;28;01mraise\u001B[39;00m \u001B[38;5;167;01mValueError\u001B[39;00m(err_msg)\n\u001B[0;32m   1209\u001B[0m \u001B[38;5;28;01melif\u001B[39;00m length \u001B[38;5;129;01mand\u001B[39;00m \u001B[38;5;28mlen\u001B[39m(df_input[argument]) \u001B[38;5;241m!=\u001B[39m length:\n\u001B[0;32m   1210\u001B[0m     \u001B[38;5;28;01mraise\u001B[39;00m \u001B[38;5;167;01mValueError\u001B[39;00m(\n\u001B[0;32m   1211\u001B[0m         \u001B[38;5;124m\"\u001B[39m\u001B[38;5;124mAll arguments should have the same length. \u001B[39m\u001B[38;5;124m\"\u001B[39m\n\u001B[0;32m   1212\u001B[0m         \u001B[38;5;124m\"\u001B[39m\u001B[38;5;124mThe length of column argument `df[\u001B[39m\u001B[38;5;132;01m%s\u001B[39;00m\u001B[38;5;124m]` is \u001B[39m\u001B[38;5;132;01m%d\u001B[39;00m\u001B[38;5;124m, whereas the \u001B[39m\u001B[38;5;124m\"\u001B[39m\n\u001B[1;32m   (...)\u001B[0m\n\u001B[0;32m   1219\u001B[0m         )\n\u001B[0;32m   1220\u001B[0m     )\n",
      "\u001B[1;31mValueError\u001B[0m: Value of 'y' is not the name of a column in 'data_frame'. Expected one of ['Country', 'Year', 'Access to Electricity (%)', 'Renewable Electricity Capacity per Capita', 'Electricity from Fossil Fuels (TWh)', 'Electricity from Nuclear (TWh)', 'Electricity from Renewables (TWh)', 'Low-Carbon Electricity (%)', 'Primary Energy Consumption per Capita (kWh/person)', 'CO2 Emissions (kt by country)', 'Renewables (% Equivalent Primary Energy)', 'GDP Growth', 'GDP per Capita', 'Continent', 'Region', 'iso3', 'Human Development Index'] but received: Electricity from fossil fuels (TWh)"
     ]
    }
   ],
   "source": [
    "fig = make_subplots(rows=3, cols=1, subplot_titles=[\"Fossil fuels\",\"Nuclear\",\"Renewable\"], shared_xaxes=True, vertical_spacing=0.1)\n",
    "\n",
    "trace1 = px.histogram(\n",
    "    data_frame=df_energy,\n",
    "    x=\"Year\",\n",
    "    y=\"Electricity from fossil fuels (TWh)\",\n",
    "    # color=\"Continent\",\n",
    "    template=THEME,\n",
    "    color_discrete_sequence=[\"red\"],\n",
    "    opacity=0.7,\n",
    ")\n",
    "\n",
    "trace2 = px.histogram(\n",
    "    data_frame=df_energy,\n",
    "    x=\"Year\",\n",
    "    y=\"Electricity from nuclear (TWh)\",\n",
    "    # color=\"Continent\",\n",
    "    color_discrete_sequence=[\"orange\"],\n",
    "    opacity=0.7,\n",
    "    template=THEME,\n",
    ")\n",
    "\n",
    "trace3 = px.histogram(\n",
    "    data_frame=df_energy,\n",
    "    x=\"Year\",\n",
    "    y=\"Electricity from renewables (TWh)\",\n",
    "    # color=\"Continent\",\n",
    "    color_discrete_sequence=[\"green\"],\n",
    "    opacity=0.7,\n",
    "\n",
    "    template=THEME,\n",
    ")\n",
    "fig.add_trace(trace1.data[0], row=1, col=1)\n",
    "fig.add_trace(trace2.data[0], row=2, col=1)\n",
    "fig.add_trace(trace3.data[0], row=3, col=1)\n",
    "# fig.add_traces([trace1[\"data\"],trace2,trace3])\n",
    "\n",
    "for trace in trace1.data:\n",
    "    fig.add_trace(trace, row=1, col=1)\n",
    "\n",
    "for trace in trace2.data:\n",
    "    fig.add_trace(trace, row=2, col=1)\n",
    "\n",
    "for trace in trace3.data:\n",
    "    fig.add_trace(trace, row=3, col=1)\n",
    "\n",
    "\n",
    "fig.update_yaxes(range=[0, 15000], row=1, col=1)\n",
    "fig.update_yaxes(range=[0, 15000], row=2, col=1)\n",
    "fig.update_yaxes(range=[0, 15000], row=3, col=1)\n",
    "fig.update_layout(height = 800)\n",
    "\n",
    "fig.show()"
   ],
   "metadata": {
    "collapsed": false,
    "ExecuteTime": {
     "end_time": "2023-10-25T17:37:05.952781900Z",
     "start_time": "2023-10-25T17:37:05.797825300Z"
    }
   },
   "id": "4e86aeff358d2c62"
  },
  {
   "cell_type": "code",
   "execution_count": null,
   "outputs": [],
   "source": [],
   "metadata": {
    "collapsed": false
   },
   "id": "ed508554c82627fe"
  }
 ],
 "metadata": {
  "kernelspec": {
   "display_name": "Python 3",
   "language": "python",
   "name": "python3"
  },
  "language_info": {
   "codemirror_mode": {
    "name": "ipython",
    "version": 3
   },
   "file_extension": ".py",
   "mimetype": "text/x-python",
   "name": "python",
   "nbconvert_exporter": "python",
   "pygments_lexer": "ipython3",
   "version": "3.11.2"
  }
 },
 "nbformat": 4,
 "nbformat_minor": 5
}
