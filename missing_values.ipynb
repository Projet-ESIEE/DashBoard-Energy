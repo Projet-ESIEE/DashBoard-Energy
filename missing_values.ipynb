{
 "cells": [
  {
   "cell_type": "code",
   "execution_count": 10,
   "id": "initial_id",
   "metadata": {
    "collapsed": true,
    "ExecuteTime": {
     "end_time": "2023-10-30T11:42:50.528720600Z",
     "start_time": "2023-10-30T11:42:50.433903200Z"
    }
   },
   "outputs": [],
   "source": [
    "import pandas as pd\n",
    "import os\n",
    "import numpy as np\n",
    "import plotly.express as px\n",
    "import plotly.graph_objects as go\n",
    "from plotly.subplots import make_subplots"
   ]
  },
  {
   "cell_type": "code",
   "execution_count": 11,
   "outputs": [],
   "source": [
    "path_energy = os.path.join(\"dataset\", \"energy-cleaned-dataset.csv\")\n",
    "df_energy = pd.read_csv(path_energy)"
   ],
   "metadata": {
    "collapsed": false,
    "ExecuteTime": {
     "end_time": "2023-10-30T11:42:50.531672500Z",
     "start_time": "2023-10-30T11:42:50.433903200Z"
    }
   },
   "id": "83cf8915285fc569"
  },
  {
   "cell_type": "code",
   "execution_count": 12,
   "outputs": [],
   "source": [
    "THEME = \"plotly_dark\"\n",
    "type = \"Country\"\n",
    "name = \"Afghanistan\"\n",
    "global na_info"
   ],
   "metadata": {
    "collapsed": false,
    "ExecuteTime": {
     "end_time": "2023-10-30T11:42:50.531672500Z",
     "start_time": "2023-10-30T11:42:50.465345Z"
    }
   },
   "id": "7ee7661c46988913"
  },
  {
   "cell_type": "code",
   "execution_count": 13,
   "outputs": [],
   "source": [
    "def df_energy_query(area_type: str = type, area_name: str = name) -> pd.DataFrame : \n",
    "\t\"\"\"\n",
    "\tThe function df_energy_query return a filtered dataframe of df_energy.\n",
    "\tIt useful because the computation is done only one time.\n",
    "\t:param area_type: \n",
    "\t:param area_name: \n",
    "\t:return: \n",
    "\t\"\"\"\n",
    "\treturn df_energy.query(f\"{area_type} == '{area_name}'\")"
   ],
   "metadata": {
    "collapsed": false,
    "ExecuteTime": {
     "end_time": "2023-10-30T11:42:50.531672500Z",
     "start_time": "2023-10-30T11:42:50.465345Z"
    }
   },
   "id": "15128aaad37b91c1"
  },
  {
   "cell_type": "code",
   "execution_count": 14,
   "outputs": [],
   "source": [
    "def get_na_info(df_filtered : pd.DataFrame = df_energy_query(), area_type = type, area_name = name) : \n",
    "    # compute the values for the indicator\n",
    "    NB_OF_NAN = df_filtered.isna().sum().sum()\n",
    "    NB_OF_NAN_GLOBAL = df_energy.isna().sum().sum()\n",
    "    NB_MEAN_NAN = (NB_OF_NAN_GLOBAL / len(df_energy[area_type].unique()))\n",
    "    # compare the nb of nan for the given area_name to the mean of nan of other area_type\n",
    "    \n",
    "    return NB_OF_NAN, NB_OF_NAN_GLOBAL, NB_MEAN_NAN\n",
    "\n",
    "na_info = get_na_info()"
   ],
   "metadata": {
    "collapsed": false,
    "ExecuteTime": {
     "end_time": "2023-10-30T11:42:50.531672500Z",
     "start_time": "2023-10-30T11:42:50.473888800Z"
    }
   },
   "id": "40e55e75f98357c1"
  },
  {
   "cell_type": "code",
   "execution_count": 15,
   "outputs": [
    {
     "data": {
      "application/vnd.plotly.v1+json": {
       "data": [
        {
         "colorbar": {
          "title": {
           "side": "top",
           "text": "nombre"
          }
         },
         "colorscale": [
          [
           0.0,
           "#440154"
          ],
          [
           0.1111111111111111,
           "#482878"
          ],
          [
           0.2222222222222222,
           "#3e4989"
          ],
          [
           0.3333333333333333,
           "#31688e"
          ],
          [
           0.4444444444444444,
           "#26828e"
          ],
          [
           0.5555555555555556,
           "#1f9e89"
          ],
          [
           0.6666666666666666,
           "#35b779"
          ],
          [
           0.7777777777777778,
           "#6ece58"
          ],
          [
           0.8888888888888888,
           "#b5de2b"
          ],
          [
           1.0,
           "#fde725"
          ]
         ],
         "x": [
          2000,
          2001,
          2002,
          2003,
          2004,
          2005,
          2006,
          2007,
          2008,
          2009,
          2010,
          2011,
          2012,
          2013,
          2014,
          2015,
          2016,
          2017,
          2018,
          2019,
          2020
         ],
         "y": [
          "Access to Electricity (%)",
          "Renewable Electricity Capacity per Capita",
          "Electricity from Fossil Fuels (TWh)",
          "Electricity from Nuclear (TWh)",
          "Electricity from Renewables (TWh)",
          "Low-Carbon Electricity (%)",
          "Primary Energy Consumption per Capita (kWh/person)",
          "CO2 Emissions (kt by country)",
          "Renewables (% Equivalent Primary Energy)",
          "GDP Growth",
          "GDP per Capita",
          "Human Development Index"
         ],
         "z": [
          [
           0,
           0,
           0,
           0,
           0,
           0,
           0,
           0,
           0,
           0,
           0,
           0,
           0,
           0,
           0,
           0,
           0,
           0,
           0,
           0,
           0
          ],
          [
           0,
           0,
           0,
           0,
           0,
           0,
           0,
           0,
           0,
           0,
           0,
           0,
           0,
           0,
           0,
           0,
           0,
           0,
           0,
           0,
           0
          ],
          [
           0,
           0,
           0,
           0,
           0,
           0,
           0,
           0,
           0,
           0,
           0,
           0,
           0,
           0,
           0,
           0,
           0,
           0,
           0,
           0,
           0
          ],
          [
           0,
           0,
           0,
           0,
           0,
           0,
           0,
           0,
           0,
           0,
           0,
           0,
           0,
           0,
           0,
           0,
           0,
           0,
           0,
           0,
           0
          ],
          [
           0,
           0,
           0,
           0,
           0,
           0,
           0,
           0,
           0,
           0,
           0,
           0,
           0,
           0,
           0,
           0,
           0,
           0,
           0,
           0,
           0
          ],
          [
           0,
           0,
           0,
           0,
           0,
           0,
           0,
           0,
           0,
           0,
           0,
           0,
           0,
           0,
           0,
           0,
           0,
           0,
           0,
           0,
           0
          ],
          [
           0,
           0,
           0,
           0,
           0,
           0,
           0,
           0,
           0,
           0,
           0,
           0,
           0,
           0,
           0,
           0,
           0,
           0,
           0,
           0,
           0
          ],
          [
           0,
           0,
           0,
           0,
           0,
           0,
           0,
           0,
           0,
           0,
           0,
           0,
           0,
           0,
           0,
           0,
           0,
           0,
           0,
           0,
           1
          ],
          [
           1,
           1,
           1,
           1,
           1,
           1,
           1,
           1,
           1,
           1,
           1,
           1,
           1,
           1,
           1,
           1,
           1,
           1,
           1,
           1,
           1
          ],
          [
           1,
           1,
           1,
           0,
           0,
           0,
           0,
           0,
           0,
           0,
           0,
           0,
           0,
           0,
           0,
           0,
           0,
           0,
           0,
           0,
           0
          ],
          [
           1,
           1,
           0,
           0,
           0,
           0,
           0,
           0,
           0,
           0,
           0,
           0,
           0,
           0,
           0,
           0,
           0,
           0,
           0,
           0,
           0
          ],
          [
           0,
           0,
           0,
           0,
           0,
           0,
           0,
           0,
           0,
           0,
           0,
           0,
           0,
           0,
           0,
           0,
           0,
           0,
           0,
           0,
           0
          ]
         ],
         "type": "heatmap"
        }
       ],
       "layout": {
        "template": {
         "data": {
          "histogram2dcontour": [
           {
            "type": "histogram2dcontour",
            "colorbar": {
             "outlinewidth": 0,
             "ticks": ""
            },
            "colorscale": [
             [
              0.0,
              "#0d0887"
             ],
             [
              0.1111111111111111,
              "#46039f"
             ],
             [
              0.2222222222222222,
              "#7201a8"
             ],
             [
              0.3333333333333333,
              "#9c179e"
             ],
             [
              0.4444444444444444,
              "#bd3786"
             ],
             [
              0.5555555555555556,
              "#d8576b"
             ],
             [
              0.6666666666666666,
              "#ed7953"
             ],
             [
              0.7777777777777778,
              "#fb9f3a"
             ],
             [
              0.8888888888888888,
              "#fdca26"
             ],
             [
              1.0,
              "#f0f921"
             ]
            ]
           }
          ],
          "choropleth": [
           {
            "type": "choropleth",
            "colorbar": {
             "outlinewidth": 0,
             "ticks": ""
            }
           }
          ],
          "histogram2d": [
           {
            "type": "histogram2d",
            "colorbar": {
             "outlinewidth": 0,
             "ticks": ""
            },
            "colorscale": [
             [
              0.0,
              "#0d0887"
             ],
             [
              0.1111111111111111,
              "#46039f"
             ],
             [
              0.2222222222222222,
              "#7201a8"
             ],
             [
              0.3333333333333333,
              "#9c179e"
             ],
             [
              0.4444444444444444,
              "#bd3786"
             ],
             [
              0.5555555555555556,
              "#d8576b"
             ],
             [
              0.6666666666666666,
              "#ed7953"
             ],
             [
              0.7777777777777778,
              "#fb9f3a"
             ],
             [
              0.8888888888888888,
              "#fdca26"
             ],
             [
              1.0,
              "#f0f921"
             ]
            ]
           }
          ],
          "heatmap": [
           {
            "type": "heatmap",
            "colorbar": {
             "outlinewidth": 0,
             "ticks": ""
            },
            "colorscale": [
             [
              0.0,
              "#0d0887"
             ],
             [
              0.1111111111111111,
              "#46039f"
             ],
             [
              0.2222222222222222,
              "#7201a8"
             ],
             [
              0.3333333333333333,
              "#9c179e"
             ],
             [
              0.4444444444444444,
              "#bd3786"
             ],
             [
              0.5555555555555556,
              "#d8576b"
             ],
             [
              0.6666666666666666,
              "#ed7953"
             ],
             [
              0.7777777777777778,
              "#fb9f3a"
             ],
             [
              0.8888888888888888,
              "#fdca26"
             ],
             [
              1.0,
              "#f0f921"
             ]
            ]
           }
          ],
          "heatmapgl": [
           {
            "type": "heatmapgl",
            "colorbar": {
             "outlinewidth": 0,
             "ticks": ""
            },
            "colorscale": [
             [
              0.0,
              "#0d0887"
             ],
             [
              0.1111111111111111,
              "#46039f"
             ],
             [
              0.2222222222222222,
              "#7201a8"
             ],
             [
              0.3333333333333333,
              "#9c179e"
             ],
             [
              0.4444444444444444,
              "#bd3786"
             ],
             [
              0.5555555555555556,
              "#d8576b"
             ],
             [
              0.6666666666666666,
              "#ed7953"
             ],
             [
              0.7777777777777778,
              "#fb9f3a"
             ],
             [
              0.8888888888888888,
              "#fdca26"
             ],
             [
              1.0,
              "#f0f921"
             ]
            ]
           }
          ],
          "contourcarpet": [
           {
            "type": "contourcarpet",
            "colorbar": {
             "outlinewidth": 0,
             "ticks": ""
            }
           }
          ],
          "contour": [
           {
            "type": "contour",
            "colorbar": {
             "outlinewidth": 0,
             "ticks": ""
            },
            "colorscale": [
             [
              0.0,
              "#0d0887"
             ],
             [
              0.1111111111111111,
              "#46039f"
             ],
             [
              0.2222222222222222,
              "#7201a8"
             ],
             [
              0.3333333333333333,
              "#9c179e"
             ],
             [
              0.4444444444444444,
              "#bd3786"
             ],
             [
              0.5555555555555556,
              "#d8576b"
             ],
             [
              0.6666666666666666,
              "#ed7953"
             ],
             [
              0.7777777777777778,
              "#fb9f3a"
             ],
             [
              0.8888888888888888,
              "#fdca26"
             ],
             [
              1.0,
              "#f0f921"
             ]
            ]
           }
          ],
          "surface": [
           {
            "type": "surface",
            "colorbar": {
             "outlinewidth": 0,
             "ticks": ""
            },
            "colorscale": [
             [
              0.0,
              "#0d0887"
             ],
             [
              0.1111111111111111,
              "#46039f"
             ],
             [
              0.2222222222222222,
              "#7201a8"
             ],
             [
              0.3333333333333333,
              "#9c179e"
             ],
             [
              0.4444444444444444,
              "#bd3786"
             ],
             [
              0.5555555555555556,
              "#d8576b"
             ],
             [
              0.6666666666666666,
              "#ed7953"
             ],
             [
              0.7777777777777778,
              "#fb9f3a"
             ],
             [
              0.8888888888888888,
              "#fdca26"
             ],
             [
              1.0,
              "#f0f921"
             ]
            ]
           }
          ],
          "mesh3d": [
           {
            "type": "mesh3d",
            "colorbar": {
             "outlinewidth": 0,
             "ticks": ""
            }
           }
          ],
          "scatter": [
           {
            "marker": {
             "line": {
              "color": "#283442"
             }
            },
            "type": "scatter"
           }
          ],
          "parcoords": [
           {
            "type": "parcoords",
            "line": {
             "colorbar": {
              "outlinewidth": 0,
              "ticks": ""
             }
            }
           }
          ],
          "scatterpolargl": [
           {
            "type": "scatterpolargl",
            "marker": {
             "colorbar": {
              "outlinewidth": 0,
              "ticks": ""
             }
            }
           }
          ],
          "bar": [
           {
            "error_x": {
             "color": "#f2f5fa"
            },
            "error_y": {
             "color": "#f2f5fa"
            },
            "marker": {
             "line": {
              "color": "rgb(17,17,17)",
              "width": 0.5
             },
             "pattern": {
              "fillmode": "overlay",
              "size": 10,
              "solidity": 0.2
             }
            },
            "type": "bar"
           }
          ],
          "scattergeo": [
           {
            "type": "scattergeo",
            "marker": {
             "colorbar": {
              "outlinewidth": 0,
              "ticks": ""
             }
            }
           }
          ],
          "scatterpolar": [
           {
            "type": "scatterpolar",
            "marker": {
             "colorbar": {
              "outlinewidth": 0,
              "ticks": ""
             }
            }
           }
          ],
          "histogram": [
           {
            "marker": {
             "pattern": {
              "fillmode": "overlay",
              "size": 10,
              "solidity": 0.2
             }
            },
            "type": "histogram"
           }
          ],
          "scattergl": [
           {
            "marker": {
             "line": {
              "color": "#283442"
             }
            },
            "type": "scattergl"
           }
          ],
          "scatter3d": [
           {
            "type": "scatter3d",
            "line": {
             "colorbar": {
              "outlinewidth": 0,
              "ticks": ""
             }
            },
            "marker": {
             "colorbar": {
              "outlinewidth": 0,
              "ticks": ""
             }
            }
           }
          ],
          "scattermapbox": [
           {
            "type": "scattermapbox",
            "marker": {
             "colorbar": {
              "outlinewidth": 0,
              "ticks": ""
             }
            }
           }
          ],
          "scatterternary": [
           {
            "type": "scatterternary",
            "marker": {
             "colorbar": {
              "outlinewidth": 0,
              "ticks": ""
             }
            }
           }
          ],
          "scattercarpet": [
           {
            "type": "scattercarpet",
            "marker": {
             "colorbar": {
              "outlinewidth": 0,
              "ticks": ""
             }
            }
           }
          ],
          "carpet": [
           {
            "aaxis": {
             "endlinecolor": "#A2B1C6",
             "gridcolor": "#506784",
             "linecolor": "#506784",
             "minorgridcolor": "#506784",
             "startlinecolor": "#A2B1C6"
            },
            "baxis": {
             "endlinecolor": "#A2B1C6",
             "gridcolor": "#506784",
             "linecolor": "#506784",
             "minorgridcolor": "#506784",
             "startlinecolor": "#A2B1C6"
            },
            "type": "carpet"
           }
          ],
          "table": [
           {
            "cells": {
             "fill": {
              "color": "#506784"
             },
             "line": {
              "color": "rgb(17,17,17)"
             }
            },
            "header": {
             "fill": {
              "color": "#2a3f5f"
             },
             "line": {
              "color": "rgb(17,17,17)"
             }
            },
            "type": "table"
           }
          ],
          "barpolar": [
           {
            "marker": {
             "line": {
              "color": "rgb(17,17,17)",
              "width": 0.5
             },
             "pattern": {
              "fillmode": "overlay",
              "size": 10,
              "solidity": 0.2
             }
            },
            "type": "barpolar"
           }
          ],
          "pie": [
           {
            "automargin": true,
            "type": "pie"
           }
          ]
         },
         "layout": {
          "autotypenumbers": "strict",
          "colorway": [
           "#636efa",
           "#EF553B",
           "#00cc96",
           "#ab63fa",
           "#FFA15A",
           "#19d3f3",
           "#FF6692",
           "#B6E880",
           "#FF97FF",
           "#FECB52"
          ],
          "font": {
           "color": "#f2f5fa"
          },
          "hovermode": "closest",
          "hoverlabel": {
           "align": "left"
          },
          "paper_bgcolor": "rgb(17,17,17)",
          "plot_bgcolor": "rgb(17,17,17)",
          "polar": {
           "bgcolor": "rgb(17,17,17)",
           "angularaxis": {
            "gridcolor": "#506784",
            "linecolor": "#506784",
            "ticks": ""
           },
           "radialaxis": {
            "gridcolor": "#506784",
            "linecolor": "#506784",
            "ticks": ""
           }
          },
          "ternary": {
           "bgcolor": "rgb(17,17,17)",
           "aaxis": {
            "gridcolor": "#506784",
            "linecolor": "#506784",
            "ticks": ""
           },
           "baxis": {
            "gridcolor": "#506784",
            "linecolor": "#506784",
            "ticks": ""
           },
           "caxis": {
            "gridcolor": "#506784",
            "linecolor": "#506784",
            "ticks": ""
           }
          },
          "coloraxis": {
           "colorbar": {
            "outlinewidth": 0,
            "ticks": ""
           }
          },
          "colorscale": {
           "sequential": [
            [
             0.0,
             "#0d0887"
            ],
            [
             0.1111111111111111,
             "#46039f"
            ],
            [
             0.2222222222222222,
             "#7201a8"
            ],
            [
             0.3333333333333333,
             "#9c179e"
            ],
            [
             0.4444444444444444,
             "#bd3786"
            ],
            [
             0.5555555555555556,
             "#d8576b"
            ],
            [
             0.6666666666666666,
             "#ed7953"
            ],
            [
             0.7777777777777778,
             "#fb9f3a"
            ],
            [
             0.8888888888888888,
             "#fdca26"
            ],
            [
             1.0,
             "#f0f921"
            ]
           ],
           "sequentialminus": [
            [
             0.0,
             "#0d0887"
            ],
            [
             0.1111111111111111,
             "#46039f"
            ],
            [
             0.2222222222222222,
             "#7201a8"
            ],
            [
             0.3333333333333333,
             "#9c179e"
            ],
            [
             0.4444444444444444,
             "#bd3786"
            ],
            [
             0.5555555555555556,
             "#d8576b"
            ],
            [
             0.6666666666666666,
             "#ed7953"
            ],
            [
             0.7777777777777778,
             "#fb9f3a"
            ],
            [
             0.8888888888888888,
             "#fdca26"
            ],
            [
             1.0,
             "#f0f921"
            ]
           ],
           "diverging": [
            [
             0,
             "#8e0152"
            ],
            [
             0.1,
             "#c51b7d"
            ],
            [
             0.2,
             "#de77ae"
            ],
            [
             0.3,
             "#f1b6da"
            ],
            [
             0.4,
             "#fde0ef"
            ],
            [
             0.5,
             "#f7f7f7"
            ],
            [
             0.6,
             "#e6f5d0"
            ],
            [
             0.7,
             "#b8e186"
            ],
            [
             0.8,
             "#7fbc41"
            ],
            [
             0.9,
             "#4d9221"
            ],
            [
             1,
             "#276419"
            ]
           ]
          },
          "xaxis": {
           "gridcolor": "#283442",
           "linecolor": "#506784",
           "ticks": "",
           "title": {
            "standoff": 15
           },
           "zerolinecolor": "#283442",
           "automargin": true,
           "zerolinewidth": 2
          },
          "yaxis": {
           "gridcolor": "#283442",
           "linecolor": "#506784",
           "ticks": "",
           "title": {
            "standoff": 15
           },
           "zerolinecolor": "#283442",
           "automargin": true,
           "zerolinewidth": 2
          },
          "scene": {
           "xaxis": {
            "backgroundcolor": "rgb(17,17,17)",
            "gridcolor": "#506784",
            "linecolor": "#506784",
            "showbackground": true,
            "ticks": "",
            "zerolinecolor": "#C8D4E3",
            "gridwidth": 2
           },
           "yaxis": {
            "backgroundcolor": "rgb(17,17,17)",
            "gridcolor": "#506784",
            "linecolor": "#506784",
            "showbackground": true,
            "ticks": "",
            "zerolinecolor": "#C8D4E3",
            "gridwidth": 2
           },
           "zaxis": {
            "backgroundcolor": "rgb(17,17,17)",
            "gridcolor": "#506784",
            "linecolor": "#506784",
            "showbackground": true,
            "ticks": "",
            "zerolinecolor": "#C8D4E3",
            "gridwidth": 2
           }
          },
          "shapedefaults": {
           "line": {
            "color": "#f2f5fa"
           }
          },
          "annotationdefaults": {
           "arrowcolor": "#f2f5fa",
           "arrowhead": 0,
           "arrowwidth": 1
          },
          "geo": {
           "bgcolor": "rgb(17,17,17)",
           "landcolor": "rgb(17,17,17)",
           "subunitcolor": "#506784",
           "showland": true,
           "showlakes": true,
           "lakecolor": "rgb(17,17,17)"
          },
          "title": {
           "x": 0.05
          },
          "updatemenudefaults": {
           "bgcolor": "#506784",
           "borderwidth": 0
          },
          "sliderdefaults": {
           "bgcolor": "#C8D4E3",
           "borderwidth": 1,
           "bordercolor": "rgb(17,17,17)",
           "tickwidth": 0
          },
          "mapbox": {
           "style": "dark"
          }
         }
        }
       },
       "config": {
        "plotlyServerURL": "https://plot.ly"
       }
      },
      "text/html": "<div>                            <div id=\"ac9a5ef6-d7dc-4718-81de-53e1593e6d5a\" class=\"plotly-graph-div\" style=\"height:525px; width:100%;\"></div>            <script type=\"text/javascript\">                require([\"plotly\"], function(Plotly) {                    window.PLOTLYENV=window.PLOTLYENV || {};                                    if (document.getElementById(\"ac9a5ef6-d7dc-4718-81de-53e1593e6d5a\")) {                    Plotly.newPlot(                        \"ac9a5ef6-d7dc-4718-81de-53e1593e6d5a\",                        [{\"colorbar\":{\"title\":{\"side\":\"top\",\"text\":\"nombre\"}},\"colorscale\":[[0.0,\"#440154\"],[0.1111111111111111,\"#482878\"],[0.2222222222222222,\"#3e4989\"],[0.3333333333333333,\"#31688e\"],[0.4444444444444444,\"#26828e\"],[0.5555555555555556,\"#1f9e89\"],[0.6666666666666666,\"#35b779\"],[0.7777777777777778,\"#6ece58\"],[0.8888888888888888,\"#b5de2b\"],[1.0,\"#fde725\"]],\"x\":[2000,2001,2002,2003,2004,2005,2006,2007,2008,2009,2010,2011,2012,2013,2014,2015,2016,2017,2018,2019,2020],\"y\":[\"Access to Electricity (%)\",\"Renewable Electricity Capacity per Capita\",\"Electricity from Fossil Fuels (TWh)\",\"Electricity from Nuclear (TWh)\",\"Electricity from Renewables (TWh)\",\"Low-Carbon Electricity (%)\",\"Primary Energy Consumption per Capita (kWh/person)\",\"CO2 Emissions (kt by country)\",\"Renewables (% Equivalent Primary Energy)\",\"GDP Growth\",\"GDP per Capita\",\"Human Development Index\"],\"z\":[[0,0,0,0,0,0,0,0,0,0,0,0,0,0,0,0,0,0,0,0,0],[0,0,0,0,0,0,0,0,0,0,0,0,0,0,0,0,0,0,0,0,0],[0,0,0,0,0,0,0,0,0,0,0,0,0,0,0,0,0,0,0,0,0],[0,0,0,0,0,0,0,0,0,0,0,0,0,0,0,0,0,0,0,0,0],[0,0,0,0,0,0,0,0,0,0,0,0,0,0,0,0,0,0,0,0,0],[0,0,0,0,0,0,0,0,0,0,0,0,0,0,0,0,0,0,0,0,0],[0,0,0,0,0,0,0,0,0,0,0,0,0,0,0,0,0,0,0,0,0],[0,0,0,0,0,0,0,0,0,0,0,0,0,0,0,0,0,0,0,0,1],[1,1,1,1,1,1,1,1,1,1,1,1,1,1,1,1,1,1,1,1,1],[1,1,1,0,0,0,0,0,0,0,0,0,0,0,0,0,0,0,0,0,0],[1,1,0,0,0,0,0,0,0,0,0,0,0,0,0,0,0,0,0,0,0],[0,0,0,0,0,0,0,0,0,0,0,0,0,0,0,0,0,0,0,0,0]],\"type\":\"heatmap\"}],                        {\"template\":{\"data\":{\"histogram2dcontour\":[{\"type\":\"histogram2dcontour\",\"colorbar\":{\"outlinewidth\":0,\"ticks\":\"\"},\"colorscale\":[[0.0,\"#0d0887\"],[0.1111111111111111,\"#46039f\"],[0.2222222222222222,\"#7201a8\"],[0.3333333333333333,\"#9c179e\"],[0.4444444444444444,\"#bd3786\"],[0.5555555555555556,\"#d8576b\"],[0.6666666666666666,\"#ed7953\"],[0.7777777777777778,\"#fb9f3a\"],[0.8888888888888888,\"#fdca26\"],[1.0,\"#f0f921\"]]}],\"choropleth\":[{\"type\":\"choropleth\",\"colorbar\":{\"outlinewidth\":0,\"ticks\":\"\"}}],\"histogram2d\":[{\"type\":\"histogram2d\",\"colorbar\":{\"outlinewidth\":0,\"ticks\":\"\"},\"colorscale\":[[0.0,\"#0d0887\"],[0.1111111111111111,\"#46039f\"],[0.2222222222222222,\"#7201a8\"],[0.3333333333333333,\"#9c179e\"],[0.4444444444444444,\"#bd3786\"],[0.5555555555555556,\"#d8576b\"],[0.6666666666666666,\"#ed7953\"],[0.7777777777777778,\"#fb9f3a\"],[0.8888888888888888,\"#fdca26\"],[1.0,\"#f0f921\"]]}],\"heatmap\":[{\"type\":\"heatmap\",\"colorbar\":{\"outlinewidth\":0,\"ticks\":\"\"},\"colorscale\":[[0.0,\"#0d0887\"],[0.1111111111111111,\"#46039f\"],[0.2222222222222222,\"#7201a8\"],[0.3333333333333333,\"#9c179e\"],[0.4444444444444444,\"#bd3786\"],[0.5555555555555556,\"#d8576b\"],[0.6666666666666666,\"#ed7953\"],[0.7777777777777778,\"#fb9f3a\"],[0.8888888888888888,\"#fdca26\"],[1.0,\"#f0f921\"]]}],\"heatmapgl\":[{\"type\":\"heatmapgl\",\"colorbar\":{\"outlinewidth\":0,\"ticks\":\"\"},\"colorscale\":[[0.0,\"#0d0887\"],[0.1111111111111111,\"#46039f\"],[0.2222222222222222,\"#7201a8\"],[0.3333333333333333,\"#9c179e\"],[0.4444444444444444,\"#bd3786\"],[0.5555555555555556,\"#d8576b\"],[0.6666666666666666,\"#ed7953\"],[0.7777777777777778,\"#fb9f3a\"],[0.8888888888888888,\"#fdca26\"],[1.0,\"#f0f921\"]]}],\"contourcarpet\":[{\"type\":\"contourcarpet\",\"colorbar\":{\"outlinewidth\":0,\"ticks\":\"\"}}],\"contour\":[{\"type\":\"contour\",\"colorbar\":{\"outlinewidth\":0,\"ticks\":\"\"},\"colorscale\":[[0.0,\"#0d0887\"],[0.1111111111111111,\"#46039f\"],[0.2222222222222222,\"#7201a8\"],[0.3333333333333333,\"#9c179e\"],[0.4444444444444444,\"#bd3786\"],[0.5555555555555556,\"#d8576b\"],[0.6666666666666666,\"#ed7953\"],[0.7777777777777778,\"#fb9f3a\"],[0.8888888888888888,\"#fdca26\"],[1.0,\"#f0f921\"]]}],\"surface\":[{\"type\":\"surface\",\"colorbar\":{\"outlinewidth\":0,\"ticks\":\"\"},\"colorscale\":[[0.0,\"#0d0887\"],[0.1111111111111111,\"#46039f\"],[0.2222222222222222,\"#7201a8\"],[0.3333333333333333,\"#9c179e\"],[0.4444444444444444,\"#bd3786\"],[0.5555555555555556,\"#d8576b\"],[0.6666666666666666,\"#ed7953\"],[0.7777777777777778,\"#fb9f3a\"],[0.8888888888888888,\"#fdca26\"],[1.0,\"#f0f921\"]]}],\"mesh3d\":[{\"type\":\"mesh3d\",\"colorbar\":{\"outlinewidth\":0,\"ticks\":\"\"}}],\"scatter\":[{\"marker\":{\"line\":{\"color\":\"#283442\"}},\"type\":\"scatter\"}],\"parcoords\":[{\"type\":\"parcoords\",\"line\":{\"colorbar\":{\"outlinewidth\":0,\"ticks\":\"\"}}}],\"scatterpolargl\":[{\"type\":\"scatterpolargl\",\"marker\":{\"colorbar\":{\"outlinewidth\":0,\"ticks\":\"\"}}}],\"bar\":[{\"error_x\":{\"color\":\"#f2f5fa\"},\"error_y\":{\"color\":\"#f2f5fa\"},\"marker\":{\"line\":{\"color\":\"rgb(17,17,17)\",\"width\":0.5},\"pattern\":{\"fillmode\":\"overlay\",\"size\":10,\"solidity\":0.2}},\"type\":\"bar\"}],\"scattergeo\":[{\"type\":\"scattergeo\",\"marker\":{\"colorbar\":{\"outlinewidth\":0,\"ticks\":\"\"}}}],\"scatterpolar\":[{\"type\":\"scatterpolar\",\"marker\":{\"colorbar\":{\"outlinewidth\":0,\"ticks\":\"\"}}}],\"histogram\":[{\"marker\":{\"pattern\":{\"fillmode\":\"overlay\",\"size\":10,\"solidity\":0.2}},\"type\":\"histogram\"}],\"scattergl\":[{\"marker\":{\"line\":{\"color\":\"#283442\"}},\"type\":\"scattergl\"}],\"scatter3d\":[{\"type\":\"scatter3d\",\"line\":{\"colorbar\":{\"outlinewidth\":0,\"ticks\":\"\"}},\"marker\":{\"colorbar\":{\"outlinewidth\":0,\"ticks\":\"\"}}}],\"scattermapbox\":[{\"type\":\"scattermapbox\",\"marker\":{\"colorbar\":{\"outlinewidth\":0,\"ticks\":\"\"}}}],\"scatterternary\":[{\"type\":\"scatterternary\",\"marker\":{\"colorbar\":{\"outlinewidth\":0,\"ticks\":\"\"}}}],\"scattercarpet\":[{\"type\":\"scattercarpet\",\"marker\":{\"colorbar\":{\"outlinewidth\":0,\"ticks\":\"\"}}}],\"carpet\":[{\"aaxis\":{\"endlinecolor\":\"#A2B1C6\",\"gridcolor\":\"#506784\",\"linecolor\":\"#506784\",\"minorgridcolor\":\"#506784\",\"startlinecolor\":\"#A2B1C6\"},\"baxis\":{\"endlinecolor\":\"#A2B1C6\",\"gridcolor\":\"#506784\",\"linecolor\":\"#506784\",\"minorgridcolor\":\"#506784\",\"startlinecolor\":\"#A2B1C6\"},\"type\":\"carpet\"}],\"table\":[{\"cells\":{\"fill\":{\"color\":\"#506784\"},\"line\":{\"color\":\"rgb(17,17,17)\"}},\"header\":{\"fill\":{\"color\":\"#2a3f5f\"},\"line\":{\"color\":\"rgb(17,17,17)\"}},\"type\":\"table\"}],\"barpolar\":[{\"marker\":{\"line\":{\"color\":\"rgb(17,17,17)\",\"width\":0.5},\"pattern\":{\"fillmode\":\"overlay\",\"size\":10,\"solidity\":0.2}},\"type\":\"barpolar\"}],\"pie\":[{\"automargin\":true,\"type\":\"pie\"}]},\"layout\":{\"autotypenumbers\":\"strict\",\"colorway\":[\"#636efa\",\"#EF553B\",\"#00cc96\",\"#ab63fa\",\"#FFA15A\",\"#19d3f3\",\"#FF6692\",\"#B6E880\",\"#FF97FF\",\"#FECB52\"],\"font\":{\"color\":\"#f2f5fa\"},\"hovermode\":\"closest\",\"hoverlabel\":{\"align\":\"left\"},\"paper_bgcolor\":\"rgb(17,17,17)\",\"plot_bgcolor\":\"rgb(17,17,17)\",\"polar\":{\"bgcolor\":\"rgb(17,17,17)\",\"angularaxis\":{\"gridcolor\":\"#506784\",\"linecolor\":\"#506784\",\"ticks\":\"\"},\"radialaxis\":{\"gridcolor\":\"#506784\",\"linecolor\":\"#506784\",\"ticks\":\"\"}},\"ternary\":{\"bgcolor\":\"rgb(17,17,17)\",\"aaxis\":{\"gridcolor\":\"#506784\",\"linecolor\":\"#506784\",\"ticks\":\"\"},\"baxis\":{\"gridcolor\":\"#506784\",\"linecolor\":\"#506784\",\"ticks\":\"\"},\"caxis\":{\"gridcolor\":\"#506784\",\"linecolor\":\"#506784\",\"ticks\":\"\"}},\"coloraxis\":{\"colorbar\":{\"outlinewidth\":0,\"ticks\":\"\"}},\"colorscale\":{\"sequential\":[[0.0,\"#0d0887\"],[0.1111111111111111,\"#46039f\"],[0.2222222222222222,\"#7201a8\"],[0.3333333333333333,\"#9c179e\"],[0.4444444444444444,\"#bd3786\"],[0.5555555555555556,\"#d8576b\"],[0.6666666666666666,\"#ed7953\"],[0.7777777777777778,\"#fb9f3a\"],[0.8888888888888888,\"#fdca26\"],[1.0,\"#f0f921\"]],\"sequentialminus\":[[0.0,\"#0d0887\"],[0.1111111111111111,\"#46039f\"],[0.2222222222222222,\"#7201a8\"],[0.3333333333333333,\"#9c179e\"],[0.4444444444444444,\"#bd3786\"],[0.5555555555555556,\"#d8576b\"],[0.6666666666666666,\"#ed7953\"],[0.7777777777777778,\"#fb9f3a\"],[0.8888888888888888,\"#fdca26\"],[1.0,\"#f0f921\"]],\"diverging\":[[0,\"#8e0152\"],[0.1,\"#c51b7d\"],[0.2,\"#de77ae\"],[0.3,\"#f1b6da\"],[0.4,\"#fde0ef\"],[0.5,\"#f7f7f7\"],[0.6,\"#e6f5d0\"],[0.7,\"#b8e186\"],[0.8,\"#7fbc41\"],[0.9,\"#4d9221\"],[1,\"#276419\"]]},\"xaxis\":{\"gridcolor\":\"#283442\",\"linecolor\":\"#506784\",\"ticks\":\"\",\"title\":{\"standoff\":15},\"zerolinecolor\":\"#283442\",\"automargin\":true,\"zerolinewidth\":2},\"yaxis\":{\"gridcolor\":\"#283442\",\"linecolor\":\"#506784\",\"ticks\":\"\",\"title\":{\"standoff\":15},\"zerolinecolor\":\"#283442\",\"automargin\":true,\"zerolinewidth\":2},\"scene\":{\"xaxis\":{\"backgroundcolor\":\"rgb(17,17,17)\",\"gridcolor\":\"#506784\",\"linecolor\":\"#506784\",\"showbackground\":true,\"ticks\":\"\",\"zerolinecolor\":\"#C8D4E3\",\"gridwidth\":2},\"yaxis\":{\"backgroundcolor\":\"rgb(17,17,17)\",\"gridcolor\":\"#506784\",\"linecolor\":\"#506784\",\"showbackground\":true,\"ticks\":\"\",\"zerolinecolor\":\"#C8D4E3\",\"gridwidth\":2},\"zaxis\":{\"backgroundcolor\":\"rgb(17,17,17)\",\"gridcolor\":\"#506784\",\"linecolor\":\"#506784\",\"showbackground\":true,\"ticks\":\"\",\"zerolinecolor\":\"#C8D4E3\",\"gridwidth\":2}},\"shapedefaults\":{\"line\":{\"color\":\"#f2f5fa\"}},\"annotationdefaults\":{\"arrowcolor\":\"#f2f5fa\",\"arrowhead\":0,\"arrowwidth\":1},\"geo\":{\"bgcolor\":\"rgb(17,17,17)\",\"landcolor\":\"rgb(17,17,17)\",\"subunitcolor\":\"#506784\",\"showland\":true,\"showlakes\":true,\"lakecolor\":\"rgb(17,17,17)\"},\"title\":{\"x\":0.05},\"updatemenudefaults\":{\"bgcolor\":\"#506784\",\"borderwidth\":0},\"sliderdefaults\":{\"bgcolor\":\"#C8D4E3\",\"borderwidth\":1,\"bordercolor\":\"rgb(17,17,17)\",\"tickwidth\":0},\"mapbox\":{\"style\":\"dark\"}}}},                        {\"responsive\": true}                    ).then(function(){\n                            \nvar gd = document.getElementById('ac9a5ef6-d7dc-4718-81de-53e1593e6d5a');\nvar x = new MutationObserver(function (mutations, observer) {{\n        var display = window.getComputedStyle(gd).display;\n        if (!display || display === 'none') {{\n            console.log([gd, 'removed!']);\n            Plotly.purge(gd);\n            observer.disconnect();\n        }}\n}});\n\n// Listen for the removal of the full notebook cells\nvar notebookContainer = gd.closest('#notebook-container');\nif (notebookContainer) {{\n    x.observe(notebookContainer, {childList: true});\n}}\n\n// Listen for the clearing of the current output cell\nvar outputEl = gd.closest('.output');\nif (outputEl) {{\n    x.observe(outputEl, {childList: true});\n}}\n\n                        })                };                });            </script>        </div>"
     },
     "metadata": {},
     "output_type": "display_data"
    }
   ],
   "source": [
    "def heatmap_missing_values(area_type: str = type, area_name: str = name) -> go.Figure:\n",
    "    \"\"\"\n",
    "    This function creat a complexe multi-figure within a heatmap of missing values for the given area_name for all features and an indicator trace.\n",
    "    :param area_type: [\"Entity\", \"Continent\", \"Region\", \"iso3\"]\n",
    "    :param area_name: [\"France\", \"Europe\", \"Western Europe\", \"FRA\", ...]\n",
    "    :return: a figure object of the plotly lib (heatmap + indicator)\n",
    "    \"\"\"\n",
    "    \n",
    "    # The set of var to observe except the one used on other axis\n",
    "    col = df_energy.columns.tolist()\n",
    "    for x in ['Year', 'Country', 'Continent', 'Region', 'iso3']: col.remove(x)\n",
    "\n",
    "    df_heat = df_energy_query(area_type, area_name)[col]  # make the df with for the given area_name\n",
    "    df_heat_na = df_heat.isna()\n",
    "    df_heat_na.replace({True: 1, False: 0},\n",
    "                       inplace=True)  # We change the True to 1 because plotly can not interpret them\n",
    "\n",
    "    \n",
    "\n",
    "    df_heat_na['Year'] = df_energy['Year']  # add the year column to the df\n",
    "    transposed_df = df_heat_na.groupby('Year').sum().T\n",
    "\n",
    "    # testing after the upper calculation to be sure that the nb of missing val and shape is plausible\n",
    "    assert transposed_df.sum().sum() == df_energy.query(f\"{area_type} == '{area_name}'\").isna().sum().sum(), \"<-- The sum of nan is  not the same -->\"\n",
    "    assert transposed_df.shape[0] == len(col), \"<-- The number of columns is not the same -->\"\n",
    "    assert transposed_df.shape[1] == len(df_energy['Year'].unique().tolist()), \"<-- The number of rows is not the same -->\"\n",
    "\n",
    "    heatmap = go.Figure()\n",
    "    heatmap.add_trace(go.Heatmap(\n",
    "                z=transposed_df,\n",
    "                x=df_energy['Year'].unique().tolist(),\n",
    "                y=col,\n",
    "    \n",
    "                # Styling\n",
    "                colorscale='Viridis',\n",
    "                colorbar=dict(\n",
    "                    title=\"nombre\",\n",
    "                    titleside=\"top\"\n",
    "                )\n",
    "            )\n",
    "        )\n",
    "\n",
    "    return heatmap\n",
    "    \n",
    "heatmap_missing_values()"
   ],
   "metadata": {
    "collapsed": false,
    "ExecuteTime": {
     "end_time": "2023-10-30T11:42:50.552424700Z",
     "start_time": "2023-10-30T11:42:50.491818300Z"
    }
   },
   "id": "da02b1257c084a55"
  },
  {
   "cell_type": "code",
   "execution_count": 16,
   "outputs": [
    {
     "data": {
      "application/vnd.plotly.v1+json": {
       "data": [
        {
         "delta": {
          "reference": 25,
          "relative": true,
          "suffix": "%",
          "valueformat": ".2f"
         },
         "mode": "number+delta",
         "title": {
          "text": "NN of nan for Afghanistan<br><span style='font-size:0.8em;color:gray'>compare to the mean of Country</span>"
         },
         "value": 27,
         "type": "indicator"
        }
       ],
       "layout": {
        "template": {
         "data": {
          "histogram2dcontour": [
           {
            "type": "histogram2dcontour",
            "colorbar": {
             "outlinewidth": 0,
             "ticks": ""
            },
            "colorscale": [
             [
              0.0,
              "#0d0887"
             ],
             [
              0.1111111111111111,
              "#46039f"
             ],
             [
              0.2222222222222222,
              "#7201a8"
             ],
             [
              0.3333333333333333,
              "#9c179e"
             ],
             [
              0.4444444444444444,
              "#bd3786"
             ],
             [
              0.5555555555555556,
              "#d8576b"
             ],
             [
              0.6666666666666666,
              "#ed7953"
             ],
             [
              0.7777777777777778,
              "#fb9f3a"
             ],
             [
              0.8888888888888888,
              "#fdca26"
             ],
             [
              1.0,
              "#f0f921"
             ]
            ]
           }
          ],
          "choropleth": [
           {
            "type": "choropleth",
            "colorbar": {
             "outlinewidth": 0,
             "ticks": ""
            }
           }
          ],
          "histogram2d": [
           {
            "type": "histogram2d",
            "colorbar": {
             "outlinewidth": 0,
             "ticks": ""
            },
            "colorscale": [
             [
              0.0,
              "#0d0887"
             ],
             [
              0.1111111111111111,
              "#46039f"
             ],
             [
              0.2222222222222222,
              "#7201a8"
             ],
             [
              0.3333333333333333,
              "#9c179e"
             ],
             [
              0.4444444444444444,
              "#bd3786"
             ],
             [
              0.5555555555555556,
              "#d8576b"
             ],
             [
              0.6666666666666666,
              "#ed7953"
             ],
             [
              0.7777777777777778,
              "#fb9f3a"
             ],
             [
              0.8888888888888888,
              "#fdca26"
             ],
             [
              1.0,
              "#f0f921"
             ]
            ]
           }
          ],
          "heatmap": [
           {
            "type": "heatmap",
            "colorbar": {
             "outlinewidth": 0,
             "ticks": ""
            },
            "colorscale": [
             [
              0.0,
              "#0d0887"
             ],
             [
              0.1111111111111111,
              "#46039f"
             ],
             [
              0.2222222222222222,
              "#7201a8"
             ],
             [
              0.3333333333333333,
              "#9c179e"
             ],
             [
              0.4444444444444444,
              "#bd3786"
             ],
             [
              0.5555555555555556,
              "#d8576b"
             ],
             [
              0.6666666666666666,
              "#ed7953"
             ],
             [
              0.7777777777777778,
              "#fb9f3a"
             ],
             [
              0.8888888888888888,
              "#fdca26"
             ],
             [
              1.0,
              "#f0f921"
             ]
            ]
           }
          ],
          "heatmapgl": [
           {
            "type": "heatmapgl",
            "colorbar": {
             "outlinewidth": 0,
             "ticks": ""
            },
            "colorscale": [
             [
              0.0,
              "#0d0887"
             ],
             [
              0.1111111111111111,
              "#46039f"
             ],
             [
              0.2222222222222222,
              "#7201a8"
             ],
             [
              0.3333333333333333,
              "#9c179e"
             ],
             [
              0.4444444444444444,
              "#bd3786"
             ],
             [
              0.5555555555555556,
              "#d8576b"
             ],
             [
              0.6666666666666666,
              "#ed7953"
             ],
             [
              0.7777777777777778,
              "#fb9f3a"
             ],
             [
              0.8888888888888888,
              "#fdca26"
             ],
             [
              1.0,
              "#f0f921"
             ]
            ]
           }
          ],
          "contourcarpet": [
           {
            "type": "contourcarpet",
            "colorbar": {
             "outlinewidth": 0,
             "ticks": ""
            }
           }
          ],
          "contour": [
           {
            "type": "contour",
            "colorbar": {
             "outlinewidth": 0,
             "ticks": ""
            },
            "colorscale": [
             [
              0.0,
              "#0d0887"
             ],
             [
              0.1111111111111111,
              "#46039f"
             ],
             [
              0.2222222222222222,
              "#7201a8"
             ],
             [
              0.3333333333333333,
              "#9c179e"
             ],
             [
              0.4444444444444444,
              "#bd3786"
             ],
             [
              0.5555555555555556,
              "#d8576b"
             ],
             [
              0.6666666666666666,
              "#ed7953"
             ],
             [
              0.7777777777777778,
              "#fb9f3a"
             ],
             [
              0.8888888888888888,
              "#fdca26"
             ],
             [
              1.0,
              "#f0f921"
             ]
            ]
           }
          ],
          "surface": [
           {
            "type": "surface",
            "colorbar": {
             "outlinewidth": 0,
             "ticks": ""
            },
            "colorscale": [
             [
              0.0,
              "#0d0887"
             ],
             [
              0.1111111111111111,
              "#46039f"
             ],
             [
              0.2222222222222222,
              "#7201a8"
             ],
             [
              0.3333333333333333,
              "#9c179e"
             ],
             [
              0.4444444444444444,
              "#bd3786"
             ],
             [
              0.5555555555555556,
              "#d8576b"
             ],
             [
              0.6666666666666666,
              "#ed7953"
             ],
             [
              0.7777777777777778,
              "#fb9f3a"
             ],
             [
              0.8888888888888888,
              "#fdca26"
             ],
             [
              1.0,
              "#f0f921"
             ]
            ]
           }
          ],
          "mesh3d": [
           {
            "type": "mesh3d",
            "colorbar": {
             "outlinewidth": 0,
             "ticks": ""
            }
           }
          ],
          "scatter": [
           {
            "marker": {
             "line": {
              "color": "#283442"
             }
            },
            "type": "scatter"
           }
          ],
          "parcoords": [
           {
            "type": "parcoords",
            "line": {
             "colorbar": {
              "outlinewidth": 0,
              "ticks": ""
             }
            }
           }
          ],
          "scatterpolargl": [
           {
            "type": "scatterpolargl",
            "marker": {
             "colorbar": {
              "outlinewidth": 0,
              "ticks": ""
             }
            }
           }
          ],
          "bar": [
           {
            "error_x": {
             "color": "#f2f5fa"
            },
            "error_y": {
             "color": "#f2f5fa"
            },
            "marker": {
             "line": {
              "color": "rgb(17,17,17)",
              "width": 0.5
             },
             "pattern": {
              "fillmode": "overlay",
              "size": 10,
              "solidity": 0.2
             }
            },
            "type": "bar"
           }
          ],
          "scattergeo": [
           {
            "type": "scattergeo",
            "marker": {
             "colorbar": {
              "outlinewidth": 0,
              "ticks": ""
             }
            }
           }
          ],
          "scatterpolar": [
           {
            "type": "scatterpolar",
            "marker": {
             "colorbar": {
              "outlinewidth": 0,
              "ticks": ""
             }
            }
           }
          ],
          "histogram": [
           {
            "marker": {
             "pattern": {
              "fillmode": "overlay",
              "size": 10,
              "solidity": 0.2
             }
            },
            "type": "histogram"
           }
          ],
          "scattergl": [
           {
            "marker": {
             "line": {
              "color": "#283442"
             }
            },
            "type": "scattergl"
           }
          ],
          "scatter3d": [
           {
            "type": "scatter3d",
            "line": {
             "colorbar": {
              "outlinewidth": 0,
              "ticks": ""
             }
            },
            "marker": {
             "colorbar": {
              "outlinewidth": 0,
              "ticks": ""
             }
            }
           }
          ],
          "scattermapbox": [
           {
            "type": "scattermapbox",
            "marker": {
             "colorbar": {
              "outlinewidth": 0,
              "ticks": ""
             }
            }
           }
          ],
          "scatterternary": [
           {
            "type": "scatterternary",
            "marker": {
             "colorbar": {
              "outlinewidth": 0,
              "ticks": ""
             }
            }
           }
          ],
          "scattercarpet": [
           {
            "type": "scattercarpet",
            "marker": {
             "colorbar": {
              "outlinewidth": 0,
              "ticks": ""
             }
            }
           }
          ],
          "carpet": [
           {
            "aaxis": {
             "endlinecolor": "#A2B1C6",
             "gridcolor": "#506784",
             "linecolor": "#506784",
             "minorgridcolor": "#506784",
             "startlinecolor": "#A2B1C6"
            },
            "baxis": {
             "endlinecolor": "#A2B1C6",
             "gridcolor": "#506784",
             "linecolor": "#506784",
             "minorgridcolor": "#506784",
             "startlinecolor": "#A2B1C6"
            },
            "type": "carpet"
           }
          ],
          "table": [
           {
            "cells": {
             "fill": {
              "color": "#506784"
             },
             "line": {
              "color": "rgb(17,17,17)"
             }
            },
            "header": {
             "fill": {
              "color": "#2a3f5f"
             },
             "line": {
              "color": "rgb(17,17,17)"
             }
            },
            "type": "table"
           }
          ],
          "barpolar": [
           {
            "marker": {
             "line": {
              "color": "rgb(17,17,17)",
              "width": 0.5
             },
             "pattern": {
              "fillmode": "overlay",
              "size": 10,
              "solidity": 0.2
             }
            },
            "type": "barpolar"
           }
          ],
          "pie": [
           {
            "automargin": true,
            "type": "pie"
           }
          ]
         },
         "layout": {
          "autotypenumbers": "strict",
          "colorway": [
           "#636efa",
           "#EF553B",
           "#00cc96",
           "#ab63fa",
           "#FFA15A",
           "#19d3f3",
           "#FF6692",
           "#B6E880",
           "#FF97FF",
           "#FECB52"
          ],
          "font": {
           "color": "#f2f5fa"
          },
          "hovermode": "closest",
          "hoverlabel": {
           "align": "left"
          },
          "paper_bgcolor": "rgb(17,17,17)",
          "plot_bgcolor": "rgb(17,17,17)",
          "polar": {
           "bgcolor": "rgb(17,17,17)",
           "angularaxis": {
            "gridcolor": "#506784",
            "linecolor": "#506784",
            "ticks": ""
           },
           "radialaxis": {
            "gridcolor": "#506784",
            "linecolor": "#506784",
            "ticks": ""
           }
          },
          "ternary": {
           "bgcolor": "rgb(17,17,17)",
           "aaxis": {
            "gridcolor": "#506784",
            "linecolor": "#506784",
            "ticks": ""
           },
           "baxis": {
            "gridcolor": "#506784",
            "linecolor": "#506784",
            "ticks": ""
           },
           "caxis": {
            "gridcolor": "#506784",
            "linecolor": "#506784",
            "ticks": ""
           }
          },
          "coloraxis": {
           "colorbar": {
            "outlinewidth": 0,
            "ticks": ""
           }
          },
          "colorscale": {
           "sequential": [
            [
             0.0,
             "#0d0887"
            ],
            [
             0.1111111111111111,
             "#46039f"
            ],
            [
             0.2222222222222222,
             "#7201a8"
            ],
            [
             0.3333333333333333,
             "#9c179e"
            ],
            [
             0.4444444444444444,
             "#bd3786"
            ],
            [
             0.5555555555555556,
             "#d8576b"
            ],
            [
             0.6666666666666666,
             "#ed7953"
            ],
            [
             0.7777777777777778,
             "#fb9f3a"
            ],
            [
             0.8888888888888888,
             "#fdca26"
            ],
            [
             1.0,
             "#f0f921"
            ]
           ],
           "sequentialminus": [
            [
             0.0,
             "#0d0887"
            ],
            [
             0.1111111111111111,
             "#46039f"
            ],
            [
             0.2222222222222222,
             "#7201a8"
            ],
            [
             0.3333333333333333,
             "#9c179e"
            ],
            [
             0.4444444444444444,
             "#bd3786"
            ],
            [
             0.5555555555555556,
             "#d8576b"
            ],
            [
             0.6666666666666666,
             "#ed7953"
            ],
            [
             0.7777777777777778,
             "#fb9f3a"
            ],
            [
             0.8888888888888888,
             "#fdca26"
            ],
            [
             1.0,
             "#f0f921"
            ]
           ],
           "diverging": [
            [
             0,
             "#8e0152"
            ],
            [
             0.1,
             "#c51b7d"
            ],
            [
             0.2,
             "#de77ae"
            ],
            [
             0.3,
             "#f1b6da"
            ],
            [
             0.4,
             "#fde0ef"
            ],
            [
             0.5,
             "#f7f7f7"
            ],
            [
             0.6,
             "#e6f5d0"
            ],
            [
             0.7,
             "#b8e186"
            ],
            [
             0.8,
             "#7fbc41"
            ],
            [
             0.9,
             "#4d9221"
            ],
            [
             1,
             "#276419"
            ]
           ]
          },
          "xaxis": {
           "gridcolor": "#283442",
           "linecolor": "#506784",
           "ticks": "",
           "title": {
            "standoff": 15
           },
           "zerolinecolor": "#283442",
           "automargin": true,
           "zerolinewidth": 2
          },
          "yaxis": {
           "gridcolor": "#283442",
           "linecolor": "#506784",
           "ticks": "",
           "title": {
            "standoff": 15
           },
           "zerolinecolor": "#283442",
           "automargin": true,
           "zerolinewidth": 2
          },
          "scene": {
           "xaxis": {
            "backgroundcolor": "rgb(17,17,17)",
            "gridcolor": "#506784",
            "linecolor": "#506784",
            "showbackground": true,
            "ticks": "",
            "zerolinecolor": "#C8D4E3",
            "gridwidth": 2
           },
           "yaxis": {
            "backgroundcolor": "rgb(17,17,17)",
            "gridcolor": "#506784",
            "linecolor": "#506784",
            "showbackground": true,
            "ticks": "",
            "zerolinecolor": "#C8D4E3",
            "gridwidth": 2
           },
           "zaxis": {
            "backgroundcolor": "rgb(17,17,17)",
            "gridcolor": "#506784",
            "linecolor": "#506784",
            "showbackground": true,
            "ticks": "",
            "zerolinecolor": "#C8D4E3",
            "gridwidth": 2
           }
          },
          "shapedefaults": {
           "line": {
            "color": "#f2f5fa"
           }
          },
          "annotationdefaults": {
           "arrowcolor": "#f2f5fa",
           "arrowhead": 0,
           "arrowwidth": 1
          },
          "geo": {
           "bgcolor": "rgb(17,17,17)",
           "landcolor": "rgb(17,17,17)",
           "subunitcolor": "#506784",
           "showland": true,
           "showlakes": true,
           "lakecolor": "rgb(17,17,17)"
          },
          "title": {
           "x": 0.05
          },
          "updatemenudefaults": {
           "bgcolor": "#506784",
           "borderwidth": 0
          },
          "sliderdefaults": {
           "bgcolor": "#C8D4E3",
           "borderwidth": 1,
           "bordercolor": "rgb(17,17,17)",
           "tickwidth": 0
          },
          "mapbox": {
           "style": "dark"
          }
         }
        },
        "height": 250
       },
       "config": {
        "plotlyServerURL": "https://plot.ly"
       }
      },
      "text/html": "<div>                            <div id=\"17b55435-6a27-4730-9fe1-c9e3ffacf82c\" class=\"plotly-graph-div\" style=\"height:250px; width:100%;\"></div>            <script type=\"text/javascript\">                require([\"plotly\"], function(Plotly) {                    window.PLOTLYENV=window.PLOTLYENV || {};                                    if (document.getElementById(\"17b55435-6a27-4730-9fe1-c9e3ffacf82c\")) {                    Plotly.newPlot(                        \"17b55435-6a27-4730-9fe1-c9e3ffacf82c\",                        [{\"delta\":{\"reference\":25,\"relative\":true,\"suffix\":\"%\",\"valueformat\":\".2f\"},\"mode\":\"number+delta\",\"title\":{\"text\":\"NN of nan for Afghanistan<br><span style='font-size:0.8em;color:gray'>compare to the mean of Country</span>\"},\"value\":27,\"type\":\"indicator\"}],                        {\"template\":{\"data\":{\"histogram2dcontour\":[{\"type\":\"histogram2dcontour\",\"colorbar\":{\"outlinewidth\":0,\"ticks\":\"\"},\"colorscale\":[[0.0,\"#0d0887\"],[0.1111111111111111,\"#46039f\"],[0.2222222222222222,\"#7201a8\"],[0.3333333333333333,\"#9c179e\"],[0.4444444444444444,\"#bd3786\"],[0.5555555555555556,\"#d8576b\"],[0.6666666666666666,\"#ed7953\"],[0.7777777777777778,\"#fb9f3a\"],[0.8888888888888888,\"#fdca26\"],[1.0,\"#f0f921\"]]}],\"choropleth\":[{\"type\":\"choropleth\",\"colorbar\":{\"outlinewidth\":0,\"ticks\":\"\"}}],\"histogram2d\":[{\"type\":\"histogram2d\",\"colorbar\":{\"outlinewidth\":0,\"ticks\":\"\"},\"colorscale\":[[0.0,\"#0d0887\"],[0.1111111111111111,\"#46039f\"],[0.2222222222222222,\"#7201a8\"],[0.3333333333333333,\"#9c179e\"],[0.4444444444444444,\"#bd3786\"],[0.5555555555555556,\"#d8576b\"],[0.6666666666666666,\"#ed7953\"],[0.7777777777777778,\"#fb9f3a\"],[0.8888888888888888,\"#fdca26\"],[1.0,\"#f0f921\"]]}],\"heatmap\":[{\"type\":\"heatmap\",\"colorbar\":{\"outlinewidth\":0,\"ticks\":\"\"},\"colorscale\":[[0.0,\"#0d0887\"],[0.1111111111111111,\"#46039f\"],[0.2222222222222222,\"#7201a8\"],[0.3333333333333333,\"#9c179e\"],[0.4444444444444444,\"#bd3786\"],[0.5555555555555556,\"#d8576b\"],[0.6666666666666666,\"#ed7953\"],[0.7777777777777778,\"#fb9f3a\"],[0.8888888888888888,\"#fdca26\"],[1.0,\"#f0f921\"]]}],\"heatmapgl\":[{\"type\":\"heatmapgl\",\"colorbar\":{\"outlinewidth\":0,\"ticks\":\"\"},\"colorscale\":[[0.0,\"#0d0887\"],[0.1111111111111111,\"#46039f\"],[0.2222222222222222,\"#7201a8\"],[0.3333333333333333,\"#9c179e\"],[0.4444444444444444,\"#bd3786\"],[0.5555555555555556,\"#d8576b\"],[0.6666666666666666,\"#ed7953\"],[0.7777777777777778,\"#fb9f3a\"],[0.8888888888888888,\"#fdca26\"],[1.0,\"#f0f921\"]]}],\"contourcarpet\":[{\"type\":\"contourcarpet\",\"colorbar\":{\"outlinewidth\":0,\"ticks\":\"\"}}],\"contour\":[{\"type\":\"contour\",\"colorbar\":{\"outlinewidth\":0,\"ticks\":\"\"},\"colorscale\":[[0.0,\"#0d0887\"],[0.1111111111111111,\"#46039f\"],[0.2222222222222222,\"#7201a8\"],[0.3333333333333333,\"#9c179e\"],[0.4444444444444444,\"#bd3786\"],[0.5555555555555556,\"#d8576b\"],[0.6666666666666666,\"#ed7953\"],[0.7777777777777778,\"#fb9f3a\"],[0.8888888888888888,\"#fdca26\"],[1.0,\"#f0f921\"]]}],\"surface\":[{\"type\":\"surface\",\"colorbar\":{\"outlinewidth\":0,\"ticks\":\"\"},\"colorscale\":[[0.0,\"#0d0887\"],[0.1111111111111111,\"#46039f\"],[0.2222222222222222,\"#7201a8\"],[0.3333333333333333,\"#9c179e\"],[0.4444444444444444,\"#bd3786\"],[0.5555555555555556,\"#d8576b\"],[0.6666666666666666,\"#ed7953\"],[0.7777777777777778,\"#fb9f3a\"],[0.8888888888888888,\"#fdca26\"],[1.0,\"#f0f921\"]]}],\"mesh3d\":[{\"type\":\"mesh3d\",\"colorbar\":{\"outlinewidth\":0,\"ticks\":\"\"}}],\"scatter\":[{\"marker\":{\"line\":{\"color\":\"#283442\"}},\"type\":\"scatter\"}],\"parcoords\":[{\"type\":\"parcoords\",\"line\":{\"colorbar\":{\"outlinewidth\":0,\"ticks\":\"\"}}}],\"scatterpolargl\":[{\"type\":\"scatterpolargl\",\"marker\":{\"colorbar\":{\"outlinewidth\":0,\"ticks\":\"\"}}}],\"bar\":[{\"error_x\":{\"color\":\"#f2f5fa\"},\"error_y\":{\"color\":\"#f2f5fa\"},\"marker\":{\"line\":{\"color\":\"rgb(17,17,17)\",\"width\":0.5},\"pattern\":{\"fillmode\":\"overlay\",\"size\":10,\"solidity\":0.2}},\"type\":\"bar\"}],\"scattergeo\":[{\"type\":\"scattergeo\",\"marker\":{\"colorbar\":{\"outlinewidth\":0,\"ticks\":\"\"}}}],\"scatterpolar\":[{\"type\":\"scatterpolar\",\"marker\":{\"colorbar\":{\"outlinewidth\":0,\"ticks\":\"\"}}}],\"histogram\":[{\"marker\":{\"pattern\":{\"fillmode\":\"overlay\",\"size\":10,\"solidity\":0.2}},\"type\":\"histogram\"}],\"scattergl\":[{\"marker\":{\"line\":{\"color\":\"#283442\"}},\"type\":\"scattergl\"}],\"scatter3d\":[{\"type\":\"scatter3d\",\"line\":{\"colorbar\":{\"outlinewidth\":0,\"ticks\":\"\"}},\"marker\":{\"colorbar\":{\"outlinewidth\":0,\"ticks\":\"\"}}}],\"scattermapbox\":[{\"type\":\"scattermapbox\",\"marker\":{\"colorbar\":{\"outlinewidth\":0,\"ticks\":\"\"}}}],\"scatterternary\":[{\"type\":\"scatterternary\",\"marker\":{\"colorbar\":{\"outlinewidth\":0,\"ticks\":\"\"}}}],\"scattercarpet\":[{\"type\":\"scattercarpet\",\"marker\":{\"colorbar\":{\"outlinewidth\":0,\"ticks\":\"\"}}}],\"carpet\":[{\"aaxis\":{\"endlinecolor\":\"#A2B1C6\",\"gridcolor\":\"#506784\",\"linecolor\":\"#506784\",\"minorgridcolor\":\"#506784\",\"startlinecolor\":\"#A2B1C6\"},\"baxis\":{\"endlinecolor\":\"#A2B1C6\",\"gridcolor\":\"#506784\",\"linecolor\":\"#506784\",\"minorgridcolor\":\"#506784\",\"startlinecolor\":\"#A2B1C6\"},\"type\":\"carpet\"}],\"table\":[{\"cells\":{\"fill\":{\"color\":\"#506784\"},\"line\":{\"color\":\"rgb(17,17,17)\"}},\"header\":{\"fill\":{\"color\":\"#2a3f5f\"},\"line\":{\"color\":\"rgb(17,17,17)\"}},\"type\":\"table\"}],\"barpolar\":[{\"marker\":{\"line\":{\"color\":\"rgb(17,17,17)\",\"width\":0.5},\"pattern\":{\"fillmode\":\"overlay\",\"size\":10,\"solidity\":0.2}},\"type\":\"barpolar\"}],\"pie\":[{\"automargin\":true,\"type\":\"pie\"}]},\"layout\":{\"autotypenumbers\":\"strict\",\"colorway\":[\"#636efa\",\"#EF553B\",\"#00cc96\",\"#ab63fa\",\"#FFA15A\",\"#19d3f3\",\"#FF6692\",\"#B6E880\",\"#FF97FF\",\"#FECB52\"],\"font\":{\"color\":\"#f2f5fa\"},\"hovermode\":\"closest\",\"hoverlabel\":{\"align\":\"left\"},\"paper_bgcolor\":\"rgb(17,17,17)\",\"plot_bgcolor\":\"rgb(17,17,17)\",\"polar\":{\"bgcolor\":\"rgb(17,17,17)\",\"angularaxis\":{\"gridcolor\":\"#506784\",\"linecolor\":\"#506784\",\"ticks\":\"\"},\"radialaxis\":{\"gridcolor\":\"#506784\",\"linecolor\":\"#506784\",\"ticks\":\"\"}},\"ternary\":{\"bgcolor\":\"rgb(17,17,17)\",\"aaxis\":{\"gridcolor\":\"#506784\",\"linecolor\":\"#506784\",\"ticks\":\"\"},\"baxis\":{\"gridcolor\":\"#506784\",\"linecolor\":\"#506784\",\"ticks\":\"\"},\"caxis\":{\"gridcolor\":\"#506784\",\"linecolor\":\"#506784\",\"ticks\":\"\"}},\"coloraxis\":{\"colorbar\":{\"outlinewidth\":0,\"ticks\":\"\"}},\"colorscale\":{\"sequential\":[[0.0,\"#0d0887\"],[0.1111111111111111,\"#46039f\"],[0.2222222222222222,\"#7201a8\"],[0.3333333333333333,\"#9c179e\"],[0.4444444444444444,\"#bd3786\"],[0.5555555555555556,\"#d8576b\"],[0.6666666666666666,\"#ed7953\"],[0.7777777777777778,\"#fb9f3a\"],[0.8888888888888888,\"#fdca26\"],[1.0,\"#f0f921\"]],\"sequentialminus\":[[0.0,\"#0d0887\"],[0.1111111111111111,\"#46039f\"],[0.2222222222222222,\"#7201a8\"],[0.3333333333333333,\"#9c179e\"],[0.4444444444444444,\"#bd3786\"],[0.5555555555555556,\"#d8576b\"],[0.6666666666666666,\"#ed7953\"],[0.7777777777777778,\"#fb9f3a\"],[0.8888888888888888,\"#fdca26\"],[1.0,\"#f0f921\"]],\"diverging\":[[0,\"#8e0152\"],[0.1,\"#c51b7d\"],[0.2,\"#de77ae\"],[0.3,\"#f1b6da\"],[0.4,\"#fde0ef\"],[0.5,\"#f7f7f7\"],[0.6,\"#e6f5d0\"],[0.7,\"#b8e186\"],[0.8,\"#7fbc41\"],[0.9,\"#4d9221\"],[1,\"#276419\"]]},\"xaxis\":{\"gridcolor\":\"#283442\",\"linecolor\":\"#506784\",\"ticks\":\"\",\"title\":{\"standoff\":15},\"zerolinecolor\":\"#283442\",\"automargin\":true,\"zerolinewidth\":2},\"yaxis\":{\"gridcolor\":\"#283442\",\"linecolor\":\"#506784\",\"ticks\":\"\",\"title\":{\"standoff\":15},\"zerolinecolor\":\"#283442\",\"automargin\":true,\"zerolinewidth\":2},\"scene\":{\"xaxis\":{\"backgroundcolor\":\"rgb(17,17,17)\",\"gridcolor\":\"#506784\",\"linecolor\":\"#506784\",\"showbackground\":true,\"ticks\":\"\",\"zerolinecolor\":\"#C8D4E3\",\"gridwidth\":2},\"yaxis\":{\"backgroundcolor\":\"rgb(17,17,17)\",\"gridcolor\":\"#506784\",\"linecolor\":\"#506784\",\"showbackground\":true,\"ticks\":\"\",\"zerolinecolor\":\"#C8D4E3\",\"gridwidth\":2},\"zaxis\":{\"backgroundcolor\":\"rgb(17,17,17)\",\"gridcolor\":\"#506784\",\"linecolor\":\"#506784\",\"showbackground\":true,\"ticks\":\"\",\"zerolinecolor\":\"#C8D4E3\",\"gridwidth\":2}},\"shapedefaults\":{\"line\":{\"color\":\"#f2f5fa\"}},\"annotationdefaults\":{\"arrowcolor\":\"#f2f5fa\",\"arrowhead\":0,\"arrowwidth\":1},\"geo\":{\"bgcolor\":\"rgb(17,17,17)\",\"landcolor\":\"rgb(17,17,17)\",\"subunitcolor\":\"#506784\",\"showland\":true,\"showlakes\":true,\"lakecolor\":\"rgb(17,17,17)\"},\"title\":{\"x\":0.05},\"updatemenudefaults\":{\"bgcolor\":\"#506784\",\"borderwidth\":0},\"sliderdefaults\":{\"bgcolor\":\"#C8D4E3\",\"borderwidth\":1,\"bordercolor\":\"rgb(17,17,17)\",\"tickwidth\":0},\"mapbox\":{\"style\":\"dark\"}}},\"height\":250},                        {\"responsive\": true}                    ).then(function(){\n                            \nvar gd = document.getElementById('17b55435-6a27-4730-9fe1-c9e3ffacf82c');\nvar x = new MutationObserver(function (mutations, observer) {{\n        var display = window.getComputedStyle(gd).display;\n        if (!display || display === 'none') {{\n            console.log([gd, 'removed!']);\n            Plotly.purge(gd);\n            observer.disconnect();\n        }}\n}});\n\n// Listen for the removal of the full notebook cells\nvar notebookContainer = gd.closest('#notebook-container');\nif (notebookContainer) {{\n    x.observe(notebookContainer, {childList: true});\n}}\n\n// Listen for the clearing of the current output cell\nvar outputEl = gd.closest('.output');\nif (outputEl) {{\n    x.observe(outputEl, {childList: true});\n}}\n\n                        })                };                });            </script>        </div>"
     },
     "metadata": {},
     "output_type": "display_data"
    }
   ],
   "source": [
    "NB_OF_NAN, NB_OF_NAN_GLOBAL, NB_MEAN_NAN = na_info\n",
    "\n",
    "indicator_na = go.Figure()\n",
    "\n",
    "\n",
    "indicator_na.add_trace(go.Indicator(\n",
    "        mode=\"number+delta\",  # 'delta' mean the % btw the value and a ref\n",
    "        value=NB_OF_NAN,  # nb of nan for the current country looked\n",
    "        delta={'reference': int(NB_MEAN_NAN), 'relative': True, 'valueformat': '.2f', \"suffix\": \"%\"},\n",
    "        # styling\n",
    "        title={\"text\": f\"NN of nan for {name}<br>\"\n",
    "                       \"<span style='font-size:0.8em;color:gray'>\"\n",
    "                       f\"compare to the mean of {type}</span>\"\n",
    "               }\n",
    "    )\n",
    ")\n",
    "indicator_na.update_layout(\n",
    "    height=250,\n",
    ")\n",
    "indicator_na.show()"
   ],
   "metadata": {
    "collapsed": false,
    "ExecuteTime": {
     "end_time": "2023-10-30T11:42:50.568909800Z",
     "start_time": "2023-10-30T11:42:50.536178500Z"
    }
   },
   "id": "c8761e94e66e887a"
  },
  {
   "cell_type": "code",
   "execution_count": 17,
   "outputs": [
    {
     "data": {
      "application/vnd.plotly.v1+json": {
       "data": [
        {
         "mode": "number",
         "title": {
          "text": "NN of nan for Ellipsis"
         },
         "value": 4516,
         "type": "indicator"
        }
       ],
       "layout": {
        "template": {
         "data": {
          "histogram2dcontour": [
           {
            "type": "histogram2dcontour",
            "colorbar": {
             "outlinewidth": 0,
             "ticks": ""
            },
            "colorscale": [
             [
              0.0,
              "#0d0887"
             ],
             [
              0.1111111111111111,
              "#46039f"
             ],
             [
              0.2222222222222222,
              "#7201a8"
             ],
             [
              0.3333333333333333,
              "#9c179e"
             ],
             [
              0.4444444444444444,
              "#bd3786"
             ],
             [
              0.5555555555555556,
              "#d8576b"
             ],
             [
              0.6666666666666666,
              "#ed7953"
             ],
             [
              0.7777777777777778,
              "#fb9f3a"
             ],
             [
              0.8888888888888888,
              "#fdca26"
             ],
             [
              1.0,
              "#f0f921"
             ]
            ]
           }
          ],
          "choropleth": [
           {
            "type": "choropleth",
            "colorbar": {
             "outlinewidth": 0,
             "ticks": ""
            }
           }
          ],
          "histogram2d": [
           {
            "type": "histogram2d",
            "colorbar": {
             "outlinewidth": 0,
             "ticks": ""
            },
            "colorscale": [
             [
              0.0,
              "#0d0887"
             ],
             [
              0.1111111111111111,
              "#46039f"
             ],
             [
              0.2222222222222222,
              "#7201a8"
             ],
             [
              0.3333333333333333,
              "#9c179e"
             ],
             [
              0.4444444444444444,
              "#bd3786"
             ],
             [
              0.5555555555555556,
              "#d8576b"
             ],
             [
              0.6666666666666666,
              "#ed7953"
             ],
             [
              0.7777777777777778,
              "#fb9f3a"
             ],
             [
              0.8888888888888888,
              "#fdca26"
             ],
             [
              1.0,
              "#f0f921"
             ]
            ]
           }
          ],
          "heatmap": [
           {
            "type": "heatmap",
            "colorbar": {
             "outlinewidth": 0,
             "ticks": ""
            },
            "colorscale": [
             [
              0.0,
              "#0d0887"
             ],
             [
              0.1111111111111111,
              "#46039f"
             ],
             [
              0.2222222222222222,
              "#7201a8"
             ],
             [
              0.3333333333333333,
              "#9c179e"
             ],
             [
              0.4444444444444444,
              "#bd3786"
             ],
             [
              0.5555555555555556,
              "#d8576b"
             ],
             [
              0.6666666666666666,
              "#ed7953"
             ],
             [
              0.7777777777777778,
              "#fb9f3a"
             ],
             [
              0.8888888888888888,
              "#fdca26"
             ],
             [
              1.0,
              "#f0f921"
             ]
            ]
           }
          ],
          "heatmapgl": [
           {
            "type": "heatmapgl",
            "colorbar": {
             "outlinewidth": 0,
             "ticks": ""
            },
            "colorscale": [
             [
              0.0,
              "#0d0887"
             ],
             [
              0.1111111111111111,
              "#46039f"
             ],
             [
              0.2222222222222222,
              "#7201a8"
             ],
             [
              0.3333333333333333,
              "#9c179e"
             ],
             [
              0.4444444444444444,
              "#bd3786"
             ],
             [
              0.5555555555555556,
              "#d8576b"
             ],
             [
              0.6666666666666666,
              "#ed7953"
             ],
             [
              0.7777777777777778,
              "#fb9f3a"
             ],
             [
              0.8888888888888888,
              "#fdca26"
             ],
             [
              1.0,
              "#f0f921"
             ]
            ]
           }
          ],
          "contourcarpet": [
           {
            "type": "contourcarpet",
            "colorbar": {
             "outlinewidth": 0,
             "ticks": ""
            }
           }
          ],
          "contour": [
           {
            "type": "contour",
            "colorbar": {
             "outlinewidth": 0,
             "ticks": ""
            },
            "colorscale": [
             [
              0.0,
              "#0d0887"
             ],
             [
              0.1111111111111111,
              "#46039f"
             ],
             [
              0.2222222222222222,
              "#7201a8"
             ],
             [
              0.3333333333333333,
              "#9c179e"
             ],
             [
              0.4444444444444444,
              "#bd3786"
             ],
             [
              0.5555555555555556,
              "#d8576b"
             ],
             [
              0.6666666666666666,
              "#ed7953"
             ],
             [
              0.7777777777777778,
              "#fb9f3a"
             ],
             [
              0.8888888888888888,
              "#fdca26"
             ],
             [
              1.0,
              "#f0f921"
             ]
            ]
           }
          ],
          "surface": [
           {
            "type": "surface",
            "colorbar": {
             "outlinewidth": 0,
             "ticks": ""
            },
            "colorscale": [
             [
              0.0,
              "#0d0887"
             ],
             [
              0.1111111111111111,
              "#46039f"
             ],
             [
              0.2222222222222222,
              "#7201a8"
             ],
             [
              0.3333333333333333,
              "#9c179e"
             ],
             [
              0.4444444444444444,
              "#bd3786"
             ],
             [
              0.5555555555555556,
              "#d8576b"
             ],
             [
              0.6666666666666666,
              "#ed7953"
             ],
             [
              0.7777777777777778,
              "#fb9f3a"
             ],
             [
              0.8888888888888888,
              "#fdca26"
             ],
             [
              1.0,
              "#f0f921"
             ]
            ]
           }
          ],
          "mesh3d": [
           {
            "type": "mesh3d",
            "colorbar": {
             "outlinewidth": 0,
             "ticks": ""
            }
           }
          ],
          "scatter": [
           {
            "marker": {
             "line": {
              "color": "#283442"
             }
            },
            "type": "scatter"
           }
          ],
          "parcoords": [
           {
            "type": "parcoords",
            "line": {
             "colorbar": {
              "outlinewidth": 0,
              "ticks": ""
             }
            }
           }
          ],
          "scatterpolargl": [
           {
            "type": "scatterpolargl",
            "marker": {
             "colorbar": {
              "outlinewidth": 0,
              "ticks": ""
             }
            }
           }
          ],
          "bar": [
           {
            "error_x": {
             "color": "#f2f5fa"
            },
            "error_y": {
             "color": "#f2f5fa"
            },
            "marker": {
             "line": {
              "color": "rgb(17,17,17)",
              "width": 0.5
             },
             "pattern": {
              "fillmode": "overlay",
              "size": 10,
              "solidity": 0.2
             }
            },
            "type": "bar"
           }
          ],
          "scattergeo": [
           {
            "type": "scattergeo",
            "marker": {
             "colorbar": {
              "outlinewidth": 0,
              "ticks": ""
             }
            }
           }
          ],
          "scatterpolar": [
           {
            "type": "scatterpolar",
            "marker": {
             "colorbar": {
              "outlinewidth": 0,
              "ticks": ""
             }
            }
           }
          ],
          "histogram": [
           {
            "marker": {
             "pattern": {
              "fillmode": "overlay",
              "size": 10,
              "solidity": 0.2
             }
            },
            "type": "histogram"
           }
          ],
          "scattergl": [
           {
            "marker": {
             "line": {
              "color": "#283442"
             }
            },
            "type": "scattergl"
           }
          ],
          "scatter3d": [
           {
            "type": "scatter3d",
            "line": {
             "colorbar": {
              "outlinewidth": 0,
              "ticks": ""
             }
            },
            "marker": {
             "colorbar": {
              "outlinewidth": 0,
              "ticks": ""
             }
            }
           }
          ],
          "scattermapbox": [
           {
            "type": "scattermapbox",
            "marker": {
             "colorbar": {
              "outlinewidth": 0,
              "ticks": ""
             }
            }
           }
          ],
          "scatterternary": [
           {
            "type": "scatterternary",
            "marker": {
             "colorbar": {
              "outlinewidth": 0,
              "ticks": ""
             }
            }
           }
          ],
          "scattercarpet": [
           {
            "type": "scattercarpet",
            "marker": {
             "colorbar": {
              "outlinewidth": 0,
              "ticks": ""
             }
            }
           }
          ],
          "carpet": [
           {
            "aaxis": {
             "endlinecolor": "#A2B1C6",
             "gridcolor": "#506784",
             "linecolor": "#506784",
             "minorgridcolor": "#506784",
             "startlinecolor": "#A2B1C6"
            },
            "baxis": {
             "endlinecolor": "#A2B1C6",
             "gridcolor": "#506784",
             "linecolor": "#506784",
             "minorgridcolor": "#506784",
             "startlinecolor": "#A2B1C6"
            },
            "type": "carpet"
           }
          ],
          "table": [
           {
            "cells": {
             "fill": {
              "color": "#506784"
             },
             "line": {
              "color": "rgb(17,17,17)"
             }
            },
            "header": {
             "fill": {
              "color": "#2a3f5f"
             },
             "line": {
              "color": "rgb(17,17,17)"
             }
            },
            "type": "table"
           }
          ],
          "barpolar": [
           {
            "marker": {
             "line": {
              "color": "rgb(17,17,17)",
              "width": 0.5
             },
             "pattern": {
              "fillmode": "overlay",
              "size": 10,
              "solidity": 0.2
             }
            },
            "type": "barpolar"
           }
          ],
          "pie": [
           {
            "automargin": true,
            "type": "pie"
           }
          ]
         },
         "layout": {
          "autotypenumbers": "strict",
          "colorway": [
           "#636efa",
           "#EF553B",
           "#00cc96",
           "#ab63fa",
           "#FFA15A",
           "#19d3f3",
           "#FF6692",
           "#B6E880",
           "#FF97FF",
           "#FECB52"
          ],
          "font": {
           "color": "#f2f5fa"
          },
          "hovermode": "closest",
          "hoverlabel": {
           "align": "left"
          },
          "paper_bgcolor": "rgb(17,17,17)",
          "plot_bgcolor": "rgb(17,17,17)",
          "polar": {
           "bgcolor": "rgb(17,17,17)",
           "angularaxis": {
            "gridcolor": "#506784",
            "linecolor": "#506784",
            "ticks": ""
           },
           "radialaxis": {
            "gridcolor": "#506784",
            "linecolor": "#506784",
            "ticks": ""
           }
          },
          "ternary": {
           "bgcolor": "rgb(17,17,17)",
           "aaxis": {
            "gridcolor": "#506784",
            "linecolor": "#506784",
            "ticks": ""
           },
           "baxis": {
            "gridcolor": "#506784",
            "linecolor": "#506784",
            "ticks": ""
           },
           "caxis": {
            "gridcolor": "#506784",
            "linecolor": "#506784",
            "ticks": ""
           }
          },
          "coloraxis": {
           "colorbar": {
            "outlinewidth": 0,
            "ticks": ""
           }
          },
          "colorscale": {
           "sequential": [
            [
             0.0,
             "#0d0887"
            ],
            [
             0.1111111111111111,
             "#46039f"
            ],
            [
             0.2222222222222222,
             "#7201a8"
            ],
            [
             0.3333333333333333,
             "#9c179e"
            ],
            [
             0.4444444444444444,
             "#bd3786"
            ],
            [
             0.5555555555555556,
             "#d8576b"
            ],
            [
             0.6666666666666666,
             "#ed7953"
            ],
            [
             0.7777777777777778,
             "#fb9f3a"
            ],
            [
             0.8888888888888888,
             "#fdca26"
            ],
            [
             1.0,
             "#f0f921"
            ]
           ],
           "sequentialminus": [
            [
             0.0,
             "#0d0887"
            ],
            [
             0.1111111111111111,
             "#46039f"
            ],
            [
             0.2222222222222222,
             "#7201a8"
            ],
            [
             0.3333333333333333,
             "#9c179e"
            ],
            [
             0.4444444444444444,
             "#bd3786"
            ],
            [
             0.5555555555555556,
             "#d8576b"
            ],
            [
             0.6666666666666666,
             "#ed7953"
            ],
            [
             0.7777777777777778,
             "#fb9f3a"
            ],
            [
             0.8888888888888888,
             "#fdca26"
            ],
            [
             1.0,
             "#f0f921"
            ]
           ],
           "diverging": [
            [
             0,
             "#8e0152"
            ],
            [
             0.1,
             "#c51b7d"
            ],
            [
             0.2,
             "#de77ae"
            ],
            [
             0.3,
             "#f1b6da"
            ],
            [
             0.4,
             "#fde0ef"
            ],
            [
             0.5,
             "#f7f7f7"
            ],
            [
             0.6,
             "#e6f5d0"
            ],
            [
             0.7,
             "#b8e186"
            ],
            [
             0.8,
             "#7fbc41"
            ],
            [
             0.9,
             "#4d9221"
            ],
            [
             1,
             "#276419"
            ]
           ]
          },
          "xaxis": {
           "gridcolor": "#283442",
           "linecolor": "#506784",
           "ticks": "",
           "title": {
            "standoff": 15
           },
           "zerolinecolor": "#283442",
           "automargin": true,
           "zerolinewidth": 2
          },
          "yaxis": {
           "gridcolor": "#283442",
           "linecolor": "#506784",
           "ticks": "",
           "title": {
            "standoff": 15
           },
           "zerolinecolor": "#283442",
           "automargin": true,
           "zerolinewidth": 2
          },
          "scene": {
           "xaxis": {
            "backgroundcolor": "rgb(17,17,17)",
            "gridcolor": "#506784",
            "linecolor": "#506784",
            "showbackground": true,
            "ticks": "",
            "zerolinecolor": "#C8D4E3",
            "gridwidth": 2
           },
           "yaxis": {
            "backgroundcolor": "rgb(17,17,17)",
            "gridcolor": "#506784",
            "linecolor": "#506784",
            "showbackground": true,
            "ticks": "",
            "zerolinecolor": "#C8D4E3",
            "gridwidth": 2
           },
           "zaxis": {
            "backgroundcolor": "rgb(17,17,17)",
            "gridcolor": "#506784",
            "linecolor": "#506784",
            "showbackground": true,
            "ticks": "",
            "zerolinecolor": "#C8D4E3",
            "gridwidth": 2
           }
          },
          "shapedefaults": {
           "line": {
            "color": "#f2f5fa"
           }
          },
          "annotationdefaults": {
           "arrowcolor": "#f2f5fa",
           "arrowhead": 0,
           "arrowwidth": 1
          },
          "geo": {
           "bgcolor": "rgb(17,17,17)",
           "landcolor": "rgb(17,17,17)",
           "subunitcolor": "#506784",
           "showland": true,
           "showlakes": true,
           "lakecolor": "rgb(17,17,17)"
          },
          "title": {
           "x": 0.05
          },
          "updatemenudefaults": {
           "bgcolor": "#506784",
           "borderwidth": 0
          },
          "sliderdefaults": {
           "bgcolor": "#C8D4E3",
           "borderwidth": 1,
           "bordercolor": "rgb(17,17,17)",
           "tickwidth": 0
          },
          "mapbox": {
           "style": "dark"
          }
         }
        },
        "height": 250
       },
       "config": {
        "plotlyServerURL": "https://plot.ly"
       }
      },
      "text/html": "<div>                            <div id=\"12a6db76-50ec-4363-85ba-31cf4e728b24\" class=\"plotly-graph-div\" style=\"height:250px; width:100%;\"></div>            <script type=\"text/javascript\">                require([\"plotly\"], function(Plotly) {                    window.PLOTLYENV=window.PLOTLYENV || {};                                    if (document.getElementById(\"12a6db76-50ec-4363-85ba-31cf4e728b24\")) {                    Plotly.newPlot(                        \"12a6db76-50ec-4363-85ba-31cf4e728b24\",                        [{\"mode\":\"number\",\"title\":{\"text\":\"NN of nan for Ellipsis\"},\"value\":4516,\"type\":\"indicator\"}],                        {\"template\":{\"data\":{\"histogram2dcontour\":[{\"type\":\"histogram2dcontour\",\"colorbar\":{\"outlinewidth\":0,\"ticks\":\"\"},\"colorscale\":[[0.0,\"#0d0887\"],[0.1111111111111111,\"#46039f\"],[0.2222222222222222,\"#7201a8\"],[0.3333333333333333,\"#9c179e\"],[0.4444444444444444,\"#bd3786\"],[0.5555555555555556,\"#d8576b\"],[0.6666666666666666,\"#ed7953\"],[0.7777777777777778,\"#fb9f3a\"],[0.8888888888888888,\"#fdca26\"],[1.0,\"#f0f921\"]]}],\"choropleth\":[{\"type\":\"choropleth\",\"colorbar\":{\"outlinewidth\":0,\"ticks\":\"\"}}],\"histogram2d\":[{\"type\":\"histogram2d\",\"colorbar\":{\"outlinewidth\":0,\"ticks\":\"\"},\"colorscale\":[[0.0,\"#0d0887\"],[0.1111111111111111,\"#46039f\"],[0.2222222222222222,\"#7201a8\"],[0.3333333333333333,\"#9c179e\"],[0.4444444444444444,\"#bd3786\"],[0.5555555555555556,\"#d8576b\"],[0.6666666666666666,\"#ed7953\"],[0.7777777777777778,\"#fb9f3a\"],[0.8888888888888888,\"#fdca26\"],[1.0,\"#f0f921\"]]}],\"heatmap\":[{\"type\":\"heatmap\",\"colorbar\":{\"outlinewidth\":0,\"ticks\":\"\"},\"colorscale\":[[0.0,\"#0d0887\"],[0.1111111111111111,\"#46039f\"],[0.2222222222222222,\"#7201a8\"],[0.3333333333333333,\"#9c179e\"],[0.4444444444444444,\"#bd3786\"],[0.5555555555555556,\"#d8576b\"],[0.6666666666666666,\"#ed7953\"],[0.7777777777777778,\"#fb9f3a\"],[0.8888888888888888,\"#fdca26\"],[1.0,\"#f0f921\"]]}],\"heatmapgl\":[{\"type\":\"heatmapgl\",\"colorbar\":{\"outlinewidth\":0,\"ticks\":\"\"},\"colorscale\":[[0.0,\"#0d0887\"],[0.1111111111111111,\"#46039f\"],[0.2222222222222222,\"#7201a8\"],[0.3333333333333333,\"#9c179e\"],[0.4444444444444444,\"#bd3786\"],[0.5555555555555556,\"#d8576b\"],[0.6666666666666666,\"#ed7953\"],[0.7777777777777778,\"#fb9f3a\"],[0.8888888888888888,\"#fdca26\"],[1.0,\"#f0f921\"]]}],\"contourcarpet\":[{\"type\":\"contourcarpet\",\"colorbar\":{\"outlinewidth\":0,\"ticks\":\"\"}}],\"contour\":[{\"type\":\"contour\",\"colorbar\":{\"outlinewidth\":0,\"ticks\":\"\"},\"colorscale\":[[0.0,\"#0d0887\"],[0.1111111111111111,\"#46039f\"],[0.2222222222222222,\"#7201a8\"],[0.3333333333333333,\"#9c179e\"],[0.4444444444444444,\"#bd3786\"],[0.5555555555555556,\"#d8576b\"],[0.6666666666666666,\"#ed7953\"],[0.7777777777777778,\"#fb9f3a\"],[0.8888888888888888,\"#fdca26\"],[1.0,\"#f0f921\"]]}],\"surface\":[{\"type\":\"surface\",\"colorbar\":{\"outlinewidth\":0,\"ticks\":\"\"},\"colorscale\":[[0.0,\"#0d0887\"],[0.1111111111111111,\"#46039f\"],[0.2222222222222222,\"#7201a8\"],[0.3333333333333333,\"#9c179e\"],[0.4444444444444444,\"#bd3786\"],[0.5555555555555556,\"#d8576b\"],[0.6666666666666666,\"#ed7953\"],[0.7777777777777778,\"#fb9f3a\"],[0.8888888888888888,\"#fdca26\"],[1.0,\"#f0f921\"]]}],\"mesh3d\":[{\"type\":\"mesh3d\",\"colorbar\":{\"outlinewidth\":0,\"ticks\":\"\"}}],\"scatter\":[{\"marker\":{\"line\":{\"color\":\"#283442\"}},\"type\":\"scatter\"}],\"parcoords\":[{\"type\":\"parcoords\",\"line\":{\"colorbar\":{\"outlinewidth\":0,\"ticks\":\"\"}}}],\"scatterpolargl\":[{\"type\":\"scatterpolargl\",\"marker\":{\"colorbar\":{\"outlinewidth\":0,\"ticks\":\"\"}}}],\"bar\":[{\"error_x\":{\"color\":\"#f2f5fa\"},\"error_y\":{\"color\":\"#f2f5fa\"},\"marker\":{\"line\":{\"color\":\"rgb(17,17,17)\",\"width\":0.5},\"pattern\":{\"fillmode\":\"overlay\",\"size\":10,\"solidity\":0.2}},\"type\":\"bar\"}],\"scattergeo\":[{\"type\":\"scattergeo\",\"marker\":{\"colorbar\":{\"outlinewidth\":0,\"ticks\":\"\"}}}],\"scatterpolar\":[{\"type\":\"scatterpolar\",\"marker\":{\"colorbar\":{\"outlinewidth\":0,\"ticks\":\"\"}}}],\"histogram\":[{\"marker\":{\"pattern\":{\"fillmode\":\"overlay\",\"size\":10,\"solidity\":0.2}},\"type\":\"histogram\"}],\"scattergl\":[{\"marker\":{\"line\":{\"color\":\"#283442\"}},\"type\":\"scattergl\"}],\"scatter3d\":[{\"type\":\"scatter3d\",\"line\":{\"colorbar\":{\"outlinewidth\":0,\"ticks\":\"\"}},\"marker\":{\"colorbar\":{\"outlinewidth\":0,\"ticks\":\"\"}}}],\"scattermapbox\":[{\"type\":\"scattermapbox\",\"marker\":{\"colorbar\":{\"outlinewidth\":0,\"ticks\":\"\"}}}],\"scatterternary\":[{\"type\":\"scatterternary\",\"marker\":{\"colorbar\":{\"outlinewidth\":0,\"ticks\":\"\"}}}],\"scattercarpet\":[{\"type\":\"scattercarpet\",\"marker\":{\"colorbar\":{\"outlinewidth\":0,\"ticks\":\"\"}}}],\"carpet\":[{\"aaxis\":{\"endlinecolor\":\"#A2B1C6\",\"gridcolor\":\"#506784\",\"linecolor\":\"#506784\",\"minorgridcolor\":\"#506784\",\"startlinecolor\":\"#A2B1C6\"},\"baxis\":{\"endlinecolor\":\"#A2B1C6\",\"gridcolor\":\"#506784\",\"linecolor\":\"#506784\",\"minorgridcolor\":\"#506784\",\"startlinecolor\":\"#A2B1C6\"},\"type\":\"carpet\"}],\"table\":[{\"cells\":{\"fill\":{\"color\":\"#506784\"},\"line\":{\"color\":\"rgb(17,17,17)\"}},\"header\":{\"fill\":{\"color\":\"#2a3f5f\"},\"line\":{\"color\":\"rgb(17,17,17)\"}},\"type\":\"table\"}],\"barpolar\":[{\"marker\":{\"line\":{\"color\":\"rgb(17,17,17)\",\"width\":0.5},\"pattern\":{\"fillmode\":\"overlay\",\"size\":10,\"solidity\":0.2}},\"type\":\"barpolar\"}],\"pie\":[{\"automargin\":true,\"type\":\"pie\"}]},\"layout\":{\"autotypenumbers\":\"strict\",\"colorway\":[\"#636efa\",\"#EF553B\",\"#00cc96\",\"#ab63fa\",\"#FFA15A\",\"#19d3f3\",\"#FF6692\",\"#B6E880\",\"#FF97FF\",\"#FECB52\"],\"font\":{\"color\":\"#f2f5fa\"},\"hovermode\":\"closest\",\"hoverlabel\":{\"align\":\"left\"},\"paper_bgcolor\":\"rgb(17,17,17)\",\"plot_bgcolor\":\"rgb(17,17,17)\",\"polar\":{\"bgcolor\":\"rgb(17,17,17)\",\"angularaxis\":{\"gridcolor\":\"#506784\",\"linecolor\":\"#506784\",\"ticks\":\"\"},\"radialaxis\":{\"gridcolor\":\"#506784\",\"linecolor\":\"#506784\",\"ticks\":\"\"}},\"ternary\":{\"bgcolor\":\"rgb(17,17,17)\",\"aaxis\":{\"gridcolor\":\"#506784\",\"linecolor\":\"#506784\",\"ticks\":\"\"},\"baxis\":{\"gridcolor\":\"#506784\",\"linecolor\":\"#506784\",\"ticks\":\"\"},\"caxis\":{\"gridcolor\":\"#506784\",\"linecolor\":\"#506784\",\"ticks\":\"\"}},\"coloraxis\":{\"colorbar\":{\"outlinewidth\":0,\"ticks\":\"\"}},\"colorscale\":{\"sequential\":[[0.0,\"#0d0887\"],[0.1111111111111111,\"#46039f\"],[0.2222222222222222,\"#7201a8\"],[0.3333333333333333,\"#9c179e\"],[0.4444444444444444,\"#bd3786\"],[0.5555555555555556,\"#d8576b\"],[0.6666666666666666,\"#ed7953\"],[0.7777777777777778,\"#fb9f3a\"],[0.8888888888888888,\"#fdca26\"],[1.0,\"#f0f921\"]],\"sequentialminus\":[[0.0,\"#0d0887\"],[0.1111111111111111,\"#46039f\"],[0.2222222222222222,\"#7201a8\"],[0.3333333333333333,\"#9c179e\"],[0.4444444444444444,\"#bd3786\"],[0.5555555555555556,\"#d8576b\"],[0.6666666666666666,\"#ed7953\"],[0.7777777777777778,\"#fb9f3a\"],[0.8888888888888888,\"#fdca26\"],[1.0,\"#f0f921\"]],\"diverging\":[[0,\"#8e0152\"],[0.1,\"#c51b7d\"],[0.2,\"#de77ae\"],[0.3,\"#f1b6da\"],[0.4,\"#fde0ef\"],[0.5,\"#f7f7f7\"],[0.6,\"#e6f5d0\"],[0.7,\"#b8e186\"],[0.8,\"#7fbc41\"],[0.9,\"#4d9221\"],[1,\"#276419\"]]},\"xaxis\":{\"gridcolor\":\"#283442\",\"linecolor\":\"#506784\",\"ticks\":\"\",\"title\":{\"standoff\":15},\"zerolinecolor\":\"#283442\",\"automargin\":true,\"zerolinewidth\":2},\"yaxis\":{\"gridcolor\":\"#283442\",\"linecolor\":\"#506784\",\"ticks\":\"\",\"title\":{\"standoff\":15},\"zerolinecolor\":\"#283442\",\"automargin\":true,\"zerolinewidth\":2},\"scene\":{\"xaxis\":{\"backgroundcolor\":\"rgb(17,17,17)\",\"gridcolor\":\"#506784\",\"linecolor\":\"#506784\",\"showbackground\":true,\"ticks\":\"\",\"zerolinecolor\":\"#C8D4E3\",\"gridwidth\":2},\"yaxis\":{\"backgroundcolor\":\"rgb(17,17,17)\",\"gridcolor\":\"#506784\",\"linecolor\":\"#506784\",\"showbackground\":true,\"ticks\":\"\",\"zerolinecolor\":\"#C8D4E3\",\"gridwidth\":2},\"zaxis\":{\"backgroundcolor\":\"rgb(17,17,17)\",\"gridcolor\":\"#506784\",\"linecolor\":\"#506784\",\"showbackground\":true,\"ticks\":\"\",\"zerolinecolor\":\"#C8D4E3\",\"gridwidth\":2}},\"shapedefaults\":{\"line\":{\"color\":\"#f2f5fa\"}},\"annotationdefaults\":{\"arrowcolor\":\"#f2f5fa\",\"arrowhead\":0,\"arrowwidth\":1},\"geo\":{\"bgcolor\":\"rgb(17,17,17)\",\"landcolor\":\"rgb(17,17,17)\",\"subunitcolor\":\"#506784\",\"showland\":true,\"showlakes\":true,\"lakecolor\":\"rgb(17,17,17)\"},\"title\":{\"x\":0.05},\"updatemenudefaults\":{\"bgcolor\":\"#506784\",\"borderwidth\":0},\"sliderdefaults\":{\"bgcolor\":\"#C8D4E3\",\"borderwidth\":1,\"bordercolor\":\"rgb(17,17,17)\",\"tickwidth\":0},\"mapbox\":{\"style\":\"dark\"}}},\"height\":250},                        {\"responsive\": true}                    ).then(function(){\n                            \nvar gd = document.getElementById('12a6db76-50ec-4363-85ba-31cf4e728b24');\nvar x = new MutationObserver(function (mutations, observer) {{\n        var display = window.getComputedStyle(gd).display;\n        if (!display || display === 'none') {{\n            console.log([gd, 'removed!']);\n            Plotly.purge(gd);\n            observer.disconnect();\n        }}\n}});\n\n// Listen for the removal of the full notebook cells\nvar notebookContainer = gd.closest('#notebook-container');\nif (notebookContainer) {{\n    x.observe(notebookContainer, {childList: true});\n}}\n\n// Listen for the clearing of the current output cell\nvar outputEl = gd.closest('.output');\nif (outputEl) {{\n    x.observe(outputEl, {childList: true});\n}}\n\n                        })                };                });            </script>        </div>"
     },
     "metadata": {},
     "output_type": "display_data"
    }
   ],
   "source": [
    "NB_OF_NAN, NB_OF_NAN_GLOBAL, NB_MEAN_NAN = na_info\n",
    "\n",
    "indicator_na = go.Figure()\n",
    "\n",
    "indicator_na.add_trace(go.Indicator(\n",
    "    mode=\"number\", \n",
    "    value=NB_OF_NAN_GLOBAL, \n",
    "    title={\"text\": f\"NN of nan for {...}\"}\n",
    ")\n",
    ")\n",
    "indicator_na.update_layout(\n",
    "    height=250,\n",
    ")\n",
    "indicator_na.show()"
   ],
   "metadata": {
    "collapsed": false,
    "ExecuteTime": {
     "end_time": "2023-10-30T11:42:50.628519600Z",
     "start_time": "2023-10-30T11:42:50.552424700Z"
    }
   },
   "id": "875c11edb0d37168"
  },
  {
   "cell_type": "code",
   "execution_count": 18,
   "outputs": [
    {
     "data": {
      "text/plain": "        Country  Year  Access to Electricity (%)  \\\n0   Afghanistan  2000                   1.613591   \n1   Afghanistan  2001                   4.074574   \n2   Afghanistan  2002                   9.409158   \n3   Afghanistan  2003                  14.738506   \n4   Afghanistan  2004                  20.064968   \n5   Afghanistan  2005                  25.390894   \n6   Afghanistan  2006                  30.718690   \n7   Afghanistan  2007                  36.051010   \n8   Afghanistan  2008                  42.400000   \n9   Afghanistan  2009                  46.740050   \n10  Afghanistan  2010                  42.700000   \n11  Afghanistan  2011                  43.222020   \n12  Afghanistan  2012                  69.100000   \n13  Afghanistan  2013                  68.290650   \n14  Afghanistan  2014                  89.500000   \n15  Afghanistan  2015                  71.500000   \n16  Afghanistan  2016                  97.700000   \n17  Afghanistan  2017                  97.700000   \n18  Afghanistan  2018                  96.616135   \n19  Afghanistan  2019                  97.700000   \n20  Afghanistan  2020                  97.700000   \n21      Albania  2000                 100.000000   \n22      Albania  2001                 100.000000   \n23      Albania  2002                 100.000000   \n24      Albania  2003                 100.000000   \n25      Albania  2004                 100.000000   \n26      Albania  2005                 100.000000   \n27      Albania  2006                 100.000000   \n28      Albania  2007                 100.000000   \n29      Albania  2008                 100.000000   \n30      Albania  2009                 100.000000   \n31      Albania  2010                 100.000000   \n32      Albania  2011                 100.000000   \n33      Albania  2012                  99.900000   \n34      Albania  2013                 100.000000   \n35      Albania  2014                  99.950000   \n36      Albania  2015                  99.980000   \n37      Albania  2016                  99.890000   \n38      Albania  2017                  99.890000   \n39      Albania  2018                 100.000000   \n40      Albania  2019                 100.000000   \n41      Albania  2020                 100.000000   \n42      Algeria  2000                  98.973100   \n43      Algeria  2001                  98.966870   \n44      Algeria  2002                  98.953060   \n45      Algeria  2003                  98.934010   \n46      Algeria  2004                  98.912080   \n47      Algeria  2005                  98.889610   \n48      Algeria  2006                  98.869010   \n49      Algeria  2007                  98.852936   \n\n    Renewable Electricity Capacity per Capita  \\\n0                                    0.000000   \n1                                   -3.904555   \n2                                   -8.134490   \n3                                  -12.255965   \n4                                  -15.943601   \n5                                  -18.546638   \n6                                  -19.739696   \n7                                  -21.366594   \n8                                  -18.763557   \n9                                  -18.655098   \n10                                 -10.303688   \n11                                 -11.822126   \n12                                   0.759219   \n13                                  -1.301518   \n14                                  -2.928416   \n15                                  -4.663774   \n16                                   7.049892   \n17                                   6.182213   \n18                                   3.579176   \n19                                   3.904555   \n20                                   1.409978   \n21                                   0.000000   \n22                                   0.000000   \n23                                   0.000000   \n24                                   0.000000   \n25                                   0.000000   \n26                                   0.000000   \n27                                   0.000000   \n28                                   0.000000   \n29                                   0.000000   \n30                                   0.000000   \n31                                   0.000000   \n32                                   0.000000   \n33                                   0.000000   \n34                                   0.000000   \n35                                   0.000000   \n36                                   0.000000   \n37                                   0.000000   \n38                                   0.000000   \n39                                   0.000000   \n40                                   0.000000   \n41                                   0.000000   \n42                                   0.000000   \n43                                  -1.346801   \n44                                  -2.581369   \n45                                  -3.815937   \n46                                  -5.050505   \n47                                  -6.397306   \n48                                 -16.722783   \n49                                 -18.069585   \n\n    Electricity from Fossil Fuels (TWh)  Electricity from Nuclear (TWh)  \\\n0                              0.000000                             0.0   \n1                            -43.750000                             0.0   \n2                            -18.750000                             0.0   \n3                             93.750000                             0.0   \n4                            106.250000                             0.0   \n5                            112.500000                             0.0   \n6                             25.000000                             0.0   \n7                             25.000000                             0.0   \n8                             18.750000                             0.0   \n9                              0.000000                             0.0   \n10                            18.750000                             0.0   \n11                            12.500000                             0.0   \n12                           -12.500000                             0.0   \n13                            37.500000                             0.0   \n14                             0.000000                             0.0   \n15                            -6.250000                             0.0   \n16                            -6.250000                             0.0   \n17                            12.500000                             0.0   \n18                            25.000000                             0.0   \n19                            12.500000                             0.0   \n20                           -25.000000                             0.0   \n21                             0.000000                             0.0   \n22                            -7.142857                             0.0   \n23                            14.285714                             0.0   \n24                           -28.571429                             0.0   \n25                            -7.142857                             0.0   \n26                           -50.000000                             0.0   \n27                           -35.714286                             0.0   \n28                           -50.000000                             0.0   \n29                           -50.000000                             0.0   \n30                           614.285714                             0.0   \n31                           614.285714                             0.0   \n32                           -57.142857                             0.0   \n33                           614.285714                             0.0   \n34                           614.285714                             0.0   \n35                           614.285714                             0.0   \n36                           614.285714                             0.0   \n37                           614.285714                             0.0   \n38                           614.285714                             0.0   \n39                           614.285714                             0.0   \n40                           614.285714                             0.0   \n41                           614.285714                             0.0   \n42                             0.000000                             0.0   \n43                             4.697987                             0.0   \n44                             8.808725                             0.0   \n45                            15.520134                             0.0   \n46                            22.231544                             0.0   \n47                            31.543624                             0.0   \n48                            38.003356                             0.0   \n49                            45.763423                             0.0   \n\n    Electricity from Renewables (TWh)  Low-Carbon Electricity (%)  \\\n0                            0.000000                   65.957440   \n1                           61.290323                   84.745766   \n2                           80.645161                   81.159424   \n3                          103.225806                   67.021280   \n4                           80.645161                   62.921350   \n5                           90.322581                   63.440857   \n6                          106.451613                   76.190475   \n7                          141.935484                   78.947370   \n8                           74.193548                   73.972600   \n9                          151.612903                   82.978720   \n10                         141.935484                   79.787230   \n11                          93.548387                   76.923090   \n12                         138.709677                   84.090910   \n13                         187.096774                   80.180176   \n14                         222.580645                   86.206900   \n15                         232.258065                   87.288140   \n16                         241.935484                   87.603294   \n17                         251.612903                   85.826775   \n18                         212.903226                   82.905980   \n19                         187.096774                   83.177570   \n20                         119.354839                   85.000000   \n21                           0.000000                   97.014930   \n22                         -22.637363                   96.438354   \n23                         -23.516484                   95.604390   \n24                          12.527473                   98.084300   \n25                          18.901099                   97.653430   \n26                          16.923077                   98.701300   \n27                           8.791209                   98.214280   \n28                         -39.340659                   97.526505   \n29                         -17.362637                   98.172325   \n30                          14.285714                  100.000000   \n31                          64.615385                  100.000000   \n32                         -10.109890                   98.554214   \n33                           2.857143                  100.000000   \n34                          51.428571                  100.000000   \n35                           2.857143                  100.000000   \n36                          28.351648                  100.000000   \n37                          69.230769                  100.000000   \n38                          -1.538462                  100.000000   \n39                          86.153846                  100.000000   \n40                          13.626374                  100.000000   \n41                          16.703297                  100.000000   \n42                           0.000000                    0.209293   \n43                          40.000000                    0.279664   \n44                          20.000000                    0.230769   \n45                         420.000000                    0.935252   \n46                         400.000000                    0.850630   \n47                        1000.000000                    1.723598   \n48                         340.000000                    0.664251   \n49                         340.000000                    0.629111   \n\n    Primary Energy Consumption per Capita (kWh/person)  \\\n0                                            0.000000    \n1                                          -21.713184    \n2                                          -30.315347    \n3                                          -24.001270    \n4                                          -32.506693    \n5                                          -16.697477    \n6                                            0.603474    \n7                                           17.080623    \n8                                          100.873729    \n9                                          222.228966    \n10                                         290.916143    \n11                                         374.599763    \n12                                         337.588819    \n13                                         250.565353    \n14                                         187.042653    \n15                                         220.587213    \n16                                         185.130836    \n17                                         174.066803    \n18                                         205.441729    \n19                                         165.243321    \n20                                         132.286858    \n21                                           0.000000    \n22                                          -4.362459    \n23                                           4.586305    \n24                                          19.128262    \n25                                          28.324173    \n26                                          27.866393    \n27                                          21.566022    \n28                                           5.597652    \n29                                          16.278871    \n30                                          27.631738    \n31                                          37.079458    \n32                                          20.214011    \n33                                          17.978656    \n34                                          48.323459    \n35                                          30.788446    \n36                                          30.952941    \n37                                          53.096447    \n38                                          41.784690    \n39                                          61.800788    \n40                                          28.308712    \n41                                          23.573622    \n42                                           0.000000    \n43                                           2.207105    \n44                                           4.451084    \n45                                           7.838046    \n46                                          10.388298    \n47                                          14.027555    \n48                                          16.369487    \n49                                          20.655333    \n\n    CO2 Emissions (kt by country)  Renewables (% Equivalent Primary Energy)  \\\n0                        0.000000                                  1.000000   \n1                       -3.947368                                  1.000000   \n2                       35.526312                                  1.000000   \n3                       60.526320                                  1.000000   \n4                       35.526312                                  1.000000   \n5                      103.947362                                  1.000000   \n6                      131.578946                                  1.000000   \n7                      132.894734                                  1.000000   \n8                      368.421045                                  1.000000   \n9                      542.105278                                  1.000000   \n10                     835.526333                                  1.000000   \n11                    1075.000040                                  1.000000   \n12                     963.157885                                  1.000000   \n13                     688.157865                                  1.000000   \n14                     542.105278                                  1.000000   \n15                     682.894712                                  1.000000   \n16                     597.368446                                  1.000000   \n17                     528.947396                                  1.000000   \n18                     698.684233                                  1.000000   \n19                     699.999990                                  1.000000   \n20                     -99.868421                                  1.000000   \n21                       0.000000                                  1.000000   \n22                       1.892744                                  1.000000   \n23                      18.611987                                  1.000000   \n24                      28.391173                                  1.000000   \n25                      34.069401                                  1.000000   \n26                      27.129344                                  1.000000   \n27                      26.498430                                  1.000000   \n28                      30.599365                                  1.000000   \n29                      28.706622                                  1.000000   \n30                      33.123022                                  1.000000   \n31                      40.378543                                  1.000000   \n32                      52.996842                                  1.000000   \n33                      37.539436                                  1.000000   \n34                      40.063093                                  1.000000   \n35                      52.050479                                  1.000000   \n36                      45.741321                                  1.000000   \n37                      41.324922                                  1.000000   \n38                      62.145106                                  1.000000   \n39                      61.198742                                  1.000000   \n40                      52.365928                                  1.000000   \n41                     -99.968454                                  1.000000   \n42                       0.000000                                  0.053235   \n43                      -1.748907                                  0.065218   \n44                       2.935667                                  0.051677   \n45                      10.168648                                  0.228104   \n46                      11.792627                                  0.206787   \n47                      17.663963                                  0.434119   \n48                      24.684569                                  0.163272   \n49                      28.357277                                  0.159905   \n\n     GDP Growth  GDP per Capita Continent           Region iso3  \\\n0      0.000000        0.000000      Asia    Southern Asia  AFG   \n1      0.000000        0.000000      Asia    Southern Asia  AFG   \n2      0.000000    17842.657920      Asia    Southern Asia  AFG   \n3    783.227781    18968.381430      Asia    Southern Asia  AFG   \n4     41.411798    21038.207420      Asia    Southern Asia  AFG   \n5   1022.971482    24103.131320      Asia    Southern Asia  AFG   \n6    435.740325    26273.360190      Asia    Southern Asia  AFG   \n7   1282.631955    35869.315790      Asia    Southern Asia  AFG   \n8    292.498382    36366.354200      Asia    Southern Asia  AFG   \n9   2039.052839    43626.874020      Asia    Southern Asia  AFG   \n10  1336.244147    54230.652620      Asia    Southern Asia  AFG   \n11   -57.364521    59019.003020      Asia    Southern Asia  AFG   \n12  1175.228709    63784.585160      Asia    Southern Asia  AFG   \n13   460.074466    62331.545450      Asia    Southern Asia  AFG   \n14   172.454336    61322.334240      Asia    Southern Asia  AFG   \n15    45.131466    55500.722090      Asia    Southern Asia  AFG   \n16   126.031420    51101.277810      Asia    Southern Asia  AFG   \n17   164.700320    51567.986220      Asia    Southern Asia  AFG   \n18    18.922813    48466.841870      Asia    Southern Asia  AFG   \n19   291.160342    49317.934990      Asia    Southern Asia  AFG   \n20  -335.110067    51574.787080      Asia    Southern Asia  AFG   \n21     0.000000        0.000000    Europe  Southern Europe  ALB   \n22    19.393234       13.755106    Europe  Southern Europe  ALB   \n23   -34.690718       26.488443    Europe  Southern Europe  ALB   \n24   -20.407931       63.854391    Europe  Southern Europe  ALB   \n25   -20.609042      110.669778    Europe  Southern Europe  ALB   \n26   -20.439794      137.314824    Europe  Southern Europe  ALB   \n27   -15.023395      163.849018    Europe  Southern Europe  ALB   \n28   -13.863044      219.081496    Europe  Southern Europe  ALB   \n29     7.973043      287.912004    Europe  Southern Europe  ALB   \n30   -51.710556      265.154498    Europe  Southern Europe  ALB   \n31   -46.633709      263.398325    Europe  Southern Europe  ALB   \n32   -63.355503      293.823398    Europe  Southern Europe  ALB   \n33   -79.596910      277.003005    Europe  Southern Europe  ALB   \n34   -85.574629      291.686097    Europe  Southern Europe  ALB   \n35   -74.454455      306.381549    Europe  Southern Europe  ALB   \n36   -68.058491      250.835270    Europe  Southern Europe  ALB   \n37   -52.276457      266.035002    Europe  Southern Europe  ALB   \n38   -45.261894      302.155531    Europe  Southern Europe  ALB   \n39   -42.135987      369.312318    Europe  Southern Europe  ALB   \n40   -69.574516      378.897605    Europe  Southern Europe  ALB   \n41  -156.943199      365.640355    Europe  Southern Europe  ALB   \n42     0.000000        0.000000    Africa  Northern Africa  DZA   \n43   -21.052632       -1.383576    Africa  Northern Africa  DZA   \n44    47.368421        0.951927    Africa  Northern Africa  DZA   \n45    89.473684       19.169912    Africa  Northern Africa  DZA   \n46    13.157895       47.883585    Africa  Northern Africa  DZA   \n47    55.263158       76.376601    Africa  Northern Africa  DZA   \n48   -55.263158       97.091020    Africa  Northern Africa  DZA   \n49   -10.526316      123.821656    Africa  Northern Africa  DZA   \n\n    Human Development Index  \n0                  0.000000  \n1                  0.597015  \n2                  8.059701  \n3                 12.238806  \n4                 17.014925  \n5                 19.402985  \n6                 22.089552  \n7                 26.567164  \n8                 28.358209  \n9                 31.343284  \n10                33.731343  \n11                36.119403  \n12                39.104478  \n13                41.492537  \n14                42.985075  \n15                42.686567  \n16                43.582090  \n17                43.880597  \n18                44.179104  \n19                45.671642  \n20                44.179104  \n21                 0.000000  \n22                 1.033973  \n23                 1.772526  \n24                 2.806499  \n25                 3.397341  \n26                 5.022157  \n27                 6.056130  \n28                 7.828656  \n29                 8.714919  \n30                 9.453471  \n31                11.373708  \n32                13.146233  \n33                14.918759  \n34                15.952733  \n35                16.986706  \n36                17.429838  \n37                17.872969  \n38                18.463811  \n39                19.054653  \n40                19.645495  \n41                17.282127  \n42                 0.000000  \n43                 0.924499  \n44                 2.311248  \n45                 3.235747  \n46                 4.468413  \n47                 5.546995  \n48                 6.317411  \n49                 7.395994  ",
      "text/html": "<div>\n<style scoped>\n    .dataframe tbody tr th:only-of-type {\n        vertical-align: middle;\n    }\n\n    .dataframe tbody tr th {\n        vertical-align: top;\n    }\n\n    .dataframe thead th {\n        text-align: right;\n    }\n</style>\n<table border=\"1\" class=\"dataframe\">\n  <thead>\n    <tr style=\"text-align: right;\">\n      <th></th>\n      <th>Country</th>\n      <th>Year</th>\n      <th>Access to Electricity (%)</th>\n      <th>Renewable Electricity Capacity per Capita</th>\n      <th>Electricity from Fossil Fuels (TWh)</th>\n      <th>Electricity from Nuclear (TWh)</th>\n      <th>Electricity from Renewables (TWh)</th>\n      <th>Low-Carbon Electricity (%)</th>\n      <th>Primary Energy Consumption per Capita (kWh/person)</th>\n      <th>CO2 Emissions (kt by country)</th>\n      <th>Renewables (% Equivalent Primary Energy)</th>\n      <th>GDP Growth</th>\n      <th>GDP per Capita</th>\n      <th>Continent</th>\n      <th>Region</th>\n      <th>iso3</th>\n      <th>Human Development Index</th>\n    </tr>\n  </thead>\n  <tbody>\n    <tr>\n      <th>0</th>\n      <td>Afghanistan</td>\n      <td>2000</td>\n      <td>1.613591</td>\n      <td>0.000000</td>\n      <td>0.000000</td>\n      <td>0.0</td>\n      <td>0.000000</td>\n      <td>65.957440</td>\n      <td>0.000000</td>\n      <td>0.000000</td>\n      <td>1.000000</td>\n      <td>0.000000</td>\n      <td>0.000000</td>\n      <td>Asia</td>\n      <td>Southern Asia</td>\n      <td>AFG</td>\n      <td>0.000000</td>\n    </tr>\n    <tr>\n      <th>1</th>\n      <td>Afghanistan</td>\n      <td>2001</td>\n      <td>4.074574</td>\n      <td>-3.904555</td>\n      <td>-43.750000</td>\n      <td>0.0</td>\n      <td>61.290323</td>\n      <td>84.745766</td>\n      <td>-21.713184</td>\n      <td>-3.947368</td>\n      <td>1.000000</td>\n      <td>0.000000</td>\n      <td>0.000000</td>\n      <td>Asia</td>\n      <td>Southern Asia</td>\n      <td>AFG</td>\n      <td>0.597015</td>\n    </tr>\n    <tr>\n      <th>2</th>\n      <td>Afghanistan</td>\n      <td>2002</td>\n      <td>9.409158</td>\n      <td>-8.134490</td>\n      <td>-18.750000</td>\n      <td>0.0</td>\n      <td>80.645161</td>\n      <td>81.159424</td>\n      <td>-30.315347</td>\n      <td>35.526312</td>\n      <td>1.000000</td>\n      <td>0.000000</td>\n      <td>17842.657920</td>\n      <td>Asia</td>\n      <td>Southern Asia</td>\n      <td>AFG</td>\n      <td>8.059701</td>\n    </tr>\n    <tr>\n      <th>3</th>\n      <td>Afghanistan</td>\n      <td>2003</td>\n      <td>14.738506</td>\n      <td>-12.255965</td>\n      <td>93.750000</td>\n      <td>0.0</td>\n      <td>103.225806</td>\n      <td>67.021280</td>\n      <td>-24.001270</td>\n      <td>60.526320</td>\n      <td>1.000000</td>\n      <td>783.227781</td>\n      <td>18968.381430</td>\n      <td>Asia</td>\n      <td>Southern Asia</td>\n      <td>AFG</td>\n      <td>12.238806</td>\n    </tr>\n    <tr>\n      <th>4</th>\n      <td>Afghanistan</td>\n      <td>2004</td>\n      <td>20.064968</td>\n      <td>-15.943601</td>\n      <td>106.250000</td>\n      <td>0.0</td>\n      <td>80.645161</td>\n      <td>62.921350</td>\n      <td>-32.506693</td>\n      <td>35.526312</td>\n      <td>1.000000</td>\n      <td>41.411798</td>\n      <td>21038.207420</td>\n      <td>Asia</td>\n      <td>Southern Asia</td>\n      <td>AFG</td>\n      <td>17.014925</td>\n    </tr>\n    <tr>\n      <th>5</th>\n      <td>Afghanistan</td>\n      <td>2005</td>\n      <td>25.390894</td>\n      <td>-18.546638</td>\n      <td>112.500000</td>\n      <td>0.0</td>\n      <td>90.322581</td>\n      <td>63.440857</td>\n      <td>-16.697477</td>\n      <td>103.947362</td>\n      <td>1.000000</td>\n      <td>1022.971482</td>\n      <td>24103.131320</td>\n      <td>Asia</td>\n      <td>Southern Asia</td>\n      <td>AFG</td>\n      <td>19.402985</td>\n    </tr>\n    <tr>\n      <th>6</th>\n      <td>Afghanistan</td>\n      <td>2006</td>\n      <td>30.718690</td>\n      <td>-19.739696</td>\n      <td>25.000000</td>\n      <td>0.0</td>\n      <td>106.451613</td>\n      <td>76.190475</td>\n      <td>0.603474</td>\n      <td>131.578946</td>\n      <td>1.000000</td>\n      <td>435.740325</td>\n      <td>26273.360190</td>\n      <td>Asia</td>\n      <td>Southern Asia</td>\n      <td>AFG</td>\n      <td>22.089552</td>\n    </tr>\n    <tr>\n      <th>7</th>\n      <td>Afghanistan</td>\n      <td>2007</td>\n      <td>36.051010</td>\n      <td>-21.366594</td>\n      <td>25.000000</td>\n      <td>0.0</td>\n      <td>141.935484</td>\n      <td>78.947370</td>\n      <td>17.080623</td>\n      <td>132.894734</td>\n      <td>1.000000</td>\n      <td>1282.631955</td>\n      <td>35869.315790</td>\n      <td>Asia</td>\n      <td>Southern Asia</td>\n      <td>AFG</td>\n      <td>26.567164</td>\n    </tr>\n    <tr>\n      <th>8</th>\n      <td>Afghanistan</td>\n      <td>2008</td>\n      <td>42.400000</td>\n      <td>-18.763557</td>\n      <td>18.750000</td>\n      <td>0.0</td>\n      <td>74.193548</td>\n      <td>73.972600</td>\n      <td>100.873729</td>\n      <td>368.421045</td>\n      <td>1.000000</td>\n      <td>292.498382</td>\n      <td>36366.354200</td>\n      <td>Asia</td>\n      <td>Southern Asia</td>\n      <td>AFG</td>\n      <td>28.358209</td>\n    </tr>\n    <tr>\n      <th>9</th>\n      <td>Afghanistan</td>\n      <td>2009</td>\n      <td>46.740050</td>\n      <td>-18.655098</td>\n      <td>0.000000</td>\n      <td>0.0</td>\n      <td>151.612903</td>\n      <td>82.978720</td>\n      <td>222.228966</td>\n      <td>542.105278</td>\n      <td>1.000000</td>\n      <td>2039.052839</td>\n      <td>43626.874020</td>\n      <td>Asia</td>\n      <td>Southern Asia</td>\n      <td>AFG</td>\n      <td>31.343284</td>\n    </tr>\n    <tr>\n      <th>10</th>\n      <td>Afghanistan</td>\n      <td>2010</td>\n      <td>42.700000</td>\n      <td>-10.303688</td>\n      <td>18.750000</td>\n      <td>0.0</td>\n      <td>141.935484</td>\n      <td>79.787230</td>\n      <td>290.916143</td>\n      <td>835.526333</td>\n      <td>1.000000</td>\n      <td>1336.244147</td>\n      <td>54230.652620</td>\n      <td>Asia</td>\n      <td>Southern Asia</td>\n      <td>AFG</td>\n      <td>33.731343</td>\n    </tr>\n    <tr>\n      <th>11</th>\n      <td>Afghanistan</td>\n      <td>2011</td>\n      <td>43.222020</td>\n      <td>-11.822126</td>\n      <td>12.500000</td>\n      <td>0.0</td>\n      <td>93.548387</td>\n      <td>76.923090</td>\n      <td>374.599763</td>\n      <td>1075.000040</td>\n      <td>1.000000</td>\n      <td>-57.364521</td>\n      <td>59019.003020</td>\n      <td>Asia</td>\n      <td>Southern Asia</td>\n      <td>AFG</td>\n      <td>36.119403</td>\n    </tr>\n    <tr>\n      <th>12</th>\n      <td>Afghanistan</td>\n      <td>2012</td>\n      <td>69.100000</td>\n      <td>0.759219</td>\n      <td>-12.500000</td>\n      <td>0.0</td>\n      <td>138.709677</td>\n      <td>84.090910</td>\n      <td>337.588819</td>\n      <td>963.157885</td>\n      <td>1.000000</td>\n      <td>1175.228709</td>\n      <td>63784.585160</td>\n      <td>Asia</td>\n      <td>Southern Asia</td>\n      <td>AFG</td>\n      <td>39.104478</td>\n    </tr>\n    <tr>\n      <th>13</th>\n      <td>Afghanistan</td>\n      <td>2013</td>\n      <td>68.290650</td>\n      <td>-1.301518</td>\n      <td>37.500000</td>\n      <td>0.0</td>\n      <td>187.096774</td>\n      <td>80.180176</td>\n      <td>250.565353</td>\n      <td>688.157865</td>\n      <td>1.000000</td>\n      <td>460.074466</td>\n      <td>62331.545450</td>\n      <td>Asia</td>\n      <td>Southern Asia</td>\n      <td>AFG</td>\n      <td>41.492537</td>\n    </tr>\n    <tr>\n      <th>14</th>\n      <td>Afghanistan</td>\n      <td>2014</td>\n      <td>89.500000</td>\n      <td>-2.928416</td>\n      <td>0.000000</td>\n      <td>0.0</td>\n      <td>222.580645</td>\n      <td>86.206900</td>\n      <td>187.042653</td>\n      <td>542.105278</td>\n      <td>1.000000</td>\n      <td>172.454336</td>\n      <td>61322.334240</td>\n      <td>Asia</td>\n      <td>Southern Asia</td>\n      <td>AFG</td>\n      <td>42.985075</td>\n    </tr>\n    <tr>\n      <th>15</th>\n      <td>Afghanistan</td>\n      <td>2015</td>\n      <td>71.500000</td>\n      <td>-4.663774</td>\n      <td>-6.250000</td>\n      <td>0.0</td>\n      <td>232.258065</td>\n      <td>87.288140</td>\n      <td>220.587213</td>\n      <td>682.894712</td>\n      <td>1.000000</td>\n      <td>45.131466</td>\n      <td>55500.722090</td>\n      <td>Asia</td>\n      <td>Southern Asia</td>\n      <td>AFG</td>\n      <td>42.686567</td>\n    </tr>\n    <tr>\n      <th>16</th>\n      <td>Afghanistan</td>\n      <td>2016</td>\n      <td>97.700000</td>\n      <td>7.049892</td>\n      <td>-6.250000</td>\n      <td>0.0</td>\n      <td>241.935484</td>\n      <td>87.603294</td>\n      <td>185.130836</td>\n      <td>597.368446</td>\n      <td>1.000000</td>\n      <td>126.031420</td>\n      <td>51101.277810</td>\n      <td>Asia</td>\n      <td>Southern Asia</td>\n      <td>AFG</td>\n      <td>43.582090</td>\n    </tr>\n    <tr>\n      <th>17</th>\n      <td>Afghanistan</td>\n      <td>2017</td>\n      <td>97.700000</td>\n      <td>6.182213</td>\n      <td>12.500000</td>\n      <td>0.0</td>\n      <td>251.612903</td>\n      <td>85.826775</td>\n      <td>174.066803</td>\n      <td>528.947396</td>\n      <td>1.000000</td>\n      <td>164.700320</td>\n      <td>51567.986220</td>\n      <td>Asia</td>\n      <td>Southern Asia</td>\n      <td>AFG</td>\n      <td>43.880597</td>\n    </tr>\n    <tr>\n      <th>18</th>\n      <td>Afghanistan</td>\n      <td>2018</td>\n      <td>96.616135</td>\n      <td>3.579176</td>\n      <td>25.000000</td>\n      <td>0.0</td>\n      <td>212.903226</td>\n      <td>82.905980</td>\n      <td>205.441729</td>\n      <td>698.684233</td>\n      <td>1.000000</td>\n      <td>18.922813</td>\n      <td>48466.841870</td>\n      <td>Asia</td>\n      <td>Southern Asia</td>\n      <td>AFG</td>\n      <td>44.179104</td>\n    </tr>\n    <tr>\n      <th>19</th>\n      <td>Afghanistan</td>\n      <td>2019</td>\n      <td>97.700000</td>\n      <td>3.904555</td>\n      <td>12.500000</td>\n      <td>0.0</td>\n      <td>187.096774</td>\n      <td>83.177570</td>\n      <td>165.243321</td>\n      <td>699.999990</td>\n      <td>1.000000</td>\n      <td>291.160342</td>\n      <td>49317.934990</td>\n      <td>Asia</td>\n      <td>Southern Asia</td>\n      <td>AFG</td>\n      <td>45.671642</td>\n    </tr>\n    <tr>\n      <th>20</th>\n      <td>Afghanistan</td>\n      <td>2020</td>\n      <td>97.700000</td>\n      <td>1.409978</td>\n      <td>-25.000000</td>\n      <td>0.0</td>\n      <td>119.354839</td>\n      <td>85.000000</td>\n      <td>132.286858</td>\n      <td>-99.868421</td>\n      <td>1.000000</td>\n      <td>-335.110067</td>\n      <td>51574.787080</td>\n      <td>Asia</td>\n      <td>Southern Asia</td>\n      <td>AFG</td>\n      <td>44.179104</td>\n    </tr>\n    <tr>\n      <th>21</th>\n      <td>Albania</td>\n      <td>2000</td>\n      <td>100.000000</td>\n      <td>0.000000</td>\n      <td>0.000000</td>\n      <td>0.0</td>\n      <td>0.000000</td>\n      <td>97.014930</td>\n      <td>0.000000</td>\n      <td>0.000000</td>\n      <td>1.000000</td>\n      <td>0.000000</td>\n      <td>0.000000</td>\n      <td>Europe</td>\n      <td>Southern Europe</td>\n      <td>ALB</td>\n      <td>0.000000</td>\n    </tr>\n    <tr>\n      <th>22</th>\n      <td>Albania</td>\n      <td>2001</td>\n      <td>100.000000</td>\n      <td>0.000000</td>\n      <td>-7.142857</td>\n      <td>0.0</td>\n      <td>-22.637363</td>\n      <td>96.438354</td>\n      <td>-4.362459</td>\n      <td>1.892744</td>\n      <td>1.000000</td>\n      <td>19.393234</td>\n      <td>13.755106</td>\n      <td>Europe</td>\n      <td>Southern Europe</td>\n      <td>ALB</td>\n      <td>1.033973</td>\n    </tr>\n    <tr>\n      <th>23</th>\n      <td>Albania</td>\n      <td>2002</td>\n      <td>100.000000</td>\n      <td>0.000000</td>\n      <td>14.285714</td>\n      <td>0.0</td>\n      <td>-23.516484</td>\n      <td>95.604390</td>\n      <td>4.586305</td>\n      <td>18.611987</td>\n      <td>1.000000</td>\n      <td>-34.690718</td>\n      <td>26.488443</td>\n      <td>Europe</td>\n      <td>Southern Europe</td>\n      <td>ALB</td>\n      <td>1.772526</td>\n    </tr>\n    <tr>\n      <th>24</th>\n      <td>Albania</td>\n      <td>2003</td>\n      <td>100.000000</td>\n      <td>0.000000</td>\n      <td>-28.571429</td>\n      <td>0.0</td>\n      <td>12.527473</td>\n      <td>98.084300</td>\n      <td>19.128262</td>\n      <td>28.391173</td>\n      <td>1.000000</td>\n      <td>-20.407931</td>\n      <td>63.854391</td>\n      <td>Europe</td>\n      <td>Southern Europe</td>\n      <td>ALB</td>\n      <td>2.806499</td>\n    </tr>\n    <tr>\n      <th>25</th>\n      <td>Albania</td>\n      <td>2004</td>\n      <td>100.000000</td>\n      <td>0.000000</td>\n      <td>-7.142857</td>\n      <td>0.0</td>\n      <td>18.901099</td>\n      <td>97.653430</td>\n      <td>28.324173</td>\n      <td>34.069401</td>\n      <td>1.000000</td>\n      <td>-20.609042</td>\n      <td>110.669778</td>\n      <td>Europe</td>\n      <td>Southern Europe</td>\n      <td>ALB</td>\n      <td>3.397341</td>\n    </tr>\n    <tr>\n      <th>26</th>\n      <td>Albania</td>\n      <td>2005</td>\n      <td>100.000000</td>\n      <td>0.000000</td>\n      <td>-50.000000</td>\n      <td>0.0</td>\n      <td>16.923077</td>\n      <td>98.701300</td>\n      <td>27.866393</td>\n      <td>27.129344</td>\n      <td>1.000000</td>\n      <td>-20.439794</td>\n      <td>137.314824</td>\n      <td>Europe</td>\n      <td>Southern Europe</td>\n      <td>ALB</td>\n      <td>5.022157</td>\n    </tr>\n    <tr>\n      <th>27</th>\n      <td>Albania</td>\n      <td>2006</td>\n      <td>100.000000</td>\n      <td>0.000000</td>\n      <td>-35.714286</td>\n      <td>0.0</td>\n      <td>8.791209</td>\n      <td>98.214280</td>\n      <td>21.566022</td>\n      <td>26.498430</td>\n      <td>1.000000</td>\n      <td>-15.023395</td>\n      <td>163.849018</td>\n      <td>Europe</td>\n      <td>Southern Europe</td>\n      <td>ALB</td>\n      <td>6.056130</td>\n    </tr>\n    <tr>\n      <th>28</th>\n      <td>Albania</td>\n      <td>2007</td>\n      <td>100.000000</td>\n      <td>0.000000</td>\n      <td>-50.000000</td>\n      <td>0.0</td>\n      <td>-39.340659</td>\n      <td>97.526505</td>\n      <td>5.597652</td>\n      <td>30.599365</td>\n      <td>1.000000</td>\n      <td>-13.863044</td>\n      <td>219.081496</td>\n      <td>Europe</td>\n      <td>Southern Europe</td>\n      <td>ALB</td>\n      <td>7.828656</td>\n    </tr>\n    <tr>\n      <th>29</th>\n      <td>Albania</td>\n      <td>2008</td>\n      <td>100.000000</td>\n      <td>0.000000</td>\n      <td>-50.000000</td>\n      <td>0.0</td>\n      <td>-17.362637</td>\n      <td>98.172325</td>\n      <td>16.278871</td>\n      <td>28.706622</td>\n      <td>1.000000</td>\n      <td>7.973043</td>\n      <td>287.912004</td>\n      <td>Europe</td>\n      <td>Southern Europe</td>\n      <td>ALB</td>\n      <td>8.714919</td>\n    </tr>\n    <tr>\n      <th>30</th>\n      <td>Albania</td>\n      <td>2009</td>\n      <td>100.000000</td>\n      <td>0.000000</td>\n      <td>614.285714</td>\n      <td>0.0</td>\n      <td>14.285714</td>\n      <td>100.000000</td>\n      <td>27.631738</td>\n      <td>33.123022</td>\n      <td>1.000000</td>\n      <td>-51.710556</td>\n      <td>265.154498</td>\n      <td>Europe</td>\n      <td>Southern Europe</td>\n      <td>ALB</td>\n      <td>9.453471</td>\n    </tr>\n    <tr>\n      <th>31</th>\n      <td>Albania</td>\n      <td>2010</td>\n      <td>100.000000</td>\n      <td>0.000000</td>\n      <td>614.285714</td>\n      <td>0.0</td>\n      <td>64.615385</td>\n      <td>100.000000</td>\n      <td>37.079458</td>\n      <td>40.378543</td>\n      <td>1.000000</td>\n      <td>-46.633709</td>\n      <td>263.398325</td>\n      <td>Europe</td>\n      <td>Southern Europe</td>\n      <td>ALB</td>\n      <td>11.373708</td>\n    </tr>\n    <tr>\n      <th>32</th>\n      <td>Albania</td>\n      <td>2011</td>\n      <td>100.000000</td>\n      <td>0.000000</td>\n      <td>-57.142857</td>\n      <td>0.0</td>\n      <td>-10.109890</td>\n      <td>98.554214</td>\n      <td>20.214011</td>\n      <td>52.996842</td>\n      <td>1.000000</td>\n      <td>-63.355503</td>\n      <td>293.823398</td>\n      <td>Europe</td>\n      <td>Southern Europe</td>\n      <td>ALB</td>\n      <td>13.146233</td>\n    </tr>\n    <tr>\n      <th>33</th>\n      <td>Albania</td>\n      <td>2012</td>\n      <td>99.900000</td>\n      <td>0.000000</td>\n      <td>614.285714</td>\n      <td>0.0</td>\n      <td>2.857143</td>\n      <td>100.000000</td>\n      <td>17.978656</td>\n      <td>37.539436</td>\n      <td>1.000000</td>\n      <td>-79.596910</td>\n      <td>277.003005</td>\n      <td>Europe</td>\n      <td>Southern Europe</td>\n      <td>ALB</td>\n      <td>14.918759</td>\n    </tr>\n    <tr>\n      <th>34</th>\n      <td>Albania</td>\n      <td>2013</td>\n      <td>100.000000</td>\n      <td>0.000000</td>\n      <td>614.285714</td>\n      <td>0.0</td>\n      <td>51.428571</td>\n      <td>100.000000</td>\n      <td>48.323459</td>\n      <td>40.063093</td>\n      <td>1.000000</td>\n      <td>-85.574629</td>\n      <td>291.686097</td>\n      <td>Europe</td>\n      <td>Southern Europe</td>\n      <td>ALB</td>\n      <td>15.952733</td>\n    </tr>\n    <tr>\n      <th>35</th>\n      <td>Albania</td>\n      <td>2014</td>\n      <td>99.950000</td>\n      <td>0.000000</td>\n      <td>614.285714</td>\n      <td>0.0</td>\n      <td>2.857143</td>\n      <td>100.000000</td>\n      <td>30.788446</td>\n      <td>52.050479</td>\n      <td>1.000000</td>\n      <td>-74.454455</td>\n      <td>306.381549</td>\n      <td>Europe</td>\n      <td>Southern Europe</td>\n      <td>ALB</td>\n      <td>16.986706</td>\n    </tr>\n    <tr>\n      <th>36</th>\n      <td>Albania</td>\n      <td>2015</td>\n      <td>99.980000</td>\n      <td>0.000000</td>\n      <td>614.285714</td>\n      <td>0.0</td>\n      <td>28.351648</td>\n      <td>100.000000</td>\n      <td>30.952941</td>\n      <td>45.741321</td>\n      <td>1.000000</td>\n      <td>-68.058491</td>\n      <td>250.835270</td>\n      <td>Europe</td>\n      <td>Southern Europe</td>\n      <td>ALB</td>\n      <td>17.429838</td>\n    </tr>\n    <tr>\n      <th>37</th>\n      <td>Albania</td>\n      <td>2016</td>\n      <td>99.890000</td>\n      <td>0.000000</td>\n      <td>614.285714</td>\n      <td>0.0</td>\n      <td>69.230769</td>\n      <td>100.000000</td>\n      <td>53.096447</td>\n      <td>41.324922</td>\n      <td>1.000000</td>\n      <td>-52.276457</td>\n      <td>266.035002</td>\n      <td>Europe</td>\n      <td>Southern Europe</td>\n      <td>ALB</td>\n      <td>17.872969</td>\n    </tr>\n    <tr>\n      <th>38</th>\n      <td>Albania</td>\n      <td>2017</td>\n      <td>99.890000</td>\n      <td>0.000000</td>\n      <td>614.285714</td>\n      <td>0.0</td>\n      <td>-1.538462</td>\n      <td>100.000000</td>\n      <td>41.784690</td>\n      <td>62.145106</td>\n      <td>1.000000</td>\n      <td>-45.261894</td>\n      <td>302.155531</td>\n      <td>Europe</td>\n      <td>Southern Europe</td>\n      <td>ALB</td>\n      <td>18.463811</td>\n    </tr>\n    <tr>\n      <th>39</th>\n      <td>Albania</td>\n      <td>2018</td>\n      <td>100.000000</td>\n      <td>0.000000</td>\n      <td>614.285714</td>\n      <td>0.0</td>\n      <td>86.153846</td>\n      <td>100.000000</td>\n      <td>61.800788</td>\n      <td>61.198742</td>\n      <td>1.000000</td>\n      <td>-42.135987</td>\n      <td>369.312318</td>\n      <td>Europe</td>\n      <td>Southern Europe</td>\n      <td>ALB</td>\n      <td>19.054653</td>\n    </tr>\n    <tr>\n      <th>40</th>\n      <td>Albania</td>\n      <td>2019</td>\n      <td>100.000000</td>\n      <td>0.000000</td>\n      <td>614.285714</td>\n      <td>0.0</td>\n      <td>13.626374</td>\n      <td>100.000000</td>\n      <td>28.308712</td>\n      <td>52.365928</td>\n      <td>1.000000</td>\n      <td>-69.574516</td>\n      <td>378.897605</td>\n      <td>Europe</td>\n      <td>Southern Europe</td>\n      <td>ALB</td>\n      <td>19.645495</td>\n    </tr>\n    <tr>\n      <th>41</th>\n      <td>Albania</td>\n      <td>2020</td>\n      <td>100.000000</td>\n      <td>0.000000</td>\n      <td>614.285714</td>\n      <td>0.0</td>\n      <td>16.703297</td>\n      <td>100.000000</td>\n      <td>23.573622</td>\n      <td>-99.968454</td>\n      <td>1.000000</td>\n      <td>-156.943199</td>\n      <td>365.640355</td>\n      <td>Europe</td>\n      <td>Southern Europe</td>\n      <td>ALB</td>\n      <td>17.282127</td>\n    </tr>\n    <tr>\n      <th>42</th>\n      <td>Algeria</td>\n      <td>2000</td>\n      <td>98.973100</td>\n      <td>0.000000</td>\n      <td>0.000000</td>\n      <td>0.0</td>\n      <td>0.000000</td>\n      <td>0.209293</td>\n      <td>0.000000</td>\n      <td>0.000000</td>\n      <td>0.053235</td>\n      <td>0.000000</td>\n      <td>0.000000</td>\n      <td>Africa</td>\n      <td>Northern Africa</td>\n      <td>DZA</td>\n      <td>0.000000</td>\n    </tr>\n    <tr>\n      <th>43</th>\n      <td>Algeria</td>\n      <td>2001</td>\n      <td>98.966870</td>\n      <td>-1.346801</td>\n      <td>4.697987</td>\n      <td>0.0</td>\n      <td>40.000000</td>\n      <td>0.279664</td>\n      <td>2.207105</td>\n      <td>-1.748907</td>\n      <td>0.065218</td>\n      <td>-21.052632</td>\n      <td>-1.383576</td>\n      <td>Africa</td>\n      <td>Northern Africa</td>\n      <td>DZA</td>\n      <td>0.924499</td>\n    </tr>\n    <tr>\n      <th>44</th>\n      <td>Algeria</td>\n      <td>2002</td>\n      <td>98.953060</td>\n      <td>-2.581369</td>\n      <td>8.808725</td>\n      <td>0.0</td>\n      <td>20.000000</td>\n      <td>0.230769</td>\n      <td>4.451084</td>\n      <td>2.935667</td>\n      <td>0.051677</td>\n      <td>47.368421</td>\n      <td>0.951927</td>\n      <td>Africa</td>\n      <td>Northern Africa</td>\n      <td>DZA</td>\n      <td>2.311248</td>\n    </tr>\n    <tr>\n      <th>45</th>\n      <td>Algeria</td>\n      <td>2003</td>\n      <td>98.934010</td>\n      <td>-3.815937</td>\n      <td>15.520134</td>\n      <td>0.0</td>\n      <td>420.000000</td>\n      <td>0.935252</td>\n      <td>7.838046</td>\n      <td>10.168648</td>\n      <td>0.228104</td>\n      <td>89.473684</td>\n      <td>19.169912</td>\n      <td>Africa</td>\n      <td>Northern Africa</td>\n      <td>DZA</td>\n      <td>3.235747</td>\n    </tr>\n    <tr>\n      <th>46</th>\n      <td>Algeria</td>\n      <td>2004</td>\n      <td>98.912080</td>\n      <td>-5.050505</td>\n      <td>22.231544</td>\n      <td>0.0</td>\n      <td>400.000000</td>\n      <td>0.850630</td>\n      <td>10.388298</td>\n      <td>11.792627</td>\n      <td>0.206787</td>\n      <td>13.157895</td>\n      <td>47.883585</td>\n      <td>Africa</td>\n      <td>Northern Africa</td>\n      <td>DZA</td>\n      <td>4.468413</td>\n    </tr>\n    <tr>\n      <th>47</th>\n      <td>Algeria</td>\n      <td>2005</td>\n      <td>98.889610</td>\n      <td>-6.397306</td>\n      <td>31.543624</td>\n      <td>0.0</td>\n      <td>1000.000000</td>\n      <td>1.723598</td>\n      <td>14.027555</td>\n      <td>17.663963</td>\n      <td>0.434119</td>\n      <td>55.263158</td>\n      <td>76.376601</td>\n      <td>Africa</td>\n      <td>Northern Africa</td>\n      <td>DZA</td>\n      <td>5.546995</td>\n    </tr>\n    <tr>\n      <th>48</th>\n      <td>Algeria</td>\n      <td>2006</td>\n      <td>98.869010</td>\n      <td>-16.722783</td>\n      <td>38.003356</td>\n      <td>0.0</td>\n      <td>340.000000</td>\n      <td>0.664251</td>\n      <td>16.369487</td>\n      <td>24.684569</td>\n      <td>0.163272</td>\n      <td>-55.263158</td>\n      <td>97.091020</td>\n      <td>Africa</td>\n      <td>Northern Africa</td>\n      <td>DZA</td>\n      <td>6.317411</td>\n    </tr>\n    <tr>\n      <th>49</th>\n      <td>Algeria</td>\n      <td>2007</td>\n      <td>98.852936</td>\n      <td>-18.069585</td>\n      <td>45.763423</td>\n      <td>0.0</td>\n      <td>340.000000</td>\n      <td>0.629111</td>\n      <td>20.655333</td>\n      <td>28.357277</td>\n      <td>0.159905</td>\n      <td>-10.526316</td>\n      <td>123.821656</td>\n      <td>Africa</td>\n      <td>Northern Africa</td>\n      <td>DZA</td>\n      <td>7.395994</td>\n    </tr>\n  </tbody>\n</table>\n</div>"
     },
     "execution_count": 18,
     "metadata": {},
     "output_type": "execute_result"
    }
   ],
   "source": [
    "# Copiez le dataframe original pour travailler sur une copie\n",
    "df_normalized = df_energy.copy()\n",
    "\n",
    "# FIXME : remplmacer uniquement les 0\n",
    "df_normalized.replace({np.nan: 1, 0: 1}, inplace=True)\n",
    "\n",
    "# Sélectionnez les colonnes contenant des variables quantitatives à normaliser\n",
    "cols_to_normalize = df_normalized.columns.difference(['Country', 'Year', 'Continent', 'Region', 'iso3', 'Access to Electricity (%)', 'Low-Carbon Electricity (%)', 'Renewables (% Equivalent Primary Energy)'])  \n",
    "# Exclure les colonnes non numériques et celle qui sont deja en %\n",
    "\n",
    "# On teste s'il n'y a pas de valeur restante non numérique\n",
    "df_normalized[cols_to_normalize].apply(lambda s: pd.to_numeric(s, errors='coerce').notnull().all())\n",
    "# ADDDOC : Sur ce qu'on fait\n",
    "# Créez un masque pour exclure les années autres que 2000\n",
    "mask_2000 = (df_normalized['Year'] == 2000)\n",
    "df_normalized_2000 = df_normalized[mask_2000][cols_to_normalize].reindex(df_normalized.index, method='pad')\n",
    "# TODO : Ajouter le param, fill_na \n",
    "\n",
    "\n",
    "# HELP : test\n",
    "\"\"\"\n",
    "Le but est d'avoir des nan en sortie pour pas tracer des lines à 0\n",
    "Mais ne pas diviser par 0 ou nan\n",
    "\"\"\"\n",
    "df_normalized[cols_to_normalize] = ((df_normalized[cols_to_normalize] - df_normalized_2000[cols_to_normalize]) / df_normalized_2000) * 100\n",
    "\n",
    "\n",
    "df_normalized.head(50)"
   ],
   "metadata": {
    "collapsed": false,
    "ExecuteTime": {
     "end_time": "2023-10-30T11:42:50.641561500Z",
     "start_time": "2023-10-30T11:42:50.565395Z"
    }
   },
   "id": "27cfedb8adb228b5"
  },
  {
   "cell_type": "code",
   "execution_count": 53,
   "outputs": [
    {
     "data": {
      "text/plain": "                                                Country  \\\nYear                                                      \n2000  AfghanistanArmeniaAzerbaijanBahrainBangladeshB...   \n2001  AfghanistanArmeniaAzerbaijanBahrainBangladeshB...   \n2002  AfghanistanArmeniaAzerbaijanBahrainBangladeshB...   \n2003  AfghanistanArmeniaAzerbaijanBahrainBangladeshB...   \n2004  AfghanistanArmeniaAzerbaijanBahrainBangladeshB...   \n\n      Access to Electricity (%)  Renewable Electricity Capacity per Capita  \\\nYear                                                                         \n2000                3180.621629                                   0.000000   \n2001                3199.861412                                  19.370629   \n2002                3262.120413                                  14.810462   \n2003                3273.634908                                 109.821573   \n2004                3305.253719                                 240.628523   \n\n      Electricity from Fossil Fuels (TWh)  Electricity from Nuclear (TWh)  \\\nYear                                                                        \n2000                             0.000000                        0.000000   \n2001                            52.693137                      452.666901   \n2002                           188.055352                      451.721324   \n2003                          2126.329756                      523.683454   \n2004                           787.800128                      651.466924   \n\n      Electricity from Renewables (TWh)  Low-Carbon Electricity (%)  \\\nYear                                                                  \n2000                           0.000000                  959.045557   \n2001                         -58.680386                  962.619006   \n2002                         303.141405                  990.412210   \n2003                         696.312347                  983.650914   \n2004                         775.912541                  976.119030   \n\n      Primary Energy Consumption per Capita (kWh/person)  \\\nYear                                                       \n2000                                           0.000000    \n2001                                          13.938637    \n2002                                          67.130623    \n2003                                         232.005253    \n2004                                         364.072035    \n\n      CO2 Emissions (kt by country)  Renewables (% Equivalent Primary Energy)  \\\nYear                                                                            \n2000                       0.000000                                123.311978   \n2001                      81.209513                                120.130584   \n2002                     226.621266                                121.334062   \n2003                     421.077897                                124.593360   \n2004                     631.547505                                125.466778   \n\n       GDP Growth  GDP per Capita  \\\nYear                                \n2000     0.000000        0.000000   \n2001  -469.949407        3.193728   \n2002   557.316895    18027.723909   \n2003  2521.080668    19645.495382   \n2004  4244.503375    22439.494436   \n\n                                              Continent  \\\nYear                                                      \n2000  AsiaAsiaAsiaAsiaAsiaAsiaAsiaAsiaAsiaAsiaAsiaAs...   \n2001  AsiaAsiaAsiaAsiaAsiaAsiaAsiaAsiaAsiaAsiaAsiaAs...   \n2002  AsiaAsiaAsiaAsiaAsiaAsiaAsiaAsiaAsiaAsiaAsiaAs...   \n2003  AsiaAsiaAsiaAsiaAsiaAsiaAsiaAsiaAsiaAsiaAsiaAs...   \n2004  AsiaAsiaAsiaAsiaAsiaAsiaAsiaAsiaAsiaAsiaAsiaAs...   \n\n                                                 Region  \\\nYear                                                      \n2000  Southern AsiaWestern AsiaWestern AsiaWestern A...   \n2001  Southern AsiaWestern AsiaWestern AsiaWestern A...   \n2002  Southern AsiaWestern AsiaWestern AsiaWestern A...   \n2003  Southern AsiaWestern AsiaWestern AsiaWestern A...   \n2004  Southern AsiaWestern AsiaWestern AsiaWestern A...   \n\n                                                   iso3  \\\nYear                                                      \n2000  AFGARMAZEBHRBGDBTNKHMCHNCYPGEOINDIDNIRQISRJPNJ...   \n2001  AFGARMAZEBHRBGDBTNKHMCHNCYPGEOINDIDNIRQISRJPNJ...   \n2002  AFGARMAZEBHRBGDBTNKHMCHNCYPGEOINDIDNIRQISRJPNJ...   \n2003  AFGARMAZEBHRBGDBTNKHMCHNCYPGEOINDIDNIRQISRJPNJ...   \n2004  AFGARMAZEBHRBGDBTNKHMCHNCYPGEOINDIDNIRQISRJPNJ...   \n\n      Human Development Index  \nYear                           \n2000                 0.000000  \n2001                39.295250  \n2002                88.821746  \n2003               137.915988  \n2004               183.167169  ",
      "text/html": "<div>\n<style scoped>\n    .dataframe tbody tr th:only-of-type {\n        vertical-align: middle;\n    }\n\n    .dataframe tbody tr th {\n        vertical-align: top;\n    }\n\n    .dataframe thead th {\n        text-align: right;\n    }\n</style>\n<table border=\"1\" class=\"dataframe\">\n  <thead>\n    <tr style=\"text-align: right;\">\n      <th></th>\n      <th>Country</th>\n      <th>Access to Electricity (%)</th>\n      <th>Renewable Electricity Capacity per Capita</th>\n      <th>Electricity from Fossil Fuels (TWh)</th>\n      <th>Electricity from Nuclear (TWh)</th>\n      <th>Electricity from Renewables (TWh)</th>\n      <th>Low-Carbon Electricity (%)</th>\n      <th>Primary Energy Consumption per Capita (kWh/person)</th>\n      <th>CO2 Emissions (kt by country)</th>\n      <th>Renewables (% Equivalent Primary Energy)</th>\n      <th>GDP Growth</th>\n      <th>GDP per Capita</th>\n      <th>Continent</th>\n      <th>Region</th>\n      <th>iso3</th>\n      <th>Human Development Index</th>\n    </tr>\n    <tr>\n      <th>Year</th>\n      <th></th>\n      <th></th>\n      <th></th>\n      <th></th>\n      <th></th>\n      <th></th>\n      <th></th>\n      <th></th>\n      <th></th>\n      <th></th>\n      <th></th>\n      <th></th>\n      <th></th>\n      <th></th>\n      <th></th>\n      <th></th>\n    </tr>\n  </thead>\n  <tbody>\n    <tr>\n      <th>2000</th>\n      <td>AfghanistanArmeniaAzerbaijanBahrainBangladeshB...</td>\n      <td>3180.621629</td>\n      <td>0.000000</td>\n      <td>0.000000</td>\n      <td>0.000000</td>\n      <td>0.000000</td>\n      <td>959.045557</td>\n      <td>0.000000</td>\n      <td>0.000000</td>\n      <td>123.311978</td>\n      <td>0.000000</td>\n      <td>0.000000</td>\n      <td>AsiaAsiaAsiaAsiaAsiaAsiaAsiaAsiaAsiaAsiaAsiaAs...</td>\n      <td>Southern AsiaWestern AsiaWestern AsiaWestern A...</td>\n      <td>AFGARMAZEBHRBGDBTNKHMCHNCYPGEOINDIDNIRQISRJPNJ...</td>\n      <td>0.000000</td>\n    </tr>\n    <tr>\n      <th>2001</th>\n      <td>AfghanistanArmeniaAzerbaijanBahrainBangladeshB...</td>\n      <td>3199.861412</td>\n      <td>19.370629</td>\n      <td>52.693137</td>\n      <td>452.666901</td>\n      <td>-58.680386</td>\n      <td>962.619006</td>\n      <td>13.938637</td>\n      <td>81.209513</td>\n      <td>120.130584</td>\n      <td>-469.949407</td>\n      <td>3.193728</td>\n      <td>AsiaAsiaAsiaAsiaAsiaAsiaAsiaAsiaAsiaAsiaAsiaAs...</td>\n      <td>Southern AsiaWestern AsiaWestern AsiaWestern A...</td>\n      <td>AFGARMAZEBHRBGDBTNKHMCHNCYPGEOINDIDNIRQISRJPNJ...</td>\n      <td>39.295250</td>\n    </tr>\n    <tr>\n      <th>2002</th>\n      <td>AfghanistanArmeniaAzerbaijanBahrainBangladeshB...</td>\n      <td>3262.120413</td>\n      <td>14.810462</td>\n      <td>188.055352</td>\n      <td>451.721324</td>\n      <td>303.141405</td>\n      <td>990.412210</td>\n      <td>67.130623</td>\n      <td>226.621266</td>\n      <td>121.334062</td>\n      <td>557.316895</td>\n      <td>18027.723909</td>\n      <td>AsiaAsiaAsiaAsiaAsiaAsiaAsiaAsiaAsiaAsiaAsiaAs...</td>\n      <td>Southern AsiaWestern AsiaWestern AsiaWestern A...</td>\n      <td>AFGARMAZEBHRBGDBTNKHMCHNCYPGEOINDIDNIRQISRJPNJ...</td>\n      <td>88.821746</td>\n    </tr>\n    <tr>\n      <th>2003</th>\n      <td>AfghanistanArmeniaAzerbaijanBahrainBangladeshB...</td>\n      <td>3273.634908</td>\n      <td>109.821573</td>\n      <td>2126.329756</td>\n      <td>523.683454</td>\n      <td>696.312347</td>\n      <td>983.650914</td>\n      <td>232.005253</td>\n      <td>421.077897</td>\n      <td>124.593360</td>\n      <td>2521.080668</td>\n      <td>19645.495382</td>\n      <td>AsiaAsiaAsiaAsiaAsiaAsiaAsiaAsiaAsiaAsiaAsiaAs...</td>\n      <td>Southern AsiaWestern AsiaWestern AsiaWestern A...</td>\n      <td>AFGARMAZEBHRBGDBTNKHMCHNCYPGEOINDIDNIRQISRJPNJ...</td>\n      <td>137.915988</td>\n    </tr>\n    <tr>\n      <th>2004</th>\n      <td>AfghanistanArmeniaAzerbaijanBahrainBangladeshB...</td>\n      <td>3305.253719</td>\n      <td>240.628523</td>\n      <td>787.800128</td>\n      <td>651.466924</td>\n      <td>775.912541</td>\n      <td>976.119030</td>\n      <td>364.072035</td>\n      <td>631.547505</td>\n      <td>125.466778</td>\n      <td>4244.503375</td>\n      <td>22439.494436</td>\n      <td>AsiaAsiaAsiaAsiaAsiaAsiaAsiaAsiaAsiaAsiaAsiaAs...</td>\n      <td>Southern AsiaWestern AsiaWestern AsiaWestern A...</td>\n      <td>AFGARMAZEBHRBGDBTNKHMCHNCYPGEOINDIDNIRQISRJPNJ...</td>\n      <td>183.167169</td>\n    </tr>\n  </tbody>\n</table>\n</div>"
     },
     "execution_count": 53,
     "metadata": {},
     "output_type": "execute_result"
    }
   ],
   "source": [
    "df_line = df_normalized.query(\"Continent == 'Asia'\")\n",
    "df_line = df_line.groupby(\"Year\").sum()\n",
    "df_line.head()"
   ],
   "metadata": {
    "collapsed": false,
    "ExecuteTime": {
     "end_time": "2023-10-30T12:13:40.608125700Z",
     "start_time": "2023-10-30T12:13:40.558234Z"
    }
   },
   "id": "204a0c7d95244d73"
  },
  {
   "cell_type": "code",
   "execution_count": 61,
   "outputs": [
    {
     "data": {
      "application/vnd.plotly.v1+json": {
       "data": [
        {
         "hovertemplate": "variable=CO2 Emissions (kt by country)<br>Year=%{x}<br>value=%{y}<extra></extra>",
         "legendgroup": "CO2 Emissions (kt by country)",
         "line": {
          "color": "#636efa",
          "dash": "solid"
         },
         "marker": {
          "symbol": "circle"
         },
         "mode": "lines+markers",
         "name": "CO2 Emissions (kt by country)",
         "orientation": "v",
         "showlegend": true,
         "x": [
          2000,
          2001,
          2002,
          2003,
          2004,
          2005,
          2006,
          2007,
          2008,
          2009,
          2010,
          2011,
          2012,
          2013,
          2014,
          2015,
          2016,
          2017,
          2018,
          2019,
          2020
         ],
         "xaxis": "x",
         "y": [
          0.0,
          81.20951295379321,
          226.6212662451304,
          421.0778970585575,
          631.5475050069716,
          910.4591736677422,
          1143.4939176645687,
          1421.3610595179534,
          1823.4709713203372,
          2042.5591386517933,
          2666.4900513961006,
          3329.7762123356924,
          3643.855095390874,
          3513.2305109656345,
          3766.2862883852513,
          4197.246537646488,
          4716.2773173967,
          5170.026098342895,
          5722.672851065672,
          6045.164163341508,
          -3598.9013617368437
         ],
         "yaxis": "y",
         "type": "scatter"
        },
        {
         "hovertemplate": "variable=Electricity from Fossil Fuels (TWh)<br>Year=%{x}<br>value=%{y}<extra></extra>",
         "legendgroup": "Electricity from Fossil Fuels (TWh)",
         "line": {
          "color": "#EF553B",
          "dash": "solid"
         },
         "marker": {
          "symbol": "circle"
         },
         "mode": "lines+markers",
         "name": "Electricity from Fossil Fuels (TWh)",
         "orientation": "v",
         "showlegend": true,
         "x": [
          2000,
          2001,
          2002,
          2003,
          2004,
          2005,
          2006,
          2007,
          2008,
          2009,
          2010,
          2011,
          2012,
          2013,
          2014,
          2015,
          2016,
          2017,
          2018,
          2019,
          2020
         ],
         "xaxis": "x",
         "y": [
          0.0,
          52.693137036564494,
          188.05535228941568,
          2126.3297564273125,
          787.8001275531838,
          1056.4632190296627,
          1368.441861751644,
          1817.2862294912143,
          1981.292462875389,
          1982.8020328799855,
          3913.925029049289,
          4348.378353083021,
          3103.1177115542487,
          3256.7541137292624,
          5659.463400741848,
          6186.141142342431,
          6883.818697930147,
          7689.435741561487,
          7825.560540965275,
          8471.38433158053,
          8231.834745664999
         ],
         "yaxis": "y",
         "type": "scatter"
        },
        {
         "hovertemplate": "variable=Electricity from Nuclear (TWh)<br>Year=%{x}<br>value=%{y}<extra></extra>",
         "legendgroup": "Electricity from Nuclear (TWh)",
         "line": {
          "color": "#00cc96",
          "dash": "solid"
         },
         "marker": {
          "symbol": "circle"
         },
         "mode": "lines+markers",
         "name": "Electricity from Nuclear (TWh)",
         "orientation": "v",
         "showlegend": true,
         "x": [
          2000,
          2001,
          2002,
          2003,
          2004,
          2005,
          2006,
          2007,
          2008,
          2009,
          2010,
          2011,
          2012,
          2013,
          2014,
          2015,
          2016,
          2017,
          2018,
          2019,
          2020
         ],
         "xaxis": "x",
         "y": [
          0.0,
          452.66690052169633,
          451.7213242046131,
          523.6834536892709,
          651.4669237745034,
          791.3349647964203,
          837.2575637035528,
          807.2021498741678,
          665.2352459499234,
          930.2884579978424,
          981.9522630613037,
          1414.139549485902,
          1804.4830499154818,
          1656.531711058688,
          1844.7526083325868,
          2046.9115953031894,
          2569.267400306657,
          3493.5603242355255,
          4073.495900874302,
          4387.448587108991,
          4715.564591366205
         ],
         "yaxis": "y",
         "type": "scatter"
        },
        {
         "hovertemplate": "variable=Electricity from Renewables (TWh)<br>Year=%{x}<br>value=%{y}<extra></extra>",
         "legendgroup": "Electricity from Renewables (TWh)",
         "line": {
          "color": "#ab63fa",
          "dash": "solid"
         },
         "marker": {
          "symbol": "circle"
         },
         "mode": "lines+markers",
         "name": "Electricity from Renewables (TWh)",
         "orientation": "v",
         "showlegend": true,
         "x": [
          2000,
          2001,
          2002,
          2003,
          2004,
          2005,
          2006,
          2007,
          2008,
          2009,
          2010,
          2011,
          2012,
          2013,
          2014,
          2015,
          2016,
          2017,
          2018,
          2019,
          2020
         ],
         "xaxis": "x",
         "y": [
          0.0,
          -58.68038641785131,
          303.14140546725264,
          696.3123469454919,
          775.912540575579,
          1789.0541199180545,
          2014.7609221267194,
          2191.7405902328055,
          1660.7627921266235,
          1784.1900207661859,
          2739.625552437018,
          2769.152226072616,
          5067.061809242934,
          6751.426287038786,
          8667.472328777621,
          10842.693166089122,
          15442.871489528374,
          17537.070952617236,
          23594.490752407128,
          28954.297660013184,
          35172.66149772403
         ],
         "yaxis": "y",
         "type": "scatter"
        },
        {
         "hovertemplate": "variable=GDP Growth<br>Year=%{x}<br>value=%{y}<extra></extra>",
         "legendgroup": "GDP Growth",
         "line": {
          "color": "#FFA15A",
          "dash": "solid"
         },
         "marker": {
          "symbol": "circle"
         },
         "mode": "lines+markers",
         "name": "GDP Growth",
         "orientation": "v",
         "showlegend": true,
         "x": [
          2000,
          2001,
          2002,
          2003,
          2004,
          2005,
          2006,
          2007,
          2008,
          2009,
          2010,
          2011,
          2012,
          2013,
          2014,
          2015,
          2016,
          2017,
          2018,
          2019,
          2020
         ],
         "xaxis": "x",
         "y": [
          0.0,
          -469.9494069102426,
          557.3168946396463,
          2521.080667748314,
          4244.503375252785,
          3032.701612008153,
          5388.198271833632,
          6046.639953949209,
          3038.703074809128,
          863.7643823617484,
          4501.954887343056,
          2819.80694641297,
          2605.6489632585176,
          1506.1674752882743,
          755.7544750140553,
          -192.1495316075718,
          -166.08169843088984,
          -289.35034918026685,
          -173.66529566004363,
          -824.7514627103697,
          -9476.969798567832
         ],
         "yaxis": "y",
         "type": "scatter"
        },
        {
         "hovertemplate": "variable=GDP per Capita<br>Year=%{x}<br>value=%{y}<extra></extra>",
         "legendgroup": "GDP per Capita",
         "line": {
          "color": "#19d3f3",
          "dash": "solid"
         },
         "marker": {
          "symbol": "circle"
         },
         "mode": "lines+markers",
         "name": "GDP per Capita",
         "orientation": "v",
         "showlegend": true,
         "x": [
          2000,
          2001,
          2002,
          2003,
          2004,
          2005,
          2006,
          2007,
          2008,
          2009,
          2010,
          2011,
          2012,
          2013,
          2014,
          2015,
          2016,
          2017,
          2018,
          2019,
          2020
         ],
         "xaxis": "x",
         "y": [
          0.0,
          3.19372770581845,
          18027.723908581575,
          19645.495382353787,
          22439.494436112716,
          26325.970859208308,
          29622.930026412236,
          40764.34413828465,
          43342.914507192756,
          49812.11329803438,
          62207.74352085935,
          69236.2362419657,
          74929.86268063066,
          74139.37347208054,
          73405.91879863775,
          66182.11494878697,
          61235.77499921471,
          62472.32127481591,
          60314.138246823764,
          61599.02899808768,
          61655.46989034834
         ],
         "yaxis": "y",
         "type": "scatter"
        },
        {
         "hovertemplate": "variable=Human Development Index<br>Year=%{x}<br>value=%{y}<extra></extra>",
         "legendgroup": "Human Development Index",
         "line": {
          "color": "#FF6692",
          "dash": "solid"
         },
         "marker": {
          "symbol": "circle"
         },
         "mode": "lines+markers",
         "name": "Human Development Index",
         "orientation": "v",
         "showlegend": true,
         "x": [
          2000,
          2001,
          2002,
          2003,
          2004,
          2005,
          2006,
          2007,
          2008,
          2009,
          2010,
          2011,
          2012,
          2013,
          2014,
          2015,
          2016,
          2017,
          2018,
          2019,
          2020
         ],
         "xaxis": "x",
         "y": [
          0.0,
          39.29525038052833,
          88.82174638944367,
          137.91598752956443,
          183.16716933822028,
          168.14382390994808,
          213.62426805624062,
          262.85610472586836,
          292.68330360442707,
          327.7897293344561,
          327.1023090105108,
          366.11454736855586,
          405.81504798950965,
          445.5597234436409,
          482.1755365110374,
          510.1826526574889,
          537.3424599746631,
          563.3692005023844,
          594.5090879379349,
          624.4326727194089,
          586.4964090891818
         ],
         "yaxis": "y",
         "type": "scatter"
        },
        {
         "hovertemplate": "variable=Primary Energy Consumption per Capita (kWh/person)<br>Year=%{x}<br>value=%{y}<extra></extra>",
         "legendgroup": "Primary Energy Consumption per Capita (kWh/person)",
         "line": {
          "color": "#B6E880",
          "dash": "solid"
         },
         "marker": {
          "symbol": "circle"
         },
         "mode": "lines+markers",
         "name": "Primary Energy Consumption per Capita (kWh/person)",
         "orientation": "v",
         "showlegend": true,
         "x": [
          2000,
          2001,
          2002,
          2003,
          2004,
          2005,
          2006,
          2007,
          2008,
          2009,
          2010,
          2011,
          2012,
          2013,
          2014,
          2015,
          2016,
          2017,
          2018,
          2019,
          2020
         ],
         "xaxis": "x",
         "y": [
          0.0,
          13.938636794566886,
          67.13062281542685,
          232.00525254266557,
          364.0720352896797,
          576.8195455731789,
          683.6555181115491,
          834.1538072624253,
          948.8785036121096,
          1131.1281149208844,
          1378.2928866810742,
          1573.3060484725797,
          1722.4436957882428,
          1734.0016527752657,
          1779.1689750323367,
          1815.7463060967675,
          2025.0010458976358,
          2197.4825845619607,
          2434.284127055505,
          2576.5629317166577,
          2317.389496281354
         ],
         "yaxis": "y",
         "type": "scatter"
        },
        {
         "hovertemplate": "variable=Renewable Electricity Capacity per Capita<br>Year=%{x}<br>value=%{y}<extra></extra>",
         "legendgroup": "Renewable Electricity Capacity per Capita",
         "line": {
          "color": "#FF97FF",
          "dash": "solid"
         },
         "marker": {
          "symbol": "circle"
         },
         "mode": "lines+markers",
         "name": "Renewable Electricity Capacity per Capita",
         "orientation": "v",
         "showlegend": true,
         "x": [
          2000,
          2001,
          2002,
          2003,
          2004,
          2005,
          2006,
          2007,
          2008,
          2009,
          2010,
          2011,
          2012,
          2013,
          2014,
          2015,
          2016,
          2017,
          2018,
          2019,
          2020
         ],
         "xaxis": "x",
         "y": [
          0.0,
          19.3706291571168,
          14.810461559372529,
          109.82157340144981,
          240.62852273256658,
          243.0868497881726,
          394.68265931891233,
          706.5390050176634,
          1084.52803530111,
          1382.6074505231622,
          2106.0490191651616,
          5738.070544192639,
          8219.576578534952,
          14895.017006492906,
          18199.456710251783,
          18902.306213758602,
          21774.99723289851,
          28225.890965539933,
          43506.7204960406,
          109514.40821433945,
          118881.19046259341
         ],
         "yaxis": "y",
         "type": "scatter"
        }
       ],
       "layout": {
        "template": {
         "data": {
          "histogram2dcontour": [
           {
            "type": "histogram2dcontour",
            "colorbar": {
             "outlinewidth": 0,
             "ticks": ""
            },
            "colorscale": [
             [
              0.0,
              "#0d0887"
             ],
             [
              0.1111111111111111,
              "#46039f"
             ],
             [
              0.2222222222222222,
              "#7201a8"
             ],
             [
              0.3333333333333333,
              "#9c179e"
             ],
             [
              0.4444444444444444,
              "#bd3786"
             ],
             [
              0.5555555555555556,
              "#d8576b"
             ],
             [
              0.6666666666666666,
              "#ed7953"
             ],
             [
              0.7777777777777778,
              "#fb9f3a"
             ],
             [
              0.8888888888888888,
              "#fdca26"
             ],
             [
              1.0,
              "#f0f921"
             ]
            ]
           }
          ],
          "choropleth": [
           {
            "type": "choropleth",
            "colorbar": {
             "outlinewidth": 0,
             "ticks": ""
            }
           }
          ],
          "histogram2d": [
           {
            "type": "histogram2d",
            "colorbar": {
             "outlinewidth": 0,
             "ticks": ""
            },
            "colorscale": [
             [
              0.0,
              "#0d0887"
             ],
             [
              0.1111111111111111,
              "#46039f"
             ],
             [
              0.2222222222222222,
              "#7201a8"
             ],
             [
              0.3333333333333333,
              "#9c179e"
             ],
             [
              0.4444444444444444,
              "#bd3786"
             ],
             [
              0.5555555555555556,
              "#d8576b"
             ],
             [
              0.6666666666666666,
              "#ed7953"
             ],
             [
              0.7777777777777778,
              "#fb9f3a"
             ],
             [
              0.8888888888888888,
              "#fdca26"
             ],
             [
              1.0,
              "#f0f921"
             ]
            ]
           }
          ],
          "heatmap": [
           {
            "type": "heatmap",
            "colorbar": {
             "outlinewidth": 0,
             "ticks": ""
            },
            "colorscale": [
             [
              0.0,
              "#0d0887"
             ],
             [
              0.1111111111111111,
              "#46039f"
             ],
             [
              0.2222222222222222,
              "#7201a8"
             ],
             [
              0.3333333333333333,
              "#9c179e"
             ],
             [
              0.4444444444444444,
              "#bd3786"
             ],
             [
              0.5555555555555556,
              "#d8576b"
             ],
             [
              0.6666666666666666,
              "#ed7953"
             ],
             [
              0.7777777777777778,
              "#fb9f3a"
             ],
             [
              0.8888888888888888,
              "#fdca26"
             ],
             [
              1.0,
              "#f0f921"
             ]
            ]
           }
          ],
          "heatmapgl": [
           {
            "type": "heatmapgl",
            "colorbar": {
             "outlinewidth": 0,
             "ticks": ""
            },
            "colorscale": [
             [
              0.0,
              "#0d0887"
             ],
             [
              0.1111111111111111,
              "#46039f"
             ],
             [
              0.2222222222222222,
              "#7201a8"
             ],
             [
              0.3333333333333333,
              "#9c179e"
             ],
             [
              0.4444444444444444,
              "#bd3786"
             ],
             [
              0.5555555555555556,
              "#d8576b"
             ],
             [
              0.6666666666666666,
              "#ed7953"
             ],
             [
              0.7777777777777778,
              "#fb9f3a"
             ],
             [
              0.8888888888888888,
              "#fdca26"
             ],
             [
              1.0,
              "#f0f921"
             ]
            ]
           }
          ],
          "contourcarpet": [
           {
            "type": "contourcarpet",
            "colorbar": {
             "outlinewidth": 0,
             "ticks": ""
            }
           }
          ],
          "contour": [
           {
            "type": "contour",
            "colorbar": {
             "outlinewidth": 0,
             "ticks": ""
            },
            "colorscale": [
             [
              0.0,
              "#0d0887"
             ],
             [
              0.1111111111111111,
              "#46039f"
             ],
             [
              0.2222222222222222,
              "#7201a8"
             ],
             [
              0.3333333333333333,
              "#9c179e"
             ],
             [
              0.4444444444444444,
              "#bd3786"
             ],
             [
              0.5555555555555556,
              "#d8576b"
             ],
             [
              0.6666666666666666,
              "#ed7953"
             ],
             [
              0.7777777777777778,
              "#fb9f3a"
             ],
             [
              0.8888888888888888,
              "#fdca26"
             ],
             [
              1.0,
              "#f0f921"
             ]
            ]
           }
          ],
          "surface": [
           {
            "type": "surface",
            "colorbar": {
             "outlinewidth": 0,
             "ticks": ""
            },
            "colorscale": [
             [
              0.0,
              "#0d0887"
             ],
             [
              0.1111111111111111,
              "#46039f"
             ],
             [
              0.2222222222222222,
              "#7201a8"
             ],
             [
              0.3333333333333333,
              "#9c179e"
             ],
             [
              0.4444444444444444,
              "#bd3786"
             ],
             [
              0.5555555555555556,
              "#d8576b"
             ],
             [
              0.6666666666666666,
              "#ed7953"
             ],
             [
              0.7777777777777778,
              "#fb9f3a"
             ],
             [
              0.8888888888888888,
              "#fdca26"
             ],
             [
              1.0,
              "#f0f921"
             ]
            ]
           }
          ],
          "mesh3d": [
           {
            "type": "mesh3d",
            "colorbar": {
             "outlinewidth": 0,
             "ticks": ""
            }
           }
          ],
          "scatter": [
           {
            "marker": {
             "line": {
              "color": "#283442"
             }
            },
            "type": "scatter"
           }
          ],
          "parcoords": [
           {
            "type": "parcoords",
            "line": {
             "colorbar": {
              "outlinewidth": 0,
              "ticks": ""
             }
            }
           }
          ],
          "scatterpolargl": [
           {
            "type": "scatterpolargl",
            "marker": {
             "colorbar": {
              "outlinewidth": 0,
              "ticks": ""
             }
            }
           }
          ],
          "bar": [
           {
            "error_x": {
             "color": "#f2f5fa"
            },
            "error_y": {
             "color": "#f2f5fa"
            },
            "marker": {
             "line": {
              "color": "rgb(17,17,17)",
              "width": 0.5
             },
             "pattern": {
              "fillmode": "overlay",
              "size": 10,
              "solidity": 0.2
             }
            },
            "type": "bar"
           }
          ],
          "scattergeo": [
           {
            "type": "scattergeo",
            "marker": {
             "colorbar": {
              "outlinewidth": 0,
              "ticks": ""
             }
            }
           }
          ],
          "scatterpolar": [
           {
            "type": "scatterpolar",
            "marker": {
             "colorbar": {
              "outlinewidth": 0,
              "ticks": ""
             }
            }
           }
          ],
          "histogram": [
           {
            "marker": {
             "pattern": {
              "fillmode": "overlay",
              "size": 10,
              "solidity": 0.2
             }
            },
            "type": "histogram"
           }
          ],
          "scattergl": [
           {
            "marker": {
             "line": {
              "color": "#283442"
             }
            },
            "type": "scattergl"
           }
          ],
          "scatter3d": [
           {
            "type": "scatter3d",
            "line": {
             "colorbar": {
              "outlinewidth": 0,
              "ticks": ""
             }
            },
            "marker": {
             "colorbar": {
              "outlinewidth": 0,
              "ticks": ""
             }
            }
           }
          ],
          "scattermapbox": [
           {
            "type": "scattermapbox",
            "marker": {
             "colorbar": {
              "outlinewidth": 0,
              "ticks": ""
             }
            }
           }
          ],
          "scatterternary": [
           {
            "type": "scatterternary",
            "marker": {
             "colorbar": {
              "outlinewidth": 0,
              "ticks": ""
             }
            }
           }
          ],
          "scattercarpet": [
           {
            "type": "scattercarpet",
            "marker": {
             "colorbar": {
              "outlinewidth": 0,
              "ticks": ""
             }
            }
           }
          ],
          "carpet": [
           {
            "aaxis": {
             "endlinecolor": "#A2B1C6",
             "gridcolor": "#506784",
             "linecolor": "#506784",
             "minorgridcolor": "#506784",
             "startlinecolor": "#A2B1C6"
            },
            "baxis": {
             "endlinecolor": "#A2B1C6",
             "gridcolor": "#506784",
             "linecolor": "#506784",
             "minorgridcolor": "#506784",
             "startlinecolor": "#A2B1C6"
            },
            "type": "carpet"
           }
          ],
          "table": [
           {
            "cells": {
             "fill": {
              "color": "#506784"
             },
             "line": {
              "color": "rgb(17,17,17)"
             }
            },
            "header": {
             "fill": {
              "color": "#2a3f5f"
             },
             "line": {
              "color": "rgb(17,17,17)"
             }
            },
            "type": "table"
           }
          ],
          "barpolar": [
           {
            "marker": {
             "line": {
              "color": "rgb(17,17,17)",
              "width": 0.5
             },
             "pattern": {
              "fillmode": "overlay",
              "size": 10,
              "solidity": 0.2
             }
            },
            "type": "barpolar"
           }
          ],
          "pie": [
           {
            "automargin": true,
            "type": "pie"
           }
          ]
         },
         "layout": {
          "autotypenumbers": "strict",
          "colorway": [
           "#636efa",
           "#EF553B",
           "#00cc96",
           "#ab63fa",
           "#FFA15A",
           "#19d3f3",
           "#FF6692",
           "#B6E880",
           "#FF97FF",
           "#FECB52"
          ],
          "font": {
           "color": "#f2f5fa"
          },
          "hovermode": "closest",
          "hoverlabel": {
           "align": "left"
          },
          "paper_bgcolor": "rgb(17,17,17)",
          "plot_bgcolor": "rgb(17,17,17)",
          "polar": {
           "bgcolor": "rgb(17,17,17)",
           "angularaxis": {
            "gridcolor": "#506784",
            "linecolor": "#506784",
            "ticks": ""
           },
           "radialaxis": {
            "gridcolor": "#506784",
            "linecolor": "#506784",
            "ticks": ""
           }
          },
          "ternary": {
           "bgcolor": "rgb(17,17,17)",
           "aaxis": {
            "gridcolor": "#506784",
            "linecolor": "#506784",
            "ticks": ""
           },
           "baxis": {
            "gridcolor": "#506784",
            "linecolor": "#506784",
            "ticks": ""
           },
           "caxis": {
            "gridcolor": "#506784",
            "linecolor": "#506784",
            "ticks": ""
           }
          },
          "coloraxis": {
           "colorbar": {
            "outlinewidth": 0,
            "ticks": ""
           }
          },
          "colorscale": {
           "sequential": [
            [
             0.0,
             "#0d0887"
            ],
            [
             0.1111111111111111,
             "#46039f"
            ],
            [
             0.2222222222222222,
             "#7201a8"
            ],
            [
             0.3333333333333333,
             "#9c179e"
            ],
            [
             0.4444444444444444,
             "#bd3786"
            ],
            [
             0.5555555555555556,
             "#d8576b"
            ],
            [
             0.6666666666666666,
             "#ed7953"
            ],
            [
             0.7777777777777778,
             "#fb9f3a"
            ],
            [
             0.8888888888888888,
             "#fdca26"
            ],
            [
             1.0,
             "#f0f921"
            ]
           ],
           "sequentialminus": [
            [
             0.0,
             "#0d0887"
            ],
            [
             0.1111111111111111,
             "#46039f"
            ],
            [
             0.2222222222222222,
             "#7201a8"
            ],
            [
             0.3333333333333333,
             "#9c179e"
            ],
            [
             0.4444444444444444,
             "#bd3786"
            ],
            [
             0.5555555555555556,
             "#d8576b"
            ],
            [
             0.6666666666666666,
             "#ed7953"
            ],
            [
             0.7777777777777778,
             "#fb9f3a"
            ],
            [
             0.8888888888888888,
             "#fdca26"
            ],
            [
             1.0,
             "#f0f921"
            ]
           ],
           "diverging": [
            [
             0,
             "#8e0152"
            ],
            [
             0.1,
             "#c51b7d"
            ],
            [
             0.2,
             "#de77ae"
            ],
            [
             0.3,
             "#f1b6da"
            ],
            [
             0.4,
             "#fde0ef"
            ],
            [
             0.5,
             "#f7f7f7"
            ],
            [
             0.6,
             "#e6f5d0"
            ],
            [
             0.7,
             "#b8e186"
            ],
            [
             0.8,
             "#7fbc41"
            ],
            [
             0.9,
             "#4d9221"
            ],
            [
             1,
             "#276419"
            ]
           ]
          },
          "xaxis": {
           "gridcolor": "#283442",
           "linecolor": "#506784",
           "ticks": "",
           "title": {
            "standoff": 15
           },
           "zerolinecolor": "#283442",
           "automargin": true,
           "zerolinewidth": 2
          },
          "yaxis": {
           "gridcolor": "#283442",
           "linecolor": "#506784",
           "ticks": "",
           "title": {
            "standoff": 15
           },
           "zerolinecolor": "#283442",
           "automargin": true,
           "zerolinewidth": 2
          },
          "scene": {
           "xaxis": {
            "backgroundcolor": "rgb(17,17,17)",
            "gridcolor": "#506784",
            "linecolor": "#506784",
            "showbackground": true,
            "ticks": "",
            "zerolinecolor": "#C8D4E3",
            "gridwidth": 2
           },
           "yaxis": {
            "backgroundcolor": "rgb(17,17,17)",
            "gridcolor": "#506784",
            "linecolor": "#506784",
            "showbackground": true,
            "ticks": "",
            "zerolinecolor": "#C8D4E3",
            "gridwidth": 2
           },
           "zaxis": {
            "backgroundcolor": "rgb(17,17,17)",
            "gridcolor": "#506784",
            "linecolor": "#506784",
            "showbackground": true,
            "ticks": "",
            "zerolinecolor": "#C8D4E3",
            "gridwidth": 2
           }
          },
          "shapedefaults": {
           "line": {
            "color": "#f2f5fa"
           }
          },
          "annotationdefaults": {
           "arrowcolor": "#f2f5fa",
           "arrowhead": 0,
           "arrowwidth": 1
          },
          "geo": {
           "bgcolor": "rgb(17,17,17)",
           "landcolor": "rgb(17,17,17)",
           "subunitcolor": "#506784",
           "showland": true,
           "showlakes": true,
           "lakecolor": "rgb(17,17,17)"
          },
          "title": {
           "x": 0.05
          },
          "updatemenudefaults": {
           "bgcolor": "#506784",
           "borderwidth": 0
          },
          "sliderdefaults": {
           "bgcolor": "#C8D4E3",
           "borderwidth": 1,
           "bordercolor": "rgb(17,17,17)",
           "tickwidth": 0
          },
          "mapbox": {
           "style": "dark"
          }
         }
        },
        "xaxis": {
         "anchor": "y",
         "domain": [
          0.0,
          1.0
         ],
         "title": {
          "text": "Year"
         }
        },
        "yaxis": {
         "anchor": "x",
         "domain": [
          0.0,
          1.0
         ],
         "title": {
          "text": "value"
         }
        },
        "legend": {
         "title": {
          "text": "variable"
         },
         "tracegroupgap": 0
        },
        "margin": {
         "t": 60
        }
       },
       "config": {
        "plotlyServerURL": "https://plot.ly"
       }
      },
      "text/html": "<div>                            <div id=\"42a9564a-c7b0-470c-9edc-a9d5dfb5a206\" class=\"plotly-graph-div\" style=\"height:525px; width:100%;\"></div>            <script type=\"text/javascript\">                require([\"plotly\"], function(Plotly) {                    window.PLOTLYENV=window.PLOTLYENV || {};                                    if (document.getElementById(\"42a9564a-c7b0-470c-9edc-a9d5dfb5a206\")) {                    Plotly.newPlot(                        \"42a9564a-c7b0-470c-9edc-a9d5dfb5a206\",                        [{\"hovertemplate\":\"variable=CO2 Emissions (kt by country)<br>Year=%{x}<br>value=%{y}<extra></extra>\",\"legendgroup\":\"CO2 Emissions (kt by country)\",\"line\":{\"color\":\"#636efa\",\"dash\":\"solid\"},\"marker\":{\"symbol\":\"circle\"},\"mode\":\"lines+markers\",\"name\":\"CO2 Emissions (kt by country)\",\"orientation\":\"v\",\"showlegend\":true,\"x\":[2000,2001,2002,2003,2004,2005,2006,2007,2008,2009,2010,2011,2012,2013,2014,2015,2016,2017,2018,2019,2020],\"xaxis\":\"x\",\"y\":[0.0,81.20951295379321,226.6212662451304,421.0778970585575,631.5475050069716,910.4591736677422,1143.4939176645687,1421.3610595179534,1823.4709713203372,2042.5591386517933,2666.4900513961006,3329.7762123356924,3643.855095390874,3513.2305109656345,3766.2862883852513,4197.246537646488,4716.2773173967,5170.026098342895,5722.672851065672,6045.164163341508,-3598.9013617368437],\"yaxis\":\"y\",\"type\":\"scatter\"},{\"hovertemplate\":\"variable=Electricity from Fossil Fuels (TWh)<br>Year=%{x}<br>value=%{y}<extra></extra>\",\"legendgroup\":\"Electricity from Fossil Fuels (TWh)\",\"line\":{\"color\":\"#EF553B\",\"dash\":\"solid\"},\"marker\":{\"symbol\":\"circle\"},\"mode\":\"lines+markers\",\"name\":\"Electricity from Fossil Fuels (TWh)\",\"orientation\":\"v\",\"showlegend\":true,\"x\":[2000,2001,2002,2003,2004,2005,2006,2007,2008,2009,2010,2011,2012,2013,2014,2015,2016,2017,2018,2019,2020],\"xaxis\":\"x\",\"y\":[0.0,52.693137036564494,188.05535228941568,2126.3297564273125,787.8001275531838,1056.4632190296627,1368.441861751644,1817.2862294912143,1981.292462875389,1982.8020328799855,3913.925029049289,4348.378353083021,3103.1177115542487,3256.7541137292624,5659.463400741848,6186.141142342431,6883.818697930147,7689.435741561487,7825.560540965275,8471.38433158053,8231.834745664999],\"yaxis\":\"y\",\"type\":\"scatter\"},{\"hovertemplate\":\"variable=Electricity from Nuclear (TWh)<br>Year=%{x}<br>value=%{y}<extra></extra>\",\"legendgroup\":\"Electricity from Nuclear (TWh)\",\"line\":{\"color\":\"#00cc96\",\"dash\":\"solid\"},\"marker\":{\"symbol\":\"circle\"},\"mode\":\"lines+markers\",\"name\":\"Electricity from Nuclear (TWh)\",\"orientation\":\"v\",\"showlegend\":true,\"x\":[2000,2001,2002,2003,2004,2005,2006,2007,2008,2009,2010,2011,2012,2013,2014,2015,2016,2017,2018,2019,2020],\"xaxis\":\"x\",\"y\":[0.0,452.66690052169633,451.7213242046131,523.6834536892709,651.4669237745034,791.3349647964203,837.2575637035528,807.2021498741678,665.2352459499234,930.2884579978424,981.9522630613037,1414.139549485902,1804.4830499154818,1656.531711058688,1844.7526083325868,2046.9115953031894,2569.267400306657,3493.5603242355255,4073.495900874302,4387.448587108991,4715.564591366205],\"yaxis\":\"y\",\"type\":\"scatter\"},{\"hovertemplate\":\"variable=Electricity from Renewables (TWh)<br>Year=%{x}<br>value=%{y}<extra></extra>\",\"legendgroup\":\"Electricity from Renewables (TWh)\",\"line\":{\"color\":\"#ab63fa\",\"dash\":\"solid\"},\"marker\":{\"symbol\":\"circle\"},\"mode\":\"lines+markers\",\"name\":\"Electricity from Renewables (TWh)\",\"orientation\":\"v\",\"showlegend\":true,\"x\":[2000,2001,2002,2003,2004,2005,2006,2007,2008,2009,2010,2011,2012,2013,2014,2015,2016,2017,2018,2019,2020],\"xaxis\":\"x\",\"y\":[0.0,-58.68038641785131,303.14140546725264,696.3123469454919,775.912540575579,1789.0541199180545,2014.7609221267194,2191.7405902328055,1660.7627921266235,1784.1900207661859,2739.625552437018,2769.152226072616,5067.061809242934,6751.426287038786,8667.472328777621,10842.693166089122,15442.871489528374,17537.070952617236,23594.490752407128,28954.297660013184,35172.66149772403],\"yaxis\":\"y\",\"type\":\"scatter\"},{\"hovertemplate\":\"variable=GDP Growth<br>Year=%{x}<br>value=%{y}<extra></extra>\",\"legendgroup\":\"GDP Growth\",\"line\":{\"color\":\"#FFA15A\",\"dash\":\"solid\"},\"marker\":{\"symbol\":\"circle\"},\"mode\":\"lines+markers\",\"name\":\"GDP Growth\",\"orientation\":\"v\",\"showlegend\":true,\"x\":[2000,2001,2002,2003,2004,2005,2006,2007,2008,2009,2010,2011,2012,2013,2014,2015,2016,2017,2018,2019,2020],\"xaxis\":\"x\",\"y\":[0.0,-469.9494069102426,557.3168946396463,2521.080667748314,4244.503375252785,3032.701612008153,5388.198271833632,6046.639953949209,3038.703074809128,863.7643823617484,4501.954887343056,2819.80694641297,2605.6489632585176,1506.1674752882743,755.7544750140553,-192.1495316075718,-166.08169843088984,-289.35034918026685,-173.66529566004363,-824.7514627103697,-9476.969798567832],\"yaxis\":\"y\",\"type\":\"scatter\"},{\"hovertemplate\":\"variable=GDP per Capita<br>Year=%{x}<br>value=%{y}<extra></extra>\",\"legendgroup\":\"GDP per Capita\",\"line\":{\"color\":\"#19d3f3\",\"dash\":\"solid\"},\"marker\":{\"symbol\":\"circle\"},\"mode\":\"lines+markers\",\"name\":\"GDP per Capita\",\"orientation\":\"v\",\"showlegend\":true,\"x\":[2000,2001,2002,2003,2004,2005,2006,2007,2008,2009,2010,2011,2012,2013,2014,2015,2016,2017,2018,2019,2020],\"xaxis\":\"x\",\"y\":[0.0,3.19372770581845,18027.723908581575,19645.495382353787,22439.494436112716,26325.970859208308,29622.930026412236,40764.34413828465,43342.914507192756,49812.11329803438,62207.74352085935,69236.2362419657,74929.86268063066,74139.37347208054,73405.91879863775,66182.11494878697,61235.77499921471,62472.32127481591,60314.138246823764,61599.02899808768,61655.46989034834],\"yaxis\":\"y\",\"type\":\"scatter\"},{\"hovertemplate\":\"variable=Human Development Index<br>Year=%{x}<br>value=%{y}<extra></extra>\",\"legendgroup\":\"Human Development Index\",\"line\":{\"color\":\"#FF6692\",\"dash\":\"solid\"},\"marker\":{\"symbol\":\"circle\"},\"mode\":\"lines+markers\",\"name\":\"Human Development Index\",\"orientation\":\"v\",\"showlegend\":true,\"x\":[2000,2001,2002,2003,2004,2005,2006,2007,2008,2009,2010,2011,2012,2013,2014,2015,2016,2017,2018,2019,2020],\"xaxis\":\"x\",\"y\":[0.0,39.29525038052833,88.82174638944367,137.91598752956443,183.16716933822028,168.14382390994808,213.62426805624062,262.85610472586836,292.68330360442707,327.7897293344561,327.1023090105108,366.11454736855586,405.81504798950965,445.5597234436409,482.1755365110374,510.1826526574889,537.3424599746631,563.3692005023844,594.5090879379349,624.4326727194089,586.4964090891818],\"yaxis\":\"y\",\"type\":\"scatter\"},{\"hovertemplate\":\"variable=Primary Energy Consumption per Capita (kWh/person)<br>Year=%{x}<br>value=%{y}<extra></extra>\",\"legendgroup\":\"Primary Energy Consumption per Capita (kWh/person)\",\"line\":{\"color\":\"#B6E880\",\"dash\":\"solid\"},\"marker\":{\"symbol\":\"circle\"},\"mode\":\"lines+markers\",\"name\":\"Primary Energy Consumption per Capita (kWh/person)\",\"orientation\":\"v\",\"showlegend\":true,\"x\":[2000,2001,2002,2003,2004,2005,2006,2007,2008,2009,2010,2011,2012,2013,2014,2015,2016,2017,2018,2019,2020],\"xaxis\":\"x\",\"y\":[0.0,13.938636794566886,67.13062281542685,232.00525254266557,364.0720352896797,576.8195455731789,683.6555181115491,834.1538072624253,948.8785036121096,1131.1281149208844,1378.2928866810742,1573.3060484725797,1722.4436957882428,1734.0016527752657,1779.1689750323367,1815.7463060967675,2025.0010458976358,2197.4825845619607,2434.284127055505,2576.5629317166577,2317.389496281354],\"yaxis\":\"y\",\"type\":\"scatter\"},{\"hovertemplate\":\"variable=Renewable Electricity Capacity per Capita<br>Year=%{x}<br>value=%{y}<extra></extra>\",\"legendgroup\":\"Renewable Electricity Capacity per Capita\",\"line\":{\"color\":\"#FF97FF\",\"dash\":\"solid\"},\"marker\":{\"symbol\":\"circle\"},\"mode\":\"lines+markers\",\"name\":\"Renewable Electricity Capacity per Capita\",\"orientation\":\"v\",\"showlegend\":true,\"x\":[2000,2001,2002,2003,2004,2005,2006,2007,2008,2009,2010,2011,2012,2013,2014,2015,2016,2017,2018,2019,2020],\"xaxis\":\"x\",\"y\":[0.0,19.3706291571168,14.810461559372529,109.82157340144981,240.62852273256658,243.0868497881726,394.68265931891233,706.5390050176634,1084.52803530111,1382.6074505231622,2106.0490191651616,5738.070544192639,8219.576578534952,14895.017006492906,18199.456710251783,18902.306213758602,21774.99723289851,28225.890965539933,43506.7204960406,109514.40821433945,118881.19046259341],\"yaxis\":\"y\",\"type\":\"scatter\"}],                        {\"template\":{\"data\":{\"histogram2dcontour\":[{\"type\":\"histogram2dcontour\",\"colorbar\":{\"outlinewidth\":0,\"ticks\":\"\"},\"colorscale\":[[0.0,\"#0d0887\"],[0.1111111111111111,\"#46039f\"],[0.2222222222222222,\"#7201a8\"],[0.3333333333333333,\"#9c179e\"],[0.4444444444444444,\"#bd3786\"],[0.5555555555555556,\"#d8576b\"],[0.6666666666666666,\"#ed7953\"],[0.7777777777777778,\"#fb9f3a\"],[0.8888888888888888,\"#fdca26\"],[1.0,\"#f0f921\"]]}],\"choropleth\":[{\"type\":\"choropleth\",\"colorbar\":{\"outlinewidth\":0,\"ticks\":\"\"}}],\"histogram2d\":[{\"type\":\"histogram2d\",\"colorbar\":{\"outlinewidth\":0,\"ticks\":\"\"},\"colorscale\":[[0.0,\"#0d0887\"],[0.1111111111111111,\"#46039f\"],[0.2222222222222222,\"#7201a8\"],[0.3333333333333333,\"#9c179e\"],[0.4444444444444444,\"#bd3786\"],[0.5555555555555556,\"#d8576b\"],[0.6666666666666666,\"#ed7953\"],[0.7777777777777778,\"#fb9f3a\"],[0.8888888888888888,\"#fdca26\"],[1.0,\"#f0f921\"]]}],\"heatmap\":[{\"type\":\"heatmap\",\"colorbar\":{\"outlinewidth\":0,\"ticks\":\"\"},\"colorscale\":[[0.0,\"#0d0887\"],[0.1111111111111111,\"#46039f\"],[0.2222222222222222,\"#7201a8\"],[0.3333333333333333,\"#9c179e\"],[0.4444444444444444,\"#bd3786\"],[0.5555555555555556,\"#d8576b\"],[0.6666666666666666,\"#ed7953\"],[0.7777777777777778,\"#fb9f3a\"],[0.8888888888888888,\"#fdca26\"],[1.0,\"#f0f921\"]]}],\"heatmapgl\":[{\"type\":\"heatmapgl\",\"colorbar\":{\"outlinewidth\":0,\"ticks\":\"\"},\"colorscale\":[[0.0,\"#0d0887\"],[0.1111111111111111,\"#46039f\"],[0.2222222222222222,\"#7201a8\"],[0.3333333333333333,\"#9c179e\"],[0.4444444444444444,\"#bd3786\"],[0.5555555555555556,\"#d8576b\"],[0.6666666666666666,\"#ed7953\"],[0.7777777777777778,\"#fb9f3a\"],[0.8888888888888888,\"#fdca26\"],[1.0,\"#f0f921\"]]}],\"contourcarpet\":[{\"type\":\"contourcarpet\",\"colorbar\":{\"outlinewidth\":0,\"ticks\":\"\"}}],\"contour\":[{\"type\":\"contour\",\"colorbar\":{\"outlinewidth\":0,\"ticks\":\"\"},\"colorscale\":[[0.0,\"#0d0887\"],[0.1111111111111111,\"#46039f\"],[0.2222222222222222,\"#7201a8\"],[0.3333333333333333,\"#9c179e\"],[0.4444444444444444,\"#bd3786\"],[0.5555555555555556,\"#d8576b\"],[0.6666666666666666,\"#ed7953\"],[0.7777777777777778,\"#fb9f3a\"],[0.8888888888888888,\"#fdca26\"],[1.0,\"#f0f921\"]]}],\"surface\":[{\"type\":\"surface\",\"colorbar\":{\"outlinewidth\":0,\"ticks\":\"\"},\"colorscale\":[[0.0,\"#0d0887\"],[0.1111111111111111,\"#46039f\"],[0.2222222222222222,\"#7201a8\"],[0.3333333333333333,\"#9c179e\"],[0.4444444444444444,\"#bd3786\"],[0.5555555555555556,\"#d8576b\"],[0.6666666666666666,\"#ed7953\"],[0.7777777777777778,\"#fb9f3a\"],[0.8888888888888888,\"#fdca26\"],[1.0,\"#f0f921\"]]}],\"mesh3d\":[{\"type\":\"mesh3d\",\"colorbar\":{\"outlinewidth\":0,\"ticks\":\"\"}}],\"scatter\":[{\"marker\":{\"line\":{\"color\":\"#283442\"}},\"type\":\"scatter\"}],\"parcoords\":[{\"type\":\"parcoords\",\"line\":{\"colorbar\":{\"outlinewidth\":0,\"ticks\":\"\"}}}],\"scatterpolargl\":[{\"type\":\"scatterpolargl\",\"marker\":{\"colorbar\":{\"outlinewidth\":0,\"ticks\":\"\"}}}],\"bar\":[{\"error_x\":{\"color\":\"#f2f5fa\"},\"error_y\":{\"color\":\"#f2f5fa\"},\"marker\":{\"line\":{\"color\":\"rgb(17,17,17)\",\"width\":0.5},\"pattern\":{\"fillmode\":\"overlay\",\"size\":10,\"solidity\":0.2}},\"type\":\"bar\"}],\"scattergeo\":[{\"type\":\"scattergeo\",\"marker\":{\"colorbar\":{\"outlinewidth\":0,\"ticks\":\"\"}}}],\"scatterpolar\":[{\"type\":\"scatterpolar\",\"marker\":{\"colorbar\":{\"outlinewidth\":0,\"ticks\":\"\"}}}],\"histogram\":[{\"marker\":{\"pattern\":{\"fillmode\":\"overlay\",\"size\":10,\"solidity\":0.2}},\"type\":\"histogram\"}],\"scattergl\":[{\"marker\":{\"line\":{\"color\":\"#283442\"}},\"type\":\"scattergl\"}],\"scatter3d\":[{\"type\":\"scatter3d\",\"line\":{\"colorbar\":{\"outlinewidth\":0,\"ticks\":\"\"}},\"marker\":{\"colorbar\":{\"outlinewidth\":0,\"ticks\":\"\"}}}],\"scattermapbox\":[{\"type\":\"scattermapbox\",\"marker\":{\"colorbar\":{\"outlinewidth\":0,\"ticks\":\"\"}}}],\"scatterternary\":[{\"type\":\"scatterternary\",\"marker\":{\"colorbar\":{\"outlinewidth\":0,\"ticks\":\"\"}}}],\"scattercarpet\":[{\"type\":\"scattercarpet\",\"marker\":{\"colorbar\":{\"outlinewidth\":0,\"ticks\":\"\"}}}],\"carpet\":[{\"aaxis\":{\"endlinecolor\":\"#A2B1C6\",\"gridcolor\":\"#506784\",\"linecolor\":\"#506784\",\"minorgridcolor\":\"#506784\",\"startlinecolor\":\"#A2B1C6\"},\"baxis\":{\"endlinecolor\":\"#A2B1C6\",\"gridcolor\":\"#506784\",\"linecolor\":\"#506784\",\"minorgridcolor\":\"#506784\",\"startlinecolor\":\"#A2B1C6\"},\"type\":\"carpet\"}],\"table\":[{\"cells\":{\"fill\":{\"color\":\"#506784\"},\"line\":{\"color\":\"rgb(17,17,17)\"}},\"header\":{\"fill\":{\"color\":\"#2a3f5f\"},\"line\":{\"color\":\"rgb(17,17,17)\"}},\"type\":\"table\"}],\"barpolar\":[{\"marker\":{\"line\":{\"color\":\"rgb(17,17,17)\",\"width\":0.5},\"pattern\":{\"fillmode\":\"overlay\",\"size\":10,\"solidity\":0.2}},\"type\":\"barpolar\"}],\"pie\":[{\"automargin\":true,\"type\":\"pie\"}]},\"layout\":{\"autotypenumbers\":\"strict\",\"colorway\":[\"#636efa\",\"#EF553B\",\"#00cc96\",\"#ab63fa\",\"#FFA15A\",\"#19d3f3\",\"#FF6692\",\"#B6E880\",\"#FF97FF\",\"#FECB52\"],\"font\":{\"color\":\"#f2f5fa\"},\"hovermode\":\"closest\",\"hoverlabel\":{\"align\":\"left\"},\"paper_bgcolor\":\"rgb(17,17,17)\",\"plot_bgcolor\":\"rgb(17,17,17)\",\"polar\":{\"bgcolor\":\"rgb(17,17,17)\",\"angularaxis\":{\"gridcolor\":\"#506784\",\"linecolor\":\"#506784\",\"ticks\":\"\"},\"radialaxis\":{\"gridcolor\":\"#506784\",\"linecolor\":\"#506784\",\"ticks\":\"\"}},\"ternary\":{\"bgcolor\":\"rgb(17,17,17)\",\"aaxis\":{\"gridcolor\":\"#506784\",\"linecolor\":\"#506784\",\"ticks\":\"\"},\"baxis\":{\"gridcolor\":\"#506784\",\"linecolor\":\"#506784\",\"ticks\":\"\"},\"caxis\":{\"gridcolor\":\"#506784\",\"linecolor\":\"#506784\",\"ticks\":\"\"}},\"coloraxis\":{\"colorbar\":{\"outlinewidth\":0,\"ticks\":\"\"}},\"colorscale\":{\"sequential\":[[0.0,\"#0d0887\"],[0.1111111111111111,\"#46039f\"],[0.2222222222222222,\"#7201a8\"],[0.3333333333333333,\"#9c179e\"],[0.4444444444444444,\"#bd3786\"],[0.5555555555555556,\"#d8576b\"],[0.6666666666666666,\"#ed7953\"],[0.7777777777777778,\"#fb9f3a\"],[0.8888888888888888,\"#fdca26\"],[1.0,\"#f0f921\"]],\"sequentialminus\":[[0.0,\"#0d0887\"],[0.1111111111111111,\"#46039f\"],[0.2222222222222222,\"#7201a8\"],[0.3333333333333333,\"#9c179e\"],[0.4444444444444444,\"#bd3786\"],[0.5555555555555556,\"#d8576b\"],[0.6666666666666666,\"#ed7953\"],[0.7777777777777778,\"#fb9f3a\"],[0.8888888888888888,\"#fdca26\"],[1.0,\"#f0f921\"]],\"diverging\":[[0,\"#8e0152\"],[0.1,\"#c51b7d\"],[0.2,\"#de77ae\"],[0.3,\"#f1b6da\"],[0.4,\"#fde0ef\"],[0.5,\"#f7f7f7\"],[0.6,\"#e6f5d0\"],[0.7,\"#b8e186\"],[0.8,\"#7fbc41\"],[0.9,\"#4d9221\"],[1,\"#276419\"]]},\"xaxis\":{\"gridcolor\":\"#283442\",\"linecolor\":\"#506784\",\"ticks\":\"\",\"title\":{\"standoff\":15},\"zerolinecolor\":\"#283442\",\"automargin\":true,\"zerolinewidth\":2},\"yaxis\":{\"gridcolor\":\"#283442\",\"linecolor\":\"#506784\",\"ticks\":\"\",\"title\":{\"standoff\":15},\"zerolinecolor\":\"#283442\",\"automargin\":true,\"zerolinewidth\":2},\"scene\":{\"xaxis\":{\"backgroundcolor\":\"rgb(17,17,17)\",\"gridcolor\":\"#506784\",\"linecolor\":\"#506784\",\"showbackground\":true,\"ticks\":\"\",\"zerolinecolor\":\"#C8D4E3\",\"gridwidth\":2},\"yaxis\":{\"backgroundcolor\":\"rgb(17,17,17)\",\"gridcolor\":\"#506784\",\"linecolor\":\"#506784\",\"showbackground\":true,\"ticks\":\"\",\"zerolinecolor\":\"#C8D4E3\",\"gridwidth\":2},\"zaxis\":{\"backgroundcolor\":\"rgb(17,17,17)\",\"gridcolor\":\"#506784\",\"linecolor\":\"#506784\",\"showbackground\":true,\"ticks\":\"\",\"zerolinecolor\":\"#C8D4E3\",\"gridwidth\":2}},\"shapedefaults\":{\"line\":{\"color\":\"#f2f5fa\"}},\"annotationdefaults\":{\"arrowcolor\":\"#f2f5fa\",\"arrowhead\":0,\"arrowwidth\":1},\"geo\":{\"bgcolor\":\"rgb(17,17,17)\",\"landcolor\":\"rgb(17,17,17)\",\"subunitcolor\":\"#506784\",\"showland\":true,\"showlakes\":true,\"lakecolor\":\"rgb(17,17,17)\"},\"title\":{\"x\":0.05},\"updatemenudefaults\":{\"bgcolor\":\"#506784\",\"borderwidth\":0},\"sliderdefaults\":{\"bgcolor\":\"#C8D4E3\",\"borderwidth\":1,\"bordercolor\":\"rgb(17,17,17)\",\"tickwidth\":0},\"mapbox\":{\"style\":\"dark\"}}},\"xaxis\":{\"anchor\":\"y\",\"domain\":[0.0,1.0],\"title\":{\"text\":\"Year\"}},\"yaxis\":{\"anchor\":\"x\",\"domain\":[0.0,1.0],\"title\":{\"text\":\"value\"}},\"legend\":{\"title\":{\"text\":\"variable\"},\"tracegroupgap\":0},\"margin\":{\"t\":60}},                        {\"responsive\": true}                    ).then(function(){\n                            \nvar gd = document.getElementById('42a9564a-c7b0-470c-9edc-a9d5dfb5a206');\nvar x = new MutationObserver(function (mutations, observer) {{\n        var display = window.getComputedStyle(gd).display;\n        if (!display || display === 'none') {{\n            console.log([gd, 'removed!']);\n            Plotly.purge(gd);\n            observer.disconnect();\n        }}\n}});\n\n// Listen for the removal of the full notebook cells\nvar notebookContainer = gd.closest('#notebook-container');\nif (notebookContainer) {{\n    x.observe(notebookContainer, {childList: true});\n}}\n\n// Listen for the clearing of the current output cell\nvar outputEl = gd.closest('.output');\nif (outputEl) {{\n    x.observe(outputEl, {childList: true});\n}}\n\n                        })                };                });            </script>        </div>"
     },
     "metadata": {},
     "output_type": "display_data"
    }
   ],
   "source": [
    "\n",
    "fig = px.line(df_line, x=df_line.index, y=cols_to_normalize, markers=True, log_y=False)\n",
    "\n",
    "fig.show()"
   ],
   "metadata": {
    "collapsed": false,
    "ExecuteTime": {
     "end_time": "2023-10-30T12:31:26.106479700Z",
     "start_time": "2023-10-30T12:31:25.938206500Z"
    }
   },
   "id": "b2901b7d7bb5f069"
  }
 ],
 "metadata": {
  "kernelspec": {
   "display_name": "Python 3",
   "language": "python",
   "name": "python3"
  },
  "language_info": {
   "codemirror_mode": {
    "name": "ipython",
    "version": 2
   },
   "file_extension": ".py",
   "mimetype": "text/x-python",
   "name": "python",
   "nbconvert_exporter": "python",
   "pygments_lexer": "ipython2",
   "version": "2.7.6"
  }
 },
 "nbformat": 4,
 "nbformat_minor": 5
}
