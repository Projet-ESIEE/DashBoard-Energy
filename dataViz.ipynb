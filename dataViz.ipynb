{
 "cells": [
  {
   "cell_type": "code",
   "execution_count": null,
   "id": "initial_id",
   "metadata": {
    "ExecuteTime": {
     "end_time": "2023-10-18T06:51:53.152228900Z",
     "start_time": "2023-10-18T06:51:52.419874500Z"
    },
    "collapsed": true
   },
   "outputs": [],
   "source": [
    "import pandas as pd\n",
    "import geopandas as gpd\n",
    "import os\n",
    "import seaborn as sn\n",
    "import numpy as np\n",
    "#bimport folium\n",
    "import json\n",
    "import plotly.express as px\n",
    "import plotly.graph_objects as go\n",
    "from plotly.subplots import make_subplots\n"
   ]
  },
  {
   "cell_type": "code",
   "execution_count": null,
   "id": "6fcd51f6c05da5f1",
   "metadata": {
    "ExecuteTime": {
     "end_time": "2023-10-18T06:51:53.159003600Z",
     "start_time": "2023-10-18T06:51:53.157490100Z"
    },
    "collapsed": false
   },
   "outputs": [],
   "source": [
    "path_energy = os.path.join(\"dataset\", \"energy-cleaned-dataset.csv\")\n",
    "path_geodata = os.path.join(\"dataset\", \"world-administrative-boundaries.geojson\")\n",
    "categorical_columns = [\"Entity\",\"Continent\",\"Region\",\"iso3\"]"
   ]
  },
  {
   "cell_type": "code",
   "execution_count": null,
   "id": "f4de8b1095d835ff",
   "metadata": {
    "ExecuteTime": {
     "end_time": "2023-10-18T06:51:53.185623800Z",
     "start_time": "2023-10-18T06:51:53.159003600Z"
    },
    "collapsed": false
   },
   "outputs": [],
   "source": [
    "df_energy = pd.read_csv(path_energy)\n",
    "COUNTRY = \"Afghanistan\"\n",
    "template = \"plotly_dark\""
   ]
  },
  {
   "cell_type": "code",
   "execution_count": null,
   "id": "743c60dd022f1021",
   "metadata": {
    "ExecuteTime": {
     "end_time": "2023-10-18T06:51:54.180602800Z",
     "start_time": "2023-10-18T06:51:53.190632200Z"
    },
    "collapsed": false
   },
   "outputs": [],
   "source": [
    "\n",
    "data_na = df_energy.isna()\n",
    "nb_na = [df_energy[df_energy[\"Year\"] == year].isna().sum().sum() for year in df_energy[\"Year\"].unique()]\n",
    "fig_na = px.scatter(df_energy,\n",
    "                    x=df_energy[\"Year\"].unique(),\n",
    "                    y=nb_na,\n",
    "                    template=template,\n",
    "                    range_y=[0, 400]\n",
    "                    )\n",
    "fig_na.show()"
   ]
  },
  {
   "cell_type": "code",
   "execution_count": null,
   "id": "75a6b55cc745418f",
   "metadata": {
    "ExecuteTime": {
     "end_time": "2023-10-18T06:51:58.591393900Z",
     "start_time": "2023-10-18T06:51:54.180602800Z"
    },
    "collapsed": false
   },
   "outputs": [],
   "source": [
    "def getNaNumber(variable):\n",
    "    names = df_energy[\"Entity\"].unique()\n",
    "    value = np.array([df_energy[df_energy[\"Entity\"]==country][variable].isna().sum() for country in names])\n",
    "    no_data = value[(value == 21)].__len__()\n",
    "    valide_data = value[(value == 0)].__len__()\n",
    "    incomplete_data = names.__len__() - valide_data - no_data\n",
    "    return no_data, incomplete_data, valide_data\n",
    "\n",
    "values = [[],[],[],[]]\n",
    "for variable in df_energy.keys():\n",
    "    nd, id, vd = getNaNumber(variable)\n",
    "    values[0].append(variable)\n",
    "    values[1].append(nd)\n",
    "    values[2].append(id)\n",
    "    values[3].append(vd)\n",
    "\n",
    "# print(values)\n",
    "\n",
    "dic = { key : value for key, value in zip([\"Variable\",\"No data\", \"Incomplete data\", \"Valide data\"], values) }\n",
    "\n",
    "df_na = pd.DataFrame(dic)\n",
    "# print(df_na)\n",
    "\n",
    "df_na.sort_values(\"No data\", ascending=False, inplace=True)\n",
    "# print(df_na)\n",
    "\n",
    "for i, ligne in df_na[0:1].iterrows():\n",
    "    fig = px.pie(ligne,\n",
    "                names=ligne.index[1:],\n",
    "                values=ligne.values[1:],\n",
    "                title=ligne[\"Variable\"],\n",
    "                template=template,\n",
    "                # color_discrete_sequence=[\"green\",\"orange\",\"red\"],\n",
    "                color_discrete_map={\"No data\":\"rgb(255,0,0)\", \"Incomplete data\": \"orange\", \"Valide data\": \"green\"},\n",
    "                )\n",
    "    fig.show()"
   ]
  },
  {
   "cell_type": "markdown",
   "id": "b9518aa5dd456a91",
   "metadata": {
    "collapsed": false
   },
   "source": [
    "### Heatmap of missing values : \n",
    "The goal is to make a subplot of a Heatmap which indicate the number of nan for a given region or country and the number for a easier reading. \n",
    "\n",
    "We creat the needed dataset for the heatmap \n",
    "* on a country\n",
    "* with only the required values (all except the 'Year' and the 'Entity') present on other axis.\n",
    "* "
   ]
  },
  {
   "cell_type": "code",
   "execution_count": null,
   "id": "859161cdc4f05fdf",
   "metadata": {
    "ExecuteTime": {
     "end_time": "2023-10-18T06:51:58.598098Z",
     "start_time": "2023-10-18T06:51:58.597591Z"
    },
    "collapsed": false
   },
   "outputs": [],
   "source": [
    "col = df_energy.columns.tolist()\n",
    "col.remove('Year')\n",
    "col.remove('Entity')"
   ]
  },
  {
   "cell_type": "code",
   "execution_count": null,
   "id": "4ff757ca578738d1",
   "metadata": {
    "ExecuteTime": {
     "end_time": "2023-10-18T06:51:58.616547700Z",
     "start_time": "2023-10-18T06:51:58.598098Z"
    },
    "collapsed": false
   },
   "outputs": [],
   "source": [
    "df_heat = df_energy.query(f\"Entity == '{COUNTRY}'\")[col]    # créeation du df\n",
    "df_heat = df_heat.isna()\n",
    "NB_OF_NAN = df_heat.sum().sum()     # reférence de nan pour le pays donné\n",
    "RATIO_NAN = 1 # = int(df_energy.isna().sum().sum()/df_energy.size)  # reférence de nan au globale\n",
    "# TODO : vraiment 1 ? adapter la shape 21 != 19\n",
    "df_heat.replace({True: 1, False: 0}, inplace=True)      # We change the True to 1 because plotly can not interpret them"
   ]
  },
  {
   "cell_type": "markdown",
   "id": "cb10af3f338638ae",
   "metadata": {
    "collapsed": false
   },
   "source": [
    "We make the  subplot graph thanks to : \n",
    "1. [mixed sub-plot](https://plotly.com/python/mixed-subplots/) documentation\n",
    "2. [specs of subplot](https://plotly.com/python/subplots/#subplots-types) documentation"
   ]
  },
  {
   "cell_type": "code",
   "execution_count": null,
   "id": "3758f4004fee2a02",
   "metadata": {
    "ExecuteTime": {
     "end_time": "2023-10-18T06:51:58.835383200Z",
     "start_time": "2023-10-18T06:51:58.626809200Z"
    },
    "collapsed": false
   },
   "outputs": [],
   "source": [
    "heatmap = make_subplots(\n",
    "    rows=1, cols=2,     # 2 col bcs 2 graph\n",
    "    column_widths=[0.9, 0.2],\n",
    "    specs=[[{\"type\": \"xy\"}, {\"type\": \"domain\"}]],   \n",
    "    subplot_titles=(\"Heatmap des valeurs manquantes par année et par variable\", \"\")\n",
    ")\n",
    "\n",
    "# The heatmap\n",
    "heatmap.add_trace(\n",
    "    go.Heatmap(\n",
    "        z=df_heat,\n",
    "        x=df_energy['Year'],\n",
    "        y=col,\n",
    "        \n",
    "        # Styling\n",
    "        colorscale='Viridis', \n",
    "        colorbar=dict(\n",
    "            title=\"nombre\",\n",
    "            titleside=\"top\"\n",
    "        )\n",
    "    ),\n",
    "    # placement of the graph in 1st position\n",
    "    row=1, col=1\n",
    ")\n",
    "\n",
    "\n",
    "# The indicator \n",
    "heatmap.add_trace(\n",
    "    go.Indicator(\n",
    "        mode = \"number+delta\",  # 'delta' mean the % btw the value and a ref\n",
    "        value = NB_OF_NAN,      # nb of nan for the current country looked\n",
    "        delta = {'reference': RATIO_NAN, 'relative': True}, # RATIO_NAN in the nb of nan for all the dataset / nb of element in dataset\n",
    "        #TODO: Si il y a la possibilité d'afficher pour plusieurs pays => il faut que changer la référence pour avoir qq chose de proportionnelle \n",
    "        \n",
    "        # styling\n",
    "        title = {\"text\": \"Nb isnan<br>\"\n",
    "                         \"<span style='font-size:0.8em;color:gray'>\"\n",
    "                         \"% comparé à la moyenne</span>\"\n",
    "        }\n",
    "    ),\n",
    "    # placement of the graph in 2nd position\n",
    "    row=1, col=2\n",
    ")\n",
    "\n",
    "# styling \n",
    "heatmap.update_layout(\n",
    "    template=\"plotly_dark\",  # just a default theme\n",
    "    title_text=\"Observation des valeurs manquantes pour : \\'{}\\'\".format(COUNTRY),\n",
    ")\n",
    "\n",
    "heatmap.show()"
   ]
  },
  {
   "cell_type": "markdown",
   "metadata": {
    "collapsed": false
   },
   "source": [
    "### Heatmap of Correlation :"
   ]
  },
  {
   "cell_type": "code",
   "execution_count": null,
   "metadata": {
    "ExecuteTime": {
     "end_time": "2023-10-18T06:51:58.859746400Z",
     "start_time": "2023-10-18T06:51:58.811366500Z"
    },
    "collapsed": false
   },
   "outputs": [],
   "source": [
    "df_energy.head()"
   ]
  },
  {
   "cell_type": "code",
   "execution_count": null,
   "metadata": {
    "ExecuteTime": {
     "end_time": "2023-10-18T06:52:00.254142100Z",
     "start_time": "2023-10-18T06:51:58.852234300Z"
    },
    "collapsed": false
   },
   "outputs": [],
   "source": [
    "\n",
    "cor = df_energy.drop(columns=categorical_columns).corr()\n",
    "sn.heatmap(cor)"
   ]
  },
  {
   "cell_type": "markdown",
   "id": "aa0645b4648ba1b0",
   "metadata": {
    "collapsed": false
   },
   "source": [
    "### Easy map with go.Choropleth()"
   ]
  },
  {
   "cell_type": "code",
   "execution_count": null,
   "id": "76492aa6234ab077",
   "metadata": {
    "ExecuteTime": {
     "end_time": "2023-10-18T06:52:00.719177100Z",
     "start_time": "2023-10-18T06:52:00.254142100Z"
    },
    "collapsed": false
   },
   "outputs": [],
   "source": [
    "year = 2012\n",
    "column_name = \"Human Development Index\"\n",
    "\n",
    "fig = go.Figure()\n",
    "\n",
    "filtered_df = df_energy[df_energy['Year'] == year]\n",
    "\n",
    "\n",
    "trace = go.Choropleth(\n",
    "            locations=filtered_df['Entity'],\n",
    "            z=filtered_df[column_name],\n",
    "            locationmode='country names',\n",
    "            colorscale='viridis',  # Use a different color scale for better contrast\n",
    "            colorbar=dict(title=column_name),\n",
    "            zmin=df_energy[column_name].min(),\n",
    "            zmax=df_energy[column_name].max(),\n",
    ")\n",
    "\n",
    "fig.add_trace(trace)\n",
    "\n",
    "fig.update_layout(\n",
    "    title_text=f'{column_name} Map with slider',  # Set the initial title\n",
    "    title_font_size=24,  # Increase title font size\n",
    "    title_x=0.5,  # Center the title\n",
    "    height=800,  # Set the height of the figure in pixels\n",
    "    width=1000,  # Set the width of the figure in pixels\n",
    "    font=dict(family='Arial', size=12),  # Customize font family and size for the whole figure\n",
    "    margin=dict(t=80, l=50, r=50, b=50),  # Add margin for better layout spacing\n",
    "    # Change the template to 'plotly_dark'\n",
    ")\n",
    "\n",
    "\n",
    "fig.show()"
   ]
  },
  {
   "cell_type": "code",
   "execution_count": null,
   "metadata": {
    "ExecuteTime": {
     "end_time": "2023-10-18T06:52:05.241123100Z",
     "start_time": "2023-10-18T06:52:00.348272500Z"
    },
    "collapsed": false
   },
   "outputs": [],
   "source": [
    "geodata = gpd.read_file(path_geodata)"
   ]
  },
  {
   "cell_type": "code",
   "execution_count": null,
   "metadata": {
    "ExecuteTime": {
     "start_time": "2023-10-18T06:52:05.213453200Z"
    },
    "collapsed": false
   },
   "outputs": [],
   "source": [
    "# fig = px.choropleth(df_energy, geojson=geodata, locations='iso3',\n",
    "#                     locationmode=\"ISO-3\",\n",
    "#                     color='Human Development Index',\n",
    "#                     color_continuous_scale=\"Viridis\",\n",
    "#                     # range_color=(0, 1),\n",
    "#                     animation_frame = \"Year\"\n",
    "#                     )\n",
    "# fig.update_layout(margin={\"r\":0,\"t\":0,\"l\":0,\"b\":0})\n",
    "# fig.show()"
   ]
  }
 ],
 "metadata": {
  "kernelspec": {
   "display_name": "Python 3",
   "language": "python",
   "name": "python3"
  },
  "language_info": {
   "codemirror_mode": {
    "name": "ipython",
    "version": 3
   },
   "file_extension": ".py",
   "mimetype": "text/x-python",
   "name": "python",
   "nbconvert_exporter": "python",
   "pygments_lexer": "ipython3",
   "version": "3.11.2"
  }
 },
 "nbformat": 4,
 "nbformat_minor": 5
}
